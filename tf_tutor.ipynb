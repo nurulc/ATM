{
  "nbformat": 4,
  "nbformat_minor": 0,
  "metadata": {
    "colab": {
      "name": "tf-tutor.ipynb",
      "provenance": [],
      "collapsed_sections": [],
      "toc_visible": true,
      "mount_file_id": "1khniD3ToLJ8Cu1vfisUn--67Vz35fnqE",
      "authorship_tag": "ABX9TyNtQpmVLrKZ8AC1ZpMMqu6x",
      "include_colab_link": true
    },
    "kernelspec": {
      "name": "python3",
      "display_name": "Python 3"
    },
    "widgets": {
      "application/vnd.jupyter.widget-state+json": {
        "4772fdf9ecd64f43b0f2c46c229981eb": {
          "model_module": "@jupyter-widgets/controls",
          "model_name": "VBoxModel",
          "state": {
            "_view_name": "VBoxView",
            "_dom_classes": [
              "widget-interact"
            ],
            "_model_name": "VBoxModel",
            "_view_module": "@jupyter-widgets/controls",
            "_model_module_version": "1.5.0",
            "_view_count": null,
            "_view_module_version": "1.5.0",
            "box_style": "",
            "layout": "IPY_MODEL_1145c15159d64c8ca650cf8e9a672aee",
            "_model_module": "@jupyter-widgets/controls",
            "children": [
              "IPY_MODEL_d0f2a88321e24591ba91ebc62817446f",
              "IPY_MODEL_d7b881f447e14e2fb3fe0d94bc5136e7"
            ]
          }
        },
        "1145c15159d64c8ca650cf8e9a672aee": {
          "model_module": "@jupyter-widgets/base",
          "model_name": "LayoutModel",
          "state": {
            "_view_name": "LayoutView",
            "grid_template_rows": null,
            "right": null,
            "justify_content": null,
            "_view_module": "@jupyter-widgets/base",
            "overflow": null,
            "_model_module_version": "1.2.0",
            "_view_count": null,
            "flex_flow": null,
            "width": null,
            "min_width": null,
            "border": null,
            "align_items": null,
            "bottom": null,
            "_model_module": "@jupyter-widgets/base",
            "top": null,
            "grid_column": null,
            "overflow_y": null,
            "overflow_x": null,
            "grid_auto_flow": null,
            "grid_area": null,
            "grid_template_columns": null,
            "flex": null,
            "_model_name": "LayoutModel",
            "justify_items": null,
            "grid_row": null,
            "max_height": null,
            "align_content": null,
            "visibility": null,
            "align_self": null,
            "height": null,
            "min_height": null,
            "padding": null,
            "grid_auto_rows": null,
            "grid_gap": null,
            "max_width": null,
            "order": null,
            "_view_module_version": "1.2.0",
            "grid_template_areas": null,
            "object_position": null,
            "object_fit": null,
            "grid_auto_columns": null,
            "margin": null,
            "display": null,
            "left": null
          }
        },
        "d0f2a88321e24591ba91ebc62817446f": {
          "model_module": "@jupyter-widgets/controls",
          "model_name": "SelectModel",
          "state": {
            "_options_labels": [
              "CRIM",
              "ZN",
              "INDUS",
              "CHAS",
              "NOX",
              "RM",
              "AGE",
              "DIS",
              "RAD",
              "TAX",
              "PTRATIO",
              "B",
              "LSTAT",
              "MEDV"
            ],
            "_view_name": "SelectView",
            "style": "IPY_MODEL_3ce639c2b5c14cacab05cecc42b334fc",
            "rows": 5,
            "_dom_classes": [],
            "description": "Y Symbols",
            "_model_name": "SelectModel",
            "index": 13,
            "_view_module": "@jupyter-widgets/controls",
            "_model_module_version": "1.5.0",
            "_view_count": null,
            "disabled": false,
            "_view_module_version": "1.5.0",
            "description_tooltip": null,
            "_model_module": "@jupyter-widgets/controls",
            "layout": "IPY_MODEL_3338f8a3dad944cea77b5ba25dc1e90f"
          }
        },
        "d7b881f447e14e2fb3fe0d94bc5136e7": {
          "model_module": "@jupyter-widgets/output",
          "model_name": "OutputModel",
          "state": {
            "_view_name": "OutputView",
            "msg_id": "",
            "_dom_classes": [],
            "_model_name": "OutputModel",
            "outputs": [
              {
                "output_type": "stream",
                "metadata": {
                  "tags": []
                },
                "text": "MEDV\n",
                "stream": "stdout"
              },
              {
                "output_type": "display_data",
                "metadata": {
                  "tags": []
                },
                "application/vnd.jupyter.widget-view+json": {
                  "model_id": "1daa6419bf4644d898704284ba9a065f",
                  "version_minor": 0,
                  "version_major": 2
                },
                "text/plain": "interactive(children=(Select(description='X Symbols', layout=Layout(width='900'), options=('CRIM', 'ZN', 'INDU…"
              },
              {
                "output_type": "display_data",
                "metadata": {
                  "tags": []
                },
                "text/plain": "<function __main__.actionX>"
              }
            ],
            "_view_module": "@jupyter-widgets/output",
            "_model_module_version": "1.0.0",
            "_view_count": null,
            "_view_module_version": "1.0.0",
            "layout": "IPY_MODEL_a90fa74fe06d4f86b1bcdb593f586a18",
            "_model_module": "@jupyter-widgets/output"
          }
        },
        "3ce639c2b5c14cacab05cecc42b334fc": {
          "model_module": "@jupyter-widgets/controls",
          "model_name": "DescriptionStyleModel",
          "state": {
            "_view_name": "StyleView",
            "_model_name": "DescriptionStyleModel",
            "description_width": "",
            "_view_module": "@jupyter-widgets/base",
            "_model_module_version": "1.5.0",
            "_view_count": null,
            "_view_module_version": "1.2.0",
            "_model_module": "@jupyter-widgets/controls"
          }
        },
        "3338f8a3dad944cea77b5ba25dc1e90f": {
          "model_module": "@jupyter-widgets/base",
          "model_name": "LayoutModel",
          "state": {
            "_view_name": "LayoutView",
            "grid_template_rows": null,
            "right": null,
            "justify_content": null,
            "_view_module": "@jupyter-widgets/base",
            "overflow": null,
            "_model_module_version": "1.2.0",
            "_view_count": null,
            "flex_flow": null,
            "width": "900",
            "min_width": null,
            "border": null,
            "align_items": null,
            "bottom": null,
            "_model_module": "@jupyter-widgets/base",
            "top": null,
            "grid_column": null,
            "overflow_y": null,
            "overflow_x": null,
            "grid_auto_flow": null,
            "grid_area": null,
            "grid_template_columns": null,
            "flex": null,
            "_model_name": "LayoutModel",
            "justify_items": null,
            "grid_row": null,
            "max_height": null,
            "align_content": null,
            "visibility": null,
            "align_self": null,
            "height": null,
            "min_height": null,
            "padding": null,
            "grid_auto_rows": null,
            "grid_gap": null,
            "max_width": null,
            "order": null,
            "_view_module_version": "1.2.0",
            "grid_template_areas": null,
            "object_position": null,
            "object_fit": null,
            "grid_auto_columns": null,
            "margin": null,
            "display": null,
            "left": null
          }
        },
        "a90fa74fe06d4f86b1bcdb593f586a18": {
          "model_module": "@jupyter-widgets/base",
          "model_name": "LayoutModel",
          "state": {
            "_view_name": "LayoutView",
            "grid_template_rows": null,
            "right": null,
            "justify_content": null,
            "_view_module": "@jupyter-widgets/base",
            "overflow": null,
            "_model_module_version": "1.2.0",
            "_view_count": null,
            "flex_flow": null,
            "width": null,
            "min_width": null,
            "border": null,
            "align_items": null,
            "bottom": null,
            "_model_module": "@jupyter-widgets/base",
            "top": null,
            "grid_column": null,
            "overflow_y": null,
            "overflow_x": null,
            "grid_auto_flow": null,
            "grid_area": null,
            "grid_template_columns": null,
            "flex": null,
            "_model_name": "LayoutModel",
            "justify_items": null,
            "grid_row": null,
            "max_height": null,
            "align_content": null,
            "visibility": null,
            "align_self": null,
            "height": null,
            "min_height": null,
            "padding": null,
            "grid_auto_rows": null,
            "grid_gap": null,
            "max_width": null,
            "order": null,
            "_view_module_version": "1.2.0",
            "grid_template_areas": null,
            "object_position": null,
            "object_fit": null,
            "grid_auto_columns": null,
            "margin": null,
            "display": null,
            "left": null
          }
        },
        "1daa6419bf4644d898704284ba9a065f": {
          "model_module": "@jupyter-widgets/controls",
          "model_name": "VBoxModel",
          "state": {
            "_view_name": "VBoxView",
            "_dom_classes": [
              "widget-interact"
            ],
            "_model_name": "VBoxModel",
            "_view_module": "@jupyter-widgets/controls",
            "_model_module_version": "1.5.0",
            "_view_count": null,
            "_view_module_version": "1.5.0",
            "box_style": "",
            "layout": "IPY_MODEL_c37266d4b05242e3a50a0c0c473b3461",
            "_model_module": "@jupyter-widgets/controls",
            "children": [
              "IPY_MODEL_852ed2b71a794d69a4bca578dca49429",
              "IPY_MODEL_cbec71c236694a8e95501336da1b7cc3"
            ]
          }
        },
        "c37266d4b05242e3a50a0c0c473b3461": {
          "model_module": "@jupyter-widgets/base",
          "model_name": "LayoutModel",
          "state": {
            "_view_name": "LayoutView",
            "grid_template_rows": null,
            "right": null,
            "justify_content": null,
            "_view_module": "@jupyter-widgets/base",
            "overflow": null,
            "_model_module_version": "1.2.0",
            "_view_count": null,
            "flex_flow": null,
            "width": null,
            "min_width": null,
            "border": null,
            "align_items": null,
            "bottom": null,
            "_model_module": "@jupyter-widgets/base",
            "top": null,
            "grid_column": null,
            "overflow_y": null,
            "overflow_x": null,
            "grid_auto_flow": null,
            "grid_area": null,
            "grid_template_columns": null,
            "flex": null,
            "_model_name": "LayoutModel",
            "justify_items": null,
            "grid_row": null,
            "max_height": null,
            "align_content": null,
            "visibility": null,
            "align_self": null,
            "height": null,
            "min_height": null,
            "padding": null,
            "grid_auto_rows": null,
            "grid_gap": null,
            "max_width": null,
            "order": null,
            "_view_module_version": "1.2.0",
            "grid_template_areas": null,
            "object_position": null,
            "object_fit": null,
            "grid_auto_columns": null,
            "margin": null,
            "display": null,
            "left": null
          }
        },
        "852ed2b71a794d69a4bca578dca49429": {
          "model_module": "@jupyter-widgets/controls",
          "model_name": "SelectModel",
          "state": {
            "_options_labels": [
              "CRIM",
              "ZN",
              "INDUS",
              "CHAS",
              "NOX",
              "RM",
              "AGE",
              "DIS",
              "RAD",
              "TAX",
              "PTRATIO",
              "B",
              "LSTAT",
              "MEDV"
            ],
            "_view_name": "SelectView",
            "style": "IPY_MODEL_c6dd468c44334eef8438d302dc6842db",
            "rows": 5,
            "_dom_classes": [],
            "description": "X Symbols",
            "_model_name": "SelectModel",
            "index": 0,
            "_view_module": "@jupyter-widgets/controls",
            "_model_module_version": "1.5.0",
            "_view_count": null,
            "disabled": false,
            "_view_module_version": "1.5.0",
            "description_tooltip": null,
            "_model_module": "@jupyter-widgets/controls",
            "layout": "IPY_MODEL_89e8f7404ac14d498d5dce21e68fe1dd"
          }
        },
        "cbec71c236694a8e95501336da1b7cc3": {
          "model_module": "@jupyter-widgets/output",
          "model_name": "OutputModel",
          "state": {
            "_view_name": "OutputView",
            "msg_id": "",
            "_dom_classes": [],
            "_model_name": "OutputModel",
            "outputs": [
              {
                "output_type": "stream",
                "metadata": {
                  "tags": []
                },
                "text": "['CRIM', 'MEDV']\n",
                "stream": "stdout"
              },
              {
                "output_type": "display_data",
                "metadata": {
                  "tags": []
                },
                "text/plain": "alt.Chart(...)",
                "text/html": "\n<div id=\"altair-viz-029d53091a9b47e4841a0b1263c24186\"></div>\n<script type=\"text/javascript\">\n  (function(spec, embedOpt){\n    let outputDiv = document.currentScript.previousElementSibling;\n    if (outputDiv.id !== \"altair-viz-029d53091a9b47e4841a0b1263c24186\") {\n      outputDiv = document.getElementById(\"altair-viz-029d53091a9b47e4841a0b1263c24186\");\n    }\n    const paths = {\n      \"vega\": \"https://cdn.jsdelivr.net/npm//vega@5?noext\",\n      \"vega-lib\": \"https://cdn.jsdelivr.net/npm//vega-lib?noext\",\n      \"vega-lite\": \"https://cdn.jsdelivr.net/npm//vega-lite@4.8.1?noext\",\n      \"vega-embed\": \"https://cdn.jsdelivr.net/npm//vega-embed@6?noext\",\n    };\n\n    function loadScript(lib) {\n      return new Promise(function(resolve, reject) {\n        var s = document.createElement('script');\n        s.src = paths[lib];\n        s.async = true;\n        s.onload = () => resolve(paths[lib]);\n        s.onerror = () => reject(`Error loading script: ${paths[lib]}`);\n        document.getElementsByTagName(\"head\")[0].appendChild(s);\n      });\n    }\n\n    function showError(err) {\n      outputDiv.innerHTML = `<div class=\"error\" style=\"color:red;\">${err}</div>`;\n      throw err;\n    }\n\n    function displayChart(vegaEmbed) {\n      vegaEmbed(outputDiv, spec, embedOpt)\n        .catch(err => showError(`Javascript Error: ${err.message}<br>This usually means there's a typo in your chart specification. See the javascript console for the full traceback.`));\n    }\n\n    if(typeof define === \"function\" && define.amd) {\n      requirejs.config({paths});\n      require([\"vega-embed\"], displayChart, err => showError(`Error loading script: ${err.message}`));\n    } else if (typeof vegaEmbed === \"function\") {\n      displayChart(vegaEmbed);\n    } else {\n      loadScript(\"vega\")\n        .then(() => loadScript(\"vega-lite\"))\n        .then(() => loadScript(\"vega-embed\"))\n        .catch(showError)\n        .then(() => displayChart(vegaEmbed));\n    }\n  })({\"config\": {\"view\": {\"continuousWidth\": 400, \"continuousHeight\": 300}}, \"data\": {\"name\": \"data-3fe26e012dd3506009ca2cd337ecf459\"}, \"mark\": \"point\", \"encoding\": {\"x\": {\"type\": \"quantitative\", \"field\": \"CRIM\"}, \"y\": {\"type\": \"quantitative\", \"field\": \"MEDV\"}}, \"selection\": {\"selector001\": {\"type\": \"interval\", \"bind\": \"scales\", \"encodings\": [\"x\", \"y\"]}}, \"$schema\": \"https://vega.github.io/schema/vega-lite/v4.8.1.json\", \"datasets\": {\"data-3fe26e012dd3506009ca2cd337ecf459\": [{\"CRIM\": 0.00632, \"ZN\": 18.0, \"INDUS\": 2.31, \"CHAS\": 0, \"NOX\": 0.538, \"RM\": 6.575, \"AGE\": 65.2, \"DIS\": 4.09, \"RAD\": 1, \"TAX\": 296.0, \"PTRATIO\": 15.3, \"B\": 396.9, \"LSTAT\": 4.98, \"MEDV\": 24.0}, {\"CRIM\": 0.02731, \"ZN\": 0.0, \"INDUS\": 7.07, \"CHAS\": 0, \"NOX\": 0.469, \"RM\": 6.421, \"AGE\": 78.9, \"DIS\": 4.9671, \"RAD\": 2, \"TAX\": 242.0, \"PTRATIO\": 17.8, \"B\": 396.9, \"LSTAT\": 9.14, \"MEDV\": 21.6}, {\"CRIM\": 0.02729, \"ZN\": 0.0, \"INDUS\": 7.07, \"CHAS\": 0, \"NOX\": 0.469, \"RM\": 7.185, \"AGE\": 61.1, \"DIS\": 4.9671, \"RAD\": 2, \"TAX\": 242.0, \"PTRATIO\": 17.8, \"B\": 392.83, \"LSTAT\": 4.03, \"MEDV\": 34.7}, {\"CRIM\": 0.032369999999999996, \"ZN\": 0.0, \"INDUS\": 2.18, \"CHAS\": 0, \"NOX\": 0.458, \"RM\": 6.998, \"AGE\": 45.8, \"DIS\": 6.0622, \"RAD\": 3, \"TAX\": 222.0, \"PTRATIO\": 18.7, \"B\": 394.63, \"LSTAT\": 2.94, \"MEDV\": 33.4}, {\"CRIM\": 0.06905, \"ZN\": 0.0, \"INDUS\": 2.18, \"CHAS\": 0, \"NOX\": 0.458, \"RM\": 7.147, \"AGE\": 54.2, \"DIS\": 6.0622, \"RAD\": 3, \"TAX\": 222.0, \"PTRATIO\": 18.7, \"B\": 396.9, \"LSTAT\": 5.33, \"MEDV\": 36.2}, {\"CRIM\": 0.02985, \"ZN\": 0.0, \"INDUS\": 2.18, \"CHAS\": 0, \"NOX\": 0.458, \"RM\": 6.43, \"AGE\": 58.7, \"DIS\": 6.0622, \"RAD\": 3, \"TAX\": 222.0, \"PTRATIO\": 18.7, \"B\": 394.12, \"LSTAT\": 5.21, \"MEDV\": 28.7}, {\"CRIM\": 0.08829, \"ZN\": 12.5, \"INDUS\": 7.87, \"CHAS\": 0, \"NOX\": 0.524, \"RM\": 6.012, \"AGE\": 66.6, \"DIS\": 5.5605, \"RAD\": 5, \"TAX\": 311.0, \"PTRATIO\": 15.2, \"B\": 395.6, \"LSTAT\": 12.43, \"MEDV\": 22.9}, {\"CRIM\": 0.14455, \"ZN\": 12.5, \"INDUS\": 7.87, \"CHAS\": 0, \"NOX\": 0.524, \"RM\": 6.172, \"AGE\": 96.1, \"DIS\": 5.9505, \"RAD\": 5, \"TAX\": 311.0, \"PTRATIO\": 15.2, \"B\": 396.9, \"LSTAT\": 19.15, \"MEDV\": 27.1}, {\"CRIM\": 0.21124, \"ZN\": 12.5, \"INDUS\": 7.87, \"CHAS\": 0, \"NOX\": 0.524, \"RM\": 5.631, \"AGE\": 100.0, \"DIS\": 6.0821, \"RAD\": 5, \"TAX\": 311.0, \"PTRATIO\": 15.2, \"B\": 386.63, \"LSTAT\": 29.93, \"MEDV\": 16.5}, {\"CRIM\": 0.17004, \"ZN\": 12.5, \"INDUS\": 7.87, \"CHAS\": 0, \"NOX\": 0.524, \"RM\": 6.004, \"AGE\": 85.9, \"DIS\": 6.5921, \"RAD\": 5, \"TAX\": 311.0, \"PTRATIO\": 15.2, \"B\": 386.71, \"LSTAT\": 17.1, \"MEDV\": 18.9}, {\"CRIM\": 0.22489, \"ZN\": 12.5, \"INDUS\": 7.87, \"CHAS\": 0, \"NOX\": 0.524, \"RM\": 6.377, \"AGE\": 94.3, \"DIS\": 6.3467, \"RAD\": 5, \"TAX\": 311.0, \"PTRATIO\": 15.2, \"B\": 392.52, \"LSTAT\": 20.45, \"MEDV\": 15.0}, {\"CRIM\": 0.11747, \"ZN\": 12.5, \"INDUS\": 7.87, \"CHAS\": 0, \"NOX\": 0.524, \"RM\": 6.009, \"AGE\": 82.9, \"DIS\": 6.2267, \"RAD\": 5, \"TAX\": 311.0, \"PTRATIO\": 15.2, \"B\": 396.9, \"LSTAT\": 13.27, \"MEDV\": 18.9}, {\"CRIM\": 0.09378, \"ZN\": 12.5, \"INDUS\": 7.87, \"CHAS\": 0, \"NOX\": 0.524, \"RM\": 5.889, \"AGE\": 39.0, \"DIS\": 5.4509, \"RAD\": 5, \"TAX\": 311.0, \"PTRATIO\": 15.2, \"B\": 390.5, \"LSTAT\": 15.71, \"MEDV\": 21.7}, {\"CRIM\": 0.62976, \"ZN\": 0.0, \"INDUS\": 8.14, \"CHAS\": 0, \"NOX\": 0.538, \"RM\": 5.949, \"AGE\": 61.8, \"DIS\": 4.7075, \"RAD\": 4, \"TAX\": 307.0, \"PTRATIO\": 21.0, \"B\": 396.9, \"LSTAT\": 8.26, \"MEDV\": 20.4}, {\"CRIM\": 0.6379600000000001, \"ZN\": 0.0, \"INDUS\": 8.14, \"CHAS\": 0, \"NOX\": 0.538, \"RM\": 6.096, \"AGE\": 84.5, \"DIS\": 4.4619, \"RAD\": 4, \"TAX\": 307.0, \"PTRATIO\": 21.0, \"B\": 380.02, \"LSTAT\": 10.26, \"MEDV\": 18.2}, {\"CRIM\": 0.62739, \"ZN\": 0.0, \"INDUS\": 8.14, \"CHAS\": 0, \"NOX\": 0.538, \"RM\": 5.834, \"AGE\": 56.5, \"DIS\": 4.4986, \"RAD\": 4, \"TAX\": 307.0, \"PTRATIO\": 21.0, \"B\": 395.62, \"LSTAT\": 8.47, \"MEDV\": 19.9}, {\"CRIM\": 1.05393, \"ZN\": 0.0, \"INDUS\": 8.14, \"CHAS\": 0, \"NOX\": 0.538, \"RM\": 5.935, \"AGE\": 29.3, \"DIS\": 4.4986, \"RAD\": 4, \"TAX\": 307.0, \"PTRATIO\": 21.0, \"B\": 386.85, \"LSTAT\": 6.58, \"MEDV\": 23.1}, {\"CRIM\": 0.7842, \"ZN\": 0.0, \"INDUS\": 8.14, \"CHAS\": 0, \"NOX\": 0.538, \"RM\": 5.99, \"AGE\": 81.7, \"DIS\": 4.2579, \"RAD\": 4, \"TAX\": 307.0, \"PTRATIO\": 21.0, \"B\": 386.75, \"LSTAT\": 14.67, \"MEDV\": 17.5}, {\"CRIM\": 0.80271, \"ZN\": 0.0, \"INDUS\": 8.14, \"CHAS\": 0, \"NOX\": 0.538, \"RM\": 5.456, \"AGE\": 36.6, \"DIS\": 3.7965, \"RAD\": 4, \"TAX\": 307.0, \"PTRATIO\": 21.0, \"B\": 288.99, \"LSTAT\": 11.69, \"MEDV\": 20.2}, {\"CRIM\": 0.7258, \"ZN\": 0.0, \"INDUS\": 8.14, \"CHAS\": 0, \"NOX\": 0.538, \"RM\": 5.727, \"AGE\": 69.5, \"DIS\": 3.7965, \"RAD\": 4, \"TAX\": 307.0, \"PTRATIO\": 21.0, \"B\": 390.95, \"LSTAT\": 11.28, \"MEDV\": 18.2}, {\"CRIM\": 1.25179, \"ZN\": 0.0, \"INDUS\": 8.14, \"CHAS\": 0, \"NOX\": 0.538, \"RM\": 5.57, \"AGE\": 98.1, \"DIS\": 3.7979, \"RAD\": 4, \"TAX\": 307.0, \"PTRATIO\": 21.0, \"B\": 376.57, \"LSTAT\": 21.02, \"MEDV\": 13.6}, {\"CRIM\": 0.8520399999999999, \"ZN\": 0.0, \"INDUS\": 8.14, \"CHAS\": 0, \"NOX\": 0.538, \"RM\": 5.965, \"AGE\": 89.2, \"DIS\": 4.0123, \"RAD\": 4, \"TAX\": 307.0, \"PTRATIO\": 21.0, \"B\": 392.53, \"LSTAT\": 13.83, \"MEDV\": 19.6}, {\"CRIM\": 1.2324700000000002, \"ZN\": 0.0, \"INDUS\": 8.14, \"CHAS\": 0, \"NOX\": 0.538, \"RM\": 6.142, \"AGE\": 91.7, \"DIS\": 3.9769, \"RAD\": 4, \"TAX\": 307.0, \"PTRATIO\": 21.0, \"B\": 396.9, \"LSTAT\": 18.72, \"MEDV\": 15.2}, {\"CRIM\": 0.9884299999999999, \"ZN\": 0.0, \"INDUS\": 8.14, \"CHAS\": 0, \"NOX\": 0.538, \"RM\": 5.813, \"AGE\": 100.0, \"DIS\": 4.0952, \"RAD\": 4, \"TAX\": 307.0, \"PTRATIO\": 21.0, \"B\": 394.54, \"LSTAT\": 19.88, \"MEDV\": 14.5}, {\"CRIM\": 0.75026, \"ZN\": 0.0, \"INDUS\": 8.14, \"CHAS\": 0, \"NOX\": 0.538, \"RM\": 5.924, \"AGE\": 94.1, \"DIS\": 4.3996, \"RAD\": 4, \"TAX\": 307.0, \"PTRATIO\": 21.0, \"B\": 394.33, \"LSTAT\": 16.3, \"MEDV\": 15.6}, {\"CRIM\": 0.84054, \"ZN\": 0.0, \"INDUS\": 8.14, \"CHAS\": 0, \"NOX\": 0.538, \"RM\": 5.599, \"AGE\": 85.7, \"DIS\": 4.4546, \"RAD\": 4, \"TAX\": 307.0, \"PTRATIO\": 21.0, \"B\": 303.42, \"LSTAT\": 16.51, \"MEDV\": 13.9}, {\"CRIM\": 0.67191, \"ZN\": 0.0, \"INDUS\": 8.14, \"CHAS\": 0, \"NOX\": 0.538, \"RM\": 5.813, \"AGE\": 90.3, \"DIS\": 4.682, \"RAD\": 4, \"TAX\": 307.0, \"PTRATIO\": 21.0, \"B\": 376.88, \"LSTAT\": 14.81, \"MEDV\": 16.6}, {\"CRIM\": 0.9557700000000001, \"ZN\": 0.0, \"INDUS\": 8.14, \"CHAS\": 0, \"NOX\": 0.538, \"RM\": 6.047, \"AGE\": 88.8, \"DIS\": 4.4534, \"RAD\": 4, \"TAX\": 307.0, \"PTRATIO\": 21.0, \"B\": 306.38, \"LSTAT\": 17.28, \"MEDV\": 14.8}, {\"CRIM\": 0.77299, \"ZN\": 0.0, \"INDUS\": 8.14, \"CHAS\": 0, \"NOX\": 0.538, \"RM\": 6.495, \"AGE\": 94.4, \"DIS\": 4.4547, \"RAD\": 4, \"TAX\": 307.0, \"PTRATIO\": 21.0, \"B\": 387.94, \"LSTAT\": 12.8, \"MEDV\": 18.4}, {\"CRIM\": 1.00245, \"ZN\": 0.0, \"INDUS\": 8.14, \"CHAS\": 0, \"NOX\": 0.538, \"RM\": 6.674, \"AGE\": 87.3, \"DIS\": 4.239, \"RAD\": 4, \"TAX\": 307.0, \"PTRATIO\": 21.0, \"B\": 380.23, \"LSTAT\": 11.98, \"MEDV\": 21.0}, {\"CRIM\": 1.13081, \"ZN\": 0.0, \"INDUS\": 8.14, \"CHAS\": 0, \"NOX\": 0.538, \"RM\": 5.713, \"AGE\": 94.1, \"DIS\": 4.233, \"RAD\": 4, \"TAX\": 307.0, \"PTRATIO\": 21.0, \"B\": 360.17, \"LSTAT\": 22.6, \"MEDV\": 12.7}, {\"CRIM\": 1.3547200000000001, \"ZN\": 0.0, \"INDUS\": 8.14, \"CHAS\": 0, \"NOX\": 0.538, \"RM\": 6.072, \"AGE\": 100.0, \"DIS\": 4.175, \"RAD\": 4, \"TAX\": 307.0, \"PTRATIO\": 21.0, \"B\": 376.73, \"LSTAT\": 13.04, \"MEDV\": 14.5}, {\"CRIM\": 1.38799, \"ZN\": 0.0, \"INDUS\": 8.14, \"CHAS\": 0, \"NOX\": 0.538, \"RM\": 5.95, \"AGE\": 82.0, \"DIS\": 3.99, \"RAD\": 4, \"TAX\": 307.0, \"PTRATIO\": 21.0, \"B\": 232.6, \"LSTAT\": 27.71, \"MEDV\": 13.2}, {\"CRIM\": 1.15172, \"ZN\": 0.0, \"INDUS\": 8.14, \"CHAS\": 0, \"NOX\": 0.538, \"RM\": 5.701, \"AGE\": 95.0, \"DIS\": 3.7872, \"RAD\": 4, \"TAX\": 307.0, \"PTRATIO\": 21.0, \"B\": 358.77, \"LSTAT\": 18.35, \"MEDV\": 13.1}, {\"CRIM\": 1.6128200000000001, \"ZN\": 0.0, \"INDUS\": 8.14, \"CHAS\": 0, \"NOX\": 0.538, \"RM\": 6.096, \"AGE\": 96.9, \"DIS\": 3.7598, \"RAD\": 4, \"TAX\": 307.0, \"PTRATIO\": 21.0, \"B\": 248.31, \"LSTAT\": 20.34, \"MEDV\": 13.5}, {\"CRIM\": 0.06417, \"ZN\": 0.0, \"INDUS\": 5.96, \"CHAS\": 0, \"NOX\": 0.499, \"RM\": 5.933, \"AGE\": 68.2, \"DIS\": 3.3603, \"RAD\": 5, \"TAX\": 279.0, \"PTRATIO\": 19.2, \"B\": 396.9, \"LSTAT\": 9.68, \"MEDV\": 18.9}, {\"CRIM\": 0.09744, \"ZN\": 0.0, \"INDUS\": 5.96, \"CHAS\": 0, \"NOX\": 0.499, \"RM\": 5.841, \"AGE\": 61.4, \"DIS\": 3.3779, \"RAD\": 5, \"TAX\": 279.0, \"PTRATIO\": 19.2, \"B\": 377.56, \"LSTAT\": 11.41, \"MEDV\": 20.0}, {\"CRIM\": 0.08014, \"ZN\": 0.0, \"INDUS\": 5.96, \"CHAS\": 0, \"NOX\": 0.499, \"RM\": 5.85, \"AGE\": 41.5, \"DIS\": 3.9342, \"RAD\": 5, \"TAX\": 279.0, \"PTRATIO\": 19.2, \"B\": 396.9, \"LSTAT\": 8.77, \"MEDV\": 21.0}, {\"CRIM\": 0.17505, \"ZN\": 0.0, \"INDUS\": 5.96, \"CHAS\": 0, \"NOX\": 0.499, \"RM\": 5.966, \"AGE\": 30.2, \"DIS\": 3.8473, \"RAD\": 5, \"TAX\": 279.0, \"PTRATIO\": 19.2, \"B\": 393.43, \"LSTAT\": 10.13, \"MEDV\": 24.7}, {\"CRIM\": 0.027630000000000002, \"ZN\": 75.0, \"INDUS\": 2.95, \"CHAS\": 0, \"NOX\": 0.428, \"RM\": 6.595, \"AGE\": 21.8, \"DIS\": 5.4011, \"RAD\": 3, \"TAX\": 252.0, \"PTRATIO\": 18.3, \"B\": 395.63, \"LSTAT\": 4.32, \"MEDV\": 30.8}, {\"CRIM\": 0.033589999999999995, \"ZN\": 75.0, \"INDUS\": 2.95, \"CHAS\": 0, \"NOX\": 0.428, \"RM\": 7.024, \"AGE\": 15.8, \"DIS\": 5.4011, \"RAD\": 3, \"TAX\": 252.0, \"PTRATIO\": 18.3, \"B\": 395.62, \"LSTAT\": 1.98, \"MEDV\": 34.9}, {\"CRIM\": 0.12744, \"ZN\": 0.0, \"INDUS\": 6.91, \"CHAS\": 0, \"NOX\": 0.448, \"RM\": 6.77, \"AGE\": 2.9, \"DIS\": 5.7209, \"RAD\": 3, \"TAX\": 233.0, \"PTRATIO\": 17.9, \"B\": 385.41, \"LSTAT\": 4.84, \"MEDV\": 26.6}, {\"CRIM\": 0.1415, \"ZN\": 0.0, \"INDUS\": 6.91, \"CHAS\": 0, \"NOX\": 0.448, \"RM\": 6.169, \"AGE\": 6.6, \"DIS\": 5.7209, \"RAD\": 3, \"TAX\": 233.0, \"PTRATIO\": 17.9, \"B\": 383.37, \"LSTAT\": 5.81, \"MEDV\": 25.3}, {\"CRIM\": 0.15936, \"ZN\": 0.0, \"INDUS\": 6.91, \"CHAS\": 0, \"NOX\": 0.448, \"RM\": 6.211, \"AGE\": 6.5, \"DIS\": 5.7209, \"RAD\": 3, \"TAX\": 233.0, \"PTRATIO\": 17.9, \"B\": 394.46, \"LSTAT\": 7.44, \"MEDV\": 24.7}, {\"CRIM\": 0.12269000000000001, \"ZN\": 0.0, \"INDUS\": 6.91, \"CHAS\": 0, \"NOX\": 0.448, \"RM\": 6.069, \"AGE\": 40.0, \"DIS\": 5.7209, \"RAD\": 3, \"TAX\": 233.0, \"PTRATIO\": 17.9, \"B\": 389.39, \"LSTAT\": 9.55, \"MEDV\": 21.2}, {\"CRIM\": 0.17142000000000002, \"ZN\": 0.0, \"INDUS\": 6.91, \"CHAS\": 0, \"NOX\": 0.448, \"RM\": 5.682, \"AGE\": 33.8, \"DIS\": 5.1004, \"RAD\": 3, \"TAX\": 233.0, \"PTRATIO\": 17.9, \"B\": 396.9, \"LSTAT\": 10.21, \"MEDV\": 19.3}, {\"CRIM\": 0.18836, \"ZN\": 0.0, \"INDUS\": 6.91, \"CHAS\": 0, \"NOX\": 0.448, \"RM\": 5.786, \"AGE\": 33.3, \"DIS\": 5.1004, \"RAD\": 3, \"TAX\": 233.0, \"PTRATIO\": 17.9, \"B\": 396.9, \"LSTAT\": 14.15, \"MEDV\": 20.0}, {\"CRIM\": 0.22926999999999997, \"ZN\": 0.0, \"INDUS\": 6.91, \"CHAS\": 0, \"NOX\": 0.448, \"RM\": 6.03, \"AGE\": 85.5, \"DIS\": 5.6894, \"RAD\": 3, \"TAX\": 233.0, \"PTRATIO\": 17.9, \"B\": 392.74, \"LSTAT\": 18.8, \"MEDV\": 16.6}, {\"CRIM\": 0.25387, \"ZN\": 0.0, \"INDUS\": 6.91, \"CHAS\": 0, \"NOX\": 0.448, \"RM\": 5.399, \"AGE\": 95.3, \"DIS\": 5.87, \"RAD\": 3, \"TAX\": 233.0, \"PTRATIO\": 17.9, \"B\": 396.9, \"LSTAT\": 30.81, \"MEDV\": 14.4}, {\"CRIM\": 0.21977, \"ZN\": 0.0, \"INDUS\": 6.91, \"CHAS\": 0, \"NOX\": 0.448, \"RM\": 5.602, \"AGE\": 62.0, \"DIS\": 6.0877, \"RAD\": 3, \"TAX\": 233.0, \"PTRATIO\": 17.9, \"B\": 396.9, \"LSTAT\": 16.2, \"MEDV\": 19.4}, {\"CRIM\": 0.08872999999999999, \"ZN\": 21.0, \"INDUS\": 5.64, \"CHAS\": 0, \"NOX\": 0.439, \"RM\": 5.963, \"AGE\": 45.7, \"DIS\": 6.8147, \"RAD\": 4, \"TAX\": 243.0, \"PTRATIO\": 16.8, \"B\": 395.56, \"LSTAT\": 13.45, \"MEDV\": 19.7}, {\"CRIM\": 0.04337, \"ZN\": 21.0, \"INDUS\": 5.64, \"CHAS\": 0, \"NOX\": 0.439, \"RM\": 6.115, \"AGE\": 63.0, \"DIS\": 6.8147, \"RAD\": 4, \"TAX\": 243.0, \"PTRATIO\": 16.8, \"B\": 393.97, \"LSTAT\": 9.43, \"MEDV\": 20.5}, {\"CRIM\": 0.0536, \"ZN\": 21.0, \"INDUS\": 5.64, \"CHAS\": 0, \"NOX\": 0.439, \"RM\": 6.511, \"AGE\": 21.1, \"DIS\": 6.8147, \"RAD\": 4, \"TAX\": 243.0, \"PTRATIO\": 16.8, \"B\": 396.9, \"LSTAT\": 5.28, \"MEDV\": 25.0}, {\"CRIM\": 0.04981, \"ZN\": 21.0, \"INDUS\": 5.64, \"CHAS\": 0, \"NOX\": 0.439, \"RM\": 5.998, \"AGE\": 21.4, \"DIS\": 6.8147, \"RAD\": 4, \"TAX\": 243.0, \"PTRATIO\": 16.8, \"B\": 396.9, \"LSTAT\": 8.43, \"MEDV\": 23.4}, {\"CRIM\": 0.0136, \"ZN\": 75.0, \"INDUS\": 4.0, \"CHAS\": 0, \"NOX\": 0.41, \"RM\": 5.888, \"AGE\": 47.6, \"DIS\": 7.3197, \"RAD\": 3, \"TAX\": 469.0, \"PTRATIO\": 21.1, \"B\": 396.9, \"LSTAT\": 14.8, \"MEDV\": 18.9}, {\"CRIM\": 0.01311, \"ZN\": 90.0, \"INDUS\": 1.22, \"CHAS\": 0, \"NOX\": 0.403, \"RM\": 7.249, \"AGE\": 21.9, \"DIS\": 8.6966, \"RAD\": 5, \"TAX\": 226.0, \"PTRATIO\": 17.9, \"B\": 395.93, \"LSTAT\": 4.81, \"MEDV\": 35.4}, {\"CRIM\": 0.02055, \"ZN\": 85.0, \"INDUS\": 0.74, \"CHAS\": 0, \"NOX\": 0.41, \"RM\": 6.383, \"AGE\": 35.7, \"DIS\": 9.1876, \"RAD\": 2, \"TAX\": 313.0, \"PTRATIO\": 17.3, \"B\": 396.9, \"LSTAT\": 5.77, \"MEDV\": 24.7}, {\"CRIM\": 0.01432, \"ZN\": 100.0, \"INDUS\": 1.32, \"CHAS\": 0, \"NOX\": 0.411, \"RM\": 6.816, \"AGE\": 40.5, \"DIS\": 8.3248, \"RAD\": 5, \"TAX\": 256.0, \"PTRATIO\": 15.1, \"B\": 392.9, \"LSTAT\": 3.95, \"MEDV\": 31.6}, {\"CRIM\": 0.15445, \"ZN\": 25.0, \"INDUS\": 5.13, \"CHAS\": 0, \"NOX\": 0.453, \"RM\": 6.145, \"AGE\": 29.2, \"DIS\": 7.8148, \"RAD\": 8, \"TAX\": 284.0, \"PTRATIO\": 19.7, \"B\": 390.68, \"LSTAT\": 6.86, \"MEDV\": 23.3}, {\"CRIM\": 0.10328, \"ZN\": 25.0, \"INDUS\": 5.13, \"CHAS\": 0, \"NOX\": 0.453, \"RM\": 5.927, \"AGE\": 47.2, \"DIS\": 6.932, \"RAD\": 8, \"TAX\": 284.0, \"PTRATIO\": 19.7, \"B\": 396.9, \"LSTAT\": 9.22, \"MEDV\": 19.6}, {\"CRIM\": 0.14932, \"ZN\": 25.0, \"INDUS\": 5.13, \"CHAS\": 0, \"NOX\": 0.453, \"RM\": 5.741, \"AGE\": 66.2, \"DIS\": 7.2254, \"RAD\": 8, \"TAX\": 284.0, \"PTRATIO\": 19.7, \"B\": 395.11, \"LSTAT\": 13.15, \"MEDV\": 18.7}, {\"CRIM\": 0.17171, \"ZN\": 25.0, \"INDUS\": 5.13, \"CHAS\": 0, \"NOX\": 0.453, \"RM\": 5.966, \"AGE\": 93.4, \"DIS\": 6.8185, \"RAD\": 8, \"TAX\": 284.0, \"PTRATIO\": 19.7, \"B\": 378.08, \"LSTAT\": 14.44, \"MEDV\": 16.0}, {\"CRIM\": 0.11027, \"ZN\": 25.0, \"INDUS\": 5.13, \"CHAS\": 0, \"NOX\": 0.453, \"RM\": 6.456, \"AGE\": 67.8, \"DIS\": 7.2255, \"RAD\": 8, \"TAX\": 284.0, \"PTRATIO\": 19.7, \"B\": 396.9, \"LSTAT\": 6.73, \"MEDV\": 22.2}, {\"CRIM\": 0.1265, \"ZN\": 25.0, \"INDUS\": 5.13, \"CHAS\": 0, \"NOX\": 0.453, \"RM\": 6.762, \"AGE\": 43.4, \"DIS\": 7.9809, \"RAD\": 8, \"TAX\": 284.0, \"PTRATIO\": 19.7, \"B\": 395.58, \"LSTAT\": 9.5, \"MEDV\": 25.0}, {\"CRIM\": 0.01951, \"ZN\": 17.5, \"INDUS\": 1.38, \"CHAS\": 0, \"NOX\": 0.4161, \"RM\": 7.104, \"AGE\": 59.5, \"DIS\": 9.2229, \"RAD\": 3, \"TAX\": 216.0, \"PTRATIO\": 18.6, \"B\": 393.24, \"LSTAT\": 8.05, \"MEDV\": 33.0}, {\"CRIM\": 0.03584, \"ZN\": 80.0, \"INDUS\": 3.37, \"CHAS\": 0, \"NOX\": 0.398, \"RM\": 6.29, \"AGE\": 17.8, \"DIS\": 6.6115, \"RAD\": 4, \"TAX\": 337.0, \"PTRATIO\": 16.1, \"B\": 396.9, \"LSTAT\": 4.67, \"MEDV\": 23.5}, {\"CRIM\": 0.043789999999999996, \"ZN\": 80.0, \"INDUS\": 3.37, \"CHAS\": 0, \"NOX\": 0.398, \"RM\": 5.787, \"AGE\": 31.1, \"DIS\": 6.6115, \"RAD\": 4, \"TAX\": 337.0, \"PTRATIO\": 16.1, \"B\": 396.9, \"LSTAT\": 10.24, \"MEDV\": 19.4}, {\"CRIM\": 0.05789, \"ZN\": 12.5, \"INDUS\": 6.07, \"CHAS\": 0, \"NOX\": 0.409, \"RM\": 5.878, \"AGE\": 21.4, \"DIS\": 6.498, \"RAD\": 4, \"TAX\": 345.0, \"PTRATIO\": 18.9, \"B\": 396.21, \"LSTAT\": 8.1, \"MEDV\": 22.0}, {\"CRIM\": 0.13554000000000002, \"ZN\": 12.5, \"INDUS\": 6.07, \"CHAS\": 0, \"NOX\": 0.409, \"RM\": 5.594, \"AGE\": 36.8, \"DIS\": 6.498, \"RAD\": 4, \"TAX\": 345.0, \"PTRATIO\": 18.9, \"B\": 396.9, \"LSTAT\": 13.09, \"MEDV\": 17.4}, {\"CRIM\": 0.12816, \"ZN\": 12.5, \"INDUS\": 6.07, \"CHAS\": 0, \"NOX\": 0.409, \"RM\": 5.885, \"AGE\": 33.0, \"DIS\": 6.498, \"RAD\": 4, \"TAX\": 345.0, \"PTRATIO\": 18.9, \"B\": 396.9, \"LSTAT\": 8.79, \"MEDV\": 20.9}, {\"CRIM\": 0.08826, \"ZN\": 0.0, \"INDUS\": 10.81, \"CHAS\": 0, \"NOX\": 0.413, \"RM\": 6.417, \"AGE\": 6.6, \"DIS\": 5.2873, \"RAD\": 4, \"TAX\": 305.0, \"PTRATIO\": 19.2, \"B\": 383.73, \"LSTAT\": 6.72, \"MEDV\": 24.2}, {\"CRIM\": 0.15875999999999998, \"ZN\": 0.0, \"INDUS\": 10.81, \"CHAS\": 0, \"NOX\": 0.413, \"RM\": 5.961, \"AGE\": 17.5, \"DIS\": 5.2873, \"RAD\": 4, \"TAX\": 305.0, \"PTRATIO\": 19.2, \"B\": 376.94, \"LSTAT\": 9.88, \"MEDV\": 21.7}, {\"CRIM\": 0.09164, \"ZN\": 0.0, \"INDUS\": 10.81, \"CHAS\": 0, \"NOX\": 0.413, \"RM\": 6.065, \"AGE\": 7.8, \"DIS\": 5.2873, \"RAD\": 4, \"TAX\": 305.0, \"PTRATIO\": 19.2, \"B\": 390.91, \"LSTAT\": 5.52, \"MEDV\": 22.8}, {\"CRIM\": 0.19539, \"ZN\": 0.0, \"INDUS\": 10.81, \"CHAS\": 0, \"NOX\": 0.413, \"RM\": 6.245, \"AGE\": 6.2, \"DIS\": 5.2873, \"RAD\": 4, \"TAX\": 305.0, \"PTRATIO\": 19.2, \"B\": 377.17, \"LSTAT\": 7.54, \"MEDV\": 23.4}, {\"CRIM\": 0.07896, \"ZN\": 0.0, \"INDUS\": 12.83, \"CHAS\": 0, \"NOX\": 0.437, \"RM\": 6.273, \"AGE\": 6.0, \"DIS\": 4.2515, \"RAD\": 5, \"TAX\": 398.0, \"PTRATIO\": 18.7, \"B\": 394.92, \"LSTAT\": 6.78, \"MEDV\": 24.1}, {\"CRIM\": 0.09512000000000001, \"ZN\": 0.0, \"INDUS\": 12.83, \"CHAS\": 0, \"NOX\": 0.437, \"RM\": 6.286, \"AGE\": 45.0, \"DIS\": 4.5026, \"RAD\": 5, \"TAX\": 398.0, \"PTRATIO\": 18.7, \"B\": 383.23, \"LSTAT\": 8.94, \"MEDV\": 21.4}, {\"CRIM\": 0.10153, \"ZN\": 0.0, \"INDUS\": 12.83, \"CHAS\": 0, \"NOX\": 0.437, \"RM\": 6.279, \"AGE\": 74.5, \"DIS\": 4.0522, \"RAD\": 5, \"TAX\": 398.0, \"PTRATIO\": 18.7, \"B\": 373.66, \"LSTAT\": 11.97, \"MEDV\": 20.0}, {\"CRIM\": 0.08707000000000001, \"ZN\": 0.0, \"INDUS\": 12.83, \"CHAS\": 0, \"NOX\": 0.437, \"RM\": 6.14, \"AGE\": 45.8, \"DIS\": 4.0905, \"RAD\": 5, \"TAX\": 398.0, \"PTRATIO\": 18.7, \"B\": 386.96, \"LSTAT\": 10.27, \"MEDV\": 20.8}, {\"CRIM\": 0.05646, \"ZN\": 0.0, \"INDUS\": 12.83, \"CHAS\": 0, \"NOX\": 0.437, \"RM\": 6.232, \"AGE\": 53.7, \"DIS\": 5.0141, \"RAD\": 5, \"TAX\": 398.0, \"PTRATIO\": 18.7, \"B\": 386.4, \"LSTAT\": 12.34, \"MEDV\": 21.2}, {\"CRIM\": 0.08387, \"ZN\": 0.0, \"INDUS\": 12.83, \"CHAS\": 0, \"NOX\": 0.437, \"RM\": 5.874, \"AGE\": 36.6, \"DIS\": 4.5026, \"RAD\": 5, \"TAX\": 398.0, \"PTRATIO\": 18.7, \"B\": 396.06, \"LSTAT\": 9.1, \"MEDV\": 20.3}, {\"CRIM\": 0.04113, \"ZN\": 25.0, \"INDUS\": 4.86, \"CHAS\": 0, \"NOX\": 0.426, \"RM\": 6.727, \"AGE\": 33.5, \"DIS\": 5.4007, \"RAD\": 4, \"TAX\": 281.0, \"PTRATIO\": 19.0, \"B\": 396.9, \"LSTAT\": 5.29, \"MEDV\": 28.0}, {\"CRIM\": 0.04462, \"ZN\": 25.0, \"INDUS\": 4.86, \"CHAS\": 0, \"NOX\": 0.426, \"RM\": 6.619, \"AGE\": 70.4, \"DIS\": 5.4007, \"RAD\": 4, \"TAX\": 281.0, \"PTRATIO\": 19.0, \"B\": 395.63, \"LSTAT\": 7.22, \"MEDV\": 23.9}, {\"CRIM\": 0.03659, \"ZN\": 25.0, \"INDUS\": 4.86, \"CHAS\": 0, \"NOX\": 0.426, \"RM\": 6.302, \"AGE\": 32.2, \"DIS\": 5.4007, \"RAD\": 4, \"TAX\": 281.0, \"PTRATIO\": 19.0, \"B\": 396.9, \"LSTAT\": 6.72, \"MEDV\": 24.8}, {\"CRIM\": 0.03551, \"ZN\": 25.0, \"INDUS\": 4.86, \"CHAS\": 0, \"NOX\": 0.426, \"RM\": 6.167, \"AGE\": 46.7, \"DIS\": 5.4007, \"RAD\": 4, \"TAX\": 281.0, \"PTRATIO\": 19.0, \"B\": 390.64, \"LSTAT\": 7.51, \"MEDV\": 22.9}, {\"CRIM\": 0.050589999999999996, \"ZN\": 0.0, \"INDUS\": 4.49, \"CHAS\": 0, \"NOX\": 0.449, \"RM\": 6.389, \"AGE\": 48.0, \"DIS\": 4.7794, \"RAD\": 3, \"TAX\": 247.0, \"PTRATIO\": 18.5, \"B\": 396.9, \"LSTAT\": 9.62, \"MEDV\": 23.9}, {\"CRIM\": 0.05735, \"ZN\": 0.0, \"INDUS\": 4.49, \"CHAS\": 0, \"NOX\": 0.449, \"RM\": 6.63, \"AGE\": 56.1, \"DIS\": 4.4377, \"RAD\": 3, \"TAX\": 247.0, \"PTRATIO\": 18.5, \"B\": 392.3, \"LSTAT\": 6.53, \"MEDV\": 26.6}, {\"CRIM\": 0.051879999999999996, \"ZN\": 0.0, \"INDUS\": 4.49, \"CHAS\": 0, \"NOX\": 0.449, \"RM\": 6.015, \"AGE\": 45.1, \"DIS\": 4.4272, \"RAD\": 3, \"TAX\": 247.0, \"PTRATIO\": 18.5, \"B\": 395.99, \"LSTAT\": 12.86, \"MEDV\": 22.5}, {\"CRIM\": 0.07151, \"ZN\": 0.0, \"INDUS\": 4.49, \"CHAS\": 0, \"NOX\": 0.449, \"RM\": 6.121, \"AGE\": 56.8, \"DIS\": 3.7476, \"RAD\": 3, \"TAX\": 247.0, \"PTRATIO\": 18.5, \"B\": 395.15, \"LSTAT\": 8.44, \"MEDV\": 22.2}, {\"CRIM\": 0.0566, \"ZN\": 0.0, \"INDUS\": 3.41, \"CHAS\": 0, \"NOX\": 0.489, \"RM\": 7.007, \"AGE\": 86.3, \"DIS\": 3.4217, \"RAD\": 2, \"TAX\": 270.0, \"PTRATIO\": 17.8, \"B\": 396.9, \"LSTAT\": 5.5, \"MEDV\": 23.6}, {\"CRIM\": 0.053020000000000005, \"ZN\": 0.0, \"INDUS\": 3.41, \"CHAS\": 0, \"NOX\": 0.489, \"RM\": 7.079, \"AGE\": 63.1, \"DIS\": 3.4145, \"RAD\": 2, \"TAX\": 270.0, \"PTRATIO\": 17.8, \"B\": 396.06, \"LSTAT\": 5.7, \"MEDV\": 28.7}, {\"CRIM\": 0.04684, \"ZN\": 0.0, \"INDUS\": 3.41, \"CHAS\": 0, \"NOX\": 0.489, \"RM\": 6.417, \"AGE\": 66.1, \"DIS\": 3.0923, \"RAD\": 2, \"TAX\": 270.0, \"PTRATIO\": 17.8, \"B\": 392.18, \"LSTAT\": 8.81, \"MEDV\": 22.6}, {\"CRIM\": 0.03932, \"ZN\": 0.0, \"INDUS\": 3.41, \"CHAS\": 0, \"NOX\": 0.489, \"RM\": 6.405, \"AGE\": 73.9, \"DIS\": 3.0921, \"RAD\": 2, \"TAX\": 270.0, \"PTRATIO\": 17.8, \"B\": 393.55, \"LSTAT\": 8.2, \"MEDV\": 22.0}, {\"CRIM\": 0.04203, \"ZN\": 28.0, \"INDUS\": 15.04, \"CHAS\": 0, \"NOX\": 0.464, \"RM\": 6.442, \"AGE\": 53.6, \"DIS\": 3.6659, \"RAD\": 4, \"TAX\": 270.0, \"PTRATIO\": 18.2, \"B\": 395.01, \"LSTAT\": 8.16, \"MEDV\": 22.9}, {\"CRIM\": 0.02875, \"ZN\": 28.0, \"INDUS\": 15.04, \"CHAS\": 0, \"NOX\": 0.464, \"RM\": 6.211, \"AGE\": 28.9, \"DIS\": 3.6659, \"RAD\": 4, \"TAX\": 270.0, \"PTRATIO\": 18.2, \"B\": 396.33, \"LSTAT\": 6.21, \"MEDV\": 25.0}, {\"CRIM\": 0.04294, \"ZN\": 28.0, \"INDUS\": 15.04, \"CHAS\": 0, \"NOX\": 0.464, \"RM\": 6.249, \"AGE\": 77.3, \"DIS\": 3.615, \"RAD\": 4, \"TAX\": 270.0, \"PTRATIO\": 18.2, \"B\": 396.9, \"LSTAT\": 10.59, \"MEDV\": 20.6}, {\"CRIM\": 0.12204000000000001, \"ZN\": 0.0, \"INDUS\": 2.89, \"CHAS\": 0, \"NOX\": 0.445, \"RM\": 6.625, \"AGE\": 57.8, \"DIS\": 3.4952, \"RAD\": 2, \"TAX\": 276.0, \"PTRATIO\": 18.0, \"B\": 357.98, \"LSTAT\": 6.65, \"MEDV\": 28.4}, {\"CRIM\": 0.11504, \"ZN\": 0.0, \"INDUS\": 2.89, \"CHAS\": 0, \"NOX\": 0.445, \"RM\": 6.163, \"AGE\": 69.6, \"DIS\": 3.4952, \"RAD\": 2, \"TAX\": 276.0, \"PTRATIO\": 18.0, \"B\": 391.83, \"LSTAT\": 11.34, \"MEDV\": 21.4}, {\"CRIM\": 0.12082999999999999, \"ZN\": 0.0, \"INDUS\": 2.89, \"CHAS\": 0, \"NOX\": 0.445, \"RM\": 8.069, \"AGE\": 76.0, \"DIS\": 3.4952, \"RAD\": 2, \"TAX\": 276.0, \"PTRATIO\": 18.0, \"B\": 396.9, \"LSTAT\": 4.21, \"MEDV\": 38.7}, {\"CRIM\": 0.08187, \"ZN\": 0.0, \"INDUS\": 2.89, \"CHAS\": 0, \"NOX\": 0.445, \"RM\": 7.82, \"AGE\": 36.9, \"DIS\": 3.4952, \"RAD\": 2, \"TAX\": 276.0, \"PTRATIO\": 18.0, \"B\": 393.53, \"LSTAT\": 3.57, \"MEDV\": 43.8}, {\"CRIM\": 0.0686, \"ZN\": 0.0, \"INDUS\": 2.89, \"CHAS\": 0, \"NOX\": 0.445, \"RM\": 7.416, \"AGE\": 62.5, \"DIS\": 3.4952, \"RAD\": 2, \"TAX\": 276.0, \"PTRATIO\": 18.0, \"B\": 396.9, \"LSTAT\": 6.19, \"MEDV\": 33.2}, {\"CRIM\": 0.14866, \"ZN\": 0.0, \"INDUS\": 8.56, \"CHAS\": 0, \"NOX\": 0.52, \"RM\": 6.727, \"AGE\": 79.9, \"DIS\": 2.7778, \"RAD\": 5, \"TAX\": 384.0, \"PTRATIO\": 20.9, \"B\": 394.76, \"LSTAT\": 9.42, \"MEDV\": 27.5}, {\"CRIM\": 0.11432, \"ZN\": 0.0, \"INDUS\": 8.56, \"CHAS\": 0, \"NOX\": 0.52, \"RM\": 6.781, \"AGE\": 71.3, \"DIS\": 2.8561, \"RAD\": 5, \"TAX\": 384.0, \"PTRATIO\": 20.9, \"B\": 395.58, \"LSTAT\": 7.67, \"MEDV\": 26.5}, {\"CRIM\": 0.22876, \"ZN\": 0.0, \"INDUS\": 8.56, \"CHAS\": 0, \"NOX\": 0.52, \"RM\": 6.405, \"AGE\": 85.4, \"DIS\": 2.7147, \"RAD\": 5, \"TAX\": 384.0, \"PTRATIO\": 20.9, \"B\": 70.8, \"LSTAT\": 10.63, \"MEDV\": 18.6}, {\"CRIM\": 0.21161, \"ZN\": 0.0, \"INDUS\": 8.56, \"CHAS\": 0, \"NOX\": 0.52, \"RM\": 6.137, \"AGE\": 87.4, \"DIS\": 2.7147, \"RAD\": 5, \"TAX\": 384.0, \"PTRATIO\": 20.9, \"B\": 394.47, \"LSTAT\": 13.44, \"MEDV\": 19.3}, {\"CRIM\": 0.1396, \"ZN\": 0.0, \"INDUS\": 8.56, \"CHAS\": 0, \"NOX\": 0.52, \"RM\": 6.167, \"AGE\": 90.0, \"DIS\": 2.421, \"RAD\": 5, \"TAX\": 384.0, \"PTRATIO\": 20.9, \"B\": 392.69, \"LSTAT\": 12.33, \"MEDV\": 20.1}, {\"CRIM\": 0.13262000000000002, \"ZN\": 0.0, \"INDUS\": 8.56, \"CHAS\": 0, \"NOX\": 0.52, \"RM\": 5.851, \"AGE\": 96.7, \"DIS\": 2.1069, \"RAD\": 5, \"TAX\": 384.0, \"PTRATIO\": 20.9, \"B\": 394.05, \"LSTAT\": 16.47, \"MEDV\": 19.5}, {\"CRIM\": 0.1712, \"ZN\": 0.0, \"INDUS\": 8.56, \"CHAS\": 0, \"NOX\": 0.52, \"RM\": 5.836, \"AGE\": 91.9, \"DIS\": 2.211, \"RAD\": 5, \"TAX\": 384.0, \"PTRATIO\": 20.9, \"B\": 395.67, \"LSTAT\": 18.66, \"MEDV\": 19.5}, {\"CRIM\": 0.13117, \"ZN\": 0.0, \"INDUS\": 8.56, \"CHAS\": 0, \"NOX\": 0.52, \"RM\": 6.127, \"AGE\": 85.2, \"DIS\": 2.1224, \"RAD\": 5, \"TAX\": 384.0, \"PTRATIO\": 20.9, \"B\": 387.69, \"LSTAT\": 14.09, \"MEDV\": 20.4}, {\"CRIM\": 0.12802, \"ZN\": 0.0, \"INDUS\": 8.56, \"CHAS\": 0, \"NOX\": 0.52, \"RM\": 6.474, \"AGE\": 97.1, \"DIS\": 2.4329, \"RAD\": 5, \"TAX\": 384.0, \"PTRATIO\": 20.9, \"B\": 395.24, \"LSTAT\": 12.27, \"MEDV\": 19.8}, {\"CRIM\": 0.26363000000000003, \"ZN\": 0.0, \"INDUS\": 8.56, \"CHAS\": 0, \"NOX\": 0.52, \"RM\": 6.229, \"AGE\": 91.2, \"DIS\": 2.5451, \"RAD\": 5, \"TAX\": 384.0, \"PTRATIO\": 20.9, \"B\": 391.23, \"LSTAT\": 15.55, \"MEDV\": 19.4}, {\"CRIM\": 0.10793, \"ZN\": 0.0, \"INDUS\": 8.56, \"CHAS\": 0, \"NOX\": 0.52, \"RM\": 6.195, \"AGE\": 54.4, \"DIS\": 2.7778, \"RAD\": 5, \"TAX\": 384.0, \"PTRATIO\": 20.9, \"B\": 393.49, \"LSTAT\": 13.0, \"MEDV\": 21.7}, {\"CRIM\": 0.10084, \"ZN\": 0.0, \"INDUS\": 10.01, \"CHAS\": 0, \"NOX\": 0.547, \"RM\": 6.715, \"AGE\": 81.6, \"DIS\": 2.6775, \"RAD\": 6, \"TAX\": 432.0, \"PTRATIO\": 17.8, \"B\": 395.59, \"LSTAT\": 10.16, \"MEDV\": 22.8}, {\"CRIM\": 0.12329000000000001, \"ZN\": 0.0, \"INDUS\": 10.01, \"CHAS\": 0, \"NOX\": 0.547, \"RM\": 5.913, \"AGE\": 92.9, \"DIS\": 2.3534, \"RAD\": 6, \"TAX\": 432.0, \"PTRATIO\": 17.8, \"B\": 394.95, \"LSTAT\": 16.21, \"MEDV\": 18.8}, {\"CRIM\": 0.22211999999999998, \"ZN\": 0.0, \"INDUS\": 10.01, \"CHAS\": 0, \"NOX\": 0.547, \"RM\": 6.092, \"AGE\": 95.4, \"DIS\": 2.548, \"RAD\": 6, \"TAX\": 432.0, \"PTRATIO\": 17.8, \"B\": 396.9, \"LSTAT\": 17.09, \"MEDV\": 18.7}, {\"CRIM\": 0.14231, \"ZN\": 0.0, \"INDUS\": 10.01, \"CHAS\": 0, \"NOX\": 0.547, \"RM\": 6.254, \"AGE\": 84.2, \"DIS\": 2.2565, \"RAD\": 6, \"TAX\": 432.0, \"PTRATIO\": 17.8, \"B\": 388.74, \"LSTAT\": 10.45, \"MEDV\": 18.5}, {\"CRIM\": 0.17134000000000002, \"ZN\": 0.0, \"INDUS\": 10.01, \"CHAS\": 0, \"NOX\": 0.547, \"RM\": 5.928, \"AGE\": 88.2, \"DIS\": 2.4631, \"RAD\": 6, \"TAX\": 432.0, \"PTRATIO\": 17.8, \"B\": 344.91, \"LSTAT\": 15.76, \"MEDV\": 18.3}, {\"CRIM\": 0.13158, \"ZN\": 0.0, \"INDUS\": 10.01, \"CHAS\": 0, \"NOX\": 0.547, \"RM\": 6.176, \"AGE\": 72.5, \"DIS\": 2.7301, \"RAD\": 6, \"TAX\": 432.0, \"PTRATIO\": 17.8, \"B\": 393.3, \"LSTAT\": 12.04, \"MEDV\": 21.2}, {\"CRIM\": 0.15098, \"ZN\": 0.0, \"INDUS\": 10.01, \"CHAS\": 0, \"NOX\": 0.547, \"RM\": 6.021, \"AGE\": 82.6, \"DIS\": 2.7474, \"RAD\": 6, \"TAX\": 432.0, \"PTRATIO\": 17.8, \"B\": 394.51, \"LSTAT\": 10.3, \"MEDV\": 19.2}, {\"CRIM\": 0.13058, \"ZN\": 0.0, \"INDUS\": 10.01, \"CHAS\": 0, \"NOX\": 0.547, \"RM\": 5.872, \"AGE\": 73.1, \"DIS\": 2.4775, \"RAD\": 6, \"TAX\": 432.0, \"PTRATIO\": 17.8, \"B\": 338.63, \"LSTAT\": 15.37, \"MEDV\": 20.4}, {\"CRIM\": 0.14476, \"ZN\": 0.0, \"INDUS\": 10.01, \"CHAS\": 0, \"NOX\": 0.547, \"RM\": 5.731, \"AGE\": 65.2, \"DIS\": 2.7592, \"RAD\": 6, \"TAX\": 432.0, \"PTRATIO\": 17.8, \"B\": 391.5, \"LSTAT\": 13.61, \"MEDV\": 19.3}, {\"CRIM\": 0.06899, \"ZN\": 0.0, \"INDUS\": 25.65, \"CHAS\": 0, \"NOX\": 0.581, \"RM\": 5.87, \"AGE\": 69.7, \"DIS\": 2.2577, \"RAD\": 2, \"TAX\": 188.0, \"PTRATIO\": 19.1, \"B\": 389.15, \"LSTAT\": 14.37, \"MEDV\": 22.0}, {\"CRIM\": 0.07165, \"ZN\": 0.0, \"INDUS\": 25.65, \"CHAS\": 0, \"NOX\": 0.581, \"RM\": 6.004, \"AGE\": 84.1, \"DIS\": 2.1974, \"RAD\": 2, \"TAX\": 188.0, \"PTRATIO\": 19.1, \"B\": 377.67, \"LSTAT\": 14.27, \"MEDV\": 20.3}, {\"CRIM\": 0.09299, \"ZN\": 0.0, \"INDUS\": 25.65, \"CHAS\": 0, \"NOX\": 0.581, \"RM\": 5.961, \"AGE\": 92.9, \"DIS\": 2.0869, \"RAD\": 2, \"TAX\": 188.0, \"PTRATIO\": 19.1, \"B\": 378.09, \"LSTAT\": 17.93, \"MEDV\": 20.5}, {\"CRIM\": 0.15037999999999999, \"ZN\": 0.0, \"INDUS\": 25.65, \"CHAS\": 0, \"NOX\": 0.581, \"RM\": 5.856, \"AGE\": 97.0, \"DIS\": 1.9444, \"RAD\": 2, \"TAX\": 188.0, \"PTRATIO\": 19.1, \"B\": 370.31, \"LSTAT\": 25.41, \"MEDV\": 17.3}, {\"CRIM\": 0.09849, \"ZN\": 0.0, \"INDUS\": 25.65, \"CHAS\": 0, \"NOX\": 0.581, \"RM\": 5.879, \"AGE\": 95.8, \"DIS\": 2.0063, \"RAD\": 2, \"TAX\": 188.0, \"PTRATIO\": 19.1, \"B\": 379.38, \"LSTAT\": 17.58, \"MEDV\": 18.8}, {\"CRIM\": 0.16902, \"ZN\": 0.0, \"INDUS\": 25.65, \"CHAS\": 0, \"NOX\": 0.581, \"RM\": 5.986, \"AGE\": 88.4, \"DIS\": 1.9929, \"RAD\": 2, \"TAX\": 188.0, \"PTRATIO\": 19.1, \"B\": 385.02, \"LSTAT\": 14.81, \"MEDV\": 21.4}, {\"CRIM\": 0.38735, \"ZN\": 0.0, \"INDUS\": 25.65, \"CHAS\": 0, \"NOX\": 0.581, \"RM\": 5.613, \"AGE\": 95.6, \"DIS\": 1.7572, \"RAD\": 2, \"TAX\": 188.0, \"PTRATIO\": 19.1, \"B\": 359.29, \"LSTAT\": 27.26, \"MEDV\": 15.7}, {\"CRIM\": 0.25915, \"ZN\": 0.0, \"INDUS\": 21.89, \"CHAS\": 0, \"NOX\": 0.624, \"RM\": 5.693, \"AGE\": 96.0, \"DIS\": 1.7883, \"RAD\": 4, \"TAX\": 437.0, \"PTRATIO\": 21.2, \"B\": 392.11, \"LSTAT\": 17.19, \"MEDV\": 16.2}, {\"CRIM\": 0.32543, \"ZN\": 0.0, \"INDUS\": 21.89, \"CHAS\": 0, \"NOX\": 0.624, \"RM\": 6.431, \"AGE\": 98.8, \"DIS\": 1.8125, \"RAD\": 4, \"TAX\": 437.0, \"PTRATIO\": 21.2, \"B\": 396.9, \"LSTAT\": 15.39, \"MEDV\": 18.0}, {\"CRIM\": 0.88125, \"ZN\": 0.0, \"INDUS\": 21.89, \"CHAS\": 0, \"NOX\": 0.624, \"RM\": 5.637, \"AGE\": 94.7, \"DIS\": 1.9799, \"RAD\": 4, \"TAX\": 437.0, \"PTRATIO\": 21.2, \"B\": 396.9, \"LSTAT\": 18.34, \"MEDV\": 14.3}, {\"CRIM\": 0.34006, \"ZN\": 0.0, \"INDUS\": 21.89, \"CHAS\": 0, \"NOX\": 0.624, \"RM\": 6.458, \"AGE\": 98.9, \"DIS\": 2.1185, \"RAD\": 4, \"TAX\": 437.0, \"PTRATIO\": 21.2, \"B\": 395.04, \"LSTAT\": 12.6, \"MEDV\": 19.2}, {\"CRIM\": 1.19294, \"ZN\": 0.0, \"INDUS\": 21.89, \"CHAS\": 0, \"NOX\": 0.624, \"RM\": 6.326, \"AGE\": 97.7, \"DIS\": 2.271, \"RAD\": 4, \"TAX\": 437.0, \"PTRATIO\": 21.2, \"B\": 396.9, \"LSTAT\": 12.26, \"MEDV\": 19.6}, {\"CRIM\": 0.59005, \"ZN\": 0.0, \"INDUS\": 21.89, \"CHAS\": 0, \"NOX\": 0.624, \"RM\": 6.372, \"AGE\": 97.9, \"DIS\": 2.3274, \"RAD\": 4, \"TAX\": 437.0, \"PTRATIO\": 21.2, \"B\": 385.76, \"LSTAT\": 11.12, \"MEDV\": 23.0}, {\"CRIM\": 0.32982, \"ZN\": 0.0, \"INDUS\": 21.89, \"CHAS\": 0, \"NOX\": 0.624, \"RM\": 5.822, \"AGE\": 95.4, \"DIS\": 2.4699, \"RAD\": 4, \"TAX\": 437.0, \"PTRATIO\": 21.2, \"B\": 388.69, \"LSTAT\": 15.03, \"MEDV\": 18.4}, {\"CRIM\": 0.9761700000000001, \"ZN\": 0.0, \"INDUS\": 21.89, \"CHAS\": 0, \"NOX\": 0.624, \"RM\": 5.757, \"AGE\": 98.4, \"DIS\": 2.346, \"RAD\": 4, \"TAX\": 437.0, \"PTRATIO\": 21.2, \"B\": 262.76, \"LSTAT\": 17.31, \"MEDV\": 15.6}, {\"CRIM\": 0.55778, \"ZN\": 0.0, \"INDUS\": 21.89, \"CHAS\": 0, \"NOX\": 0.624, \"RM\": 6.335, \"AGE\": 98.2, \"DIS\": 2.1107, \"RAD\": 4, \"TAX\": 437.0, \"PTRATIO\": 21.2, \"B\": 394.67, \"LSTAT\": 16.96, \"MEDV\": 18.1}, {\"CRIM\": 0.32264, \"ZN\": 0.0, \"INDUS\": 21.89, \"CHAS\": 0, \"NOX\": 0.624, \"RM\": 5.942, \"AGE\": 93.5, \"DIS\": 1.9669, \"RAD\": 4, \"TAX\": 437.0, \"PTRATIO\": 21.2, \"B\": 378.25, \"LSTAT\": 16.9, \"MEDV\": 17.4}, {\"CRIM\": 0.35233000000000003, \"ZN\": 0.0, \"INDUS\": 21.89, \"CHAS\": 0, \"NOX\": 0.624, \"RM\": 6.454, \"AGE\": 98.4, \"DIS\": 1.8498, \"RAD\": 4, \"TAX\": 437.0, \"PTRATIO\": 21.2, \"B\": 394.08, \"LSTAT\": 14.59, \"MEDV\": 17.1}, {\"CRIM\": 0.2498, \"ZN\": 0.0, \"INDUS\": 21.89, \"CHAS\": 0, \"NOX\": 0.624, \"RM\": 5.857, \"AGE\": 98.2, \"DIS\": 1.6686, \"RAD\": 4, \"TAX\": 437.0, \"PTRATIO\": 21.2, \"B\": 392.04, \"LSTAT\": 21.32, \"MEDV\": 13.3}, {\"CRIM\": 0.54452, \"ZN\": 0.0, \"INDUS\": 21.89, \"CHAS\": 0, \"NOX\": 0.624, \"RM\": 6.151, \"AGE\": 97.9, \"DIS\": 1.6687, \"RAD\": 4, \"TAX\": 437.0, \"PTRATIO\": 21.2, \"B\": 396.9, \"LSTAT\": 18.46, \"MEDV\": 17.8}, {\"CRIM\": 0.2909, \"ZN\": 0.0, \"INDUS\": 21.89, \"CHAS\": 0, \"NOX\": 0.624, \"RM\": 6.174, \"AGE\": 93.6, \"DIS\": 1.6119, \"RAD\": 4, \"TAX\": 437.0, \"PTRATIO\": 21.2, \"B\": 388.08, \"LSTAT\": 24.16, \"MEDV\": 14.0}, {\"CRIM\": 1.6286399999999999, \"ZN\": 0.0, \"INDUS\": 21.89, \"CHAS\": 0, \"NOX\": 0.624, \"RM\": 5.019, \"AGE\": 100.0, \"DIS\": 1.4394, \"RAD\": 4, \"TAX\": 437.0, \"PTRATIO\": 21.2, \"B\": 396.9, \"LSTAT\": 34.41, \"MEDV\": 14.4}, {\"CRIM\": 3.32105, \"ZN\": 0.0, \"INDUS\": 19.58, \"CHAS\": 1, \"NOX\": 0.871, \"RM\": 5.403, \"AGE\": 100.0, \"DIS\": 1.3216, \"RAD\": 5, \"TAX\": 403.0, \"PTRATIO\": 14.7, \"B\": 396.9, \"LSTAT\": 26.82, \"MEDV\": 13.4}, {\"CRIM\": 4.0974, \"ZN\": 0.0, \"INDUS\": 19.58, \"CHAS\": 0, \"NOX\": 0.871, \"RM\": 5.468, \"AGE\": 100.0, \"DIS\": 1.4118, \"RAD\": 5, \"TAX\": 403.0, \"PTRATIO\": 14.7, \"B\": 396.9, \"LSTAT\": 26.42, \"MEDV\": 15.6}, {\"CRIM\": 2.7797400000000003, \"ZN\": 0.0, \"INDUS\": 19.58, \"CHAS\": 0, \"NOX\": 0.871, \"RM\": 4.903, \"AGE\": 97.8, \"DIS\": 1.3459, \"RAD\": 5, \"TAX\": 403.0, \"PTRATIO\": 14.7, \"B\": 396.9, \"LSTAT\": 29.29, \"MEDV\": 11.8}, {\"CRIM\": 2.37934, \"ZN\": 0.0, \"INDUS\": 19.58, \"CHAS\": 0, \"NOX\": 0.871, \"RM\": 6.13, \"AGE\": 100.0, \"DIS\": 1.4191, \"RAD\": 5, \"TAX\": 403.0, \"PTRATIO\": 14.7, \"B\": 172.91, \"LSTAT\": 27.8, \"MEDV\": 13.8}, {\"CRIM\": 2.15505, \"ZN\": 0.0, \"INDUS\": 19.58, \"CHAS\": 0, \"NOX\": 0.871, \"RM\": 5.628, \"AGE\": 100.0, \"DIS\": 1.5166, \"RAD\": 5, \"TAX\": 403.0, \"PTRATIO\": 14.7, \"B\": 169.27, \"LSTAT\": 16.65, \"MEDV\": 15.6}, {\"CRIM\": 2.36862, \"ZN\": 0.0, \"INDUS\": 19.58, \"CHAS\": 0, \"NOX\": 0.871, \"RM\": 4.926, \"AGE\": 95.7, \"DIS\": 1.4608, \"RAD\": 5, \"TAX\": 403.0, \"PTRATIO\": 14.7, \"B\": 391.71, \"LSTAT\": 29.53, \"MEDV\": 14.6}, {\"CRIM\": 2.3309900000000003, \"ZN\": 0.0, \"INDUS\": 19.58, \"CHAS\": 0, \"NOX\": 0.871, \"RM\": 5.186, \"AGE\": 93.8, \"DIS\": 1.5296, \"RAD\": 5, \"TAX\": 403.0, \"PTRATIO\": 14.7, \"B\": 356.99, \"LSTAT\": 28.32, \"MEDV\": 17.8}, {\"CRIM\": 2.7339700000000002, \"ZN\": 0.0, \"INDUS\": 19.58, \"CHAS\": 0, \"NOX\": 0.871, \"RM\": 5.597, \"AGE\": 94.9, \"DIS\": 1.5257, \"RAD\": 5, \"TAX\": 403.0, \"PTRATIO\": 14.7, \"B\": 351.85, \"LSTAT\": 21.45, \"MEDV\": 15.4}, {\"CRIM\": 1.6566, \"ZN\": 0.0, \"INDUS\": 19.58, \"CHAS\": 0, \"NOX\": 0.871, \"RM\": 6.122, \"AGE\": 97.3, \"DIS\": 1.618, \"RAD\": 5, \"TAX\": 403.0, \"PTRATIO\": 14.7, \"B\": 372.8, \"LSTAT\": 14.1, \"MEDV\": 21.5}, {\"CRIM\": 1.49632, \"ZN\": 0.0, \"INDUS\": 19.58, \"CHAS\": 0, \"NOX\": 0.871, \"RM\": 5.404, \"AGE\": 100.0, \"DIS\": 1.5916, \"RAD\": 5, \"TAX\": 403.0, \"PTRATIO\": 14.7, \"B\": 341.6, \"LSTAT\": 13.28, \"MEDV\": 19.6}, {\"CRIM\": 1.12658, \"ZN\": 0.0, \"INDUS\": 19.58, \"CHAS\": 1, \"NOX\": 0.871, \"RM\": 5.012, \"AGE\": 88.0, \"DIS\": 1.6102, \"RAD\": 5, \"TAX\": 403.0, \"PTRATIO\": 14.7, \"B\": 343.28, \"LSTAT\": 12.12, \"MEDV\": 15.3}, {\"CRIM\": 2.14918, \"ZN\": 0.0, \"INDUS\": 19.58, \"CHAS\": 0, \"NOX\": 0.871, \"RM\": 5.709, \"AGE\": 98.5, \"DIS\": 1.6232, \"RAD\": 5, \"TAX\": 403.0, \"PTRATIO\": 14.7, \"B\": 261.95, \"LSTAT\": 15.79, \"MEDV\": 19.4}, {\"CRIM\": 1.41385, \"ZN\": 0.0, \"INDUS\": 19.58, \"CHAS\": 1, \"NOX\": 0.871, \"RM\": 6.129, \"AGE\": 96.0, \"DIS\": 1.7494, \"RAD\": 5, \"TAX\": 403.0, \"PTRATIO\": 14.7, \"B\": 321.02, \"LSTAT\": 15.12, \"MEDV\": 17.0}, {\"CRIM\": 3.5350099999999998, \"ZN\": 0.0, \"INDUS\": 19.58, \"CHAS\": 1, \"NOX\": 0.871, \"RM\": 6.152, \"AGE\": 82.6, \"DIS\": 1.7455, \"RAD\": 5, \"TAX\": 403.0, \"PTRATIO\": 14.7, \"B\": 88.01, \"LSTAT\": 15.02, \"MEDV\": 15.6}, {\"CRIM\": 2.4466799999999997, \"ZN\": 0.0, \"INDUS\": 19.58, \"CHAS\": 0, \"NOX\": 0.871, \"RM\": 5.272, \"AGE\": 94.0, \"DIS\": 1.7364, \"RAD\": 5, \"TAX\": 403.0, \"PTRATIO\": 14.7, \"B\": 88.63, \"LSTAT\": 16.14, \"MEDV\": 13.1}, {\"CRIM\": 1.22358, \"ZN\": 0.0, \"INDUS\": 19.58, \"CHAS\": 0, \"NOX\": 0.605, \"RM\": 6.943, \"AGE\": 97.4, \"DIS\": 1.8773, \"RAD\": 5, \"TAX\": 403.0, \"PTRATIO\": 14.7, \"B\": 363.43, \"LSTAT\": 4.59, \"MEDV\": 41.3}, {\"CRIM\": 1.34284, \"ZN\": 0.0, \"INDUS\": 19.58, \"CHAS\": 0, \"NOX\": 0.605, \"RM\": 6.066, \"AGE\": 100.0, \"DIS\": 1.7573, \"RAD\": 5, \"TAX\": 403.0, \"PTRATIO\": 14.7, \"B\": 353.89, \"LSTAT\": 6.43, \"MEDV\": 24.3}, {\"CRIM\": 1.4250200000000002, \"ZN\": 0.0, \"INDUS\": 19.58, \"CHAS\": 0, \"NOX\": 0.871, \"RM\": 6.51, \"AGE\": 100.0, \"DIS\": 1.7659, \"RAD\": 5, \"TAX\": 403.0, \"PTRATIO\": 14.7, \"B\": 364.31, \"LSTAT\": 7.39, \"MEDV\": 23.3}, {\"CRIM\": 1.27346, \"ZN\": 0.0, \"INDUS\": 19.58, \"CHAS\": 1, \"NOX\": 0.605, \"RM\": 6.25, \"AGE\": 92.6, \"DIS\": 1.7984, \"RAD\": 5, \"TAX\": 403.0, \"PTRATIO\": 14.7, \"B\": 338.92, \"LSTAT\": 5.5, \"MEDV\": 27.0}, {\"CRIM\": 1.46336, \"ZN\": 0.0, \"INDUS\": 19.58, \"CHAS\": 0, \"NOX\": 0.605, \"RM\": 7.489, \"AGE\": 90.8, \"DIS\": 1.9709, \"RAD\": 5, \"TAX\": 403.0, \"PTRATIO\": 14.7, \"B\": 374.43, \"LSTAT\": 1.73, \"MEDV\": 50.0}, {\"CRIM\": 1.8337700000000001, \"ZN\": 0.0, \"INDUS\": 19.58, \"CHAS\": 1, \"NOX\": 0.605, \"RM\": 7.802, \"AGE\": 98.2, \"DIS\": 2.0407, \"RAD\": 5, \"TAX\": 403.0, \"PTRATIO\": 14.7, \"B\": 389.61, \"LSTAT\": 1.92, \"MEDV\": 50.0}, {\"CRIM\": 1.51902, \"ZN\": 0.0, \"INDUS\": 19.58, \"CHAS\": 1, \"NOX\": 0.605, \"RM\": 8.375, \"AGE\": 93.9, \"DIS\": 2.162, \"RAD\": 5, \"TAX\": 403.0, \"PTRATIO\": 14.7, \"B\": 388.45, \"LSTAT\": 3.32, \"MEDV\": 50.0}, {\"CRIM\": 2.2423599999999997, \"ZN\": 0.0, \"INDUS\": 19.58, \"CHAS\": 0, \"NOX\": 0.605, \"RM\": 5.854, \"AGE\": 91.8, \"DIS\": 2.422, \"RAD\": 5, \"TAX\": 403.0, \"PTRATIO\": 14.7, \"B\": 395.11, \"LSTAT\": 11.64, \"MEDV\": 22.7}, {\"CRIM\": 2.924, \"ZN\": 0.0, \"INDUS\": 19.58, \"CHAS\": 0, \"NOX\": 0.605, \"RM\": 6.101, \"AGE\": 93.0, \"DIS\": 2.2834, \"RAD\": 5, \"TAX\": 403.0, \"PTRATIO\": 14.7, \"B\": 240.16, \"LSTAT\": 9.81, \"MEDV\": 25.0}, {\"CRIM\": 2.01019, \"ZN\": 0.0, \"INDUS\": 19.58, \"CHAS\": 0, \"NOX\": 0.605, \"RM\": 7.929, \"AGE\": 96.2, \"DIS\": 2.0459, \"RAD\": 5, \"TAX\": 403.0, \"PTRATIO\": 14.7, \"B\": 369.3, \"LSTAT\": 3.7, \"MEDV\": 50.0}, {\"CRIM\": 1.8002799999999999, \"ZN\": 0.0, \"INDUS\": 19.58, \"CHAS\": 0, \"NOX\": 0.605, \"RM\": 5.877, \"AGE\": 79.2, \"DIS\": 2.4259, \"RAD\": 5, \"TAX\": 403.0, \"PTRATIO\": 14.7, \"B\": 227.61, \"LSTAT\": 12.14, \"MEDV\": 23.8}, {\"CRIM\": 2.3004, \"ZN\": 0.0, \"INDUS\": 19.58, \"CHAS\": 0, \"NOX\": 0.605, \"RM\": 6.319, \"AGE\": 96.1, \"DIS\": 2.1, \"RAD\": 5, \"TAX\": 403.0, \"PTRATIO\": 14.7, \"B\": 297.09, \"LSTAT\": 11.1, \"MEDV\": 23.8}, {\"CRIM\": 2.4495299999999998, \"ZN\": 0.0, \"INDUS\": 19.58, \"CHAS\": 0, \"NOX\": 0.605, \"RM\": 6.402, \"AGE\": 95.2, \"DIS\": 2.2625, \"RAD\": 5, \"TAX\": 403.0, \"PTRATIO\": 14.7, \"B\": 330.04, \"LSTAT\": 11.32, \"MEDV\": 22.3}, {\"CRIM\": 1.2074200000000002, \"ZN\": 0.0, \"INDUS\": 19.58, \"CHAS\": 0, \"NOX\": 0.605, \"RM\": 5.875, \"AGE\": 94.6, \"DIS\": 2.4259, \"RAD\": 5, \"TAX\": 403.0, \"PTRATIO\": 14.7, \"B\": 292.29, \"LSTAT\": 14.43, \"MEDV\": 17.4}, {\"CRIM\": 2.3139, \"ZN\": 0.0, \"INDUS\": 19.58, \"CHAS\": 0, \"NOX\": 0.605, \"RM\": 5.88, \"AGE\": 97.3, \"DIS\": 2.3887, \"RAD\": 5, \"TAX\": 403.0, \"PTRATIO\": 14.7, \"B\": 348.13, \"LSTAT\": 12.03, \"MEDV\": 19.1}, {\"CRIM\": 0.13914, \"ZN\": 0.0, \"INDUS\": 4.05, \"CHAS\": 0, \"NOX\": 0.51, \"RM\": 5.572, \"AGE\": 88.5, \"DIS\": 2.5961, \"RAD\": 5, \"TAX\": 296.0, \"PTRATIO\": 16.6, \"B\": 396.9, \"LSTAT\": 14.69, \"MEDV\": 23.1}, {\"CRIM\": 0.09178, \"ZN\": 0.0, \"INDUS\": 4.05, \"CHAS\": 0, \"NOX\": 0.51, \"RM\": 6.416, \"AGE\": 84.1, \"DIS\": 2.6463, \"RAD\": 5, \"TAX\": 296.0, \"PTRATIO\": 16.6, \"B\": 395.5, \"LSTAT\": 9.04, \"MEDV\": 23.6}, {\"CRIM\": 0.08447, \"ZN\": 0.0, \"INDUS\": 4.05, \"CHAS\": 0, \"NOX\": 0.51, \"RM\": 5.859, \"AGE\": 68.7, \"DIS\": 2.7019, \"RAD\": 5, \"TAX\": 296.0, \"PTRATIO\": 16.6, \"B\": 393.23, \"LSTAT\": 9.64, \"MEDV\": 22.6}, {\"CRIM\": 0.06663999999999999, \"ZN\": 0.0, \"INDUS\": 4.05, \"CHAS\": 0, \"NOX\": 0.51, \"RM\": 6.546, \"AGE\": 33.1, \"DIS\": 3.1323, \"RAD\": 5, \"TAX\": 296.0, \"PTRATIO\": 16.6, \"B\": 390.96, \"LSTAT\": 5.33, \"MEDV\": 29.4}, {\"CRIM\": 0.07022, \"ZN\": 0.0, \"INDUS\": 4.05, \"CHAS\": 0, \"NOX\": 0.51, \"RM\": 6.02, \"AGE\": 47.2, \"DIS\": 3.5549, \"RAD\": 5, \"TAX\": 296.0, \"PTRATIO\": 16.6, \"B\": 393.23, \"LSTAT\": 10.11, \"MEDV\": 23.2}, {\"CRIM\": 0.05425, \"ZN\": 0.0, \"INDUS\": 4.05, \"CHAS\": 0, \"NOX\": 0.51, \"RM\": 6.315, \"AGE\": 73.4, \"DIS\": 3.3175, \"RAD\": 5, \"TAX\": 296.0, \"PTRATIO\": 16.6, \"B\": 395.6, \"LSTAT\": 6.29, \"MEDV\": 24.6}, {\"CRIM\": 0.06642, \"ZN\": 0.0, \"INDUS\": 4.05, \"CHAS\": 0, \"NOX\": 0.51, \"RM\": 6.86, \"AGE\": 74.4, \"DIS\": 2.9153, \"RAD\": 5, \"TAX\": 296.0, \"PTRATIO\": 16.6, \"B\": 391.27, \"LSTAT\": 6.92, \"MEDV\": 29.9}, {\"CRIM\": 0.0578, \"ZN\": 0.0, \"INDUS\": 2.46, \"CHAS\": 0, \"NOX\": 0.488, \"RM\": 6.98, \"AGE\": 58.4, \"DIS\": 2.829, \"RAD\": 3, \"TAX\": 193.0, \"PTRATIO\": 17.8, \"B\": 396.9, \"LSTAT\": 5.04, \"MEDV\": 37.2}, {\"CRIM\": 0.06588, \"ZN\": 0.0, \"INDUS\": 2.46, \"CHAS\": 0, \"NOX\": 0.488, \"RM\": 7.765, \"AGE\": 83.3, \"DIS\": 2.741, \"RAD\": 3, \"TAX\": 193.0, \"PTRATIO\": 17.8, \"B\": 395.56, \"LSTAT\": 7.56, \"MEDV\": 39.8}, {\"CRIM\": 0.06888, \"ZN\": 0.0, \"INDUS\": 2.46, \"CHAS\": 0, \"NOX\": 0.488, \"RM\": 6.144, \"AGE\": 62.2, \"DIS\": 2.5979, \"RAD\": 3, \"TAX\": 193.0, \"PTRATIO\": 17.8, \"B\": 396.9, \"LSTAT\": 9.45, \"MEDV\": 36.2}, {\"CRIM\": 0.09103, \"ZN\": 0.0, \"INDUS\": 2.46, \"CHAS\": 0, \"NOX\": 0.488, \"RM\": 7.155, \"AGE\": 92.2, \"DIS\": 2.7006, \"RAD\": 3, \"TAX\": 193.0, \"PTRATIO\": 17.8, \"B\": 394.12, \"LSTAT\": 4.82, \"MEDV\": 37.9}, {\"CRIM\": 0.10008, \"ZN\": 0.0, \"INDUS\": 2.46, \"CHAS\": 0, \"NOX\": 0.488, \"RM\": 6.563, \"AGE\": 95.6, \"DIS\": 2.847, \"RAD\": 3, \"TAX\": 193.0, \"PTRATIO\": 17.8, \"B\": 396.9, \"LSTAT\": 5.68, \"MEDV\": 32.5}, {\"CRIM\": 0.08308, \"ZN\": 0.0, \"INDUS\": 2.46, \"CHAS\": 0, \"NOX\": 0.488, \"RM\": 5.604, \"AGE\": 89.8, \"DIS\": 2.9879, \"RAD\": 3, \"TAX\": 193.0, \"PTRATIO\": 17.8, \"B\": 391.0, \"LSTAT\": 13.98, \"MEDV\": 26.4}, {\"CRIM\": 0.06047, \"ZN\": 0.0, \"INDUS\": 2.46, \"CHAS\": 0, \"NOX\": 0.488, \"RM\": 6.153, \"AGE\": 68.8, \"DIS\": 3.2797, \"RAD\": 3, \"TAX\": 193.0, \"PTRATIO\": 17.8, \"B\": 387.11, \"LSTAT\": 13.15, \"MEDV\": 29.6}, {\"CRIM\": 0.05602000000000001, \"ZN\": 0.0, \"INDUS\": 2.46, \"CHAS\": 0, \"NOX\": 0.488, \"RM\": 7.831, \"AGE\": 53.6, \"DIS\": 3.1992, \"RAD\": 3, \"TAX\": 193.0, \"PTRATIO\": 17.8, \"B\": 392.63, \"LSTAT\": 4.45, \"MEDV\": 50.0}, {\"CRIM\": 0.07875, \"ZN\": 45.0, \"INDUS\": 3.44, \"CHAS\": 0, \"NOX\": 0.437, \"RM\": 6.782, \"AGE\": 41.1, \"DIS\": 3.7886, \"RAD\": 5, \"TAX\": 398.0, \"PTRATIO\": 15.2, \"B\": 393.87, \"LSTAT\": 6.68, \"MEDV\": 32.0}, {\"CRIM\": 0.12579, \"ZN\": 45.0, \"INDUS\": 3.44, \"CHAS\": 0, \"NOX\": 0.437, \"RM\": 6.556, \"AGE\": 29.1, \"DIS\": 4.5667, \"RAD\": 5, \"TAX\": 398.0, \"PTRATIO\": 15.2, \"B\": 382.84, \"LSTAT\": 4.56, \"MEDV\": 29.8}, {\"CRIM\": 0.0837, \"ZN\": 45.0, \"INDUS\": 3.44, \"CHAS\": 0, \"NOX\": 0.437, \"RM\": 7.185, \"AGE\": 38.9, \"DIS\": 4.5667, \"RAD\": 5, \"TAX\": 398.0, \"PTRATIO\": 15.2, \"B\": 396.9, \"LSTAT\": 5.39, \"MEDV\": 34.9}, {\"CRIM\": 0.09068, \"ZN\": 45.0, \"INDUS\": 3.44, \"CHAS\": 0, \"NOX\": 0.437, \"RM\": 6.951, \"AGE\": 21.5, \"DIS\": 6.4798, \"RAD\": 5, \"TAX\": 398.0, \"PTRATIO\": 15.2, \"B\": 377.68, \"LSTAT\": 5.1, \"MEDV\": 37.0}, {\"CRIM\": 0.06911, \"ZN\": 45.0, \"INDUS\": 3.44, \"CHAS\": 0, \"NOX\": 0.437, \"RM\": 6.739, \"AGE\": 30.8, \"DIS\": 6.4798, \"RAD\": 5, \"TAX\": 398.0, \"PTRATIO\": 15.2, \"B\": 389.71, \"LSTAT\": 4.69, \"MEDV\": 30.5}, {\"CRIM\": 0.08664, \"ZN\": 45.0, \"INDUS\": 3.44, \"CHAS\": 0, \"NOX\": 0.437, \"RM\": 7.178, \"AGE\": 26.3, \"DIS\": 6.4798, \"RAD\": 5, \"TAX\": 398.0, \"PTRATIO\": 15.2, \"B\": 390.49, \"LSTAT\": 2.87, \"MEDV\": 36.4}, {\"CRIM\": 0.02187, \"ZN\": 60.0, \"INDUS\": 2.93, \"CHAS\": 0, \"NOX\": 0.401, \"RM\": 6.8, \"AGE\": 9.9, \"DIS\": 6.2196, \"RAD\": 1, \"TAX\": 265.0, \"PTRATIO\": 15.6, \"B\": 393.37, \"LSTAT\": 5.03, \"MEDV\": 31.1}, {\"CRIM\": 0.01439, \"ZN\": 60.0, \"INDUS\": 2.93, \"CHAS\": 0, \"NOX\": 0.401, \"RM\": 6.604, \"AGE\": 18.8, \"DIS\": 6.2196, \"RAD\": 1, \"TAX\": 265.0, \"PTRATIO\": 15.6, \"B\": 376.7, \"LSTAT\": 4.38, \"MEDV\": 29.1}, {\"CRIM\": 0.01381, \"ZN\": 80.0, \"INDUS\": 0.46, \"CHAS\": 0, \"NOX\": 0.422, \"RM\": 7.875, \"AGE\": 32.0, \"DIS\": 5.6484, \"RAD\": 4, \"TAX\": 255.0, \"PTRATIO\": 14.4, \"B\": 394.23, \"LSTAT\": 2.97, \"MEDV\": 50.0}, {\"CRIM\": 0.04011, \"ZN\": 80.0, \"INDUS\": 1.52, \"CHAS\": 0, \"NOX\": 0.404, \"RM\": 7.287, \"AGE\": 34.1, \"DIS\": 7.309, \"RAD\": 2, \"TAX\": 329.0, \"PTRATIO\": 12.6, \"B\": 396.9, \"LSTAT\": 4.08, \"MEDV\": 33.3}, {\"CRIM\": 0.04666, \"ZN\": 80.0, \"INDUS\": 1.52, \"CHAS\": 0, \"NOX\": 0.404, \"RM\": 7.107, \"AGE\": 36.6, \"DIS\": 7.309, \"RAD\": 2, \"TAX\": 329.0, \"PTRATIO\": 12.6, \"B\": 354.31, \"LSTAT\": 8.61, \"MEDV\": 30.3}, {\"CRIM\": 0.03768, \"ZN\": 80.0, \"INDUS\": 1.52, \"CHAS\": 0, \"NOX\": 0.404, \"RM\": 7.274, \"AGE\": 38.3, \"DIS\": 7.309, \"RAD\": 2, \"TAX\": 329.0, \"PTRATIO\": 12.6, \"B\": 392.2, \"LSTAT\": 6.62, \"MEDV\": 34.6}, {\"CRIM\": 0.0315, \"ZN\": 95.0, \"INDUS\": 1.47, \"CHAS\": 0, \"NOX\": 0.403, \"RM\": 6.975, \"AGE\": 15.3, \"DIS\": 7.6534, \"RAD\": 3, \"TAX\": 402.0, \"PTRATIO\": 17.0, \"B\": 396.9, \"LSTAT\": 4.56, \"MEDV\": 34.9}, {\"CRIM\": 0.01778, \"ZN\": 95.0, \"INDUS\": 1.47, \"CHAS\": 0, \"NOX\": 0.403, \"RM\": 7.135, \"AGE\": 13.9, \"DIS\": 7.6534, \"RAD\": 3, \"TAX\": 402.0, \"PTRATIO\": 17.0, \"B\": 384.3, \"LSTAT\": 4.45, \"MEDV\": 32.9}, {\"CRIM\": 0.03445, \"ZN\": 82.5, \"INDUS\": 2.03, \"CHAS\": 0, \"NOX\": 0.415, \"RM\": 6.162, \"AGE\": 38.4, \"DIS\": 6.27, \"RAD\": 2, \"TAX\": 348.0, \"PTRATIO\": 14.7, \"B\": 393.77, \"LSTAT\": 7.43, \"MEDV\": 24.1}, {\"CRIM\": 0.021769999999999998, \"ZN\": 82.5, \"INDUS\": 2.03, \"CHAS\": 0, \"NOX\": 0.415, \"RM\": 7.61, \"AGE\": 15.7, \"DIS\": 6.27, \"RAD\": 2, \"TAX\": 348.0, \"PTRATIO\": 14.7, \"B\": 395.38, \"LSTAT\": 3.11, \"MEDV\": 42.3}, {\"CRIM\": 0.0351, \"ZN\": 95.0, \"INDUS\": 2.68, \"CHAS\": 0, \"NOX\": 0.4161, \"RM\": 7.853, \"AGE\": 33.2, \"DIS\": 5.118, \"RAD\": 4, \"TAX\": 224.0, \"PTRATIO\": 14.7, \"B\": 392.78, \"LSTAT\": 3.81, \"MEDV\": 48.5}, {\"CRIM\": 0.02009, \"ZN\": 95.0, \"INDUS\": 2.68, \"CHAS\": 0, \"NOX\": 0.4161, \"RM\": 8.034, \"AGE\": 31.9, \"DIS\": 5.118, \"RAD\": 4, \"TAX\": 224.0, \"PTRATIO\": 14.7, \"B\": 390.55, \"LSTAT\": 2.88, \"MEDV\": 50.0}, {\"CRIM\": 0.13642, \"ZN\": 0.0, \"INDUS\": 10.59, \"CHAS\": 0, \"NOX\": 0.489, \"RM\": 5.891, \"AGE\": 22.3, \"DIS\": 3.9454, \"RAD\": 4, \"TAX\": 277.0, \"PTRATIO\": 18.6, \"B\": 396.9, \"LSTAT\": 10.87, \"MEDV\": 22.6}, {\"CRIM\": 0.22969, \"ZN\": 0.0, \"INDUS\": 10.59, \"CHAS\": 0, \"NOX\": 0.489, \"RM\": 6.326, \"AGE\": 52.5, \"DIS\": 4.3549, \"RAD\": 4, \"TAX\": 277.0, \"PTRATIO\": 18.6, \"B\": 394.87, \"LSTAT\": 10.97, \"MEDV\": 24.4}, {\"CRIM\": 0.25199, \"ZN\": 0.0, \"INDUS\": 10.59, \"CHAS\": 0, \"NOX\": 0.489, \"RM\": 5.783, \"AGE\": 72.7, \"DIS\": 4.3549, \"RAD\": 4, \"TAX\": 277.0, \"PTRATIO\": 18.6, \"B\": 389.43, \"LSTAT\": 18.06, \"MEDV\": 22.5}, {\"CRIM\": 0.13587, \"ZN\": 0.0, \"INDUS\": 10.59, \"CHAS\": 1, \"NOX\": 0.489, \"RM\": 6.064, \"AGE\": 59.1, \"DIS\": 4.2392, \"RAD\": 4, \"TAX\": 277.0, \"PTRATIO\": 18.6, \"B\": 381.32, \"LSTAT\": 14.66, \"MEDV\": 24.4}, {\"CRIM\": 0.43571000000000004, \"ZN\": 0.0, \"INDUS\": 10.59, \"CHAS\": 1, \"NOX\": 0.489, \"RM\": 5.344, \"AGE\": 100.0, \"DIS\": 3.875, \"RAD\": 4, \"TAX\": 277.0, \"PTRATIO\": 18.6, \"B\": 396.9, \"LSTAT\": 23.09, \"MEDV\": 20.0}, {\"CRIM\": 0.17446, \"ZN\": 0.0, \"INDUS\": 10.59, \"CHAS\": 1, \"NOX\": 0.489, \"RM\": 5.96, \"AGE\": 92.1, \"DIS\": 3.8771, \"RAD\": 4, \"TAX\": 277.0, \"PTRATIO\": 18.6, \"B\": 393.25, \"LSTAT\": 17.27, \"MEDV\": 21.7}, {\"CRIM\": 0.37578, \"ZN\": 0.0, \"INDUS\": 10.59, \"CHAS\": 1, \"NOX\": 0.489, \"RM\": 5.404, \"AGE\": 88.6, \"DIS\": 3.665, \"RAD\": 4, \"TAX\": 277.0, \"PTRATIO\": 18.6, \"B\": 395.24, \"LSTAT\": 23.98, \"MEDV\": 19.3}, {\"CRIM\": 0.21719000000000002, \"ZN\": 0.0, \"INDUS\": 10.59, \"CHAS\": 1, \"NOX\": 0.489, \"RM\": 5.807, \"AGE\": 53.8, \"DIS\": 3.6526, \"RAD\": 4, \"TAX\": 277.0, \"PTRATIO\": 18.6, \"B\": 390.94, \"LSTAT\": 16.03, \"MEDV\": 22.4}, {\"CRIM\": 0.14052, \"ZN\": 0.0, \"INDUS\": 10.59, \"CHAS\": 0, \"NOX\": 0.489, \"RM\": 6.375, \"AGE\": 32.3, \"DIS\": 3.9454, \"RAD\": 4, \"TAX\": 277.0, \"PTRATIO\": 18.6, \"B\": 385.81, \"LSTAT\": 9.38, \"MEDV\": 28.1}, {\"CRIM\": 0.28955, \"ZN\": 0.0, \"INDUS\": 10.59, \"CHAS\": 0, \"NOX\": 0.489, \"RM\": 5.412, \"AGE\": 9.8, \"DIS\": 3.5875, \"RAD\": 4, \"TAX\": 277.0, \"PTRATIO\": 18.6, \"B\": 348.93, \"LSTAT\": 29.55, \"MEDV\": 23.7}, {\"CRIM\": 0.19802, \"ZN\": 0.0, \"INDUS\": 10.59, \"CHAS\": 0, \"NOX\": 0.489, \"RM\": 6.182, \"AGE\": 42.4, \"DIS\": 3.9454, \"RAD\": 4, \"TAX\": 277.0, \"PTRATIO\": 18.6, \"B\": 393.63, \"LSTAT\": 9.47, \"MEDV\": 25.0}, {\"CRIM\": 0.0456, \"ZN\": 0.0, \"INDUS\": 13.89, \"CHAS\": 1, \"NOX\": 0.55, \"RM\": 5.888, \"AGE\": 56.0, \"DIS\": 3.1121, \"RAD\": 5, \"TAX\": 276.0, \"PTRATIO\": 16.4, \"B\": 392.8, \"LSTAT\": 13.51, \"MEDV\": 23.3}, {\"CRIM\": 0.07013, \"ZN\": 0.0, \"INDUS\": 13.89, \"CHAS\": 0, \"NOX\": 0.55, \"RM\": 6.642, \"AGE\": 85.1, \"DIS\": 3.4211, \"RAD\": 5, \"TAX\": 276.0, \"PTRATIO\": 16.4, \"B\": 392.78, \"LSTAT\": 9.69, \"MEDV\": 28.7}, {\"CRIM\": 0.11069000000000001, \"ZN\": 0.0, \"INDUS\": 13.89, \"CHAS\": 1, \"NOX\": 0.55, \"RM\": 5.951, \"AGE\": 93.8, \"DIS\": 2.8893, \"RAD\": 5, \"TAX\": 276.0, \"PTRATIO\": 16.4, \"B\": 396.9, \"LSTAT\": 17.92, \"MEDV\": 21.5}, {\"CRIM\": 0.11425, \"ZN\": 0.0, \"INDUS\": 13.89, \"CHAS\": 1, \"NOX\": 0.55, \"RM\": 6.373, \"AGE\": 92.4, \"DIS\": 3.3633, \"RAD\": 5, \"TAX\": 276.0, \"PTRATIO\": 16.4, \"B\": 393.74, \"LSTAT\": 10.5, \"MEDV\": 23.0}, {\"CRIM\": 0.35809, \"ZN\": 0.0, \"INDUS\": 6.2, \"CHAS\": 1, \"NOX\": 0.507, \"RM\": 6.951, \"AGE\": 88.5, \"DIS\": 2.8617, \"RAD\": 8, \"TAX\": 307.0, \"PTRATIO\": 17.4, \"B\": 391.7, \"LSTAT\": 9.71, \"MEDV\": 26.7}, {\"CRIM\": 0.40771, \"ZN\": 0.0, \"INDUS\": 6.2, \"CHAS\": 1, \"NOX\": 0.507, \"RM\": 6.164, \"AGE\": 91.3, \"DIS\": 3.048, \"RAD\": 8, \"TAX\": 307.0, \"PTRATIO\": 17.4, \"B\": 395.24, \"LSTAT\": 21.46, \"MEDV\": 21.7}, {\"CRIM\": 0.62356, \"ZN\": 0.0, \"INDUS\": 6.2, \"CHAS\": 1, \"NOX\": 0.507, \"RM\": 6.879, \"AGE\": 77.7, \"DIS\": 3.2721, \"RAD\": 8, \"TAX\": 307.0, \"PTRATIO\": 17.4, \"B\": 390.39, \"LSTAT\": 9.93, \"MEDV\": 27.5}, {\"CRIM\": 0.6147, \"ZN\": 0.0, \"INDUS\": 6.2, \"CHAS\": 0, \"NOX\": 0.507, \"RM\": 6.618, \"AGE\": 80.8, \"DIS\": 3.2721, \"RAD\": 8, \"TAX\": 307.0, \"PTRATIO\": 17.4, \"B\": 396.9, \"LSTAT\": 7.6, \"MEDV\": 30.1}, {\"CRIM\": 0.31533, \"ZN\": 0.0, \"INDUS\": 6.2, \"CHAS\": 0, \"NOX\": 0.504, \"RM\": 8.266, \"AGE\": 78.3, \"DIS\": 2.8944, \"RAD\": 8, \"TAX\": 307.0, \"PTRATIO\": 17.4, \"B\": 385.05, \"LSTAT\": 4.14, \"MEDV\": 44.8}, {\"CRIM\": 0.52693, \"ZN\": 0.0, \"INDUS\": 6.2, \"CHAS\": 0, \"NOX\": 0.504, \"RM\": 8.725, \"AGE\": 83.0, \"DIS\": 2.8944, \"RAD\": 8, \"TAX\": 307.0, \"PTRATIO\": 17.4, \"B\": 382.0, \"LSTAT\": 4.63, \"MEDV\": 50.0}, {\"CRIM\": 0.38214000000000004, \"ZN\": 0.0, \"INDUS\": 6.2, \"CHAS\": 0, \"NOX\": 0.504, \"RM\": 8.04, \"AGE\": 86.5, \"DIS\": 3.2157, \"RAD\": 8, \"TAX\": 307.0, \"PTRATIO\": 17.4, \"B\": 387.38, \"LSTAT\": 3.13, \"MEDV\": 37.6}, {\"CRIM\": 0.41238, \"ZN\": 0.0, \"INDUS\": 6.2, \"CHAS\": 0, \"NOX\": 0.504, \"RM\": 7.163, \"AGE\": 79.9, \"DIS\": 3.2157, \"RAD\": 8, \"TAX\": 307.0, \"PTRATIO\": 17.4, \"B\": 372.08, \"LSTAT\": 6.36, \"MEDV\": 31.6}, {\"CRIM\": 0.29819, \"ZN\": 0.0, \"INDUS\": 6.2, \"CHAS\": 0, \"NOX\": 0.504, \"RM\": 7.686, \"AGE\": 17.0, \"DIS\": 3.3751, \"RAD\": 8, \"TAX\": 307.0, \"PTRATIO\": 17.4, \"B\": 377.51, \"LSTAT\": 3.92, \"MEDV\": 46.7}, {\"CRIM\": 0.44178, \"ZN\": 0.0, \"INDUS\": 6.2, \"CHAS\": 0, \"NOX\": 0.504, \"RM\": 6.552, \"AGE\": 21.4, \"DIS\": 3.3751, \"RAD\": 8, \"TAX\": 307.0, \"PTRATIO\": 17.4, \"B\": 380.34, \"LSTAT\": 3.76, \"MEDV\": 31.5}, {\"CRIM\": 0.537, \"ZN\": 0.0, \"INDUS\": 6.2, \"CHAS\": 0, \"NOX\": 0.504, \"RM\": 5.981, \"AGE\": 68.1, \"DIS\": 3.6715, \"RAD\": 8, \"TAX\": 307.0, \"PTRATIO\": 17.4, \"B\": 378.35, \"LSTAT\": 11.65, \"MEDV\": 24.3}, {\"CRIM\": 0.46296000000000004, \"ZN\": 0.0, \"INDUS\": 6.2, \"CHAS\": 0, \"NOX\": 0.504, \"RM\": 7.412, \"AGE\": 76.9, \"DIS\": 3.6715, \"RAD\": 8, \"TAX\": 307.0, \"PTRATIO\": 17.4, \"B\": 376.14, \"LSTAT\": 5.25, \"MEDV\": 31.7}, {\"CRIM\": 0.57529, \"ZN\": 0.0, \"INDUS\": 6.2, \"CHAS\": 0, \"NOX\": 0.507, \"RM\": 8.337, \"AGE\": 73.3, \"DIS\": 3.8384, \"RAD\": 8, \"TAX\": 307.0, \"PTRATIO\": 17.4, \"B\": 385.91, \"LSTAT\": 2.47, \"MEDV\": 41.7}, {\"CRIM\": 0.33147, \"ZN\": 0.0, \"INDUS\": 6.2, \"CHAS\": 0, \"NOX\": 0.507, \"RM\": 8.247, \"AGE\": 70.4, \"DIS\": 3.6519, \"RAD\": 8, \"TAX\": 307.0, \"PTRATIO\": 17.4, \"B\": 378.95, \"LSTAT\": 3.95, \"MEDV\": 48.3}, {\"CRIM\": 0.44791000000000003, \"ZN\": 0.0, \"INDUS\": 6.2, \"CHAS\": 1, \"NOX\": 0.507, \"RM\": 6.726, \"AGE\": 66.5, \"DIS\": 3.6519, \"RAD\": 8, \"TAX\": 307.0, \"PTRATIO\": 17.4, \"B\": 360.2, \"LSTAT\": 8.05, \"MEDV\": 29.0}, {\"CRIM\": 0.33045, \"ZN\": 0.0, \"INDUS\": 6.2, \"CHAS\": 0, \"NOX\": 0.507, \"RM\": 6.086, \"AGE\": 61.5, \"DIS\": 3.6519, \"RAD\": 8, \"TAX\": 307.0, \"PTRATIO\": 17.4, \"B\": 376.75, \"LSTAT\": 10.88, \"MEDV\": 24.0}, {\"CRIM\": 0.52058, \"ZN\": 0.0, \"INDUS\": 6.2, \"CHAS\": 1, \"NOX\": 0.507, \"RM\": 6.631, \"AGE\": 76.5, \"DIS\": 4.148, \"RAD\": 8, \"TAX\": 307.0, \"PTRATIO\": 17.4, \"B\": 388.45, \"LSTAT\": 9.54, \"MEDV\": 25.1}, {\"CRIM\": 0.51183, \"ZN\": 0.0, \"INDUS\": 6.2, \"CHAS\": 0, \"NOX\": 0.507, \"RM\": 7.358, \"AGE\": 71.6, \"DIS\": 4.148, \"RAD\": 8, \"TAX\": 307.0, \"PTRATIO\": 17.4, \"B\": 390.07, \"LSTAT\": 4.73, \"MEDV\": 31.5}, {\"CRIM\": 0.08244, \"ZN\": 30.0, \"INDUS\": 4.93, \"CHAS\": 0, \"NOX\": 0.428, \"RM\": 6.481, \"AGE\": 18.5, \"DIS\": 6.1899, \"RAD\": 6, \"TAX\": 300.0, \"PTRATIO\": 16.6, \"B\": 379.41, \"LSTAT\": 6.36, \"MEDV\": 23.7}, {\"CRIM\": 0.09252, \"ZN\": 30.0, \"INDUS\": 4.93, \"CHAS\": 0, \"NOX\": 0.428, \"RM\": 6.606, \"AGE\": 42.2, \"DIS\": 6.1899, \"RAD\": 6, \"TAX\": 300.0, \"PTRATIO\": 16.6, \"B\": 383.78, \"LSTAT\": 7.37, \"MEDV\": 23.3}, {\"CRIM\": 0.11329000000000002, \"ZN\": 30.0, \"INDUS\": 4.93, \"CHAS\": 0, \"NOX\": 0.428, \"RM\": 6.897, \"AGE\": 54.3, \"DIS\": 6.3361, \"RAD\": 6, \"TAX\": 300.0, \"PTRATIO\": 16.6, \"B\": 391.25, \"LSTAT\": 11.38, \"MEDV\": 22.0}, {\"CRIM\": 0.10612, \"ZN\": 30.0, \"INDUS\": 4.93, \"CHAS\": 0, \"NOX\": 0.428, \"RM\": 6.095, \"AGE\": 65.1, \"DIS\": 6.3361, \"RAD\": 6, \"TAX\": 300.0, \"PTRATIO\": 16.6, \"B\": 394.62, \"LSTAT\": 12.4, \"MEDV\": 20.1}, {\"CRIM\": 0.1029, \"ZN\": 30.0, \"INDUS\": 4.93, \"CHAS\": 0, \"NOX\": 0.428, \"RM\": 6.358, \"AGE\": 52.9, \"DIS\": 7.0355, \"RAD\": 6, \"TAX\": 300.0, \"PTRATIO\": 16.6, \"B\": 372.75, \"LSTAT\": 11.22, \"MEDV\": 22.2}, {\"CRIM\": 0.12757000000000002, \"ZN\": 30.0, \"INDUS\": 4.93, \"CHAS\": 0, \"NOX\": 0.428, \"RM\": 6.393, \"AGE\": 7.8, \"DIS\": 7.0355, \"RAD\": 6, \"TAX\": 300.0, \"PTRATIO\": 16.6, \"B\": 374.71, \"LSTAT\": 5.19, \"MEDV\": 23.7}, {\"CRIM\": 0.20608, \"ZN\": 22.0, \"INDUS\": 5.86, \"CHAS\": 0, \"NOX\": 0.431, \"RM\": 5.593, \"AGE\": 76.5, \"DIS\": 7.9549, \"RAD\": 7, \"TAX\": 330.0, \"PTRATIO\": 19.1, \"B\": 372.49, \"LSTAT\": 12.5, \"MEDV\": 17.6}, {\"CRIM\": 0.19133, \"ZN\": 22.0, \"INDUS\": 5.86, \"CHAS\": 0, \"NOX\": 0.431, \"RM\": 5.605, \"AGE\": 70.2, \"DIS\": 7.9549, \"RAD\": 7, \"TAX\": 330.0, \"PTRATIO\": 19.1, \"B\": 389.13, \"LSTAT\": 18.46, \"MEDV\": 18.5}, {\"CRIM\": 0.33983, \"ZN\": 22.0, \"INDUS\": 5.86, \"CHAS\": 0, \"NOX\": 0.431, \"RM\": 6.108, \"AGE\": 34.9, \"DIS\": 8.0555, \"RAD\": 7, \"TAX\": 330.0, \"PTRATIO\": 19.1, \"B\": 390.18, \"LSTAT\": 9.16, \"MEDV\": 24.3}, {\"CRIM\": 0.19657, \"ZN\": 22.0, \"INDUS\": 5.86, \"CHAS\": 0, \"NOX\": 0.431, \"RM\": 6.226, \"AGE\": 79.2, \"DIS\": 8.0555, \"RAD\": 7, \"TAX\": 330.0, \"PTRATIO\": 19.1, \"B\": 376.14, \"LSTAT\": 10.15, \"MEDV\": 20.5}, {\"CRIM\": 0.16439, \"ZN\": 22.0, \"INDUS\": 5.86, \"CHAS\": 0, \"NOX\": 0.431, \"RM\": 6.433, \"AGE\": 49.1, \"DIS\": 7.8265, \"RAD\": 7, \"TAX\": 330.0, \"PTRATIO\": 19.1, \"B\": 374.71, \"LSTAT\": 9.52, \"MEDV\": 24.5}, {\"CRIM\": 0.19072999999999998, \"ZN\": 22.0, \"INDUS\": 5.86, \"CHAS\": 0, \"NOX\": 0.431, \"RM\": 6.718, \"AGE\": 17.5, \"DIS\": 7.8265, \"RAD\": 7, \"TAX\": 330.0, \"PTRATIO\": 19.1, \"B\": 393.74, \"LSTAT\": 6.56, \"MEDV\": 26.2}, {\"CRIM\": 0.1403, \"ZN\": 22.0, \"INDUS\": 5.86, \"CHAS\": 0, \"NOX\": 0.431, \"RM\": 6.487, \"AGE\": 13.0, \"DIS\": 7.3967, \"RAD\": 7, \"TAX\": 330.0, \"PTRATIO\": 19.1, \"B\": 396.28, \"LSTAT\": 5.9, \"MEDV\": 24.4}, {\"CRIM\": 0.21409, \"ZN\": 22.0, \"INDUS\": 5.86, \"CHAS\": 0, \"NOX\": 0.431, \"RM\": 6.438, \"AGE\": 8.9, \"DIS\": 7.3967, \"RAD\": 7, \"TAX\": 330.0, \"PTRATIO\": 19.1, \"B\": 377.07, \"LSTAT\": 3.59, \"MEDV\": 24.8}, {\"CRIM\": 0.08221, \"ZN\": 22.0, \"INDUS\": 5.86, \"CHAS\": 0, \"NOX\": 0.431, \"RM\": 6.957, \"AGE\": 6.8, \"DIS\": 8.9067, \"RAD\": 7, \"TAX\": 330.0, \"PTRATIO\": 19.1, \"B\": 386.09, \"LSTAT\": 3.53, \"MEDV\": 29.6}, {\"CRIM\": 0.36894, \"ZN\": 22.0, \"INDUS\": 5.86, \"CHAS\": 0, \"NOX\": 0.431, \"RM\": 8.259, \"AGE\": 8.4, \"DIS\": 8.9067, \"RAD\": 7, \"TAX\": 330.0, \"PTRATIO\": 19.1, \"B\": 396.9, \"LSTAT\": 3.54, \"MEDV\": 42.8}, {\"CRIM\": 0.04819, \"ZN\": 80.0, \"INDUS\": 3.64, \"CHAS\": 0, \"NOX\": 0.392, \"RM\": 6.108, \"AGE\": 32.0, \"DIS\": 9.2203, \"RAD\": 1, \"TAX\": 315.0, \"PTRATIO\": 16.4, \"B\": 392.89, \"LSTAT\": 6.57, \"MEDV\": 21.9}, {\"CRIM\": 0.035480000000000005, \"ZN\": 80.0, \"INDUS\": 3.64, \"CHAS\": 0, \"NOX\": 0.392, \"RM\": 5.876, \"AGE\": 19.1, \"DIS\": 9.2203, \"RAD\": 1, \"TAX\": 315.0, \"PTRATIO\": 16.4, \"B\": 395.18, \"LSTAT\": 9.25, \"MEDV\": 20.9}, {\"CRIM\": 0.015380000000000001, \"ZN\": 90.0, \"INDUS\": 3.75, \"CHAS\": 0, \"NOX\": 0.394, \"RM\": 7.454, \"AGE\": 34.2, \"DIS\": 6.3361, \"RAD\": 3, \"TAX\": 244.0, \"PTRATIO\": 15.9, \"B\": 386.34, \"LSTAT\": 3.11, \"MEDV\": 44.0}, {\"CRIM\": 0.61154, \"ZN\": 20.0, \"INDUS\": 3.97, \"CHAS\": 0, \"NOX\": 0.647, \"RM\": 8.704, \"AGE\": 86.9, \"DIS\": 1.801, \"RAD\": 5, \"TAX\": 264.0, \"PTRATIO\": 13.0, \"B\": 389.7, \"LSTAT\": 5.12, \"MEDV\": 50.0}, {\"CRIM\": 0.66351, \"ZN\": 20.0, \"INDUS\": 3.97, \"CHAS\": 0, \"NOX\": 0.647, \"RM\": 7.333, \"AGE\": 100.0, \"DIS\": 1.8946, \"RAD\": 5, \"TAX\": 264.0, \"PTRATIO\": 13.0, \"B\": 383.29, \"LSTAT\": 7.79, \"MEDV\": 36.0}, {\"CRIM\": 0.65665, \"ZN\": 20.0, \"INDUS\": 3.97, \"CHAS\": 0, \"NOX\": 0.647, \"RM\": 6.842, \"AGE\": 100.0, \"DIS\": 2.0107, \"RAD\": 5, \"TAX\": 264.0, \"PTRATIO\": 13.0, \"B\": 391.93, \"LSTAT\": 6.9, \"MEDV\": 30.1}, {\"CRIM\": 0.5401100000000001, \"ZN\": 20.0, \"INDUS\": 3.97, \"CHAS\": 0, \"NOX\": 0.647, \"RM\": 7.203, \"AGE\": 81.8, \"DIS\": 2.1121, \"RAD\": 5, \"TAX\": 264.0, \"PTRATIO\": 13.0, \"B\": 392.8, \"LSTAT\": 9.59, \"MEDV\": 33.8}, {\"CRIM\": 0.5341199999999999, \"ZN\": 20.0, \"INDUS\": 3.97, \"CHAS\": 0, \"NOX\": 0.647, \"RM\": 7.52, \"AGE\": 89.4, \"DIS\": 2.1398, \"RAD\": 5, \"TAX\": 264.0, \"PTRATIO\": 13.0, \"B\": 388.37, \"LSTAT\": 7.26, \"MEDV\": 43.1}, {\"CRIM\": 0.5201399999999999, \"ZN\": 20.0, \"INDUS\": 3.97, \"CHAS\": 0, \"NOX\": 0.647, \"RM\": 8.398, \"AGE\": 91.5, \"DIS\": 2.2885, \"RAD\": 5, \"TAX\": 264.0, \"PTRATIO\": 13.0, \"B\": 386.86, \"LSTAT\": 5.91, \"MEDV\": 48.8}, {\"CRIM\": 0.82526, \"ZN\": 20.0, \"INDUS\": 3.97, \"CHAS\": 0, \"NOX\": 0.647, \"RM\": 7.327, \"AGE\": 94.5, \"DIS\": 2.0788, \"RAD\": 5, \"TAX\": 264.0, \"PTRATIO\": 13.0, \"B\": 393.42, \"LSTAT\": 11.25, \"MEDV\": 31.0}, {\"CRIM\": 0.55007, \"ZN\": 20.0, \"INDUS\": 3.97, \"CHAS\": 0, \"NOX\": 0.647, \"RM\": 7.206, \"AGE\": 91.6, \"DIS\": 1.9301, \"RAD\": 5, \"TAX\": 264.0, \"PTRATIO\": 13.0, \"B\": 387.89, \"LSTAT\": 8.1, \"MEDV\": 36.5}, {\"CRIM\": 0.76162, \"ZN\": 20.0, \"INDUS\": 3.97, \"CHAS\": 0, \"NOX\": 0.647, \"RM\": 5.56, \"AGE\": 62.8, \"DIS\": 1.9865, \"RAD\": 5, \"TAX\": 264.0, \"PTRATIO\": 13.0, \"B\": 392.4, \"LSTAT\": 10.45, \"MEDV\": 22.8}, {\"CRIM\": 0.7857, \"ZN\": 20.0, \"INDUS\": 3.97, \"CHAS\": 0, \"NOX\": 0.647, \"RM\": 7.014, \"AGE\": 84.6, \"DIS\": 2.1329, \"RAD\": 5, \"TAX\": 264.0, \"PTRATIO\": 13.0, \"B\": 384.07, \"LSTAT\": 14.79, \"MEDV\": 30.7}, {\"CRIM\": 0.57834, \"ZN\": 20.0, \"INDUS\": 3.97, \"CHAS\": 0, \"NOX\": 0.575, \"RM\": 8.297, \"AGE\": 67.0, \"DIS\": 2.4216, \"RAD\": 5, \"TAX\": 264.0, \"PTRATIO\": 13.0, \"B\": 384.54, \"LSTAT\": 7.44, \"MEDV\": 50.0}, {\"CRIM\": 0.5405, \"ZN\": 20.0, \"INDUS\": 3.97, \"CHAS\": 0, \"NOX\": 0.575, \"RM\": 7.47, \"AGE\": 52.6, \"DIS\": 2.872, \"RAD\": 5, \"TAX\": 264.0, \"PTRATIO\": 13.0, \"B\": 390.3, \"LSTAT\": 3.16, \"MEDV\": 43.5}, {\"CRIM\": 0.09065, \"ZN\": 20.0, \"INDUS\": 6.96, \"CHAS\": 1, \"NOX\": 0.464, \"RM\": 5.92, \"AGE\": 61.5, \"DIS\": 3.9175, \"RAD\": 3, \"TAX\": 223.0, \"PTRATIO\": 18.6, \"B\": 391.34, \"LSTAT\": 13.65, \"MEDV\": 20.7}, {\"CRIM\": 0.29916, \"ZN\": 20.0, \"INDUS\": 6.96, \"CHAS\": 0, \"NOX\": 0.464, \"RM\": 5.856, \"AGE\": 42.1, \"DIS\": 4.429, \"RAD\": 3, \"TAX\": 223.0, \"PTRATIO\": 18.6, \"B\": 388.65, \"LSTAT\": 13.0, \"MEDV\": 21.1}, {\"CRIM\": 0.16211, \"ZN\": 20.0, \"INDUS\": 6.96, \"CHAS\": 0, \"NOX\": 0.464, \"RM\": 6.24, \"AGE\": 16.3, \"DIS\": 4.429, \"RAD\": 3, \"TAX\": 223.0, \"PTRATIO\": 18.6, \"B\": 396.9, \"LSTAT\": 6.59, \"MEDV\": 25.2}, {\"CRIM\": 0.1146, \"ZN\": 20.0, \"INDUS\": 6.96, \"CHAS\": 0, \"NOX\": 0.464, \"RM\": 6.538, \"AGE\": 58.7, \"DIS\": 3.9175, \"RAD\": 3, \"TAX\": 223.0, \"PTRATIO\": 18.6, \"B\": 394.96, \"LSTAT\": 7.73, \"MEDV\": 24.4}, {\"CRIM\": 0.22188000000000002, \"ZN\": 20.0, \"INDUS\": 6.96, \"CHAS\": 1, \"NOX\": 0.464, \"RM\": 7.691, \"AGE\": 51.8, \"DIS\": 4.3665, \"RAD\": 3, \"TAX\": 223.0, \"PTRATIO\": 18.6, \"B\": 390.77, \"LSTAT\": 6.58, \"MEDV\": 35.2}, {\"CRIM\": 0.05644, \"ZN\": 40.0, \"INDUS\": 6.41, \"CHAS\": 1, \"NOX\": 0.447, \"RM\": 6.758, \"AGE\": 32.9, \"DIS\": 4.0776, \"RAD\": 4, \"TAX\": 254.0, \"PTRATIO\": 17.6, \"B\": 396.9, \"LSTAT\": 3.53, \"MEDV\": 32.4}, {\"CRIM\": 0.09604, \"ZN\": 40.0, \"INDUS\": 6.41, \"CHAS\": 0, \"NOX\": 0.447, \"RM\": 6.854, \"AGE\": 42.8, \"DIS\": 4.2673, \"RAD\": 4, \"TAX\": 254.0, \"PTRATIO\": 17.6, \"B\": 396.9, \"LSTAT\": 2.98, \"MEDV\": 32.0}, {\"CRIM\": 0.10469, \"ZN\": 40.0, \"INDUS\": 6.41, \"CHAS\": 1, \"NOX\": 0.447, \"RM\": 7.267, \"AGE\": 49.0, \"DIS\": 4.7872, \"RAD\": 4, \"TAX\": 254.0, \"PTRATIO\": 17.6, \"B\": 389.25, \"LSTAT\": 6.05, \"MEDV\": 33.2}, {\"CRIM\": 0.061270000000000005, \"ZN\": 40.0, \"INDUS\": 6.41, \"CHAS\": 1, \"NOX\": 0.447, \"RM\": 6.826, \"AGE\": 27.6, \"DIS\": 4.8628, \"RAD\": 4, \"TAX\": 254.0, \"PTRATIO\": 17.6, \"B\": 393.45, \"LSTAT\": 4.16, \"MEDV\": 33.1}, {\"CRIM\": 0.07977999999999999, \"ZN\": 40.0, \"INDUS\": 6.41, \"CHAS\": 0, \"NOX\": 0.447, \"RM\": 6.482, \"AGE\": 32.1, \"DIS\": 4.1403, \"RAD\": 4, \"TAX\": 254.0, \"PTRATIO\": 17.6, \"B\": 396.9, \"LSTAT\": 7.19, \"MEDV\": 29.1}, {\"CRIM\": 0.21038, \"ZN\": 20.0, \"INDUS\": 3.33, \"CHAS\": 0, \"NOX\": 0.4429, \"RM\": 6.812, \"AGE\": 32.2, \"DIS\": 4.1007, \"RAD\": 5, \"TAX\": 216.0, \"PTRATIO\": 14.9, \"B\": 396.9, \"LSTAT\": 4.85, \"MEDV\": 35.1}, {\"CRIM\": 0.03578, \"ZN\": 20.0, \"INDUS\": 3.33, \"CHAS\": 0, \"NOX\": 0.4429, \"RM\": 7.82, \"AGE\": 64.5, \"DIS\": 4.6947, \"RAD\": 5, \"TAX\": 216.0, \"PTRATIO\": 14.9, \"B\": 387.31, \"LSTAT\": 3.76, \"MEDV\": 45.4}, {\"CRIM\": 0.03705, \"ZN\": 20.0, \"INDUS\": 3.33, \"CHAS\": 0, \"NOX\": 0.4429, \"RM\": 6.968, \"AGE\": 37.2, \"DIS\": 5.2447, \"RAD\": 5, \"TAX\": 216.0, \"PTRATIO\": 14.9, \"B\": 392.23, \"LSTAT\": 4.59, \"MEDV\": 35.4}, {\"CRIM\": 0.06129, \"ZN\": 20.0, \"INDUS\": 3.33, \"CHAS\": 1, \"NOX\": 0.4429, \"RM\": 7.645, \"AGE\": 49.7, \"DIS\": 5.2119, \"RAD\": 5, \"TAX\": 216.0, \"PTRATIO\": 14.9, \"B\": 377.07, \"LSTAT\": 3.01, \"MEDV\": 46.0}, {\"CRIM\": 0.015009999999999999, \"ZN\": 90.0, \"INDUS\": 1.21, \"CHAS\": 1, \"NOX\": 0.401, \"RM\": 7.923, \"AGE\": 24.8, \"DIS\": 5.885, \"RAD\": 1, \"TAX\": 198.0, \"PTRATIO\": 13.6, \"B\": 395.52, \"LSTAT\": 3.16, \"MEDV\": 50.0}, {\"CRIM\": 0.009059999999999999, \"ZN\": 90.0, \"INDUS\": 2.97, \"CHAS\": 0, \"NOX\": 0.4, \"RM\": 7.088, \"AGE\": 20.8, \"DIS\": 7.3073, \"RAD\": 1, \"TAX\": 285.0, \"PTRATIO\": 15.3, \"B\": 394.72, \"LSTAT\": 7.85, \"MEDV\": 32.2}, {\"CRIM\": 0.01096, \"ZN\": 55.0, \"INDUS\": 2.25, \"CHAS\": 0, \"NOX\": 0.389, \"RM\": 6.453, \"AGE\": 31.9, \"DIS\": 7.3073, \"RAD\": 1, \"TAX\": 300.0, \"PTRATIO\": 15.3, \"B\": 394.72, \"LSTAT\": 8.23, \"MEDV\": 22.0}, {\"CRIM\": 0.01965, \"ZN\": 80.0, \"INDUS\": 1.76, \"CHAS\": 0, \"NOX\": 0.385, \"RM\": 6.23, \"AGE\": 31.5, \"DIS\": 9.0892, \"RAD\": 1, \"TAX\": 241.0, \"PTRATIO\": 18.2, \"B\": 341.6, \"LSTAT\": 12.93, \"MEDV\": 20.1}, {\"CRIM\": 0.03871, \"ZN\": 52.5, \"INDUS\": 5.32, \"CHAS\": 0, \"NOX\": 0.405, \"RM\": 6.209, \"AGE\": 31.3, \"DIS\": 7.3172, \"RAD\": 6, \"TAX\": 293.0, \"PTRATIO\": 16.6, \"B\": 396.9, \"LSTAT\": 7.14, \"MEDV\": 23.2}, {\"CRIM\": 0.0459, \"ZN\": 52.5, \"INDUS\": 5.32, \"CHAS\": 0, \"NOX\": 0.405, \"RM\": 6.315, \"AGE\": 45.6, \"DIS\": 7.3172, \"RAD\": 6, \"TAX\": 293.0, \"PTRATIO\": 16.6, \"B\": 396.9, \"LSTAT\": 7.6, \"MEDV\": 22.3}, {\"CRIM\": 0.04297, \"ZN\": 52.5, \"INDUS\": 5.32, \"CHAS\": 0, \"NOX\": 0.405, \"RM\": 6.565, \"AGE\": 22.9, \"DIS\": 7.3172, \"RAD\": 6, \"TAX\": 293.0, \"PTRATIO\": 16.6, \"B\": 371.72, \"LSTAT\": 9.51, \"MEDV\": 24.8}, {\"CRIM\": 0.035019999999999996, \"ZN\": 80.0, \"INDUS\": 4.95, \"CHAS\": 0, \"NOX\": 0.411, \"RM\": 6.861, \"AGE\": 27.9, \"DIS\": 5.1167, \"RAD\": 4, \"TAX\": 245.0, \"PTRATIO\": 19.2, \"B\": 396.9, \"LSTAT\": 3.33, \"MEDV\": 28.5}, {\"CRIM\": 0.07886, \"ZN\": 80.0, \"INDUS\": 4.95, \"CHAS\": 0, \"NOX\": 0.411, \"RM\": 7.148, \"AGE\": 27.7, \"DIS\": 5.1167, \"RAD\": 4, \"TAX\": 245.0, \"PTRATIO\": 19.2, \"B\": 396.9, \"LSTAT\": 3.56, \"MEDV\": 37.3}, {\"CRIM\": 0.03615, \"ZN\": 80.0, \"INDUS\": 4.95, \"CHAS\": 0, \"NOX\": 0.411, \"RM\": 6.63, \"AGE\": 23.4, \"DIS\": 5.1167, \"RAD\": 4, \"TAX\": 245.0, \"PTRATIO\": 19.2, \"B\": 396.9, \"LSTAT\": 4.7, \"MEDV\": 27.9}, {\"CRIM\": 0.08265, \"ZN\": 0.0, \"INDUS\": 13.92, \"CHAS\": 0, \"NOX\": 0.437, \"RM\": 6.127, \"AGE\": 18.4, \"DIS\": 5.5027, \"RAD\": 4, \"TAX\": 289.0, \"PTRATIO\": 16.0, \"B\": 396.9, \"LSTAT\": 8.58, \"MEDV\": 23.9}, {\"CRIM\": 0.08199, \"ZN\": 0.0, \"INDUS\": 13.92, \"CHAS\": 0, \"NOX\": 0.437, \"RM\": 6.009, \"AGE\": 42.3, \"DIS\": 5.5027, \"RAD\": 4, \"TAX\": 289.0, \"PTRATIO\": 16.0, \"B\": 396.9, \"LSTAT\": 10.4, \"MEDV\": 21.7}, {\"CRIM\": 0.12932000000000002, \"ZN\": 0.0, \"INDUS\": 13.92, \"CHAS\": 0, \"NOX\": 0.437, \"RM\": 6.678, \"AGE\": 31.1, \"DIS\": 5.9604, \"RAD\": 4, \"TAX\": 289.0, \"PTRATIO\": 16.0, \"B\": 396.9, \"LSTAT\": 6.27, \"MEDV\": 28.6}, {\"CRIM\": 0.053720000000000004, \"ZN\": 0.0, \"INDUS\": 13.92, \"CHAS\": 0, \"NOX\": 0.437, \"RM\": 6.549, \"AGE\": 51.0, \"DIS\": 5.9604, \"RAD\": 4, \"TAX\": 289.0, \"PTRATIO\": 16.0, \"B\": 392.85, \"LSTAT\": 7.39, \"MEDV\": 27.1}, {\"CRIM\": 0.14103, \"ZN\": 0.0, \"INDUS\": 13.92, \"CHAS\": 0, \"NOX\": 0.437, \"RM\": 5.79, \"AGE\": 58.0, \"DIS\": 6.32, \"RAD\": 4, \"TAX\": 289.0, \"PTRATIO\": 16.0, \"B\": 396.9, \"LSTAT\": 15.84, \"MEDV\": 20.3}, {\"CRIM\": 0.06466000000000001, \"ZN\": 70.0, \"INDUS\": 2.24, \"CHAS\": 0, \"NOX\": 0.4, \"RM\": 6.345, \"AGE\": 20.1, \"DIS\": 7.8278, \"RAD\": 5, \"TAX\": 358.0, \"PTRATIO\": 14.8, \"B\": 368.24, \"LSTAT\": 4.97, \"MEDV\": 22.5}, {\"CRIM\": 0.05561, \"ZN\": 70.0, \"INDUS\": 2.24, \"CHAS\": 0, \"NOX\": 0.4, \"RM\": 7.041, \"AGE\": 10.0, \"DIS\": 7.8278, \"RAD\": 5, \"TAX\": 358.0, \"PTRATIO\": 14.8, \"B\": 371.58, \"LSTAT\": 4.74, \"MEDV\": 29.0}, {\"CRIM\": 0.04417, \"ZN\": 70.0, \"INDUS\": 2.24, \"CHAS\": 0, \"NOX\": 0.4, \"RM\": 6.871, \"AGE\": 47.4, \"DIS\": 7.8278, \"RAD\": 5, \"TAX\": 358.0, \"PTRATIO\": 14.8, \"B\": 390.86, \"LSTAT\": 6.07, \"MEDV\": 24.8}, {\"CRIM\": 0.03537, \"ZN\": 34.0, \"INDUS\": 6.09, \"CHAS\": 0, \"NOX\": 0.433, \"RM\": 6.59, \"AGE\": 40.4, \"DIS\": 5.4917, \"RAD\": 7, \"TAX\": 329.0, \"PTRATIO\": 16.1, \"B\": 395.75, \"LSTAT\": 9.5, \"MEDV\": 22.0}, {\"CRIM\": 0.09266, \"ZN\": 34.0, \"INDUS\": 6.09, \"CHAS\": 0, \"NOX\": 0.433, \"RM\": 6.495, \"AGE\": 18.4, \"DIS\": 5.4917, \"RAD\": 7, \"TAX\": 329.0, \"PTRATIO\": 16.1, \"B\": 383.61, \"LSTAT\": 8.67, \"MEDV\": 26.4}, {\"CRIM\": 0.1, \"ZN\": 34.0, \"INDUS\": 6.09, \"CHAS\": 0, \"NOX\": 0.433, \"RM\": 6.982, \"AGE\": 17.7, \"DIS\": 5.4917, \"RAD\": 7, \"TAX\": 329.0, \"PTRATIO\": 16.1, \"B\": 390.43, \"LSTAT\": 4.86, \"MEDV\": 33.1}, {\"CRIM\": 0.05515, \"ZN\": 33.0, \"INDUS\": 2.18, \"CHAS\": 0, \"NOX\": 0.472, \"RM\": 7.236, \"AGE\": 41.1, \"DIS\": 4.022, \"RAD\": 7, \"TAX\": 222.0, \"PTRATIO\": 18.4, \"B\": 393.68, \"LSTAT\": 6.93, \"MEDV\": 36.1}, {\"CRIM\": 0.05479, \"ZN\": 33.0, \"INDUS\": 2.18, \"CHAS\": 0, \"NOX\": 0.472, \"RM\": 6.616, \"AGE\": 58.1, \"DIS\": 3.37, \"RAD\": 7, \"TAX\": 222.0, \"PTRATIO\": 18.4, \"B\": 393.36, \"LSTAT\": 8.93, \"MEDV\": 28.4}, {\"CRIM\": 0.07503, \"ZN\": 33.0, \"INDUS\": 2.18, \"CHAS\": 0, \"NOX\": 0.472, \"RM\": 7.42, \"AGE\": 71.9, \"DIS\": 3.0992, \"RAD\": 7, \"TAX\": 222.0, \"PTRATIO\": 18.4, \"B\": 396.9, \"LSTAT\": 6.47, \"MEDV\": 33.4}, {\"CRIM\": 0.049319999999999996, \"ZN\": 33.0, \"INDUS\": 2.18, \"CHAS\": 0, \"NOX\": 0.472, \"RM\": 6.849, \"AGE\": 70.3, \"DIS\": 3.1827, \"RAD\": 7, \"TAX\": 222.0, \"PTRATIO\": 18.4, \"B\": 396.9, \"LSTAT\": 7.53, \"MEDV\": 28.2}, {\"CRIM\": 0.49298000000000003, \"ZN\": 0.0, \"INDUS\": 9.9, \"CHAS\": 0, \"NOX\": 0.544, \"RM\": 6.635, \"AGE\": 82.5, \"DIS\": 3.3175, \"RAD\": 4, \"TAX\": 304.0, \"PTRATIO\": 18.4, \"B\": 396.9, \"LSTAT\": 4.54, \"MEDV\": 22.8}, {\"CRIM\": 0.3494, \"ZN\": 0.0, \"INDUS\": 9.9, \"CHAS\": 0, \"NOX\": 0.544, \"RM\": 5.972, \"AGE\": 76.7, \"DIS\": 3.1025, \"RAD\": 4, \"TAX\": 304.0, \"PTRATIO\": 18.4, \"B\": 396.24, \"LSTAT\": 9.97, \"MEDV\": 20.3}, {\"CRIM\": 2.63548, \"ZN\": 0.0, \"INDUS\": 9.9, \"CHAS\": 0, \"NOX\": 0.544, \"RM\": 4.973, \"AGE\": 37.8, \"DIS\": 2.5194, \"RAD\": 4, \"TAX\": 304.0, \"PTRATIO\": 18.4, \"B\": 350.45, \"LSTAT\": 12.64, \"MEDV\": 16.1}, {\"CRIM\": 0.7904100000000001, \"ZN\": 0.0, \"INDUS\": 9.9, \"CHAS\": 0, \"NOX\": 0.544, \"RM\": 6.122, \"AGE\": 52.8, \"DIS\": 2.6403, \"RAD\": 4, \"TAX\": 304.0, \"PTRATIO\": 18.4, \"B\": 396.9, \"LSTAT\": 5.98, \"MEDV\": 22.1}, {\"CRIM\": 0.26169000000000003, \"ZN\": 0.0, \"INDUS\": 9.9, \"CHAS\": 0, \"NOX\": 0.544, \"RM\": 6.023, \"AGE\": 90.4, \"DIS\": 2.834, \"RAD\": 4, \"TAX\": 304.0, \"PTRATIO\": 18.4, \"B\": 396.3, \"LSTAT\": 11.72, \"MEDV\": 19.4}, {\"CRIM\": 0.26938, \"ZN\": 0.0, \"INDUS\": 9.9, \"CHAS\": 0, \"NOX\": 0.544, \"RM\": 6.266, \"AGE\": 82.8, \"DIS\": 3.2628, \"RAD\": 4, \"TAX\": 304.0, \"PTRATIO\": 18.4, \"B\": 393.39, \"LSTAT\": 7.9, \"MEDV\": 21.6}, {\"CRIM\": 0.3692, \"ZN\": 0.0, \"INDUS\": 9.9, \"CHAS\": 0, \"NOX\": 0.544, \"RM\": 6.567, \"AGE\": 87.3, \"DIS\": 3.6023, \"RAD\": 4, \"TAX\": 304.0, \"PTRATIO\": 18.4, \"B\": 395.69, \"LSTAT\": 9.28, \"MEDV\": 23.8}, {\"CRIM\": 0.25356, \"ZN\": 0.0, \"INDUS\": 9.9, \"CHAS\": 0, \"NOX\": 0.544, \"RM\": 5.705, \"AGE\": 77.7, \"DIS\": 3.945, \"RAD\": 4, \"TAX\": 304.0, \"PTRATIO\": 18.4, \"B\": 396.42, \"LSTAT\": 11.5, \"MEDV\": 16.2}, {\"CRIM\": 0.31827, \"ZN\": 0.0, \"INDUS\": 9.9, \"CHAS\": 0, \"NOX\": 0.544, \"RM\": 5.914, \"AGE\": 83.2, \"DIS\": 3.9986, \"RAD\": 4, \"TAX\": 304.0, \"PTRATIO\": 18.4, \"B\": 390.7, \"LSTAT\": 18.33, \"MEDV\": 17.8}, {\"CRIM\": 0.24522, \"ZN\": 0.0, \"INDUS\": 9.9, \"CHAS\": 0, \"NOX\": 0.544, \"RM\": 5.782, \"AGE\": 71.7, \"DIS\": 4.0317, \"RAD\": 4, \"TAX\": 304.0, \"PTRATIO\": 18.4, \"B\": 396.9, \"LSTAT\": 15.94, \"MEDV\": 19.8}, {\"CRIM\": 0.40202, \"ZN\": 0.0, \"INDUS\": 9.9, \"CHAS\": 0, \"NOX\": 0.544, \"RM\": 6.382, \"AGE\": 67.2, \"DIS\": 3.5325, \"RAD\": 4, \"TAX\": 304.0, \"PTRATIO\": 18.4, \"B\": 395.21, \"LSTAT\": 10.36, \"MEDV\": 23.1}, {\"CRIM\": 0.47547, \"ZN\": 0.0, \"INDUS\": 9.9, \"CHAS\": 0, \"NOX\": 0.544, \"RM\": 6.113, \"AGE\": 58.8, \"DIS\": 4.0019, \"RAD\": 4, \"TAX\": 304.0, \"PTRATIO\": 18.4, \"B\": 396.23, \"LSTAT\": 12.73, \"MEDV\": 21.0}, {\"CRIM\": 0.1676, \"ZN\": 0.0, \"INDUS\": 7.38, \"CHAS\": 0, \"NOX\": 0.493, \"RM\": 6.426, \"AGE\": 52.3, \"DIS\": 4.5404, \"RAD\": 5, \"TAX\": 287.0, \"PTRATIO\": 19.6, \"B\": 396.9, \"LSTAT\": 7.2, \"MEDV\": 23.8}, {\"CRIM\": 0.18159, \"ZN\": 0.0, \"INDUS\": 7.38, \"CHAS\": 0, \"NOX\": 0.493, \"RM\": 6.376, \"AGE\": 54.3, \"DIS\": 4.5404, \"RAD\": 5, \"TAX\": 287.0, \"PTRATIO\": 19.6, \"B\": 396.9, \"LSTAT\": 6.87, \"MEDV\": 23.1}, {\"CRIM\": 0.35114, \"ZN\": 0.0, \"INDUS\": 7.38, \"CHAS\": 0, \"NOX\": 0.493, \"RM\": 6.041, \"AGE\": 49.9, \"DIS\": 4.7211, \"RAD\": 5, \"TAX\": 287.0, \"PTRATIO\": 19.6, \"B\": 396.9, \"LSTAT\": 7.7, \"MEDV\": 20.4}, {\"CRIM\": 0.28392, \"ZN\": 0.0, \"INDUS\": 7.38, \"CHAS\": 0, \"NOX\": 0.493, \"RM\": 5.708, \"AGE\": 74.3, \"DIS\": 4.7211, \"RAD\": 5, \"TAX\": 287.0, \"PTRATIO\": 19.6, \"B\": 391.13, \"LSTAT\": 11.74, \"MEDV\": 18.5}, {\"CRIM\": 0.34109, \"ZN\": 0.0, \"INDUS\": 7.38, \"CHAS\": 0, \"NOX\": 0.493, \"RM\": 6.415, \"AGE\": 40.1, \"DIS\": 4.7211, \"RAD\": 5, \"TAX\": 287.0, \"PTRATIO\": 19.6, \"B\": 396.9, \"LSTAT\": 6.12, \"MEDV\": 25.0}, {\"CRIM\": 0.19186, \"ZN\": 0.0, \"INDUS\": 7.38, \"CHAS\": 0, \"NOX\": 0.493, \"RM\": 6.431, \"AGE\": 14.7, \"DIS\": 5.4159, \"RAD\": 5, \"TAX\": 287.0, \"PTRATIO\": 19.6, \"B\": 393.68, \"LSTAT\": 5.08, \"MEDV\": 24.6}, {\"CRIM\": 0.30346999999999996, \"ZN\": 0.0, \"INDUS\": 7.38, \"CHAS\": 0, \"NOX\": 0.493, \"RM\": 6.312, \"AGE\": 28.9, \"DIS\": 5.4159, \"RAD\": 5, \"TAX\": 287.0, \"PTRATIO\": 19.6, \"B\": 396.9, \"LSTAT\": 6.15, \"MEDV\": 23.0}, {\"CRIM\": 0.24103000000000002, \"ZN\": 0.0, \"INDUS\": 7.38, \"CHAS\": 0, \"NOX\": 0.493, \"RM\": 6.083, \"AGE\": 43.7, \"DIS\": 5.4159, \"RAD\": 5, \"TAX\": 287.0, \"PTRATIO\": 19.6, \"B\": 396.9, \"LSTAT\": 12.79, \"MEDV\": 22.2}, {\"CRIM\": 0.06617, \"ZN\": 0.0, \"INDUS\": 3.24, \"CHAS\": 0, \"NOX\": 0.46, \"RM\": 5.868, \"AGE\": 25.8, \"DIS\": 5.2146, \"RAD\": 4, \"TAX\": 430.0, \"PTRATIO\": 16.9, \"B\": 382.44, \"LSTAT\": 9.97, \"MEDV\": 19.3}, {\"CRIM\": 0.06724, \"ZN\": 0.0, \"INDUS\": 3.24, \"CHAS\": 0, \"NOX\": 0.46, \"RM\": 6.333, \"AGE\": 17.2, \"DIS\": 5.2146, \"RAD\": 4, \"TAX\": 430.0, \"PTRATIO\": 16.9, \"B\": 375.21, \"LSTAT\": 7.34, \"MEDV\": 22.6}, {\"CRIM\": 0.045439999999999994, \"ZN\": 0.0, \"INDUS\": 3.24, \"CHAS\": 0, \"NOX\": 0.46, \"RM\": 6.144, \"AGE\": 32.2, \"DIS\": 5.8736, \"RAD\": 4, \"TAX\": 430.0, \"PTRATIO\": 16.9, \"B\": 368.57, \"LSTAT\": 9.09, \"MEDV\": 19.8}, {\"CRIM\": 0.050230000000000004, \"ZN\": 35.0, \"INDUS\": 6.06, \"CHAS\": 0, \"NOX\": 0.4379, \"RM\": 5.706, \"AGE\": 28.4, \"DIS\": 6.6407, \"RAD\": 1, \"TAX\": 304.0, \"PTRATIO\": 16.9, \"B\": 394.02, \"LSTAT\": 12.43, \"MEDV\": 17.1}, {\"CRIM\": 0.03466, \"ZN\": 35.0, \"INDUS\": 6.06, \"CHAS\": 0, \"NOX\": 0.4379, \"RM\": 6.031, \"AGE\": 23.3, \"DIS\": 6.6407, \"RAD\": 1, \"TAX\": 304.0, \"PTRATIO\": 16.9, \"B\": 362.25, \"LSTAT\": 7.83, \"MEDV\": 19.4}, {\"CRIM\": 0.05083, \"ZN\": 0.0, \"INDUS\": 5.19, \"CHAS\": 0, \"NOX\": 0.515, \"RM\": 6.316, \"AGE\": 38.1, \"DIS\": 6.4584, \"RAD\": 5, \"TAX\": 224.0, \"PTRATIO\": 20.2, \"B\": 389.71, \"LSTAT\": 5.68, \"MEDV\": 22.2}, {\"CRIM\": 0.037380000000000004, \"ZN\": 0.0, \"INDUS\": 5.19, \"CHAS\": 0, \"NOX\": 0.515, \"RM\": 6.31, \"AGE\": 38.5, \"DIS\": 6.4584, \"RAD\": 5, \"TAX\": 224.0, \"PTRATIO\": 20.2, \"B\": 389.4, \"LSTAT\": 6.75, \"MEDV\": 20.7}, {\"CRIM\": 0.03961, \"ZN\": 0.0, \"INDUS\": 5.19, \"CHAS\": 0, \"NOX\": 0.515, \"RM\": 6.037, \"AGE\": 34.5, \"DIS\": 5.9853, \"RAD\": 5, \"TAX\": 224.0, \"PTRATIO\": 20.2, \"B\": 396.9, \"LSTAT\": 8.01, \"MEDV\": 21.1}, {\"CRIM\": 0.03427, \"ZN\": 0.0, \"INDUS\": 5.19, \"CHAS\": 0, \"NOX\": 0.515, \"RM\": 5.869, \"AGE\": 46.3, \"DIS\": 5.2311, \"RAD\": 5, \"TAX\": 224.0, \"PTRATIO\": 20.2, \"B\": 396.9, \"LSTAT\": 9.8, \"MEDV\": 19.5}, {\"CRIM\": 0.030410000000000003, \"ZN\": 0.0, \"INDUS\": 5.19, \"CHAS\": 0, \"NOX\": 0.515, \"RM\": 5.895, \"AGE\": 59.6, \"DIS\": 5.615, \"RAD\": 5, \"TAX\": 224.0, \"PTRATIO\": 20.2, \"B\": 394.81, \"LSTAT\": 10.56, \"MEDV\": 18.5}, {\"CRIM\": 0.03306, \"ZN\": 0.0, \"INDUS\": 5.19, \"CHAS\": 0, \"NOX\": 0.515, \"RM\": 6.059, \"AGE\": 37.3, \"DIS\": 4.8122, \"RAD\": 5, \"TAX\": 224.0, \"PTRATIO\": 20.2, \"B\": 396.14, \"LSTAT\": 8.51, \"MEDV\": 20.6}, {\"CRIM\": 0.054970000000000005, \"ZN\": 0.0, \"INDUS\": 5.19, \"CHAS\": 0, \"NOX\": 0.515, \"RM\": 5.985, \"AGE\": 45.4, \"DIS\": 4.8122, \"RAD\": 5, \"TAX\": 224.0, \"PTRATIO\": 20.2, \"B\": 396.9, \"LSTAT\": 9.74, \"MEDV\": 19.0}, {\"CRIM\": 0.06151, \"ZN\": 0.0, \"INDUS\": 5.19, \"CHAS\": 0, \"NOX\": 0.515, \"RM\": 5.968, \"AGE\": 58.5, \"DIS\": 4.8122, \"RAD\": 5, \"TAX\": 224.0, \"PTRATIO\": 20.2, \"B\": 396.9, \"LSTAT\": 9.29, \"MEDV\": 18.7}, {\"CRIM\": 0.013009999999999999, \"ZN\": 35.0, \"INDUS\": 1.52, \"CHAS\": 0, \"NOX\": 0.442, \"RM\": 7.241, \"AGE\": 49.3, \"DIS\": 7.0379, \"RAD\": 1, \"TAX\": 284.0, \"PTRATIO\": 15.5, \"B\": 394.74, \"LSTAT\": 5.49, \"MEDV\": 32.7}, {\"CRIM\": 0.024980000000000002, \"ZN\": 0.0, \"INDUS\": 1.89, \"CHAS\": 0, \"NOX\": 0.518, \"RM\": 6.54, \"AGE\": 59.7, \"DIS\": 6.2669, \"RAD\": 1, \"TAX\": 422.0, \"PTRATIO\": 15.9, \"B\": 389.96, \"LSTAT\": 8.65, \"MEDV\": 16.5}, {\"CRIM\": 0.02543, \"ZN\": 55.0, \"INDUS\": 3.78, \"CHAS\": 0, \"NOX\": 0.484, \"RM\": 6.696, \"AGE\": 56.4, \"DIS\": 5.7321, \"RAD\": 5, \"TAX\": 370.0, \"PTRATIO\": 17.6, \"B\": 396.9, \"LSTAT\": 7.18, \"MEDV\": 23.9}, {\"CRIM\": 0.030489999999999996, \"ZN\": 55.0, \"INDUS\": 3.78, \"CHAS\": 0, \"NOX\": 0.484, \"RM\": 6.874, \"AGE\": 28.1, \"DIS\": 6.4654, \"RAD\": 5, \"TAX\": 370.0, \"PTRATIO\": 17.6, \"B\": 387.97, \"LSTAT\": 4.61, \"MEDV\": 31.2}, {\"CRIM\": 0.03113, \"ZN\": 0.0, \"INDUS\": 4.39, \"CHAS\": 0, \"NOX\": 0.442, \"RM\": 6.014, \"AGE\": 48.5, \"DIS\": 8.0136, \"RAD\": 3, \"TAX\": 352.0, \"PTRATIO\": 18.8, \"B\": 385.64, \"LSTAT\": 10.53, \"MEDV\": 17.5}, {\"CRIM\": 0.06162, \"ZN\": 0.0, \"INDUS\": 4.39, \"CHAS\": 0, \"NOX\": 0.442, \"RM\": 5.898, \"AGE\": 52.3, \"DIS\": 8.0136, \"RAD\": 3, \"TAX\": 352.0, \"PTRATIO\": 18.8, \"B\": 364.61, \"LSTAT\": 12.67, \"MEDV\": 17.2}, {\"CRIM\": 0.0187, \"ZN\": 85.0, \"INDUS\": 4.15, \"CHAS\": 0, \"NOX\": 0.429, \"RM\": 6.516, \"AGE\": 27.7, \"DIS\": 8.5353, \"RAD\": 4, \"TAX\": 351.0, \"PTRATIO\": 17.9, \"B\": 392.43, \"LSTAT\": 6.36, \"MEDV\": 23.1}, {\"CRIM\": 0.015009999999999999, \"ZN\": 80.0, \"INDUS\": 2.01, \"CHAS\": 0, \"NOX\": 0.435, \"RM\": 6.635, \"AGE\": 29.7, \"DIS\": 8.344, \"RAD\": 4, \"TAX\": 280.0, \"PTRATIO\": 17.0, \"B\": 390.94, \"LSTAT\": 5.99, \"MEDV\": 24.5}, {\"CRIM\": 0.02899, \"ZN\": 40.0, \"INDUS\": 1.25, \"CHAS\": 0, \"NOX\": 0.429, \"RM\": 6.939, \"AGE\": 34.5, \"DIS\": 8.7921, \"RAD\": 1, \"TAX\": 335.0, \"PTRATIO\": 19.7, \"B\": 389.85, \"LSTAT\": 5.89, \"MEDV\": 26.6}, {\"CRIM\": 0.062110000000000005, \"ZN\": 40.0, \"INDUS\": 1.25, \"CHAS\": 0, \"NOX\": 0.429, \"RM\": 6.49, \"AGE\": 44.4, \"DIS\": 8.7921, \"RAD\": 1, \"TAX\": 335.0, \"PTRATIO\": 19.7, \"B\": 396.9, \"LSTAT\": 5.98, \"MEDV\": 22.9}, {\"CRIM\": 0.0795, \"ZN\": 60.0, \"INDUS\": 1.69, \"CHAS\": 0, \"NOX\": 0.411, \"RM\": 6.579, \"AGE\": 35.9, \"DIS\": 10.7103, \"RAD\": 4, \"TAX\": 411.0, \"PTRATIO\": 18.3, \"B\": 370.78, \"LSTAT\": 5.49, \"MEDV\": 24.1}, {\"CRIM\": 0.07244, \"ZN\": 60.0, \"INDUS\": 1.69, \"CHAS\": 0, \"NOX\": 0.411, \"RM\": 5.884, \"AGE\": 18.5, \"DIS\": 10.7103, \"RAD\": 4, \"TAX\": 411.0, \"PTRATIO\": 18.3, \"B\": 392.33, \"LSTAT\": 7.79, \"MEDV\": 18.6}, {\"CRIM\": 0.01709, \"ZN\": 90.0, \"INDUS\": 2.02, \"CHAS\": 0, \"NOX\": 0.41, \"RM\": 6.728, \"AGE\": 36.1, \"DIS\": 12.1265, \"RAD\": 5, \"TAX\": 187.0, \"PTRATIO\": 17.0, \"B\": 384.46, \"LSTAT\": 4.5, \"MEDV\": 30.1}, {\"CRIM\": 0.04301, \"ZN\": 80.0, \"INDUS\": 1.91, \"CHAS\": 0, \"NOX\": 0.413, \"RM\": 5.663, \"AGE\": 21.9, \"DIS\": 10.5857, \"RAD\": 4, \"TAX\": 334.0, \"PTRATIO\": 22.0, \"B\": 382.8, \"LSTAT\": 8.05, \"MEDV\": 18.2}, {\"CRIM\": 0.10659, \"ZN\": 80.0, \"INDUS\": 1.91, \"CHAS\": 0, \"NOX\": 0.413, \"RM\": 5.936, \"AGE\": 19.5, \"DIS\": 10.5857, \"RAD\": 4, \"TAX\": 334.0, \"PTRATIO\": 22.0, \"B\": 376.04, \"LSTAT\": 5.57, \"MEDV\": 20.6}, {\"CRIM\": 8.98296, \"ZN\": 0.0, \"INDUS\": 18.1, \"CHAS\": 1, \"NOX\": 0.77, \"RM\": 6.212, \"AGE\": 97.4, \"DIS\": 2.1222, \"RAD\": 24, \"TAX\": 666.0, \"PTRATIO\": 20.2, \"B\": 377.73, \"LSTAT\": 17.6, \"MEDV\": 17.8}, {\"CRIM\": 3.8497, \"ZN\": 0.0, \"INDUS\": 18.1, \"CHAS\": 1, \"NOX\": 0.77, \"RM\": 6.395, \"AGE\": 91.0, \"DIS\": 2.5052, \"RAD\": 24, \"TAX\": 666.0, \"PTRATIO\": 20.2, \"B\": 391.34, \"LSTAT\": 13.27, \"MEDV\": 21.7}, {\"CRIM\": 5.20177, \"ZN\": 0.0, \"INDUS\": 18.1, \"CHAS\": 1, \"NOX\": 0.77, \"RM\": 6.127, \"AGE\": 83.4, \"DIS\": 2.7227, \"RAD\": 24, \"TAX\": 666.0, \"PTRATIO\": 20.2, \"B\": 395.43, \"LSTAT\": 11.48, \"MEDV\": 22.7}, {\"CRIM\": 4.26131, \"ZN\": 0.0, \"INDUS\": 18.1, \"CHAS\": 0, \"NOX\": 0.77, \"RM\": 6.112, \"AGE\": 81.3, \"DIS\": 2.5091, \"RAD\": 24, \"TAX\": 666.0, \"PTRATIO\": 20.2, \"B\": 390.74, \"LSTAT\": 12.67, \"MEDV\": 22.6}, {\"CRIM\": 4.541919999999999, \"ZN\": 0.0, \"INDUS\": 18.1, \"CHAS\": 0, \"NOX\": 0.77, \"RM\": 6.398, \"AGE\": 88.0, \"DIS\": 2.5182, \"RAD\": 24, \"TAX\": 666.0, \"PTRATIO\": 20.2, \"B\": 374.56, \"LSTAT\": 7.79, \"MEDV\": 25.0}, {\"CRIM\": 3.83684, \"ZN\": 0.0, \"INDUS\": 18.1, \"CHAS\": 0, \"NOX\": 0.77, \"RM\": 6.251, \"AGE\": 91.1, \"DIS\": 2.2955, \"RAD\": 24, \"TAX\": 666.0, \"PTRATIO\": 20.2, \"B\": 350.65, \"LSTAT\": 14.19, \"MEDV\": 19.9}, {\"CRIM\": 3.6782199999999996, \"ZN\": 0.0, \"INDUS\": 18.1, \"CHAS\": 0, \"NOX\": 0.77, \"RM\": 5.362, \"AGE\": 96.2, \"DIS\": 2.1036, \"RAD\": 24, \"TAX\": 666.0, \"PTRATIO\": 20.2, \"B\": 380.79, \"LSTAT\": 10.19, \"MEDV\": 20.8}, {\"CRIM\": 4.22239, \"ZN\": 0.0, \"INDUS\": 18.1, \"CHAS\": 1, \"NOX\": 0.77, \"RM\": 5.803, \"AGE\": 89.0, \"DIS\": 1.9047, \"RAD\": 24, \"TAX\": 666.0, \"PTRATIO\": 20.2, \"B\": 353.04, \"LSTAT\": 14.64, \"MEDV\": 16.8}, {\"CRIM\": 3.4742800000000003, \"ZN\": 0.0, \"INDUS\": 18.1, \"CHAS\": 1, \"NOX\": 0.718, \"RM\": 8.78, \"AGE\": 82.9, \"DIS\": 1.9047, \"RAD\": 24, \"TAX\": 666.0, \"PTRATIO\": 20.2, \"B\": 354.55, \"LSTAT\": 5.29, \"MEDV\": 21.9}, {\"CRIM\": 4.55587, \"ZN\": 0.0, \"INDUS\": 18.1, \"CHAS\": 0, \"NOX\": 0.718, \"RM\": 3.561, \"AGE\": 87.9, \"DIS\": 1.6132, \"RAD\": 24, \"TAX\": 666.0, \"PTRATIO\": 20.2, \"B\": 354.7, \"LSTAT\": 7.12, \"MEDV\": 27.5}, {\"CRIM\": 3.69695, \"ZN\": 0.0, \"INDUS\": 18.1, \"CHAS\": 0, \"NOX\": 0.718, \"RM\": 4.963, \"AGE\": 91.4, \"DIS\": 1.7523, \"RAD\": 24, \"TAX\": 666.0, \"PTRATIO\": 20.2, \"B\": 316.03, \"LSTAT\": 14.0, \"MEDV\": 21.9}, {\"CRIM\": 13.5222, \"ZN\": 0.0, \"INDUS\": 18.1, \"CHAS\": 0, \"NOX\": 0.631, \"RM\": 3.863, \"AGE\": 100.0, \"DIS\": 1.5106, \"RAD\": 24, \"TAX\": 666.0, \"PTRATIO\": 20.2, \"B\": 131.42, \"LSTAT\": 13.33, \"MEDV\": 23.1}, {\"CRIM\": 4.898219999999999, \"ZN\": 0.0, \"INDUS\": 18.1, \"CHAS\": 0, \"NOX\": 0.631, \"RM\": 4.97, \"AGE\": 100.0, \"DIS\": 1.3325, \"RAD\": 24, \"TAX\": 666.0, \"PTRATIO\": 20.2, \"B\": 375.52, \"LSTAT\": 3.26, \"MEDV\": 50.0}, {\"CRIM\": 5.669980000000001, \"ZN\": 0.0, \"INDUS\": 18.1, \"CHAS\": 1, \"NOX\": 0.631, \"RM\": 6.683, \"AGE\": 96.8, \"DIS\": 1.3567, \"RAD\": 24, \"TAX\": 666.0, \"PTRATIO\": 20.2, \"B\": 375.33, \"LSTAT\": 3.73, \"MEDV\": 50.0}, {\"CRIM\": 6.53876, \"ZN\": 0.0, \"INDUS\": 18.1, \"CHAS\": 1, \"NOX\": 0.631, \"RM\": 7.016, \"AGE\": 97.5, \"DIS\": 1.2024, \"RAD\": 24, \"TAX\": 666.0, \"PTRATIO\": 20.2, \"B\": 392.05, \"LSTAT\": 2.96, \"MEDV\": 50.0}, {\"CRIM\": 9.2323, \"ZN\": 0.0, \"INDUS\": 18.1, \"CHAS\": 0, \"NOX\": 0.631, \"RM\": 6.216, \"AGE\": 100.0, \"DIS\": 1.1691, \"RAD\": 24, \"TAX\": 666.0, \"PTRATIO\": 20.2, \"B\": 366.15, \"LSTAT\": 9.53, \"MEDV\": 50.0}, {\"CRIM\": 8.26725, \"ZN\": 0.0, \"INDUS\": 18.1, \"CHAS\": 1, \"NOX\": 0.668, \"RM\": 5.875, \"AGE\": 89.6, \"DIS\": 1.1296, \"RAD\": 24, \"TAX\": 666.0, \"PTRATIO\": 20.2, \"B\": 347.88, \"LSTAT\": 8.88, \"MEDV\": 50.0}, {\"CRIM\": 11.1081, \"ZN\": 0.0, \"INDUS\": 18.1, \"CHAS\": 0, \"NOX\": 0.668, \"RM\": 4.906, \"AGE\": 100.0, \"DIS\": 1.1742, \"RAD\": 24, \"TAX\": 666.0, \"PTRATIO\": 20.2, \"B\": 396.9, \"LSTAT\": 34.77, \"MEDV\": 13.8}, {\"CRIM\": 18.4982, \"ZN\": 0.0, \"INDUS\": 18.1, \"CHAS\": 0, \"NOX\": 0.668, \"RM\": 4.138, \"AGE\": 100.0, \"DIS\": 1.137, \"RAD\": 24, \"TAX\": 666.0, \"PTRATIO\": 20.2, \"B\": 396.9, \"LSTAT\": 37.97, \"MEDV\": 13.8}, {\"CRIM\": 19.6091, \"ZN\": 0.0, \"INDUS\": 18.1, \"CHAS\": 0, \"NOX\": 0.671, \"RM\": 7.313, \"AGE\": 97.9, \"DIS\": 1.3163, \"RAD\": 24, \"TAX\": 666.0, \"PTRATIO\": 20.2, \"B\": 396.9, \"LSTAT\": 13.44, \"MEDV\": 15.0}, {\"CRIM\": 15.288, \"ZN\": 0.0, \"INDUS\": 18.1, \"CHAS\": 0, \"NOX\": 0.671, \"RM\": 6.649, \"AGE\": 93.3, \"DIS\": 1.3449, \"RAD\": 24, \"TAX\": 666.0, \"PTRATIO\": 20.2, \"B\": 363.02, \"LSTAT\": 23.24, \"MEDV\": 13.9}, {\"CRIM\": 9.82349, \"ZN\": 0.0, \"INDUS\": 18.1, \"CHAS\": 0, \"NOX\": 0.671, \"RM\": 6.794, \"AGE\": 98.8, \"DIS\": 1.358, \"RAD\": 24, \"TAX\": 666.0, \"PTRATIO\": 20.2, \"B\": 396.9, \"LSTAT\": 21.24, \"MEDV\": 13.3}, {\"CRIM\": 23.6482, \"ZN\": 0.0, \"INDUS\": 18.1, \"CHAS\": 0, \"NOX\": 0.671, \"RM\": 6.38, \"AGE\": 96.2, \"DIS\": 1.3861, \"RAD\": 24, \"TAX\": 666.0, \"PTRATIO\": 20.2, \"B\": 396.9, \"LSTAT\": 23.69, \"MEDV\": 13.1}, {\"CRIM\": 17.8667, \"ZN\": 0.0, \"INDUS\": 18.1, \"CHAS\": 0, \"NOX\": 0.671, \"RM\": 6.223, \"AGE\": 100.0, \"DIS\": 1.3861, \"RAD\": 24, \"TAX\": 666.0, \"PTRATIO\": 20.2, \"B\": 393.74, \"LSTAT\": 21.78, \"MEDV\": 10.2}, {\"CRIM\": 88.9762, \"ZN\": 0.0, \"INDUS\": 18.1, \"CHAS\": 0, \"NOX\": 0.671, \"RM\": 6.968, \"AGE\": 91.9, \"DIS\": 1.4165, \"RAD\": 24, \"TAX\": 666.0, \"PTRATIO\": 20.2, \"B\": 396.9, \"LSTAT\": 17.21, \"MEDV\": 10.4}, {\"CRIM\": 15.8744, \"ZN\": 0.0, \"INDUS\": 18.1, \"CHAS\": 0, \"NOX\": 0.671, \"RM\": 6.545, \"AGE\": 99.1, \"DIS\": 1.5192, \"RAD\": 24, \"TAX\": 666.0, \"PTRATIO\": 20.2, \"B\": 396.9, \"LSTAT\": 21.08, \"MEDV\": 10.9}, {\"CRIM\": 9.18702, \"ZN\": 0.0, \"INDUS\": 18.1, \"CHAS\": 0, \"NOX\": 0.7, \"RM\": 5.536, \"AGE\": 100.0, \"DIS\": 1.5804, \"RAD\": 24, \"TAX\": 666.0, \"PTRATIO\": 20.2, \"B\": 396.9, \"LSTAT\": 23.6, \"MEDV\": 11.3}, {\"CRIM\": 7.9924800000000005, \"ZN\": 0.0, \"INDUS\": 18.1, \"CHAS\": 0, \"NOX\": 0.7, \"RM\": 5.52, \"AGE\": 100.0, \"DIS\": 1.5331, \"RAD\": 24, \"TAX\": 666.0, \"PTRATIO\": 20.2, \"B\": 396.9, \"LSTAT\": 24.56, \"MEDV\": 12.3}, {\"CRIM\": 20.0849, \"ZN\": 0.0, \"INDUS\": 18.1, \"CHAS\": 0, \"NOX\": 0.7, \"RM\": 4.368, \"AGE\": 91.2, \"DIS\": 1.4395, \"RAD\": 24, \"TAX\": 666.0, \"PTRATIO\": 20.2, \"B\": 285.83, \"LSTAT\": 30.63, \"MEDV\": 8.8}, {\"CRIM\": 16.8118, \"ZN\": 0.0, \"INDUS\": 18.1, \"CHAS\": 0, \"NOX\": 0.7, \"RM\": 5.277, \"AGE\": 98.1, \"DIS\": 1.4261, \"RAD\": 24, \"TAX\": 666.0, \"PTRATIO\": 20.2, \"B\": 396.9, \"LSTAT\": 30.81, \"MEDV\": 7.2}, {\"CRIM\": 24.3938, \"ZN\": 0.0, \"INDUS\": 18.1, \"CHAS\": 0, \"NOX\": 0.7, \"RM\": 4.652, \"AGE\": 100.0, \"DIS\": 1.4672, \"RAD\": 24, \"TAX\": 666.0, \"PTRATIO\": 20.2, \"B\": 396.9, \"LSTAT\": 28.28, \"MEDV\": 10.5}, {\"CRIM\": 22.5971, \"ZN\": 0.0, \"INDUS\": 18.1, \"CHAS\": 0, \"NOX\": 0.7, \"RM\": 5.0, \"AGE\": 89.5, \"DIS\": 1.5184, \"RAD\": 24, \"TAX\": 666.0, \"PTRATIO\": 20.2, \"B\": 396.9, \"LSTAT\": 31.99, \"MEDV\": 7.4}, {\"CRIM\": 14.3337, \"ZN\": 0.0, \"INDUS\": 18.1, \"CHAS\": 0, \"NOX\": 0.7, \"RM\": 4.88, \"AGE\": 100.0, \"DIS\": 1.5895, \"RAD\": 24, \"TAX\": 666.0, \"PTRATIO\": 20.2, \"B\": 372.92, \"LSTAT\": 30.62, \"MEDV\": 10.2}, {\"CRIM\": 8.15174, \"ZN\": 0.0, \"INDUS\": 18.1, \"CHAS\": 0, \"NOX\": 0.7, \"RM\": 5.39, \"AGE\": 98.9, \"DIS\": 1.7281, \"RAD\": 24, \"TAX\": 666.0, \"PTRATIO\": 20.2, \"B\": 396.9, \"LSTAT\": 20.85, \"MEDV\": 11.5}, {\"CRIM\": 6.96215, \"ZN\": 0.0, \"INDUS\": 18.1, \"CHAS\": 0, \"NOX\": 0.7, \"RM\": 5.713, \"AGE\": 97.0, \"DIS\": 1.9265, \"RAD\": 24, \"TAX\": 666.0, \"PTRATIO\": 20.2, \"B\": 394.43, \"LSTAT\": 17.11, \"MEDV\": 15.1}, {\"CRIM\": 5.29305, \"ZN\": 0.0, \"INDUS\": 18.1, \"CHAS\": 0, \"NOX\": 0.7, \"RM\": 6.051, \"AGE\": 82.5, \"DIS\": 2.1678, \"RAD\": 24, \"TAX\": 666.0, \"PTRATIO\": 20.2, \"B\": 378.38, \"LSTAT\": 18.76, \"MEDV\": 23.2}, {\"CRIM\": 11.5779, \"ZN\": 0.0, \"INDUS\": 18.1, \"CHAS\": 0, \"NOX\": 0.7, \"RM\": 5.036, \"AGE\": 97.0, \"DIS\": 1.77, \"RAD\": 24, \"TAX\": 666.0, \"PTRATIO\": 20.2, \"B\": 396.9, \"LSTAT\": 25.68, \"MEDV\": 9.7}, {\"CRIM\": 8.64476, \"ZN\": 0.0, \"INDUS\": 18.1, \"CHAS\": 0, \"NOX\": 0.693, \"RM\": 6.193, \"AGE\": 92.6, \"DIS\": 1.7912, \"RAD\": 24, \"TAX\": 666.0, \"PTRATIO\": 20.2, \"B\": 396.9, \"LSTAT\": 15.17, \"MEDV\": 13.8}, {\"CRIM\": 13.3598, \"ZN\": 0.0, \"INDUS\": 18.1, \"CHAS\": 0, \"NOX\": 0.693, \"RM\": 5.887, \"AGE\": 94.7, \"DIS\": 1.7821, \"RAD\": 24, \"TAX\": 666.0, \"PTRATIO\": 20.2, \"B\": 396.9, \"LSTAT\": 16.35, \"MEDV\": 12.7}, {\"CRIM\": 8.71675, \"ZN\": 0.0, \"INDUS\": 18.1, \"CHAS\": 0, \"NOX\": 0.693, \"RM\": 6.471, \"AGE\": 98.8, \"DIS\": 1.7257, \"RAD\": 24, \"TAX\": 666.0, \"PTRATIO\": 20.2, \"B\": 391.98, \"LSTAT\": 17.12, \"MEDV\": 13.1}, {\"CRIM\": 5.87205, \"ZN\": 0.0, \"INDUS\": 18.1, \"CHAS\": 0, \"NOX\": 0.693, \"RM\": 6.405, \"AGE\": 96.0, \"DIS\": 1.6768, \"RAD\": 24, \"TAX\": 666.0, \"PTRATIO\": 20.2, \"B\": 396.9, \"LSTAT\": 19.37, \"MEDV\": 12.5}, {\"CRIM\": 7.67202, \"ZN\": 0.0, \"INDUS\": 18.1, \"CHAS\": 0, \"NOX\": 0.693, \"RM\": 5.747, \"AGE\": 98.9, \"DIS\": 1.6334, \"RAD\": 24, \"TAX\": 666.0, \"PTRATIO\": 20.2, \"B\": 393.1, \"LSTAT\": 19.92, \"MEDV\": 8.5}, {\"CRIM\": 38.3518, \"ZN\": 0.0, \"INDUS\": 18.1, \"CHAS\": 0, \"NOX\": 0.693, \"RM\": 5.453, \"AGE\": 100.0, \"DIS\": 1.4896, \"RAD\": 24, \"TAX\": 666.0, \"PTRATIO\": 20.2, \"B\": 396.9, \"LSTAT\": 30.59, \"MEDV\": 5.0}, {\"CRIM\": 9.91655, \"ZN\": 0.0, \"INDUS\": 18.1, \"CHAS\": 0, \"NOX\": 0.693, \"RM\": 5.852, \"AGE\": 77.8, \"DIS\": 1.5004, \"RAD\": 24, \"TAX\": 666.0, \"PTRATIO\": 20.2, \"B\": 338.16, \"LSTAT\": 29.97, \"MEDV\": 6.3}, {\"CRIM\": 25.0461, \"ZN\": 0.0, \"INDUS\": 18.1, \"CHAS\": 0, \"NOX\": 0.693, \"RM\": 5.987, \"AGE\": 100.0, \"DIS\": 1.5888, \"RAD\": 24, \"TAX\": 666.0, \"PTRATIO\": 20.2, \"B\": 396.9, \"LSTAT\": 26.77, \"MEDV\": 5.6}, {\"CRIM\": 14.2362, \"ZN\": 0.0, \"INDUS\": 18.1, \"CHAS\": 0, \"NOX\": 0.693, \"RM\": 6.343, \"AGE\": 100.0, \"DIS\": 1.5741, \"RAD\": 24, \"TAX\": 666.0, \"PTRATIO\": 20.2, \"B\": 396.9, \"LSTAT\": 20.32, \"MEDV\": 7.2}, {\"CRIM\": 9.59571, \"ZN\": 0.0, \"INDUS\": 18.1, \"CHAS\": 0, \"NOX\": 0.693, \"RM\": 6.404, \"AGE\": 100.0, \"DIS\": 1.639, \"RAD\": 24, \"TAX\": 666.0, \"PTRATIO\": 20.2, \"B\": 376.11, \"LSTAT\": 20.31, \"MEDV\": 12.1}, {\"CRIM\": 24.8017, \"ZN\": 0.0, \"INDUS\": 18.1, \"CHAS\": 0, \"NOX\": 0.693, \"RM\": 5.349, \"AGE\": 96.0, \"DIS\": 1.7028, \"RAD\": 24, \"TAX\": 666.0, \"PTRATIO\": 20.2, \"B\": 396.9, \"LSTAT\": 19.77, \"MEDV\": 8.3}, {\"CRIM\": 41.5292, \"ZN\": 0.0, \"INDUS\": 18.1, \"CHAS\": 0, \"NOX\": 0.693, \"RM\": 5.531, \"AGE\": 85.4, \"DIS\": 1.6074, \"RAD\": 24, \"TAX\": 666.0, \"PTRATIO\": 20.2, \"B\": 329.46, \"LSTAT\": 27.38, \"MEDV\": 8.5}, {\"CRIM\": 67.9208, \"ZN\": 0.0, \"INDUS\": 18.1, \"CHAS\": 0, \"NOX\": 0.693, \"RM\": 5.683, \"AGE\": 100.0, \"DIS\": 1.4254, \"RAD\": 24, \"TAX\": 666.0, \"PTRATIO\": 20.2, \"B\": 384.97, \"LSTAT\": 22.98, \"MEDV\": 5.0}, {\"CRIM\": 20.7162, \"ZN\": 0.0, \"INDUS\": 18.1, \"CHAS\": 0, \"NOX\": 0.659, \"RM\": 4.138, \"AGE\": 100.0, \"DIS\": 1.1781, \"RAD\": 24, \"TAX\": 666.0, \"PTRATIO\": 20.2, \"B\": 370.22, \"LSTAT\": 23.34, \"MEDV\": 11.9}, {\"CRIM\": 11.9511, \"ZN\": 0.0, \"INDUS\": 18.1, \"CHAS\": 0, \"NOX\": 0.659, \"RM\": 5.608, \"AGE\": 100.0, \"DIS\": 1.2852, \"RAD\": 24, \"TAX\": 666.0, \"PTRATIO\": 20.2, \"B\": 332.09, \"LSTAT\": 12.13, \"MEDV\": 27.9}, {\"CRIM\": 7.40389, \"ZN\": 0.0, \"INDUS\": 18.1, \"CHAS\": 0, \"NOX\": 0.597, \"RM\": 5.617, \"AGE\": 97.9, \"DIS\": 1.4547, \"RAD\": 24, \"TAX\": 666.0, \"PTRATIO\": 20.2, \"B\": 314.64, \"LSTAT\": 26.4, \"MEDV\": 17.2}, {\"CRIM\": 14.4383, \"ZN\": 0.0, \"INDUS\": 18.1, \"CHAS\": 0, \"NOX\": 0.597, \"RM\": 6.852, \"AGE\": 100.0, \"DIS\": 1.4655, \"RAD\": 24, \"TAX\": 666.0, \"PTRATIO\": 20.2, \"B\": 179.36, \"LSTAT\": 19.78, \"MEDV\": 27.5}, {\"CRIM\": 51.1358, \"ZN\": 0.0, \"INDUS\": 18.1, \"CHAS\": 0, \"NOX\": 0.597, \"RM\": 5.757, \"AGE\": 100.0, \"DIS\": 1.413, \"RAD\": 24, \"TAX\": 666.0, \"PTRATIO\": 20.2, \"B\": 2.6, \"LSTAT\": 10.11, \"MEDV\": 15.0}, {\"CRIM\": 14.0507, \"ZN\": 0.0, \"INDUS\": 18.1, \"CHAS\": 0, \"NOX\": 0.597, \"RM\": 6.657, \"AGE\": 100.0, \"DIS\": 1.5275, \"RAD\": 24, \"TAX\": 666.0, \"PTRATIO\": 20.2, \"B\": 35.05, \"LSTAT\": 21.22, \"MEDV\": 17.2}, {\"CRIM\": 18.811, \"ZN\": 0.0, \"INDUS\": 18.1, \"CHAS\": 0, \"NOX\": 0.597, \"RM\": 4.628, \"AGE\": 100.0, \"DIS\": 1.5539, \"RAD\": 24, \"TAX\": 666.0, \"PTRATIO\": 20.2, \"B\": 28.79, \"LSTAT\": 34.37, \"MEDV\": 17.9}, {\"CRIM\": 28.6558, \"ZN\": 0.0, \"INDUS\": 18.1, \"CHAS\": 0, \"NOX\": 0.597, \"RM\": 5.155, \"AGE\": 100.0, \"DIS\": 1.5894, \"RAD\": 24, \"TAX\": 666.0, \"PTRATIO\": 20.2, \"B\": 210.97, \"LSTAT\": 20.08, \"MEDV\": 16.3}, {\"CRIM\": 45.7461, \"ZN\": 0.0, \"INDUS\": 18.1, \"CHAS\": 0, \"NOX\": 0.693, \"RM\": 4.519, \"AGE\": 100.0, \"DIS\": 1.6582, \"RAD\": 24, \"TAX\": 666.0, \"PTRATIO\": 20.2, \"B\": 88.27, \"LSTAT\": 36.98, \"MEDV\": 7.0}, {\"CRIM\": 18.0846, \"ZN\": 0.0, \"INDUS\": 18.1, \"CHAS\": 0, \"NOX\": 0.679, \"RM\": 6.434, \"AGE\": 100.0, \"DIS\": 1.8347, \"RAD\": 24, \"TAX\": 666.0, \"PTRATIO\": 20.2, \"B\": 27.25, \"LSTAT\": 29.05, \"MEDV\": 7.2}, {\"CRIM\": 10.8342, \"ZN\": 0.0, \"INDUS\": 18.1, \"CHAS\": 0, \"NOX\": 0.679, \"RM\": 6.782, \"AGE\": 90.8, \"DIS\": 1.8195, \"RAD\": 24, \"TAX\": 666.0, \"PTRATIO\": 20.2, \"B\": 21.57, \"LSTAT\": 25.79, \"MEDV\": 7.5}, {\"CRIM\": 25.9406, \"ZN\": 0.0, \"INDUS\": 18.1, \"CHAS\": 0, \"NOX\": 0.679, \"RM\": 5.304, \"AGE\": 89.1, \"DIS\": 1.6475, \"RAD\": 24, \"TAX\": 666.0, \"PTRATIO\": 20.2, \"B\": 127.36, \"LSTAT\": 26.64, \"MEDV\": 10.4}, {\"CRIM\": 73.5341, \"ZN\": 0.0, \"INDUS\": 18.1, \"CHAS\": 0, \"NOX\": 0.679, \"RM\": 5.957, \"AGE\": 100.0, \"DIS\": 1.8026, \"RAD\": 24, \"TAX\": 666.0, \"PTRATIO\": 20.2, \"B\": 16.45, \"LSTAT\": 20.62, \"MEDV\": 8.8}, {\"CRIM\": 11.8123, \"ZN\": 0.0, \"INDUS\": 18.1, \"CHAS\": 0, \"NOX\": 0.718, \"RM\": 6.824, \"AGE\": 76.5, \"DIS\": 1.794, \"RAD\": 24, \"TAX\": 666.0, \"PTRATIO\": 20.2, \"B\": 48.45, \"LSTAT\": 22.74, \"MEDV\": 8.4}, {\"CRIM\": 11.0874, \"ZN\": 0.0, \"INDUS\": 18.1, \"CHAS\": 0, \"NOX\": 0.718, \"RM\": 6.411, \"AGE\": 100.0, \"DIS\": 1.8589, \"RAD\": 24, \"TAX\": 666.0, \"PTRATIO\": 20.2, \"B\": 318.75, \"LSTAT\": 15.02, \"MEDV\": 16.7}, {\"CRIM\": 7.022589999999999, \"ZN\": 0.0, \"INDUS\": 18.1, \"CHAS\": 0, \"NOX\": 0.718, \"RM\": 6.006, \"AGE\": 95.3, \"DIS\": 1.8746, \"RAD\": 24, \"TAX\": 666.0, \"PTRATIO\": 20.2, \"B\": 319.98, \"LSTAT\": 15.7, \"MEDV\": 14.2}, {\"CRIM\": 12.0482, \"ZN\": 0.0, \"INDUS\": 18.1, \"CHAS\": 0, \"NOX\": 0.614, \"RM\": 5.648, \"AGE\": 87.6, \"DIS\": 1.9512, \"RAD\": 24, \"TAX\": 666.0, \"PTRATIO\": 20.2, \"B\": 291.55, \"LSTAT\": 14.1, \"MEDV\": 20.8}, {\"CRIM\": 7.05042, \"ZN\": 0.0, \"INDUS\": 18.1, \"CHAS\": 0, \"NOX\": 0.614, \"RM\": 6.103, \"AGE\": 85.1, \"DIS\": 2.0218, \"RAD\": 24, \"TAX\": 666.0, \"PTRATIO\": 20.2, \"B\": 2.52, \"LSTAT\": 23.29, \"MEDV\": 13.4}, {\"CRIM\": 8.792119999999999, \"ZN\": 0.0, \"INDUS\": 18.1, \"CHAS\": 0, \"NOX\": 0.584, \"RM\": 5.565, \"AGE\": 70.6, \"DIS\": 2.0635, \"RAD\": 24, \"TAX\": 666.0, \"PTRATIO\": 20.2, \"B\": 3.65, \"LSTAT\": 17.16, \"MEDV\": 11.7}, {\"CRIM\": 15.8603, \"ZN\": 0.0, \"INDUS\": 18.1, \"CHAS\": 0, \"NOX\": 0.679, \"RM\": 5.896, \"AGE\": 95.4, \"DIS\": 1.9096, \"RAD\": 24, \"TAX\": 666.0, \"PTRATIO\": 20.2, \"B\": 7.68, \"LSTAT\": 24.39, \"MEDV\": 8.3}, {\"CRIM\": 12.2472, \"ZN\": 0.0, \"INDUS\": 18.1, \"CHAS\": 0, \"NOX\": 0.584, \"RM\": 5.837, \"AGE\": 59.7, \"DIS\": 1.9976, \"RAD\": 24, \"TAX\": 666.0, \"PTRATIO\": 20.2, \"B\": 24.65, \"LSTAT\": 15.69, \"MEDV\": 10.2}, {\"CRIM\": 37.6619, \"ZN\": 0.0, \"INDUS\": 18.1, \"CHAS\": 0, \"NOX\": 0.679, \"RM\": 6.202, \"AGE\": 78.7, \"DIS\": 1.8629, \"RAD\": 24, \"TAX\": 666.0, \"PTRATIO\": 20.2, \"B\": 18.82, \"LSTAT\": 14.52, \"MEDV\": 10.9}, {\"CRIM\": 7.36711, \"ZN\": 0.0, \"INDUS\": 18.1, \"CHAS\": 0, \"NOX\": 0.679, \"RM\": 6.193, \"AGE\": 78.1, \"DIS\": 1.9356, \"RAD\": 24, \"TAX\": 666.0, \"PTRATIO\": 20.2, \"B\": 96.73, \"LSTAT\": 21.52, \"MEDV\": 11.0}, {\"CRIM\": 9.33889, \"ZN\": 0.0, \"INDUS\": 18.1, \"CHAS\": 0, \"NOX\": 0.679, \"RM\": 6.38, \"AGE\": 95.6, \"DIS\": 1.9682, \"RAD\": 24, \"TAX\": 666.0, \"PTRATIO\": 20.2, \"B\": 60.72, \"LSTAT\": 24.08, \"MEDV\": 9.5}, {\"CRIM\": 8.49213, \"ZN\": 0.0, \"INDUS\": 18.1, \"CHAS\": 0, \"NOX\": 0.584, \"RM\": 6.348, \"AGE\": 86.1, \"DIS\": 2.0527, \"RAD\": 24, \"TAX\": 666.0, \"PTRATIO\": 20.2, \"B\": 83.45, \"LSTAT\": 17.64, \"MEDV\": 14.5}, {\"CRIM\": 10.0623, \"ZN\": 0.0, \"INDUS\": 18.1, \"CHAS\": 0, \"NOX\": 0.584, \"RM\": 6.833, \"AGE\": 94.3, \"DIS\": 2.0882, \"RAD\": 24, \"TAX\": 666.0, \"PTRATIO\": 20.2, \"B\": 81.33, \"LSTAT\": 19.69, \"MEDV\": 14.1}, {\"CRIM\": 6.44405, \"ZN\": 0.0, \"INDUS\": 18.1, \"CHAS\": 0, \"NOX\": 0.584, \"RM\": 6.425, \"AGE\": 74.8, \"DIS\": 2.2004, \"RAD\": 24, \"TAX\": 666.0, \"PTRATIO\": 20.2, \"B\": 97.95, \"LSTAT\": 12.03, \"MEDV\": 16.1}, {\"CRIM\": 5.5810699999999995, \"ZN\": 0.0, \"INDUS\": 18.1, \"CHAS\": 0, \"NOX\": 0.713, \"RM\": 6.436, \"AGE\": 87.9, \"DIS\": 2.3158, \"RAD\": 24, \"TAX\": 666.0, \"PTRATIO\": 20.2, \"B\": 100.19, \"LSTAT\": 16.22, \"MEDV\": 14.3}, {\"CRIM\": 13.9134, \"ZN\": 0.0, \"INDUS\": 18.1, \"CHAS\": 0, \"NOX\": 0.713, \"RM\": 6.208, \"AGE\": 95.0, \"DIS\": 2.2222, \"RAD\": 24, \"TAX\": 666.0, \"PTRATIO\": 20.2, \"B\": 100.63, \"LSTAT\": 15.17, \"MEDV\": 11.7}, {\"CRIM\": 11.1604, \"ZN\": 0.0, \"INDUS\": 18.1, \"CHAS\": 0, \"NOX\": 0.74, \"RM\": 6.629, \"AGE\": 94.6, \"DIS\": 2.1247, \"RAD\": 24, \"TAX\": 666.0, \"PTRATIO\": 20.2, \"B\": 109.85, \"LSTAT\": 23.27, \"MEDV\": 13.4}, {\"CRIM\": 14.4208, \"ZN\": 0.0, \"INDUS\": 18.1, \"CHAS\": 0, \"NOX\": 0.74, \"RM\": 6.461, \"AGE\": 93.3, \"DIS\": 2.0026, \"RAD\": 24, \"TAX\": 666.0, \"PTRATIO\": 20.2, \"B\": 27.49, \"LSTAT\": 18.05, \"MEDV\": 9.6}, {\"CRIM\": 15.1772, \"ZN\": 0.0, \"INDUS\": 18.1, \"CHAS\": 0, \"NOX\": 0.74, \"RM\": 6.152, \"AGE\": 100.0, \"DIS\": 1.9142, \"RAD\": 24, \"TAX\": 666.0, \"PTRATIO\": 20.2, \"B\": 9.32, \"LSTAT\": 26.45, \"MEDV\": 8.7}, {\"CRIM\": 13.6781, \"ZN\": 0.0, \"INDUS\": 18.1, \"CHAS\": 0, \"NOX\": 0.74, \"RM\": 5.935, \"AGE\": 87.9, \"DIS\": 1.8206, \"RAD\": 24, \"TAX\": 666.0, \"PTRATIO\": 20.2, \"B\": 68.95, \"LSTAT\": 34.02, \"MEDV\": 8.4}, {\"CRIM\": 9.39063, \"ZN\": 0.0, \"INDUS\": 18.1, \"CHAS\": 0, \"NOX\": 0.74, \"RM\": 5.627, \"AGE\": 93.9, \"DIS\": 1.8172, \"RAD\": 24, \"TAX\": 666.0, \"PTRATIO\": 20.2, \"B\": 396.9, \"LSTAT\": 22.88, \"MEDV\": 12.8}, {\"CRIM\": 22.0511, \"ZN\": 0.0, \"INDUS\": 18.1, \"CHAS\": 0, \"NOX\": 0.74, \"RM\": 5.818, \"AGE\": 92.4, \"DIS\": 1.8662, \"RAD\": 24, \"TAX\": 666.0, \"PTRATIO\": 20.2, \"B\": 391.45, \"LSTAT\": 22.11, \"MEDV\": 10.5}, {\"CRIM\": 9.72418, \"ZN\": 0.0, \"INDUS\": 18.1, \"CHAS\": 0, \"NOX\": 0.74, \"RM\": 6.406, \"AGE\": 97.2, \"DIS\": 2.0651, \"RAD\": 24, \"TAX\": 666.0, \"PTRATIO\": 20.2, \"B\": 385.96, \"LSTAT\": 19.52, \"MEDV\": 17.1}, {\"CRIM\": 5.66637, \"ZN\": 0.0, \"INDUS\": 18.1, \"CHAS\": 0, \"NOX\": 0.74, \"RM\": 6.219, \"AGE\": 100.0, \"DIS\": 2.0048, \"RAD\": 24, \"TAX\": 666.0, \"PTRATIO\": 20.2, \"B\": 395.69, \"LSTAT\": 16.59, \"MEDV\": 18.4}, {\"CRIM\": 9.96654, \"ZN\": 0.0, \"INDUS\": 18.1, \"CHAS\": 0, \"NOX\": 0.74, \"RM\": 6.485, \"AGE\": 100.0, \"DIS\": 1.9784, \"RAD\": 24, \"TAX\": 666.0, \"PTRATIO\": 20.2, \"B\": 386.73, \"LSTAT\": 18.85, \"MEDV\": 15.4}, {\"CRIM\": 12.8023, \"ZN\": 0.0, \"INDUS\": 18.1, \"CHAS\": 0, \"NOX\": 0.74, \"RM\": 5.854, \"AGE\": 96.6, \"DIS\": 1.8956, \"RAD\": 24, \"TAX\": 666.0, \"PTRATIO\": 20.2, \"B\": 240.52, \"LSTAT\": 23.79, \"MEDV\": 10.8}, {\"CRIM\": 10.6718, \"ZN\": 0.0, \"INDUS\": 18.1, \"CHAS\": 0, \"NOX\": 0.74, \"RM\": 6.459, \"AGE\": 94.8, \"DIS\": 1.9879, \"RAD\": 24, \"TAX\": 666.0, \"PTRATIO\": 20.2, \"B\": 43.06, \"LSTAT\": 23.98, \"MEDV\": 11.8}, {\"CRIM\": 6.288069999999999, \"ZN\": 0.0, \"INDUS\": 18.1, \"CHAS\": 0, \"NOX\": 0.74, \"RM\": 6.341, \"AGE\": 96.4, \"DIS\": 2.072, \"RAD\": 24, \"TAX\": 666.0, \"PTRATIO\": 20.2, \"B\": 318.01, \"LSTAT\": 17.79, \"MEDV\": 14.9}, {\"CRIM\": 9.92485, \"ZN\": 0.0, \"INDUS\": 18.1, \"CHAS\": 0, \"NOX\": 0.74, \"RM\": 6.251, \"AGE\": 96.6, \"DIS\": 2.198, \"RAD\": 24, \"TAX\": 666.0, \"PTRATIO\": 20.2, \"B\": 388.52, \"LSTAT\": 16.44, \"MEDV\": 12.6}, {\"CRIM\": 9.329089999999999, \"ZN\": 0.0, \"INDUS\": 18.1, \"CHAS\": 0, \"NOX\": 0.713, \"RM\": 6.185, \"AGE\": 98.7, \"DIS\": 2.2616, \"RAD\": 24, \"TAX\": 666.0, \"PTRATIO\": 20.2, \"B\": 396.9, \"LSTAT\": 18.13, \"MEDV\": 14.1}, {\"CRIM\": 7.52601, \"ZN\": 0.0, \"INDUS\": 18.1, \"CHAS\": 0, \"NOX\": 0.713, \"RM\": 6.417, \"AGE\": 98.3, \"DIS\": 2.185, \"RAD\": 24, \"TAX\": 666.0, \"PTRATIO\": 20.2, \"B\": 304.21, \"LSTAT\": 19.31, \"MEDV\": 13.0}, {\"CRIM\": 6.71772, \"ZN\": 0.0, \"INDUS\": 18.1, \"CHAS\": 0, \"NOX\": 0.713, \"RM\": 6.749, \"AGE\": 92.6, \"DIS\": 2.3236, \"RAD\": 24, \"TAX\": 666.0, \"PTRATIO\": 20.2, \"B\": 0.32, \"LSTAT\": 17.44, \"MEDV\": 13.4}, {\"CRIM\": 5.44114, \"ZN\": 0.0, \"INDUS\": 18.1, \"CHAS\": 0, \"NOX\": 0.713, \"RM\": 6.655, \"AGE\": 98.2, \"DIS\": 2.3552, \"RAD\": 24, \"TAX\": 666.0, \"PTRATIO\": 20.2, \"B\": 355.29, \"LSTAT\": 17.73, \"MEDV\": 15.2}, {\"CRIM\": 5.09017, \"ZN\": 0.0, \"INDUS\": 18.1, \"CHAS\": 0, \"NOX\": 0.713, \"RM\": 6.297, \"AGE\": 91.8, \"DIS\": 2.3682, \"RAD\": 24, \"TAX\": 666.0, \"PTRATIO\": 20.2, \"B\": 385.09, \"LSTAT\": 17.27, \"MEDV\": 16.1}, {\"CRIM\": 8.24809, \"ZN\": 0.0, \"INDUS\": 18.1, \"CHAS\": 0, \"NOX\": 0.713, \"RM\": 7.393, \"AGE\": 99.3, \"DIS\": 2.4527, \"RAD\": 24, \"TAX\": 666.0, \"PTRATIO\": 20.2, \"B\": 375.87, \"LSTAT\": 16.74, \"MEDV\": 17.8}, {\"CRIM\": 9.513630000000001, \"ZN\": 0.0, \"INDUS\": 18.1, \"CHAS\": 0, \"NOX\": 0.713, \"RM\": 6.728, \"AGE\": 94.1, \"DIS\": 2.4961, \"RAD\": 24, \"TAX\": 666.0, \"PTRATIO\": 20.2, \"B\": 6.68, \"LSTAT\": 18.71, \"MEDV\": 14.9}, {\"CRIM\": 4.75237, \"ZN\": 0.0, \"INDUS\": 18.1, \"CHAS\": 0, \"NOX\": 0.713, \"RM\": 6.525, \"AGE\": 86.5, \"DIS\": 2.4358, \"RAD\": 24, \"TAX\": 666.0, \"PTRATIO\": 20.2, \"B\": 50.92, \"LSTAT\": 18.13, \"MEDV\": 14.1}, {\"CRIM\": 4.668830000000001, \"ZN\": 0.0, \"INDUS\": 18.1, \"CHAS\": 0, \"NOX\": 0.713, \"RM\": 5.976, \"AGE\": 87.9, \"DIS\": 2.5806, \"RAD\": 24, \"TAX\": 666.0, \"PTRATIO\": 20.2, \"B\": 10.48, \"LSTAT\": 19.01, \"MEDV\": 12.7}, {\"CRIM\": 8.20058, \"ZN\": 0.0, \"INDUS\": 18.1, \"CHAS\": 0, \"NOX\": 0.713, \"RM\": 5.936, \"AGE\": 80.3, \"DIS\": 2.7792, \"RAD\": 24, \"TAX\": 666.0, \"PTRATIO\": 20.2, \"B\": 3.5, \"LSTAT\": 16.94, \"MEDV\": 13.5}, {\"CRIM\": 7.75223, \"ZN\": 0.0, \"INDUS\": 18.1, \"CHAS\": 0, \"NOX\": 0.713, \"RM\": 6.301, \"AGE\": 83.7, \"DIS\": 2.7831, \"RAD\": 24, \"TAX\": 666.0, \"PTRATIO\": 20.2, \"B\": 272.21, \"LSTAT\": 16.23, \"MEDV\": 14.9}, {\"CRIM\": 6.80117, \"ZN\": 0.0, \"INDUS\": 18.1, \"CHAS\": 0, \"NOX\": 0.713, \"RM\": 6.081, \"AGE\": 84.4, \"DIS\": 2.7175, \"RAD\": 24, \"TAX\": 666.0, \"PTRATIO\": 20.2, \"B\": 396.9, \"LSTAT\": 14.7, \"MEDV\": 20.0}, {\"CRIM\": 4.812130000000001, \"ZN\": 0.0, \"INDUS\": 18.1, \"CHAS\": 0, \"NOX\": 0.713, \"RM\": 6.701, \"AGE\": 90.0, \"DIS\": 2.5975, \"RAD\": 24, \"TAX\": 666.0, \"PTRATIO\": 20.2, \"B\": 255.23, \"LSTAT\": 16.42, \"MEDV\": 16.4}, {\"CRIM\": 3.69311, \"ZN\": 0.0, \"INDUS\": 18.1, \"CHAS\": 0, \"NOX\": 0.713, \"RM\": 6.376, \"AGE\": 88.4, \"DIS\": 2.5671, \"RAD\": 24, \"TAX\": 666.0, \"PTRATIO\": 20.2, \"B\": 391.43, \"LSTAT\": 14.65, \"MEDV\": 17.7}, {\"CRIM\": 6.65492, \"ZN\": 0.0, \"INDUS\": 18.1, \"CHAS\": 0, \"NOX\": 0.713, \"RM\": 6.317, \"AGE\": 83.0, \"DIS\": 2.7344, \"RAD\": 24, \"TAX\": 666.0, \"PTRATIO\": 20.2, \"B\": 396.9, \"LSTAT\": 13.99, \"MEDV\": 19.5}, {\"CRIM\": 5.82115, \"ZN\": 0.0, \"INDUS\": 18.1, \"CHAS\": 0, \"NOX\": 0.713, \"RM\": 6.513, \"AGE\": 89.9, \"DIS\": 2.8016, \"RAD\": 24, \"TAX\": 666.0, \"PTRATIO\": 20.2, \"B\": 393.82, \"LSTAT\": 10.29, \"MEDV\": 20.2}, {\"CRIM\": 7.83932, \"ZN\": 0.0, \"INDUS\": 18.1, \"CHAS\": 0, \"NOX\": 0.655, \"RM\": 6.209, \"AGE\": 65.4, \"DIS\": 2.9634, \"RAD\": 24, \"TAX\": 666.0, \"PTRATIO\": 20.2, \"B\": 396.9, \"LSTAT\": 13.22, \"MEDV\": 21.4}, {\"CRIM\": 3.1636, \"ZN\": 0.0, \"INDUS\": 18.1, \"CHAS\": 0, \"NOX\": 0.655, \"RM\": 5.759, \"AGE\": 48.2, \"DIS\": 3.0665, \"RAD\": 24, \"TAX\": 666.0, \"PTRATIO\": 20.2, \"B\": 334.4, \"LSTAT\": 14.13, \"MEDV\": 19.9}, {\"CRIM\": 3.7749800000000002, \"ZN\": 0.0, \"INDUS\": 18.1, \"CHAS\": 0, \"NOX\": 0.655, \"RM\": 5.952, \"AGE\": 84.7, \"DIS\": 2.8715, \"RAD\": 24, \"TAX\": 666.0, \"PTRATIO\": 20.2, \"B\": 22.01, \"LSTAT\": 17.15, \"MEDV\": 19.0}, {\"CRIM\": 4.422280000000001, \"ZN\": 0.0, \"INDUS\": 18.1, \"CHAS\": 0, \"NOX\": 0.584, \"RM\": 6.003, \"AGE\": 94.5, \"DIS\": 2.5403, \"RAD\": 24, \"TAX\": 666.0, \"PTRATIO\": 20.2, \"B\": 331.29, \"LSTAT\": 21.32, \"MEDV\": 19.1}, {\"CRIM\": 15.5757, \"ZN\": 0.0, \"INDUS\": 18.1, \"CHAS\": 0, \"NOX\": 0.58, \"RM\": 5.926, \"AGE\": 71.0, \"DIS\": 2.9084, \"RAD\": 24, \"TAX\": 666.0, \"PTRATIO\": 20.2, \"B\": 368.74, \"LSTAT\": 18.13, \"MEDV\": 19.1}, {\"CRIM\": 13.0751, \"ZN\": 0.0, \"INDUS\": 18.1, \"CHAS\": 0, \"NOX\": 0.58, \"RM\": 5.713, \"AGE\": 56.7, \"DIS\": 2.8237, \"RAD\": 24, \"TAX\": 666.0, \"PTRATIO\": 20.2, \"B\": 396.9, \"LSTAT\": 14.76, \"MEDV\": 20.1}, {\"CRIM\": 4.34879, \"ZN\": 0.0, \"INDUS\": 18.1, \"CHAS\": 0, \"NOX\": 0.58, \"RM\": 6.167, \"AGE\": 84.0, \"DIS\": 3.0334, \"RAD\": 24, \"TAX\": 666.0, \"PTRATIO\": 20.2, \"B\": 396.9, \"LSTAT\": 16.29, \"MEDV\": 19.9}, {\"CRIM\": 4.03841, \"ZN\": 0.0, \"INDUS\": 18.1, \"CHAS\": 0, \"NOX\": 0.532, \"RM\": 6.229, \"AGE\": 90.7, \"DIS\": 3.0993, \"RAD\": 24, \"TAX\": 666.0, \"PTRATIO\": 20.2, \"B\": 395.33, \"LSTAT\": 12.87, \"MEDV\": 19.6}, {\"CRIM\": 3.56868, \"ZN\": 0.0, \"INDUS\": 18.1, \"CHAS\": 0, \"NOX\": 0.58, \"RM\": 6.437, \"AGE\": 75.0, \"DIS\": 2.8965, \"RAD\": 24, \"TAX\": 666.0, \"PTRATIO\": 20.2, \"B\": 393.37, \"LSTAT\": 14.36, \"MEDV\": 23.2}, {\"CRIM\": 4.64689, \"ZN\": 0.0, \"INDUS\": 18.1, \"CHAS\": 0, \"NOX\": 0.614, \"RM\": 6.98, \"AGE\": 67.6, \"DIS\": 2.5329, \"RAD\": 24, \"TAX\": 666.0, \"PTRATIO\": 20.2, \"B\": 374.68, \"LSTAT\": 11.66, \"MEDV\": 29.8}, {\"CRIM\": 8.05579, \"ZN\": 0.0, \"INDUS\": 18.1, \"CHAS\": 0, \"NOX\": 0.584, \"RM\": 5.427, \"AGE\": 95.4, \"DIS\": 2.4298, \"RAD\": 24, \"TAX\": 666.0, \"PTRATIO\": 20.2, \"B\": 352.58, \"LSTAT\": 18.14, \"MEDV\": 13.8}, {\"CRIM\": 6.39312, \"ZN\": 0.0, \"INDUS\": 18.1, \"CHAS\": 0, \"NOX\": 0.584, \"RM\": 6.162, \"AGE\": 97.4, \"DIS\": 2.206, \"RAD\": 24, \"TAX\": 666.0, \"PTRATIO\": 20.2, \"B\": 302.76, \"LSTAT\": 24.1, \"MEDV\": 13.3}, {\"CRIM\": 4.87141, \"ZN\": 0.0, \"INDUS\": 18.1, \"CHAS\": 0, \"NOX\": 0.614, \"RM\": 6.484, \"AGE\": 93.6, \"DIS\": 2.3053, \"RAD\": 24, \"TAX\": 666.0, \"PTRATIO\": 20.2, \"B\": 396.21, \"LSTAT\": 18.68, \"MEDV\": 16.7}, {\"CRIM\": 15.0234, \"ZN\": 0.0, \"INDUS\": 18.1, \"CHAS\": 0, \"NOX\": 0.614, \"RM\": 5.304, \"AGE\": 97.3, \"DIS\": 2.1007, \"RAD\": 24, \"TAX\": 666.0, \"PTRATIO\": 20.2, \"B\": 349.48, \"LSTAT\": 24.91, \"MEDV\": 12.0}, {\"CRIM\": 10.233, \"ZN\": 0.0, \"INDUS\": 18.1, \"CHAS\": 0, \"NOX\": 0.614, \"RM\": 6.185, \"AGE\": 96.7, \"DIS\": 2.1705, \"RAD\": 24, \"TAX\": 666.0, \"PTRATIO\": 20.2, \"B\": 379.7, \"LSTAT\": 18.03, \"MEDV\": 14.6}, {\"CRIM\": 14.3337, \"ZN\": 0.0, \"INDUS\": 18.1, \"CHAS\": 0, \"NOX\": 0.614, \"RM\": 6.229, \"AGE\": 88.0, \"DIS\": 1.9512, \"RAD\": 24, \"TAX\": 666.0, \"PTRATIO\": 20.2, \"B\": 383.32, \"LSTAT\": 13.11, \"MEDV\": 21.4}, {\"CRIM\": 5.8240099999999995, \"ZN\": 0.0, \"INDUS\": 18.1, \"CHAS\": 0, \"NOX\": 0.532, \"RM\": 6.242, \"AGE\": 64.7, \"DIS\": 3.4242, \"RAD\": 24, \"TAX\": 666.0, \"PTRATIO\": 20.2, \"B\": 396.9, \"LSTAT\": 10.74, \"MEDV\": 23.0}, {\"CRIM\": 5.7081800000000005, \"ZN\": 0.0, \"INDUS\": 18.1, \"CHAS\": 0, \"NOX\": 0.532, \"RM\": 6.75, \"AGE\": 74.9, \"DIS\": 3.3317, \"RAD\": 24, \"TAX\": 666.0, \"PTRATIO\": 20.2, \"B\": 393.07, \"LSTAT\": 7.74, \"MEDV\": 23.7}, {\"CRIM\": 5.73116, \"ZN\": 0.0, \"INDUS\": 18.1, \"CHAS\": 0, \"NOX\": 0.532, \"RM\": 7.061, \"AGE\": 77.0, \"DIS\": 3.4106, \"RAD\": 24, \"TAX\": 666.0, \"PTRATIO\": 20.2, \"B\": 395.28, \"LSTAT\": 7.01, \"MEDV\": 25.0}, {\"CRIM\": 2.81838, \"ZN\": 0.0, \"INDUS\": 18.1, \"CHAS\": 0, \"NOX\": 0.532, \"RM\": 5.762, \"AGE\": 40.3, \"DIS\": 4.0983, \"RAD\": 24, \"TAX\": 666.0, \"PTRATIO\": 20.2, \"B\": 392.92, \"LSTAT\": 10.42, \"MEDV\": 21.8}, {\"CRIM\": 2.37857, \"ZN\": 0.0, \"INDUS\": 18.1, \"CHAS\": 0, \"NOX\": 0.583, \"RM\": 5.871, \"AGE\": 41.9, \"DIS\": 3.724, \"RAD\": 24, \"TAX\": 666.0, \"PTRATIO\": 20.2, \"B\": 370.73, \"LSTAT\": 13.34, \"MEDV\": 20.6}, {\"CRIM\": 3.6736699999999995, \"ZN\": 0.0, \"INDUS\": 18.1, \"CHAS\": 0, \"NOX\": 0.583, \"RM\": 6.312, \"AGE\": 51.9, \"DIS\": 3.9917, \"RAD\": 24, \"TAX\": 666.0, \"PTRATIO\": 20.2, \"B\": 388.62, \"LSTAT\": 10.58, \"MEDV\": 21.2}, {\"CRIM\": 5.69175, \"ZN\": 0.0, \"INDUS\": 18.1, \"CHAS\": 0, \"NOX\": 0.583, \"RM\": 6.114, \"AGE\": 79.8, \"DIS\": 3.5459, \"RAD\": 24, \"TAX\": 666.0, \"PTRATIO\": 20.2, \"B\": 392.68, \"LSTAT\": 14.98, \"MEDV\": 19.1}, {\"CRIM\": 4.8356699999999995, \"ZN\": 0.0, \"INDUS\": 18.1, \"CHAS\": 0, \"NOX\": 0.583, \"RM\": 5.905, \"AGE\": 53.2, \"DIS\": 3.1523, \"RAD\": 24, \"TAX\": 666.0, \"PTRATIO\": 20.2, \"B\": 388.22, \"LSTAT\": 11.45, \"MEDV\": 20.6}, {\"CRIM\": 0.15086, \"ZN\": 0.0, \"INDUS\": 27.74, \"CHAS\": 0, \"NOX\": 0.609, \"RM\": 5.454, \"AGE\": 92.7, \"DIS\": 1.8209, \"RAD\": 4, \"TAX\": 711.0, \"PTRATIO\": 20.1, \"B\": 395.09, \"LSTAT\": 18.06, \"MEDV\": 15.2}, {\"CRIM\": 0.18337, \"ZN\": 0.0, \"INDUS\": 27.74, \"CHAS\": 0, \"NOX\": 0.609, \"RM\": 5.414, \"AGE\": 98.3, \"DIS\": 1.7554, \"RAD\": 4, \"TAX\": 711.0, \"PTRATIO\": 20.1, \"B\": 344.05, \"LSTAT\": 23.97, \"MEDV\": 7.0}, {\"CRIM\": 0.20745999999999998, \"ZN\": 0.0, \"INDUS\": 27.74, \"CHAS\": 0, \"NOX\": 0.609, \"RM\": 5.093, \"AGE\": 98.0, \"DIS\": 1.8226, \"RAD\": 4, \"TAX\": 711.0, \"PTRATIO\": 20.1, \"B\": 318.43, \"LSTAT\": 29.68, \"MEDV\": 8.1}, {\"CRIM\": 0.10574000000000001, \"ZN\": 0.0, \"INDUS\": 27.74, \"CHAS\": 0, \"NOX\": 0.609, \"RM\": 5.983, \"AGE\": 98.8, \"DIS\": 1.8681, \"RAD\": 4, \"TAX\": 711.0, \"PTRATIO\": 20.1, \"B\": 390.11, \"LSTAT\": 18.07, \"MEDV\": 13.6}, {\"CRIM\": 0.11132, \"ZN\": 0.0, \"INDUS\": 27.74, \"CHAS\": 0, \"NOX\": 0.609, \"RM\": 5.983, \"AGE\": 83.5, \"DIS\": 2.1099, \"RAD\": 4, \"TAX\": 711.0, \"PTRATIO\": 20.1, \"B\": 396.9, \"LSTAT\": 13.35, \"MEDV\": 20.1}, {\"CRIM\": 0.17331, \"ZN\": 0.0, \"INDUS\": 9.69, \"CHAS\": 0, \"NOX\": 0.585, \"RM\": 5.707, \"AGE\": 54.0, \"DIS\": 2.3817, \"RAD\": 6, \"TAX\": 391.0, \"PTRATIO\": 19.2, \"B\": 396.9, \"LSTAT\": 12.01, \"MEDV\": 21.8}, {\"CRIM\": 0.27957, \"ZN\": 0.0, \"INDUS\": 9.69, \"CHAS\": 0, \"NOX\": 0.585, \"RM\": 5.926, \"AGE\": 42.6, \"DIS\": 2.3817, \"RAD\": 6, \"TAX\": 391.0, \"PTRATIO\": 19.2, \"B\": 396.9, \"LSTAT\": 13.59, \"MEDV\": 24.5}, {\"CRIM\": 0.17899, \"ZN\": 0.0, \"INDUS\": 9.69, \"CHAS\": 0, \"NOX\": 0.585, \"RM\": 5.67, \"AGE\": 28.8, \"DIS\": 2.7986, \"RAD\": 6, \"TAX\": 391.0, \"PTRATIO\": 19.2, \"B\": 393.29, \"LSTAT\": 17.6, \"MEDV\": 23.1}, {\"CRIM\": 0.2896, \"ZN\": 0.0, \"INDUS\": 9.69, \"CHAS\": 0, \"NOX\": 0.585, \"RM\": 5.39, \"AGE\": 72.9, \"DIS\": 2.7986, \"RAD\": 6, \"TAX\": 391.0, \"PTRATIO\": 19.2, \"B\": 396.9, \"LSTAT\": 21.14, \"MEDV\": 19.7}, {\"CRIM\": 0.26838, \"ZN\": 0.0, \"INDUS\": 9.69, \"CHAS\": 0, \"NOX\": 0.585, \"RM\": 5.794, \"AGE\": 70.6, \"DIS\": 2.8927, \"RAD\": 6, \"TAX\": 391.0, \"PTRATIO\": 19.2, \"B\": 396.9, \"LSTAT\": 14.1, \"MEDV\": 18.3}, {\"CRIM\": 0.23911999999999997, \"ZN\": 0.0, \"INDUS\": 9.69, \"CHAS\": 0, \"NOX\": 0.585, \"RM\": 6.019, \"AGE\": 65.3, \"DIS\": 2.4091, \"RAD\": 6, \"TAX\": 391.0, \"PTRATIO\": 19.2, \"B\": 396.9, \"LSTAT\": 12.92, \"MEDV\": 21.2}, {\"CRIM\": 0.17783, \"ZN\": 0.0, \"INDUS\": 9.69, \"CHAS\": 0, \"NOX\": 0.585, \"RM\": 5.569, \"AGE\": 73.5, \"DIS\": 2.3999, \"RAD\": 6, \"TAX\": 391.0, \"PTRATIO\": 19.2, \"B\": 395.77, \"LSTAT\": 15.1, \"MEDV\": 17.5}, {\"CRIM\": 0.22438000000000002, \"ZN\": 0.0, \"INDUS\": 9.69, \"CHAS\": 0, \"NOX\": 0.585, \"RM\": 6.027, \"AGE\": 79.7, \"DIS\": 2.4982, \"RAD\": 6, \"TAX\": 391.0, \"PTRATIO\": 19.2, \"B\": 396.9, \"LSTAT\": 14.33, \"MEDV\": 16.8}, {\"CRIM\": 0.06262999999999999, \"ZN\": 0.0, \"INDUS\": 11.93, \"CHAS\": 0, \"NOX\": 0.573, \"RM\": 6.593, \"AGE\": 69.1, \"DIS\": 2.4786, \"RAD\": 1, \"TAX\": 273.0, \"PTRATIO\": 21.0, \"B\": 391.99, \"LSTAT\": 9.67, \"MEDV\": 22.4}, {\"CRIM\": 0.04527, \"ZN\": 0.0, \"INDUS\": 11.93, \"CHAS\": 0, \"NOX\": 0.573, \"RM\": 6.12, \"AGE\": 76.7, \"DIS\": 2.2875, \"RAD\": 1, \"TAX\": 273.0, \"PTRATIO\": 21.0, \"B\": 396.9, \"LSTAT\": 9.08, \"MEDV\": 20.6}, {\"CRIM\": 0.06076, \"ZN\": 0.0, \"INDUS\": 11.93, \"CHAS\": 0, \"NOX\": 0.573, \"RM\": 6.976, \"AGE\": 91.0, \"DIS\": 2.1675, \"RAD\": 1, \"TAX\": 273.0, \"PTRATIO\": 21.0, \"B\": 396.9, \"LSTAT\": 5.64, \"MEDV\": 23.9}, {\"CRIM\": 0.10959, \"ZN\": 0.0, \"INDUS\": 11.93, \"CHAS\": 0, \"NOX\": 0.573, \"RM\": 6.794, \"AGE\": 89.3, \"DIS\": 2.3889, \"RAD\": 1, \"TAX\": 273.0, \"PTRATIO\": 21.0, \"B\": 393.45, \"LSTAT\": 6.48, \"MEDV\": 22.0}, {\"CRIM\": 0.04741, \"ZN\": 0.0, \"INDUS\": 11.93, \"CHAS\": 0, \"NOX\": 0.573, \"RM\": 6.03, \"AGE\": 80.8, \"DIS\": 2.505, \"RAD\": 1, \"TAX\": 273.0, \"PTRATIO\": 21.0, \"B\": 396.9, \"LSTAT\": 7.88, \"MEDV\": 11.9}]}}, {\"mode\": \"vega-lite\"});\n</script>"
              }
            ],
            "_view_module": "@jupyter-widgets/output",
            "_model_module_version": "1.0.0",
            "_view_count": null,
            "_view_module_version": "1.0.0",
            "layout": "IPY_MODEL_20a1f2299e144889a672f93b8548b4d8",
            "_model_module": "@jupyter-widgets/output"
          }
        },
        "c6dd468c44334eef8438d302dc6842db": {
          "model_module": "@jupyter-widgets/controls",
          "model_name": "DescriptionStyleModel",
          "state": {
            "_view_name": "StyleView",
            "_model_name": "DescriptionStyleModel",
            "description_width": "",
            "_view_module": "@jupyter-widgets/base",
            "_model_module_version": "1.5.0",
            "_view_count": null,
            "_view_module_version": "1.2.0",
            "_model_module": "@jupyter-widgets/controls"
          }
        },
        "89e8f7404ac14d498d5dce21e68fe1dd": {
          "model_module": "@jupyter-widgets/base",
          "model_name": "LayoutModel",
          "state": {
            "_view_name": "LayoutView",
            "grid_template_rows": null,
            "right": null,
            "justify_content": null,
            "_view_module": "@jupyter-widgets/base",
            "overflow": null,
            "_model_module_version": "1.2.0",
            "_view_count": null,
            "flex_flow": null,
            "width": "900",
            "min_width": null,
            "border": null,
            "align_items": null,
            "bottom": null,
            "_model_module": "@jupyter-widgets/base",
            "top": null,
            "grid_column": null,
            "overflow_y": null,
            "overflow_x": null,
            "grid_auto_flow": null,
            "grid_area": null,
            "grid_template_columns": null,
            "flex": null,
            "_model_name": "LayoutModel",
            "justify_items": null,
            "grid_row": null,
            "max_height": null,
            "align_content": null,
            "visibility": null,
            "align_self": null,
            "height": null,
            "min_height": null,
            "padding": null,
            "grid_auto_rows": null,
            "grid_gap": null,
            "max_width": null,
            "order": null,
            "_view_module_version": "1.2.0",
            "grid_template_areas": null,
            "object_position": null,
            "object_fit": null,
            "grid_auto_columns": null,
            "margin": null,
            "display": null,
            "left": null
          }
        },
        "20a1f2299e144889a672f93b8548b4d8": {
          "model_module": "@jupyter-widgets/base",
          "model_name": "LayoutModel",
          "state": {
            "_view_name": "LayoutView",
            "grid_template_rows": null,
            "right": null,
            "justify_content": null,
            "_view_module": "@jupyter-widgets/base",
            "overflow": null,
            "_model_module_version": "1.2.0",
            "_view_count": null,
            "flex_flow": null,
            "width": null,
            "min_width": null,
            "border": null,
            "align_items": null,
            "bottom": null,
            "_model_module": "@jupyter-widgets/base",
            "top": null,
            "grid_column": null,
            "overflow_y": null,
            "overflow_x": null,
            "grid_auto_flow": null,
            "grid_area": null,
            "grid_template_columns": null,
            "flex": null,
            "_model_name": "LayoutModel",
            "justify_items": null,
            "grid_row": null,
            "max_height": null,
            "align_content": null,
            "visibility": null,
            "align_self": null,
            "height": null,
            "min_height": null,
            "padding": null,
            "grid_auto_rows": null,
            "grid_gap": null,
            "max_width": null,
            "order": null,
            "_view_module_version": "1.2.0",
            "grid_template_areas": null,
            "object_position": null,
            "object_fit": null,
            "grid_auto_columns": null,
            "margin": null,
            "display": null,
            "left": null
          }
        }
      }
    }
  },
  "cells": [
    {
      "cell_type": "markdown",
      "metadata": {
        "id": "view-in-github",
        "colab_type": "text"
      },
      "source": [
        "<a href=\"https://colab.research.google.com/github/nurulc/ATM/blob/master/tf_tutor.ipynb\" target=\"_parent\"><img src=\"https://colab.research.google.com/assets/colab-badge.svg\" alt=\"Open In Colab\"/></a>"
      ]
    },
    {
      "cell_type": "code",
      "metadata": {
        "id": "ziH-agmfSefN",
        "colab_type": "code",
        "colab": {}
      },
      "source": [
        "import numpy as np\n",
        "#from google.colab import drive\n",
        "import ipywidgets as widgets\n",
        "import altair as alt\n",
        "\n",
        "#import os"
      ],
      "execution_count": 1,
      "outputs": []
    },
    {
      "cell_type": "code",
      "metadata": {
        "id": "x9XCM-DPMBEq",
        "colab_type": "code",
        "colab": {}
      },
      "source": [
        ""
      ],
      "execution_count": 1,
      "outputs": []
    },
    {
      "cell_type": "code",
      "metadata": {
        "id": "Fx6y_4eEIO4Z",
        "colab_type": "code",
        "colab": {}
      },
      "source": [
        "![[ -f housing-ma.csv ]] || echo no"
      ],
      "execution_count": 2,
      "outputs": []
    },
    {
      "cell_type": "markdown",
      "metadata": {
        "id": "9WoWUwtCSjSF",
        "colab_type": "text"
      },
      "source": [
        "# Fetch MA Housing data from github"
      ]
    },
    {
      "cell_type": "code",
      "metadata": {
        "id": "7cFFBEhnSlzG",
        "colab_type": "code",
        "colab": {
          "base_uri": "https://localhost:8080/",
          "height": 191
        },
        "outputId": "8becb133-509a-4baa-b80f-ca54ee07e8c9"
      },
      "source": [
        "\n",
        "#drive.mount('content/gdrive')\n",
        "# !head drive/My\\ Drive/housing-ma.csv\n",
        "#!head \"/content/drive/My Drive/Colab Notebooks/Copy of tf-tutor.ipynb\"\n",
        "\n",
        "![[ -f housing-ma.csv ]] || wget https://raw.githubusercontent.com/nurulc/ATM/master/housing-ma.csv \n",
        "\n",
        "!head housing-ma.csv\n",
        "\n"
      ],
      "execution_count": 3,
      "outputs": [
        {
          "output_type": "stream",
          "text": [
            "CRIM,ZN,INDUS,CHAS,NOX,RM,AGE,DIS,RAD,TAX,PTRATIO,B,LSTAT,MEDV\n",
            "0.00632,18.00,2.310,0,0.5380,6.5750,65.20,4.0900,1,296.0,15.30,396.90,4.98,24.00\n",
            "0.02731,0.00,7.070,0,0.4690,6.4210,78.90,4.9671,2,242.0,17.80,396.90,9.14,21.60\n",
            "0.02729,0.00,7.070,0,0.4690,7.1850,61.10,4.9671,2,242.0,17.80,392.83,4.03,34.70\n",
            "0.03237,0.00,2.180,0,0.4580,6.9980,45.80,6.0622,3,222.0,18.70,394.63,2.94,33.40\n",
            "0.06905,0.00,2.180,0,0.4580,7.1470,54.20,6.0622,3,222.0,18.70,396.90,5.33,36.20\n",
            "0.02985,0.00,2.180,0,0.4580,6.4300,58.70,6.0622,3,222.0,18.70,394.12,5.21,28.70\n",
            "0.08829,12.50,7.870,0,0.5240,6.0120,66.60,5.5605,5,311.0,15.20,395.60,12.43,22.90\n",
            "0.14455,12.50,7.870,0,0.5240,6.1720,96.10,5.9505,5,311.0,15.20,396.90,19.15,27.10\n",
            "0.21124,12.50,7.870,0,0.5240,5.6310,100.00,6.0821,5,311.0,15.20,386.63,29.93,16.50\n"
          ],
          "name": "stdout"
        }
      ]
    },
    {
      "cell_type": "code",
      "metadata": {
        "id": "mTNBo--8-RsO",
        "colab_type": "code",
        "colab": {
          "base_uri": "https://localhost:8080/",
          "height": 35
        },
        "outputId": "f633256c-18e3-4164-f179-750dcf74b94b"
      },
      "source": [
        "!ls\n"
      ],
      "execution_count": 4,
      "outputs": [
        {
          "output_type": "stream",
          "text": [
            "drive  housing-ma.csv  sample_data\n"
          ],
          "name": "stdout"
        }
      ]
    },
    {
      "cell_type": "markdown",
      "metadata": {
        "id": "1tURubCPJ8Xc",
        "colab_type": "text"
      },
      "source": [
        "# Read MA housing data into a pandas table"
      ]
    },
    {
      "cell_type": "code",
      "metadata": {
        "id": "9lthQr2IfhmQ",
        "colab_type": "code",
        "colab": {
          "base_uri": "https://localhost:8080/",
          "height": 415
        },
        "outputId": "4a409e94-eb97-40f1-d344-d69873394b98"
      },
      "source": [
        "import pandas as pd\n",
        "import io\n",
        "data_pd = pd.read_csv(io.FileIO('housing-ma.csv'))\n",
        "data_pd\n"
      ],
      "execution_count": 5,
      "outputs": [
        {
          "output_type": "execute_result",
          "data": {
            "text/html": [
              "<div>\n",
              "<style scoped>\n",
              "    .dataframe tbody tr th:only-of-type {\n",
              "        vertical-align: middle;\n",
              "    }\n",
              "\n",
              "    .dataframe tbody tr th {\n",
              "        vertical-align: top;\n",
              "    }\n",
              "\n",
              "    .dataframe thead th {\n",
              "        text-align: right;\n",
              "    }\n",
              "</style>\n",
              "<table border=\"1\" class=\"dataframe\">\n",
              "  <thead>\n",
              "    <tr style=\"text-align: right;\">\n",
              "      <th></th>\n",
              "      <th>CRIM</th>\n",
              "      <th>ZN</th>\n",
              "      <th>INDUS</th>\n",
              "      <th>CHAS</th>\n",
              "      <th>NOX</th>\n",
              "      <th>RM</th>\n",
              "      <th>AGE</th>\n",
              "      <th>DIS</th>\n",
              "      <th>RAD</th>\n",
              "      <th>TAX</th>\n",
              "      <th>PTRATIO</th>\n",
              "      <th>B</th>\n",
              "      <th>LSTAT</th>\n",
              "      <th>MEDV</th>\n",
              "    </tr>\n",
              "  </thead>\n",
              "  <tbody>\n",
              "    <tr>\n",
              "      <th>0</th>\n",
              "      <td>0.00632</td>\n",
              "      <td>18.0</td>\n",
              "      <td>2.31</td>\n",
              "      <td>0</td>\n",
              "      <td>0.538</td>\n",
              "      <td>6.575</td>\n",
              "      <td>65.2</td>\n",
              "      <td>4.0900</td>\n",
              "      <td>1</td>\n",
              "      <td>296.0</td>\n",
              "      <td>15.3</td>\n",
              "      <td>396.90</td>\n",
              "      <td>4.98</td>\n",
              "      <td>24.0</td>\n",
              "    </tr>\n",
              "    <tr>\n",
              "      <th>1</th>\n",
              "      <td>0.02731</td>\n",
              "      <td>0.0</td>\n",
              "      <td>7.07</td>\n",
              "      <td>0</td>\n",
              "      <td>0.469</td>\n",
              "      <td>6.421</td>\n",
              "      <td>78.9</td>\n",
              "      <td>4.9671</td>\n",
              "      <td>2</td>\n",
              "      <td>242.0</td>\n",
              "      <td>17.8</td>\n",
              "      <td>396.90</td>\n",
              "      <td>9.14</td>\n",
              "      <td>21.6</td>\n",
              "    </tr>\n",
              "    <tr>\n",
              "      <th>2</th>\n",
              "      <td>0.02729</td>\n",
              "      <td>0.0</td>\n",
              "      <td>7.07</td>\n",
              "      <td>0</td>\n",
              "      <td>0.469</td>\n",
              "      <td>7.185</td>\n",
              "      <td>61.1</td>\n",
              "      <td>4.9671</td>\n",
              "      <td>2</td>\n",
              "      <td>242.0</td>\n",
              "      <td>17.8</td>\n",
              "      <td>392.83</td>\n",
              "      <td>4.03</td>\n",
              "      <td>34.7</td>\n",
              "    </tr>\n",
              "    <tr>\n",
              "      <th>3</th>\n",
              "      <td>0.03237</td>\n",
              "      <td>0.0</td>\n",
              "      <td>2.18</td>\n",
              "      <td>0</td>\n",
              "      <td>0.458</td>\n",
              "      <td>6.998</td>\n",
              "      <td>45.8</td>\n",
              "      <td>6.0622</td>\n",
              "      <td>3</td>\n",
              "      <td>222.0</td>\n",
              "      <td>18.7</td>\n",
              "      <td>394.63</td>\n",
              "      <td>2.94</td>\n",
              "      <td>33.4</td>\n",
              "    </tr>\n",
              "    <tr>\n",
              "      <th>4</th>\n",
              "      <td>0.06905</td>\n",
              "      <td>0.0</td>\n",
              "      <td>2.18</td>\n",
              "      <td>0</td>\n",
              "      <td>0.458</td>\n",
              "      <td>7.147</td>\n",
              "      <td>54.2</td>\n",
              "      <td>6.0622</td>\n",
              "      <td>3</td>\n",
              "      <td>222.0</td>\n",
              "      <td>18.7</td>\n",
              "      <td>396.90</td>\n",
              "      <td>5.33</td>\n",
              "      <td>36.2</td>\n",
              "    </tr>\n",
              "    <tr>\n",
              "      <th>...</th>\n",
              "      <td>...</td>\n",
              "      <td>...</td>\n",
              "      <td>...</td>\n",
              "      <td>...</td>\n",
              "      <td>...</td>\n",
              "      <td>...</td>\n",
              "      <td>...</td>\n",
              "      <td>...</td>\n",
              "      <td>...</td>\n",
              "      <td>...</td>\n",
              "      <td>...</td>\n",
              "      <td>...</td>\n",
              "      <td>...</td>\n",
              "      <td>...</td>\n",
              "    </tr>\n",
              "    <tr>\n",
              "      <th>501</th>\n",
              "      <td>0.06263</td>\n",
              "      <td>0.0</td>\n",
              "      <td>11.93</td>\n",
              "      <td>0</td>\n",
              "      <td>0.573</td>\n",
              "      <td>6.593</td>\n",
              "      <td>69.1</td>\n",
              "      <td>2.4786</td>\n",
              "      <td>1</td>\n",
              "      <td>273.0</td>\n",
              "      <td>21.0</td>\n",
              "      <td>391.99</td>\n",
              "      <td>9.67</td>\n",
              "      <td>22.4</td>\n",
              "    </tr>\n",
              "    <tr>\n",
              "      <th>502</th>\n",
              "      <td>0.04527</td>\n",
              "      <td>0.0</td>\n",
              "      <td>11.93</td>\n",
              "      <td>0</td>\n",
              "      <td>0.573</td>\n",
              "      <td>6.120</td>\n",
              "      <td>76.7</td>\n",
              "      <td>2.2875</td>\n",
              "      <td>1</td>\n",
              "      <td>273.0</td>\n",
              "      <td>21.0</td>\n",
              "      <td>396.90</td>\n",
              "      <td>9.08</td>\n",
              "      <td>20.6</td>\n",
              "    </tr>\n",
              "    <tr>\n",
              "      <th>503</th>\n",
              "      <td>0.06076</td>\n",
              "      <td>0.0</td>\n",
              "      <td>11.93</td>\n",
              "      <td>0</td>\n",
              "      <td>0.573</td>\n",
              "      <td>6.976</td>\n",
              "      <td>91.0</td>\n",
              "      <td>2.1675</td>\n",
              "      <td>1</td>\n",
              "      <td>273.0</td>\n",
              "      <td>21.0</td>\n",
              "      <td>396.90</td>\n",
              "      <td>5.64</td>\n",
              "      <td>23.9</td>\n",
              "    </tr>\n",
              "    <tr>\n",
              "      <th>504</th>\n",
              "      <td>0.10959</td>\n",
              "      <td>0.0</td>\n",
              "      <td>11.93</td>\n",
              "      <td>0</td>\n",
              "      <td>0.573</td>\n",
              "      <td>6.794</td>\n",
              "      <td>89.3</td>\n",
              "      <td>2.3889</td>\n",
              "      <td>1</td>\n",
              "      <td>273.0</td>\n",
              "      <td>21.0</td>\n",
              "      <td>393.45</td>\n",
              "      <td>6.48</td>\n",
              "      <td>22.0</td>\n",
              "    </tr>\n",
              "    <tr>\n",
              "      <th>505</th>\n",
              "      <td>0.04741</td>\n",
              "      <td>0.0</td>\n",
              "      <td>11.93</td>\n",
              "      <td>0</td>\n",
              "      <td>0.573</td>\n",
              "      <td>6.030</td>\n",
              "      <td>80.8</td>\n",
              "      <td>2.5050</td>\n",
              "      <td>1</td>\n",
              "      <td>273.0</td>\n",
              "      <td>21.0</td>\n",
              "      <td>396.90</td>\n",
              "      <td>7.88</td>\n",
              "      <td>11.9</td>\n",
              "    </tr>\n",
              "  </tbody>\n",
              "</table>\n",
              "<p>506 rows × 14 columns</p>\n",
              "</div>"
            ],
            "text/plain": [
              "        CRIM    ZN  INDUS  CHAS    NOX  ...    TAX  PTRATIO       B  LSTAT  MEDV\n",
              "0    0.00632  18.0   2.31     0  0.538  ...  296.0     15.3  396.90   4.98  24.0\n",
              "1    0.02731   0.0   7.07     0  0.469  ...  242.0     17.8  396.90   9.14  21.6\n",
              "2    0.02729   0.0   7.07     0  0.469  ...  242.0     17.8  392.83   4.03  34.7\n",
              "3    0.03237   0.0   2.18     0  0.458  ...  222.0     18.7  394.63   2.94  33.4\n",
              "4    0.06905   0.0   2.18     0  0.458  ...  222.0     18.7  396.90   5.33  36.2\n",
              "..       ...   ...    ...   ...    ...  ...    ...      ...     ...    ...   ...\n",
              "501  0.06263   0.0  11.93     0  0.573  ...  273.0     21.0  391.99   9.67  22.4\n",
              "502  0.04527   0.0  11.93     0  0.573  ...  273.0     21.0  396.90   9.08  20.6\n",
              "503  0.06076   0.0  11.93     0  0.573  ...  273.0     21.0  396.90   5.64  23.9\n",
              "504  0.10959   0.0  11.93     0  0.573  ...  273.0     21.0  393.45   6.48  22.0\n",
              "505  0.04741   0.0  11.93     0  0.573  ...  273.0     21.0  396.90   7.88  11.9\n",
              "\n",
              "[506 rows x 14 columns]"
            ]
          },
          "metadata": {
            "tags": []
          },
          "execution_count": 5
        }
      ]
    },
    {
      "cell_type": "code",
      "metadata": {
        "id": "B5EnwXsSzEgG",
        "colab_type": "code",
        "colab": {}
      },
      "source": [
        "\n",
        "#widgets.interact(actionX, data_picker )"
      ],
      "execution_count": 6,
      "outputs": []
    },
    {
      "cell_type": "markdown",
      "metadata": {
        "id": "_h1-62iyRfRf",
        "colab_type": "text"
      },
      "source": [
        "# Chart some of the data\n",
        "\n",
        "['CRIM', 'ZN', 'INDUS', 'CHAS', 'NOX', 'RM', 'AGE', 'DIS', 'RAD', 'TAX',\n",
        "       'PTRATIO', 'B', 'LSTAT', 'MEDV']"
      ]
    },
    {
      "cell_type": "code",
      "metadata": {
        "id": "2CoNlkzsNcIl",
        "colab_type": "code",
        "colab": {
          "base_uri": "https://localhost:8080/",
          "height": 625,
          "referenced_widgets": [
            "4772fdf9ecd64f43b0f2c46c229981eb",
            "1145c15159d64c8ca650cf8e9a672aee",
            "d0f2a88321e24591ba91ebc62817446f",
            "d7b881f447e14e2fb3fe0d94bc5136e7",
            "3ce639c2b5c14cacab05cecc42b334fc",
            "3338f8a3dad944cea77b5ba25dc1e90f",
            "a90fa74fe06d4f86b1bcdb593f586a18",
            "1daa6419bf4644d898704284ba9a065f",
            "c37266d4b05242e3a50a0c0c473b3461",
            "852ed2b71a794d69a4bca578dca49429",
            "cbec71c236694a8e95501336da1b7cc3",
            "c6dd468c44334eef8438d302dc6842db",
            "89e8f7404ac14d498d5dce21e68fe1dd",
            "20a1f2299e144889a672f93b8548b4d8"
          ]
        },
        "outputId": "6ebfae2f-ac23-45ff-e764-c0e144103e7a"
      },
      "source": [
        "_symbols = ['CRIM', 'ZN', 'INDUS', 'CHAS', 'NOX', 'RM', 'AGE', 'DIS', 'RAD', 'TAX', 'PTRATIO', 'B', 'LSTAT', 'MEDV']\n",
        "import ipywidgets as widgets\n",
        "from google.colab import output\n",
        "data_picker = widgets.Select(\n",
        "    options=_symbols,\n",
        "    value=_symbols[0],\n",
        "    layout={'width': '900'},\n",
        "    description='X Symbols')\n",
        "\n",
        "data_pickerY = widgets.Select(\n",
        "    options=_symbols,\n",
        "    value='MEDV',\n",
        "    layout={'width': '900'},\n",
        "    description='Y Symbols')\n",
        "\n",
        "## display(data_picker, data_pickerY)\n",
        "x_value = _symbols[0]\n",
        "y_value = 'MEDV'\n",
        "\n",
        "def render(X,Y):\n",
        "  print([X,Y])\n",
        "  return alt.Chart(data_pd).mark_point().encode(\n",
        "      x=X, y=Y\n",
        "  ).interactive()\n",
        "\n",
        "\n",
        "box = widgets.HBox([data_picker, data_pickerY])\n",
        "\n",
        "\n",
        "def actionX(symbols):\n",
        "  global x_value\n",
        "  x_value = symbols\n",
        "  return render(x_value,y_value)\n",
        "\n",
        "# @widgets.interact(symbols=data_pickerY )\n",
        "def actionY(symbols):\n",
        "  global y_value\n",
        "  y_value = symbols\n",
        "  print(symbols)\n",
        "  return widgets.interact(actionX, symbols=data_picker)\n",
        "widgets.interact(actionY, symbols=data_pickerY )\n",
        "\n"
      ],
      "execution_count": 7,
      "outputs": [
        {
          "output_type": "display_data",
          "data": {
            "application/vnd.jupyter.widget-view+json": {
              "model_id": "4772fdf9ecd64f43b0f2c46c229981eb",
              "version_minor": 0,
              "version_major": 2
            },
            "text/plain": [
              "interactive(children=(Select(description='Y Symbols', index=13, layout=Layout(width='900'), options=('CRIM', '…"
            ]
          },
          "metadata": {
            "tags": []
          }
        },
        {
          "output_type": "execute_result",
          "data": {
            "text/plain": [
              "<function __main__.actionY>"
            ]
          },
          "metadata": {
            "tags": []
          },
          "execution_count": 7
        }
      ]
    },
    {
      "cell_type": "code",
      "metadata": {
        "id": "N4XxQsWGhws-",
        "colab_type": "code",
        "colab": {
          "base_uri": "https://localhost:8080/",
          "height": 314
        },
        "outputId": "bae4f1e5-ba29-4a4f-adef-50e4c507ae6c"
      },
      "source": [
        "#data_pd.drop(['MEDV'])\n",
        "data_pd.describe()"
      ],
      "execution_count": 8,
      "outputs": [
        {
          "output_type": "execute_result",
          "data": {
            "text/html": [
              "<div>\n",
              "<style scoped>\n",
              "    .dataframe tbody tr th:only-of-type {\n",
              "        vertical-align: middle;\n",
              "    }\n",
              "\n",
              "    .dataframe tbody tr th {\n",
              "        vertical-align: top;\n",
              "    }\n",
              "\n",
              "    .dataframe thead th {\n",
              "        text-align: right;\n",
              "    }\n",
              "</style>\n",
              "<table border=\"1\" class=\"dataframe\">\n",
              "  <thead>\n",
              "    <tr style=\"text-align: right;\">\n",
              "      <th></th>\n",
              "      <th>CRIM</th>\n",
              "      <th>ZN</th>\n",
              "      <th>INDUS</th>\n",
              "      <th>CHAS</th>\n",
              "      <th>NOX</th>\n",
              "      <th>RM</th>\n",
              "      <th>AGE</th>\n",
              "      <th>DIS</th>\n",
              "      <th>RAD</th>\n",
              "      <th>TAX</th>\n",
              "      <th>PTRATIO</th>\n",
              "      <th>B</th>\n",
              "      <th>LSTAT</th>\n",
              "      <th>MEDV</th>\n",
              "    </tr>\n",
              "  </thead>\n",
              "  <tbody>\n",
              "    <tr>\n",
              "      <th>count</th>\n",
              "      <td>506.000000</td>\n",
              "      <td>506.000000</td>\n",
              "      <td>506.000000</td>\n",
              "      <td>506.000000</td>\n",
              "      <td>506.000000</td>\n",
              "      <td>506.000000</td>\n",
              "      <td>506.000000</td>\n",
              "      <td>506.000000</td>\n",
              "      <td>506.000000</td>\n",
              "      <td>506.000000</td>\n",
              "      <td>506.000000</td>\n",
              "      <td>506.000000</td>\n",
              "      <td>506.000000</td>\n",
              "      <td>506.000000</td>\n",
              "    </tr>\n",
              "    <tr>\n",
              "      <th>mean</th>\n",
              "      <td>3.613524</td>\n",
              "      <td>11.363636</td>\n",
              "      <td>11.136779</td>\n",
              "      <td>0.069170</td>\n",
              "      <td>0.554695</td>\n",
              "      <td>6.284634</td>\n",
              "      <td>68.574901</td>\n",
              "      <td>3.795043</td>\n",
              "      <td>9.549407</td>\n",
              "      <td>408.237154</td>\n",
              "      <td>18.455534</td>\n",
              "      <td>356.674032</td>\n",
              "      <td>12.653063</td>\n",
              "      <td>22.532806</td>\n",
              "    </tr>\n",
              "    <tr>\n",
              "      <th>std</th>\n",
              "      <td>8.601545</td>\n",
              "      <td>23.322453</td>\n",
              "      <td>6.860353</td>\n",
              "      <td>0.253994</td>\n",
              "      <td>0.115878</td>\n",
              "      <td>0.702617</td>\n",
              "      <td>28.148861</td>\n",
              "      <td>2.105710</td>\n",
              "      <td>8.707259</td>\n",
              "      <td>168.537116</td>\n",
              "      <td>2.164946</td>\n",
              "      <td>91.294864</td>\n",
              "      <td>7.141062</td>\n",
              "      <td>9.197104</td>\n",
              "    </tr>\n",
              "    <tr>\n",
              "      <th>min</th>\n",
              "      <td>0.006320</td>\n",
              "      <td>0.000000</td>\n",
              "      <td>0.460000</td>\n",
              "      <td>0.000000</td>\n",
              "      <td>0.385000</td>\n",
              "      <td>3.561000</td>\n",
              "      <td>2.900000</td>\n",
              "      <td>1.129600</td>\n",
              "      <td>1.000000</td>\n",
              "      <td>187.000000</td>\n",
              "      <td>12.600000</td>\n",
              "      <td>0.320000</td>\n",
              "      <td>1.730000</td>\n",
              "      <td>5.000000</td>\n",
              "    </tr>\n",
              "    <tr>\n",
              "      <th>25%</th>\n",
              "      <td>0.082045</td>\n",
              "      <td>0.000000</td>\n",
              "      <td>5.190000</td>\n",
              "      <td>0.000000</td>\n",
              "      <td>0.449000</td>\n",
              "      <td>5.885500</td>\n",
              "      <td>45.025000</td>\n",
              "      <td>2.100175</td>\n",
              "      <td>4.000000</td>\n",
              "      <td>279.000000</td>\n",
              "      <td>17.400000</td>\n",
              "      <td>375.377500</td>\n",
              "      <td>6.950000</td>\n",
              "      <td>17.025000</td>\n",
              "    </tr>\n",
              "    <tr>\n",
              "      <th>50%</th>\n",
              "      <td>0.256510</td>\n",
              "      <td>0.000000</td>\n",
              "      <td>9.690000</td>\n",
              "      <td>0.000000</td>\n",
              "      <td>0.538000</td>\n",
              "      <td>6.208500</td>\n",
              "      <td>77.500000</td>\n",
              "      <td>3.207450</td>\n",
              "      <td>5.000000</td>\n",
              "      <td>330.000000</td>\n",
              "      <td>19.050000</td>\n",
              "      <td>391.440000</td>\n",
              "      <td>11.360000</td>\n",
              "      <td>21.200000</td>\n",
              "    </tr>\n",
              "    <tr>\n",
              "      <th>75%</th>\n",
              "      <td>3.677082</td>\n",
              "      <td>12.500000</td>\n",
              "      <td>18.100000</td>\n",
              "      <td>0.000000</td>\n",
              "      <td>0.624000</td>\n",
              "      <td>6.623500</td>\n",
              "      <td>94.075000</td>\n",
              "      <td>5.188425</td>\n",
              "      <td>24.000000</td>\n",
              "      <td>666.000000</td>\n",
              "      <td>20.200000</td>\n",
              "      <td>396.225000</td>\n",
              "      <td>16.955000</td>\n",
              "      <td>25.000000</td>\n",
              "    </tr>\n",
              "    <tr>\n",
              "      <th>max</th>\n",
              "      <td>88.976200</td>\n",
              "      <td>100.000000</td>\n",
              "      <td>27.740000</td>\n",
              "      <td>1.000000</td>\n",
              "      <td>0.871000</td>\n",
              "      <td>8.780000</td>\n",
              "      <td>100.000000</td>\n",
              "      <td>12.126500</td>\n",
              "      <td>24.000000</td>\n",
              "      <td>711.000000</td>\n",
              "      <td>22.000000</td>\n",
              "      <td>396.900000</td>\n",
              "      <td>37.970000</td>\n",
              "      <td>50.000000</td>\n",
              "    </tr>\n",
              "  </tbody>\n",
              "</table>\n",
              "</div>"
            ],
            "text/plain": [
              "             CRIM          ZN       INDUS  ...           B       LSTAT        MEDV\n",
              "count  506.000000  506.000000  506.000000  ...  506.000000  506.000000  506.000000\n",
              "mean     3.613524   11.363636   11.136779  ...  356.674032   12.653063   22.532806\n",
              "std      8.601545   23.322453    6.860353  ...   91.294864    7.141062    9.197104\n",
              "min      0.006320    0.000000    0.460000  ...    0.320000    1.730000    5.000000\n",
              "25%      0.082045    0.000000    5.190000  ...  375.377500    6.950000   17.025000\n",
              "50%      0.256510    0.000000    9.690000  ...  391.440000   11.360000   21.200000\n",
              "75%      3.677082   12.500000   18.100000  ...  396.225000   16.955000   25.000000\n",
              "max     88.976200  100.000000   27.740000  ...  396.900000   37.970000   50.000000\n",
              "\n",
              "[8 rows x 14 columns]"
            ]
          },
          "metadata": {
            "tags": []
          },
          "execution_count": 8
        }
      ]
    },
    {
      "cell_type": "code",
      "metadata": {
        "id": "e4CTqZRGuQ8l",
        "colab_type": "code",
        "colab": {}
      },
      "source": [
        "dtype=np.double\n",
        "def col_sort(t,col=0,descending=False):\n",
        "    return t[t[:, col].sort(descending=descending)[1]]\n",
        "\n"
      ],
      "execution_count": 9,
      "outputs": []
    },
    {
      "cell_type": "markdown",
      "metadata": {
        "id": "nbZT7IH3L8-C",
        "colab_type": "text"
      },
      "source": [
        "# Normalize the data (function)\n",
        "\n",
        "For each column of X(data)  subtract the mean of the column and scale by the range $$(highest - lowest)$$\n",
        "\n",
        "This normalization maked the algoririthm more stable\n",
        "\n",
        "> _Note:_ <span color=\"red\">Do not mormalize the price column (MEDV)</span>"
      ]
    },
    {
      "cell_type": "code",
      "metadata": {
        "id": "DKi4vn8sL3-2",
        "colab_type": "code",
        "colab": {}
      },
      "source": [
        "def norm(X):\n",
        "    R=(np.amax(X,0)-np.amin(X,0)).reshape(-1,1)\n",
        "    R[X.shape[1]-1][0] = 1.0\n",
        "    M=np.mean(X,0).reshape(-1,1)\n",
        "    M[X.shape[1]-1][0] = 0.0\n",
        "    Mv = M.dot(np.ones((1,X.shape[0]),dtype=dtype)).transpose()\n",
        "    Sc = R.dot(np.ones((1,X.shape[0]),dtype=dtype)).transpose()\n",
        "    return [(X-Mv)/Sc,R,M]"
      ],
      "execution_count": 10,
      "outputs": []
    },
    {
      "cell_type": "markdown",
      "metadata": {
        "id": "260TNv_M_08b",
        "colab_type": "text"
      },
      "source": [
        "# Setup MA housing data for regression\n",
        "\n",
        "1. Convert pandas data to numpy\n",
        "2. Place in X all the columns except the price\n",
        "3. Add a '1's column to X _(this is to incorporate the intercept)_\n",
        "4. Put into y the house prices where $y_i$ price corresponding to row $X_i$ \n",
        "5. Initialize $\\phi$ with '1's\n"
      ]
    },
    {
      "cell_type": "code",
      "metadata": {
        "colab_type": "code",
        "id": "cGI8X_LImmoB",
        "colab": {}
      },
      "source": [
        "\n",
        "\n",
        "# !head sample_data/housing-ma.csv\n",
        "ones = np.ones\n",
        "cat = np.concatenate\n",
        "def setup(data_pd,drop=[]):\n",
        "    data_pd = data_pd.drop(drop,axis=1)\n",
        "    Z = data_pd.to_numpy(dtype=np.double,copy=True)\n",
        "    m = Z.shape[0] # m = number of rows of data\n",
        "    n = Z.shape[1]-1 # n = number of columns excluding the house price\n",
        "    X = Z[:,0:n] # remove the house price (last column)\n",
        "\n",
        "    Ones = ones(m,dtype=np.double).reshape(-1,1)\n",
        "    X = cat((X,Ones),1) # add a 1 to each row (to compute the intercept)\n",
        "    y = Z[:,n].reshape(-1,1) # get the house price\n",
        "    phi = np.ones(n+1,dtype=np.double).reshape(-1,1) # initial value of phi\n",
        "    return [X, y, phi]\n",
        "\n"
      ],
      "execution_count": 11,
      "outputs": []
    },
    {
      "cell_type": "markdown",
      "metadata": {
        "id": "kSLk57okruOU",
        "colab_type": "text"
      },
      "source": [
        "# Numpy Multivariate regression\n",
        "\n",
        "This method uses gradient descent to iteratively mimimize the cost function (MSE - mean standard error).\n",
        "\n",
        "## Iterative computation of parameters _phi_ (multi variable linear regression)\n",
        "\n",
        "$phi (\\phi) $ are the regression parematers\n",
        "\n",
        "*  find $\\phi$ that minimizes cost\n",
        "  *  *where:*    $Cost^2 = MSE = \\frac{(X\\phi -y)^T(X\\phi -y)}{2m}$\n",
        "   * $\\phi$ is a minimum when $\\frac{\\partial{(Cost^2)}}{\\partial\\phi} = 0$\n",
        "   * i.e. $\\frac{\\partial{(Cost^2)}}{\\partial\\phi} = \\frac{X^T(X\\phi - y)}{m} = 0$\n",
        "   * by gradient descent we can compute successive values of $\\phi_j$ \n",
        "       * $  \\phi_j = \\phi_{j-1} - \\alpha \\frac{\\partial{(Cost^2)}}{\\partial\\phi}$\n",
        "       * Resulting in the following:\n",
        "          * $  \\phi_j = \\phi_{j-1} - \\alpha X^T(X\\phi_{j-1} - y)$\n",
        "          * $\\alpha$ is the learning rate is a small scalar such as 0.05\n",
        "\n",
        "#### Where  \n",
        "*X* = input data of [$m \\times n$] matrix \n",
        "\n",
        "*  m = number of data rows, \n",
        "*  n = number of independent attributes of each data row\n",
        "\n",
        "*y* = output (house price), vector of length $m$\n",
        "\n",
        "_phi_ ($\\phi$) = regression coefficients\n",
        "and\n",
        "\n",
        "_Where_: X$\\phi$ (matrix multiply) = prediced house price\n",
        "\n",
        "$Predicted_i = \\sum_{j=1}^{n} X_{ij} * \\phi_j$"
      ]
    },
    {
      "cell_type": "code",
      "metadata": {
        "id": "MDrMhFx0B7vY",
        "colab_type": "code",
        "colab": {}
      },
      "source": [
        "import math\n",
        "tr = np.transpose\n",
        "\n",
        "def cost(X,phi,Y):\n",
        "    m = X.shape[0];\n",
        "    return math.sqrt((1/(2*m))*(tr(X@phi - Y)@(X@phi - Y)).item())"
      ],
      "execution_count": 12,
      "outputs": []
    },
    {
      "cell_type": "markdown",
      "metadata": {
        "id": "wKdgwRiODsDn",
        "colab_type": "text"
      },
      "source": [
        "# Gradient decent for finding $\\phi$ to minimise cost"
      ]
    },
    {
      "cell_type": "code",
      "metadata": {
        "id": "IExVqhaNrsQU",
        "colab_type": "code",
        "colab": {}
      },
      "source": [
        "\n",
        "\n",
        "def npSolve(X,y,iter=2,alpha=0.05):\n",
        "    W, Range,Mean = norm(X) # normalize the data\n",
        "\n",
        "    phi = ones((X.shape[1],1),dtype=np.double)\n",
        "    cost_list = []\n",
        "    Y = y\n",
        "    m = X.shape[0]\n",
        "    \n",
        "    for i in range(iter):\n",
        "        delta = alpha*(1/m)*(W.T)@(W@phi - Y) \n",
        "        phi = phi - delta\n",
        "        cost_val = cost(W,phi,Y)\n",
        "        cost_list.append(cost_val)\n",
        "        \n",
        "    intercept = np.zeros_like(Mean)\n",
        "    intercept[-1][0] = (phi*Mean/Range).sum().item()\n",
        "    phi = phi/Range - intercept\n",
        "    return [phi,cost_list]    "
      ],
      "execution_count": 13,
      "outputs": []
    },
    {
      "cell_type": "markdown",
      "metadata": {
        "id": "wdRJ5rhG6PyU",
        "colab_type": "text"
      },
      "source": [
        "# Iterative computation of parameters _phi_ (multi variable linear regression)\n",
        "\n",
        "#### Where  \n",
        "*X* = input data of [$m \\times n$] matrix \n",
        "\n",
        "*  m = number of data rows, \n",
        "*  n = number of independent attributes of each data row\n",
        "\n",
        "*y* = output (house price), vector of length $m$\n",
        "\n",
        "_phi_ ($\\phi$) = regression coefficients\n",
        "and\n",
        "\n",
        "_Where_: X$\\phi$ (matrix multiply) = prediced house price\n",
        "\n",
        "$Predicted_i = \\sum_{j=1}^{n} X_{ij} * \\phi_j$\n",
        "\n",
        "\n",
        "        "
      ]
    },
    {
      "cell_type": "code",
      "metadata": {
        "id": "eAw58JNr2l7t",
        "colab_type": "code",
        "colab": {
          "base_uri": "https://localhost:8080/",
          "height": 611
        },
        "outputId": "8ce3649a-3abc-4ec7-9bd6-4aed41978322"
      },
      "source": [
        "#%%time\n",
        "X, y, phi = setup(data_pd, drop=[])   \n",
        "\n",
        "#print(\"input\\n\", X)\n",
        "#print(\"house price (first 10)\\n\",y[0:10])\n",
        "\n",
        "phi,cost_list = npSolve(X,y,500,0.5)\n",
        "\n",
        "print(phi, cost(X,phi,y))\n",
        "\n",
        "pl = pd.DataFrame({\"iteration\": range(len(cost_list)),\n",
        "                  \"cost\":cost_list})\n",
        "\n",
        "alt.Chart(pl).mark_point().encode(\n",
        "    x='iteration', y=\"cost\"\n",
        ").interactive()"
      ],
      "execution_count": 14,
      "outputs": [
        {
          "output_type": "stream",
          "text": [
            "[[-7.19119735e-02]\n",
            " [ 3.80905066e-02]\n",
            " [ 4.24813183e-03]\n",
            " [ 2.79127809e+00]\n",
            " [-1.51363271e+01]\n",
            " [ 3.87847148e+00]\n",
            " [ 2.33877353e-03]\n",
            " [-1.28425309e+00]\n",
            " [ 2.54373661e-01]\n",
            " [-1.03697237e-02]\n",
            " [-9.41854971e-01]\n",
            " [ 9.67083950e-03]\n",
            " [-5.39282499e-01]\n",
            " [ 3.34149801e+01]] 3.31686406768445\n"
          ],
          "name": "stdout"
        },
        {
          "output_type": "execute_result",
          "data": {
            "text/plain": [
              "alt.Chart(...)"
            ],
            "text/html": [
              "\n",
              "<div id=\"altair-viz-b595fa31fc794c318119dcd05163c1f5\"></div>\n",
              "<script type=\"text/javascript\">\n",
              "  (function(spec, embedOpt){\n",
              "    let outputDiv = document.currentScript.previousElementSibling;\n",
              "    if (outputDiv.id !== \"altair-viz-b595fa31fc794c318119dcd05163c1f5\") {\n",
              "      outputDiv = document.getElementById(\"altair-viz-b595fa31fc794c318119dcd05163c1f5\");\n",
              "    }\n",
              "    const paths = {\n",
              "      \"vega\": \"https://cdn.jsdelivr.net/npm//vega@5?noext\",\n",
              "      \"vega-lib\": \"https://cdn.jsdelivr.net/npm//vega-lib?noext\",\n",
              "      \"vega-lite\": \"https://cdn.jsdelivr.net/npm//vega-lite@4.8.1?noext\",\n",
              "      \"vega-embed\": \"https://cdn.jsdelivr.net/npm//vega-embed@6?noext\",\n",
              "    };\n",
              "\n",
              "    function loadScript(lib) {\n",
              "      return new Promise(function(resolve, reject) {\n",
              "        var s = document.createElement('script');\n",
              "        s.src = paths[lib];\n",
              "        s.async = true;\n",
              "        s.onload = () => resolve(paths[lib]);\n",
              "        s.onerror = () => reject(`Error loading script: ${paths[lib]}`);\n",
              "        document.getElementsByTagName(\"head\")[0].appendChild(s);\n",
              "      });\n",
              "    }\n",
              "\n",
              "    function showError(err) {\n",
              "      outputDiv.innerHTML = `<div class=\"error\" style=\"color:red;\">${err}</div>`;\n",
              "      throw err;\n",
              "    }\n",
              "\n",
              "    function displayChart(vegaEmbed) {\n",
              "      vegaEmbed(outputDiv, spec, embedOpt)\n",
              "        .catch(err => showError(`Javascript Error: ${err.message}<br>This usually means there's a typo in your chart specification. See the javascript console for the full traceback.`));\n",
              "    }\n",
              "\n",
              "    if(typeof define === \"function\" && define.amd) {\n",
              "      requirejs.config({paths});\n",
              "      require([\"vega-embed\"], displayChart, err => showError(`Error loading script: ${err.message}`));\n",
              "    } else if (typeof vegaEmbed === \"function\") {\n",
              "      displayChart(vegaEmbed);\n",
              "    } else {\n",
              "      loadScript(\"vega\")\n",
              "        .then(() => loadScript(\"vega-lite\"))\n",
              "        .then(() => loadScript(\"vega-embed\"))\n",
              "        .catch(showError)\n",
              "        .then(() => displayChart(vegaEmbed));\n",
              "    }\n",
              "  })({\"config\": {\"view\": {\"continuousWidth\": 400, \"continuousHeight\": 300}}, \"data\": {\"name\": \"data-eec707e9bac479849e252f47df092166\"}, \"mark\": \"point\", \"encoding\": {\"x\": {\"type\": \"quantitative\", \"field\": \"iteration\"}, \"y\": {\"type\": \"quantitative\", \"field\": \"cost\"}}, \"selection\": {\"selector002\": {\"type\": \"interval\", \"bind\": \"scales\", \"encodings\": [\"x\", \"y\"]}}, \"$schema\": \"https://vega.github.io/schema/vega-lite/v4.8.1.json\", \"datasets\": {\"data-eec707e9bac479849e252f47df092166\": [{\"iteration\": 0, \"cost\": 9.924181328204707}, {\"iteration\": 1, \"cost\": 7.065517024180288}, {\"iteration\": 2, \"cost\": 5.970069130964158}, {\"iteration\": 3, \"cost\": 5.529938667160393}, {\"iteration\": 4, \"cost\": 5.313703862221753}, {\"iteration\": 5, \"cost\": 5.180225991718903}, {\"iteration\": 6, \"cost\": 5.083521741600923}, {\"iteration\": 7, \"cost\": 5.006528706893944}, {\"iteration\": 8, \"cost\": 4.941562421499441}, {\"iteration\": 9, \"cost\": 4.884522854037843}, {\"iteration\": 10, \"cost\": 4.832983293028514}, {\"iteration\": 11, \"cost\": 4.785430659930634}, {\"iteration\": 12, \"cost\": 4.740896669957036}, {\"iteration\": 13, \"cost\": 4.698751283062096}, {\"iteration\": 14, \"cost\": 4.658578036154817}, {\"iteration\": 15, \"cost\": 4.620096309621806}, {\"iteration\": 16, \"cost\": 4.583112244917615}, {\"iteration\": 17, \"cost\": 4.547487614532905}, {\"iteration\": 18, \"cost\": 4.513120048876334}, {\"iteration\": 19, \"cost\": 4.479930469405274}, {\"iteration\": 20, \"cost\": 4.4478550971893895}, {\"iteration\": 21, \"cost\": 4.416840366137663}, {\"iteration\": 22, \"cost\": 4.386839679660441}, {\"iteration\": 23, \"cost\": 4.35781133696783}, {\"iteration\": 24, \"cost\": 4.329717201406259}, {\"iteration\": 25, \"cost\": 4.302521839600993}, {\"iteration\": 26, \"cost\": 4.276191959425331}, {\"iteration\": 27, \"cost\": 4.250696037785661}, {\"iteration\": 28, \"cost\": 4.226004069142658}, {\"iteration\": 29, \"cost\": 4.202087391001569}, {\"iteration\": 30, \"cost\": 4.17891855864501}, {\"iteration\": 31, \"cost\": 4.1564712515434525}, {\"iteration\": 32, \"cost\": 4.134720200314259}, {\"iteration\": 33, \"cost\": 4.113641127174862}, {\"iteration\": 34, \"cost\": 4.0932106954150145}, {\"iteration\": 35, \"cost\": 4.07340646504524}, {\"iteration\": 36, \"cost\": 4.0542068528111965}, {\"iteration\": 37, \"cost\": 4.035591095416952}, {\"iteration\": 38, \"cost\": 4.017539215213025}, {\"iteration\": 39, \"cost\": 4.00003198786634}, {\"iteration\": 40, \"cost\": 3.9830509116942183}, {\"iteration\": 41, \"cost\": 3.966578178448984}, {\"iteration\": 42, \"cost\": 3.95059664540572}, {\"iteration\": 43, \"cost\": 3.935089808647577}, {\"iteration\": 44, \"cost\": 3.9200417774695233}, {\"iteration\": 45, \"cost\": 3.9054372498383443}, {\"iteration\": 46, \"cost\": 3.891261488857519}, {\"iteration\": 47, \"cost\": 3.8775003001926693}, {\"iteration\": 48, \"cost\": 3.864140010417878}, {\"iteration\": 49, \"cost\": 3.851167446246378}, {\"iteration\": 50, \"cost\": 3.8385699146112997}, {\"iteration\": 51, \"cost\": 3.8263351835638852}, {\"iteration\": 52, \"cost\": 3.814451463957828}, {\"iteration\": 53, \"cost\": 3.8029073918895473}, {\"iteration\": 54, \"cost\": 3.7916920118651465}, {\"iteration\": 55, \"cost\": 3.7807947606657417}, {\"iteration\": 56, \"cost\": 3.7702054518836547}, {\"iteration\": 57, \"cost\": 3.7599142611028493}, {\"iteration\": 58, \"cost\": 3.7499117116977727}, {\"iteration\": 59, \"cost\": 3.740188661225588}, {\"iteration\": 60, \"cost\": 3.730736288387581}, {\"iteration\": 61, \"cost\": 3.721546080536335}, {\"iteration\": 62, \"cost\": 3.712609821706031}, {\"iteration\": 63, \"cost\": 3.703919581144043}, {\"iteration\": 64, \"cost\": 3.6954677023227447}, {\"iteration\": 65, \"cost\": 3.6872467924112224}, {\"iteration\": 66, \"cost\": 3.679249712187337}, {\"iteration\": 67, \"cost\": 3.671469566371295}, {\"iteration\": 68, \"cost\": 3.6638996943626405}, {\"iteration\": 69, \"cost\": 3.6565336613632593}, {\"iteration\": 70, \"cost\": 3.6493652498696845}, {\"iteration\": 71, \"cost\": 3.642388451518662}, {\"iteration\": 72, \"cost\": 3.6355974592705933}, {\"iteration\": 73, \"cost\": 3.6289866599160914}, {\"iteration\": 74, \"cost\": 3.622550626891523}, {\"iteration\": 75, \"cost\": 3.6162841133899732}, {\"iteration\": 76, \"cost\": 3.6101820457546903}, {\"iteration\": 77, \"cost\": 3.6042395171425734}, {\"iteration\": 78, \"cost\": 3.5984517814458474}, {\"iteration\": 79, \"cost\": 3.59281424746056}, {\"iteration\": 80, \"cost\": 3.5873224732910485}, {\"iteration\": 81, \"cost\": 3.5819721609799946}, {\"iteration\": 82, \"cost\": 3.576759151354166}, {\"iteration\": 83, \"cost\": 3.5716794190763532}, {\"iteration\": 84, \"cost\": 3.5667290678944736}, {\"iteration\": 85, \"cost\": 3.561904326079203}, {\"iteration\": 86, \"cost\": 3.5572015420418865}, {\"iteration\": 87, \"cost\": 3.5526171801248623}, {\"iteration\": 88, \"cost\": 3.5481478165566886}, {\"iteration\": 89, \"cost\": 3.5437901355651102}, {\"iteration\": 90, \"cost\": 3.539540925640915}, {\"iteration\": 91, \"cost\": 3.5353970759461832}, {\"iteration\": 92, \"cost\": 3.5313555728606763}, {\"iteration\": 93, \"cost\": 3.527413496660456}, {\"iteration\": 94, \"cost\": 3.5235680183230547}, {\"iteration\": 95, \"cost\": 3.5198163964538067}, {\"iteration\": 96, \"cost\": 3.5161559743281803}, {\"iteration\": 97, \"cost\": 3.5125841770452095}, {\"iteration\": 98, \"cost\": 3.509098508787328}, {\"iteration\": 99, \"cost\": 3.5056965501821353}, {\"iteration\": 100, \"cost\": 3.5023759557618432}, {\"iteration\": 101, \"cost\": 3.4991344515163143}, {\"iteration\": 102, \"cost\": 3.4959698325358284}, {\"iteration\": 103, \"cost\": 3.492879960739863}, {\"iteration\": 104, \"cost\": 3.4898627626883534}, {\"iteration\": 105, \"cost\": 3.4869162274720695}, {\"iteration\": 106, \"cost\": 3.4840384046788784}, {\"iteration\": 107, \"cost\": 3.48122740243282}, {\"iteration\": 108, \"cost\": 3.478481385503075}, {\"iteration\": 109, \"cost\": 3.475798573480005}, {\"iteration\": 110, \"cost\": 3.4731772390156017}, {\"iteration\": 111, \"cost\": 3.4706157061257845}, {\"iteration\": 112, \"cost\": 3.468112348552108}, {\"iteration\": 113, \"cost\": 3.465665588180543}, {\"iteration\": 114, \"cost\": 3.4632738935150993}, {\"iteration\": 115, \"cost\": 3.4609357782041648}, {\"iteration\": 116, \"cost\": 3.458649799617525}, {\"iteration\": 117, \"cost\": 3.4564145574721015}, {\"iteration\": 118, \"cost\": 3.454228692504557}, {\"iteration\": 119, \"cost\": 3.4520908851889835}, {\"iteration\": 120, \"cost\": 3.4499998544979626}, {\"iteration\": 121, \"cost\": 3.447954356705366}, {\"iteration\": 122, \"cost\": 3.445953184229334}, {\"iteration\": 123, \"cost\": 3.443995164513938}, {\"iteration\": 124, \"cost\": 3.442079158948089}, {\"iteration\": 125, \"cost\": 3.4402040618203147}, {\"iteration\": 126, \"cost\": 3.438368799308101}, {\"iteration\": 127, \"cost\": 3.4365723285005316}, {\"iteration\": 128, \"cost\": 3.4348136364530064}, {\"iteration\": 129, \"cost\": 3.433091739272893}, {\"iteration\": 130, \"cost\": 3.431405681234997}, {\"iteration\": 131, \"cost\": 3.4297545339257733}, {\"iteration\": 132, \"cost\": 3.428137395415269}, {\"iteration\": 133, \"cost\": 3.4265533894558047}, {\"iteration\": 134, \"cost\": 3.42500166470646}, {\"iteration\": 135, \"cost\": 3.423481393982443}, {\"iteration\": 136, \"cost\": 3.421991773528492}, {\"iteration\": 137, \"cost\": 3.4205320223154634}, {\"iteration\": 138, \"cost\": 3.4191013813592934}, {\"iteration\": 139, \"cost\": 3.417699113061586}, {\"iteration\": 140, \"cost\": 3.4163245005710605}, {\"iteration\": 141, \"cost\": 3.4149768471651565}, {\"iteration\": 142, \"cost\": 3.4136554756511104}, {\"iteration\": 143, \"cost\": 3.4123597277858413}, {\"iteration\": 144, \"cost\": 3.411088963714005}, {\"iteration\": 145, \"cost\": 3.409842561423612}, {\"iteration\": 146, \"cost\": 3.408619916218628}, {\"iteration\": 147, \"cost\": 3.4074204402079573}, {\"iteration\": 148, \"cost\": 3.4062435618103115}, {\"iteration\": 149, \"cost\": 3.405088725274394}, {\"iteration\": 150, \"cost\": 3.403955390213921}, {\"iteration\": 151, \"cost\": 3.4028430311569773}, {\"iteration\": 152, \"cost\": 3.4017511371092404}, {\"iteration\": 153, \"cost\": 3.4006792111306225}, {\"iteration\": 154, \"cost\": 3.399626769924885}, {\"iteration\": 155, \"cost\": 3.398593343441812}, {\"iteration\": 156, \"cost\": 3.3975784744915276}, {\"iteration\": 157, \"cost\": 3.396581718370573}, {\"iteration\": 158, \"cost\": 3.3956026424993637}, {\"iteration\": 159, \"cost\": 3.3946408260706473}, {\"iteration\": 160, \"cost\": 3.39369585970863}, {\"iteration\": 161, \"cost\": 3.3927673451384215}, {\"iteration\": 162, \"cost\": 3.391854894865459}, {\"iteration\": 163, \"cost\": 3.3909581318646187}, {\"iteration\": 164, \"cost\": 3.3900766892786787}, {\"iteration\": 165, \"cost\": 3.3892102101258605}, {\"iteration\": 166, \"cost\": 3.3883583470161467}, {\"iteration\": 167, \"cost\": 3.387520761876114}, {\"iteration\": 168, \"cost\": 3.3866971256819975}, {\"iteration\": 169, \"cost\": 3.3858871182007397}, {\"iteration\": 170, \"cost\": 3.385090427738775}, {\"iteration\": 171, \"cost\": 3.3843067508982982}, {\"iteration\": 172, \"cost\": 3.3835357923407954}, {\"iteration\": 173, \"cost\": 3.3827772645576046}, {\"iteration\": 174, \"cost\": 3.382030887647295}, {\"iteration\": 175, \"cost\": 3.38129638909964}, {\"iteration\": 176, \"cost\": 3.3805735035859996}, {\"iteration\": 177, \"cost\": 3.3798619727559007}, {\"iteration\": 178, \"cost\": 3.3791615450396217}, {\"iteration\": 179, \"cost\": 3.3784719754566193}, {\"iteration\": 180, \"cost\": 3.3777930254295834}, {\"iteration\": 181, \"cost\": 3.3771244626039842}, {\"iteration\": 182, \"cost\": 3.3764660606729113}, {\"iteration\": 183, \"cost\": 3.3758175992070774}, {\"iteration\": 184, \"cost\": 3.3751788634897815}, {\"iteration\": 185, \"cost\": 3.3745496443567418}, {\"iteration\": 186, \"cost\": 3.3739297380405926}, {\"iteration\": 187, \"cost\": 3.3733189460199426}, {\"iteration\": 188, \"cost\": 3.372717074872838}, {\"iteration\": 189, \"cost\": 3.372123936134501}, {\"iteration\": 190, \"cost\": 3.371539346159215}, {\"iteration\": 191, \"cost\": 3.3709631259862385}, {\"iteration\": 192, \"cost\": 3.3703951012096103}, {\"iteration\": 193, \"cost\": 3.3698351018517423}, {\"iteration\": 194, \"cost\": 3.369282962240681}, {\"iteration\": 195, \"cost\": 3.36873852089093}, {\"iteration\": 196, \"cost\": 3.3682016203877243}, {\"iteration\": 197, \"cost\": 3.3676721072746525}, {\"iteration\": 198, \"cost\": 3.367149831944525}, {\"iteration\": 199, \"cost\": 3.366634648533406}, {\"iteration\": 200, \"cost\": 3.366126414817686}, {\"iteration\": 201, \"cost\": 3.3656249921141366}, {\"iteration\": 202, \"cost\": 3.3651302451828315}, {\"iteration\": 203, \"cost\": 3.3646420421328718}, {\"iteration\": 204, \"cost\": 3.364160254330809}, {\"iteration\": 205, \"cost\": 3.363684756311702}, {\"iteration\": 206, \"cost\": 3.3632154256927302}, {\"iteration\": 207, \"cost\": 3.3627521430892764}, {\"iteration\": 208, \"cost\": 3.36229479203341}, {\"iteration\": 209, \"cost\": 3.3618432588947087}, {\"iteration\": 210, \"cost\": 3.361397432803336}, {\"iteration\": 211, \"cost\": 3.3609572055753163}, {\"iteration\": 212, \"cost\": 3.3605224716399427}, {\"iteration\": 213, \"cost\": 3.3600931279692507}, {\"iteration\": 214, \"cost\": 3.3596690740094983}, {\"iteration\": 215, \"cost\": 3.359250211614596}, {\"iteration\": 216, \"cost\": 3.3588364449814265}, {\"iteration\": 217, \"cost\": 3.358427680587002}, {\"iteration\": 218, \"cost\": 3.358023827127398}, {\"iteration\": 219, \"cost\": 3.357624795458421}, {\"iteration\": 220, \"cost\": 3.3572304985379544}, {\"iteration\": 221, \"cost\": 3.3568408513699297}, {\"iteration\": 222, \"cost\": 3.3564557709498857}, {\"iteration\": 223, \"cost\": 3.3560751762120584}, {\"iteration\": 224, \"cost\": 3.355698987977963}, {\"iteration\": 225, \"cost\": 3.3553271289064246}, {\"iteration\": 226, \"cost\": 3.354959523445017}, {\"iteration\": 227, \"cost\": 3.3545960977828546}, {\"iteration\": 228, \"cost\": 3.3542367798047215}, {\"iteration\": 229, \"cost\": 3.3538814990464814}, {\"iteration\": 230, \"cost\": 3.353530186651737}, {\"iteration\": 231, \"cost\": 3.3531827753296954}, {\"iteration\": 232, \"cost\": 3.3528391993142272}, {\"iteration\": 233, \"cost\": 3.352499394324047}, {\"iteration\": 234, \"cost\": 3.3521632975240285}, {\"iteration\": 235, \"cost\": 3.3518308474875713}, {\"iteration\": 236, \"cost\": 3.351501984160037}, {\"iteration\": 237, \"cost\": 3.3511766488231913}, {\"iteration\": 238, \"cost\": 3.350854784060632}, {\"iteration\": 239, \"cost\": 3.3505363337241834}, {\"iteration\": 240, \"cost\": 3.350221242901214}, {\"iteration\": 241, \"cost\": 3.3499094578828648}, {\"iteration\": 242, \"cost\": 3.3496009261331507}, {\"iteration\": 243, \"cost\": 3.3492955962589206}, {\"iteration\": 244, \"cost\": 3.3489934179806404}, {\"iteration\": 245, \"cost\": 3.348694342103987}, {\"iteration\": 246, \"cost\": 3.3483983204922185}, {\"iteration\": 247, \"cost\": 3.3481053060393084}, {\"iteration\": 248, \"cost\": 3.3478152526438123}, {\"iteration\": 249, \"cost\": 3.3475281151834584}, {\"iteration\": 250, \"cost\": 3.3472438494904257}, {\"iteration\": 251, \"cost\": 3.3469624123273065}, {\"iteration\": 252, \"cost\": 3.346683761363719}, {\"iteration\": 253, \"cost\": 3.3464078551535636}, {\"iteration\": 254, \"cost\": 3.346134653112895}, {\"iteration\": 255, \"cost\": 3.345864115498401}, {\"iteration\": 256, \"cost\": 3.3455962033864606}, {\"iteration\": 257, \"cost\": 3.3453308786527773}, {\"iteration\": 258, \"cost\": 3.3450681039525585}, {\"iteration\": 259, \"cost\": 3.344807842701239}, {\"iteration\": 260, \"cost\": 3.3445500590557193}, {\"iteration\": 261, \"cost\": 3.3442947178961147}, {\"iteration\": 262, \"cost\": 3.344041784807994}, {\"iteration\": 263, \"cost\": 3.3437912260650995}, {\"iteration\": 264, \"cost\": 3.3435430086125355}, {\"iteration\": 265, \"cost\": 3.343297100050392}, {\"iteration\": 266, \"cost\": 3.3430534686178364}, {\"iteration\": 267, \"cost\": 3.342812083177601}, {\"iteration\": 268, \"cost\": 3.342572913200906}, {\"iteration\": 269, \"cost\": 3.3423359287527807}, {\"iteration\": 270, \"cost\": 3.3421011004777723}, {\"iteration\": 271, \"cost\": 3.3418683995860383}, {\"iteration\": 272, \"cost\": 3.3416377978398106}, {\"iteration\": 273, \"cost\": 3.3414092675402176}, {\"iteration\": 274, \"cost\": 3.341182781514454}, {\"iteration\": 275, \"cost\": 3.3409583131032936}, {\"iteration\": 276, \"cost\": 3.3407358361489345}, {\"iteration\": 277, \"cost\": 3.3405153249831585}, {\"iteration\": 278, \"cost\": 3.340296754415807}, {\"iteration\": 279, \"cost\": 3.3400800997235645}, {\"iteration\": 280, \"cost\": 3.3398653366390247}, {\"iteration\": 281, \"cost\": 3.3396524413400606}, {\"iteration\": 282, \"cost\": 3.3394413904394566}, {\"iteration\": 283, \"cost\": 3.339232160974825}, {\"iteration\": 284, \"cost\": 3.3390247303987763}, {\"iteration\": 285, \"cost\": 3.3388190765693544}, {\"iteration\": 286, \"cost\": 3.3386151777407123}, {\"iteration\": 287, \"cost\": 3.3384130125540374}, {\"iteration\": 288, \"cost\": 3.338212560028709}, {\"iteration\": 289, \"cost\": 3.3380137995536843}, {\"iteration\": 290, \"cost\": 3.33781671087911}, {\"iteration\": 291, \"cost\": 3.337621274108148}, {\"iteration\": 292, \"cost\": 3.3374274696890116}, {\"iteration\": 293, \"cost\": 3.3372352784072103}, {\"iteration\": 294, \"cost\": 3.3370446813779893}, {\"iteration\": 295, \"cost\": 3.336855660038965}, {\"iteration\": 296, \"cost\": 3.336668196142951}, {\"iteration\": 297, \"cost\": 3.336482271750962}, {\"iteration\": 298, \"cost\": 3.3362978692253993}, {\"iteration\": 299, \"cost\": 3.3361149712234144}, {\"iteration\": 300, \"cost\": 3.3359335606904312}, {\"iteration\": 301, \"cost\": 3.335753620853842}, {\"iteration\": 302, \"cost\": 3.3355751352168546}, {\"iteration\": 303, \"cost\": 3.3353980875525044}, {\"iteration\": 304, \"cost\": 3.3352224618978092}, {\"iteration\": 305, \"cost\": 3.3350482425480723}, {\"iteration\": 306, \"cost\": 3.3348754140513344}, {\"iteration\": 307, \"cost\": 3.3347039612029583}, {\"iteration\": 308, \"cost\": 3.334533869040352}, {\"iteration\": 309, \"cost\": 3.3343651228378235}, {\"iteration\": 310, \"cost\": 3.3341977081015624}, {\"iteration\": 311, \"cost\": 3.3340316105647445}, {\"iteration\": 312, \"cost\": 3.333866816182767}, {\"iteration\": 313, \"cost\": 3.3337033111285876}, {\"iteration\": 314, \"cost\": 3.333541081788191}, {\"iteration\": 315, \"cost\": 3.3333801147561597}, {\"iteration\": 316, \"cost\": 3.3332203968313587}, {\"iteration\": 317, \"cost\": 3.3330619150127183}, {\"iteration\": 318, \"cost\": 3.332904656495133}, {\"iteration\": 319, \"cost\": 3.332748608665448}, {\"iteration\": 320, \"cost\": 3.3325937590985477}, {\"iteration\": 321, \"cost\": 3.3324400955535447}, {\"iteration\": 322, \"cost\": 3.332287605970052}, {\"iteration\": 323, \"cost\": 3.3321362784645556}, {\"iteration\": 324, \"cost\": 3.331986101326863}, {\"iteration\": 325, \"cost\": 3.331837063016647}, {\"iteration\": 326, \"cost\": 3.3316891521600693}, {\"iteration\": 327, \"cost\": 3.3315423575464833}, {\"iteration\": 328, \"cost\": 3.33139666812522}, {\"iteration\": 329, \"cost\": 3.331252073002442}, {\"iteration\": 330, \"cost\": 3.3311085614380844}, {\"iteration\": 331, \"cost\": 3.3309661228428604}, {\"iteration\": 332, \"cost\": 3.3308247467753374}, {\"iteration\": 333, \"cost\": 3.3306844229390866}, {\"iteration\": 334, \"cost\": 3.3305451411798956}, {\"iteration\": 335, \"cost\": 3.330406891483048}, {\"iteration\": 336, \"cost\": 3.330269663970671}, {\"iteration\": 337, \"cost\": 3.330133448899137}, {\"iteration\": 338, \"cost\": 3.32999823665653}, {\"iteration\": 339, \"cost\": 3.329864017760173}, {\"iteration\": 340, \"cost\": 3.329730782854208}, {\"iteration\": 341, \"cost\": 3.329598522707237}, {\"iteration\": 342, \"cost\": 3.32946722821001}, {\"iteration\": 343, \"cost\": 3.3293368903731784}, {\"iteration\": 344, \"cost\": 3.3292075003250847}, {\"iteration\": 345, \"cost\": 3.329079049309616}, {\"iteration\": 346, \"cost\": 3.328951528684097}, {\"iteration\": 347, \"cost\": 3.328824929917238}, {\"iteration\": 348, \"cost\": 3.328699244587124}, {\"iteration\": 349, \"cost\": 3.3285744643792516}, {\"iteration\": 350, \"cost\": 3.328450581084611}, {\"iteration\": 351, \"cost\": 3.3283275865978106}, {\"iteration\": 352, \"cost\": 3.328205472915241}, {\"iteration\": 353, \"cost\": 3.3280842321332824}, {\"iteration\": 354, \"cost\": 3.3279638564465532}, {\"iteration\": 355, \"cost\": 3.3278443381461957}, {\"iteration\": 356, \"cost\": 3.327725669618197}, {\"iteration\": 357, \"cost\": 3.3276078433417533}, {\"iteration\": 358, \"cost\": 3.327490851887665}, {\"iteration\": 359, \"cost\": 3.3273746879167696}, {\"iteration\": 360, \"cost\": 3.3272593441784055}, {\"iteration\": 361, \"cost\": 3.327144813508915}, {\"iteration\": 362, \"cost\": 3.3270310888301737}, {\"iteration\": 363, \"cost\": 3.326918163148156}, {\"iteration\": 364, \"cost\": 3.3268060295515296}, {\"iteration\": 365, \"cost\": 3.326694681210282}, {\"iteration\": 366, \"cost\": 3.3265841113743706}, {\"iteration\": 367, \"cost\": 3.326474313372412}, {\"iteration\": 368, \"cost\": 3.3263652806103887}, {\"iteration\": 369, \"cost\": 3.32625700657039}, {\"iteration\": 370, \"cost\": 3.3261494848093762}, {\"iteration\": 371, \"cost\": 3.326042708957971}, {\"iteration\": 372, \"cost\": 3.325936672719278}, {\"iteration\": 373, \"cost\": 3.3258313698677213}, {\"iteration\": 374, \"cost\": 3.325726794247912}, {\"iteration\": 375, \"cost\": 3.325622939773536}, {\"iteration\": 376, \"cost\": 3.325519800426266}, {\"iteration\": 377, \"cost\": 3.3254173702547014}, {\"iteration\": 378, \"cost\": 3.3253156433733166}, {\"iteration\": 379, \"cost\": 3.3252146139614425}, {\"iteration\": 380, \"cost\": 3.325114276262269}, {\"iteration\": 381, \"cost\": 3.3250146245818555}, {\"iteration\": 382, \"cost\": 3.3249156532881785}, {\"iteration\": 383, \"cost\": 3.3248173568101844}, {\"iteration\": 384, \"cost\": 3.3247197296368673}, {\"iteration\": 385, \"cost\": 3.3246227663163683}, {\"iteration\": 386, \"cost\": 3.324526461455084}, {\"iteration\": 387, \"cost\": 3.3244308097168016}, {\"iteration\": 388, \"cost\": 3.324335805821846}, {\"iteration\": 389, \"cost\": 3.324241444546246}, {\"iteration\": 390, \"cost\": 3.324147720720914}, {\"iteration\": 391, \"cost\": 3.324054629230845}, {\"iteration\": 392, \"cost\": 3.323962165014331}, {\"iteration\": 393, \"cost\": 3.3238703230621875}, {\"iteration\": 394, \"cost\": 3.3237790984170004}, {\"iteration\": 395, \"cost\": 3.3236884861723777}, {\"iteration\": 396, \"cost\": 3.3235984814722292}, {\"iteration\": 397, \"cost\": 3.323509079510049}, {\"iteration\": 398, \"cost\": 3.3234202755282127}, {\"iteration\": 399, \"cost\": 3.3233320648172993}, {\"iteration\": 400, \"cost\": 3.3232444427154073}, {\"iteration\": 401, \"cost\": 3.323157404607496}, {\"iteration\": 402, \"cost\": 3.323070945924744}, {\"iteration\": 403, \"cost\": 3.3229850621439003}, {\"iteration\": 404, \"cost\": 3.322899748786672}, {\"iteration\": 405, \"cost\": 3.3228150014190994}, {\"iteration\": 406, \"cost\": 3.3227308156509596}, {\"iteration\": 407, \"cost\": 3.322647187135179}, {\"iteration\": 408, \"cost\": 3.3225641115672433}, {\"iteration\": 409, \"cost\": 3.322481584684638}, {\"iteration\": 410, \"cost\": 3.3223996022662794}, {\"iteration\": 411, \"cost\": 3.322318160131975}, {\"iteration\": 412, \"cost\": 3.322237254141877}, {\"iteration\": 413, \"cost\": 3.3221568801959553}, {\"iteration\": 414, \"cost\": 3.322077034233476}, {\"iteration\": 415, \"cost\": 3.3219977122324886}, {\"iteration\": 416, \"cost\": 3.321918910209331}, {\"iteration\": 417, \"cost\": 3.3218406242181264}, {\"iteration\": 418, \"cost\": 3.3217628503503063}, {\"iteration\": 419, \"cost\": 3.3216855847341296}, {\"iteration\": 420, \"cost\": 3.3216088235342176}, {\"iteration\": 421, \"cost\": 3.321532562951093}, {\"iteration\": 422, \"cost\": 3.321456799220725}, {\"iteration\": 423, \"cost\": 3.321381528614093}, {\"iteration\": 424, \"cost\": 3.3213067474367386}, {\"iteration\": 425, \"cost\": 3.321232452028347}, {\"iteration\": 426, \"cost\": 3.321158638762319}, {\"iteration\": 427, \"cost\": 3.321085304045356}, {\"iteration\": 428, \"cost\": 3.3210124443170583}, {\"iteration\": 429, \"cost\": 3.3209400560495115}, {\"iteration\": 430, \"cost\": 3.3208681357469074}, {\"iteration\": 431, \"cost\": 3.320796679945142}, {\"iteration\": 432, \"cost\": 3.320725685211445}, {\"iteration\": 433, \"cost\": 3.320655148143997}, {\"iteration\": 434, \"cost\": 3.3205850653715636}, {\"iteration\": 435, \"cost\": 3.32051543355313}, {\"iteration\": 436, \"cost\": 3.3204462493775475}, {\"iteration\": 437, \"cost\": 3.3203775095631776}, {\"iteration\": 438, \"cost\": 3.320309210857546}, {\"iteration\": 439, \"cost\": 3.3202413500370103}, {\"iteration\": 440, \"cost\": 3.320173923906412}, {\"iteration\": 441, \"cost\": 3.3201069292987535}, {\"iteration\": 442, \"cost\": 3.3200403630748787}, {\"iteration\": 443, \"cost\": 3.3199742221231423}, {\"iteration\": 444, \"cost\": 3.319908503359103}, {\"iteration\": 445, \"cost\": 3.3198432037252137}, {\"iteration\": 446, \"cost\": 3.319778320190511}, {\"iteration\": 447, \"cost\": 3.319713849750321}, {\"iteration\": 448, \"cost\": 3.3196497894259602}, {\"iteration\": 449, \"cost\": 3.3195861362644483}, {\"iteration\": 450, \"cost\": 3.3195228873382163}, {\"iteration\": 451, \"cost\": 3.3194600397448264}, {\"iteration\": 452, \"cost\": 3.3193975906066964}, {\"iteration\": 453, \"cost\": 3.3193355370708213}, {\"iteration\": 454, \"cost\": 3.3192738763085075}, {\"iteration\": 455, \"cost\": 3.319212605515104}, {\"iteration\": 456, \"cost\": 3.319151721909742}, {\"iteration\": 457, \"cost\": 3.3190912227350777}, {\"iteration\": 458, \"cost\": 3.319031105257033}, {\"iteration\": 459, \"cost\": 3.3189713667645537}, {\"iteration\": 460, \"cost\": 3.318912004569354}, {\"iteration\": 461, \"cost\": 3.318853016005677}, {\"iteration\": 462, \"cost\": 3.3187943984300556}, {\"iteration\": 463, \"cost\": 3.318736149221074}, {\"iteration\": 464, \"cost\": 3.318678265779135}, {\"iteration\": 465, \"cost\": 3.318620745526232}, {\"iteration\": 466, \"cost\": 3.3185635859057196}, {\"iteration\": 467, \"cost\": 3.3185067843820923}, {\"iteration\": 468, \"cost\": 3.318450338440763}, {\"iteration\": 469, \"cost\": 3.3183942455878492}, {\"iteration\": 470, \"cost\": 3.318338503349951}, {\"iteration\": 471, \"cost\": 3.318283109273951}, {\"iteration\": 472, \"cost\": 3.3182280609267956}, {\"iteration\": 473, \"cost\": 3.3181733558952953}, {\"iteration\": 474, \"cost\": 3.3181189917859215}, {\"iteration\": 475, \"cost\": 3.318064966224606}, {\"iteration\": 476, \"cost\": 3.3180112768565393}, {\"iteration\": 477, \"cost\": 3.3179579213459887}, {\"iteration\": 478, \"cost\": 3.31790489737609}, {\"iteration\": 479, \"cost\": 3.317852202648671}, {\"iteration\": 480, \"cost\": 3.317799834884059}, {\"iteration\": 481, \"cost\": 3.317747791820895}, {\"iteration\": 482, \"cost\": 3.3176960712159564}, {\"iteration\": 483, \"cost\": 3.3176446708439737}, {\"iteration\": 484, \"cost\": 3.3175935884974552}, {\"iteration\": 485, \"cost\": 3.3175428219865113}, {\"iteration\": 486, \"cost\": 3.317492369138682}, {\"iteration\": 487, \"cost\": 3.3174422277987663}, {\"iteration\": 488, \"cost\": 3.3173923958286533}, {\"iteration\": 489, \"cost\": 3.3173428711071584}, {\"iteration\": 490, \"cost\": 3.317293651529857}, {\"iteration\": 491, \"cost\": 3.3172447350089236}, {\"iteration\": 492, \"cost\": 3.317196119472971}, {\"iteration\": 493, \"cost\": 3.3171478028668933}, {\"iteration\": 494, \"cost\": 3.3170997831517113}, {\"iteration\": 495, \"cost\": 3.317052058304415}, {\"iteration\": 496, \"cost\": 3.3170046263178152}, {\"iteration\": 497, \"cost\": 3.316957485200392}, {\"iteration\": 498, \"cost\": 3.3169106329761453}, {\"iteration\": 499, \"cost\": 3.31686406768445}]}}, {\"mode\": \"vega-lite\"});\n",
              "</script>"
            ]
          },
          "metadata": {
            "tags": []
          },
          "execution_count": 14
        }
      ]
    },
    {
      "cell_type": "code",
      "metadata": {
        "id": "I_JlUk0vYy_9",
        "colab_type": "code",
        "colab": {
          "base_uri": "https://localhost:8080/",
          "height": 260
        },
        "outputId": "5d2eff0d-d6ca-400b-91f3-de8b5aecfd90"
      },
      "source": [
        "X1,Range,Mean = norm(X)\n",
        "Mean"
      ],
      "execution_count": 15,
      "outputs": [
        {
          "output_type": "execute_result",
          "data": {
            "text/plain": [
              "array([[3.61352356e+00],\n",
              "       [1.13636364e+01],\n",
              "       [1.11367787e+01],\n",
              "       [6.91699605e-02],\n",
              "       [5.54695059e-01],\n",
              "       [6.28463439e+00],\n",
              "       [6.85749012e+01],\n",
              "       [3.79504269e+00],\n",
              "       [9.54940711e+00],\n",
              "       [4.08237154e+02],\n",
              "       [1.84555336e+01],\n",
              "       [3.56674032e+02],\n",
              "       [1.26530632e+01],\n",
              "       [0.00000000e+00]])"
            ]
          },
          "metadata": {
            "tags": []
          },
          "execution_count": 15
        }
      ]
    },
    {
      "cell_type": "markdown",
      "metadata": {
        "id": "7MUL1WJw0Mad",
        "colab_type": "text"
      },
      "source": [
        "# Perform Multivariate regression (directly - no iteration)\n",
        "\n",
        "We previously saw that for minimum $\\phi$\n",
        "* We have the following\n",
        "* $\\frac{X^T(X\\phi - y)}{m} = 0$\n",
        "  * multiplying bost sides by $m$\n",
        "* $X^T(X\\phi - y) = 0$\n",
        "  * Multiplying by $X^T$ - _distributive property_\n",
        "* $X^T(X\\phi) -  X^Ty = 0$\n",
        "  * Rearanging\n",
        "* $(X^TX)\\phi =  X^Ty$\n",
        "----\n",
        "   * Multiply both sides by the inverse of $X^TX$\n",
        "\n",
        "* $(X^TX)^{-1} (X^TX)\\phi = (X^TX)^{-1} X^Ty$\n",
        "   * since  ${(X^TX)^{-1} (X^TX)} = I (identity)$\n",
        "* we get the following: $I \\phi = (X^TX)^{-1} X^Ty$\n",
        "----\n",
        " **Therefore we get the very simple formula for $\\phi$**\n",
        "   * *$\\phi = (X^TX)^{-1} X^Ty$*\n",
        "----\n",
        "&nbsp;\n",
        "\n",
        "Note the following rules for matrix multiply\n",
        "* $A(BC) = (AB)C$\n",
        "  * and\n",
        "* $A(B+C) = AB + BC$ - _distributive property_\n",
        "\n"
      ]
    },
    {
      "cell_type": "code",
      "metadata": {
        "id": "JhGbiV6E0J7N",
        "colab_type": "code",
        "colab": {
          "base_uri": "https://localhost:8080/",
          "height": 69
        },
        "outputId": "82d1a300-e7cf-4adf-e627-f4b473b3f119"
      },
      "source": [
        "%%time\n",
        "\n",
        "inv = np.linalg.inv # invert a matrix\n",
        "\n",
        "# See how simple the formulation can be using only linear algebra\n",
        "def solve(X,y):\n",
        "  return inv(X.T@X) @ (X.T@y)\n",
        "\n",
        "phi2 = solve(X,y)  \n",
        "print(\"cost=\", cost(X,phi2,y),\"diff = \", cost(X,phi,y)-cost(X,phi2,y)) # compare the cost of direct method and iterative method\n",
        "#[phi,phi2, cost(X,phi2,y)-cost(X,phi,y), np.abs((phi-phi2)/phi*100)]"
      ],
      "execution_count": 16,
      "outputs": [
        {
          "output_type": "stream",
          "text": [
            "cost= 3.308687895656616 diff =  0.008176172027833939\n",
            "CPU times: user 183 µs, sys: 7.72 ms, total: 7.9 ms\n",
            "Wall time: 8.7 ms\n"
          ],
          "name": "stdout"
        }
      ]
    },
    {
      "cell_type": "markdown",
      "metadata": {
        "id": "qUYLuxFZRJzo",
        "colab_type": "text"
      },
      "source": [
        "# Draw chart of actual price against prediced price\n"
      ]
    },
    {
      "cell_type": "code",
      "metadata": {
        "id": "M80q-8vKPEps",
        "colab_type": "code",
        "colab": {
          "base_uri": "https://localhost:8080/",
          "height": 368
        },
        "outputId": "74fa63a3-791f-47cd-f8a0-88d817efcad2"
      },
      "source": [
        "results = pd.DataFrame({\"predicted\": (X@phi2).reshape(-1),\n",
        "                        \"actual\": y.reshape(-1)})\n",
        "\n",
        "alt.Chart(results).mark_point().encode(\n",
        "    x='actual', y=\"predicted\",\n",
        "    tooltip=['actual', 'predicted']\n",
        ").interactive()"
      ],
      "execution_count": 17,
      "outputs": [
        {
          "output_type": "execute_result",
          "data": {
            "text/plain": [
              "alt.Chart(...)"
            ],
            "text/html": [
              "\n",
              "<div id=\"altair-viz-d589380751bd436aa7a7e25f066fa814\"></div>\n",
              "<script type=\"text/javascript\">\n",
              "  (function(spec, embedOpt){\n",
              "    let outputDiv = document.currentScript.previousElementSibling;\n",
              "    if (outputDiv.id !== \"altair-viz-d589380751bd436aa7a7e25f066fa814\") {\n",
              "      outputDiv = document.getElementById(\"altair-viz-d589380751bd436aa7a7e25f066fa814\");\n",
              "    }\n",
              "    const paths = {\n",
              "      \"vega\": \"https://cdn.jsdelivr.net/npm//vega@5?noext\",\n",
              "      \"vega-lib\": \"https://cdn.jsdelivr.net/npm//vega-lib?noext\",\n",
              "      \"vega-lite\": \"https://cdn.jsdelivr.net/npm//vega-lite@4.8.1?noext\",\n",
              "      \"vega-embed\": \"https://cdn.jsdelivr.net/npm//vega-embed@6?noext\",\n",
              "    };\n",
              "\n",
              "    function loadScript(lib) {\n",
              "      return new Promise(function(resolve, reject) {\n",
              "        var s = document.createElement('script');\n",
              "        s.src = paths[lib];\n",
              "        s.async = true;\n",
              "        s.onload = () => resolve(paths[lib]);\n",
              "        s.onerror = () => reject(`Error loading script: ${paths[lib]}`);\n",
              "        document.getElementsByTagName(\"head\")[0].appendChild(s);\n",
              "      });\n",
              "    }\n",
              "\n",
              "    function showError(err) {\n",
              "      outputDiv.innerHTML = `<div class=\"error\" style=\"color:red;\">${err}</div>`;\n",
              "      throw err;\n",
              "    }\n",
              "\n",
              "    function displayChart(vegaEmbed) {\n",
              "      vegaEmbed(outputDiv, spec, embedOpt)\n",
              "        .catch(err => showError(`Javascript Error: ${err.message}<br>This usually means there's a typo in your chart specification. See the javascript console for the full traceback.`));\n",
              "    }\n",
              "\n",
              "    if(typeof define === \"function\" && define.amd) {\n",
              "      requirejs.config({paths});\n",
              "      require([\"vega-embed\"], displayChart, err => showError(`Error loading script: ${err.message}`));\n",
              "    } else if (typeof vegaEmbed === \"function\") {\n",
              "      displayChart(vegaEmbed);\n",
              "    } else {\n",
              "      loadScript(\"vega\")\n",
              "        .then(() => loadScript(\"vega-lite\"))\n",
              "        .then(() => loadScript(\"vega-embed\"))\n",
              "        .catch(showError)\n",
              "        .then(() => displayChart(vegaEmbed));\n",
              "    }\n",
              "  })({\"config\": {\"view\": {\"continuousWidth\": 400, \"continuousHeight\": 300}}, \"data\": {\"name\": \"data-18dd4d3e4e034dea900aae6684e987e4\"}, \"mark\": \"point\", \"encoding\": {\"tooltip\": [{\"type\": \"quantitative\", \"field\": \"actual\"}, {\"type\": \"quantitative\", \"field\": \"predicted\"}], \"x\": {\"type\": \"quantitative\", \"field\": \"actual\"}, \"y\": {\"type\": \"quantitative\", \"field\": \"predicted\"}}, \"selection\": {\"selector003\": {\"type\": \"interval\", \"bind\": \"scales\", \"encodings\": [\"x\", \"y\"]}}, \"$schema\": \"https://vega.github.io/schema/vega-lite/v4.8.1.json\", \"datasets\": {\"data-18dd4d3e4e034dea900aae6684e987e4\": [{\"predicted\": 30.003843377016025, \"actual\": 24.0}, {\"predicted\": 25.025562379054428, \"actual\": 21.6}, {\"predicted\": 30.567596718603234, \"actual\": 34.7}, {\"predicted\": 28.607036488730717, \"actual\": 33.4}, {\"predicted\": 27.943524232876143, \"actual\": 36.2}, {\"predicted\": 25.256284461543302, \"actual\": 28.7}, {\"predicted\": 23.001808268484687, \"actual\": 22.9}, {\"predicted\": 19.535988428756717, \"actual\": 27.1}, {\"predicted\": 11.523636853131318, \"actual\": 16.5}, {\"predicted\": 18.92026210707641, \"actual\": 18.9}, {\"predicted\": 18.99949651113374, \"actual\": 15.0}, {\"predicted\": 21.586795681399245, \"actual\": 18.9}, {\"predicted\": 20.90652152783415, \"actual\": 21.7}, {\"predicted\": 19.552902810581976, \"actual\": 20.4}, {\"predicted\": 19.283482050091838, \"actual\": 18.2}, {\"predicted\": 19.297483208228645, \"actual\": 19.9}, {\"predicted\": 20.527509791162743, \"actual\": 23.1}, {\"predicted\": 16.911401346799554, \"actual\": 17.5}, {\"predicted\": 16.178011056571552, \"actual\": 20.2}, {\"predicted\": 18.406136033333205, \"actual\": 18.2}, {\"predicted\": 12.523857527097118, \"actual\": 13.6}, {\"predicted\": 17.671036694916772, \"actual\": 19.6}, {\"predicted\": 15.832881291789189, \"actual\": 15.2}, {\"predicted\": 13.806285346357003, \"actual\": 14.5}, {\"predicted\": 15.678338315465037, \"actual\": 15.6}, {\"predicted\": 13.386685608608701, \"actual\": 13.9}, {\"predicted\": 15.463976546441621, \"actual\": 16.6}, {\"predicted\": 14.708474280637931, \"actual\": 14.8}, {\"predicted\": 19.54737285096418, \"actual\": 18.4}, {\"predicted\": 20.876428202263938, \"actual\": 21.0}, {\"predicted\": 11.455117589958327, \"actual\": 12.7}, {\"predicted\": 18.059232945804922, \"actual\": 14.5}, {\"predicted\": 8.811057362217126, \"actual\": 13.2}, {\"predicted\": 14.282758141231167, \"actual\": 13.1}, {\"predicted\": 13.706758912853308, \"actual\": 13.5}, {\"predicted\": 23.814635264833164, \"actual\": 18.9}, {\"predicted\": 22.34193707568929, \"actual\": 20.0}, {\"predicted\": 23.10891142454433, \"actual\": 21.0}, {\"predicted\": 22.915026116165222, \"actual\": 24.7}, {\"predicted\": 31.357625688161534, \"actual\": 30.8}, {\"predicted\": 34.215102253697324, \"actual\": 34.9}, {\"predicted\": 28.020564138692336, \"actual\": 26.6}, {\"predicted\": 25.20386628047908, \"actual\": 25.3}, {\"predicted\": 24.609792725452195, \"actual\": 24.7}, {\"predicted\": 22.941491756555937, \"actual\": 21.2}, {\"predicted\": 22.096698174978993, \"actual\": 19.3}, {\"predicted\": 20.423200323015017, \"actual\": 20.0}, {\"predicted\": 18.03655088354951, \"actual\": 16.6}, {\"predicted\": 9.106553772184935, \"actual\": 14.4}, {\"predicted\": 17.20607751412627, \"actual\": 19.4}, {\"predicted\": 21.28152535321139, \"actual\": 19.7}, {\"predicted\": 23.97222284868971, \"actual\": 20.5}, {\"predicted\": 27.65585080205713, \"actual\": 25.0}, {\"predicted\": 24.049018091157084, \"actual\": 23.4}, {\"predicted\": 15.361847701001317, \"actual\": 18.9}, {\"predicted\": 31.15264946603347, \"actual\": 35.4}, {\"predicted\": 24.85686978155322, \"actual\": 24.7}, {\"predicted\": 33.1091980616431, \"actual\": 31.6}, {\"predicted\": 21.775379871489402, \"actual\": 23.3}, {\"predicted\": 21.08493555063141, \"actual\": 19.6}, {\"predicted\": 17.872580396885844, \"actual\": 18.7}, {\"predicted\": 18.51110208022237, \"actual\": 16.0}, {\"predicted\": 23.987428564910754, \"actual\": 22.2}, {\"predicted\": 22.554088688885294, \"actual\": 25.0}, {\"predicted\": 23.373086442270047, \"actual\": 33.0}, {\"predicted\": 30.361483581458206, \"actual\": 23.5}, {\"predicted\": 25.530565115199835, \"actual\": 19.4}, {\"predicted\": 21.11338564179665, \"actual\": 22.0}, {\"predicted\": 17.421537856548408, \"actual\": 17.4}, {\"predicted\": 20.784836326696023, \"actual\": 20.9}, {\"predicted\": 25.20148859443563, \"actual\": 24.2}, {\"predicted\": 21.742657704530302, \"actual\": 21.7}, {\"predicted\": 24.55744957214963, \"actual\": 22.8}, {\"predicted\": 24.04295712012552, \"actual\": 23.4}, {\"predicted\": 25.50499716371234, \"actual\": 24.1}, {\"predicted\": 23.966930200263782, \"actual\": 21.4}, {\"predicted\": 22.945454031329007, \"actual\": 20.0}, {\"predicted\": 23.35699818434756, \"actual\": 20.8}, {\"predicted\": 21.26198266230631, \"actual\": 21.2}, {\"predicted\": 22.428173731800428, \"actual\": 20.3}, {\"predicted\": 28.40576968208414, \"actual\": 28.0}, {\"predicted\": 26.99486086232035, \"actual\": 23.9}, {\"predicted\": 26.03576296838853, \"actual\": 24.8}, {\"predicted\": 25.05873481922105, \"actual\": 22.9}, {\"predicted\": 24.784566737934192, \"actual\": 23.9}, {\"predicted\": 27.790491951238707, \"actual\": 26.6}, {\"predicted\": 22.168534231467966, \"actual\": 22.5}, {\"predicted\": 25.89276415316835, \"actual\": 22.2}, {\"predicted\": 30.674618271763578, \"actual\": 23.6}, {\"predicted\": 30.83110622742588, \"actual\": 28.7}, {\"predicted\": 27.119019396049417, \"actual\": 22.6}, {\"predicted\": 27.412667341119448, \"actual\": 22.0}, {\"predicted\": 28.941227624394614, \"actual\": 22.9}, {\"predicted\": 29.08105546257604, \"actual\": 25.0}, {\"predicted\": 27.03977364876092, \"actual\": 20.6}, {\"predicted\": 28.624599485047035, \"actual\": 28.4}, {\"predicted\": 24.727449776437773, \"actual\": 21.4}, {\"predicted\": 35.78159518086231, \"actual\": 38.7}, {\"predicted\": 35.114545872624504, \"actual\": 43.8}, {\"predicted\": 32.25102801323625, \"actual\": 33.2}, {\"predicted\": 24.580220188924926, \"actual\": 27.5}, {\"predicted\": 25.59413474573472, \"actual\": 26.5}, {\"predicted\": 19.79013683546455, \"actual\": 18.6}, {\"predicted\": 20.311671287562792, \"actual\": 19.3}, {\"predicted\": 21.43482591145466, \"actual\": 20.1}, {\"predicted\": 18.53994008160449, \"actual\": 19.5}, {\"predicted\": 17.187559917816525, \"actual\": 19.5}, {\"predicted\": 20.750490259356667, \"actual\": 20.4}, {\"predicted\": 22.648291145972657, \"actual\": 19.8}, {\"predicted\": 19.77203669531978, \"actual\": 19.4}, {\"predicted\": 20.64965864269712, \"actual\": 21.7}, {\"predicted\": 26.52586743793058, \"actual\": 22.8}, {\"predicted\": 20.773236376859593, \"actual\": 18.8}, {\"predicted\": 20.71548314970202, \"actual\": 18.7}, {\"predicted\": 25.172088812640347, \"actual\": 18.5}, {\"predicted\": 20.43025590945991, \"actual\": 18.3}, {\"predicted\": 23.377246256948823, \"actual\": 21.2}, {\"predicted\": 23.69043260621965, \"actual\": 19.2}, {\"predicted\": 20.33578364258203, \"actual\": 20.4}, {\"predicted\": 20.79180873201445, \"actual\": 19.3}, {\"predicted\": 21.916320710532027, \"actual\": 22.0}, {\"predicted\": 22.471077767446005, \"actual\": 20.3}, {\"predicted\": 20.557385558475044, \"actual\": 20.5}, {\"predicted\": 16.36661977422851, \"actual\": 17.3}, {\"predicted\": 20.56099819193346, \"actual\": 18.8}, {\"predicted\": 22.481784461710077, \"actual\": 21.4}, {\"predicted\": 14.61706632779711, \"actual\": 15.7}, {\"predicted\": 15.17876683962608, \"actual\": 16.2}, {\"predicted\": 18.938685923805572, \"actual\": 18.0}, {\"predicted\": 14.055732851033062, \"actual\": 14.3}, {\"predicted\": 20.035273989262155, \"actual\": 19.2}, {\"predicted\": 19.410134020929398, \"actual\": 19.6}, {\"predicted\": 20.061915661889973, \"actual\": 23.0}, {\"predicted\": 15.758076731272613, \"actual\": 18.4}, {\"predicted\": 13.256452381603811, \"actual\": 15.6}, {\"predicted\": 17.26277734988284, \"actual\": 18.1}, {\"predicted\": 15.8784188341911, \"actual\": 17.4}, {\"predicted\": 19.361639540291627, \"actual\": 17.1}, {\"predicted\": 13.814838966993829, \"actual\": 13.3}, {\"predicted\": 16.448814747715065, \"actual\": 17.8}, {\"predicted\": 13.571419318671929, \"actual\": 14.0}, {\"predicted\": 3.9888550829949274, \"actual\": 14.4}, {\"predicted\": 14.594954779922444, \"actual\": 13.4}, {\"predicted\": 12.14881480303043, \"actual\": 15.6}, {\"predicted\": 8.728223623420318, \"actual\": 11.8}, {\"predicted\": 12.035853427472372, \"actual\": 13.8}, {\"predicted\": 15.820820579627902, \"actual\": 15.6}, {\"predicted\": 8.514990203430166, \"actual\": 14.6}, {\"predicted\": 9.718441392741182, \"actual\": 17.8}, {\"predicted\": 14.80451373740105, \"actual\": 15.4}, {\"predicted\": 20.838581528680056, \"actual\": 21.5}, {\"predicted\": 18.30101169357593, \"actual\": 19.6}, {\"predicted\": 20.122825578499917, \"actual\": 15.3}, {\"predicted\": 17.28601893611965, \"actual\": 19.4}, {\"predicted\": 22.366002280716046, \"actual\": 17.0}, {\"predicted\": 20.10375922735989, \"actual\": 15.6}, {\"predicted\": 13.6212589067199, \"actual\": 13.1}, {\"predicted\": 33.25982696889949, \"actual\": 41.3}, {\"predicted\": 29.03017267984204, \"actual\": 24.3}, {\"predicted\": 25.567527693650348, \"actual\": 23.3}, {\"predicted\": 32.70827665835338, \"actual\": 27.0}, {\"predicted\": 36.77467014573977, \"actual\": 50.0}, {\"predicted\": 40.5576584445823, \"actual\": 50.0}, {\"predicted\": 41.84728167704373, \"actual\": 50.0}, {\"predicted\": 24.78867379099527, \"actual\": 22.7}, {\"predicted\": 25.37889237769118, \"actual\": 25.0}, {\"predicted\": 37.20347454599896, \"actual\": 50.0}, {\"predicted\": 23.087487473369286, \"actual\": 23.8}, {\"predicted\": 26.402739552734463, \"actual\": 23.8}, {\"predicted\": 26.653821137262693, \"actual\": 22.3}, {\"predicted\": 22.555146604884285, \"actual\": 17.4}, {\"predicted\": 24.290828117746635, \"actual\": 19.1}, {\"predicted\": 22.9765721902129, \"actual\": 23.1}, {\"predicted\": 29.071943076901196, \"actual\": 23.6}, {\"predicted\": 26.52194339591187, \"actual\": 22.6}, {\"predicted\": 30.722090555483277, \"actual\": 29.4}, {\"predicted\": 25.616693069401105, \"actual\": 23.2}, {\"predicted\": 29.13740979428427, \"actual\": 24.6}, {\"predicted\": 31.435719677087278, \"actual\": 29.9}, {\"predicted\": 32.922315680026074, \"actual\": 37.2}, {\"predicted\": 34.724404643776204, \"actual\": 39.8}, {\"predicted\": 27.76552110659675, \"actual\": 36.2}, {\"predicted\": 33.887873213243225, \"actual\": 37.9}, {\"predicted\": 30.992380360149888, \"actual\": 32.5}, {\"predicted\": 22.71820008092737, \"actual\": 26.4}, {\"predicted\": 24.766478098958366, \"actual\": 29.6}, {\"predicted\": 35.88497226207958, \"actual\": 50.0}, {\"predicted\": 33.42476722031289, \"actual\": 32.0}, {\"predicted\": 32.41199146559907, \"actual\": 29.8}, {\"predicted\": 34.515099493419314, \"actual\": 34.9}, {\"predicted\": 30.76109485174441, \"actual\": 37.0}, {\"predicted\": 30.289341406748942, \"actual\": 30.5}, {\"predicted\": 32.91918714320469, \"actual\": 36.4}, {\"predicted\": 32.112607714016505, \"actual\": 31.1}, {\"predicted\": 31.55871004316931, \"actual\": 29.1}, {\"predicted\": 40.84555721422369, \"actual\": 50.0}, {\"predicted\": 36.12770079210515, \"actual\": 33.3}, {\"predicted\": 32.66920809977032, \"actual\": 30.3}, {\"predicted\": 34.70469116436607, \"actual\": 34.6}, {\"predicted\": 30.09345161811382, \"actual\": 34.9}, {\"predicted\": 30.643939064850784, \"actual\": 32.9}, {\"predicted\": 29.287195013651004, \"actual\": 24.1}, {\"predicted\": 37.07148392020004, \"actual\": 42.3}, {\"predicted\": 42.03193123838017, \"actual\": 48.5}, {\"predicted\": 43.189498436966495, \"actual\": 50.0}, {\"predicted\": 22.690347963776574, \"actual\": 22.6}, {\"predicted\": 23.682847115428146, \"actual\": 24.4}, {\"predicted\": 17.8544721365812, \"actual\": 22.5}, {\"predicted\": 23.49428992019936, \"actual\": 24.4}, {\"predicted\": 17.005877178804894, \"actual\": 20.0}, {\"predicted\": 22.39251096356948, \"actual\": 21.7}, {\"predicted\": 17.06042753803869, \"actual\": 19.3}, {\"predicted\": 22.73892921489675, \"actual\": 22.4}, {\"predicted\": 25.2194255392075, \"actual\": 28.1}, {\"predicted\": 11.119167371541355, \"actual\": 23.7}, {\"predicted\": 24.510491479279217, \"actual\": 25.0}, {\"predicted\": 26.603347747621605, \"actual\": 23.3}, {\"predicted\": 28.35518712708783, \"actual\": 28.7}, {\"predicted\": 24.91525463605451, \"actual\": 21.5}, {\"predicted\": 29.686527678125834, \"actual\": 23.0}, {\"predicted\": 33.18419745634019, \"actual\": 26.7}, {\"predicted\": 23.77456655965033, \"actual\": 21.7}, {\"predicted\": 32.14051957851811, \"actual\": 27.5}, {\"predicted\": 29.74581989572413, \"actual\": 30.1}, {\"predicted\": 38.37102452699564, \"actual\": 44.8}, {\"predicted\": 39.814618670278946, \"actual\": 50.0}, {\"predicted\": 37.58605754966105, \"actual\": 37.6}, {\"predicted\": 32.39953250263882, \"actual\": 31.6}, {\"predicted\": 35.456652419828735, \"actual\": 46.7}, {\"predicted\": 31.234115116973182, \"actual\": 31.5}, {\"predicted\": 24.48449226906613, \"actual\": 24.3}, {\"predicted\": 33.288372916020926, \"actual\": 31.7}, {\"predicted\": 38.04810480359713, \"actual\": 41.7}, {\"predicted\": 37.163286314687525, \"actual\": 48.3}, {\"predicted\": 31.7138352252815, \"actual\": 29.0}, {\"predicted\": 25.267055713315408, \"actual\": 24.0}, {\"predicted\": 30.100107449042234, \"actual\": 25.1}, {\"predicted\": 32.71987155807736, \"actual\": 31.5}, {\"predicted\": 28.42717056597521, \"actual\": 23.7}, {\"predicted\": 28.42940678058857, \"actual\": 23.3}, {\"predicted\": 27.29375938404487, \"actual\": 22.0}, {\"predicted\": 23.742624782954575, \"actual\": 20.1}, {\"predicted\": 24.120078909164544, \"actual\": 22.2}, {\"predicted\": 27.40208413760967, \"actual\": 23.7}, {\"predicted\": 16.328575600536997, \"actual\": 17.6}, {\"predicted\": 13.39891261297023, \"actual\": 18.5}, {\"predicted\": 20.016387752378037, \"actual\": 24.3}, {\"predicted\": 19.861844278232294, \"actual\": 20.5}, {\"predicted\": 21.288313098472155, \"actual\": 24.5}, {\"predicted\": 24.079891495764745, \"actual\": 26.2}, {\"predicted\": 24.206335470024403, \"actual\": 24.4}, {\"predicted\": 25.042158212926857, \"actual\": 24.8}, {\"predicted\": 24.919640070333458, \"actual\": 29.6}, {\"predicted\": 29.94563374480409, \"actual\": 42.8}, {\"predicted\": 23.972283164974392, \"actual\": 21.9}, {\"predicted\": 21.695808865536293, \"actual\": 20.9}, {\"predicted\": 37.51109239022891, \"actual\": 44.0}, {\"predicted\": 43.30239042694383, \"actual\": 50.0}, {\"predicted\": 36.48361420552143, \"actual\": 36.0}, {\"predicted\": 34.989885935895, \"actual\": 30.1}, {\"predicted\": 34.81211508061462, \"actual\": 33.8}, {\"predicted\": 37.16631330835081, \"actual\": 43.1}, {\"predicted\": 40.98928500887843, \"actual\": 48.8}, {\"predicted\": 34.44634089285289, \"actual\": 31.0}, {\"predicted\": 35.83397546861592, \"actual\": 36.5}, {\"predicted\": 28.245742999325927, \"actual\": 22.8}, {\"predicted\": 31.22673592593252, \"actual\": 30.7}, {\"predicted\": 40.83955749625005, \"actual\": 50.0}, {\"predicted\": 39.3179239307972, \"actual\": 43.5}, {\"predicted\": 25.708179052265677, \"actual\": 20.7}, {\"predicted\": 22.30295532951206, \"actual\": 21.1}, {\"predicted\": 27.203409718859522, \"actual\": 25.2}, {\"predicted\": 28.511694720069087, \"actual\": 24.4}, {\"predicted\": 35.47676598232416, \"actual\": 35.2}, {\"predicted\": 36.10639164332282, \"actual\": 32.4}, {\"predicted\": 33.79668273520855, \"actual\": 32.0}, {\"predicted\": 35.61085857940575, \"actual\": 33.2}, {\"predicted\": 34.8399338194252, \"actual\": 33.1}, {\"predicted\": 30.351926557921487, \"actual\": 29.1}, {\"predicted\": 35.30980700948052, \"actual\": 35.1}, {\"predicted\": 38.79756965988778, \"actual\": 45.4}, {\"predicted\": 34.331231859586126, \"actual\": 35.4}, {\"predicted\": 40.33963074775139, \"actual\": 46.0}, {\"predicted\": 44.67308338731249, \"actual\": 50.0}, {\"predicted\": 31.59689085502832, \"actual\": 32.2}, {\"predicted\": 27.356592297986467, \"actual\": 22.0}, {\"predicted\": 20.101741541004785, \"actual\": 20.1}, {\"predicted\": 27.042066735687854, \"actual\": 23.2}, {\"predicted\": 27.213645804490582, \"actual\": 22.3}, {\"predicted\": 26.913958393597472, \"actual\": 24.8}, {\"predicted\": 33.43563310558209, \"actual\": 28.5}, {\"predicted\": 34.403496330174335, \"actual\": 37.3}, {\"predicted\": 31.83339820143097, \"actual\": 27.9}, {\"predicted\": 25.817832368946455, \"actual\": 23.9}, {\"predicted\": 24.429823483246732, \"actual\": 21.7}, {\"predicted\": 28.457643368376374, \"actual\": 28.6}, {\"predicted\": 27.362669985236465, \"actual\": 27.1}, {\"predicted\": 19.53928758080002, \"actual\": 20.3}, {\"predicted\": 29.11309844092286, \"actual\": 22.5}, {\"predicted\": 31.910546107824988, \"actual\": 29.0}, {\"predicted\": 30.77159448512139, \"actual\": 24.8}, {\"predicted\": 28.94275871274978, \"actual\": 22.0}, {\"predicted\": 28.88191022400053, \"actual\": 26.4}, {\"predicted\": 32.79887231865891, \"actual\": 33.1}, {\"predicted\": 33.20905455941167, \"actual\": 36.1}, {\"predicted\": 30.768317923136713, \"actual\": 28.4}, {\"predicted\": 35.56226856966872, \"actual\": 33.4}, {\"predicted\": 32.709051237030984, \"actual\": 28.2}, {\"predicted\": 28.64244236626412, \"actual\": 22.8}, {\"predicted\": 23.58965827108115, \"actual\": 20.3}, {\"predicted\": 18.542668967733096, \"actual\": 16.1}, {\"predicted\": 26.878898428918774, \"actual\": 22.1}, {\"predicted\": 23.281339788190238, \"actual\": 19.4}, {\"predicted\": 25.545802460524442, \"actual\": 21.6}, {\"predicted\": 25.48120057092492, \"actual\": 23.8}, {\"predicted\": 20.53909901149079, \"actual\": 16.2}, {\"predicted\": 17.61572572826781, \"actual\": 17.8}, {\"predicted\": 18.37581686407726, \"actual\": 19.8}, {\"predicted\": 24.29070276939715, \"actual\": 23.1}, {\"predicted\": 21.325290391650405, \"actual\": 21.0}, {\"predicted\": 24.88682244065253, \"actual\": 23.8}, {\"predicted\": 24.869372815388886, \"actual\": 23.1}, {\"predicted\": 22.86952447434874, \"actual\": 20.4}, {\"predicted\": 19.451237906153697, \"actual\": 18.5}, {\"predicted\": 25.117834011378157, \"actual\": 25.0}, {\"predicted\": 24.66786913225717, \"actual\": 24.6}, {\"predicted\": 23.68076177072804, \"actual\": 23.0}, {\"predicted\": 19.340896163269093, \"actual\": 22.2}, {\"predicted\": 21.174181054134223, \"actual\": 19.3}, {\"predicted\": 24.252490734931335, \"actual\": 22.6}, {\"predicted\": 21.59260893861511, \"actual\": 19.8}, {\"predicted\": 19.984466053888077, \"actual\": 17.1}, {\"predicted\": 23.33887999780358, \"actual\": 19.4}, {\"predicted\": 22.140606924959943, \"actual\": 22.2}, {\"predicted\": 21.555099290217946, \"actual\": 20.7}, {\"predicted\": 20.618729067978183, \"actual\": 21.1}, {\"predicted\": 20.16097176323129, \"actual\": 19.5}, {\"predicted\": 19.284903872928275, \"actual\": 18.5}, {\"predicted\": 22.1667232042722, \"actual\": 20.6}, {\"predicted\": 21.249657744230866, \"actual\": 19.0}, {\"predicted\": 21.429393054258487, \"actual\": 18.7}, {\"predicted\": 30.327887960245352, \"actual\": 32.7}, {\"predicted\": 22.04734975085898, \"actual\": 16.5}, {\"predicted\": 27.706479124563295, \"actual\": 23.9}, {\"predicted\": 28.547941168157813, \"actual\": 31.2}, {\"predicted\": 16.5450112143824, \"actual\": 17.5}, {\"predicted\": 14.783596409866796, \"actual\": 17.2}, {\"predicted\": 25.2738008168541, \"actual\": 23.1}, {\"predicted\": 27.54205117393159, \"actual\": 24.5}, {\"predicted\": 22.148375624478913, \"actual\": 26.6}, {\"predicted\": 20.459440947462287, \"actual\": 22.9}, {\"predicted\": 20.546054227453467, \"actual\": 24.1}, {\"predicted\": 16.880638265647065, \"actual\": 18.6}, {\"predicted\": 25.402535058014273, \"actual\": 30.1}, {\"predicted\": 14.324866319041348, \"actual\": 18.2}, {\"predicted\": 16.59488461738309, \"actual\": 20.6}, {\"predicted\": 19.637046913306968, \"actual\": 17.8}, {\"predicted\": 22.718066074787583, \"actual\": 21.7}, {\"predicted\": 22.2021888675389, \"actual\": 22.7}, {\"predicted\": 19.20548057395332, \"actual\": 22.6}, {\"predicted\": 22.666161051338527, \"actual\": 25.0}, {\"predicted\": 18.931926181669702, \"actual\": 19.9}, {\"predicted\": 18.22846804302548, \"actual\": 20.8}, {\"predicted\": 20.23150811385739, \"actual\": 16.8}, {\"predicted\": 37.49447389970029, \"actual\": 21.9}, {\"predicted\": 14.281907341196288, \"actual\": 27.5}, {\"predicted\": 15.542862482792792, \"actual\": 21.9}, {\"predicted\": 10.831623241058082, \"actual\": 23.1}, {\"predicted\": 23.80072902208982, \"actual\": 50.0}, {\"predicted\": 32.644073601253226, \"actual\": 50.0}, {\"predicted\": 34.60684042447091, \"actual\": 50.0}, {\"predicted\": 24.943313325146434, \"actual\": 50.0}, {\"predicted\": 25.9998091007396, \"actual\": 50.0}, {\"predicted\": 6.126324996434047, \"actual\": 13.8}, {\"predicted\": 0.7777980595761633, \"actual\": 13.8}, {\"predicted\": 25.307130641726808, \"actual\": 15.0}, {\"predicted\": 17.740610645322164, \"actual\": 13.9}, {\"predicted\": 20.232744140191652, \"actual\": 13.3}, {\"predicted\": 15.833313007606307, \"actual\": 13.1}, {\"predicted\": 16.835125871659912, \"actual\": 10.2}, {\"predicted\": 14.369948254921297, \"actual\": 10.4}, {\"predicted\": 18.476828330788592, \"actual\": 10.9}, {\"predicted\": 13.427682804693639, \"actual\": 11.3}, {\"predicted\": 13.061775117830171, \"actual\": 12.3}, {\"predicted\": 3.27918116096712, \"actual\": 8.8}, {\"predicted\": 8.060221708248104, \"actual\": 7.2}, {\"predicted\": 6.128421964313082, \"actual\": 10.5}, {\"predicted\": 5.618648099845622, \"actual\": 7.4}, {\"predicted\": 6.451985698131153, \"actual\": 10.2}, {\"predicted\": 14.207647351943024, \"actual\": 11.5}, {\"predicted\": 17.212251831420655, \"actual\": 15.1}, {\"predicted\": 17.29887265155294, \"actual\": 23.2}, {\"predicted\": 9.891166432278546, \"actual\": 9.7}, {\"predicted\": 20.221241934996648, \"actual\": 13.8}, {\"predicted\": 17.94181175323026, \"actual\": 12.7}, {\"predicted\": 20.30445782747121, \"actual\": 13.1}, {\"predicted\": 19.29559075474799, \"actual\": 12.5}, {\"predicted\": 16.336327793197157, \"actual\": 8.5}, {\"predicted\": 6.551623190699226, \"actual\": 5.0}, {\"predicted\": 10.890167780951739, \"actual\": 6.3}, {\"predicted\": 11.881458707423324, \"actual\": 5.6}, {\"predicted\": 17.811745067920747, \"actual\": 7.2}, {\"predicted\": 18.261265871699088, \"actual\": 12.1}, {\"predicted\": 12.979487807361512, \"actual\": 8.3}, {\"predicted\": 7.378163607211398, \"actual\": 8.5}, {\"predicted\": 8.211158613913522, \"actual\": 5.0}, {\"predicted\": 8.06626192987557, \"actual\": 11.9}, {\"predicted\": 19.982947859824023, \"actual\": 27.9}, {\"predicted\": 13.707563692108566, \"actual\": 17.2}, {\"predicted\": 19.85268454477798, \"actual\": 27.5}, {\"predicted\": 15.223082976900777, \"actual\": 15.0}, {\"predicted\": 16.960719809966797, \"actual\": 17.2}, {\"predicted\": 1.718518067823375, \"actual\": 17.9}, {\"predicted\": 11.805783871540514, \"actual\": 16.3}, {\"predicted\": -4.281310709167013, \"actual\": 7.0}, {\"predicted\": 9.58376736863951, \"actual\": 7.2}, {\"predicted\": 13.366608109641524, \"actual\": 7.5}, {\"predicted\": 6.895623625868925, \"actual\": 10.4}, {\"predicted\": 6.147798520352264, \"actual\": 8.8}, {\"predicted\": 14.606617942388391, \"actual\": 8.4}, {\"predicted\": 19.60002670199114, \"actual\": 16.7}, {\"predicted\": 18.12427475887912, \"actual\": 14.2}, {\"predicted\": 18.521771321519296, \"actual\": 20.8}, {\"predicted\": 13.17528610456863, \"actual\": 13.4}, {\"predicted\": 14.626176241816413, \"actual\": 11.7}, {\"predicted\": 9.923749759667812, \"actual\": 8.3}, {\"predicted\": 16.34590646657795, \"actual\": 10.2}, {\"predicted\": 14.075194255245469, \"actual\": 10.9}, {\"predicted\": 14.257562426065387, \"actual\": 11.0}, {\"predicted\": 13.042347874624884, \"actual\": 9.5}, {\"predicted\": 18.159556933722747, \"actual\": 14.5}, {\"predicted\": 18.695543541180054, \"actual\": 14.1}, {\"predicted\": 21.527283002112394, \"actual\": 16.1}, {\"predicted\": 17.03141860864765, \"actual\": 14.3}, {\"predicted\": 15.960904353337671, \"actual\": 11.7}, {\"predicted\": 13.361416107109585, \"actual\": 13.4}, {\"predicted\": 14.520793839066492, \"actual\": 9.6}, {\"predicted\": 8.819760054265696, \"actual\": 8.7}, {\"predicted\": 4.867511022771019, \"actual\": 8.4}, {\"predicted\": 13.065913129523947, \"actual\": 12.8}, {\"predicted\": 12.706096993189965, \"actual\": 10.5}, {\"predicted\": 17.295580592090886, \"actual\": 17.1}, {\"predicted\": 18.74048500151232, \"actual\": 18.4}, {\"predicted\": 18.05901029453417, \"actual\": 15.4}, {\"predicted\": 11.514746833909694, \"actual\": 10.8}, {\"predicted\": 11.974003586662587, \"actual\": 11.8}, {\"predicted\": 17.683446184711762, \"actual\": 14.9}, {\"predicted\": 18.126952390269413, \"actual\": 12.6}, {\"predicted\": 17.518346503952003, \"actual\": 14.1}, {\"predicted\": 17.227425073018857, \"actual\": 13.0}, {\"predicted\": 16.52271631337105, \"actual\": 13.4}, {\"predicted\": 19.41291095090396, \"actual\": 15.2}, {\"predicted\": 18.582152361807132, \"actual\": 16.1}, {\"predicted\": 22.48944790816138, \"actual\": 17.8}, {\"predicted\": 15.280001330379342, \"actual\": 14.9}, {\"predicted\": 15.820893351720512, \"actual\": 14.1}, {\"predicted\": 12.687255813163755, \"actual\": 12.7}, {\"predicted\": 12.876337901959575, \"actual\": 13.5}, {\"predicted\": 17.186685308589805, \"actual\": 14.9}, {\"predicted\": 18.512476092923347, \"actual\": 20.0}, {\"predicted\": 19.048605332484655, \"actual\": 16.4}, {\"predicted\": 20.172089273294045, \"actual\": 17.7}, {\"predicted\": 19.774073196904403, \"actual\": 19.5}, {\"predicted\": 22.42940767883839, \"actual\": 20.2}, {\"predicted\": 20.31911854322495, \"actual\": 21.4}, {\"predicted\": 17.886162532166576, \"actual\": 19.9}, {\"predicted\": 14.374785228367607, \"actual\": 19.0}, {\"predicted\": 16.947768507197615, \"actual\": 19.1}, {\"predicted\": 16.98405762151603, \"actual\": 19.1}, {\"predicted\": 18.588383967698967, \"actual\": 20.1}, {\"predicted\": 20.167194410632597, \"actual\": 19.9}, {\"predicted\": 22.97718031714961, \"actual\": 19.6}, {\"predicted\": 22.455807263536975, \"actual\": 23.2}, {\"predicted\": 25.57824626548392, \"actual\": 29.8}, {\"predicted\": 16.391476316357256, \"actual\": 13.8}, {\"predicted\": 16.111462804303898, \"actual\": 13.3}, {\"predicted\": 20.534815995892163, \"actual\": 16.7}, {\"predicted\": 11.542727381570053, \"actual\": 12.0}, {\"predicted\": 19.204963044921648, \"actual\": 14.6}, {\"predicted\": 21.862763906310512, \"actual\": 21.4}, {\"predicted\": 23.468788663072722, \"actual\": 23.0}, {\"predicted\": 27.098873154887915, \"actual\": 23.7}, {\"predicted\": 28.569943016699376, \"actual\": 25.0}, {\"predicted\": 21.083987830897748, \"actual\": 21.8}, {\"predicted\": 19.455161955635973, \"actual\": 20.6}, {\"predicted\": 22.222259140791238, \"actual\": 21.2}, {\"predicted\": 19.65591960758259, \"actual\": 19.1}, {\"predicted\": 21.325361043998743, \"actual\": 20.6}, {\"predicted\": 11.855837166487158, \"actual\": 15.2}, {\"predicted\": 8.223866867924222, \"actual\": 7.0}, {\"predicted\": 3.6639967204822668, \"actual\": 8.1}, {\"predicted\": 13.75908538206732, \"actual\": 13.6}, {\"predicted\": 15.931185451333693, \"actual\": 20.1}, {\"predicted\": 20.626620544350803, \"actual\": 21.8}, {\"predicted\": 20.61249413984696, \"actual\": 24.5}, {\"predicted\": 16.88541963948849, \"actual\": 23.1}, {\"predicted\": 14.013207870941361, \"actual\": 19.7}, {\"predicted\": 19.10854143876446, \"actual\": 18.3}, {\"predicted\": 21.298051744434673, \"actual\": 21.2}, {\"predicted\": 18.454988408698004, \"actual\": 17.5}, {\"predicted\": 20.468708469605765, \"actual\": 16.8}, {\"predicted\": 23.533340546667382, \"actual\": 22.4}, {\"predicted\": 22.375718920287937, \"actual\": 20.6}, {\"predicted\": 27.627426095036604, \"actual\": 23.9}, {\"predicted\": 26.12796680659639, \"actual\": 22.0}, {\"predicted\": 22.344212292903237, \"actual\": 11.9}]}}, {\"mode\": \"vega-lite\"});\n",
              "</script>"
            ]
          },
          "metadata": {
            "tags": []
          },
          "execution_count": 17
        }
      ]
    },
    {
      "cell_type": "code",
      "metadata": {
        "id": "DvLzFMK6bqtC",
        "colab_type": "code",
        "colab": {
          "base_uri": "https://localhost:8080/",
          "height": 403
        },
        "outputId": "2b252a1c-ef34-4718-88c7-c04876287f78"
      },
      "source": [
        "R, actual, phi = setup(results)   \n",
        "\n",
        "#print(\"input\\n\", X)\n",
        "#print(\"house price (first 10)\\n\",y[0:10])\n",
        "\n",
        "phi_r = solve(R,actual)\n",
        "print(phi_r, cost(R,phi_r,actual))\n",
        "results = pd.DataFrame({\"predicted\": (R@phi_r).reshape(-1),\n",
        "                        \"actual\": actual.reshape(-1)})\n",
        "\n",
        "alt.Chart(results).mark_point().encode(\n",
        "    x='actual', y=\"predicted\",\n",
        "    tooltip=['actual', 'predicted']\n",
        ").interactive()"
      ],
      "execution_count": 18,
      "outputs": [
        {
          "output_type": "stream",
          "text": [
            "[[ 1.00000000e+00]\n",
            " [-4.80326889e-12]] 3.308687895656616\n"
          ],
          "name": "stdout"
        },
        {
          "output_type": "execute_result",
          "data": {
            "text/plain": [
              "alt.Chart(...)"
            ],
            "text/html": [
              "\n",
              "<div id=\"altair-viz-7d9ab2ffc59b44bfa128378c596ccf00\"></div>\n",
              "<script type=\"text/javascript\">\n",
              "  (function(spec, embedOpt){\n",
              "    let outputDiv = document.currentScript.previousElementSibling;\n",
              "    if (outputDiv.id !== \"altair-viz-7d9ab2ffc59b44bfa128378c596ccf00\") {\n",
              "      outputDiv = document.getElementById(\"altair-viz-7d9ab2ffc59b44bfa128378c596ccf00\");\n",
              "    }\n",
              "    const paths = {\n",
              "      \"vega\": \"https://cdn.jsdelivr.net/npm//vega@5?noext\",\n",
              "      \"vega-lib\": \"https://cdn.jsdelivr.net/npm//vega-lib?noext\",\n",
              "      \"vega-lite\": \"https://cdn.jsdelivr.net/npm//vega-lite@4.8.1?noext\",\n",
              "      \"vega-embed\": \"https://cdn.jsdelivr.net/npm//vega-embed@6?noext\",\n",
              "    };\n",
              "\n",
              "    function loadScript(lib) {\n",
              "      return new Promise(function(resolve, reject) {\n",
              "        var s = document.createElement('script');\n",
              "        s.src = paths[lib];\n",
              "        s.async = true;\n",
              "        s.onload = () => resolve(paths[lib]);\n",
              "        s.onerror = () => reject(`Error loading script: ${paths[lib]}`);\n",
              "        document.getElementsByTagName(\"head\")[0].appendChild(s);\n",
              "      });\n",
              "    }\n",
              "\n",
              "    function showError(err) {\n",
              "      outputDiv.innerHTML = `<div class=\"error\" style=\"color:red;\">${err}</div>`;\n",
              "      throw err;\n",
              "    }\n",
              "\n",
              "    function displayChart(vegaEmbed) {\n",
              "      vegaEmbed(outputDiv, spec, embedOpt)\n",
              "        .catch(err => showError(`Javascript Error: ${err.message}<br>This usually means there's a typo in your chart specification. See the javascript console for the full traceback.`));\n",
              "    }\n",
              "\n",
              "    if(typeof define === \"function\" && define.amd) {\n",
              "      requirejs.config({paths});\n",
              "      require([\"vega-embed\"], displayChart, err => showError(`Error loading script: ${err.message}`));\n",
              "    } else if (typeof vegaEmbed === \"function\") {\n",
              "      displayChart(vegaEmbed);\n",
              "    } else {\n",
              "      loadScript(\"vega\")\n",
              "        .then(() => loadScript(\"vega-lite\"))\n",
              "        .then(() => loadScript(\"vega-embed\"))\n",
              "        .catch(showError)\n",
              "        .then(() => displayChart(vegaEmbed));\n",
              "    }\n",
              "  })({\"config\": {\"view\": {\"continuousWidth\": 400, \"continuousHeight\": 300}}, \"data\": {\"name\": \"data-d2b4d07086f94019efb1409aca2e0549\"}, \"mark\": \"point\", \"encoding\": {\"tooltip\": [{\"type\": \"quantitative\", \"field\": \"actual\"}, {\"type\": \"quantitative\", \"field\": \"predicted\"}], \"x\": {\"type\": \"quantitative\", \"field\": \"actual\"}, \"y\": {\"type\": \"quantitative\", \"field\": \"predicted\"}}, \"selection\": {\"selector004\": {\"type\": \"interval\", \"bind\": \"scales\", \"encodings\": [\"x\", \"y\"]}}, \"$schema\": \"https://vega.github.io/schema/vega-lite/v4.8.1.json\", \"datasets\": {\"data-d2b4d07086f94019efb1409aca2e0549\": [{\"predicted\": 30.00384337701639, \"actual\": 24.0}, {\"predicted\": 25.025562379053937, \"actual\": 21.6}, {\"predicted\": 30.5675967186037, \"actual\": 34.7}, {\"predicted\": 28.60703648873084, \"actual\": 33.4}, {\"predicted\": 27.943524232876154, \"actual\": 36.2}, {\"predicted\": 25.25628446154285, \"actual\": 28.7}, {\"predicted\": 23.00180826848385, \"actual\": 22.9}, {\"predicted\": 19.535988428755278, \"actual\": 27.1}, {\"predicted\": 11.523636853128501, \"actual\": 16.5}, {\"predicted\": 18.92026210707487, \"actual\": 18.9}, {\"predicted\": 18.999496511132207, \"actual\": 15.0}, {\"predicted\": 21.58679568139816, \"actual\": 18.9}, {\"predicted\": 20.90652152783295, \"actual\": 21.7}, {\"predicted\": 19.55290281058054, \"actual\": 20.4}, {\"predicted\": 19.283482050090356, \"actual\": 18.2}, {\"predicted\": 19.297483208227167, \"actual\": 19.9}, {\"predicted\": 20.527509791161478, \"actual\": 23.1}, {\"predicted\": 16.911401346797664, \"actual\": 17.5}, {\"predicted\": 16.178011056569538, \"actual\": 20.2}, {\"predicted\": 18.406136033331574, \"actual\": 18.2}, {\"predicted\": 12.523857527094473, \"actual\": 13.6}, {\"predicted\": 17.671036694915013, \"actual\": 19.6}, {\"predicted\": 15.832881291787114, \"actual\": 15.2}, {\"predicted\": 13.806285346354578, \"actual\": 14.5}, {\"predicted\": 15.678338315462936, \"actual\": 15.6}, {\"predicted\": 13.386685608606205, \"actual\": 13.9}, {\"predicted\": 15.463976546439483, \"actual\": 16.6}, {\"predicted\": 14.708474280635663, \"actual\": 14.8}, {\"predicted\": 19.547372850962745, \"actual\": 18.4}, {\"predicted\": 20.876428202262733, \"actual\": 21.0}, {\"predicted\": 11.455117589955497, \"actual\": 12.7}, {\"predicted\": 18.05923294580323, \"actual\": 14.5}, {\"predicted\": 8.811057362213841, \"actual\": 13.2}, {\"predicted\": 14.282758141228824, \"actual\": 13.1}, {\"predicted\": 13.706758912850868, \"actual\": 13.5}, {\"predicted\": 23.814635264832464, \"actual\": 18.9}, {\"predicted\": 22.34193707568834, \"actual\": 20.0}, {\"predicted\": 23.10891142454351, \"actual\": 21.0}, {\"predicted\": 22.915026116164366, \"actual\": 24.7}, {\"predicted\": 31.357625688162134, \"actual\": 30.8}, {\"predicted\": 34.21510225369842, \"actual\": 34.9}, {\"predicted\": 28.02056413869236, \"actual\": 26.6}, {\"predicted\": 25.203866280478618, \"actual\": 25.3}, {\"predicted\": 24.609792725451634, \"actual\": 24.7}, {\"predicted\": 22.941491756555088, \"actual\": 21.2}, {\"predicted\": 22.096698174978, \"actual\": 19.3}, {\"predicted\": 20.423200323013734, \"actual\": 20.0}, {\"predicted\": 18.036550883547815, \"actual\": 16.6}, {\"predicted\": 9.1065537721817, \"actual\": 14.4}, {\"predicted\": 17.20607751412443, \"actual\": 19.4}, {\"predicted\": 21.281525353210252, \"actual\": 19.7}, {\"predicted\": 23.97222284868904, \"actual\": 20.5}, {\"predicted\": 27.655850802057092, \"actual\": 25.0}, {\"predicted\": 24.049018091156423, \"actual\": 23.4}, {\"predicted\": 15.36184770099916, \"actual\": 18.9}, {\"predicted\": 31.152649466034035, \"actual\": 35.4}, {\"predicted\": 24.8568697815527, \"actual\": 24.7}, {\"predicted\": 33.109198061644, \"actual\": 31.6}, {\"predicted\": 21.77537987148835, \"actual\": 23.3}, {\"predicted\": 21.08493555063024, \"actual\": 19.6}, {\"predicted\": 17.87258039688412, \"actual\": 18.7}, {\"predicted\": 18.511102080220756, \"actual\": 16.0}, {\"predicted\": 23.987428564910083, \"actual\": 22.2}, {\"predicted\": 22.554088688884377, \"actual\": 25.0}, {\"predicted\": 23.373086442269273, \"actual\": 33.0}, {\"predicted\": 30.361483581458636, \"actual\": 23.5}, {\"predicted\": 25.53056511519943, \"actual\": 19.4}, {\"predicted\": 21.113385641795485, \"actual\": 22.0}, {\"predicted\": 17.421537856546607, \"actual\": 17.4}, {\"predicted\": 20.7848363266948, \"actual\": 20.9}, {\"predicted\": 25.20148859443517, \"actual\": 24.2}, {\"predicted\": 21.742657704529247, \"actual\": 21.7}, {\"predicted\": 24.557449572149057, \"actual\": 22.8}, {\"predicted\": 24.04295712012486, \"actual\": 23.4}, {\"predicted\": 25.50499716371193, \"actual\": 24.1}, {\"predicted\": 23.966930200263107, \"actual\": 21.4}, {\"predicted\": 22.945454031328158, \"actual\": 20.0}, {\"predicted\": 23.356998184346782, \"actual\": 20.8}, {\"predicted\": 21.26198266230517, \"actual\": 21.2}, {\"predicted\": 22.42817373179949, \"actual\": 20.3}, {\"predicted\": 28.405769682084234, \"actual\": 28.0}, {\"predicted\": 26.9948608623202, \"actual\": 23.9}, {\"predicted\": 26.035762968388212, \"actual\": 24.8}, {\"predicted\": 25.058734819220565, \"actual\": 22.9}, {\"predicted\": 24.78456673793366, \"actual\": 23.9}, {\"predicted\": 27.790491951238693, \"actual\": 26.6}, {\"predicted\": 22.16853423146698, \"actual\": 22.5}, {\"predicted\": 25.89276415316801, \"actual\": 22.2}, {\"predicted\": 30.67461827176406, \"actual\": 23.6}, {\"predicted\": 30.83110622742639, \"actual\": 28.7}, {\"predicted\": 27.119019396049286, \"actual\": 22.6}, {\"predicted\": 27.41266734111937, \"actual\": 22.0}, {\"predicted\": 28.9412276243948, \"actual\": 22.9}, {\"predicted\": 29.081055462576245, \"actual\": 25.0}, {\"predicted\": 27.039773648760775, \"actual\": 20.6}, {\"predicted\": 28.624599485047163, \"actual\": 28.4}, {\"predicted\": 24.72744977643723, \"actual\": 21.4}, {\"predicted\": 35.781595180863675, \"actual\": 38.7}, {\"predicted\": 35.114545872625754, \"actual\": 43.8}, {\"predicted\": 32.251028013237004, \"actual\": 33.2}, {\"predicted\": 24.580220188924358, \"actual\": 27.5}, {\"predicted\": 25.594134745734326, \"actual\": 26.5}, {\"predicted\": 19.79013683546316, \"actual\": 18.6}, {\"predicted\": 20.311671287561488, \"actual\": 19.3}, {\"predicted\": 21.43482591145355, \"actual\": 20.1}, {\"predicted\": 18.539940081602882, \"actual\": 19.5}, {\"predicted\": 17.187559917814685, \"actual\": 19.5}, {\"predicted\": 20.750490259355438, \"actual\": 20.4}, {\"predicted\": 22.648291145971754, \"actual\": 19.8}, {\"predicted\": 19.772036695318384, \"actual\": 19.4}, {\"predicted\": 20.649658642695876, \"actual\": 21.7}, {\"predicted\": 26.525867437930348, \"actual\": 22.8}, {\"predicted\": 20.77323637685837, \"actual\": 18.8}, {\"predicted\": 20.715483149700788, \"actual\": 18.7}, {\"predicted\": 25.17208881263988, \"actual\": 18.5}, {\"predicted\": 20.430255909458626, \"actual\": 18.3}, {\"predicted\": 23.377246256948048, \"actual\": 21.2}, {\"predicted\": 23.69043260621893, \"actual\": 19.2}, {\"predicted\": 20.33578364258073, \"actual\": 20.4}, {\"predicted\": 20.791808732013227, \"actual\": 19.3}, {\"predicted\": 21.916320710531, \"actual\": 22.0}, {\"predicted\": 22.471077767445074, \"actual\": 20.3}, {\"predicted\": 20.557385558473783, \"actual\": 20.5}, {\"predicted\": 16.36661977422653, \"actual\": 17.3}, {\"predicted\": 20.5609981919322, \"actual\": 18.8}, {\"predicted\": 22.481784461709147, \"actual\": 21.4}, {\"predicted\": 14.617066327794825, \"actual\": 15.7}, {\"predicted\": 15.178766839623892, \"actual\": 16.2}, {\"predicted\": 18.938685923804034, \"actual\": 18.0}, {\"predicted\": 14.05573285103068, \"actual\": 14.3}, {\"predicted\": 20.035273989260805, \"actual\": 19.2}, {\"predicted\": 19.410134020927938, \"actual\": 19.6}, {\"predicted\": 20.061915661888627, \"actual\": 23.0}, {\"predicted\": 15.758076731270526, \"actual\": 18.4}, {\"predicted\": 13.256452381601292, \"actual\": 15.6}, {\"predicted\": 17.26277734988101, \"actual\": 18.1}, {\"predicted\": 15.878418834189032, \"actual\": 17.4}, {\"predicted\": 19.36163954029016, \"actual\": 17.1}, {\"predicted\": 13.814838966991406, \"actual\": 13.3}, {\"predicted\": 16.448814747713097, \"actual\": 17.8}, {\"predicted\": 13.571419318669463, \"actual\": 14.0}, {\"predicted\": 3.9888550829908116, \"actual\": 14.4}, {\"predicted\": 14.594954779920156, \"actual\": 13.4}, {\"predicted\": 12.148814803027719, \"actual\": 15.6}, {\"predicted\": 8.72822362341702, \"actual\": 11.8}, {\"predicted\": 12.035853427469641, \"actual\": 13.8}, {\"predicted\": 15.820820579625826, \"actual\": 15.6}, {\"predicted\": 8.51499020342683, \"actual\": 14.6}, {\"predicted\": 9.718441392738054, \"actual\": 17.8}, {\"predicted\": 14.804513737398798, \"actual\": 15.4}, {\"predicted\": 20.838581528678844, \"actual\": 21.5}, {\"predicted\": 18.30101169357428, \"actual\": 19.6}, {\"predicted\": 20.12282557849858, \"actual\": 15.3}, {\"predicted\": 17.286018936117824, \"actual\": 19.4}, {\"predicted\": 22.366002280715097, \"actual\": 17.0}, {\"predicted\": 20.10375922735855, \"actual\": 15.6}, {\"predicted\": 13.621258906717443, \"actual\": 13.1}, {\"predicted\": 33.25982696890042, \"actual\": 41.3}, {\"predicted\": 29.030172679842238, \"actual\": 24.3}, {\"predicted\": 25.56752769364995, \"actual\": 23.3}, {\"predicted\": 32.70827665835421, \"actual\": 27.0}, {\"predicted\": 36.774670145741304, \"actual\": 50.0}, {\"predicted\": 40.55765844458449, \"actual\": 50.0}, {\"predicted\": 41.84728167704614, \"actual\": 50.0}, {\"predicted\": 24.788673790994736, \"actual\": 22.7}, {\"predicted\": 25.37889237769075, \"actual\": 25.0}, {\"predicted\": 37.203474546000564, \"actual\": 50.0}, {\"predicted\": 23.087487473368462, \"actual\": 23.8}, {\"predicted\": 26.40273955273421, \"actual\": 23.8}, {\"predicted\": 26.653821137262483, \"actual\": 22.3}, {\"predicted\": 22.55514660488337, \"actual\": 17.4}, {\"predicted\": 24.290828117746017, \"actual\": 19.1}, {\"predicted\": 22.976572190212053, \"actual\": 23.1}, {\"predicted\": 29.071943076901402, \"actual\": 23.6}, {\"predicted\": 26.521943395911634, \"actual\": 22.6}, {\"predicted\": 30.722090555483767, \"actual\": 29.4}, {\"predicted\": 25.616693069400714, \"actual\": 23.2}, {\"predicted\": 29.137409794284487, \"actual\": 24.6}, {\"predicted\": 31.435719677087892, \"actual\": 29.9}, {\"predicted\": 32.92231568002694, \"actual\": 37.2}, {\"predicted\": 34.72440464377738, \"actual\": 39.8}, {\"predicted\": 27.765521106596733, \"actual\": 36.2}, {\"predicted\": 33.88787321324426, \"actual\": 37.9}, {\"predicted\": 30.992380360150424, \"actual\": 32.5}, {\"predicted\": 22.718200080926483, \"actual\": 26.4}, {\"predicted\": 24.76647809895783, \"actual\": 29.6}, {\"predicted\": 35.88497226208096, \"actual\": 50.0}, {\"predicted\": 33.424767220313846, \"actual\": 32.0}, {\"predicted\": 32.411991465599854, \"actual\": 29.8}, {\"predicted\": 34.51509949342046, \"actual\": 34.9}, {\"predicted\": 30.761094851744907, \"actual\": 37.0}, {\"predicted\": 30.289341406749358, \"actual\": 30.5}, {\"predicted\": 32.919187143205555, \"actual\": 36.4}, {\"predicted\": 32.11260771401724, \"actual\": 31.1}, {\"predicted\": 31.558710043169945, \"actual\": 29.1}, {\"predicted\": 40.84555721422593, \"actual\": 50.0}, {\"predicted\": 36.12770079210657, \"actual\": 33.3}, {\"predicted\": 32.66920809977115, \"actual\": 30.3}, {\"predicted\": 34.70469116436725, \"actual\": 34.6}, {\"predicted\": 30.093451618114205, \"actual\": 34.9}, {\"predicted\": 30.64393906485126, \"actual\": 32.9}, {\"predicted\": 29.287195013651246, \"actual\": 24.1}, {\"predicted\": 37.07148392020162, \"actual\": 42.3}, {\"predicted\": 42.031931238382604, \"actual\": 48.5}, {\"predicted\": 43.18949843696913, \"actual\": 50.0}, {\"predicted\": 22.69034796377568, \"actual\": 22.6}, {\"predicted\": 23.682847115427425, \"actual\": 24.4}, {\"predicted\": 17.854472136579474, \"actual\": 22.5}, {\"predicted\": 23.494289920198604, \"actual\": 24.4}, {\"predicted\": 17.005877178803022, \"actual\": 20.0}, {\"predicted\": 22.392510963568537, \"actual\": 21.7}, {\"predicted\": 17.060427538036826, \"actual\": 19.3}, {\"predicted\": 22.738929214895865, \"actual\": 22.4}, {\"predicted\": 25.21942553920704, \"actual\": 28.1}, {\"predicted\": 11.119167371538468, \"actual\": 23.7}, {\"predicted\": 24.510491479278638, \"actual\": 25.0}, {\"predicted\": 26.603347747621385, \"actual\": 23.3}, {\"predicted\": 28.355187127087913, \"actual\": 28.7}, {\"predicted\": 24.915254636053998, \"actual\": 21.5}, {\"predicted\": 29.686527678126147, \"actual\": 23.0}, {\"predicted\": 33.18419745634111, \"actual\": 26.7}, {\"predicted\": 23.774566559649625, \"actual\": 21.7}, {\"predicted\": 32.14051957851884, \"actual\": 27.5}, {\"predicted\": 29.745819895724452, \"actual\": 30.1}, {\"predicted\": 38.371024526997445, \"actual\": 44.8}, {\"predicted\": 39.81461867028101, \"actual\": 50.0}, {\"predicted\": 37.58605754966272, \"actual\": 37.6}, {\"predicted\": 32.3995325026396, \"actual\": 31.6}, {\"predicted\": 35.45665241983004, \"actual\": 46.7}, {\"predicted\": 31.23411511697376, \"actual\": 31.5}, {\"predicted\": 24.484492269065544, \"actual\": 24.3}, {\"predicted\": 33.288372916021856, \"actual\": 31.7}, {\"predicted\": 38.04810480359888, \"actual\": 41.7}, {\"predicted\": 37.163286314689124, \"actual\": 48.3}, {\"predicted\": 31.71383522528216, \"actual\": 29.0}, {\"predicted\": 25.267055713314956, \"actual\": 24.0}, {\"predicted\": 30.100107449042618, \"actual\": 25.1}, {\"predicted\": 32.71987155807819, \"actual\": 31.5}, {\"predicted\": 28.427170565975306, \"actual\": 23.7}, {\"predicted\": 28.429406780588668, \"actual\": 23.3}, {\"predicted\": 27.29375938404477, \"actual\": 22.0}, {\"predicted\": 23.742624782953865, \"actual\": 20.1}, {\"predicted\": 24.120078909163897, \"actual\": 22.2}, {\"predicted\": 27.402084137609588, \"actual\": 23.7}, {\"predicted\": 16.328575600535007, \"actual\": 17.6}, {\"predicted\": 13.398912612967736, \"actual\": 18.5}, {\"predicted\": 20.016387752376684, \"actual\": 24.3}, {\"predicted\": 19.86184427823091, \"actual\": 20.5}, {\"predicted\": 21.28831309847102, \"actual\": 24.5}, {\"predicted\": 24.07989149576409, \"actual\": 26.2}, {\"predicted\": 24.20633547002377, \"actual\": 24.4}, {\"predicted\": 25.04215821292637, \"actual\": 24.8}, {\"predicted\": 24.91964007033295, \"actual\": 29.6}, {\"predicted\": 29.945633744804447, \"actual\": 42.8}, {\"predicted\": 23.97228316497372, \"actual\": 21.9}, {\"predicted\": 21.695808865535227, \"actual\": 20.9}, {\"predicted\": 37.51109239023057, \"actual\": 44.0}, {\"predicted\": 43.30239042694649, \"actual\": 50.0}, {\"predicted\": 36.48361420552291, \"actual\": 36.0}, {\"predicted\": 34.98988593589623, \"actual\": 30.1}, {\"predicted\": 34.81211508061581, \"actual\": 33.8}, {\"predicted\": 37.16631330835241, \"actual\": 43.1}, {\"predicted\": 40.98928500888069, \"actual\": 48.8}, {\"predicted\": 34.44634089285402, \"actual\": 31.0}, {\"predicted\": 35.83397546861729, \"actual\": 36.5}, {\"predicted\": 28.24574299932599, \"actual\": 22.8}, {\"predicted\": 31.226735925933095, \"actual\": 30.7}, {\"predicted\": 40.83955749625228, \"actual\": 50.0}, {\"predicted\": 39.31792393079917, \"actual\": 43.5}, {\"predicted\": 25.708179052265304, \"actual\": 20.7}, {\"predicted\": 22.3029553295111, \"actual\": 21.1}, {\"predicted\": 27.203409718859405, \"actual\": 25.2}, {\"predicted\": 28.511694720069197, \"actual\": 24.4}, {\"predicted\": 35.47676598232547, \"actual\": 35.2}, {\"predicted\": 36.106391643324244, \"actual\": 32.4}, {\"predicted\": 33.79668273520957, \"actual\": 32.0}, {\"predicted\": 35.610858579407086, \"actual\": 33.2}, {\"predicted\": 34.8399338194264, \"actual\": 33.1}, {\"predicted\": 30.351926557921914, \"actual\": 29.1}, {\"predicted\": 35.3098070094818, \"actual\": 35.1}, {\"predicted\": 38.79756965988966, \"actual\": 45.4}, {\"predicted\": 34.33123185958724, \"actual\": 35.4}, {\"predicted\": 40.33963074775354, \"actual\": 46.0}, {\"predicted\": 44.67308338731538, \"actual\": 50.0}, {\"predicted\": 31.59689085502896, \"actual\": 32.2}, {\"predicted\": 27.356592297986378, \"actual\": 22.0}, {\"predicted\": 20.101741541003445, \"actual\": 20.1}, {\"predicted\": 27.042066735687712, \"actual\": 23.2}, {\"predicted\": 27.21364580449047, \"actual\": 22.3}, {\"predicted\": 26.913958393597305, \"actual\": 24.8}, {\"predicted\": 33.43563310558305, \"actual\": 28.5}, {\"predicted\": 34.40349633017546, \"actual\": 37.3}, {\"predicted\": 31.833398201431653, \"actual\": 27.9}, {\"predicted\": 25.8178323689461, \"actual\": 23.9}, {\"predicted\": 24.42982348324614, \"actual\": 21.7}, {\"predicted\": 28.457643368376473, \"actual\": 28.6}, {\"predicted\": 27.362669985236376, \"actual\": 27.1}, {\"predicted\": 19.539287580798586, \"actual\": 20.3}, {\"predicted\": 29.113098440923075, \"actual\": 22.5}, {\"predicted\": 31.910546107825684, \"actual\": 29.0}, {\"predicted\": 30.771594485121888, \"actual\": 24.8}, {\"predicted\": 28.942758712749963, \"actual\": 22.0}, {\"predicted\": 28.881910224000706, \"actual\": 26.4}, {\"predicted\": 32.798872318659754, \"actual\": 33.1}, {\"predicted\": 33.209054559412586, \"actual\": 36.1}, {\"predicted\": 30.76831792313721, \"actual\": 28.4}, {\"predicted\": 35.56226856967004, \"actual\": 33.4}, {\"predicted\": 32.709051237031815, \"actual\": 28.2}, {\"predicted\": 28.64244236626425, \"actual\": 22.8}, {\"predicted\": 23.58965827108041, \"actual\": 20.3}, {\"predicted\": 18.542668967731487, \"actual\": 16.1}, {\"predicted\": 26.878898428918603, \"actual\": 22.1}, {\"predicted\": 23.281339788189445, \"actual\": 19.4}, {\"predicted\": 25.54580246052404, \"actual\": 21.6}, {\"predicted\": 25.481200570924507, \"actual\": 23.8}, {\"predicted\": 20.539099011489526, \"actual\": 16.2}, {\"predicted\": 17.615725728266042, \"actual\": 17.8}, {\"predicted\": 18.375816864075624, \"actual\": 19.8}, {\"predicted\": 24.290702769396532, \"actual\": 23.1}, {\"predicted\": 21.325290391649276, \"actual\": 21.0}, {\"predicted\": 24.886822440652015, \"actual\": 23.8}, {\"predicted\": 24.869372815388367, \"actual\": 23.1}, {\"predicted\": 22.869524474347877, \"actual\": 20.4}, {\"predicted\": 19.451237906152244, \"actual\": 18.5}, {\"predicted\": 25.11783401137768, \"actual\": 25.0}, {\"predicted\": 24.667869132256616, \"actual\": 24.6}, {\"predicted\": 23.68076177072732, \"actual\": 23.0}, {\"predicted\": 19.340896163267622, \"actual\": 22.2}, {\"predicted\": 21.17418105413307, \"actual\": 19.3}, {\"predicted\": 24.25249073493071, \"actual\": 22.6}, {\"predicted\": 21.592608938614028, \"actual\": 19.8}, {\"predicted\": 19.984466053886717, \"actual\": 17.1}, {\"predicted\": 23.3388799978028, \"actual\": 19.4}, {\"predicted\": 22.140606924958956, \"actual\": 22.2}, {\"predicted\": 21.555099290216855, \"actual\": 20.7}, {\"predicted\": 20.618729067976933, \"actual\": 21.1}, {\"predicted\": 20.160971763229963, \"actual\": 19.5}, {\"predicted\": 19.284903872926794, \"actual\": 18.5}, {\"predicted\": 22.166723204271214, \"actual\": 20.6}, {\"predicted\": 21.249657744229726, \"actual\": 19.0}, {\"predicted\": 21.429393054257375, \"actual\": 18.7}, {\"predicted\": 30.327887960245775, \"actual\": 32.7}, {\"predicted\": 22.047349750857975, \"actual\": 16.5}, {\"predicted\": 27.706479124563266, \"actual\": 23.9}, {\"predicted\": 28.54794116815793, \"actual\": 31.2}, {\"predicted\": 16.545011214380445, \"actual\": 17.5}, {\"predicted\": 14.78359640986454, \"actual\": 17.2}, {\"predicted\": 25.27380081685365, \"actual\": 23.1}, {\"predicted\": 27.542051173931533, \"actual\": 24.5}, {\"predicted\": 22.148375624477925, \"actual\": 26.6}, {\"predicted\": 20.459440947461008, \"actual\": 22.9}, {\"predicted\": 20.546054227452203, \"actual\": 24.1}, {\"predicted\": 16.88063826564517, \"actual\": 18.6}, {\"predicted\": 25.402535058013846, \"actual\": 30.1}, {\"predicted\": 14.324866319039014, \"actual\": 18.2}, {\"predicted\": 16.594884617381148, \"actual\": 20.6}, {\"predicted\": 19.637046913305547, \"actual\": 17.8}, {\"predicted\": 22.718066074786694, \"actual\": 21.7}, {\"predicted\": 22.202188867537924, \"actual\": 22.7}, {\"predicted\": 19.205480573951824, \"actual\": 22.6}, {\"predicted\": 22.666161051337628, \"actual\": 25.0}, {\"predicted\": 18.93192618166816, \"actual\": 19.9}, {\"predicted\": 18.228468043023817, \"actual\": 20.8}, {\"predicted\": 20.231508113856073, \"actual\": 16.8}, {\"predicted\": 37.494473899701944, \"actual\": 21.9}, {\"predicted\": 14.281907341193945, \"actual\": 27.5}, {\"predicted\": 15.542862482790667, \"actual\": 21.9}, {\"predicted\": 10.831623241055146, \"actual\": 23.1}, {\"predicted\": 23.800729022089115, \"actual\": 50.0}, {\"predicted\": 32.64407360125405, \"actual\": 50.0}, {\"predicted\": 34.60684042447207, \"actual\": 50.0}, {\"predicted\": 24.94331332514593, \"actual\": 50.0}, {\"predicted\": 25.999809100739277, \"actual\": 50.0}, {\"predicted\": 6.1263249964302995, \"actual\": 13.8}, {\"predicted\": 0.7777980595714941, \"actual\": 13.8}, {\"predicted\": 25.307130641726364, \"actual\": 15.0}, {\"predicted\": 17.740610645320416, \"actual\": 13.9}, {\"predicted\": 20.232744140190334, \"actual\": 13.3}, {\"predicted\": 15.833313007604232, \"actual\": 13.1}, {\"predicted\": 16.83512587165801, \"actual\": 10.2}, {\"predicted\": 14.36994825491897, \"actual\": 10.4}, {\"predicted\": 18.476828330786972, \"actual\": 10.9}, {\"predicted\": 13.427682804691148, \"actual\": 11.3}, {\"predicted\": 13.061775117827619, \"actual\": 12.3}, {\"predicted\": 3.2791811609628816, \"actual\": 8.8}, {\"predicted\": 8.06022170824469, \"actual\": 7.2}, {\"predicted\": 6.128421964309335, \"actual\": 10.5}, {\"predicted\": 5.618648099841787, \"actual\": 7.4}, {\"predicted\": 6.451985698127462, \"actual\": 10.2}, {\"predicted\": 14.207647351940668, \"actual\": 11.5}, {\"predicted\": 17.21225183141882, \"actual\": 15.1}, {\"predicted\": 17.298872651551118, \"actual\": 23.2}, {\"predicted\": 9.891166432275446, \"actual\": 9.7}, {\"predicted\": 20.22124193499533, \"actual\": 13.8}, {\"predicted\": 17.94181175322855, \"actual\": 12.7}, {\"predicted\": 20.304457827469907, \"actual\": 13.1}, {\"predicted\": 19.295590754746513, \"actual\": 12.5}, {\"predicted\": 16.336327793195167, \"actual\": 8.5}, {\"predicted\": 6.551623190695552, \"actual\": 5.0}, {\"predicted\": 10.890167780948811, \"actual\": 6.3}, {\"predicted\": 11.881458707420569, \"actual\": 5.6}, {\"predicted\": 17.811745067919013, \"actual\": 7.2}, {\"predicted\": 18.261265871697432, \"actual\": 12.1}, {\"predicted\": 12.979487807358945, \"actual\": 8.3}, {\"predicted\": 7.378163607207866, \"actual\": 8.5}, {\"predicted\": 8.211158613910133, \"actual\": 5.0}, {\"predicted\": 8.066261929872155, \"actual\": 11.9}, {\"predicted\": 19.982947859822662, \"actual\": 27.9}, {\"predicted\": 13.707563692106126, \"actual\": 17.2}, {\"predicted\": 19.852684544776597, \"actual\": 27.5}, {\"predicted\": 15.223082976898597, \"actual\": 15.0}, {\"predicted\": 16.960719809964917, \"actual\": 17.2}, {\"predicted\": 1.7185180678188678, \"actual\": 17.9}, {\"predicted\": 11.805783871537745, \"actual\": 16.3}, {\"predicted\": -4.281310709172554, \"actual\": 7.0}, {\"predicted\": 9.583767368636359, \"actual\": 7.2}, {\"predicted\": 13.366608109639024, \"actual\": 7.5}, {\"predicted\": 6.89562362586531, \"actual\": 10.4}, {\"predicted\": 6.147798520348521, \"actual\": 8.8}, {\"predicted\": 14.606617942386105, \"actual\": 8.4}, {\"predicted\": 19.600026701989716, \"actual\": 16.7}, {\"predicted\": 18.12427475887744, \"actual\": 14.2}, {\"predicted\": 18.521771321517683, \"actual\": 20.8}, {\"predicted\": 13.175286104566096, \"actual\": 13.4}, {\"predicted\": 14.62617624181413, \"actual\": 11.7}, {\"predicted\": 9.92374975966472, \"actual\": 8.3}, {\"predicted\": 16.345906466575965, \"actual\": 10.2}, {\"predicted\": 14.07519425524309, \"actual\": 10.9}, {\"predicted\": 14.257562426063041, \"actual\": 11.0}, {\"predicted\": 13.042347874622328, \"actual\": 9.5}, {\"predicted\": 18.159556933721074, \"actual\": 14.5}, {\"predicted\": 18.695543541178473, \"actual\": 14.1}, {\"predicted\": 21.5272830021113, \"actual\": 16.1}, {\"predicted\": 17.03141860864578, \"actual\": 14.3}, {\"predicted\": 15.960904353335618, \"actual\": 11.7}, {\"predicted\": 13.361416107107084, \"actual\": 13.4}, {\"predicted\": 14.520793839064192, \"actual\": 9.6}, {\"predicted\": 8.819760054262414, \"actual\": 8.7}, {\"predicted\": 4.867511022767054, \"actual\": 8.4}, {\"predicted\": 13.065913129521395, \"actual\": 12.8}, {\"predicted\": 12.70609699318735, \"actual\": 10.5}, {\"predicted\": 17.295580592089063, \"actual\": 17.1}, {\"predicted\": 18.740485001510745, \"actual\": 18.4}, {\"predicted\": 18.059010294532477, \"actual\": 15.4}, {\"predicted\": 11.514746833906875, \"actual\": 10.8}, {\"predicted\": 11.974003586659846, \"actual\": 11.8}, {\"predicted\": 17.683446184710007, \"actual\": 14.9}, {\"predicted\": 18.126952390267732, \"actual\": 12.6}, {\"predicted\": 17.51834650395022, \"actual\": 14.1}, {\"predicted\": 17.227425073017024, \"actual\": 13.0}, {\"predicted\": 16.52271631336909, \"actual\": 13.4}, {\"predicted\": 19.412910950902504, \"actual\": 15.2}, {\"predicted\": 18.58215236180553, \"actual\": 16.1}, {\"predicted\": 22.489447908160454, \"actual\": 17.8}, {\"predicted\": 15.280001330377171, \"actual\": 14.9}, {\"predicted\": 15.820893351718436, \"actual\": 14.1}, {\"predicted\": 12.687255813161139, \"actual\": 12.7}, {\"predicted\": 12.87633790195699, \"actual\": 13.5}, {\"predicted\": 17.186685308587965, \"actual\": 14.9}, {\"predicted\": 18.512476092921734, \"actual\": 20.0}, {\"predicted\": 19.048605332483135, \"actual\": 16.4}, {\"predicted\": 20.172089273292716, \"actual\": 17.7}, {\"predicted\": 19.774073196903007, \"actual\": 19.5}, {\"predicted\": 22.429407678837453, \"actual\": 20.2}, {\"predicted\": 20.319118543223645, \"actual\": 21.4}, {\"predicted\": 17.886162532164853, \"actual\": 19.9}, {\"predicted\": 14.37478522836528, \"actual\": 19.0}, {\"predicted\": 16.947768507195732, \"actual\": 19.1}, {\"predicted\": 16.984057621514154, \"actual\": 19.1}, {\"predicted\": 18.588383967697368, \"actual\": 20.1}, {\"predicted\": 20.167194410631268, \"actual\": 19.9}, {\"predicted\": 22.977180317148765, \"actual\": 19.6}, {\"predicted\": 22.45580726353604, \"actual\": 23.2}, {\"predicted\": 25.578246265483525, \"actual\": 29.8}, {\"predicted\": 16.391476316355277, \"actual\": 13.8}, {\"predicted\": 16.11146280430187, \"actual\": 13.3}, {\"predicted\": 20.5348159958909, \"actual\": 16.7}, {\"predicted\": 11.54272738156724, \"actual\": 12.0}, {\"predicted\": 19.204963044920152, \"actual\": 14.6}, {\"predicted\": 21.862763906309475, \"actual\": 21.4}, {\"predicted\": 23.46878866307196, \"actual\": 23.0}, {\"predicted\": 27.09887315488778, \"actual\": 23.7}, {\"predicted\": 28.569943016699497, \"actual\": 25.0}, {\"predicted\": 21.08398783089658, \"actual\": 21.8}, {\"predicted\": 19.455161955634523, \"actual\": 20.6}, {\"predicted\": 22.222259140790264, \"actual\": 21.2}, {\"predicted\": 19.655919607581172, \"actual\": 19.1}, {\"predicted\": 21.325361043997614, \"actual\": 20.6}, {\"predicted\": 11.855837166484397, \"actual\": 15.2}, {\"predicted\": 8.223866867920837, \"actual\": 7.0}, {\"predicted\": 3.663996720478095, \"actual\": 8.1}, {\"predicted\": 13.759085382064889, \"actual\": 13.6}, {\"predicted\": 15.931185451331634, \"actual\": 20.1}, {\"predicted\": 20.626620544349553, \"actual\": 21.8}, {\"predicted\": 20.612494139845708, \"actual\": 24.5}, {\"predicted\": 16.885419639486596, \"actual\": 23.1}, {\"predicted\": 14.013207870938972, \"actual\": 19.7}, {\"predicted\": 19.10854143876295, \"actual\": 18.3}, {\"predicted\": 21.29805174443354, \"actual\": 21.2}, {\"predicted\": 18.45498840869638, \"actual\": 17.5}, {\"predicted\": 20.46870846960449, \"actual\": 16.8}, {\"predicted\": 23.533340546666633, \"actual\": 22.4}, {\"predicted\": 22.37571892028699, \"actual\": 20.6}, {\"predicted\": 27.62742609503656, \"actual\": 23.9}, {\"predicted\": 26.12796680659609, \"actual\": 22.0}, {\"predicted\": 22.344212292902284, \"actual\": 11.9}]}}, {\"mode\": \"vega-lite\"});\n",
              "</script>"
            ]
          },
          "metadata": {
            "tags": []
          },
          "execution_count": 18
        }
      ]
    },
    {
      "cell_type": "code",
      "metadata": {
        "id": "nOKN8P0yWF8t",
        "colab_type": "code",
        "colab": {
          "base_uri": "https://localhost:8080/",
          "height": 69
        },
        "outputId": "89ca8827-4f2f-4b10-b831-115496ef1b45"
      },
      "source": [
        "data_pd.columns"
      ],
      "execution_count": 19,
      "outputs": [
        {
          "output_type": "execute_result",
          "data": {
            "text/plain": [
              "Index(['CRIM', 'ZN', 'INDUS', 'CHAS', 'NOX', 'RM', 'AGE', 'DIS', 'RAD', 'TAX',\n",
              "       'PTRATIO', 'B', 'LSTAT', 'MEDV'],\n",
              "      dtype='object')"
            ]
          },
          "metadata": {
            "tags": []
          },
          "execution_count": 19
        }
      ]
    },
    {
      "cell_type": "code",
      "metadata": {
        "id": "Oa5lcEdsWBMZ",
        "colab_type": "code",
        "colab": {
          "base_uri": "https://localhost:8080/",
          "height": 385
        },
        "outputId": "9bda84c1-e043-4595-a716-47f07afe5963"
      },
      "source": [
        "\n",
        "\n",
        "from sklearn import preprocessing\n",
        "def showPlot(key=\"\"):\n",
        "  c = list(data_pd.columns);\n",
        "  c.remove(key)\n",
        "  c.remove('MEDV')\n",
        "  df = data_pd.drop(c,axis=1).sort_values(['MEDV'])\n",
        "  ln = len(df.columns)\n",
        "  cols = list(df.columns)\n",
        "  x = df.values[:,0:ln-1] #returns a numpy array\n",
        "  min_max_scaler = preprocessing.MinMaxScaler()\n",
        "  x_scaled = min_max_scaler.fit_transform(x)\n",
        "  # print(np.concatenate((x_scaled,df.values[:,ln-1].reshape(-1,1)), axis=1))\n",
        "  df = pd.DataFrame(np.concatenate((x_scaled,df.values[:,ln-1].reshape(-1,1)),axis=1))\n",
        "  # print(\"DF\",df)\n",
        "  newCols = dict(list(zip( list(range(0,ln)), cols)))\n",
        "  df= df.rename(columns=newCols)\n",
        "  # print(df)\n",
        "  cols.remove('MEDV') \n",
        "  base = alt.Chart(df).mark_circle(opacity=0.5).transform_fold(\n",
        "      fold=cols ,              #['CRIM', 'ZN', 'INDUS', 'CHAS', 'NOX', 'RM', 'AGE', 'DIS', 'RAD', 'TAX', 'PTRATIO', 'B', 'LSTAT'],\n",
        "      as_=['category', 'y']\n",
        "  ).encode(\n",
        "      alt.X('MEDV:Q'),\n",
        "      alt.Y('y:Q'),\n",
        "      alt.Color('category:N')\n",
        "  )\n",
        "  \n",
        "  return base + base.transform_loess('x', 'y', groupby=['category']).mark_line(size=4)\n",
        "  return df\n",
        "\n",
        "#####\n",
        "print(list(data_pd.columns))\n",
        "showPlot('PTRATIO')\n"
      ],
      "execution_count": 20,
      "outputs": [
        {
          "output_type": "stream",
          "text": [
            "['CRIM', 'ZN', 'INDUS', 'CHAS', 'NOX', 'RM', 'AGE', 'DIS', 'RAD', 'TAX', 'PTRATIO', 'B', 'LSTAT', 'MEDV']\n"
          ],
          "name": "stdout"
        },
        {
          "output_type": "execute_result",
          "data": {
            "text/plain": [
              "alt.LayerChart(...)"
            ],
            "text/html": [
              "\n",
              "<div id=\"altair-viz-fa3b9f7aadfa4af9b77b6a5778a5a6af\"></div>\n",
              "<script type=\"text/javascript\">\n",
              "  (function(spec, embedOpt){\n",
              "    let outputDiv = document.currentScript.previousElementSibling;\n",
              "    if (outputDiv.id !== \"altair-viz-fa3b9f7aadfa4af9b77b6a5778a5a6af\") {\n",
              "      outputDiv = document.getElementById(\"altair-viz-fa3b9f7aadfa4af9b77b6a5778a5a6af\");\n",
              "    }\n",
              "    const paths = {\n",
              "      \"vega\": \"https://cdn.jsdelivr.net/npm//vega@5?noext\",\n",
              "      \"vega-lib\": \"https://cdn.jsdelivr.net/npm//vega-lib?noext\",\n",
              "      \"vega-lite\": \"https://cdn.jsdelivr.net/npm//vega-lite@4.8.1?noext\",\n",
              "      \"vega-embed\": \"https://cdn.jsdelivr.net/npm//vega-embed@6?noext\",\n",
              "    };\n",
              "\n",
              "    function loadScript(lib) {\n",
              "      return new Promise(function(resolve, reject) {\n",
              "        var s = document.createElement('script');\n",
              "        s.src = paths[lib];\n",
              "        s.async = true;\n",
              "        s.onload = () => resolve(paths[lib]);\n",
              "        s.onerror = () => reject(`Error loading script: ${paths[lib]}`);\n",
              "        document.getElementsByTagName(\"head\")[0].appendChild(s);\n",
              "      });\n",
              "    }\n",
              "\n",
              "    function showError(err) {\n",
              "      outputDiv.innerHTML = `<div class=\"error\" style=\"color:red;\">${err}</div>`;\n",
              "      throw err;\n",
              "    }\n",
              "\n",
              "    function displayChart(vegaEmbed) {\n",
              "      vegaEmbed(outputDiv, spec, embedOpt)\n",
              "        .catch(err => showError(`Javascript Error: ${err.message}<br>This usually means there's a typo in your chart specification. See the javascript console for the full traceback.`));\n",
              "    }\n",
              "\n",
              "    if(typeof define === \"function\" && define.amd) {\n",
              "      requirejs.config({paths});\n",
              "      require([\"vega-embed\"], displayChart, err => showError(`Error loading script: ${err.message}`));\n",
              "    } else if (typeof vegaEmbed === \"function\") {\n",
              "      displayChart(vegaEmbed);\n",
              "    } else {\n",
              "      loadScript(\"vega\")\n",
              "        .then(() => loadScript(\"vega-lite\"))\n",
              "        .then(() => loadScript(\"vega-embed\"))\n",
              "        .catch(showError)\n",
              "        .then(() => displayChart(vegaEmbed));\n",
              "    }\n",
              "  })({\"config\": {\"view\": {\"continuousWidth\": 400, \"continuousHeight\": 300}}, \"layer\": [{\"mark\": {\"type\": \"circle\", \"opacity\": 0.5}, \"encoding\": {\"color\": {\"type\": \"nominal\", \"field\": \"category\"}, \"x\": {\"type\": \"quantitative\", \"field\": \"MEDV\"}, \"y\": {\"type\": \"quantitative\", \"field\": \"y\"}}, \"transform\": [{\"fold\": [\"PTRATIO\"], \"as\": [\"category\", \"y\"]}]}, {\"mark\": {\"type\": \"line\", \"size\": 4}, \"encoding\": {\"color\": {\"type\": \"nominal\", \"field\": \"category\"}, \"x\": {\"type\": \"quantitative\", \"field\": \"MEDV\"}, \"y\": {\"type\": \"quantitative\", \"field\": \"y\"}}, \"transform\": [{\"fold\": [\"PTRATIO\"], \"as\": [\"category\", \"y\"]}, {\"loess\": \"y\", \"on\": \"x\", \"groupby\": [\"category\"]}]}], \"data\": {\"name\": \"data-d0b81fe6880a34561022b3e22d2a1d09\"}, \"$schema\": \"https://vega.github.io/schema/vega-lite/v4.8.1.json\", \"datasets\": {\"data-d0b81fe6880a34561022b3e22d2a1d09\": [{\"PTRATIO\": 0.8085106382978724, \"MEDV\": 5.0}, {\"PTRATIO\": 0.8085106382978724, \"MEDV\": 5.0}, {\"PTRATIO\": 0.8085106382978724, \"MEDV\": 5.6}, {\"PTRATIO\": 0.8085106382978724, \"MEDV\": 6.3}, {\"PTRATIO\": 0.8085106382978724, \"MEDV\": 7.0}, {\"PTRATIO\": 0.7978723404255321, \"MEDV\": 7.0}, {\"PTRATIO\": 0.8085106382978724, \"MEDV\": 7.2}, {\"PTRATIO\": 0.8085106382978724, \"MEDV\": 7.2}, {\"PTRATIO\": 0.8085106382978724, \"MEDV\": 7.2}, {\"PTRATIO\": 0.8085106382978724, \"MEDV\": 7.4}, {\"PTRATIO\": 0.8085106382978724, \"MEDV\": 7.5}, {\"PTRATIO\": 0.7978723404255321, \"MEDV\": 8.1}, {\"PTRATIO\": 0.8085106382978724, \"MEDV\": 8.3}, {\"PTRATIO\": 0.8085106382978724, \"MEDV\": 8.3}, {\"PTRATIO\": 0.8085106382978724, \"MEDV\": 8.4}, {\"PTRATIO\": 0.8085106382978724, \"MEDV\": 8.4}, {\"PTRATIO\": 0.8085106382978724, \"MEDV\": 8.5}, {\"PTRATIO\": 0.8085106382978724, \"MEDV\": 8.5}, {\"PTRATIO\": 0.8085106382978724, \"MEDV\": 8.7}, {\"PTRATIO\": 0.8085106382978724, \"MEDV\": 8.8}, {\"PTRATIO\": 0.8085106382978724, \"MEDV\": 8.8}, {\"PTRATIO\": 0.8085106382978724, \"MEDV\": 9.5}, {\"PTRATIO\": 0.8085106382978724, \"MEDV\": 9.6}, {\"PTRATIO\": 0.8085106382978724, \"MEDV\": 9.7}, {\"PTRATIO\": 0.8085106382978724, \"MEDV\": 10.2}, {\"PTRATIO\": 0.8085106382978724, \"MEDV\": 10.2}, {\"PTRATIO\": 0.8085106382978724, \"MEDV\": 10.2}, {\"PTRATIO\": 0.8085106382978724, \"MEDV\": 10.4}, {\"PTRATIO\": 0.8085106382978724, \"MEDV\": 10.4}, {\"PTRATIO\": 0.8085106382978724, \"MEDV\": 10.5}, {\"PTRATIO\": 0.8085106382978724, \"MEDV\": 10.5}, {\"PTRATIO\": 0.8085106382978724, \"MEDV\": 10.8}, {\"PTRATIO\": 0.8085106382978724, \"MEDV\": 10.9}, {\"PTRATIO\": 0.8085106382978724, \"MEDV\": 10.9}, {\"PTRATIO\": 0.8085106382978724, \"MEDV\": 11.0}, {\"PTRATIO\": 0.8085106382978724, \"MEDV\": 11.3}, {\"PTRATIO\": 0.8085106382978724, \"MEDV\": 11.5}, {\"PTRATIO\": 0.8085106382978724, \"MEDV\": 11.7}, {\"PTRATIO\": 0.8085106382978724, \"MEDV\": 11.7}, {\"PTRATIO\": 0.8085106382978724, \"MEDV\": 11.8}, {\"PTRATIO\": 0.22340425531914887, \"MEDV\": 11.8}, {\"PTRATIO\": 0.8085106382978724, \"MEDV\": 11.9}, {\"PTRATIO\": 0.8936170212765959, \"MEDV\": 11.9}, {\"PTRATIO\": 0.8085106382978724, \"MEDV\": 12.0}, {\"PTRATIO\": 0.8085106382978724, \"MEDV\": 12.1}, {\"PTRATIO\": 0.8085106382978724, \"MEDV\": 12.3}, {\"PTRATIO\": 0.8085106382978724, \"MEDV\": 12.5}, {\"PTRATIO\": 0.8085106382978724, \"MEDV\": 12.6}, {\"PTRATIO\": 0.8936170212765959, \"MEDV\": 12.7}, {\"PTRATIO\": 0.8085106382978724, \"MEDV\": 12.7}, {\"PTRATIO\": 0.8085106382978724, \"MEDV\": 12.7}, {\"PTRATIO\": 0.8085106382978724, \"MEDV\": 12.8}, {\"PTRATIO\": 0.8085106382978724, \"MEDV\": 13.0}, {\"PTRATIO\": 0.8936170212765959, \"MEDV\": 13.1}, {\"PTRATIO\": 0.8085106382978724, \"MEDV\": 13.1}, {\"PTRATIO\": 0.22340425531914887, \"MEDV\": 13.1}, {\"PTRATIO\": 0.8085106382978724, \"MEDV\": 13.1}, {\"PTRATIO\": 0.8936170212765959, \"MEDV\": 13.2}, {\"PTRATIO\": 0.8085106382978724, \"MEDV\": 13.3}, {\"PTRATIO\": 0.9148936170212765, \"MEDV\": 13.3}, {\"PTRATIO\": 0.8085106382978724, \"MEDV\": 13.3}, {\"PTRATIO\": 0.8085106382978724, \"MEDV\": 13.4}, {\"PTRATIO\": 0.8085106382978724, \"MEDV\": 13.4}, {\"PTRATIO\": 0.22340425531914887, \"MEDV\": 13.4}, {\"PTRATIO\": 0.8085106382978724, \"MEDV\": 13.4}, {\"PTRATIO\": 0.8085106382978724, \"MEDV\": 13.5}, {\"PTRATIO\": 0.8936170212765959, \"MEDV\": 13.5}, {\"PTRATIO\": 0.8936170212765959, \"MEDV\": 13.6}, {\"PTRATIO\": 0.7978723404255321, \"MEDV\": 13.6}, {\"PTRATIO\": 0.8085106382978724, \"MEDV\": 13.8}, {\"PTRATIO\": 0.8085106382978724, \"MEDV\": 13.8}, {\"PTRATIO\": 0.22340425531914887, \"MEDV\": 13.8}, {\"PTRATIO\": 0.8085106382978724, \"MEDV\": 13.8}, {\"PTRATIO\": 0.8085106382978724, \"MEDV\": 13.8}, {\"PTRATIO\": 0.8085106382978724, \"MEDV\": 13.9}, {\"PTRATIO\": 0.8936170212765959, \"MEDV\": 13.9}, {\"PTRATIO\": 0.9148936170212765, \"MEDV\": 14.0}, {\"PTRATIO\": 0.8085106382978724, \"MEDV\": 14.1}, {\"PTRATIO\": 0.8085106382978724, \"MEDV\": 14.1}, {\"PTRATIO\": 0.8085106382978724, \"MEDV\": 14.1}, {\"PTRATIO\": 0.8085106382978724, \"MEDV\": 14.2}, {\"PTRATIO\": 0.8085106382978724, \"MEDV\": 14.3}, {\"PTRATIO\": 0.9148936170212765, \"MEDV\": 14.3}, {\"PTRATIO\": 0.5638297872340423, \"MEDV\": 14.4}, {\"PTRATIO\": 0.9148936170212765, \"MEDV\": 14.4}, {\"PTRATIO\": 0.8085106382978724, \"MEDV\": 14.5}, {\"PTRATIO\": 0.8936170212765959, \"MEDV\": 14.5}, {\"PTRATIO\": 0.8936170212765959, \"MEDV\": 14.5}, {\"PTRATIO\": 0.22340425531914887, \"MEDV\": 14.6}, {\"PTRATIO\": 0.8085106382978724, \"MEDV\": 14.6}, {\"PTRATIO\": 0.8936170212765959, \"MEDV\": 14.8}, {\"PTRATIO\": 0.8085106382978724, \"MEDV\": 14.9}, {\"PTRATIO\": 0.8085106382978724, \"MEDV\": 14.9}, {\"PTRATIO\": 0.8085106382978724, \"MEDV\": 14.9}, {\"PTRATIO\": 0.8085106382978724, \"MEDV\": 15.0}, {\"PTRATIO\": 0.8085106382978724, \"MEDV\": 15.0}, {\"PTRATIO\": 0.2765957446808509, \"MEDV\": 15.0}, {\"PTRATIO\": 0.8085106382978724, \"MEDV\": 15.1}, {\"PTRATIO\": 0.8085106382978724, \"MEDV\": 15.2}, {\"PTRATIO\": 0.7978723404255321, \"MEDV\": 15.2}, {\"PTRATIO\": 0.8936170212765959, \"MEDV\": 15.2}, {\"PTRATIO\": 0.22340425531914887, \"MEDV\": 15.3}, {\"PTRATIO\": 0.8085106382978724, \"MEDV\": 15.4}, {\"PTRATIO\": 0.22340425531914887, \"MEDV\": 15.4}, {\"PTRATIO\": 0.22340425531914887, \"MEDV\": 15.6}, {\"PTRATIO\": 0.8936170212765959, \"MEDV\": 15.6}, {\"PTRATIO\": 0.22340425531914887, \"MEDV\": 15.6}, {\"PTRATIO\": 0.9148936170212765, \"MEDV\": 15.6}, {\"PTRATIO\": 0.22340425531914887, \"MEDV\": 15.6}, {\"PTRATIO\": 0.6914893617021276, \"MEDV\": 15.7}, {\"PTRATIO\": 0.7553191489361701, \"MEDV\": 16.0}, {\"PTRATIO\": 0.6170212765957446, \"MEDV\": 16.1}, {\"PTRATIO\": 0.8085106382978724, \"MEDV\": 16.1}, {\"PTRATIO\": 0.8085106382978724, \"MEDV\": 16.1}, {\"PTRATIO\": 0.6170212765957446, \"MEDV\": 16.2}, {\"PTRATIO\": 0.9148936170212765, \"MEDV\": 16.2}, {\"PTRATIO\": 0.8085106382978724, \"MEDV\": 16.3}, {\"PTRATIO\": 0.8085106382978724, \"MEDV\": 16.4}, {\"PTRATIO\": 0.35106382978723394, \"MEDV\": 16.5}, {\"PTRATIO\": 0.2765957446808509, \"MEDV\": 16.5}, {\"PTRATIO\": 0.8936170212765959, \"MEDV\": 16.6}, {\"PTRATIO\": 0.5638297872340423, \"MEDV\": 16.6}, {\"PTRATIO\": 0.8085106382978724, \"MEDV\": 16.7}, {\"PTRATIO\": 0.8085106382978724, \"MEDV\": 16.7}, {\"PTRATIO\": 0.7021276595744679, \"MEDV\": 16.8}, {\"PTRATIO\": 0.8085106382978724, \"MEDV\": 16.8}, {\"PTRATIO\": 0.22340425531914887, \"MEDV\": 17.0}, {\"PTRATIO\": 0.8085106382978724, \"MEDV\": 17.1}, {\"PTRATIO\": 0.457446808510638, \"MEDV\": 17.1}, {\"PTRATIO\": 0.9148936170212765, \"MEDV\": 17.1}, {\"PTRATIO\": 0.8085106382978724, \"MEDV\": 17.2}, {\"PTRATIO\": 0.6595744680851063, \"MEDV\": 17.2}, {\"PTRATIO\": 0.8085106382978724, \"MEDV\": 17.2}, {\"PTRATIO\": 0.6914893617021276, \"MEDV\": 17.3}, {\"PTRATIO\": 0.6702127659574466, \"MEDV\": 17.4}, {\"PTRATIO\": 0.22340425531914887, \"MEDV\": 17.4}, {\"PTRATIO\": 0.9148936170212765, \"MEDV\": 17.4}, {\"PTRATIO\": 0.7021276595744679, \"MEDV\": 17.5}, {\"PTRATIO\": 0.6595744680851063, \"MEDV\": 17.5}, {\"PTRATIO\": 0.8936170212765959, \"MEDV\": 17.5}, {\"PTRATIO\": 0.6914893617021276, \"MEDV\": 17.6}, {\"PTRATIO\": 0.8085106382978724, \"MEDV\": 17.7}, {\"PTRATIO\": 0.22340425531914887, \"MEDV\": 17.8}, {\"PTRATIO\": 0.8085106382978724, \"MEDV\": 17.8}, {\"PTRATIO\": 0.6170212765957446, \"MEDV\": 17.8}, {\"PTRATIO\": 0.8085106382978724, \"MEDV\": 17.8}, {\"PTRATIO\": 0.9148936170212765, \"MEDV\": 17.8}, {\"PTRATIO\": 0.8085106382978724, \"MEDV\": 17.9}, {\"PTRATIO\": 0.9148936170212765, \"MEDV\": 18.0}, {\"PTRATIO\": 0.9148936170212765, \"MEDV\": 18.1}, {\"PTRATIO\": 0.8936170212765959, \"MEDV\": 18.2}, {\"PTRATIO\": 1.0, \"MEDV\": 18.2}, {\"PTRATIO\": 0.8936170212765959, \"MEDV\": 18.2}, {\"PTRATIO\": 0.7021276595744679, \"MEDV\": 18.3}, {\"PTRATIO\": 0.5531914893617023, \"MEDV\": 18.3}, {\"PTRATIO\": 0.9148936170212765, \"MEDV\": 18.4}, {\"PTRATIO\": 0.8936170212765959, \"MEDV\": 18.4}, {\"PTRATIO\": 0.8085106382978724, \"MEDV\": 18.4}, {\"PTRATIO\": 0.5531914893617023, \"MEDV\": 18.5}, {\"PTRATIO\": 0.7446808510638299, \"MEDV\": 18.5}, {\"PTRATIO\": 0.8085106382978724, \"MEDV\": 18.5}, {\"PTRATIO\": 0.6914893617021276, \"MEDV\": 18.5}, {\"PTRATIO\": 0.6063829787234043, \"MEDV\": 18.6}, {\"PTRATIO\": 0.8829787234042552, \"MEDV\": 18.6}, {\"PTRATIO\": 0.5531914893617023, \"MEDV\": 18.7}, {\"PTRATIO\": 0.8085106382978724, \"MEDV\": 18.7}, {\"PTRATIO\": 0.7553191489361701, \"MEDV\": 18.7}, {\"PTRATIO\": 0.5531914893617023, \"MEDV\": 18.8}, {\"PTRATIO\": 0.6914893617021276, \"MEDV\": 18.8}, {\"PTRATIO\": 0.2765957446808509, \"MEDV\": 18.9}, {\"PTRATIO\": 0.9042553191489362, \"MEDV\": 18.9}, {\"PTRATIO\": 0.7021276595744679, \"MEDV\": 18.9}, {\"PTRATIO\": 0.2765957446808509, \"MEDV\": 18.9}, {\"PTRATIO\": 0.8085106382978724, \"MEDV\": 19.0}, {\"PTRATIO\": 0.8085106382978724, \"MEDV\": 19.0}, {\"PTRATIO\": 0.8085106382978724, \"MEDV\": 19.1}, {\"PTRATIO\": 0.8085106382978724, \"MEDV\": 19.1}, {\"PTRATIO\": 0.22340425531914887, \"MEDV\": 19.1}, {\"PTRATIO\": 0.8085106382978724, \"MEDV\": 19.1}, {\"PTRATIO\": 0.9148936170212765, \"MEDV\": 19.2}, {\"PTRATIO\": 0.5531914893617023, \"MEDV\": 19.2}, {\"PTRATIO\": 0.457446808510638, \"MEDV\": 19.3}, {\"PTRATIO\": 0.6382978723404256, \"MEDV\": 19.3}, {\"PTRATIO\": 0.5638297872340423, \"MEDV\": 19.3}, {\"PTRATIO\": 0.8829787234042552, \"MEDV\": 19.3}, {\"PTRATIO\": 0.5531914893617023, \"MEDV\": 19.3}, {\"PTRATIO\": 0.37234042553191493, \"MEDV\": 19.4}, {\"PTRATIO\": 0.6170212765957446, \"MEDV\": 19.4}, {\"PTRATIO\": 0.22340425531914887, \"MEDV\": 19.4}, {\"PTRATIO\": 0.5638297872340423, \"MEDV\": 19.4}, {\"PTRATIO\": 0.8829787234042552, \"MEDV\": 19.4}, {\"PTRATIO\": 0.457446808510638, \"MEDV\": 19.4}, {\"PTRATIO\": 0.8829787234042552, \"MEDV\": 19.5}, {\"PTRATIO\": 0.8085106382978724, \"MEDV\": 19.5}, {\"PTRATIO\": 0.8829787234042552, \"MEDV\": 19.5}, {\"PTRATIO\": 0.8085106382978724, \"MEDV\": 19.5}, {\"PTRATIO\": 0.22340425531914887, \"MEDV\": 19.6}, {\"PTRATIO\": 0.8085106382978724, \"MEDV\": 19.6}, {\"PTRATIO\": 0.7553191489361701, \"MEDV\": 19.6}, {\"PTRATIO\": 0.9148936170212765, \"MEDV\": 19.6}, {\"PTRATIO\": 0.8936170212765959, \"MEDV\": 19.6}, {\"PTRATIO\": 0.44680851063829796, \"MEDV\": 19.7}, {\"PTRATIO\": 0.7021276595744679, \"MEDV\": 19.7}, {\"PTRATIO\": 0.457446808510638, \"MEDV\": 19.8}, {\"PTRATIO\": 0.6170212765957446, \"MEDV\": 19.8}, {\"PTRATIO\": 0.8829787234042552, \"MEDV\": 19.8}, {\"PTRATIO\": 0.8085106382978724, \"MEDV\": 19.9}, {\"PTRATIO\": 0.8085106382978724, \"MEDV\": 19.9}, {\"PTRATIO\": 0.8085106382978724, \"MEDV\": 19.9}, {\"PTRATIO\": 0.8936170212765959, \"MEDV\": 19.9}, {\"PTRATIO\": 0.6382978723404256, \"MEDV\": 20.0}, {\"PTRATIO\": 0.7021276595744679, \"MEDV\": 20.0}, {\"PTRATIO\": 0.8085106382978724, \"MEDV\": 20.0}, {\"PTRATIO\": 0.5638297872340423, \"MEDV\": 20.0}, {\"PTRATIO\": 0.6489361702127658, \"MEDV\": 20.0}, {\"PTRATIO\": 0.4255319148936172, \"MEDV\": 20.1}, {\"PTRATIO\": 0.7978723404255321, \"MEDV\": 20.1}, {\"PTRATIO\": 0.8829787234042552, \"MEDV\": 20.1}, {\"PTRATIO\": 0.8085106382978724, \"MEDV\": 20.1}, {\"PTRATIO\": 0.5957446808510638, \"MEDV\": 20.1}, {\"PTRATIO\": 0.8936170212765959, \"MEDV\": 20.2}, {\"PTRATIO\": 0.8085106382978724, \"MEDV\": 20.2}, {\"PTRATIO\": 0.6489361702127658, \"MEDV\": 20.3}, {\"PTRATIO\": 0.36170212765957444, \"MEDV\": 20.3}, {\"PTRATIO\": 0.6914893617021276, \"MEDV\": 20.3}, {\"PTRATIO\": 0.6170212765957446, \"MEDV\": 20.3}, {\"PTRATIO\": 0.8936170212765959, \"MEDV\": 20.4}, {\"PTRATIO\": 0.8829787234042552, \"MEDV\": 20.4}, {\"PTRATIO\": 0.5531914893617023, \"MEDV\": 20.4}, {\"PTRATIO\": 0.7446808510638299, \"MEDV\": 20.4}, {\"PTRATIO\": 0.6914893617021276, \"MEDV\": 20.5}, {\"PTRATIO\": 0.44680851063829796, \"MEDV\": 20.5}, {\"PTRATIO\": 0.6914893617021276, \"MEDV\": 20.5}, {\"PTRATIO\": 1.0, \"MEDV\": 20.6}, {\"PTRATIO\": 0.8085106382978724, \"MEDV\": 20.6}, {\"PTRATIO\": 0.8085106382978724, \"MEDV\": 20.6}, {\"PTRATIO\": 0.8085106382978724, \"MEDV\": 20.6}, {\"PTRATIO\": 0.8936170212765959, \"MEDV\": 20.6}, {\"PTRATIO\": 0.5957446808510638, \"MEDV\": 20.6}, {\"PTRATIO\": 0.8085106382978724, \"MEDV\": 20.7}, {\"PTRATIO\": 0.6382978723404256, \"MEDV\": 20.7}, {\"PTRATIO\": 0.8085106382978724, \"MEDV\": 20.8}, {\"PTRATIO\": 0.8085106382978724, \"MEDV\": 20.8}, {\"PTRATIO\": 0.6489361702127658, \"MEDV\": 20.8}, {\"PTRATIO\": 0.404255319148936, \"MEDV\": 20.9}, {\"PTRATIO\": 0.6702127659574466, \"MEDV\": 20.9}, {\"PTRATIO\": 0.7021276595744679, \"MEDV\": 21.0}, {\"PTRATIO\": 0.6170212765957446, \"MEDV\": 21.0}, {\"PTRATIO\": 0.8936170212765959, \"MEDV\": 21.0}, {\"PTRATIO\": 0.6382978723404256, \"MEDV\": 21.1}, {\"PTRATIO\": 0.8085106382978724, \"MEDV\": 21.1}, {\"PTRATIO\": 0.5638297872340423, \"MEDV\": 21.2}, {\"PTRATIO\": 0.5531914893617023, \"MEDV\": 21.2}, {\"PTRATIO\": 0.8085106382978724, \"MEDV\": 21.2}, {\"PTRATIO\": 0.7021276595744679, \"MEDV\": 21.2}, {\"PTRATIO\": 0.6489361702127658, \"MEDV\": 21.2}, {\"PTRATIO\": 0.574468085106383, \"MEDV\": 21.4}, {\"PTRATIO\": 0.6489361702127658, \"MEDV\": 21.4}, {\"PTRATIO\": 0.8085106382978724, \"MEDV\": 21.4}, {\"PTRATIO\": 0.8085106382978724, \"MEDV\": 21.4}, {\"PTRATIO\": 0.6914893617021276, \"MEDV\": 21.4}, {\"PTRATIO\": 0.22340425531914887, \"MEDV\": 21.5}, {\"PTRATIO\": 0.404255319148936, \"MEDV\": 21.5}, {\"PTRATIO\": 0.5531914893617023, \"MEDV\": 21.6}, {\"PTRATIO\": 0.6170212765957446, \"MEDV\": 21.6}, {\"PTRATIO\": 0.36170212765957444, \"MEDV\": 21.7}, {\"PTRATIO\": 0.2765957446808509, \"MEDV\": 21.7}, {\"PTRATIO\": 0.7021276595744679, \"MEDV\": 21.7}, {\"PTRATIO\": 0.8829787234042552, \"MEDV\": 21.7}, {\"PTRATIO\": 0.6382978723404256, \"MEDV\": 21.7}, {\"PTRATIO\": 0.8085106382978724, \"MEDV\": 21.7}, {\"PTRATIO\": 0.5106382978723403, \"MEDV\": 21.7}, {\"PTRATIO\": 0.7021276595744679, \"MEDV\": 21.8}, {\"PTRATIO\": 0.8085106382978724, \"MEDV\": 21.8}, {\"PTRATIO\": 0.404255319148936, \"MEDV\": 21.9}, {\"PTRATIO\": 0.8085106382978724, \"MEDV\": 21.9}, {\"PTRATIO\": 0.8085106382978724, \"MEDV\": 21.9}, {\"PTRATIO\": 0.6702127659574466, \"MEDV\": 22.0}, {\"PTRATIO\": 0.5531914893617023, \"MEDV\": 22.0}, {\"PTRATIO\": 0.4255319148936172, \"MEDV\": 22.0}, {\"PTRATIO\": 0.6914893617021276, \"MEDV\": 22.0}, {\"PTRATIO\": 0.37234042553191493, \"MEDV\": 22.0}, {\"PTRATIO\": 0.2872340425531916, \"MEDV\": 22.0}, {\"PTRATIO\": 0.8936170212765959, \"MEDV\": 22.0}, {\"PTRATIO\": 0.6170212765957446, \"MEDV\": 22.1}, {\"PTRATIO\": 0.8085106382978724, \"MEDV\": 22.2}, {\"PTRATIO\": 0.4255319148936172, \"MEDV\": 22.2}, {\"PTRATIO\": 0.7446808510638299, \"MEDV\": 22.2}, {\"PTRATIO\": 0.7553191489361701, \"MEDV\": 22.2}, {\"PTRATIO\": 0.6276595744680851, \"MEDV\": 22.2}, {\"PTRATIO\": 0.22340425531914887, \"MEDV\": 22.3}, {\"PTRATIO\": 0.4255319148936172, \"MEDV\": 22.3}, {\"PTRATIO\": 0.6382978723404256, \"MEDV\": 22.4}, {\"PTRATIO\": 0.8936170212765959, \"MEDV\": 22.4}, {\"PTRATIO\": 0.6276595744680851, \"MEDV\": 22.5}, {\"PTRATIO\": 0.6382978723404256, \"MEDV\": 22.5}, {\"PTRATIO\": 0.23404255319148937, \"MEDV\": 22.5}, {\"PTRATIO\": 0.8085106382978724, \"MEDV\": 22.6}, {\"PTRATIO\": 0.457446808510638, \"MEDV\": 22.6}, {\"PTRATIO\": 0.4255319148936172, \"MEDV\": 22.6}, {\"PTRATIO\": 0.5531914893617023, \"MEDV\": 22.6}, {\"PTRATIO\": 0.6382978723404256, \"MEDV\": 22.6}, {\"PTRATIO\": 0.22340425531914887, \"MEDV\": 22.7}, {\"PTRATIO\": 0.8085106382978724, \"MEDV\": 22.7}, {\"PTRATIO\": 0.5531914893617023, \"MEDV\": 22.8}, {\"PTRATIO\": 0.042553191489361764, \"MEDV\": 22.8}, {\"PTRATIO\": 0.6170212765957446, \"MEDV\": 22.8}, {\"PTRATIO\": 0.7021276595744679, \"MEDV\": 22.8}, {\"PTRATIO\": 0.5957446808510638, \"MEDV\": 22.9}, {\"PTRATIO\": 0.6808510638297873, \"MEDV\": 22.9}, {\"PTRATIO\": 0.7553191489361701, \"MEDV\": 22.9}, {\"PTRATIO\": 0.2765957446808509, \"MEDV\": 22.9}, {\"PTRATIO\": 0.9148936170212765, \"MEDV\": 23.0}, {\"PTRATIO\": 0.8085106382978724, \"MEDV\": 23.0}, {\"PTRATIO\": 0.404255319148936, \"MEDV\": 23.0}, {\"PTRATIO\": 0.7446808510638299, \"MEDV\": 23.0}, {\"PTRATIO\": 0.5638297872340423, \"MEDV\": 23.1}, {\"PTRATIO\": 0.4255319148936172, \"MEDV\": 23.1}, {\"PTRATIO\": 0.6170212765957446, \"MEDV\": 23.1}, {\"PTRATIO\": 0.7446808510638299, \"MEDV\": 23.1}, {\"PTRATIO\": 0.8085106382978724, \"MEDV\": 23.1}, {\"PTRATIO\": 0.7021276595744679, \"MEDV\": 23.1}, {\"PTRATIO\": 0.8936170212765959, \"MEDV\": 23.1}, {\"PTRATIO\": 0.8085106382978724, \"MEDV\": 23.2}, {\"PTRATIO\": 0.8085106382978724, \"MEDV\": 23.2}, {\"PTRATIO\": 0.4255319148936172, \"MEDV\": 23.2}, {\"PTRATIO\": 0.4255319148936172, \"MEDV\": 23.2}, {\"PTRATIO\": 0.7553191489361701, \"MEDV\": 23.3}, {\"PTRATIO\": 0.22340425531914887, \"MEDV\": 23.3}, {\"PTRATIO\": 0.4255319148936172, \"MEDV\": 23.3}, {\"PTRATIO\": 0.404255319148936, \"MEDV\": 23.3}, {\"PTRATIO\": 0.44680851063829796, \"MEDV\": 23.4}, {\"PTRATIO\": 0.7021276595744679, \"MEDV\": 23.4}, {\"PTRATIO\": 0.37234042553191493, \"MEDV\": 23.5}, {\"PTRATIO\": 0.5531914893617023, \"MEDV\": 23.6}, {\"PTRATIO\": 0.4255319148936172, \"MEDV\": 23.6}, {\"PTRATIO\": 0.6382978723404256, \"MEDV\": 23.7}, {\"PTRATIO\": 0.4255319148936172, \"MEDV\": 23.7}, {\"PTRATIO\": 0.4255319148936172, \"MEDV\": 23.7}, {\"PTRATIO\": 0.8085106382978724, \"MEDV\": 23.7}, {\"PTRATIO\": 0.7446808510638299, \"MEDV\": 23.8}, {\"PTRATIO\": 0.6170212765957446, \"MEDV\": 23.8}, {\"PTRATIO\": 0.22340425531914887, \"MEDV\": 23.8}, {\"PTRATIO\": 0.22340425531914887, \"MEDV\": 23.8}, {\"PTRATIO\": 0.6808510638297873, \"MEDV\": 23.9}, {\"PTRATIO\": 0.5319148936170215, \"MEDV\": 23.9}, {\"PTRATIO\": 0.6276595744680851, \"MEDV\": 23.9}, {\"PTRATIO\": 0.8936170212765959, \"MEDV\": 23.9}, {\"PTRATIO\": 0.36170212765957444, \"MEDV\": 23.9}, {\"PTRATIO\": 0.2872340425531916, \"MEDV\": 24.0}, {\"PTRATIO\": 0.5106382978723403, \"MEDV\": 24.0}, {\"PTRATIO\": 0.6063829787234043, \"MEDV\": 24.1}, {\"PTRATIO\": 0.6489361702127658, \"MEDV\": 24.1}, {\"PTRATIO\": 0.22340425531914887, \"MEDV\": 24.1}, {\"PTRATIO\": 0.7021276595744679, \"MEDV\": 24.2}, {\"PTRATIO\": 0.5106382978723403, \"MEDV\": 24.3}, {\"PTRATIO\": 0.6914893617021276, \"MEDV\": 24.3}, {\"PTRATIO\": 0.22340425531914887, \"MEDV\": 24.3}, {\"PTRATIO\": 0.6382978723404256, \"MEDV\": 24.4}, {\"PTRATIO\": 0.6382978723404256, \"MEDV\": 24.4}, {\"PTRATIO\": 0.6914893617021276, \"MEDV\": 24.4}, {\"PTRATIO\": 0.6382978723404256, \"MEDV\": 24.4}, {\"PTRATIO\": 0.7021276595744679, \"MEDV\": 24.5}, {\"PTRATIO\": 0.6914893617021276, \"MEDV\": 24.5}, {\"PTRATIO\": 0.46808510638297873, \"MEDV\": 24.5}, {\"PTRATIO\": 0.7446808510638299, \"MEDV\": 24.6}, {\"PTRATIO\": 0.4255319148936172, \"MEDV\": 24.6}, {\"PTRATIO\": 0.5, \"MEDV\": 24.7}, {\"PTRATIO\": 0.7021276595744679, \"MEDV\": 24.7}, {\"PTRATIO\": 0.5638297872340423, \"MEDV\": 24.7}, {\"PTRATIO\": 0.4255319148936172, \"MEDV\": 24.8}, {\"PTRATIO\": 0.6914893617021276, \"MEDV\": 24.8}, {\"PTRATIO\": 0.6808510638297873, \"MEDV\": 24.8}, {\"PTRATIO\": 0.23404255319148937, \"MEDV\": 24.8}, {\"PTRATIO\": 0.5957446808510638, \"MEDV\": 25.0}, {\"PTRATIO\": 0.7446808510638299, \"MEDV\": 25.0}, {\"PTRATIO\": 0.8085106382978724, \"MEDV\": 25.0}, {\"PTRATIO\": 0.44680851063829796, \"MEDV\": 25.0}, {\"PTRATIO\": 0.7553191489361701, \"MEDV\": 25.0}, {\"PTRATIO\": 0.6382978723404256, \"MEDV\": 25.0}, {\"PTRATIO\": 0.22340425531914887, \"MEDV\": 25.0}, {\"PTRATIO\": 0.8085106382978724, \"MEDV\": 25.0}, {\"PTRATIO\": 0.5106382978723403, \"MEDV\": 25.1}, {\"PTRATIO\": 0.6382978723404256, \"MEDV\": 25.2}, {\"PTRATIO\": 0.5638297872340423, \"MEDV\": 25.3}, {\"PTRATIO\": 0.6914893617021276, \"MEDV\": 26.2}, {\"PTRATIO\": 0.5531914893617023, \"MEDV\": 26.4}, {\"PTRATIO\": 0.37234042553191493, \"MEDV\": 26.4}, {\"PTRATIO\": 0.8829787234042552, \"MEDV\": 26.5}, {\"PTRATIO\": 0.6276595744680851, \"MEDV\": 26.6}, {\"PTRATIO\": 0.5638297872340423, \"MEDV\": 26.6}, {\"PTRATIO\": 0.7553191489361701, \"MEDV\": 26.6}, {\"PTRATIO\": 0.5106382978723403, \"MEDV\": 26.7}, {\"PTRATIO\": 0.22340425531914887, \"MEDV\": 27.0}, {\"PTRATIO\": 0.2765957446808509, \"MEDV\": 27.1}, {\"PTRATIO\": 0.36170212765957444, \"MEDV\": 27.1}, {\"PTRATIO\": 0.8085106382978724, \"MEDV\": 27.5}, {\"PTRATIO\": 0.8829787234042552, \"MEDV\": 27.5}, {\"PTRATIO\": 0.5106382978723403, \"MEDV\": 27.5}, {\"PTRATIO\": 0.8085106382978724, \"MEDV\": 27.5}, {\"PTRATIO\": 0.8085106382978724, \"MEDV\": 27.9}, {\"PTRATIO\": 0.7021276595744679, \"MEDV\": 27.9}, {\"PTRATIO\": 0.6808510638297873, \"MEDV\": 28.0}, {\"PTRATIO\": 0.6382978723404256, \"MEDV\": 28.1}, {\"PTRATIO\": 0.6170212765957446, \"MEDV\": 28.2}, {\"PTRATIO\": 0.6170212765957446, \"MEDV\": 28.4}, {\"PTRATIO\": 0.574468085106383, \"MEDV\": 28.4}, {\"PTRATIO\": 0.7021276595744679, \"MEDV\": 28.5}, {\"PTRATIO\": 0.36170212765957444, \"MEDV\": 28.6}, {\"PTRATIO\": 0.5531914893617023, \"MEDV\": 28.7}, {\"PTRATIO\": 0.404255319148936, \"MEDV\": 28.7}, {\"PTRATIO\": 0.6489361702127658, \"MEDV\": 28.7}, {\"PTRATIO\": 0.23404255319148937, \"MEDV\": 29.0}, {\"PTRATIO\": 0.5106382978723403, \"MEDV\": 29.0}, {\"PTRATIO\": 0.31914893617021267, \"MEDV\": 29.1}, {\"PTRATIO\": 0.5319148936170215, \"MEDV\": 29.1}, {\"PTRATIO\": 0.4255319148936172, \"MEDV\": 29.4}, {\"PTRATIO\": 0.5531914893617023, \"MEDV\": 29.6}, {\"PTRATIO\": 0.6914893617021276, \"MEDV\": 29.6}, {\"PTRATIO\": 0.8085106382978724, \"MEDV\": 29.8}, {\"PTRATIO\": 0.2765957446808509, \"MEDV\": 29.8}, {\"PTRATIO\": 0.4255319148936172, \"MEDV\": 29.9}, {\"PTRATIO\": 0.042553191489361764, \"MEDV\": 30.1}, {\"PTRATIO\": 0.5106382978723403, \"MEDV\": 30.1}, {\"PTRATIO\": 0.46808510638297873, \"MEDV\": 30.1}, {\"PTRATIO\": 0.0, \"MEDV\": 30.3}, {\"PTRATIO\": 0.2765957446808509, \"MEDV\": 30.5}, {\"PTRATIO\": 0.042553191489361764, \"MEDV\": 30.7}, {\"PTRATIO\": 0.6063829787234043, \"MEDV\": 30.8}, {\"PTRATIO\": 0.042553191489361764, \"MEDV\": 31.0}, {\"PTRATIO\": 0.31914893617021267, \"MEDV\": 31.1}, {\"PTRATIO\": 0.5319148936170215, \"MEDV\": 31.2}, {\"PTRATIO\": 0.5106382978723403, \"MEDV\": 31.5}, {\"PTRATIO\": 0.5106382978723403, \"MEDV\": 31.5}, {\"PTRATIO\": 0.5106382978723403, \"MEDV\": 31.6}, {\"PTRATIO\": 0.26595744680851063, \"MEDV\": 31.6}, {\"PTRATIO\": 0.5106382978723403, \"MEDV\": 31.7}, {\"PTRATIO\": 0.5319148936170215, \"MEDV\": 32.0}, {\"PTRATIO\": 0.2765957446808509, \"MEDV\": 32.0}, {\"PTRATIO\": 0.2872340425531916, \"MEDV\": 32.2}, {\"PTRATIO\": 0.5319148936170215, \"MEDV\": 32.4}, {\"PTRATIO\": 0.5531914893617023, \"MEDV\": 32.5}, {\"PTRATIO\": 0.3085106382978724, \"MEDV\": 32.7}, {\"PTRATIO\": 0.46808510638297873, \"MEDV\": 32.9}, {\"PTRATIO\": 0.6382978723404256, \"MEDV\": 33.0}, {\"PTRATIO\": 0.5319148936170215, \"MEDV\": 33.1}, {\"PTRATIO\": 0.37234042553191493, \"MEDV\": 33.1}, {\"PTRATIO\": 0.5319148936170215, \"MEDV\": 33.2}, {\"PTRATIO\": 0.574468085106383, \"MEDV\": 33.2}, {\"PTRATIO\": 0.0, \"MEDV\": 33.3}, {\"PTRATIO\": 0.6170212765957446, \"MEDV\": 33.4}, {\"PTRATIO\": 0.6489361702127658, \"MEDV\": 33.4}, {\"PTRATIO\": 0.042553191489361764, \"MEDV\": 33.8}, {\"PTRATIO\": 0.0, \"MEDV\": 34.6}, {\"PTRATIO\": 0.5531914893617023, \"MEDV\": 34.7}, {\"PTRATIO\": 0.2765957446808509, \"MEDV\": 34.9}, {\"PTRATIO\": 0.6063829787234043, \"MEDV\": 34.9}, {\"PTRATIO\": 0.46808510638297873, \"MEDV\": 34.9}, {\"PTRATIO\": 0.24468085106382986, \"MEDV\": 35.1}, {\"PTRATIO\": 0.6382978723404256, \"MEDV\": 35.2}, {\"PTRATIO\": 0.5638297872340423, \"MEDV\": 35.4}, {\"PTRATIO\": 0.24468085106382986, \"MEDV\": 35.4}, {\"PTRATIO\": 0.042553191489361764, \"MEDV\": 36.0}, {\"PTRATIO\": 0.6170212765957446, \"MEDV\": 36.1}, {\"PTRATIO\": 0.6489361702127658, \"MEDV\": 36.2}, {\"PTRATIO\": 0.5531914893617023, \"MEDV\": 36.2}, {\"PTRATIO\": 0.2765957446808509, \"MEDV\": 36.4}, {\"PTRATIO\": 0.042553191489361764, \"MEDV\": 36.5}, {\"PTRATIO\": 0.2765957446808509, \"MEDV\": 37.0}, {\"PTRATIO\": 0.5531914893617023, \"MEDV\": 37.2}, {\"PTRATIO\": 0.7021276595744679, \"MEDV\": 37.3}, {\"PTRATIO\": 0.5106382978723403, \"MEDV\": 37.6}, {\"PTRATIO\": 0.5531914893617023, \"MEDV\": 37.9}, {\"PTRATIO\": 0.574468085106383, \"MEDV\": 38.7}, {\"PTRATIO\": 0.5531914893617023, \"MEDV\": 39.8}, {\"PTRATIO\": 0.22340425531914887, \"MEDV\": 41.3}, {\"PTRATIO\": 0.5106382978723403, \"MEDV\": 41.7}, {\"PTRATIO\": 0.22340425531914887, \"MEDV\": 42.3}, {\"PTRATIO\": 0.6914893617021276, \"MEDV\": 42.8}, {\"PTRATIO\": 0.042553191489361764, \"MEDV\": 43.1}, {\"PTRATIO\": 0.042553191489361764, \"MEDV\": 43.5}, {\"PTRATIO\": 0.574468085106383, \"MEDV\": 43.8}, {\"PTRATIO\": 0.35106382978723394, \"MEDV\": 44.0}, {\"PTRATIO\": 0.5106382978723403, \"MEDV\": 44.8}, {\"PTRATIO\": 0.24468085106382986, \"MEDV\": 45.4}, {\"PTRATIO\": 0.24468085106382986, \"MEDV\": 46.0}, {\"PTRATIO\": 0.5106382978723403, \"MEDV\": 46.7}, {\"PTRATIO\": 0.5106382978723403, \"MEDV\": 48.3}, {\"PTRATIO\": 0.22340425531914887, \"MEDV\": 48.5}, {\"PTRATIO\": 0.042553191489361764, \"MEDV\": 48.8}, {\"PTRATIO\": 0.042553191489361764, \"MEDV\": 50.0}, {\"PTRATIO\": 0.042553191489361764, \"MEDV\": 50.0}, {\"PTRATIO\": 0.8085106382978724, \"MEDV\": 50.0}, {\"PTRATIO\": 0.8085106382978724, \"MEDV\": 50.0}, {\"PTRATIO\": 0.8085106382978724, \"MEDV\": 50.0}, {\"PTRATIO\": 0.8085106382978724, \"MEDV\": 50.0}, {\"PTRATIO\": 0.8085106382978724, \"MEDV\": 50.0}, {\"PTRATIO\": 0.22340425531914887, \"MEDV\": 50.0}, {\"PTRATIO\": 0.22340425531914887, \"MEDV\": 50.0}, {\"PTRATIO\": 0.22340425531914887, \"MEDV\": 50.0}, {\"PTRATIO\": 0.22340425531914887, \"MEDV\": 50.0}, {\"PTRATIO\": 0.22340425531914887, \"MEDV\": 50.0}, {\"PTRATIO\": 0.1914893617021276, \"MEDV\": 50.0}, {\"PTRATIO\": 0.10638297872340408, \"MEDV\": 50.0}, {\"PTRATIO\": 0.5106382978723403, \"MEDV\": 50.0}, {\"PTRATIO\": 0.5531914893617023, \"MEDV\": 50.0}]}}, {\"mode\": \"vega-lite\"});\n",
              "</script>"
            ]
          },
          "metadata": {
            "tags": []
          },
          "execution_count": 20
        }
      ]
    },
    {
      "cell_type": "code",
      "metadata": {
        "id": "j-7zDyudZ44P",
        "colab_type": "code",
        "colab": {
          "base_uri": "https://localhost:8080/",
          "height": 415
        },
        "outputId": "bf18a727-611e-4759-fb40-07d8ff680c0d"
      },
      "source": [
        "dict(list(zip( list(range(1,14)), list(data_pd.columns))))\n",
        "# list(zip( list(range(0,ln-1)), cols))\n",
        "data_pd"
      ],
      "execution_count": 21,
      "outputs": [
        {
          "output_type": "execute_result",
          "data": {
            "text/html": [
              "<div>\n",
              "<style scoped>\n",
              "    .dataframe tbody tr th:only-of-type {\n",
              "        vertical-align: middle;\n",
              "    }\n",
              "\n",
              "    .dataframe tbody tr th {\n",
              "        vertical-align: top;\n",
              "    }\n",
              "\n",
              "    .dataframe thead th {\n",
              "        text-align: right;\n",
              "    }\n",
              "</style>\n",
              "<table border=\"1\" class=\"dataframe\">\n",
              "  <thead>\n",
              "    <tr style=\"text-align: right;\">\n",
              "      <th></th>\n",
              "      <th>CRIM</th>\n",
              "      <th>ZN</th>\n",
              "      <th>INDUS</th>\n",
              "      <th>CHAS</th>\n",
              "      <th>NOX</th>\n",
              "      <th>RM</th>\n",
              "      <th>AGE</th>\n",
              "      <th>DIS</th>\n",
              "      <th>RAD</th>\n",
              "      <th>TAX</th>\n",
              "      <th>PTRATIO</th>\n",
              "      <th>B</th>\n",
              "      <th>LSTAT</th>\n",
              "      <th>MEDV</th>\n",
              "    </tr>\n",
              "  </thead>\n",
              "  <tbody>\n",
              "    <tr>\n",
              "      <th>0</th>\n",
              "      <td>0.00632</td>\n",
              "      <td>18.0</td>\n",
              "      <td>2.31</td>\n",
              "      <td>0</td>\n",
              "      <td>0.538</td>\n",
              "      <td>6.575</td>\n",
              "      <td>65.2</td>\n",
              "      <td>4.0900</td>\n",
              "      <td>1</td>\n",
              "      <td>296.0</td>\n",
              "      <td>15.3</td>\n",
              "      <td>396.90</td>\n",
              "      <td>4.98</td>\n",
              "      <td>24.0</td>\n",
              "    </tr>\n",
              "    <tr>\n",
              "      <th>1</th>\n",
              "      <td>0.02731</td>\n",
              "      <td>0.0</td>\n",
              "      <td>7.07</td>\n",
              "      <td>0</td>\n",
              "      <td>0.469</td>\n",
              "      <td>6.421</td>\n",
              "      <td>78.9</td>\n",
              "      <td>4.9671</td>\n",
              "      <td>2</td>\n",
              "      <td>242.0</td>\n",
              "      <td>17.8</td>\n",
              "      <td>396.90</td>\n",
              "      <td>9.14</td>\n",
              "      <td>21.6</td>\n",
              "    </tr>\n",
              "    <tr>\n",
              "      <th>2</th>\n",
              "      <td>0.02729</td>\n",
              "      <td>0.0</td>\n",
              "      <td>7.07</td>\n",
              "      <td>0</td>\n",
              "      <td>0.469</td>\n",
              "      <td>7.185</td>\n",
              "      <td>61.1</td>\n",
              "      <td>4.9671</td>\n",
              "      <td>2</td>\n",
              "      <td>242.0</td>\n",
              "      <td>17.8</td>\n",
              "      <td>392.83</td>\n",
              "      <td>4.03</td>\n",
              "      <td>34.7</td>\n",
              "    </tr>\n",
              "    <tr>\n",
              "      <th>3</th>\n",
              "      <td>0.03237</td>\n",
              "      <td>0.0</td>\n",
              "      <td>2.18</td>\n",
              "      <td>0</td>\n",
              "      <td>0.458</td>\n",
              "      <td>6.998</td>\n",
              "      <td>45.8</td>\n",
              "      <td>6.0622</td>\n",
              "      <td>3</td>\n",
              "      <td>222.0</td>\n",
              "      <td>18.7</td>\n",
              "      <td>394.63</td>\n",
              "      <td>2.94</td>\n",
              "      <td>33.4</td>\n",
              "    </tr>\n",
              "    <tr>\n",
              "      <th>4</th>\n",
              "      <td>0.06905</td>\n",
              "      <td>0.0</td>\n",
              "      <td>2.18</td>\n",
              "      <td>0</td>\n",
              "      <td>0.458</td>\n",
              "      <td>7.147</td>\n",
              "      <td>54.2</td>\n",
              "      <td>6.0622</td>\n",
              "      <td>3</td>\n",
              "      <td>222.0</td>\n",
              "      <td>18.7</td>\n",
              "      <td>396.90</td>\n",
              "      <td>5.33</td>\n",
              "      <td>36.2</td>\n",
              "    </tr>\n",
              "    <tr>\n",
              "      <th>...</th>\n",
              "      <td>...</td>\n",
              "      <td>...</td>\n",
              "      <td>...</td>\n",
              "      <td>...</td>\n",
              "      <td>...</td>\n",
              "      <td>...</td>\n",
              "      <td>...</td>\n",
              "      <td>...</td>\n",
              "      <td>...</td>\n",
              "      <td>...</td>\n",
              "      <td>...</td>\n",
              "      <td>...</td>\n",
              "      <td>...</td>\n",
              "      <td>...</td>\n",
              "    </tr>\n",
              "    <tr>\n",
              "      <th>501</th>\n",
              "      <td>0.06263</td>\n",
              "      <td>0.0</td>\n",
              "      <td>11.93</td>\n",
              "      <td>0</td>\n",
              "      <td>0.573</td>\n",
              "      <td>6.593</td>\n",
              "      <td>69.1</td>\n",
              "      <td>2.4786</td>\n",
              "      <td>1</td>\n",
              "      <td>273.0</td>\n",
              "      <td>21.0</td>\n",
              "      <td>391.99</td>\n",
              "      <td>9.67</td>\n",
              "      <td>22.4</td>\n",
              "    </tr>\n",
              "    <tr>\n",
              "      <th>502</th>\n",
              "      <td>0.04527</td>\n",
              "      <td>0.0</td>\n",
              "      <td>11.93</td>\n",
              "      <td>0</td>\n",
              "      <td>0.573</td>\n",
              "      <td>6.120</td>\n",
              "      <td>76.7</td>\n",
              "      <td>2.2875</td>\n",
              "      <td>1</td>\n",
              "      <td>273.0</td>\n",
              "      <td>21.0</td>\n",
              "      <td>396.90</td>\n",
              "      <td>9.08</td>\n",
              "      <td>20.6</td>\n",
              "    </tr>\n",
              "    <tr>\n",
              "      <th>503</th>\n",
              "      <td>0.06076</td>\n",
              "      <td>0.0</td>\n",
              "      <td>11.93</td>\n",
              "      <td>0</td>\n",
              "      <td>0.573</td>\n",
              "      <td>6.976</td>\n",
              "      <td>91.0</td>\n",
              "      <td>2.1675</td>\n",
              "      <td>1</td>\n",
              "      <td>273.0</td>\n",
              "      <td>21.0</td>\n",
              "      <td>396.90</td>\n",
              "      <td>5.64</td>\n",
              "      <td>23.9</td>\n",
              "    </tr>\n",
              "    <tr>\n",
              "      <th>504</th>\n",
              "      <td>0.10959</td>\n",
              "      <td>0.0</td>\n",
              "      <td>11.93</td>\n",
              "      <td>0</td>\n",
              "      <td>0.573</td>\n",
              "      <td>6.794</td>\n",
              "      <td>89.3</td>\n",
              "      <td>2.3889</td>\n",
              "      <td>1</td>\n",
              "      <td>273.0</td>\n",
              "      <td>21.0</td>\n",
              "      <td>393.45</td>\n",
              "      <td>6.48</td>\n",
              "      <td>22.0</td>\n",
              "    </tr>\n",
              "    <tr>\n",
              "      <th>505</th>\n",
              "      <td>0.04741</td>\n",
              "      <td>0.0</td>\n",
              "      <td>11.93</td>\n",
              "      <td>0</td>\n",
              "      <td>0.573</td>\n",
              "      <td>6.030</td>\n",
              "      <td>80.8</td>\n",
              "      <td>2.5050</td>\n",
              "      <td>1</td>\n",
              "      <td>273.0</td>\n",
              "      <td>21.0</td>\n",
              "      <td>396.90</td>\n",
              "      <td>7.88</td>\n",
              "      <td>11.9</td>\n",
              "    </tr>\n",
              "  </tbody>\n",
              "</table>\n",
              "<p>506 rows × 14 columns</p>\n",
              "</div>"
            ],
            "text/plain": [
              "        CRIM    ZN  INDUS  CHAS    NOX  ...    TAX  PTRATIO       B  LSTAT  MEDV\n",
              "0    0.00632  18.0   2.31     0  0.538  ...  296.0     15.3  396.90   4.98  24.0\n",
              "1    0.02731   0.0   7.07     0  0.469  ...  242.0     17.8  396.90   9.14  21.6\n",
              "2    0.02729   0.0   7.07     0  0.469  ...  242.0     17.8  392.83   4.03  34.7\n",
              "3    0.03237   0.0   2.18     0  0.458  ...  222.0     18.7  394.63   2.94  33.4\n",
              "4    0.06905   0.0   2.18     0  0.458  ...  222.0     18.7  396.90   5.33  36.2\n",
              "..       ...   ...    ...   ...    ...  ...    ...      ...     ...    ...   ...\n",
              "501  0.06263   0.0  11.93     0  0.573  ...  273.0     21.0  391.99   9.67  22.4\n",
              "502  0.04527   0.0  11.93     0  0.573  ...  273.0     21.0  396.90   9.08  20.6\n",
              "503  0.06076   0.0  11.93     0  0.573  ...  273.0     21.0  396.90   5.64  23.9\n",
              "504  0.10959   0.0  11.93     0  0.573  ...  273.0     21.0  393.45   6.48  22.0\n",
              "505  0.04741   0.0  11.93     0  0.573  ...  273.0     21.0  396.90   7.88  11.9\n",
              "\n",
              "[506 rows x 14 columns]"
            ]
          },
          "metadata": {
            "tags": []
          },
          "execution_count": 21
        }
      ]
    },
    {
      "cell_type": "code",
      "metadata": {
        "id": "ozajj8jOfugP",
        "colab_type": "code",
        "colab": {}
      },
      "source": [
        "list(data_pd.columns).remove('MEDV')"
      ],
      "execution_count": 22,
      "outputs": []
    }
  ]
}