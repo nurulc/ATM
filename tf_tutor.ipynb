{
  "nbformat": 4,
  "nbformat_minor": 0,
  "metadata": {
    "colab": {
      "name": "tf-tutor.ipynb",
      "provenance": [],
      "collapsed_sections": [],
      "toc_visible": true,
      "mount_file_id": "1khniD3ToLJ8Cu1vfisUn--67Vz35fnqE",
      "authorship_tag": "ABX9TyNO9OCqXk+rWFL+gDLmo2Ke",
      "include_colab_link": true
    },
    "kernelspec": {
      "name": "python3",
      "display_name": "Python 3"
    }
  },
  "cells": [
    {
      "cell_type": "markdown",
      "metadata": {
        "id": "view-in-github",
        "colab_type": "text"
      },
      "source": [
        "<a href=\"https://colab.research.google.com/github/nurulc/ATM/blob/master/tf_tutor.ipynb\" target=\"_parent\"><img src=\"https://colab.research.google.com/assets/colab-badge.svg\" alt=\"Open In Colab\"/></a>"
      ]
    },
    {
      "cell_type": "code",
      "metadata": {
        "id": "ziH-agmfSefN",
        "colab_type": "code",
        "colab": {}
      },
      "source": [
        "import numpy as np\n",
        "from google.colab import drive\n",
        "import tensorflow_datasets as tfds\n",
        "import tensorflow as tf\n",
        "import os"
      ],
      "execution_count": 37,
      "outputs": []
    },
    {
      "cell_type": "markdown",
      "metadata": {
        "id": "9WoWUwtCSjSF",
        "colab_type": "text"
      },
      "source": [
        "# New Section"
      ]
    },
    {
      "cell_type": "code",
      "metadata": {
        "id": "7cFFBEhnSlzG",
        "colab_type": "code",
        "colab": {
          "base_uri": "https://localhost:8080/",
          "height": 191
        },
        "outputId": "ad86f784-8ff9-4d17-b9b0-ae2183a726fa"
      },
      "source": [
        "\n",
        "# drive.mount('content/gdrive')\n",
        "!head sample_data/housing-ma.csv"
      ],
      "execution_count": 38,
      "outputs": [
        {
          "output_type": "stream",
          "text": [
            "CRIM,ZN,INDUS,CHAS,NOX,RM,AGE,DIS,RAD,TAX,PTRATIO,B,LSTAT,MEDV\n",
            "0.00632,18.00,2.310,0,0.5380,6.5750,65.20,4.0900,1,296.0,15.30,396.90,4.98,24.00\n",
            "0.02731,0.00,7.070,0,0.4690,6.4210,78.90,4.9671,2,242.0,17.80,396.90,9.14,21.60\n",
            "0.02729,0.00,7.070,0,0.4690,7.1850,61.10,4.9671,2,242.0,17.80,392.83,4.03,34.70\n",
            "0.03237,0.00,2.180,0,0.4580,6.9980,45.80,6.0622,3,222.0,18.70,394.63,2.94,33.40\n",
            "0.06905,0.00,2.180,0,0.4580,7.1470,54.20,6.0622,3,222.0,18.70,396.90,5.33,36.20\n",
            "0.02985,0.00,2.180,0,0.4580,6.4300,58.70,6.0622,3,222.0,18.70,394.12,5.21,28.70\n",
            "0.08829,12.50,7.870,0,0.5240,6.0120,66.60,5.5605,5,311.0,15.20,395.60,12.43,22.90\n",
            "0.14455,12.50,7.870,0,0.5240,6.1720,96.10,5.9505,5,311.0,15.20,396.90,19.15,27.10\n",
            "0.21124,12.50,7.870,0,0.5240,5.6310,100.00,6.0821,5,311.0,15.20,386.63,29.93,16.50\n"
          ],
          "name": "stdout"
        }
      ]
    },
    {
      "cell_type": "code",
      "metadata": {
        "id": "9lthQr2IfhmQ",
        "colab_type": "code",
        "colab": {
          "base_uri": "https://localhost:8080/",
          "height": 415
        },
        "outputId": "b06c0ef7-b20e-4d10-87f0-1ff95ce7cd1c"
      },
      "source": [
        "import pandas as pd\n",
        "import io\n",
        "data_pd = pd.read_csv(io.FileIO('sample_data/housing-ma.csv'))\n",
        "data_pd\n"
      ],
      "execution_count": 62,
      "outputs": [
        {
          "output_type": "execute_result",
          "data": {
            "text/html": [
              "<div>\n",
              "<style scoped>\n",
              "    .dataframe tbody tr th:only-of-type {\n",
              "        vertical-align: middle;\n",
              "    }\n",
              "\n",
              "    .dataframe tbody tr th {\n",
              "        vertical-align: top;\n",
              "    }\n",
              "\n",
              "    .dataframe thead th {\n",
              "        text-align: right;\n",
              "    }\n",
              "</style>\n",
              "<table border=\"1\" class=\"dataframe\">\n",
              "  <thead>\n",
              "    <tr style=\"text-align: right;\">\n",
              "      <th></th>\n",
              "      <th>CRIM</th>\n",
              "      <th>ZN</th>\n",
              "      <th>INDUS</th>\n",
              "      <th>CHAS</th>\n",
              "      <th>NOX</th>\n",
              "      <th>RM</th>\n",
              "      <th>AGE</th>\n",
              "      <th>DIS</th>\n",
              "      <th>RAD</th>\n",
              "      <th>TAX</th>\n",
              "      <th>PTRATIO</th>\n",
              "      <th>B</th>\n",
              "      <th>LSTAT</th>\n",
              "      <th>MEDV</th>\n",
              "    </tr>\n",
              "  </thead>\n",
              "  <tbody>\n",
              "    <tr>\n",
              "      <th>0</th>\n",
              "      <td>0.00632</td>\n",
              "      <td>18.0</td>\n",
              "      <td>2.31</td>\n",
              "      <td>0</td>\n",
              "      <td>0.538</td>\n",
              "      <td>6.575</td>\n",
              "      <td>65.2</td>\n",
              "      <td>4.0900</td>\n",
              "      <td>1</td>\n",
              "      <td>296.0</td>\n",
              "      <td>15.3</td>\n",
              "      <td>396.90</td>\n",
              "      <td>4.98</td>\n",
              "      <td>24.0</td>\n",
              "    </tr>\n",
              "    <tr>\n",
              "      <th>1</th>\n",
              "      <td>0.02731</td>\n",
              "      <td>0.0</td>\n",
              "      <td>7.07</td>\n",
              "      <td>0</td>\n",
              "      <td>0.469</td>\n",
              "      <td>6.421</td>\n",
              "      <td>78.9</td>\n",
              "      <td>4.9671</td>\n",
              "      <td>2</td>\n",
              "      <td>242.0</td>\n",
              "      <td>17.8</td>\n",
              "      <td>396.90</td>\n",
              "      <td>9.14</td>\n",
              "      <td>21.6</td>\n",
              "    </tr>\n",
              "    <tr>\n",
              "      <th>2</th>\n",
              "      <td>0.02729</td>\n",
              "      <td>0.0</td>\n",
              "      <td>7.07</td>\n",
              "      <td>0</td>\n",
              "      <td>0.469</td>\n",
              "      <td>7.185</td>\n",
              "      <td>61.1</td>\n",
              "      <td>4.9671</td>\n",
              "      <td>2</td>\n",
              "      <td>242.0</td>\n",
              "      <td>17.8</td>\n",
              "      <td>392.83</td>\n",
              "      <td>4.03</td>\n",
              "      <td>34.7</td>\n",
              "    </tr>\n",
              "    <tr>\n",
              "      <th>3</th>\n",
              "      <td>0.03237</td>\n",
              "      <td>0.0</td>\n",
              "      <td>2.18</td>\n",
              "      <td>0</td>\n",
              "      <td>0.458</td>\n",
              "      <td>6.998</td>\n",
              "      <td>45.8</td>\n",
              "      <td>6.0622</td>\n",
              "      <td>3</td>\n",
              "      <td>222.0</td>\n",
              "      <td>18.7</td>\n",
              "      <td>394.63</td>\n",
              "      <td>2.94</td>\n",
              "      <td>33.4</td>\n",
              "    </tr>\n",
              "    <tr>\n",
              "      <th>4</th>\n",
              "      <td>0.06905</td>\n",
              "      <td>0.0</td>\n",
              "      <td>2.18</td>\n",
              "      <td>0</td>\n",
              "      <td>0.458</td>\n",
              "      <td>7.147</td>\n",
              "      <td>54.2</td>\n",
              "      <td>6.0622</td>\n",
              "      <td>3</td>\n",
              "      <td>222.0</td>\n",
              "      <td>18.7</td>\n",
              "      <td>396.90</td>\n",
              "      <td>5.33</td>\n",
              "      <td>36.2</td>\n",
              "    </tr>\n",
              "    <tr>\n",
              "      <th>...</th>\n",
              "      <td>...</td>\n",
              "      <td>...</td>\n",
              "      <td>...</td>\n",
              "      <td>...</td>\n",
              "      <td>...</td>\n",
              "      <td>...</td>\n",
              "      <td>...</td>\n",
              "      <td>...</td>\n",
              "      <td>...</td>\n",
              "      <td>...</td>\n",
              "      <td>...</td>\n",
              "      <td>...</td>\n",
              "      <td>...</td>\n",
              "      <td>...</td>\n",
              "    </tr>\n",
              "    <tr>\n",
              "      <th>501</th>\n",
              "      <td>0.06263</td>\n",
              "      <td>0.0</td>\n",
              "      <td>11.93</td>\n",
              "      <td>0</td>\n",
              "      <td>0.573</td>\n",
              "      <td>6.593</td>\n",
              "      <td>69.1</td>\n",
              "      <td>2.4786</td>\n",
              "      <td>1</td>\n",
              "      <td>273.0</td>\n",
              "      <td>21.0</td>\n",
              "      <td>391.99</td>\n",
              "      <td>9.67</td>\n",
              "      <td>22.4</td>\n",
              "    </tr>\n",
              "    <tr>\n",
              "      <th>502</th>\n",
              "      <td>0.04527</td>\n",
              "      <td>0.0</td>\n",
              "      <td>11.93</td>\n",
              "      <td>0</td>\n",
              "      <td>0.573</td>\n",
              "      <td>6.120</td>\n",
              "      <td>76.7</td>\n",
              "      <td>2.2875</td>\n",
              "      <td>1</td>\n",
              "      <td>273.0</td>\n",
              "      <td>21.0</td>\n",
              "      <td>396.90</td>\n",
              "      <td>9.08</td>\n",
              "      <td>20.6</td>\n",
              "    </tr>\n",
              "    <tr>\n",
              "      <th>503</th>\n",
              "      <td>0.06076</td>\n",
              "      <td>0.0</td>\n",
              "      <td>11.93</td>\n",
              "      <td>0</td>\n",
              "      <td>0.573</td>\n",
              "      <td>6.976</td>\n",
              "      <td>91.0</td>\n",
              "      <td>2.1675</td>\n",
              "      <td>1</td>\n",
              "      <td>273.0</td>\n",
              "      <td>21.0</td>\n",
              "      <td>396.90</td>\n",
              "      <td>5.64</td>\n",
              "      <td>23.9</td>\n",
              "    </tr>\n",
              "    <tr>\n",
              "      <th>504</th>\n",
              "      <td>0.10959</td>\n",
              "      <td>0.0</td>\n",
              "      <td>11.93</td>\n",
              "      <td>0</td>\n",
              "      <td>0.573</td>\n",
              "      <td>6.794</td>\n",
              "      <td>89.3</td>\n",
              "      <td>2.3889</td>\n",
              "      <td>1</td>\n",
              "      <td>273.0</td>\n",
              "      <td>21.0</td>\n",
              "      <td>393.45</td>\n",
              "      <td>6.48</td>\n",
              "      <td>22.0</td>\n",
              "    </tr>\n",
              "    <tr>\n",
              "      <th>505</th>\n",
              "      <td>0.04741</td>\n",
              "      <td>0.0</td>\n",
              "      <td>11.93</td>\n",
              "      <td>0</td>\n",
              "      <td>0.573</td>\n",
              "      <td>6.030</td>\n",
              "      <td>80.8</td>\n",
              "      <td>2.5050</td>\n",
              "      <td>1</td>\n",
              "      <td>273.0</td>\n",
              "      <td>21.0</td>\n",
              "      <td>396.90</td>\n",
              "      <td>7.88</td>\n",
              "      <td>11.9</td>\n",
              "    </tr>\n",
              "  </tbody>\n",
              "</table>\n",
              "<p>506 rows × 14 columns</p>\n",
              "</div>"
            ],
            "text/plain": [
              "        CRIM    ZN  INDUS  CHAS    NOX  ...    TAX  PTRATIO       B  LSTAT  MEDV\n",
              "0    0.00632  18.0   2.31     0  0.538  ...  296.0     15.3  396.90   4.98  24.0\n",
              "1    0.02731   0.0   7.07     0  0.469  ...  242.0     17.8  396.90   9.14  21.6\n",
              "2    0.02729   0.0   7.07     0  0.469  ...  242.0     17.8  392.83   4.03  34.7\n",
              "3    0.03237   0.0   2.18     0  0.458  ...  222.0     18.7  394.63   2.94  33.4\n",
              "4    0.06905   0.0   2.18     0  0.458  ...  222.0     18.7  396.90   5.33  36.2\n",
              "..       ...   ...    ...   ...    ...  ...    ...      ...     ...    ...   ...\n",
              "501  0.06263   0.0  11.93     0  0.573  ...  273.0     21.0  391.99   9.67  22.4\n",
              "502  0.04527   0.0  11.93     0  0.573  ...  273.0     21.0  396.90   9.08  20.6\n",
              "503  0.06076   0.0  11.93     0  0.573  ...  273.0     21.0  396.90   5.64  23.9\n",
              "504  0.10959   0.0  11.93     0  0.573  ...  273.0     21.0  393.45   6.48  22.0\n",
              "505  0.04741   0.0  11.93     0  0.573  ...  273.0     21.0  396.90   7.88  11.9\n",
              "\n",
              "[506 rows x 14 columns]"
            ]
          },
          "metadata": {
            "tags": []
          },
          "execution_count": 62
        }
      ]
    },
    {
      "cell_type": "code",
      "metadata": {
        "id": "e4CTqZRGuQ8l",
        "colab_type": "code",
        "colab": {}
      },
      "source": [
        "dtype=np.double\n",
        "def col_sort(t,col=0,descending=False):\n",
        "    return t[t[:, col].sort(descending=descending)[1]]\n",
        "\n"
      ],
      "execution_count": 97,
      "outputs": []
    },
    {
      "cell_type": "markdown",
      "metadata": {
        "id": "nbZT7IH3L8-C",
        "colab_type": "text"
      },
      "source": [
        "# Normalize the data\n",
        "\n",
        "For each column of X(data)  subtract the mean of the column \n",
        "\n",
        "This normalization maked the algoririthm more stable"
      ]
    },
    {
      "cell_type": "code",
      "metadata": {
        "id": "DKi4vn8sL3-2",
        "colab_type": "code",
        "colab": {}
      },
      "source": [
        "def norm(X):\n",
        "    R=(np.amax(X,0)-np.amin(X,0)).reshape(-1,1)\n",
        "    R[X.shape[1]-1][0] = 1.0\n",
        "    M=np.mean(X,0).reshape(-1,1)\n",
        "    M[X.shape[1]-1][0] = 0.0\n",
        "    Mv = M.dot(np.ones((1,X.shape[0]),dtype=dtype)).transpose()\n",
        "    Sc = R.dot(np.ones((1,X.shape[0]),dtype=dtype)).transpose()\n",
        "    return [(X-Mv)/Sc,R,M]"
      ],
      "execution_count": 140,
      "outputs": []
    },
    {
      "cell_type": "code",
      "metadata": {
        "id": "EqNt1a_2u_Ly",
        "colab_type": "code",
        "colab": {
          "base_uri": "https://localhost:8080/",
          "height": 139
        },
        "outputId": "95ce2ab2-e890-47f3-c8e6-37d58ac41e51"
      },
      "source": [
        "X1, Range, Mean = norm(X)\n",
        "np.abs((X1*Sc+Mv - X))<1e-10"
      ],
      "execution_count": 142,
      "outputs": [
        {
          "output_type": "execute_result",
          "data": {
            "text/plain": [
              "array([[ True,  True,  True, ...,  True,  True,  True],\n",
              "       [ True,  True,  True, ...,  True,  True,  True],\n",
              "       [ True,  True,  True, ...,  True,  True,  True],\n",
              "       ...,\n",
              "       [ True,  True,  True, ...,  True,  True,  True],\n",
              "       [ True,  True,  True, ...,  True,  True,  True],\n",
              "       [ True,  True,  True, ...,  True,  True,  True]])"
            ]
          },
          "metadata": {
            "tags": []
          },
          "execution_count": 142
        }
      ]
    },
    {
      "cell_type": "code",
      "metadata": {
        "colab_type": "code",
        "id": "cGI8X_LImmoB",
        "colab": {
          "base_uri": "https://localhost:8080/",
          "height": 607
        },
        "outputId": "28e285e6-7a9a-42ea-8d69-681b38c06e86"
      },
      "source": [
        "\n",
        "\n",
        "# !head sample_data/housing-ma.csv\n",
        "ones = np.ones\n",
        "cat = np.concatenate\n",
        "\n",
        "Z = data_pd.to_numpy(dtype=np.double,copy=True)\n",
        "m = X.shape[0] # m = number of rows of data\n",
        "n = X.shape[1]-1 # n = number of columns excluding the house price\n",
        "X = Z[:,0:n] # remove the house price (last column)\n",
        "\n",
        "Ones = ones(m,dtype=np.double).reshape(-1,1)\n",
        "X = cat((X,Ones),1) # add a 1 to each row (to compute the intercept)\n",
        "y = Z[:,n].reshape(-1,1) # get the house price\n",
        "phi = np.ones(n+1,dtype=np.double).reshape(-1,1) # initial value of phi\n",
        "print(\"initial phi\\n\", phi)\n",
        "print(\"input\\n\", X)\n",
        "\n",
        "print(\"house price (first 10)\\n\",y[0:10])\n"
      ],
      "execution_count": 144,
      "outputs": [
        {
          "output_type": "stream",
          "text": [
            "initial phi\n",
            " [[1.]\n",
            " [1.]\n",
            " [1.]\n",
            " [1.]\n",
            " [1.]\n",
            " [1.]\n",
            " [1.]\n",
            " [1.]\n",
            " [1.]\n",
            " [1.]\n",
            " [1.]\n",
            " [1.]\n",
            " [1.]\n",
            " [1.]]\n",
            "input\n",
            " [[  0.00632  18.        2.31    ... 396.9       4.98      1.     ]\n",
            " [  0.02731   0.        7.07    ... 396.9       9.14      1.     ]\n",
            " [  0.02729   0.        7.07    ... 392.83      4.03      1.     ]\n",
            " ...\n",
            " [  0.06076   0.       11.93    ... 396.9       5.64      1.     ]\n",
            " [  0.10959   0.       11.93    ... 393.45      6.48      1.     ]\n",
            " [  0.04741   0.       11.93    ... 396.9       7.88      1.     ]]\n",
            "house price (first 10)\n",
            " [[24. ]\n",
            " [21.6]\n",
            " [34.7]\n",
            " [33.4]\n",
            " [36.2]\n",
            " [28.7]\n",
            " [22.9]\n",
            " [27.1]\n",
            " [16.5]\n",
            " [18.9]]\n"
          ],
          "name": "stdout"
        }
      ]
    },
    {
      "cell_type": "markdown",
      "metadata": {
        "id": "kSLk57okruOU",
        "colab_type": "text"
      },
      "source": [
        "# Numpy Multivariate regression\n",
        "\n",
        "This method uses gradient descent to iteratively mimimize the cost function (MSE - mean standard error).\n",
        "\n",
        "## Iterative computation of parameters _phi_ (multi variable linear regression)\n",
        "\n",
        "$phi (\\phi) $ are the regression parematers\n",
        "\n",
        "*  find $\\phi$ that minimizes cost\n",
        "  *  *where:*    $Cost = MSE = \\frac{(X\\phi -y)^T(X\\phi -y)}{2m}$\n",
        "   * i.e. $\\frac{\\partial{Cost}}{\\partial\\phi} = X^T(X\\phi - y) = 0$\n",
        "   * by gradient descent we can compute successive values of $\\phi_j$ \n",
        "       * $  \\phi_j = \\phi_{j-1} - \\alpha X^T(X\\phi_{j-1} - y)$\n",
        "       * $\\alpha$ is the learning rate is a small scalar such as 0.05\n",
        "\n",
        "#### Where  \n",
        "*X* = input data of [$m \\times n$] matrix \n",
        "\n",
        "*  m = number of data rows, \n",
        "*  n = number of independent attributes of each data row\n",
        "\n",
        "*y* = output (house price), vector of length $m$\n",
        "\n",
        "_phi_ ($\\phi$) = regression coefficients\n",
        "and\n",
        "\n",
        "_Where_: X$\\phi$ (matrix multiply) = prediced house price\n",
        "\n",
        "$Predicted_i = \\sum_{j=1}^{n} X_{ij} * \\phi_j$"
      ]
    },
    {
      "cell_type": "code",
      "metadata": {
        "id": "IExVqhaNrsQU",
        "colab_type": "code",
        "colab": {}
      },
      "source": [
        "import math\n",
        "tr = np.transpose\n",
        "\n",
        "def cost(X,phi,Y):\n",
        "    m = X.shape[0];\n",
        "    return math.sqrt((1/(2*m))*(tr(X@(phi) - Y)@(X@phi - Y)).item())\n",
        "\n",
        "def npSolve(X,y,iter=2,alpha=0.05):\n",
        "    W, Range,Mean = norm(X) # normalize the data\n",
        "\n",
        "    phi = np.ones((X.shape[1],1),dtype=np.double)\n",
        "    cost_list = []\n",
        "    Y = y\n",
        "    m = X.shape[0]\n",
        "    \n",
        "    for i in range(iter):\n",
        "        delta = alpha*(1/m)*(tr(W))@(W@phi - Y) \n",
        "        phi = phi - delta\n",
        "        cost_val = cost(W,phi,Y)\n",
        "        cost_list.append(cost_val)\n",
        "        \n",
        "    intercept = np.zeros_like(Mean)\n",
        "    intercept[-1][0] = (phi*Mean/Range).sum().item()#Mean.transpose(0,1).mm(1.0/Range)\n",
        "    phi = phi/Range - intercept\n",
        "    return [phi,cost_list]    "
      ],
      "execution_count": 145,
      "outputs": []
    },
    {
      "cell_type": "markdown",
      "metadata": {
        "id": "wdRJ5rhG6PyU",
        "colab_type": "text"
      },
      "source": [
        "# Iterative computation of parameters _phi_ (multi variable linear regression)\n",
        "\n",
        "## Where  \n",
        "*X* = input data of [$m \\times n$] matrix \n",
        "\n",
        "*  m = number of data rows, \n",
        "*  n = number of independent attributes of each data row\n",
        "\n",
        "*y* = output (house price), vector of length $m$\n",
        "\n",
        "_phi_ ($\\phi$) = regression coefficients\n",
        "and\n",
        "\n",
        "_Where_: X$\\phi$ (matrix multiply) = prediced house price\n",
        "\n",
        "$Predicted_i = \\sum_{j=1}^{m} X[i,j] * \\phi_j$\n",
        "\n",
        "\n",
        "        "
      ]
    },
    {
      "cell_type": "code",
      "metadata": {
        "id": "eAw58JNr2l7t",
        "colab_type": "code",
        "colab": {
          "base_uri": "https://localhost:8080/",
          "height": 69
        },
        "outputId": "3058890c-d609-4e7b-be61-c818aac8c646"
      },
      "source": [
        "%%time\n",
        "phi,cost_list = npSolve(X,y,2000,0.5)\n",
        "print(cost(X,phi,y))"
      ],
      "execution_count": 148,
      "outputs": [
        {
          "output_type": "stream",
          "text": [
            "3.3086923215668995\n",
            "CPU times: user 53.1 ms, sys: 0 ns, total: 53.1 ms\n",
            "Wall time: 56.1 ms\n"
          ],
          "name": "stdout"
        }
      ]
    },
    {
      "cell_type": "markdown",
      "metadata": {
        "id": "7MUL1WJw0Mad",
        "colab_type": "text"
      },
      "source": [
        "## Perform Multivariate regression (directly - no itteration)\n",
        "\n",
        "\n"
      ]
    },
    {
      "cell_type": "code",
      "metadata": {
        "id": "JhGbiV6E0J7N",
        "colab_type": "code",
        "colab": {
          "base_uri": "https://localhost:8080/",
          "height": 69
        },
        "outputId": "3d7e6280-d5e1-464b-cc1d-531b63b1c1c8"
      },
      "source": [
        "%%time\n",
        "\n",
        "inv = np.linalg.inv # invert a matrix\n",
        "tr = np.transpose   # transpose a matrix\n",
        "\n",
        "phi2 = inv(tr(X)@X) @ (tr(X)@y)\n",
        "#[phi,phi2, cost(X,phi2,y)-cost(X,phi,y), np.abs((phi-phi2)/phi*100)]\n",
        "print(\"cost=\", cost(X,phi2,y),\"diff = \", cost(X,phi,y)-cost(X,phi2,y)) # compare the cost of direct method and iterative method"
      ],
      "execution_count": 153,
      "outputs": [
        {
          "output_type": "stream",
          "text": [
            "cost= 3.308687895656616 diff =  4.425910283600842e-06\n",
            "CPU times: user 3.25 ms, sys: 1.96 ms, total: 5.21 ms\n",
            "Wall time: 4.95 ms\n"
          ],
          "name": "stdout"
        }
      ]
    },
    {
      "cell_type": "markdown",
      "metadata": {
        "id": "ZLbyHSLDzpsN",
        "colab_type": "text"
      },
      "source": [
        "## Ignore the rest of this\n"
      ]
    },
    {
      "cell_type": "code",
      "metadata": {
        "colab_type": "code",
        "id": "2ha4M9Kimk5w",
        "colab": {}
      },
      "source": [
        "\n"
      ],
      "execution_count": 110,
      "outputs": []
    },
    {
      "cell_type": "code",
      "metadata": {
        "id": "V8yMGKXagLMr",
        "colab_type": "code",
        "colab": {
          "base_uri": "https://localhost:8080/",
          "height": 55
        },
        "outputId": "8fec464f-0abe-4558-c272-395f5ef00ffd"
      },
      "source": [
        "def show_batch(dataset):\n",
        "  for batch, label in dataset.take(1):\n",
        "    for key, value in batch.items():\n",
        "      print(\"{:20s}: {}\".format(key,value.numpy()))\n",
        "\n",
        "v1 = data.take(1)\n",
        "v1"
      ],
      "execution_count": 51,
      "outputs": [
        {
          "output_type": "execute_result",
          "data": {
            "text/plain": [
              "<TakeDataset shapes: OrderedDict([(CRIM, (5,)), (ZN, (5,)), (INDUS, (5,)), (CHAS, (5,)), (NOX, (5,)), (RM, (5,)), (AGE, (5,)), (DIS, (5,)), (RAD, (5,)), (TAX, (5,)), (PTRATIO, (5,)), (B, (5,)), (LSTAT, (5,)), (MEDV, (5,))]), types: OrderedDict([(CRIM, tf.float32), (ZN, tf.float32), (INDUS, tf.float32), (CHAS, tf.int32), (NOX, tf.float32), (RM, tf.float32), (AGE, tf.float32), (DIS, tf.float32), (RAD, tf.int32), (TAX, tf.float32), (PTRATIO, tf.float32), (B, tf.float32), (LSTAT, tf.float32), (MEDV, tf.float32)])>"
            ]
          },
          "metadata": {
            "tags": []
          },
          "execution_count": 51
        }
      ]
    },
    {
      "cell_type": "code",
      "metadata": {
        "id": "iPFACHLCiR03",
        "colab_type": "code",
        "colab": {}
      },
      "source": [
        "TRAIN_DATA_URL = \"https://storage.googleapis.com/tf-datasets/titanic/train.csv\"\n",
        "TEST_DATA_URL = \"https://storage.googleapis.com/tf-datasets/titanic/eval.csv\"\n",
        "\n",
        "train_file_path = tf.keras.utils.get_file(\"train.csv\", TRAIN_DATA_URL)\n",
        "test_file_path = tf.keras.utils.get_file(\"eval.csv\", TEST_DATA_URL)"
      ],
      "execution_count": 41,
      "outputs": []
    },
    {
      "cell_type": "code",
      "metadata": {
        "id": "Gzpdlf8JieRk",
        "colab_type": "code",
        "colab": {}
      },
      "source": [
        "# Make numpy values easier to read.\n",
        "np.set_printoptions(precision=6, suppress=True)"
      ],
      "execution_count": 104,
      "outputs": []
    },
    {
      "cell_type": "code",
      "metadata": {
        "id": "qCiNFWOAismc",
        "colab_type": "code",
        "colab": {
          "base_uri": "https://localhost:8080/",
          "height": 191
        },
        "outputId": "fff91034-f743-4d11-b24a-5ed230525425"
      },
      "source": [
        "!head {train_file_path}\n",
        "LABEL_COLUMN = 'survived'\n",
        "LABELS = [0, 1]\n",
        "def get_dataset(file_path, **kwargs):\n",
        "  dataset = tf.data.experimental.make_csv_dataset(\n",
        "      file_path,\n",
        "      batch_size=5, # Artificially small to make examples easier to show.\n",
        "      label_name=LABEL_COLUMN,\n",
        "      na_value=\"?\",\n",
        "      num_epochs=1,\n",
        "      ignore_errors=True, \n",
        "      **kwargs)\n",
        "  return dataset\n",
        "\n",
        "raw_train_data = get_dataset(train_file_path)\n",
        "raw_test_data = get_dataset(test_file_path)"
      ],
      "execution_count": 48,
      "outputs": [
        {
          "output_type": "stream",
          "text": [
            "survived,sex,age,n_siblings_spouses,parch,fare,class,deck,embark_town,alone\n",
            "0,male,22.0,1,0,7.25,Third,unknown,Southampton,n\n",
            "1,female,38.0,1,0,71.2833,First,C,Cherbourg,n\n",
            "1,female,26.0,0,0,7.925,Third,unknown,Southampton,y\n",
            "1,female,35.0,1,0,53.1,First,C,Southampton,n\n",
            "0,male,28.0,0,0,8.4583,Third,unknown,Queenstown,y\n",
            "0,male,2.0,3,1,21.075,Third,unknown,Southampton,n\n",
            "1,female,27.0,0,2,11.1333,Third,unknown,Southampton,n\n",
            "1,female,14.0,1,0,30.0708,Second,unknown,Cherbourg,n\n",
            "1,female,4.0,1,1,16.7,Third,G,Southampton,n\n"
          ],
          "name": "stdout"
        }
      ]
    },
    {
      "cell_type": "code",
      "metadata": {
        "id": "qkyXhayTkQKM",
        "colab_type": "code",
        "colab": {
          "base_uri": "https://localhost:8080/",
          "height": 173
        },
        "outputId": "fd87a534-e32e-4bc4-c097-d683e144b3d7"
      },
      "source": [
        "show_batch(raw_train_data)"
      ],
      "execution_count": 49,
      "outputs": [
        {
          "output_type": "stream",
          "text": [
            "sex                 : [b'male' b'male' b'male' b'female' b'male']\n",
            "age                 : [29. 28.  2. 31. 18.]\n",
            "n_siblings_spouses  : [1 0 4 1 0]\n",
            "parch               : [0 1 1 1 0]\n",
            "fare                : [27.721 33.    29.125 26.25  11.5  ]\n",
            "class               : [b'Second' b'Second' b'Third' b'Second' b'Second']\n",
            "deck                : [b'unknown' b'unknown' b'unknown' b'unknown' b'unknown']\n",
            "embark_town         : [b'Cherbourg' b'Southampton' b'Queenstown' b'Southampton' b'Southampton']\n",
            "alone               : [b'n' b'n' b'n' b'n' b'y']\n"
          ],
          "name": "stdout"
        }
      ]
    },
    {
      "cell_type": "markdown",
      "metadata": {
        "id": "kDdayCgZjVQd",
        "colab_type": "text"
      },
      "source": [
        "# New Section"
      ]
    }
  ]
}