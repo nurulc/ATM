{
  "nbformat": 4,
  "nbformat_minor": 0,
  "metadata": {
    "colab": {
      "name": "tf-tutor.ipynb",
      "provenance": [],
      "collapsed_sections": [],
      "mount_file_id": "1khniD3ToLJ8Cu1vfisUn--67Vz35fnqE",
      "authorship_tag": "ABX9TyPXk+UhoylZXl3P9zn1fZlt",
      "include_colab_link": true
    },
    "kernelspec": {
      "name": "python3",
      "display_name": "Python 3"
    }
  },
  "cells": [
    {
      "cell_type": "markdown",
      "metadata": {
        "id": "view-in-github",
        "colab_type": "text"
      },
      "source": [
        "<a href=\"https://colab.research.google.com/github/nurulc/ATM/blob/master/tf_tutor.ipynb\" target=\"_parent\"><img src=\"https://colab.research.google.com/assets/colab-badge.svg\" alt=\"Open In Colab\"/></a>"
      ]
    },
    {
      "cell_type": "code",
      "metadata": {
        "id": "ziH-agmfSefN",
        "colab_type": "code",
        "colab": {}
      },
      "source": [
        "import numpy as np\n",
        "from google.colab import drive\n",
        "\n",
        "import altair as alt\n",
        "\n",
        "import os"
      ],
      "execution_count": 1,
      "outputs": []
    },
    {
      "cell_type": "code",
      "metadata": {
        "id": "x9XCM-DPMBEq",
        "colab_type": "code",
        "colab": {}
      },
      "source": [
        ""
      ],
      "execution_count": 1,
      "outputs": []
    },
    {
      "cell_type": "code",
      "metadata": {
        "id": "Fx6y_4eEIO4Z",
        "colab_type": "code",
        "colab": {
          "base_uri": "https://localhost:8080/",
          "height": 35
        },
        "outputId": "27936a13-dc3e-4f59-fcbc-58cae28f6d1f"
      },
      "source": [
        "![[ -f housing-ma.csv.1 ]] || echo no"
      ],
      "execution_count": 2,
      "outputs": [
        {
          "output_type": "stream",
          "text": [
            "no\n"
          ],
          "name": "stdout"
        }
      ]
    },
    {
      "cell_type": "markdown",
      "metadata": {
        "id": "9WoWUwtCSjSF",
        "colab_type": "text"
      },
      "source": [
        "# Read MA Housing data"
      ]
    },
    {
      "cell_type": "code",
      "metadata": {
        "id": "7cFFBEhnSlzG",
        "colab_type": "code",
        "colab": {
          "base_uri": "https://localhost:8080/",
          "height": 191
        },
        "outputId": "60d51605-f251-47a7-c47a-1ead6b2838a6"
      },
      "source": [
        "\n",
        "#drive.mount('content/gdrive')\n",
        "# !head drive/My\\ Drive/housing-ma.csv\n",
        "#!head \"/content/drive/My Drive/Colab Notebooks/Copy of tf-tutor.ipynb\"\n",
        "\n",
        "![[ -f housing-ma.csv ]] || wget https://raw.githubusercontent.com/nurulc/ATM/master/housing-ma.csv \n",
        "\n",
        "!head housing-ma.csv\n",
        "\n"
      ],
      "execution_count": 3,
      "outputs": [
        {
          "output_type": "stream",
          "text": [
            "CRIM,ZN,INDUS,CHAS,NOX,RM,AGE,DIS,RAD,TAX,PTRATIO,B,LSTAT,MEDV\n",
            "0.00632,18.00,2.310,0,0.5380,6.5750,65.20,4.0900,1,296.0,15.30,396.90,4.98,24.00\n",
            "0.02731,0.00,7.070,0,0.4690,6.4210,78.90,4.9671,2,242.0,17.80,396.90,9.14,21.60\n",
            "0.02729,0.00,7.070,0,0.4690,7.1850,61.10,4.9671,2,242.0,17.80,392.83,4.03,34.70\n",
            "0.03237,0.00,2.180,0,0.4580,6.9980,45.80,6.0622,3,222.0,18.70,394.63,2.94,33.40\n",
            "0.06905,0.00,2.180,0,0.4580,7.1470,54.20,6.0622,3,222.0,18.70,396.90,5.33,36.20\n",
            "0.02985,0.00,2.180,0,0.4580,6.4300,58.70,6.0622,3,222.0,18.70,394.12,5.21,28.70\n",
            "0.08829,12.50,7.870,0,0.5240,6.0120,66.60,5.5605,5,311.0,15.20,395.60,12.43,22.90\n",
            "0.14455,12.50,7.870,0,0.5240,6.1720,96.10,5.9505,5,311.0,15.20,396.90,19.15,27.10\n",
            "0.21124,12.50,7.870,0,0.5240,5.6310,100.00,6.0821,5,311.0,15.20,386.63,29.93,16.50\n"
          ],
          "name": "stdout"
        }
      ]
    },
    {
      "cell_type": "code",
      "metadata": {
        "id": "mTNBo--8-RsO",
        "colab_type": "code",
        "colab": {
          "base_uri": "https://localhost:8080/",
          "height": 35
        },
        "outputId": "cbcbed79-7395-45f0-f850-b08e0d362b74"
      },
      "source": [
        "!ls\n"
      ],
      "execution_count": 4,
      "outputs": [
        {
          "output_type": "stream",
          "text": [
            "drive  gdrive  housing-ma.csv  sample_data\n"
          ],
          "name": "stdout"
        }
      ]
    },
    {
      "cell_type": "markdown",
      "metadata": {
        "id": "1tURubCPJ8Xc",
        "colab_type": "text"
      },
      "source": [
        "# Read MA housing data into a pandas table"
      ]
    },
    {
      "cell_type": "code",
      "metadata": {
        "id": "9lthQr2IfhmQ",
        "colab_type": "code",
        "colab": {
          "base_uri": "https://localhost:8080/",
          "height": 415
        },
        "outputId": "c5496791-5b0d-4f2f-eb82-cd7238b5f778"
      },
      "source": [
        "import pandas as pd\n",
        "import io\n",
        "data_pd = pd.read_csv(io.FileIO('housing-ma.csv'))\n",
        "data_pd\n"
      ],
      "execution_count": 5,
      "outputs": [
        {
          "output_type": "execute_result",
          "data": {
            "text/html": [
              "<div>\n",
              "<style scoped>\n",
              "    .dataframe tbody tr th:only-of-type {\n",
              "        vertical-align: middle;\n",
              "    }\n",
              "\n",
              "    .dataframe tbody tr th {\n",
              "        vertical-align: top;\n",
              "    }\n",
              "\n",
              "    .dataframe thead th {\n",
              "        text-align: right;\n",
              "    }\n",
              "</style>\n",
              "<table border=\"1\" class=\"dataframe\">\n",
              "  <thead>\n",
              "    <tr style=\"text-align: right;\">\n",
              "      <th></th>\n",
              "      <th>CRIM</th>\n",
              "      <th>ZN</th>\n",
              "      <th>INDUS</th>\n",
              "      <th>CHAS</th>\n",
              "      <th>NOX</th>\n",
              "      <th>RM</th>\n",
              "      <th>AGE</th>\n",
              "      <th>DIS</th>\n",
              "      <th>RAD</th>\n",
              "      <th>TAX</th>\n",
              "      <th>PTRATIO</th>\n",
              "      <th>B</th>\n",
              "      <th>LSTAT</th>\n",
              "      <th>MEDV</th>\n",
              "    </tr>\n",
              "  </thead>\n",
              "  <tbody>\n",
              "    <tr>\n",
              "      <th>0</th>\n",
              "      <td>0.00632</td>\n",
              "      <td>18.0</td>\n",
              "      <td>2.31</td>\n",
              "      <td>0</td>\n",
              "      <td>0.538</td>\n",
              "      <td>6.575</td>\n",
              "      <td>65.2</td>\n",
              "      <td>4.0900</td>\n",
              "      <td>1</td>\n",
              "      <td>296.0</td>\n",
              "      <td>15.3</td>\n",
              "      <td>396.90</td>\n",
              "      <td>4.98</td>\n",
              "      <td>24.0</td>\n",
              "    </tr>\n",
              "    <tr>\n",
              "      <th>1</th>\n",
              "      <td>0.02731</td>\n",
              "      <td>0.0</td>\n",
              "      <td>7.07</td>\n",
              "      <td>0</td>\n",
              "      <td>0.469</td>\n",
              "      <td>6.421</td>\n",
              "      <td>78.9</td>\n",
              "      <td>4.9671</td>\n",
              "      <td>2</td>\n",
              "      <td>242.0</td>\n",
              "      <td>17.8</td>\n",
              "      <td>396.90</td>\n",
              "      <td>9.14</td>\n",
              "      <td>21.6</td>\n",
              "    </tr>\n",
              "    <tr>\n",
              "      <th>2</th>\n",
              "      <td>0.02729</td>\n",
              "      <td>0.0</td>\n",
              "      <td>7.07</td>\n",
              "      <td>0</td>\n",
              "      <td>0.469</td>\n",
              "      <td>7.185</td>\n",
              "      <td>61.1</td>\n",
              "      <td>4.9671</td>\n",
              "      <td>2</td>\n",
              "      <td>242.0</td>\n",
              "      <td>17.8</td>\n",
              "      <td>392.83</td>\n",
              "      <td>4.03</td>\n",
              "      <td>34.7</td>\n",
              "    </tr>\n",
              "    <tr>\n",
              "      <th>3</th>\n",
              "      <td>0.03237</td>\n",
              "      <td>0.0</td>\n",
              "      <td>2.18</td>\n",
              "      <td>0</td>\n",
              "      <td>0.458</td>\n",
              "      <td>6.998</td>\n",
              "      <td>45.8</td>\n",
              "      <td>6.0622</td>\n",
              "      <td>3</td>\n",
              "      <td>222.0</td>\n",
              "      <td>18.7</td>\n",
              "      <td>394.63</td>\n",
              "      <td>2.94</td>\n",
              "      <td>33.4</td>\n",
              "    </tr>\n",
              "    <tr>\n",
              "      <th>4</th>\n",
              "      <td>0.06905</td>\n",
              "      <td>0.0</td>\n",
              "      <td>2.18</td>\n",
              "      <td>0</td>\n",
              "      <td>0.458</td>\n",
              "      <td>7.147</td>\n",
              "      <td>54.2</td>\n",
              "      <td>6.0622</td>\n",
              "      <td>3</td>\n",
              "      <td>222.0</td>\n",
              "      <td>18.7</td>\n",
              "      <td>396.90</td>\n",
              "      <td>5.33</td>\n",
              "      <td>36.2</td>\n",
              "    </tr>\n",
              "    <tr>\n",
              "      <th>...</th>\n",
              "      <td>...</td>\n",
              "      <td>...</td>\n",
              "      <td>...</td>\n",
              "      <td>...</td>\n",
              "      <td>...</td>\n",
              "      <td>...</td>\n",
              "      <td>...</td>\n",
              "      <td>...</td>\n",
              "      <td>...</td>\n",
              "      <td>...</td>\n",
              "      <td>...</td>\n",
              "      <td>...</td>\n",
              "      <td>...</td>\n",
              "      <td>...</td>\n",
              "    </tr>\n",
              "    <tr>\n",
              "      <th>501</th>\n",
              "      <td>0.06263</td>\n",
              "      <td>0.0</td>\n",
              "      <td>11.93</td>\n",
              "      <td>0</td>\n",
              "      <td>0.573</td>\n",
              "      <td>6.593</td>\n",
              "      <td>69.1</td>\n",
              "      <td>2.4786</td>\n",
              "      <td>1</td>\n",
              "      <td>273.0</td>\n",
              "      <td>21.0</td>\n",
              "      <td>391.99</td>\n",
              "      <td>9.67</td>\n",
              "      <td>22.4</td>\n",
              "    </tr>\n",
              "    <tr>\n",
              "      <th>502</th>\n",
              "      <td>0.04527</td>\n",
              "      <td>0.0</td>\n",
              "      <td>11.93</td>\n",
              "      <td>0</td>\n",
              "      <td>0.573</td>\n",
              "      <td>6.120</td>\n",
              "      <td>76.7</td>\n",
              "      <td>2.2875</td>\n",
              "      <td>1</td>\n",
              "      <td>273.0</td>\n",
              "      <td>21.0</td>\n",
              "      <td>396.90</td>\n",
              "      <td>9.08</td>\n",
              "      <td>20.6</td>\n",
              "    </tr>\n",
              "    <tr>\n",
              "      <th>503</th>\n",
              "      <td>0.06076</td>\n",
              "      <td>0.0</td>\n",
              "      <td>11.93</td>\n",
              "      <td>0</td>\n",
              "      <td>0.573</td>\n",
              "      <td>6.976</td>\n",
              "      <td>91.0</td>\n",
              "      <td>2.1675</td>\n",
              "      <td>1</td>\n",
              "      <td>273.0</td>\n",
              "      <td>21.0</td>\n",
              "      <td>396.90</td>\n",
              "      <td>5.64</td>\n",
              "      <td>23.9</td>\n",
              "    </tr>\n",
              "    <tr>\n",
              "      <th>504</th>\n",
              "      <td>0.10959</td>\n",
              "      <td>0.0</td>\n",
              "      <td>11.93</td>\n",
              "      <td>0</td>\n",
              "      <td>0.573</td>\n",
              "      <td>6.794</td>\n",
              "      <td>89.3</td>\n",
              "      <td>2.3889</td>\n",
              "      <td>1</td>\n",
              "      <td>273.0</td>\n",
              "      <td>21.0</td>\n",
              "      <td>393.45</td>\n",
              "      <td>6.48</td>\n",
              "      <td>22.0</td>\n",
              "    </tr>\n",
              "    <tr>\n",
              "      <th>505</th>\n",
              "      <td>0.04741</td>\n",
              "      <td>0.0</td>\n",
              "      <td>11.93</td>\n",
              "      <td>0</td>\n",
              "      <td>0.573</td>\n",
              "      <td>6.030</td>\n",
              "      <td>80.8</td>\n",
              "      <td>2.5050</td>\n",
              "      <td>1</td>\n",
              "      <td>273.0</td>\n",
              "      <td>21.0</td>\n",
              "      <td>396.90</td>\n",
              "      <td>7.88</td>\n",
              "      <td>11.9</td>\n",
              "    </tr>\n",
              "  </tbody>\n",
              "</table>\n",
              "<p>506 rows × 14 columns</p>\n",
              "</div>"
            ],
            "text/plain": [
              "        CRIM    ZN  INDUS  CHAS    NOX  ...    TAX  PTRATIO       B  LSTAT  MEDV\n",
              "0    0.00632  18.0   2.31     0  0.538  ...  296.0     15.3  396.90   4.98  24.0\n",
              "1    0.02731   0.0   7.07     0  0.469  ...  242.0     17.8  396.90   9.14  21.6\n",
              "2    0.02729   0.0   7.07     0  0.469  ...  242.0     17.8  392.83   4.03  34.7\n",
              "3    0.03237   0.0   2.18     0  0.458  ...  222.0     18.7  394.63   2.94  33.4\n",
              "4    0.06905   0.0   2.18     0  0.458  ...  222.0     18.7  396.90   5.33  36.2\n",
              "..       ...   ...    ...   ...    ...  ...    ...      ...     ...    ...   ...\n",
              "501  0.06263   0.0  11.93     0  0.573  ...  273.0     21.0  391.99   9.67  22.4\n",
              "502  0.04527   0.0  11.93     0  0.573  ...  273.0     21.0  396.90   9.08  20.6\n",
              "503  0.06076   0.0  11.93     0  0.573  ...  273.0     21.0  396.90   5.64  23.9\n",
              "504  0.10959   0.0  11.93     0  0.573  ...  273.0     21.0  393.45   6.48  22.0\n",
              "505  0.04741   0.0  11.93     0  0.573  ...  273.0     21.0  396.90   7.88  11.9\n",
              "\n",
              "[506 rows x 14 columns]"
            ]
          },
          "metadata": {
            "tags": []
          },
          "execution_count": 5
        }
      ]
    },
    {
      "cell_type": "code",
      "metadata": {
        "id": "e4CTqZRGuQ8l",
        "colab_type": "code",
        "colab": {}
      },
      "source": [
        "dtype=np.double\n",
        "def col_sort(t,col=0,descending=False):\n",
        "    return t[t[:, col].sort(descending=descending)[1]]\n",
        "\n"
      ],
      "execution_count": 6,
      "outputs": []
    },
    {
      "cell_type": "markdown",
      "metadata": {
        "id": "nbZT7IH3L8-C",
        "colab_type": "text"
      },
      "source": [
        "# Normalize the data (function)\n",
        "\n",
        "For each column of X(data)  subtract the mean of the column and scale by the range $$(highest - lowest)$$\n",
        "\n",
        "This normalization maked the algoririthm more stable\n",
        "\n",
        "> _Note:_ <span color=\"red\">Do not mormalize the price column (MEDV)</span>"
      ]
    },
    {
      "cell_type": "code",
      "metadata": {
        "id": "DKi4vn8sL3-2",
        "colab_type": "code",
        "colab": {}
      },
      "source": [
        "def norm(X):\n",
        "    R=(np.amax(X,0)-np.amin(X,0)).reshape(-1,1)\n",
        "    R[X.shape[1]-1][0] = 1.0\n",
        "    M=np.mean(X,0).reshape(-1,1)\n",
        "    M[X.shape[1]-1][0] = 0.0\n",
        "    Mv = M.dot(np.ones((1,X.shape[0]),dtype=dtype)).transpose()\n",
        "    Sc = R.dot(np.ones((1,X.shape[0]),dtype=dtype)).transpose()\n",
        "    return [(X-Mv)/Sc,R,M]"
      ],
      "execution_count": 7,
      "outputs": []
    },
    {
      "cell_type": "markdown",
      "metadata": {
        "id": "260TNv_M_08b",
        "colab_type": "text"
      },
      "source": [
        "# Setup MA housing data for regression\n",
        "\n",
        "1. Convert pandas data to numpy\n",
        "2. Place in X all the columns except the price\n",
        "3. Add a '1's column to X _(this is to incorporate the intercept)_\n",
        "4. Put into y the house prices where $y_i$ price corresponding to row $X_i$ \n",
        "5. Initialize $\\phi$ with '1's\n"
      ]
    },
    {
      "cell_type": "code",
      "metadata": {
        "colab_type": "code",
        "id": "cGI8X_LImmoB",
        "colab": {
          "base_uri": "https://localhost:8080/",
          "height": 607
        },
        "outputId": "48c597a7-c199-484a-ec4c-5541f8edfe14"
      },
      "source": [
        "\n",
        "\n",
        "# !head sample_data/housing-ma.csv\n",
        "ones = np.ones\n",
        "cat = np.concatenate\n",
        "\n",
        "Z = data_pd.to_numpy(dtype=np.double,copy=True)\n",
        "m = Z.shape[0] # m = number of rows of data\n",
        "n = Z.shape[1]-1 # n = number of columns excluding the house price\n",
        "X = Z[:,0:n] # remove the house price (last column)\n",
        "\n",
        "Ones = ones(m,dtype=np.double).reshape(-1,1)\n",
        "X = cat((X,Ones),1) # add a 1 to each row (to compute the intercept)\n",
        "y = Z[:,n].reshape(-1,1) # get the house price\n",
        "phi = np.ones(n+1,dtype=np.double).reshape(-1,1) # initial value of phi\n",
        "print(\"initial phi\\n\", phi)\n",
        "print(\"input\\n\", X)\n",
        "\n",
        "print(\"house price (first 10)\\n\",y[0:10])\n"
      ],
      "execution_count": 8,
      "outputs": [
        {
          "output_type": "stream",
          "text": [
            "initial phi\n",
            " [[1.]\n",
            " [1.]\n",
            " [1.]\n",
            " [1.]\n",
            " [1.]\n",
            " [1.]\n",
            " [1.]\n",
            " [1.]\n",
            " [1.]\n",
            " [1.]\n",
            " [1.]\n",
            " [1.]\n",
            " [1.]\n",
            " [1.]]\n",
            "input\n",
            " [[6.3200e-03 1.8000e+01 2.3100e+00 ... 3.9690e+02 4.9800e+00 1.0000e+00]\n",
            " [2.7310e-02 0.0000e+00 7.0700e+00 ... 3.9690e+02 9.1400e+00 1.0000e+00]\n",
            " [2.7290e-02 0.0000e+00 7.0700e+00 ... 3.9283e+02 4.0300e+00 1.0000e+00]\n",
            " ...\n",
            " [6.0760e-02 0.0000e+00 1.1930e+01 ... 3.9690e+02 5.6400e+00 1.0000e+00]\n",
            " [1.0959e-01 0.0000e+00 1.1930e+01 ... 3.9345e+02 6.4800e+00 1.0000e+00]\n",
            " [4.7410e-02 0.0000e+00 1.1930e+01 ... 3.9690e+02 7.8800e+00 1.0000e+00]]\n",
            "house price (first 10)\n",
            " [[24. ]\n",
            " [21.6]\n",
            " [34.7]\n",
            " [33.4]\n",
            " [36.2]\n",
            " [28.7]\n",
            " [22.9]\n",
            " [27.1]\n",
            " [16.5]\n",
            " [18.9]]\n"
          ],
          "name": "stdout"
        }
      ]
    },
    {
      "cell_type": "markdown",
      "metadata": {
        "id": "kSLk57okruOU",
        "colab_type": "text"
      },
      "source": [
        "# Numpy Multivariate regression\n",
        "\n",
        "This method uses gradient descent to iteratively mimimize the cost function (MSE - mean standard error).\n",
        "\n",
        "## Iterative computation of parameters _phi_ (multi variable linear regression)\n",
        "\n",
        "$phi (\\phi) $ are the regression parematers\n",
        "\n",
        "*  find $\\phi$ that minimizes cost\n",
        "  *  *where:*    $Cost^2 = MSE = \\frac{(X\\phi -y)^T(X\\phi -y)}{2m}$\n",
        "   * $\\phi$ is a minimum when $\\frac{\\partial{(Cost^2)}}{\\partial\\phi} = 0$\n",
        "   * i.e. $\\frac{\\partial{(Cost^2)}}{\\partial\\phi} = \\frac{X^T(X\\phi - y)}{m} = 0$\n",
        "   * by gradient descent we can compute successive values of $\\phi_j$ \n",
        "       * $  \\phi_j = \\phi_{j-1} - \\alpha \\frac{\\partial{(Cost^2)}}{\\partial\\phi}$\n",
        "       * Resulting in the following:\n",
        "          * $  \\phi_j = \\phi_{j-1} - \\alpha X^T(X\\phi_{j-1} - y)$\n",
        "          * $\\alpha$ is the learning rate is a small scalar such as 0.05\n",
        "\n",
        "#### Where  \n",
        "*X* = input data of [$m \\times n$] matrix \n",
        "\n",
        "*  m = number of data rows, \n",
        "*  n = number of independent attributes of each data row\n",
        "\n",
        "*y* = output (house price), vector of length $m$\n",
        "\n",
        "_phi_ ($\\phi$) = regression coefficients\n",
        "and\n",
        "\n",
        "_Where_: X$\\phi$ (matrix multiply) = prediced house price\n",
        "\n",
        "$Predicted_i = \\sum_{j=1}^{n} X_{ij} * \\phi_j$"
      ]
    },
    {
      "cell_type": "code",
      "metadata": {
        "id": "MDrMhFx0B7vY",
        "colab_type": "code",
        "colab": {}
      },
      "source": [
        "import math\n",
        "tr = np.transpose\n",
        "\n",
        "def cost(X,phi,Y):\n",
        "    m = X.shape[0];\n",
        "    return math.sqrt((1/(2*m))*(tr(X@phi - Y)@(X@phi - Y)).item())"
      ],
      "execution_count": 9,
      "outputs": []
    },
    {
      "cell_type": "markdown",
      "metadata": {
        "id": "wKdgwRiODsDn",
        "colab_type": "text"
      },
      "source": [
        "# Gradient decent for finding $\\phi$ to minimise cost"
      ]
    },
    {
      "cell_type": "code",
      "metadata": {
        "id": "IExVqhaNrsQU",
        "colab_type": "code",
        "colab": {}
      },
      "source": [
        "\n",
        "\n",
        "def npSolve(X,y,iter=2,alpha=0.05):\n",
        "    W, Range,Mean = norm(X) # normalize the data\n",
        "\n",
        "    phi = ones((X.shape[1],1),dtype=np.double)\n",
        "    cost_list = []\n",
        "    Y = y\n",
        "    m = X.shape[0]\n",
        "    \n",
        "    for i in range(iter):\n",
        "        delta = alpha*(1/m)*(W.T)@(W@phi - Y) \n",
        "        phi = phi - delta\n",
        "        cost_val = cost(W,phi,Y)\n",
        "        cost_list.append(cost_val)\n",
        "        \n",
        "    intercept = np.zeros_like(Mean)\n",
        "    intercept[-1][0] = (phi*Mean/Range).sum().item()\n",
        "    phi = phi/Range - intercept\n",
        "    return [phi,cost_list]    "
      ],
      "execution_count": 10,
      "outputs": []
    },
    {
      "cell_type": "markdown",
      "metadata": {
        "id": "wdRJ5rhG6PyU",
        "colab_type": "text"
      },
      "source": [
        "# Iterative computation of parameters _phi_ (multi variable linear regression)\n",
        "\n",
        "#### Where  \n",
        "*X* = input data of [$m \\times n$] matrix \n",
        "\n",
        "*  m = number of data rows, \n",
        "*  n = number of independent attributes of each data row\n",
        "\n",
        "*y* = output (house price), vector of length $m$\n",
        "\n",
        "_phi_ ($\\phi$) = regression coefficients\n",
        "and\n",
        "\n",
        "_Where_: X$\\phi$ (matrix multiply) = prediced house price\n",
        "\n",
        "$Predicted_i = \\sum_{j=1}^{n} X_{ij} * \\phi_j$\n",
        "\n",
        "\n",
        "        "
      ]
    },
    {
      "cell_type": "code",
      "metadata": {
        "id": "eAw58JNr2l7t",
        "colab_type": "code",
        "colab": {
          "base_uri": "https://localhost:8080/",
          "height": 69
        },
        "outputId": "f933c2b6-02dc-402b-a370-3f85de310fa0"
      },
      "source": [
        "%%time\n",
        "phi,cost_list = npSolve(X,y,2000,0.5)\n",
        "print(cost(X,phi,y))"
      ],
      "execution_count": 11,
      "outputs": [
        {
          "output_type": "stream",
          "text": [
            "3.3086923215668995\n",
            "CPU times: user 49.7 ms, sys: 1.67 ms, total: 51.4 ms\n",
            "Wall time: 57 ms\n"
          ],
          "name": "stdout"
        }
      ]
    },
    {
      "cell_type": "markdown",
      "metadata": {
        "id": "7MUL1WJw0Mad",
        "colab_type": "text"
      },
      "source": [
        "# Perform Multivariate regression (directly - no iteration)\n",
        "\n",
        "We previously saw that for minimum $\\phi$\n",
        "* We have the following\n",
        "* $\\frac{X^T(X\\phi - y)}{m} = 0$\n",
        "  * multiplying bost sides by $m$\n",
        "* $X^T(X\\phi - y) = 0$\n",
        "  * Multiplying by $X^T$ - _distributive property_\n",
        "* $X^T(X\\phi) -  X^Ty = 0$\n",
        "  * Rearanging\n",
        "* $(X^TX)\\phi =  X^Ty$\n",
        "----\n",
        "   * Multiply both sides by the inverse of $X^TX$\n",
        "\n",
        "* $(X^TX)^{-1} (X^TX)\\phi = (X^TX)^{-1} X^Ty$\n",
        "   * since  ${(X^TX)^{-1} (X^TX)} = I (identity)$\n",
        "* we get the following: $I \\phi = (X^TX)^{-1} X^Ty$\n",
        "----\n",
        " **Therefore we get the very simple formula for $\\phi$**\n",
        "   * *$\\phi = (X^TX)^{-1} X^Ty$*\n",
        "----\n",
        "&nbsp;\n",
        "\n",
        "Note the following rules for matrix multiply\n",
        "* $A(BC) = (AB)C$\n",
        "  * and\n",
        "* $A(B+C) = AB + BC$ - _distributive property_\n",
        "\n"
      ]
    },
    {
      "cell_type": "code",
      "metadata": {
        "id": "JhGbiV6E0J7N",
        "colab_type": "code",
        "colab": {
          "base_uri": "https://localhost:8080/",
          "height": 69
        },
        "outputId": "5fa4f823-e3cc-481f-b46e-99293f39a6d2"
      },
      "source": [
        "%%time\n",
        "\n",
        "inv = np.linalg.inv # invert a matrix\n",
        "\n",
        "# See how simple the formulation can be using only linear algebra\n",
        "def solve(X,y):\n",
        "  return inv(X.T@X) @ (X.T@y)\n",
        "\n",
        "phi2 = solve(X,y)  \n",
        "print(\"cost=\", cost(X,phi2,y),\"diff = \", cost(X,phi,y)-cost(X,phi2,y)) # compare the cost of direct method and iterative method\n",
        "#[phi,phi2, cost(X,phi2,y)-cost(X,phi,y), np.abs((phi-phi2)/phi*100)]"
      ],
      "execution_count": 12,
      "outputs": [
        {
          "output_type": "stream",
          "text": [
            "cost= 3.308687895656616 diff =  4.425910283600842e-06\n",
            "CPU times: user 1.02 ms, sys: 626 µs, total: 1.64 ms\n",
            "Wall time: 1.57 ms\n"
          ],
          "name": "stdout"
        }
      ]
    },
    {
      "cell_type": "markdown",
      "metadata": {
        "id": "kDdayCgZjVQd",
        "colab_type": "text"
      },
      "source": [
        "# New Section"
      ]
    }
  ]
}