{
  "nbformat": 4,
  "nbformat_minor": 0,
  "metadata": {
    "colab": {
      "name": "tf-tutor.ipynb",
      "provenance": [],
      "collapsed_sections": [],
      "toc_visible": true,
      "mount_file_id": "1khniD3ToLJ8Cu1vfisUn--67Vz35fnqE",
      "authorship_tag": "ABX9TyPchzSdiM0V9LX2WVz3JgpE",
      "include_colab_link": true
    },
    "kernelspec": {
      "name": "python3",
      "display_name": "Python 3"
    },
    "widgets": {
      "application/vnd.jupyter.widget-state+json": {
        "9eb54c9914dc4533906f5ccac9943be5": {
          "model_module": "@jupyter-widgets/controls",
          "model_name": "GridBoxModel",
          "state": {
            "_view_name": "GridBoxView",
            "_dom_classes": [],
            "_model_name": "GridBoxModel",
            "_view_module": "@jupyter-widgets/controls",
            "_model_module_version": "1.5.0",
            "_view_count": null,
            "_view_module_version": "1.5.0",
            "box_style": "",
            "layout": "IPY_MODEL_c04bec615a62406c9b3b1b8471ee2daa",
            "_model_module": "@jupyter-widgets/controls",
            "children": [
              "IPY_MODEL_9599d96f2481406f95e716308a94794c",
              "IPY_MODEL_33cf1d384f6f472ea5473d6e6911b3e5",
              "IPY_MODEL_c087811559574e049caef5b486e70aca",
              "IPY_MODEL_2708d7df9661486685d9eb12c464c2a0"
            ]
          }
        },
        "c04bec615a62406c9b3b1b8471ee2daa": {
          "model_module": "@jupyter-widgets/base",
          "model_name": "LayoutModel",
          "state": {
            "_view_name": "LayoutView",
            "grid_template_rows": "1fr 1fr",
            "right": null,
            "justify_content": null,
            "_view_module": "@jupyter-widgets/base",
            "overflow": null,
            "_model_module_version": "1.2.0",
            "_view_count": null,
            "flex_flow": null,
            "width": null,
            "min_width": null,
            "border": null,
            "align_items": null,
            "bottom": null,
            "_model_module": "@jupyter-widgets/base",
            "top": null,
            "grid_column": null,
            "overflow_y": null,
            "overflow_x": null,
            "grid_auto_flow": null,
            "grid_area": null,
            "grid_template_columns": "1fr 1fr",
            "flex": null,
            "_model_name": "LayoutModel",
            "justify_items": null,
            "grid_row": null,
            "max_height": null,
            "align_content": null,
            "visibility": null,
            "align_self": null,
            "height": null,
            "min_height": null,
            "padding": null,
            "grid_auto_rows": null,
            "grid_gap": null,
            "max_width": null,
            "order": null,
            "_view_module_version": "1.2.0",
            "grid_template_areas": "\"top-left top-right\"\n\"bottom-left bottom-right\"",
            "object_position": null,
            "object_fit": null,
            "grid_auto_columns": null,
            "margin": null,
            "display": null,
            "left": null
          }
        },
        "9599d96f2481406f95e716308a94794c": {
          "model_module": "@jupyter-widgets/controls",
          "model_name": "ButtonModel",
          "state": {
            "_view_name": "ButtonView",
            "style": "IPY_MODEL_99de11a016dd4d54af54b4a000c9e7d2",
            "_dom_classes": [],
            "description": "Top left",
            "_model_name": "ButtonModel",
            "button_style": "info",
            "_view_module": "@jupyter-widgets/controls",
            "_model_module_version": "1.5.0",
            "tooltip": "",
            "_view_count": null,
            "disabled": false,
            "_view_module_version": "1.5.0",
            "layout": "IPY_MODEL_4fe73325838d4aefb8232cbadbe8224f",
            "_model_module": "@jupyter-widgets/controls",
            "icon": ""
          }
        },
        "33cf1d384f6f472ea5473d6e6911b3e5": {
          "model_module": "@jupyter-widgets/controls",
          "model_name": "ButtonModel",
          "state": {
            "_view_name": "ButtonView",
            "style": "IPY_MODEL_1f793aa66ea24e38a2e85b76d115a440",
            "_dom_classes": [],
            "description": "Top right",
            "_model_name": "ButtonModel",
            "button_style": "success",
            "_view_module": "@jupyter-widgets/controls",
            "_model_module_version": "1.5.0",
            "tooltip": "",
            "_view_count": null,
            "disabled": false,
            "_view_module_version": "1.5.0",
            "layout": "IPY_MODEL_58ae989580b240909418aa71c7803c34",
            "_model_module": "@jupyter-widgets/controls",
            "icon": ""
          }
        },
        "c087811559574e049caef5b486e70aca": {
          "model_module": "@jupyter-widgets/controls",
          "model_name": "ButtonModel",
          "state": {
            "_view_name": "ButtonView",
            "style": "IPY_MODEL_1d442049848842278e0110d1904f9201",
            "_dom_classes": [],
            "description": "Bottom left",
            "_model_name": "ButtonModel",
            "button_style": "danger",
            "_view_module": "@jupyter-widgets/controls",
            "_model_module_version": "1.5.0",
            "tooltip": "",
            "_view_count": null,
            "disabled": false,
            "_view_module_version": "1.5.0",
            "layout": "IPY_MODEL_029fad72531d41fe88f7669265532829",
            "_model_module": "@jupyter-widgets/controls",
            "icon": ""
          }
        },
        "2708d7df9661486685d9eb12c464c2a0": {
          "model_module": "@jupyter-widgets/controls",
          "model_name": "ButtonModel",
          "state": {
            "_view_name": "ButtonView",
            "style": "IPY_MODEL_385387cf79784ee0b94f730ccdc8e898",
            "_dom_classes": [],
            "description": "Bottom right",
            "_model_name": "ButtonModel",
            "button_style": "warning",
            "_view_module": "@jupyter-widgets/controls",
            "_model_module_version": "1.5.0",
            "tooltip": "",
            "_view_count": null,
            "disabled": false,
            "_view_module_version": "1.5.0",
            "layout": "IPY_MODEL_3c43e0e203e54ff9be54587e9f2f2878",
            "_model_module": "@jupyter-widgets/controls",
            "icon": ""
          }
        },
        "99de11a016dd4d54af54b4a000c9e7d2": {
          "model_module": "@jupyter-widgets/controls",
          "model_name": "ButtonStyleModel",
          "state": {
            "_view_name": "StyleView",
            "_model_name": "ButtonStyleModel",
            "_view_module": "@jupyter-widgets/base",
            "_model_module_version": "1.5.0",
            "_view_count": null,
            "button_color": null,
            "font_weight": "",
            "_view_module_version": "1.2.0",
            "_model_module": "@jupyter-widgets/controls"
          }
        },
        "4fe73325838d4aefb8232cbadbe8224f": {
          "model_module": "@jupyter-widgets/base",
          "model_name": "LayoutModel",
          "state": {
            "_view_name": "LayoutView",
            "grid_template_rows": null,
            "right": null,
            "justify_content": null,
            "_view_module": "@jupyter-widgets/base",
            "overflow": null,
            "_model_module_version": "1.2.0",
            "_view_count": null,
            "flex_flow": null,
            "width": "auto",
            "min_width": null,
            "border": null,
            "align_items": null,
            "bottom": null,
            "_model_module": "@jupyter-widgets/base",
            "top": null,
            "grid_column": null,
            "overflow_y": null,
            "overflow_x": null,
            "grid_auto_flow": null,
            "grid_area": "top-left",
            "grid_template_columns": null,
            "flex": null,
            "_model_name": "LayoutModel",
            "justify_items": null,
            "grid_row": null,
            "max_height": null,
            "align_content": null,
            "visibility": null,
            "align_self": null,
            "height": "auto",
            "min_height": null,
            "padding": null,
            "grid_auto_rows": null,
            "grid_gap": null,
            "max_width": null,
            "order": null,
            "_view_module_version": "1.2.0",
            "grid_template_areas": null,
            "object_position": null,
            "object_fit": null,
            "grid_auto_columns": null,
            "margin": null,
            "display": null,
            "left": null
          }
        },
        "1f793aa66ea24e38a2e85b76d115a440": {
          "model_module": "@jupyter-widgets/controls",
          "model_name": "ButtonStyleModel",
          "state": {
            "_view_name": "StyleView",
            "_model_name": "ButtonStyleModel",
            "_view_module": "@jupyter-widgets/base",
            "_model_module_version": "1.5.0",
            "_view_count": null,
            "button_color": null,
            "font_weight": "",
            "_view_module_version": "1.2.0",
            "_model_module": "@jupyter-widgets/controls"
          }
        },
        "58ae989580b240909418aa71c7803c34": {
          "model_module": "@jupyter-widgets/base",
          "model_name": "LayoutModel",
          "state": {
            "_view_name": "LayoutView",
            "grid_template_rows": null,
            "right": null,
            "justify_content": null,
            "_view_module": "@jupyter-widgets/base",
            "overflow": null,
            "_model_module_version": "1.2.0",
            "_view_count": null,
            "flex_flow": null,
            "width": "auto",
            "min_width": null,
            "border": null,
            "align_items": null,
            "bottom": null,
            "_model_module": "@jupyter-widgets/base",
            "top": null,
            "grid_column": null,
            "overflow_y": null,
            "overflow_x": null,
            "grid_auto_flow": null,
            "grid_area": "top-right",
            "grid_template_columns": null,
            "flex": null,
            "_model_name": "LayoutModel",
            "justify_items": null,
            "grid_row": null,
            "max_height": null,
            "align_content": null,
            "visibility": null,
            "align_self": null,
            "height": "auto",
            "min_height": null,
            "padding": null,
            "grid_auto_rows": null,
            "grid_gap": null,
            "max_width": null,
            "order": null,
            "_view_module_version": "1.2.0",
            "grid_template_areas": null,
            "object_position": null,
            "object_fit": null,
            "grid_auto_columns": null,
            "margin": null,
            "display": null,
            "left": null
          }
        },
        "1d442049848842278e0110d1904f9201": {
          "model_module": "@jupyter-widgets/controls",
          "model_name": "ButtonStyleModel",
          "state": {
            "_view_name": "StyleView",
            "_model_name": "ButtonStyleModel",
            "_view_module": "@jupyter-widgets/base",
            "_model_module_version": "1.5.0",
            "_view_count": null,
            "button_color": null,
            "font_weight": "",
            "_view_module_version": "1.2.0",
            "_model_module": "@jupyter-widgets/controls"
          }
        },
        "029fad72531d41fe88f7669265532829": {
          "model_module": "@jupyter-widgets/base",
          "model_name": "LayoutModel",
          "state": {
            "_view_name": "LayoutView",
            "grid_template_rows": null,
            "right": null,
            "justify_content": null,
            "_view_module": "@jupyter-widgets/base",
            "overflow": null,
            "_model_module_version": "1.2.0",
            "_view_count": null,
            "flex_flow": null,
            "width": "auto",
            "min_width": null,
            "border": null,
            "align_items": null,
            "bottom": null,
            "_model_module": "@jupyter-widgets/base",
            "top": null,
            "grid_column": null,
            "overflow_y": null,
            "overflow_x": null,
            "grid_auto_flow": null,
            "grid_area": "bottom-left",
            "grid_template_columns": null,
            "flex": null,
            "_model_name": "LayoutModel",
            "justify_items": null,
            "grid_row": null,
            "max_height": null,
            "align_content": null,
            "visibility": null,
            "align_self": null,
            "height": "auto",
            "min_height": null,
            "padding": null,
            "grid_auto_rows": null,
            "grid_gap": null,
            "max_width": null,
            "order": null,
            "_view_module_version": "1.2.0",
            "grid_template_areas": null,
            "object_position": null,
            "object_fit": null,
            "grid_auto_columns": null,
            "margin": null,
            "display": null,
            "left": null
          }
        },
        "385387cf79784ee0b94f730ccdc8e898": {
          "model_module": "@jupyter-widgets/controls",
          "model_name": "ButtonStyleModel",
          "state": {
            "_view_name": "StyleView",
            "_model_name": "ButtonStyleModel",
            "_view_module": "@jupyter-widgets/base",
            "_model_module_version": "1.5.0",
            "_view_count": null,
            "button_color": null,
            "font_weight": "",
            "_view_module_version": "1.2.0",
            "_model_module": "@jupyter-widgets/controls"
          }
        },
        "3c43e0e203e54ff9be54587e9f2f2878": {
          "model_module": "@jupyter-widgets/base",
          "model_name": "LayoutModel",
          "state": {
            "_view_name": "LayoutView",
            "grid_template_rows": null,
            "right": null,
            "justify_content": null,
            "_view_module": "@jupyter-widgets/base",
            "overflow": null,
            "_model_module_version": "1.2.0",
            "_view_count": null,
            "flex_flow": null,
            "width": "auto",
            "min_width": null,
            "border": null,
            "align_items": null,
            "bottom": null,
            "_model_module": "@jupyter-widgets/base",
            "top": null,
            "grid_column": null,
            "overflow_y": null,
            "overflow_x": null,
            "grid_auto_flow": null,
            "grid_area": "bottom-right",
            "grid_template_columns": null,
            "flex": null,
            "_model_name": "LayoutModel",
            "justify_items": null,
            "grid_row": null,
            "max_height": null,
            "align_content": null,
            "visibility": null,
            "align_self": null,
            "height": "auto",
            "min_height": null,
            "padding": null,
            "grid_auto_rows": null,
            "grid_gap": null,
            "max_width": null,
            "order": null,
            "_view_module_version": "1.2.0",
            "grid_template_areas": null,
            "object_position": null,
            "object_fit": null,
            "grid_auto_columns": null,
            "margin": null,
            "display": null,
            "left": null
          }
        },
        "0eb7b0ac64cc482cb1356fd95ea10f4d": {
          "model_module": "@jupyter-widgets/controls",
          "model_name": "VBoxModel",
          "state": {
            "_view_name": "VBoxView",
            "_dom_classes": [
              "widget-interact"
            ],
            "_model_name": "VBoxModel",
            "_view_module": "@jupyter-widgets/controls",
            "_model_module_version": "1.5.0",
            "_view_count": null,
            "_view_module_version": "1.5.0",
            "box_style": "",
            "layout": "IPY_MODEL_403d684e960c4756a00736f7715f87f2",
            "_model_module": "@jupyter-widgets/controls",
            "children": [
              "IPY_MODEL_f943c340aa4d4839aa9fd089ad188e13",
              "IPY_MODEL_f70edc9919fc43188a29010cfa38ee6c"
            ]
          }
        },
        "403d684e960c4756a00736f7715f87f2": {
          "model_module": "@jupyter-widgets/base",
          "model_name": "LayoutModel",
          "state": {
            "_view_name": "LayoutView",
            "grid_template_rows": null,
            "right": null,
            "justify_content": null,
            "_view_module": "@jupyter-widgets/base",
            "overflow": null,
            "_model_module_version": "1.2.0",
            "_view_count": null,
            "flex_flow": null,
            "width": null,
            "min_width": null,
            "border": null,
            "align_items": null,
            "bottom": null,
            "_model_module": "@jupyter-widgets/base",
            "top": null,
            "grid_column": null,
            "overflow_y": null,
            "overflow_x": null,
            "grid_auto_flow": null,
            "grid_area": null,
            "grid_template_columns": null,
            "flex": null,
            "_model_name": "LayoutModel",
            "justify_items": null,
            "grid_row": null,
            "max_height": null,
            "align_content": null,
            "visibility": null,
            "align_self": null,
            "height": null,
            "min_height": null,
            "padding": null,
            "grid_auto_rows": null,
            "grid_gap": null,
            "max_width": null,
            "order": null,
            "_view_module_version": "1.2.0",
            "grid_template_areas": null,
            "object_position": null,
            "object_fit": null,
            "grid_auto_columns": null,
            "margin": null,
            "display": null,
            "left": null
          }
        },
        "f943c340aa4d4839aa9fd089ad188e13": {
          "model_module": "@jupyter-widgets/controls",
          "model_name": "SelectModel",
          "state": {
            "_options_labels": [
              "CRIM",
              "ZN",
              "INDUS",
              "CHAS",
              "NOX",
              "RM",
              "AGE",
              "DIS",
              "RAD",
              "TAX",
              "PTRATIO",
              "B",
              "LSTAT"
            ],
            "_view_name": "SelectView",
            "style": "IPY_MODEL_25f3b0468917436aa4df17557f2c0da6",
            "rows": 5,
            "_dom_classes": [],
            "description": "X Symbols",
            "_model_name": "SelectModel",
            "index": 0,
            "_view_module": "@jupyter-widgets/controls",
            "_model_module_version": "1.5.0",
            "_view_count": null,
            "disabled": false,
            "_view_module_version": "1.5.0",
            "description_tooltip": null,
            "_model_module": "@jupyter-widgets/controls",
            "layout": "IPY_MODEL_0dd94518938040c0bbd969cd54f4e193"
          }
        },
        "f70edc9919fc43188a29010cfa38ee6c": {
          "model_module": "@jupyter-widgets/output",
          "model_name": "OutputModel",
          "state": {
            "_view_name": "OutputView",
            "msg_id": "",
            "_dom_classes": [],
            "_model_name": "OutputModel",
            "outputs": [],
            "_view_module": "@jupyter-widgets/output",
            "_model_module_version": "1.0.0",
            "_view_count": null,
            "_view_module_version": "1.0.0",
            "layout": "IPY_MODEL_69aff852e91a48ee8c73d3ef17f23cf1",
            "_model_module": "@jupyter-widgets/output"
          }
        },
        "25f3b0468917436aa4df17557f2c0da6": {
          "model_module": "@jupyter-widgets/controls",
          "model_name": "DescriptionStyleModel",
          "state": {
            "_view_name": "StyleView",
            "_model_name": "DescriptionStyleModel",
            "description_width": "",
            "_view_module": "@jupyter-widgets/base",
            "_model_module_version": "1.5.0",
            "_view_count": null,
            "_view_module_version": "1.2.0",
            "_model_module": "@jupyter-widgets/controls"
          }
        },
        "0dd94518938040c0bbd969cd54f4e193": {
          "model_module": "@jupyter-widgets/base",
          "model_name": "LayoutModel",
          "state": {
            "_view_name": "LayoutView",
            "grid_template_rows": null,
            "right": null,
            "justify_content": null,
            "_view_module": "@jupyter-widgets/base",
            "overflow": null,
            "_model_module_version": "1.2.0",
            "_view_count": null,
            "flex_flow": null,
            "width": "900",
            "min_width": null,
            "border": null,
            "align_items": null,
            "bottom": null,
            "_model_module": "@jupyter-widgets/base",
            "top": null,
            "grid_column": null,
            "overflow_y": null,
            "overflow_x": null,
            "grid_auto_flow": null,
            "grid_area": null,
            "grid_template_columns": null,
            "flex": null,
            "_model_name": "LayoutModel",
            "justify_items": null,
            "grid_row": null,
            "max_height": null,
            "align_content": null,
            "visibility": null,
            "align_self": null,
            "height": null,
            "min_height": null,
            "padding": null,
            "grid_auto_rows": null,
            "grid_gap": null,
            "max_width": null,
            "order": null,
            "_view_module_version": "1.2.0",
            "grid_template_areas": null,
            "object_position": null,
            "object_fit": null,
            "grid_auto_columns": null,
            "margin": null,
            "display": null,
            "left": null
          }
        },
        "69aff852e91a48ee8c73d3ef17f23cf1": {
          "model_module": "@jupyter-widgets/base",
          "model_name": "LayoutModel",
          "state": {
            "_view_name": "LayoutView",
            "grid_template_rows": null,
            "right": null,
            "justify_content": null,
            "_view_module": "@jupyter-widgets/base",
            "overflow": null,
            "_model_module_version": "1.2.0",
            "_view_count": null,
            "flex_flow": null,
            "width": null,
            "min_width": null,
            "border": null,
            "align_items": null,
            "bottom": null,
            "_model_module": "@jupyter-widgets/base",
            "top": null,
            "grid_column": null,
            "overflow_y": null,
            "overflow_x": null,
            "grid_auto_flow": null,
            "grid_area": null,
            "grid_template_columns": null,
            "flex": null,
            "_model_name": "LayoutModel",
            "justify_items": null,
            "grid_row": null,
            "max_height": null,
            "align_content": null,
            "visibility": null,
            "align_self": null,
            "height": null,
            "min_height": null,
            "padding": null,
            "grid_auto_rows": null,
            "grid_gap": null,
            "max_width": null,
            "order": null,
            "_view_module_version": "1.2.0",
            "grid_template_areas": null,
            "object_position": null,
            "object_fit": null,
            "grid_auto_columns": null,
            "margin": null,
            "display": null,
            "left": null
          }
        },
        "0fe5923898cb4ca590c75674f2950361": {
          "model_module": "@jupyter-widgets/controls",
          "model_name": "VBoxModel",
          "state": {
            "_view_name": "VBoxView",
            "_dom_classes": [
              "widget-interact"
            ],
            "_model_name": "VBoxModel",
            "_view_module": "@jupyter-widgets/controls",
            "_model_module_version": "1.5.0",
            "_view_count": null,
            "_view_module_version": "1.5.0",
            "box_style": "",
            "layout": "IPY_MODEL_2cc0c55040f0486c9105da5f2073f7b3",
            "_model_module": "@jupyter-widgets/controls",
            "children": [
              "IPY_MODEL_52c2658f953b48d59fd2c99bb9fb2a86",
              "IPY_MODEL_464376a829a044cf9d5ded920d4f3855"
            ]
          }
        },
        "2cc0c55040f0486c9105da5f2073f7b3": {
          "model_module": "@jupyter-widgets/base",
          "model_name": "LayoutModel",
          "state": {
            "_view_name": "LayoutView",
            "grid_template_rows": null,
            "right": null,
            "justify_content": null,
            "_view_module": "@jupyter-widgets/base",
            "overflow": null,
            "_model_module_version": "1.2.0",
            "_view_count": null,
            "flex_flow": null,
            "width": null,
            "min_width": null,
            "border": null,
            "align_items": null,
            "bottom": null,
            "_model_module": "@jupyter-widgets/base",
            "top": null,
            "grid_column": null,
            "overflow_y": null,
            "overflow_x": null,
            "grid_auto_flow": null,
            "grid_area": null,
            "grid_template_columns": null,
            "flex": null,
            "_model_name": "LayoutModel",
            "justify_items": null,
            "grid_row": null,
            "max_height": null,
            "align_content": null,
            "visibility": null,
            "align_self": null,
            "height": null,
            "min_height": null,
            "padding": null,
            "grid_auto_rows": null,
            "grid_gap": null,
            "max_width": null,
            "order": null,
            "_view_module_version": "1.2.0",
            "grid_template_areas": null,
            "object_position": null,
            "object_fit": null,
            "grid_auto_columns": null,
            "margin": null,
            "display": null,
            "left": null
          }
        },
        "52c2658f953b48d59fd2c99bb9fb2a86": {
          "model_module": "@jupyter-widgets/controls",
          "model_name": "SelectModel",
          "state": {
            "_options_labels": [
              "CRIM",
              "ZN",
              "INDUS",
              "CHAS",
              "NOX",
              "RM",
              "AGE",
              "DIS",
              "RAD",
              "TAX",
              "PTRATIO",
              "B",
              "LSTAT",
              "MEDV"
            ],
            "_view_name": "SelectView",
            "style": "IPY_MODEL_7ed6a8f203754144ac700093527f055e",
            "rows": 5,
            "_dom_classes": [],
            "description": "Y Symbols",
            "_model_name": "SelectModel",
            "index": 13,
            "_view_module": "@jupyter-widgets/controls",
            "_model_module_version": "1.5.0",
            "_view_count": null,
            "disabled": false,
            "_view_module_version": "1.5.0",
            "description_tooltip": null,
            "_model_module": "@jupyter-widgets/controls",
            "layout": "IPY_MODEL_4ea4f008fb004e5b8ea55fb70b05143b"
          }
        },
        "464376a829a044cf9d5ded920d4f3855": {
          "model_module": "@jupyter-widgets/output",
          "model_name": "OutputModel",
          "state": {
            "_view_name": "OutputView",
            "msg_id": "",
            "_dom_classes": [],
            "_model_name": "OutputModel",
            "outputs": [
              {
                "output_type": "stream",
                "metadata": {
                  "tags": []
                },
                "text": "['CRIM', 'MEDV']\n",
                "stream": "stdout"
              },
              {
                "output_type": "display_data",
                "metadata": {
                  "tags": []
                },
                "text/plain": "alt.Chart(...)",
                "text/html": "\n<div id=\"altair-viz-3d19cb9e15764cbc96c504f2a2f78f2e\"></div>\n<script type=\"text/javascript\">\n  (function(spec, embedOpt){\n    let outputDiv = document.currentScript.previousElementSibling;\n    if (outputDiv.id !== \"altair-viz-3d19cb9e15764cbc96c504f2a2f78f2e\") {\n      outputDiv = document.getElementById(\"altair-viz-3d19cb9e15764cbc96c504f2a2f78f2e\");\n    }\n    const paths = {\n      \"vega\": \"https://cdn.jsdelivr.net/npm//vega@5?noext\",\n      \"vega-lib\": \"https://cdn.jsdelivr.net/npm//vega-lib?noext\",\n      \"vega-lite\": \"https://cdn.jsdelivr.net/npm//vega-lite@4.8.1?noext\",\n      \"vega-embed\": \"https://cdn.jsdelivr.net/npm//vega-embed@6?noext\",\n    };\n\n    function loadScript(lib) {\n      return new Promise(function(resolve, reject) {\n        var s = document.createElement('script');\n        s.src = paths[lib];\n        s.async = true;\n        s.onload = () => resolve(paths[lib]);\n        s.onerror = () => reject(`Error loading script: ${paths[lib]}`);\n        document.getElementsByTagName(\"head\")[0].appendChild(s);\n      });\n    }\n\n    function showError(err) {\n      outputDiv.innerHTML = `<div class=\"error\" style=\"color:red;\">${err}</div>`;\n      throw err;\n    }\n\n    function displayChart(vegaEmbed) {\n      vegaEmbed(outputDiv, spec, embedOpt)\n        .catch(err => showError(`Javascript Error: ${err.message}<br>This usually means there's a typo in your chart specification. See the javascript console for the full traceback.`));\n    }\n\n    if(typeof define === \"function\" && define.amd) {\n      requirejs.config({paths});\n      require([\"vega-embed\"], displayChart, err => showError(`Error loading script: ${err.message}`));\n    } else if (typeof vegaEmbed === \"function\") {\n      displayChart(vegaEmbed);\n    } else {\n      loadScript(\"vega\")\n        .then(() => loadScript(\"vega-lite\"))\n        .then(() => loadScript(\"vega-embed\"))\n        .catch(showError)\n        .then(() => displayChart(vegaEmbed));\n    }\n  })({\"config\": {\"view\": {\"continuousWidth\": 400, \"continuousHeight\": 300}}, \"data\": {\"name\": \"data-3fe26e012dd3506009ca2cd337ecf459\"}, \"mark\": \"point\", \"encoding\": {\"x\": {\"type\": \"quantitative\", \"field\": \"CRIM\"}, \"y\": {\"type\": \"quantitative\", \"field\": \"MEDV\"}}, \"selection\": {\"selector115\": {\"type\": \"interval\", \"bind\": \"scales\", \"encodings\": [\"x\", \"y\"]}}, \"$schema\": \"https://vega.github.io/schema/vega-lite/v4.8.1.json\", \"datasets\": {\"data-3fe26e012dd3506009ca2cd337ecf459\": [{\"CRIM\": 0.00632, \"ZN\": 18.0, \"INDUS\": 2.31, \"CHAS\": 0, \"NOX\": 0.538, \"RM\": 6.575, \"AGE\": 65.2, \"DIS\": 4.09, \"RAD\": 1, \"TAX\": 296.0, \"PTRATIO\": 15.3, \"B\": 396.9, \"LSTAT\": 4.98, \"MEDV\": 24.0}, {\"CRIM\": 0.02731, \"ZN\": 0.0, \"INDUS\": 7.07, \"CHAS\": 0, \"NOX\": 0.469, \"RM\": 6.421, \"AGE\": 78.9, \"DIS\": 4.9671, \"RAD\": 2, \"TAX\": 242.0, \"PTRATIO\": 17.8, \"B\": 396.9, \"LSTAT\": 9.14, \"MEDV\": 21.6}, {\"CRIM\": 0.02729, \"ZN\": 0.0, \"INDUS\": 7.07, \"CHAS\": 0, \"NOX\": 0.469, \"RM\": 7.185, \"AGE\": 61.1, \"DIS\": 4.9671, \"RAD\": 2, \"TAX\": 242.0, \"PTRATIO\": 17.8, \"B\": 392.83, \"LSTAT\": 4.03, \"MEDV\": 34.7}, {\"CRIM\": 0.032369999999999996, \"ZN\": 0.0, \"INDUS\": 2.18, \"CHAS\": 0, \"NOX\": 0.458, \"RM\": 6.998, \"AGE\": 45.8, \"DIS\": 6.0622, \"RAD\": 3, \"TAX\": 222.0, \"PTRATIO\": 18.7, \"B\": 394.63, \"LSTAT\": 2.94, \"MEDV\": 33.4}, {\"CRIM\": 0.06905, \"ZN\": 0.0, \"INDUS\": 2.18, \"CHAS\": 0, \"NOX\": 0.458, \"RM\": 7.147, \"AGE\": 54.2, \"DIS\": 6.0622, \"RAD\": 3, \"TAX\": 222.0, \"PTRATIO\": 18.7, \"B\": 396.9, \"LSTAT\": 5.33, \"MEDV\": 36.2}, {\"CRIM\": 0.02985, \"ZN\": 0.0, \"INDUS\": 2.18, \"CHAS\": 0, \"NOX\": 0.458, \"RM\": 6.43, \"AGE\": 58.7, \"DIS\": 6.0622, \"RAD\": 3, \"TAX\": 222.0, \"PTRATIO\": 18.7, \"B\": 394.12, \"LSTAT\": 5.21, \"MEDV\": 28.7}, {\"CRIM\": 0.08829, \"ZN\": 12.5, \"INDUS\": 7.87, \"CHAS\": 0, \"NOX\": 0.524, \"RM\": 6.012, \"AGE\": 66.6, \"DIS\": 5.5605, \"RAD\": 5, \"TAX\": 311.0, \"PTRATIO\": 15.2, \"B\": 395.6, \"LSTAT\": 12.43, \"MEDV\": 22.9}, {\"CRIM\": 0.14455, \"ZN\": 12.5, \"INDUS\": 7.87, \"CHAS\": 0, \"NOX\": 0.524, \"RM\": 6.172, \"AGE\": 96.1, \"DIS\": 5.9505, \"RAD\": 5, \"TAX\": 311.0, \"PTRATIO\": 15.2, \"B\": 396.9, \"LSTAT\": 19.15, \"MEDV\": 27.1}, {\"CRIM\": 0.21124, \"ZN\": 12.5, \"INDUS\": 7.87, \"CHAS\": 0, \"NOX\": 0.524, \"RM\": 5.631, \"AGE\": 100.0, \"DIS\": 6.0821, \"RAD\": 5, \"TAX\": 311.0, \"PTRATIO\": 15.2, \"B\": 386.63, \"LSTAT\": 29.93, \"MEDV\": 16.5}, {\"CRIM\": 0.17004, \"ZN\": 12.5, \"INDUS\": 7.87, \"CHAS\": 0, \"NOX\": 0.524, \"RM\": 6.004, \"AGE\": 85.9, \"DIS\": 6.5921, \"RAD\": 5, \"TAX\": 311.0, \"PTRATIO\": 15.2, \"B\": 386.71, \"LSTAT\": 17.1, \"MEDV\": 18.9}, {\"CRIM\": 0.22489, \"ZN\": 12.5, \"INDUS\": 7.87, \"CHAS\": 0, \"NOX\": 0.524, \"RM\": 6.377, \"AGE\": 94.3, \"DIS\": 6.3467, \"RAD\": 5, \"TAX\": 311.0, \"PTRATIO\": 15.2, \"B\": 392.52, \"LSTAT\": 20.45, \"MEDV\": 15.0}, {\"CRIM\": 0.11747, \"ZN\": 12.5, \"INDUS\": 7.87, \"CHAS\": 0, \"NOX\": 0.524, \"RM\": 6.009, \"AGE\": 82.9, \"DIS\": 6.2267, \"RAD\": 5, \"TAX\": 311.0, \"PTRATIO\": 15.2, \"B\": 396.9, \"LSTAT\": 13.27, \"MEDV\": 18.9}, {\"CRIM\": 0.09378, \"ZN\": 12.5, \"INDUS\": 7.87, \"CHAS\": 0, \"NOX\": 0.524, \"RM\": 5.889, \"AGE\": 39.0, \"DIS\": 5.4509, \"RAD\": 5, \"TAX\": 311.0, \"PTRATIO\": 15.2, \"B\": 390.5, \"LSTAT\": 15.71, \"MEDV\": 21.7}, {\"CRIM\": 0.62976, \"ZN\": 0.0, \"INDUS\": 8.14, \"CHAS\": 0, \"NOX\": 0.538, \"RM\": 5.949, \"AGE\": 61.8, \"DIS\": 4.7075, \"RAD\": 4, \"TAX\": 307.0, \"PTRATIO\": 21.0, \"B\": 396.9, \"LSTAT\": 8.26, \"MEDV\": 20.4}, {\"CRIM\": 0.6379600000000001, \"ZN\": 0.0, \"INDUS\": 8.14, \"CHAS\": 0, \"NOX\": 0.538, \"RM\": 6.096, \"AGE\": 84.5, \"DIS\": 4.4619, \"RAD\": 4, \"TAX\": 307.0, \"PTRATIO\": 21.0, \"B\": 380.02, \"LSTAT\": 10.26, \"MEDV\": 18.2}, {\"CRIM\": 0.62739, \"ZN\": 0.0, \"INDUS\": 8.14, \"CHAS\": 0, \"NOX\": 0.538, \"RM\": 5.834, \"AGE\": 56.5, \"DIS\": 4.4986, \"RAD\": 4, \"TAX\": 307.0, \"PTRATIO\": 21.0, \"B\": 395.62, \"LSTAT\": 8.47, \"MEDV\": 19.9}, {\"CRIM\": 1.05393, \"ZN\": 0.0, \"INDUS\": 8.14, \"CHAS\": 0, \"NOX\": 0.538, \"RM\": 5.935, \"AGE\": 29.3, \"DIS\": 4.4986, \"RAD\": 4, \"TAX\": 307.0, \"PTRATIO\": 21.0, \"B\": 386.85, \"LSTAT\": 6.58, \"MEDV\": 23.1}, {\"CRIM\": 0.7842, \"ZN\": 0.0, \"INDUS\": 8.14, \"CHAS\": 0, \"NOX\": 0.538, \"RM\": 5.99, \"AGE\": 81.7, \"DIS\": 4.2579, \"RAD\": 4, \"TAX\": 307.0, \"PTRATIO\": 21.0, \"B\": 386.75, \"LSTAT\": 14.67, \"MEDV\": 17.5}, {\"CRIM\": 0.80271, \"ZN\": 0.0, \"INDUS\": 8.14, \"CHAS\": 0, \"NOX\": 0.538, \"RM\": 5.456, \"AGE\": 36.6, \"DIS\": 3.7965, \"RAD\": 4, \"TAX\": 307.0, \"PTRATIO\": 21.0, \"B\": 288.99, \"LSTAT\": 11.69, \"MEDV\": 20.2}, {\"CRIM\": 0.7258, \"ZN\": 0.0, \"INDUS\": 8.14, \"CHAS\": 0, \"NOX\": 0.538, \"RM\": 5.727, \"AGE\": 69.5, \"DIS\": 3.7965, \"RAD\": 4, \"TAX\": 307.0, \"PTRATIO\": 21.0, \"B\": 390.95, \"LSTAT\": 11.28, \"MEDV\": 18.2}, {\"CRIM\": 1.25179, \"ZN\": 0.0, \"INDUS\": 8.14, \"CHAS\": 0, \"NOX\": 0.538, \"RM\": 5.57, \"AGE\": 98.1, \"DIS\": 3.7979, \"RAD\": 4, \"TAX\": 307.0, \"PTRATIO\": 21.0, \"B\": 376.57, \"LSTAT\": 21.02, \"MEDV\": 13.6}, {\"CRIM\": 0.8520399999999999, \"ZN\": 0.0, \"INDUS\": 8.14, \"CHAS\": 0, \"NOX\": 0.538, \"RM\": 5.965, \"AGE\": 89.2, \"DIS\": 4.0123, \"RAD\": 4, \"TAX\": 307.0, \"PTRATIO\": 21.0, \"B\": 392.53, \"LSTAT\": 13.83, \"MEDV\": 19.6}, {\"CRIM\": 1.2324700000000002, \"ZN\": 0.0, \"INDUS\": 8.14, \"CHAS\": 0, \"NOX\": 0.538, \"RM\": 6.142, \"AGE\": 91.7, \"DIS\": 3.9769, \"RAD\": 4, \"TAX\": 307.0, \"PTRATIO\": 21.0, \"B\": 396.9, \"LSTAT\": 18.72, \"MEDV\": 15.2}, {\"CRIM\": 0.9884299999999999, \"ZN\": 0.0, \"INDUS\": 8.14, \"CHAS\": 0, \"NOX\": 0.538, \"RM\": 5.813, \"AGE\": 100.0, \"DIS\": 4.0952, \"RAD\": 4, \"TAX\": 307.0, \"PTRATIO\": 21.0, \"B\": 394.54, \"LSTAT\": 19.88, \"MEDV\": 14.5}, {\"CRIM\": 0.75026, \"ZN\": 0.0, \"INDUS\": 8.14, \"CHAS\": 0, \"NOX\": 0.538, \"RM\": 5.924, \"AGE\": 94.1, \"DIS\": 4.3996, \"RAD\": 4, \"TAX\": 307.0, \"PTRATIO\": 21.0, \"B\": 394.33, \"LSTAT\": 16.3, \"MEDV\": 15.6}, {\"CRIM\": 0.84054, \"ZN\": 0.0, \"INDUS\": 8.14, \"CHAS\": 0, \"NOX\": 0.538, \"RM\": 5.599, \"AGE\": 85.7, \"DIS\": 4.4546, \"RAD\": 4, \"TAX\": 307.0, \"PTRATIO\": 21.0, \"B\": 303.42, \"LSTAT\": 16.51, \"MEDV\": 13.9}, {\"CRIM\": 0.67191, \"ZN\": 0.0, \"INDUS\": 8.14, \"CHAS\": 0, \"NOX\": 0.538, \"RM\": 5.813, \"AGE\": 90.3, \"DIS\": 4.682, \"RAD\": 4, \"TAX\": 307.0, \"PTRATIO\": 21.0, \"B\": 376.88, \"LSTAT\": 14.81, \"MEDV\": 16.6}, {\"CRIM\": 0.9557700000000001, \"ZN\": 0.0, \"INDUS\": 8.14, \"CHAS\": 0, \"NOX\": 0.538, \"RM\": 6.047, \"AGE\": 88.8, \"DIS\": 4.4534, \"RAD\": 4, \"TAX\": 307.0, \"PTRATIO\": 21.0, \"B\": 306.38, \"LSTAT\": 17.28, \"MEDV\": 14.8}, {\"CRIM\": 0.77299, \"ZN\": 0.0, \"INDUS\": 8.14, \"CHAS\": 0, \"NOX\": 0.538, \"RM\": 6.495, \"AGE\": 94.4, \"DIS\": 4.4547, \"RAD\": 4, \"TAX\": 307.0, \"PTRATIO\": 21.0, \"B\": 387.94, \"LSTAT\": 12.8, \"MEDV\": 18.4}, {\"CRIM\": 1.00245, \"ZN\": 0.0, \"INDUS\": 8.14, \"CHAS\": 0, \"NOX\": 0.538, \"RM\": 6.674, \"AGE\": 87.3, \"DIS\": 4.239, \"RAD\": 4, \"TAX\": 307.0, \"PTRATIO\": 21.0, \"B\": 380.23, \"LSTAT\": 11.98, \"MEDV\": 21.0}, {\"CRIM\": 1.13081, \"ZN\": 0.0, \"INDUS\": 8.14, \"CHAS\": 0, \"NOX\": 0.538, \"RM\": 5.713, \"AGE\": 94.1, \"DIS\": 4.233, \"RAD\": 4, \"TAX\": 307.0, \"PTRATIO\": 21.0, \"B\": 360.17, \"LSTAT\": 22.6, \"MEDV\": 12.7}, {\"CRIM\": 1.3547200000000001, \"ZN\": 0.0, \"INDUS\": 8.14, \"CHAS\": 0, \"NOX\": 0.538, \"RM\": 6.072, \"AGE\": 100.0, \"DIS\": 4.175, \"RAD\": 4, \"TAX\": 307.0, \"PTRATIO\": 21.0, \"B\": 376.73, \"LSTAT\": 13.04, \"MEDV\": 14.5}, {\"CRIM\": 1.38799, \"ZN\": 0.0, \"INDUS\": 8.14, \"CHAS\": 0, \"NOX\": 0.538, \"RM\": 5.95, \"AGE\": 82.0, \"DIS\": 3.99, \"RAD\": 4, \"TAX\": 307.0, \"PTRATIO\": 21.0, \"B\": 232.6, \"LSTAT\": 27.71, \"MEDV\": 13.2}, {\"CRIM\": 1.15172, \"ZN\": 0.0, \"INDUS\": 8.14, \"CHAS\": 0, \"NOX\": 0.538, \"RM\": 5.701, \"AGE\": 95.0, \"DIS\": 3.7872, \"RAD\": 4, \"TAX\": 307.0, \"PTRATIO\": 21.0, \"B\": 358.77, \"LSTAT\": 18.35, \"MEDV\": 13.1}, {\"CRIM\": 1.6128200000000001, \"ZN\": 0.0, \"INDUS\": 8.14, \"CHAS\": 0, \"NOX\": 0.538, \"RM\": 6.096, \"AGE\": 96.9, \"DIS\": 3.7598, \"RAD\": 4, \"TAX\": 307.0, \"PTRATIO\": 21.0, \"B\": 248.31, \"LSTAT\": 20.34, \"MEDV\": 13.5}, {\"CRIM\": 0.06417, \"ZN\": 0.0, \"INDUS\": 5.96, \"CHAS\": 0, \"NOX\": 0.499, \"RM\": 5.933, \"AGE\": 68.2, \"DIS\": 3.3603, \"RAD\": 5, \"TAX\": 279.0, \"PTRATIO\": 19.2, \"B\": 396.9, \"LSTAT\": 9.68, \"MEDV\": 18.9}, {\"CRIM\": 0.09744, \"ZN\": 0.0, \"INDUS\": 5.96, \"CHAS\": 0, \"NOX\": 0.499, \"RM\": 5.841, \"AGE\": 61.4, \"DIS\": 3.3779, \"RAD\": 5, \"TAX\": 279.0, \"PTRATIO\": 19.2, \"B\": 377.56, \"LSTAT\": 11.41, \"MEDV\": 20.0}, {\"CRIM\": 0.08014, \"ZN\": 0.0, \"INDUS\": 5.96, \"CHAS\": 0, \"NOX\": 0.499, \"RM\": 5.85, \"AGE\": 41.5, \"DIS\": 3.9342, \"RAD\": 5, \"TAX\": 279.0, \"PTRATIO\": 19.2, \"B\": 396.9, \"LSTAT\": 8.77, \"MEDV\": 21.0}, {\"CRIM\": 0.17505, \"ZN\": 0.0, \"INDUS\": 5.96, \"CHAS\": 0, \"NOX\": 0.499, \"RM\": 5.966, \"AGE\": 30.2, \"DIS\": 3.8473, \"RAD\": 5, \"TAX\": 279.0, \"PTRATIO\": 19.2, \"B\": 393.43, \"LSTAT\": 10.13, \"MEDV\": 24.7}, {\"CRIM\": 0.027630000000000002, \"ZN\": 75.0, \"INDUS\": 2.95, \"CHAS\": 0, \"NOX\": 0.428, \"RM\": 6.595, \"AGE\": 21.8, \"DIS\": 5.4011, \"RAD\": 3, \"TAX\": 252.0, \"PTRATIO\": 18.3, \"B\": 395.63, \"LSTAT\": 4.32, \"MEDV\": 30.8}, {\"CRIM\": 0.033589999999999995, \"ZN\": 75.0, \"INDUS\": 2.95, \"CHAS\": 0, \"NOX\": 0.428, \"RM\": 7.024, \"AGE\": 15.8, \"DIS\": 5.4011, \"RAD\": 3, \"TAX\": 252.0, \"PTRATIO\": 18.3, \"B\": 395.62, \"LSTAT\": 1.98, \"MEDV\": 34.9}, {\"CRIM\": 0.12744, \"ZN\": 0.0, \"INDUS\": 6.91, \"CHAS\": 0, \"NOX\": 0.448, \"RM\": 6.77, \"AGE\": 2.9, \"DIS\": 5.7209, \"RAD\": 3, \"TAX\": 233.0, \"PTRATIO\": 17.9, \"B\": 385.41, \"LSTAT\": 4.84, \"MEDV\": 26.6}, {\"CRIM\": 0.1415, \"ZN\": 0.0, \"INDUS\": 6.91, \"CHAS\": 0, \"NOX\": 0.448, \"RM\": 6.169, \"AGE\": 6.6, \"DIS\": 5.7209, \"RAD\": 3, \"TAX\": 233.0, \"PTRATIO\": 17.9, \"B\": 383.37, \"LSTAT\": 5.81, \"MEDV\": 25.3}, {\"CRIM\": 0.15936, \"ZN\": 0.0, \"INDUS\": 6.91, \"CHAS\": 0, \"NOX\": 0.448, \"RM\": 6.211, \"AGE\": 6.5, \"DIS\": 5.7209, \"RAD\": 3, \"TAX\": 233.0, \"PTRATIO\": 17.9, \"B\": 394.46, \"LSTAT\": 7.44, \"MEDV\": 24.7}, {\"CRIM\": 0.12269000000000001, \"ZN\": 0.0, \"INDUS\": 6.91, \"CHAS\": 0, \"NOX\": 0.448, \"RM\": 6.069, \"AGE\": 40.0, \"DIS\": 5.7209, \"RAD\": 3, \"TAX\": 233.0, \"PTRATIO\": 17.9, \"B\": 389.39, \"LSTAT\": 9.55, \"MEDV\": 21.2}, {\"CRIM\": 0.17142000000000002, \"ZN\": 0.0, \"INDUS\": 6.91, \"CHAS\": 0, \"NOX\": 0.448, \"RM\": 5.682, \"AGE\": 33.8, \"DIS\": 5.1004, \"RAD\": 3, \"TAX\": 233.0, \"PTRATIO\": 17.9, \"B\": 396.9, \"LSTAT\": 10.21, \"MEDV\": 19.3}, {\"CRIM\": 0.18836, \"ZN\": 0.0, \"INDUS\": 6.91, \"CHAS\": 0, \"NOX\": 0.448, \"RM\": 5.786, \"AGE\": 33.3, \"DIS\": 5.1004, \"RAD\": 3, \"TAX\": 233.0, \"PTRATIO\": 17.9, \"B\": 396.9, \"LSTAT\": 14.15, \"MEDV\": 20.0}, {\"CRIM\": 0.22926999999999997, \"ZN\": 0.0, \"INDUS\": 6.91, \"CHAS\": 0, \"NOX\": 0.448, \"RM\": 6.03, \"AGE\": 85.5, \"DIS\": 5.6894, \"RAD\": 3, \"TAX\": 233.0, \"PTRATIO\": 17.9, \"B\": 392.74, \"LSTAT\": 18.8, \"MEDV\": 16.6}, {\"CRIM\": 0.25387, \"ZN\": 0.0, \"INDUS\": 6.91, \"CHAS\": 0, \"NOX\": 0.448, \"RM\": 5.399, \"AGE\": 95.3, \"DIS\": 5.87, \"RAD\": 3, \"TAX\": 233.0, \"PTRATIO\": 17.9, \"B\": 396.9, \"LSTAT\": 30.81, \"MEDV\": 14.4}, {\"CRIM\": 0.21977, \"ZN\": 0.0, \"INDUS\": 6.91, \"CHAS\": 0, \"NOX\": 0.448, \"RM\": 5.602, \"AGE\": 62.0, \"DIS\": 6.0877, \"RAD\": 3, \"TAX\": 233.0, \"PTRATIO\": 17.9, \"B\": 396.9, \"LSTAT\": 16.2, \"MEDV\": 19.4}, {\"CRIM\": 0.08872999999999999, \"ZN\": 21.0, \"INDUS\": 5.64, \"CHAS\": 0, \"NOX\": 0.439, \"RM\": 5.963, \"AGE\": 45.7, \"DIS\": 6.8147, \"RAD\": 4, \"TAX\": 243.0, \"PTRATIO\": 16.8, \"B\": 395.56, \"LSTAT\": 13.45, \"MEDV\": 19.7}, {\"CRIM\": 0.04337, \"ZN\": 21.0, \"INDUS\": 5.64, \"CHAS\": 0, \"NOX\": 0.439, \"RM\": 6.115, \"AGE\": 63.0, \"DIS\": 6.8147, \"RAD\": 4, \"TAX\": 243.0, \"PTRATIO\": 16.8, \"B\": 393.97, \"LSTAT\": 9.43, \"MEDV\": 20.5}, {\"CRIM\": 0.0536, \"ZN\": 21.0, \"INDUS\": 5.64, \"CHAS\": 0, \"NOX\": 0.439, \"RM\": 6.511, \"AGE\": 21.1, \"DIS\": 6.8147, \"RAD\": 4, \"TAX\": 243.0, \"PTRATIO\": 16.8, \"B\": 396.9, \"LSTAT\": 5.28, \"MEDV\": 25.0}, {\"CRIM\": 0.04981, \"ZN\": 21.0, \"INDUS\": 5.64, \"CHAS\": 0, \"NOX\": 0.439, \"RM\": 5.998, \"AGE\": 21.4, \"DIS\": 6.8147, \"RAD\": 4, \"TAX\": 243.0, \"PTRATIO\": 16.8, \"B\": 396.9, \"LSTAT\": 8.43, \"MEDV\": 23.4}, {\"CRIM\": 0.0136, \"ZN\": 75.0, \"INDUS\": 4.0, \"CHAS\": 0, \"NOX\": 0.41, \"RM\": 5.888, \"AGE\": 47.6, \"DIS\": 7.3197, \"RAD\": 3, \"TAX\": 469.0, \"PTRATIO\": 21.1, \"B\": 396.9, \"LSTAT\": 14.8, \"MEDV\": 18.9}, {\"CRIM\": 0.01311, \"ZN\": 90.0, \"INDUS\": 1.22, \"CHAS\": 0, \"NOX\": 0.403, \"RM\": 7.249, \"AGE\": 21.9, \"DIS\": 8.6966, \"RAD\": 5, \"TAX\": 226.0, \"PTRATIO\": 17.9, \"B\": 395.93, \"LSTAT\": 4.81, \"MEDV\": 35.4}, {\"CRIM\": 0.02055, \"ZN\": 85.0, \"INDUS\": 0.74, \"CHAS\": 0, \"NOX\": 0.41, \"RM\": 6.383, \"AGE\": 35.7, \"DIS\": 9.1876, \"RAD\": 2, \"TAX\": 313.0, \"PTRATIO\": 17.3, \"B\": 396.9, \"LSTAT\": 5.77, \"MEDV\": 24.7}, {\"CRIM\": 0.01432, \"ZN\": 100.0, \"INDUS\": 1.32, \"CHAS\": 0, \"NOX\": 0.411, \"RM\": 6.816, \"AGE\": 40.5, \"DIS\": 8.3248, \"RAD\": 5, \"TAX\": 256.0, \"PTRATIO\": 15.1, \"B\": 392.9, \"LSTAT\": 3.95, \"MEDV\": 31.6}, {\"CRIM\": 0.15445, \"ZN\": 25.0, \"INDUS\": 5.13, \"CHAS\": 0, \"NOX\": 0.453, \"RM\": 6.145, \"AGE\": 29.2, \"DIS\": 7.8148, \"RAD\": 8, \"TAX\": 284.0, \"PTRATIO\": 19.7, \"B\": 390.68, \"LSTAT\": 6.86, \"MEDV\": 23.3}, {\"CRIM\": 0.10328, \"ZN\": 25.0, \"INDUS\": 5.13, \"CHAS\": 0, \"NOX\": 0.453, \"RM\": 5.927, \"AGE\": 47.2, \"DIS\": 6.932, \"RAD\": 8, \"TAX\": 284.0, \"PTRATIO\": 19.7, \"B\": 396.9, \"LSTAT\": 9.22, \"MEDV\": 19.6}, {\"CRIM\": 0.14932, \"ZN\": 25.0, \"INDUS\": 5.13, \"CHAS\": 0, \"NOX\": 0.453, \"RM\": 5.741, \"AGE\": 66.2, \"DIS\": 7.2254, \"RAD\": 8, \"TAX\": 284.0, \"PTRATIO\": 19.7, \"B\": 395.11, \"LSTAT\": 13.15, \"MEDV\": 18.7}, {\"CRIM\": 0.17171, \"ZN\": 25.0, \"INDUS\": 5.13, \"CHAS\": 0, \"NOX\": 0.453, \"RM\": 5.966, \"AGE\": 93.4, \"DIS\": 6.8185, \"RAD\": 8, \"TAX\": 284.0, \"PTRATIO\": 19.7, \"B\": 378.08, \"LSTAT\": 14.44, \"MEDV\": 16.0}, {\"CRIM\": 0.11027, \"ZN\": 25.0, \"INDUS\": 5.13, \"CHAS\": 0, \"NOX\": 0.453, \"RM\": 6.456, \"AGE\": 67.8, \"DIS\": 7.2255, \"RAD\": 8, \"TAX\": 284.0, \"PTRATIO\": 19.7, \"B\": 396.9, \"LSTAT\": 6.73, \"MEDV\": 22.2}, {\"CRIM\": 0.1265, \"ZN\": 25.0, \"INDUS\": 5.13, \"CHAS\": 0, \"NOX\": 0.453, \"RM\": 6.762, \"AGE\": 43.4, \"DIS\": 7.9809, \"RAD\": 8, \"TAX\": 284.0, \"PTRATIO\": 19.7, \"B\": 395.58, \"LSTAT\": 9.5, \"MEDV\": 25.0}, {\"CRIM\": 0.01951, \"ZN\": 17.5, \"INDUS\": 1.38, \"CHAS\": 0, \"NOX\": 0.4161, \"RM\": 7.104, \"AGE\": 59.5, \"DIS\": 9.2229, \"RAD\": 3, \"TAX\": 216.0, \"PTRATIO\": 18.6, \"B\": 393.24, \"LSTAT\": 8.05, \"MEDV\": 33.0}, {\"CRIM\": 0.03584, \"ZN\": 80.0, \"INDUS\": 3.37, \"CHAS\": 0, \"NOX\": 0.398, \"RM\": 6.29, \"AGE\": 17.8, \"DIS\": 6.6115, \"RAD\": 4, \"TAX\": 337.0, \"PTRATIO\": 16.1, \"B\": 396.9, \"LSTAT\": 4.67, \"MEDV\": 23.5}, {\"CRIM\": 0.043789999999999996, \"ZN\": 80.0, \"INDUS\": 3.37, \"CHAS\": 0, \"NOX\": 0.398, \"RM\": 5.787, \"AGE\": 31.1, \"DIS\": 6.6115, \"RAD\": 4, \"TAX\": 337.0, \"PTRATIO\": 16.1, \"B\": 396.9, \"LSTAT\": 10.24, \"MEDV\": 19.4}, {\"CRIM\": 0.05789, \"ZN\": 12.5, \"INDUS\": 6.07, \"CHAS\": 0, \"NOX\": 0.409, \"RM\": 5.878, \"AGE\": 21.4, \"DIS\": 6.498, \"RAD\": 4, \"TAX\": 345.0, \"PTRATIO\": 18.9, \"B\": 396.21, \"LSTAT\": 8.1, \"MEDV\": 22.0}, {\"CRIM\": 0.13554000000000002, \"ZN\": 12.5, \"INDUS\": 6.07, \"CHAS\": 0, \"NOX\": 0.409, \"RM\": 5.594, \"AGE\": 36.8, \"DIS\": 6.498, \"RAD\": 4, \"TAX\": 345.0, \"PTRATIO\": 18.9, \"B\": 396.9, \"LSTAT\": 13.09, \"MEDV\": 17.4}, {\"CRIM\": 0.12816, \"ZN\": 12.5, \"INDUS\": 6.07, \"CHAS\": 0, \"NOX\": 0.409, \"RM\": 5.885, \"AGE\": 33.0, \"DIS\": 6.498, \"RAD\": 4, \"TAX\": 345.0, \"PTRATIO\": 18.9, \"B\": 396.9, \"LSTAT\": 8.79, \"MEDV\": 20.9}, {\"CRIM\": 0.08826, \"ZN\": 0.0, \"INDUS\": 10.81, \"CHAS\": 0, \"NOX\": 0.413, \"RM\": 6.417, \"AGE\": 6.6, \"DIS\": 5.2873, \"RAD\": 4, \"TAX\": 305.0, \"PTRATIO\": 19.2, \"B\": 383.73, \"LSTAT\": 6.72, \"MEDV\": 24.2}, {\"CRIM\": 0.15875999999999998, \"ZN\": 0.0, \"INDUS\": 10.81, \"CHAS\": 0, \"NOX\": 0.413, \"RM\": 5.961, \"AGE\": 17.5, \"DIS\": 5.2873, \"RAD\": 4, \"TAX\": 305.0, \"PTRATIO\": 19.2, \"B\": 376.94, \"LSTAT\": 9.88, \"MEDV\": 21.7}, {\"CRIM\": 0.09164, \"ZN\": 0.0, \"INDUS\": 10.81, \"CHAS\": 0, \"NOX\": 0.413, \"RM\": 6.065, \"AGE\": 7.8, \"DIS\": 5.2873, \"RAD\": 4, \"TAX\": 305.0, \"PTRATIO\": 19.2, \"B\": 390.91, \"LSTAT\": 5.52, \"MEDV\": 22.8}, {\"CRIM\": 0.19539, \"ZN\": 0.0, \"INDUS\": 10.81, \"CHAS\": 0, \"NOX\": 0.413, \"RM\": 6.245, \"AGE\": 6.2, \"DIS\": 5.2873, \"RAD\": 4, \"TAX\": 305.0, \"PTRATIO\": 19.2, \"B\": 377.17, \"LSTAT\": 7.54, \"MEDV\": 23.4}, {\"CRIM\": 0.07896, \"ZN\": 0.0, \"INDUS\": 12.83, \"CHAS\": 0, \"NOX\": 0.437, \"RM\": 6.273, \"AGE\": 6.0, \"DIS\": 4.2515, \"RAD\": 5, \"TAX\": 398.0, \"PTRATIO\": 18.7, \"B\": 394.92, \"LSTAT\": 6.78, \"MEDV\": 24.1}, {\"CRIM\": 0.09512000000000001, \"ZN\": 0.0, \"INDUS\": 12.83, \"CHAS\": 0, \"NOX\": 0.437, \"RM\": 6.286, \"AGE\": 45.0, \"DIS\": 4.5026, \"RAD\": 5, \"TAX\": 398.0, \"PTRATIO\": 18.7, \"B\": 383.23, \"LSTAT\": 8.94, \"MEDV\": 21.4}, {\"CRIM\": 0.10153, \"ZN\": 0.0, \"INDUS\": 12.83, \"CHAS\": 0, \"NOX\": 0.437, \"RM\": 6.279, \"AGE\": 74.5, \"DIS\": 4.0522, \"RAD\": 5, \"TAX\": 398.0, \"PTRATIO\": 18.7, \"B\": 373.66, \"LSTAT\": 11.97, \"MEDV\": 20.0}, {\"CRIM\": 0.08707000000000001, \"ZN\": 0.0, \"INDUS\": 12.83, \"CHAS\": 0, \"NOX\": 0.437, \"RM\": 6.14, \"AGE\": 45.8, \"DIS\": 4.0905, \"RAD\": 5, \"TAX\": 398.0, \"PTRATIO\": 18.7, \"B\": 386.96, \"LSTAT\": 10.27, \"MEDV\": 20.8}, {\"CRIM\": 0.05646, \"ZN\": 0.0, \"INDUS\": 12.83, \"CHAS\": 0, \"NOX\": 0.437, \"RM\": 6.232, \"AGE\": 53.7, \"DIS\": 5.0141, \"RAD\": 5, \"TAX\": 398.0, \"PTRATIO\": 18.7, \"B\": 386.4, \"LSTAT\": 12.34, \"MEDV\": 21.2}, {\"CRIM\": 0.08387, \"ZN\": 0.0, \"INDUS\": 12.83, \"CHAS\": 0, \"NOX\": 0.437, \"RM\": 5.874, \"AGE\": 36.6, \"DIS\": 4.5026, \"RAD\": 5, \"TAX\": 398.0, \"PTRATIO\": 18.7, \"B\": 396.06, \"LSTAT\": 9.1, \"MEDV\": 20.3}, {\"CRIM\": 0.04113, \"ZN\": 25.0, \"INDUS\": 4.86, \"CHAS\": 0, \"NOX\": 0.426, \"RM\": 6.727, \"AGE\": 33.5, \"DIS\": 5.4007, \"RAD\": 4, \"TAX\": 281.0, \"PTRATIO\": 19.0, \"B\": 396.9, \"LSTAT\": 5.29, \"MEDV\": 28.0}, {\"CRIM\": 0.04462, \"ZN\": 25.0, \"INDUS\": 4.86, \"CHAS\": 0, \"NOX\": 0.426, \"RM\": 6.619, \"AGE\": 70.4, \"DIS\": 5.4007, \"RAD\": 4, \"TAX\": 281.0, \"PTRATIO\": 19.0, \"B\": 395.63, \"LSTAT\": 7.22, \"MEDV\": 23.9}, {\"CRIM\": 0.03659, \"ZN\": 25.0, \"INDUS\": 4.86, \"CHAS\": 0, \"NOX\": 0.426, \"RM\": 6.302, \"AGE\": 32.2, \"DIS\": 5.4007, \"RAD\": 4, \"TAX\": 281.0, \"PTRATIO\": 19.0, \"B\": 396.9, \"LSTAT\": 6.72, \"MEDV\": 24.8}, {\"CRIM\": 0.03551, \"ZN\": 25.0, \"INDUS\": 4.86, \"CHAS\": 0, \"NOX\": 0.426, \"RM\": 6.167, \"AGE\": 46.7, \"DIS\": 5.4007, \"RAD\": 4, \"TAX\": 281.0, \"PTRATIO\": 19.0, \"B\": 390.64, \"LSTAT\": 7.51, \"MEDV\": 22.9}, {\"CRIM\": 0.050589999999999996, \"ZN\": 0.0, \"INDUS\": 4.49, \"CHAS\": 0, \"NOX\": 0.449, \"RM\": 6.389, \"AGE\": 48.0, \"DIS\": 4.7794, \"RAD\": 3, \"TAX\": 247.0, \"PTRATIO\": 18.5, \"B\": 396.9, \"LSTAT\": 9.62, \"MEDV\": 23.9}, {\"CRIM\": 0.05735, \"ZN\": 0.0, \"INDUS\": 4.49, \"CHAS\": 0, \"NOX\": 0.449, \"RM\": 6.63, \"AGE\": 56.1, \"DIS\": 4.4377, \"RAD\": 3, \"TAX\": 247.0, \"PTRATIO\": 18.5, \"B\": 392.3, \"LSTAT\": 6.53, \"MEDV\": 26.6}, {\"CRIM\": 0.051879999999999996, \"ZN\": 0.0, \"INDUS\": 4.49, \"CHAS\": 0, \"NOX\": 0.449, \"RM\": 6.015, \"AGE\": 45.1, \"DIS\": 4.4272, \"RAD\": 3, \"TAX\": 247.0, \"PTRATIO\": 18.5, \"B\": 395.99, \"LSTAT\": 12.86, \"MEDV\": 22.5}, {\"CRIM\": 0.07151, \"ZN\": 0.0, \"INDUS\": 4.49, \"CHAS\": 0, \"NOX\": 0.449, \"RM\": 6.121, \"AGE\": 56.8, \"DIS\": 3.7476, \"RAD\": 3, \"TAX\": 247.0, \"PTRATIO\": 18.5, \"B\": 395.15, \"LSTAT\": 8.44, \"MEDV\": 22.2}, {\"CRIM\": 0.0566, \"ZN\": 0.0, \"INDUS\": 3.41, \"CHAS\": 0, \"NOX\": 0.489, \"RM\": 7.007, \"AGE\": 86.3, \"DIS\": 3.4217, \"RAD\": 2, \"TAX\": 270.0, \"PTRATIO\": 17.8, \"B\": 396.9, \"LSTAT\": 5.5, \"MEDV\": 23.6}, {\"CRIM\": 0.053020000000000005, \"ZN\": 0.0, \"INDUS\": 3.41, \"CHAS\": 0, \"NOX\": 0.489, \"RM\": 7.079, \"AGE\": 63.1, \"DIS\": 3.4145, \"RAD\": 2, \"TAX\": 270.0, \"PTRATIO\": 17.8, \"B\": 396.06, \"LSTAT\": 5.7, \"MEDV\": 28.7}, {\"CRIM\": 0.04684, \"ZN\": 0.0, \"INDUS\": 3.41, \"CHAS\": 0, \"NOX\": 0.489, \"RM\": 6.417, \"AGE\": 66.1, \"DIS\": 3.0923, \"RAD\": 2, \"TAX\": 270.0, \"PTRATIO\": 17.8, \"B\": 392.18, \"LSTAT\": 8.81, \"MEDV\": 22.6}, {\"CRIM\": 0.03932, \"ZN\": 0.0, \"INDUS\": 3.41, \"CHAS\": 0, \"NOX\": 0.489, \"RM\": 6.405, \"AGE\": 73.9, \"DIS\": 3.0921, \"RAD\": 2, \"TAX\": 270.0, \"PTRATIO\": 17.8, \"B\": 393.55, \"LSTAT\": 8.2, \"MEDV\": 22.0}, {\"CRIM\": 0.04203, \"ZN\": 28.0, \"INDUS\": 15.04, \"CHAS\": 0, \"NOX\": 0.464, \"RM\": 6.442, \"AGE\": 53.6, \"DIS\": 3.6659, \"RAD\": 4, \"TAX\": 270.0, \"PTRATIO\": 18.2, \"B\": 395.01, \"LSTAT\": 8.16, \"MEDV\": 22.9}, {\"CRIM\": 0.02875, \"ZN\": 28.0, \"INDUS\": 15.04, \"CHAS\": 0, \"NOX\": 0.464, \"RM\": 6.211, \"AGE\": 28.9, \"DIS\": 3.6659, \"RAD\": 4, \"TAX\": 270.0, \"PTRATIO\": 18.2, \"B\": 396.33, \"LSTAT\": 6.21, \"MEDV\": 25.0}, {\"CRIM\": 0.04294, \"ZN\": 28.0, \"INDUS\": 15.04, \"CHAS\": 0, \"NOX\": 0.464, \"RM\": 6.249, \"AGE\": 77.3, \"DIS\": 3.615, \"RAD\": 4, \"TAX\": 270.0, \"PTRATIO\": 18.2, \"B\": 396.9, \"LSTAT\": 10.59, \"MEDV\": 20.6}, {\"CRIM\": 0.12204000000000001, \"ZN\": 0.0, \"INDUS\": 2.89, \"CHAS\": 0, \"NOX\": 0.445, \"RM\": 6.625, \"AGE\": 57.8, \"DIS\": 3.4952, \"RAD\": 2, \"TAX\": 276.0, \"PTRATIO\": 18.0, \"B\": 357.98, \"LSTAT\": 6.65, \"MEDV\": 28.4}, {\"CRIM\": 0.11504, \"ZN\": 0.0, \"INDUS\": 2.89, \"CHAS\": 0, \"NOX\": 0.445, \"RM\": 6.163, \"AGE\": 69.6, \"DIS\": 3.4952, \"RAD\": 2, \"TAX\": 276.0, \"PTRATIO\": 18.0, \"B\": 391.83, \"LSTAT\": 11.34, \"MEDV\": 21.4}, {\"CRIM\": 0.12082999999999999, \"ZN\": 0.0, \"INDUS\": 2.89, \"CHAS\": 0, \"NOX\": 0.445, \"RM\": 8.069, \"AGE\": 76.0, \"DIS\": 3.4952, \"RAD\": 2, \"TAX\": 276.0, \"PTRATIO\": 18.0, \"B\": 396.9, \"LSTAT\": 4.21, \"MEDV\": 38.7}, {\"CRIM\": 0.08187, \"ZN\": 0.0, \"INDUS\": 2.89, \"CHAS\": 0, \"NOX\": 0.445, \"RM\": 7.82, \"AGE\": 36.9, \"DIS\": 3.4952, \"RAD\": 2, \"TAX\": 276.0, \"PTRATIO\": 18.0, \"B\": 393.53, \"LSTAT\": 3.57, \"MEDV\": 43.8}, {\"CRIM\": 0.0686, \"ZN\": 0.0, \"INDUS\": 2.89, \"CHAS\": 0, \"NOX\": 0.445, \"RM\": 7.416, \"AGE\": 62.5, \"DIS\": 3.4952, \"RAD\": 2, \"TAX\": 276.0, \"PTRATIO\": 18.0, \"B\": 396.9, \"LSTAT\": 6.19, \"MEDV\": 33.2}, {\"CRIM\": 0.14866, \"ZN\": 0.0, \"INDUS\": 8.56, \"CHAS\": 0, \"NOX\": 0.52, \"RM\": 6.727, \"AGE\": 79.9, \"DIS\": 2.7778, \"RAD\": 5, \"TAX\": 384.0, \"PTRATIO\": 20.9, \"B\": 394.76, \"LSTAT\": 9.42, \"MEDV\": 27.5}, {\"CRIM\": 0.11432, \"ZN\": 0.0, \"INDUS\": 8.56, \"CHAS\": 0, \"NOX\": 0.52, \"RM\": 6.781, \"AGE\": 71.3, \"DIS\": 2.8561, \"RAD\": 5, \"TAX\": 384.0, \"PTRATIO\": 20.9, \"B\": 395.58, \"LSTAT\": 7.67, \"MEDV\": 26.5}, {\"CRIM\": 0.22876, \"ZN\": 0.0, \"INDUS\": 8.56, \"CHAS\": 0, \"NOX\": 0.52, \"RM\": 6.405, \"AGE\": 85.4, \"DIS\": 2.7147, \"RAD\": 5, \"TAX\": 384.0, \"PTRATIO\": 20.9, \"B\": 70.8, \"LSTAT\": 10.63, \"MEDV\": 18.6}, {\"CRIM\": 0.21161, \"ZN\": 0.0, \"INDUS\": 8.56, \"CHAS\": 0, \"NOX\": 0.52, \"RM\": 6.137, \"AGE\": 87.4, \"DIS\": 2.7147, \"RAD\": 5, \"TAX\": 384.0, \"PTRATIO\": 20.9, \"B\": 394.47, \"LSTAT\": 13.44, \"MEDV\": 19.3}, {\"CRIM\": 0.1396, \"ZN\": 0.0, \"INDUS\": 8.56, \"CHAS\": 0, \"NOX\": 0.52, \"RM\": 6.167, \"AGE\": 90.0, \"DIS\": 2.421, \"RAD\": 5, \"TAX\": 384.0, \"PTRATIO\": 20.9, \"B\": 392.69, \"LSTAT\": 12.33, \"MEDV\": 20.1}, {\"CRIM\": 0.13262000000000002, \"ZN\": 0.0, \"INDUS\": 8.56, \"CHAS\": 0, \"NOX\": 0.52, \"RM\": 5.851, \"AGE\": 96.7, \"DIS\": 2.1069, \"RAD\": 5, \"TAX\": 384.0, \"PTRATIO\": 20.9, \"B\": 394.05, \"LSTAT\": 16.47, \"MEDV\": 19.5}, {\"CRIM\": 0.1712, \"ZN\": 0.0, \"INDUS\": 8.56, \"CHAS\": 0, \"NOX\": 0.52, \"RM\": 5.836, \"AGE\": 91.9, \"DIS\": 2.211, \"RAD\": 5, \"TAX\": 384.0, \"PTRATIO\": 20.9, \"B\": 395.67, \"LSTAT\": 18.66, \"MEDV\": 19.5}, {\"CRIM\": 0.13117, \"ZN\": 0.0, \"INDUS\": 8.56, \"CHAS\": 0, \"NOX\": 0.52, \"RM\": 6.127, \"AGE\": 85.2, \"DIS\": 2.1224, \"RAD\": 5, \"TAX\": 384.0, \"PTRATIO\": 20.9, \"B\": 387.69, \"LSTAT\": 14.09, \"MEDV\": 20.4}, {\"CRIM\": 0.12802, \"ZN\": 0.0, \"INDUS\": 8.56, \"CHAS\": 0, \"NOX\": 0.52, \"RM\": 6.474, \"AGE\": 97.1, \"DIS\": 2.4329, \"RAD\": 5, \"TAX\": 384.0, \"PTRATIO\": 20.9, \"B\": 395.24, \"LSTAT\": 12.27, \"MEDV\": 19.8}, {\"CRIM\": 0.26363000000000003, \"ZN\": 0.0, \"INDUS\": 8.56, \"CHAS\": 0, \"NOX\": 0.52, \"RM\": 6.229, \"AGE\": 91.2, \"DIS\": 2.5451, \"RAD\": 5, \"TAX\": 384.0, \"PTRATIO\": 20.9, \"B\": 391.23, \"LSTAT\": 15.55, \"MEDV\": 19.4}, {\"CRIM\": 0.10793, \"ZN\": 0.0, \"INDUS\": 8.56, \"CHAS\": 0, \"NOX\": 0.52, \"RM\": 6.195, \"AGE\": 54.4, \"DIS\": 2.7778, \"RAD\": 5, \"TAX\": 384.0, \"PTRATIO\": 20.9, \"B\": 393.49, \"LSTAT\": 13.0, \"MEDV\": 21.7}, {\"CRIM\": 0.10084, \"ZN\": 0.0, \"INDUS\": 10.01, \"CHAS\": 0, \"NOX\": 0.547, \"RM\": 6.715, \"AGE\": 81.6, \"DIS\": 2.6775, \"RAD\": 6, \"TAX\": 432.0, \"PTRATIO\": 17.8, \"B\": 395.59, \"LSTAT\": 10.16, \"MEDV\": 22.8}, {\"CRIM\": 0.12329000000000001, \"ZN\": 0.0, \"INDUS\": 10.01, \"CHAS\": 0, \"NOX\": 0.547, \"RM\": 5.913, \"AGE\": 92.9, \"DIS\": 2.3534, \"RAD\": 6, \"TAX\": 432.0, \"PTRATIO\": 17.8, \"B\": 394.95, \"LSTAT\": 16.21, \"MEDV\": 18.8}, {\"CRIM\": 0.22211999999999998, \"ZN\": 0.0, \"INDUS\": 10.01, \"CHAS\": 0, \"NOX\": 0.547, \"RM\": 6.092, \"AGE\": 95.4, \"DIS\": 2.548, \"RAD\": 6, \"TAX\": 432.0, \"PTRATIO\": 17.8, \"B\": 396.9, \"LSTAT\": 17.09, \"MEDV\": 18.7}, {\"CRIM\": 0.14231, \"ZN\": 0.0, \"INDUS\": 10.01, \"CHAS\": 0, \"NOX\": 0.547, \"RM\": 6.254, \"AGE\": 84.2, \"DIS\": 2.2565, \"RAD\": 6, \"TAX\": 432.0, \"PTRATIO\": 17.8, \"B\": 388.74, \"LSTAT\": 10.45, \"MEDV\": 18.5}, {\"CRIM\": 0.17134000000000002, \"ZN\": 0.0, \"INDUS\": 10.01, \"CHAS\": 0, \"NOX\": 0.547, \"RM\": 5.928, \"AGE\": 88.2, \"DIS\": 2.4631, \"RAD\": 6, \"TAX\": 432.0, \"PTRATIO\": 17.8, \"B\": 344.91, \"LSTAT\": 15.76, \"MEDV\": 18.3}, {\"CRIM\": 0.13158, \"ZN\": 0.0, \"INDUS\": 10.01, \"CHAS\": 0, \"NOX\": 0.547, \"RM\": 6.176, \"AGE\": 72.5, \"DIS\": 2.7301, \"RAD\": 6, \"TAX\": 432.0, \"PTRATIO\": 17.8, \"B\": 393.3, \"LSTAT\": 12.04, \"MEDV\": 21.2}, {\"CRIM\": 0.15098, \"ZN\": 0.0, \"INDUS\": 10.01, \"CHAS\": 0, \"NOX\": 0.547, \"RM\": 6.021, \"AGE\": 82.6, \"DIS\": 2.7474, \"RAD\": 6, \"TAX\": 432.0, \"PTRATIO\": 17.8, \"B\": 394.51, \"LSTAT\": 10.3, \"MEDV\": 19.2}, {\"CRIM\": 0.13058, \"ZN\": 0.0, \"INDUS\": 10.01, \"CHAS\": 0, \"NOX\": 0.547, \"RM\": 5.872, \"AGE\": 73.1, \"DIS\": 2.4775, \"RAD\": 6, \"TAX\": 432.0, \"PTRATIO\": 17.8, \"B\": 338.63, \"LSTAT\": 15.37, \"MEDV\": 20.4}, {\"CRIM\": 0.14476, \"ZN\": 0.0, \"INDUS\": 10.01, \"CHAS\": 0, \"NOX\": 0.547, \"RM\": 5.731, \"AGE\": 65.2, \"DIS\": 2.7592, \"RAD\": 6, \"TAX\": 432.0, \"PTRATIO\": 17.8, \"B\": 391.5, \"LSTAT\": 13.61, \"MEDV\": 19.3}, {\"CRIM\": 0.06899, \"ZN\": 0.0, \"INDUS\": 25.65, \"CHAS\": 0, \"NOX\": 0.581, \"RM\": 5.87, \"AGE\": 69.7, \"DIS\": 2.2577, \"RAD\": 2, \"TAX\": 188.0, \"PTRATIO\": 19.1, \"B\": 389.15, \"LSTAT\": 14.37, \"MEDV\": 22.0}, {\"CRIM\": 0.07165, \"ZN\": 0.0, \"INDUS\": 25.65, \"CHAS\": 0, \"NOX\": 0.581, \"RM\": 6.004, \"AGE\": 84.1, \"DIS\": 2.1974, \"RAD\": 2, \"TAX\": 188.0, \"PTRATIO\": 19.1, \"B\": 377.67, \"LSTAT\": 14.27, \"MEDV\": 20.3}, {\"CRIM\": 0.09299, \"ZN\": 0.0, \"INDUS\": 25.65, \"CHAS\": 0, \"NOX\": 0.581, \"RM\": 5.961, \"AGE\": 92.9, \"DIS\": 2.0869, \"RAD\": 2, \"TAX\": 188.0, \"PTRATIO\": 19.1, \"B\": 378.09, \"LSTAT\": 17.93, \"MEDV\": 20.5}, {\"CRIM\": 0.15037999999999999, \"ZN\": 0.0, \"INDUS\": 25.65, \"CHAS\": 0, \"NOX\": 0.581, \"RM\": 5.856, \"AGE\": 97.0, \"DIS\": 1.9444, \"RAD\": 2, \"TAX\": 188.0, \"PTRATIO\": 19.1, \"B\": 370.31, \"LSTAT\": 25.41, \"MEDV\": 17.3}, {\"CRIM\": 0.09849, \"ZN\": 0.0, \"INDUS\": 25.65, \"CHAS\": 0, \"NOX\": 0.581, \"RM\": 5.879, \"AGE\": 95.8, \"DIS\": 2.0063, \"RAD\": 2, \"TAX\": 188.0, \"PTRATIO\": 19.1, \"B\": 379.38, \"LSTAT\": 17.58, \"MEDV\": 18.8}, {\"CRIM\": 0.16902, \"ZN\": 0.0, \"INDUS\": 25.65, \"CHAS\": 0, \"NOX\": 0.581, \"RM\": 5.986, \"AGE\": 88.4, \"DIS\": 1.9929, \"RAD\": 2, \"TAX\": 188.0, \"PTRATIO\": 19.1, \"B\": 385.02, \"LSTAT\": 14.81, \"MEDV\": 21.4}, {\"CRIM\": 0.38735, \"ZN\": 0.0, \"INDUS\": 25.65, \"CHAS\": 0, \"NOX\": 0.581, \"RM\": 5.613, \"AGE\": 95.6, \"DIS\": 1.7572, \"RAD\": 2, \"TAX\": 188.0, \"PTRATIO\": 19.1, \"B\": 359.29, \"LSTAT\": 27.26, \"MEDV\": 15.7}, {\"CRIM\": 0.25915, \"ZN\": 0.0, \"INDUS\": 21.89, \"CHAS\": 0, \"NOX\": 0.624, \"RM\": 5.693, \"AGE\": 96.0, \"DIS\": 1.7883, \"RAD\": 4, \"TAX\": 437.0, \"PTRATIO\": 21.2, \"B\": 392.11, \"LSTAT\": 17.19, \"MEDV\": 16.2}, {\"CRIM\": 0.32543, \"ZN\": 0.0, \"INDUS\": 21.89, \"CHAS\": 0, \"NOX\": 0.624, \"RM\": 6.431, \"AGE\": 98.8, \"DIS\": 1.8125, \"RAD\": 4, \"TAX\": 437.0, \"PTRATIO\": 21.2, \"B\": 396.9, \"LSTAT\": 15.39, \"MEDV\": 18.0}, {\"CRIM\": 0.88125, \"ZN\": 0.0, \"INDUS\": 21.89, \"CHAS\": 0, \"NOX\": 0.624, \"RM\": 5.637, \"AGE\": 94.7, \"DIS\": 1.9799, \"RAD\": 4, \"TAX\": 437.0, \"PTRATIO\": 21.2, \"B\": 396.9, \"LSTAT\": 18.34, \"MEDV\": 14.3}, {\"CRIM\": 0.34006, \"ZN\": 0.0, \"INDUS\": 21.89, \"CHAS\": 0, \"NOX\": 0.624, \"RM\": 6.458, \"AGE\": 98.9, \"DIS\": 2.1185, \"RAD\": 4, \"TAX\": 437.0, \"PTRATIO\": 21.2, \"B\": 395.04, \"LSTAT\": 12.6, \"MEDV\": 19.2}, {\"CRIM\": 1.19294, \"ZN\": 0.0, \"INDUS\": 21.89, \"CHAS\": 0, \"NOX\": 0.624, \"RM\": 6.326, \"AGE\": 97.7, \"DIS\": 2.271, \"RAD\": 4, \"TAX\": 437.0, \"PTRATIO\": 21.2, \"B\": 396.9, \"LSTAT\": 12.26, \"MEDV\": 19.6}, {\"CRIM\": 0.59005, \"ZN\": 0.0, \"INDUS\": 21.89, \"CHAS\": 0, \"NOX\": 0.624, \"RM\": 6.372, \"AGE\": 97.9, \"DIS\": 2.3274, \"RAD\": 4, \"TAX\": 437.0, \"PTRATIO\": 21.2, \"B\": 385.76, \"LSTAT\": 11.12, \"MEDV\": 23.0}, {\"CRIM\": 0.32982, \"ZN\": 0.0, \"INDUS\": 21.89, \"CHAS\": 0, \"NOX\": 0.624, \"RM\": 5.822, \"AGE\": 95.4, \"DIS\": 2.4699, \"RAD\": 4, \"TAX\": 437.0, \"PTRATIO\": 21.2, \"B\": 388.69, \"LSTAT\": 15.03, \"MEDV\": 18.4}, {\"CRIM\": 0.9761700000000001, \"ZN\": 0.0, \"INDUS\": 21.89, \"CHAS\": 0, \"NOX\": 0.624, \"RM\": 5.757, \"AGE\": 98.4, \"DIS\": 2.346, \"RAD\": 4, \"TAX\": 437.0, \"PTRATIO\": 21.2, \"B\": 262.76, \"LSTAT\": 17.31, \"MEDV\": 15.6}, {\"CRIM\": 0.55778, \"ZN\": 0.0, \"INDUS\": 21.89, \"CHAS\": 0, \"NOX\": 0.624, \"RM\": 6.335, \"AGE\": 98.2, \"DIS\": 2.1107, \"RAD\": 4, \"TAX\": 437.0, \"PTRATIO\": 21.2, \"B\": 394.67, \"LSTAT\": 16.96, \"MEDV\": 18.1}, {\"CRIM\": 0.32264, \"ZN\": 0.0, \"INDUS\": 21.89, \"CHAS\": 0, \"NOX\": 0.624, \"RM\": 5.942, \"AGE\": 93.5, \"DIS\": 1.9669, \"RAD\": 4, \"TAX\": 437.0, \"PTRATIO\": 21.2, \"B\": 378.25, \"LSTAT\": 16.9, \"MEDV\": 17.4}, {\"CRIM\": 0.35233000000000003, \"ZN\": 0.0, \"INDUS\": 21.89, \"CHAS\": 0, \"NOX\": 0.624, \"RM\": 6.454, \"AGE\": 98.4, \"DIS\": 1.8498, \"RAD\": 4, \"TAX\": 437.0, \"PTRATIO\": 21.2, \"B\": 394.08, \"LSTAT\": 14.59, \"MEDV\": 17.1}, {\"CRIM\": 0.2498, \"ZN\": 0.0, \"INDUS\": 21.89, \"CHAS\": 0, \"NOX\": 0.624, \"RM\": 5.857, \"AGE\": 98.2, \"DIS\": 1.6686, \"RAD\": 4, \"TAX\": 437.0, \"PTRATIO\": 21.2, \"B\": 392.04, \"LSTAT\": 21.32, \"MEDV\": 13.3}, {\"CRIM\": 0.54452, \"ZN\": 0.0, \"INDUS\": 21.89, \"CHAS\": 0, \"NOX\": 0.624, \"RM\": 6.151, \"AGE\": 97.9, \"DIS\": 1.6687, \"RAD\": 4, \"TAX\": 437.0, \"PTRATIO\": 21.2, \"B\": 396.9, \"LSTAT\": 18.46, \"MEDV\": 17.8}, {\"CRIM\": 0.2909, \"ZN\": 0.0, \"INDUS\": 21.89, \"CHAS\": 0, \"NOX\": 0.624, \"RM\": 6.174, \"AGE\": 93.6, \"DIS\": 1.6119, \"RAD\": 4, \"TAX\": 437.0, \"PTRATIO\": 21.2, \"B\": 388.08, \"LSTAT\": 24.16, \"MEDV\": 14.0}, {\"CRIM\": 1.6286399999999999, \"ZN\": 0.0, \"INDUS\": 21.89, \"CHAS\": 0, \"NOX\": 0.624, \"RM\": 5.019, \"AGE\": 100.0, \"DIS\": 1.4394, \"RAD\": 4, \"TAX\": 437.0, \"PTRATIO\": 21.2, \"B\": 396.9, \"LSTAT\": 34.41, \"MEDV\": 14.4}, {\"CRIM\": 3.32105, \"ZN\": 0.0, \"INDUS\": 19.58, \"CHAS\": 1, \"NOX\": 0.871, \"RM\": 5.403, \"AGE\": 100.0, \"DIS\": 1.3216, \"RAD\": 5, \"TAX\": 403.0, \"PTRATIO\": 14.7, \"B\": 396.9, \"LSTAT\": 26.82, \"MEDV\": 13.4}, {\"CRIM\": 4.0974, \"ZN\": 0.0, \"INDUS\": 19.58, \"CHAS\": 0, \"NOX\": 0.871, \"RM\": 5.468, \"AGE\": 100.0, \"DIS\": 1.4118, \"RAD\": 5, \"TAX\": 403.0, \"PTRATIO\": 14.7, \"B\": 396.9, \"LSTAT\": 26.42, \"MEDV\": 15.6}, {\"CRIM\": 2.7797400000000003, \"ZN\": 0.0, \"INDUS\": 19.58, \"CHAS\": 0, \"NOX\": 0.871, \"RM\": 4.903, \"AGE\": 97.8, \"DIS\": 1.3459, \"RAD\": 5, \"TAX\": 403.0, \"PTRATIO\": 14.7, \"B\": 396.9, \"LSTAT\": 29.29, \"MEDV\": 11.8}, {\"CRIM\": 2.37934, \"ZN\": 0.0, \"INDUS\": 19.58, \"CHAS\": 0, \"NOX\": 0.871, \"RM\": 6.13, \"AGE\": 100.0, \"DIS\": 1.4191, \"RAD\": 5, \"TAX\": 403.0, \"PTRATIO\": 14.7, \"B\": 172.91, \"LSTAT\": 27.8, \"MEDV\": 13.8}, {\"CRIM\": 2.15505, \"ZN\": 0.0, \"INDUS\": 19.58, \"CHAS\": 0, \"NOX\": 0.871, \"RM\": 5.628, \"AGE\": 100.0, \"DIS\": 1.5166, \"RAD\": 5, \"TAX\": 403.0, \"PTRATIO\": 14.7, \"B\": 169.27, \"LSTAT\": 16.65, \"MEDV\": 15.6}, {\"CRIM\": 2.36862, \"ZN\": 0.0, \"INDUS\": 19.58, \"CHAS\": 0, \"NOX\": 0.871, \"RM\": 4.926, \"AGE\": 95.7, \"DIS\": 1.4608, \"RAD\": 5, \"TAX\": 403.0, \"PTRATIO\": 14.7, \"B\": 391.71, \"LSTAT\": 29.53, \"MEDV\": 14.6}, {\"CRIM\": 2.3309900000000003, \"ZN\": 0.0, \"INDUS\": 19.58, \"CHAS\": 0, \"NOX\": 0.871, \"RM\": 5.186, \"AGE\": 93.8, \"DIS\": 1.5296, \"RAD\": 5, \"TAX\": 403.0, \"PTRATIO\": 14.7, \"B\": 356.99, \"LSTAT\": 28.32, \"MEDV\": 17.8}, {\"CRIM\": 2.7339700000000002, \"ZN\": 0.0, \"INDUS\": 19.58, \"CHAS\": 0, \"NOX\": 0.871, \"RM\": 5.597, \"AGE\": 94.9, \"DIS\": 1.5257, \"RAD\": 5, \"TAX\": 403.0, \"PTRATIO\": 14.7, \"B\": 351.85, \"LSTAT\": 21.45, \"MEDV\": 15.4}, {\"CRIM\": 1.6566, \"ZN\": 0.0, \"INDUS\": 19.58, \"CHAS\": 0, \"NOX\": 0.871, \"RM\": 6.122, \"AGE\": 97.3, \"DIS\": 1.618, \"RAD\": 5, \"TAX\": 403.0, \"PTRATIO\": 14.7, \"B\": 372.8, \"LSTAT\": 14.1, \"MEDV\": 21.5}, {\"CRIM\": 1.49632, \"ZN\": 0.0, \"INDUS\": 19.58, \"CHAS\": 0, \"NOX\": 0.871, \"RM\": 5.404, \"AGE\": 100.0, \"DIS\": 1.5916, \"RAD\": 5, \"TAX\": 403.0, \"PTRATIO\": 14.7, \"B\": 341.6, \"LSTAT\": 13.28, \"MEDV\": 19.6}, {\"CRIM\": 1.12658, \"ZN\": 0.0, \"INDUS\": 19.58, \"CHAS\": 1, \"NOX\": 0.871, \"RM\": 5.012, \"AGE\": 88.0, \"DIS\": 1.6102, \"RAD\": 5, \"TAX\": 403.0, \"PTRATIO\": 14.7, \"B\": 343.28, \"LSTAT\": 12.12, \"MEDV\": 15.3}, {\"CRIM\": 2.14918, \"ZN\": 0.0, \"INDUS\": 19.58, \"CHAS\": 0, \"NOX\": 0.871, \"RM\": 5.709, \"AGE\": 98.5, \"DIS\": 1.6232, \"RAD\": 5, \"TAX\": 403.0, \"PTRATIO\": 14.7, \"B\": 261.95, \"LSTAT\": 15.79, \"MEDV\": 19.4}, {\"CRIM\": 1.41385, \"ZN\": 0.0, \"INDUS\": 19.58, \"CHAS\": 1, \"NOX\": 0.871, \"RM\": 6.129, \"AGE\": 96.0, \"DIS\": 1.7494, \"RAD\": 5, \"TAX\": 403.0, \"PTRATIO\": 14.7, \"B\": 321.02, \"LSTAT\": 15.12, \"MEDV\": 17.0}, {\"CRIM\": 3.5350099999999998, \"ZN\": 0.0, \"INDUS\": 19.58, \"CHAS\": 1, \"NOX\": 0.871, \"RM\": 6.152, \"AGE\": 82.6, \"DIS\": 1.7455, \"RAD\": 5, \"TAX\": 403.0, \"PTRATIO\": 14.7, \"B\": 88.01, \"LSTAT\": 15.02, \"MEDV\": 15.6}, {\"CRIM\": 2.4466799999999997, \"ZN\": 0.0, \"INDUS\": 19.58, \"CHAS\": 0, \"NOX\": 0.871, \"RM\": 5.272, \"AGE\": 94.0, \"DIS\": 1.7364, \"RAD\": 5, \"TAX\": 403.0, \"PTRATIO\": 14.7, \"B\": 88.63, \"LSTAT\": 16.14, \"MEDV\": 13.1}, {\"CRIM\": 1.22358, \"ZN\": 0.0, \"INDUS\": 19.58, \"CHAS\": 0, \"NOX\": 0.605, \"RM\": 6.943, \"AGE\": 97.4, \"DIS\": 1.8773, \"RAD\": 5, \"TAX\": 403.0, \"PTRATIO\": 14.7, \"B\": 363.43, \"LSTAT\": 4.59, \"MEDV\": 41.3}, {\"CRIM\": 1.34284, \"ZN\": 0.0, \"INDUS\": 19.58, \"CHAS\": 0, \"NOX\": 0.605, \"RM\": 6.066, \"AGE\": 100.0, \"DIS\": 1.7573, \"RAD\": 5, \"TAX\": 403.0, \"PTRATIO\": 14.7, \"B\": 353.89, \"LSTAT\": 6.43, \"MEDV\": 24.3}, {\"CRIM\": 1.4250200000000002, \"ZN\": 0.0, \"INDUS\": 19.58, \"CHAS\": 0, \"NOX\": 0.871, \"RM\": 6.51, \"AGE\": 100.0, \"DIS\": 1.7659, \"RAD\": 5, \"TAX\": 403.0, \"PTRATIO\": 14.7, \"B\": 364.31, \"LSTAT\": 7.39, \"MEDV\": 23.3}, {\"CRIM\": 1.27346, \"ZN\": 0.0, \"INDUS\": 19.58, \"CHAS\": 1, \"NOX\": 0.605, \"RM\": 6.25, \"AGE\": 92.6, \"DIS\": 1.7984, \"RAD\": 5, \"TAX\": 403.0, \"PTRATIO\": 14.7, \"B\": 338.92, \"LSTAT\": 5.5, \"MEDV\": 27.0}, {\"CRIM\": 1.46336, \"ZN\": 0.0, \"INDUS\": 19.58, \"CHAS\": 0, \"NOX\": 0.605, \"RM\": 7.489, \"AGE\": 90.8, \"DIS\": 1.9709, \"RAD\": 5, \"TAX\": 403.0, \"PTRATIO\": 14.7, \"B\": 374.43, \"LSTAT\": 1.73, \"MEDV\": 50.0}, {\"CRIM\": 1.8337700000000001, \"ZN\": 0.0, \"INDUS\": 19.58, \"CHAS\": 1, \"NOX\": 0.605, \"RM\": 7.802, \"AGE\": 98.2, \"DIS\": 2.0407, \"RAD\": 5, \"TAX\": 403.0, \"PTRATIO\": 14.7, \"B\": 389.61, \"LSTAT\": 1.92, \"MEDV\": 50.0}, {\"CRIM\": 1.51902, \"ZN\": 0.0, \"INDUS\": 19.58, \"CHAS\": 1, \"NOX\": 0.605, \"RM\": 8.375, \"AGE\": 93.9, \"DIS\": 2.162, \"RAD\": 5, \"TAX\": 403.0, \"PTRATIO\": 14.7, \"B\": 388.45, \"LSTAT\": 3.32, \"MEDV\": 50.0}, {\"CRIM\": 2.2423599999999997, \"ZN\": 0.0, \"INDUS\": 19.58, \"CHAS\": 0, \"NOX\": 0.605, \"RM\": 5.854, \"AGE\": 91.8, \"DIS\": 2.422, \"RAD\": 5, \"TAX\": 403.0, \"PTRATIO\": 14.7, \"B\": 395.11, \"LSTAT\": 11.64, \"MEDV\": 22.7}, {\"CRIM\": 2.924, \"ZN\": 0.0, \"INDUS\": 19.58, \"CHAS\": 0, \"NOX\": 0.605, \"RM\": 6.101, \"AGE\": 93.0, \"DIS\": 2.2834, \"RAD\": 5, \"TAX\": 403.0, \"PTRATIO\": 14.7, \"B\": 240.16, \"LSTAT\": 9.81, \"MEDV\": 25.0}, {\"CRIM\": 2.01019, \"ZN\": 0.0, \"INDUS\": 19.58, \"CHAS\": 0, \"NOX\": 0.605, \"RM\": 7.929, \"AGE\": 96.2, \"DIS\": 2.0459, \"RAD\": 5, \"TAX\": 403.0, \"PTRATIO\": 14.7, \"B\": 369.3, \"LSTAT\": 3.7, \"MEDV\": 50.0}, {\"CRIM\": 1.8002799999999999, \"ZN\": 0.0, \"INDUS\": 19.58, \"CHAS\": 0, \"NOX\": 0.605, \"RM\": 5.877, \"AGE\": 79.2, \"DIS\": 2.4259, \"RAD\": 5, \"TAX\": 403.0, \"PTRATIO\": 14.7, \"B\": 227.61, \"LSTAT\": 12.14, \"MEDV\": 23.8}, {\"CRIM\": 2.3004, \"ZN\": 0.0, \"INDUS\": 19.58, \"CHAS\": 0, \"NOX\": 0.605, \"RM\": 6.319, \"AGE\": 96.1, \"DIS\": 2.1, \"RAD\": 5, \"TAX\": 403.0, \"PTRATIO\": 14.7, \"B\": 297.09, \"LSTAT\": 11.1, \"MEDV\": 23.8}, {\"CRIM\": 2.4495299999999998, \"ZN\": 0.0, \"INDUS\": 19.58, \"CHAS\": 0, \"NOX\": 0.605, \"RM\": 6.402, \"AGE\": 95.2, \"DIS\": 2.2625, \"RAD\": 5, \"TAX\": 403.0, \"PTRATIO\": 14.7, \"B\": 330.04, \"LSTAT\": 11.32, \"MEDV\": 22.3}, {\"CRIM\": 1.2074200000000002, \"ZN\": 0.0, \"INDUS\": 19.58, \"CHAS\": 0, \"NOX\": 0.605, \"RM\": 5.875, \"AGE\": 94.6, \"DIS\": 2.4259, \"RAD\": 5, \"TAX\": 403.0, \"PTRATIO\": 14.7, \"B\": 292.29, \"LSTAT\": 14.43, \"MEDV\": 17.4}, {\"CRIM\": 2.3139, \"ZN\": 0.0, \"INDUS\": 19.58, \"CHAS\": 0, \"NOX\": 0.605, \"RM\": 5.88, \"AGE\": 97.3, \"DIS\": 2.3887, \"RAD\": 5, \"TAX\": 403.0, \"PTRATIO\": 14.7, \"B\": 348.13, \"LSTAT\": 12.03, \"MEDV\": 19.1}, {\"CRIM\": 0.13914, \"ZN\": 0.0, \"INDUS\": 4.05, \"CHAS\": 0, \"NOX\": 0.51, \"RM\": 5.572, \"AGE\": 88.5, \"DIS\": 2.5961, \"RAD\": 5, \"TAX\": 296.0, \"PTRATIO\": 16.6, \"B\": 396.9, \"LSTAT\": 14.69, \"MEDV\": 23.1}, {\"CRIM\": 0.09178, \"ZN\": 0.0, \"INDUS\": 4.05, \"CHAS\": 0, \"NOX\": 0.51, \"RM\": 6.416, \"AGE\": 84.1, \"DIS\": 2.6463, \"RAD\": 5, \"TAX\": 296.0, \"PTRATIO\": 16.6, \"B\": 395.5, \"LSTAT\": 9.04, \"MEDV\": 23.6}, {\"CRIM\": 0.08447, \"ZN\": 0.0, \"INDUS\": 4.05, \"CHAS\": 0, \"NOX\": 0.51, \"RM\": 5.859, \"AGE\": 68.7, \"DIS\": 2.7019, \"RAD\": 5, \"TAX\": 296.0, \"PTRATIO\": 16.6, \"B\": 393.23, \"LSTAT\": 9.64, \"MEDV\": 22.6}, {\"CRIM\": 0.06663999999999999, \"ZN\": 0.0, \"INDUS\": 4.05, \"CHAS\": 0, \"NOX\": 0.51, \"RM\": 6.546, \"AGE\": 33.1, \"DIS\": 3.1323, \"RAD\": 5, \"TAX\": 296.0, \"PTRATIO\": 16.6, \"B\": 390.96, \"LSTAT\": 5.33, \"MEDV\": 29.4}, {\"CRIM\": 0.07022, \"ZN\": 0.0, \"INDUS\": 4.05, \"CHAS\": 0, \"NOX\": 0.51, \"RM\": 6.02, \"AGE\": 47.2, \"DIS\": 3.5549, \"RAD\": 5, \"TAX\": 296.0, \"PTRATIO\": 16.6, \"B\": 393.23, \"LSTAT\": 10.11, \"MEDV\": 23.2}, {\"CRIM\": 0.05425, \"ZN\": 0.0, \"INDUS\": 4.05, \"CHAS\": 0, \"NOX\": 0.51, \"RM\": 6.315, \"AGE\": 73.4, \"DIS\": 3.3175, \"RAD\": 5, \"TAX\": 296.0, \"PTRATIO\": 16.6, \"B\": 395.6, \"LSTAT\": 6.29, \"MEDV\": 24.6}, {\"CRIM\": 0.06642, \"ZN\": 0.0, \"INDUS\": 4.05, \"CHAS\": 0, \"NOX\": 0.51, \"RM\": 6.86, \"AGE\": 74.4, \"DIS\": 2.9153, \"RAD\": 5, \"TAX\": 296.0, \"PTRATIO\": 16.6, \"B\": 391.27, \"LSTAT\": 6.92, \"MEDV\": 29.9}, {\"CRIM\": 0.0578, \"ZN\": 0.0, \"INDUS\": 2.46, \"CHAS\": 0, \"NOX\": 0.488, \"RM\": 6.98, \"AGE\": 58.4, \"DIS\": 2.829, \"RAD\": 3, \"TAX\": 193.0, \"PTRATIO\": 17.8, \"B\": 396.9, \"LSTAT\": 5.04, \"MEDV\": 37.2}, {\"CRIM\": 0.06588, \"ZN\": 0.0, \"INDUS\": 2.46, \"CHAS\": 0, \"NOX\": 0.488, \"RM\": 7.765, \"AGE\": 83.3, \"DIS\": 2.741, \"RAD\": 3, \"TAX\": 193.0, \"PTRATIO\": 17.8, \"B\": 395.56, \"LSTAT\": 7.56, \"MEDV\": 39.8}, {\"CRIM\": 0.06888, \"ZN\": 0.0, \"INDUS\": 2.46, \"CHAS\": 0, \"NOX\": 0.488, \"RM\": 6.144, \"AGE\": 62.2, \"DIS\": 2.5979, \"RAD\": 3, \"TAX\": 193.0, \"PTRATIO\": 17.8, \"B\": 396.9, \"LSTAT\": 9.45, \"MEDV\": 36.2}, {\"CRIM\": 0.09103, \"ZN\": 0.0, \"INDUS\": 2.46, \"CHAS\": 0, \"NOX\": 0.488, \"RM\": 7.155, \"AGE\": 92.2, \"DIS\": 2.7006, \"RAD\": 3, \"TAX\": 193.0, \"PTRATIO\": 17.8, \"B\": 394.12, \"LSTAT\": 4.82, \"MEDV\": 37.9}, {\"CRIM\": 0.10008, \"ZN\": 0.0, \"INDUS\": 2.46, \"CHAS\": 0, \"NOX\": 0.488, \"RM\": 6.563, \"AGE\": 95.6, \"DIS\": 2.847, \"RAD\": 3, \"TAX\": 193.0, \"PTRATIO\": 17.8, \"B\": 396.9, \"LSTAT\": 5.68, \"MEDV\": 32.5}, {\"CRIM\": 0.08308, \"ZN\": 0.0, \"INDUS\": 2.46, \"CHAS\": 0, \"NOX\": 0.488, \"RM\": 5.604, \"AGE\": 89.8, \"DIS\": 2.9879, \"RAD\": 3, \"TAX\": 193.0, \"PTRATIO\": 17.8, \"B\": 391.0, \"LSTAT\": 13.98, \"MEDV\": 26.4}, {\"CRIM\": 0.06047, \"ZN\": 0.0, \"INDUS\": 2.46, \"CHAS\": 0, \"NOX\": 0.488, \"RM\": 6.153, \"AGE\": 68.8, \"DIS\": 3.2797, \"RAD\": 3, \"TAX\": 193.0, \"PTRATIO\": 17.8, \"B\": 387.11, \"LSTAT\": 13.15, \"MEDV\": 29.6}, {\"CRIM\": 0.05602000000000001, \"ZN\": 0.0, \"INDUS\": 2.46, \"CHAS\": 0, \"NOX\": 0.488, \"RM\": 7.831, \"AGE\": 53.6, \"DIS\": 3.1992, \"RAD\": 3, \"TAX\": 193.0, \"PTRATIO\": 17.8, \"B\": 392.63, \"LSTAT\": 4.45, \"MEDV\": 50.0}, {\"CRIM\": 0.07875, \"ZN\": 45.0, \"INDUS\": 3.44, \"CHAS\": 0, \"NOX\": 0.437, \"RM\": 6.782, \"AGE\": 41.1, \"DIS\": 3.7886, \"RAD\": 5, \"TAX\": 398.0, \"PTRATIO\": 15.2, \"B\": 393.87, \"LSTAT\": 6.68, \"MEDV\": 32.0}, {\"CRIM\": 0.12579, \"ZN\": 45.0, \"INDUS\": 3.44, \"CHAS\": 0, \"NOX\": 0.437, \"RM\": 6.556, \"AGE\": 29.1, \"DIS\": 4.5667, \"RAD\": 5, \"TAX\": 398.0, \"PTRATIO\": 15.2, \"B\": 382.84, \"LSTAT\": 4.56, \"MEDV\": 29.8}, {\"CRIM\": 0.0837, \"ZN\": 45.0, \"INDUS\": 3.44, \"CHAS\": 0, \"NOX\": 0.437, \"RM\": 7.185, \"AGE\": 38.9, \"DIS\": 4.5667, \"RAD\": 5, \"TAX\": 398.0, \"PTRATIO\": 15.2, \"B\": 396.9, \"LSTAT\": 5.39, \"MEDV\": 34.9}, {\"CRIM\": 0.09068, \"ZN\": 45.0, \"INDUS\": 3.44, \"CHAS\": 0, \"NOX\": 0.437, \"RM\": 6.951, \"AGE\": 21.5, \"DIS\": 6.4798, \"RAD\": 5, \"TAX\": 398.0, \"PTRATIO\": 15.2, \"B\": 377.68, \"LSTAT\": 5.1, \"MEDV\": 37.0}, {\"CRIM\": 0.06911, \"ZN\": 45.0, \"INDUS\": 3.44, \"CHAS\": 0, \"NOX\": 0.437, \"RM\": 6.739, \"AGE\": 30.8, \"DIS\": 6.4798, \"RAD\": 5, \"TAX\": 398.0, \"PTRATIO\": 15.2, \"B\": 389.71, \"LSTAT\": 4.69, \"MEDV\": 30.5}, {\"CRIM\": 0.08664, \"ZN\": 45.0, \"INDUS\": 3.44, \"CHAS\": 0, \"NOX\": 0.437, \"RM\": 7.178, \"AGE\": 26.3, \"DIS\": 6.4798, \"RAD\": 5, \"TAX\": 398.0, \"PTRATIO\": 15.2, \"B\": 390.49, \"LSTAT\": 2.87, \"MEDV\": 36.4}, {\"CRIM\": 0.02187, \"ZN\": 60.0, \"INDUS\": 2.93, \"CHAS\": 0, \"NOX\": 0.401, \"RM\": 6.8, \"AGE\": 9.9, \"DIS\": 6.2196, \"RAD\": 1, \"TAX\": 265.0, \"PTRATIO\": 15.6, \"B\": 393.37, \"LSTAT\": 5.03, \"MEDV\": 31.1}, {\"CRIM\": 0.01439, \"ZN\": 60.0, \"INDUS\": 2.93, \"CHAS\": 0, \"NOX\": 0.401, \"RM\": 6.604, \"AGE\": 18.8, \"DIS\": 6.2196, \"RAD\": 1, \"TAX\": 265.0, \"PTRATIO\": 15.6, \"B\": 376.7, \"LSTAT\": 4.38, \"MEDV\": 29.1}, {\"CRIM\": 0.01381, \"ZN\": 80.0, \"INDUS\": 0.46, \"CHAS\": 0, \"NOX\": 0.422, \"RM\": 7.875, \"AGE\": 32.0, \"DIS\": 5.6484, \"RAD\": 4, \"TAX\": 255.0, \"PTRATIO\": 14.4, \"B\": 394.23, \"LSTAT\": 2.97, \"MEDV\": 50.0}, {\"CRIM\": 0.04011, \"ZN\": 80.0, \"INDUS\": 1.52, \"CHAS\": 0, \"NOX\": 0.404, \"RM\": 7.287, \"AGE\": 34.1, \"DIS\": 7.309, \"RAD\": 2, \"TAX\": 329.0, \"PTRATIO\": 12.6, \"B\": 396.9, \"LSTAT\": 4.08, \"MEDV\": 33.3}, {\"CRIM\": 0.04666, \"ZN\": 80.0, \"INDUS\": 1.52, \"CHAS\": 0, \"NOX\": 0.404, \"RM\": 7.107, \"AGE\": 36.6, \"DIS\": 7.309, \"RAD\": 2, \"TAX\": 329.0, \"PTRATIO\": 12.6, \"B\": 354.31, \"LSTAT\": 8.61, \"MEDV\": 30.3}, {\"CRIM\": 0.03768, \"ZN\": 80.0, \"INDUS\": 1.52, \"CHAS\": 0, \"NOX\": 0.404, \"RM\": 7.274, \"AGE\": 38.3, \"DIS\": 7.309, \"RAD\": 2, \"TAX\": 329.0, \"PTRATIO\": 12.6, \"B\": 392.2, \"LSTAT\": 6.62, \"MEDV\": 34.6}, {\"CRIM\": 0.0315, \"ZN\": 95.0, \"INDUS\": 1.47, \"CHAS\": 0, \"NOX\": 0.403, \"RM\": 6.975, \"AGE\": 15.3, \"DIS\": 7.6534, \"RAD\": 3, \"TAX\": 402.0, \"PTRATIO\": 17.0, \"B\": 396.9, \"LSTAT\": 4.56, \"MEDV\": 34.9}, {\"CRIM\": 0.01778, \"ZN\": 95.0, \"INDUS\": 1.47, \"CHAS\": 0, \"NOX\": 0.403, \"RM\": 7.135, \"AGE\": 13.9, \"DIS\": 7.6534, \"RAD\": 3, \"TAX\": 402.0, \"PTRATIO\": 17.0, \"B\": 384.3, \"LSTAT\": 4.45, \"MEDV\": 32.9}, {\"CRIM\": 0.03445, \"ZN\": 82.5, \"INDUS\": 2.03, \"CHAS\": 0, \"NOX\": 0.415, \"RM\": 6.162, \"AGE\": 38.4, \"DIS\": 6.27, \"RAD\": 2, \"TAX\": 348.0, \"PTRATIO\": 14.7, \"B\": 393.77, \"LSTAT\": 7.43, \"MEDV\": 24.1}, {\"CRIM\": 0.021769999999999998, \"ZN\": 82.5, \"INDUS\": 2.03, \"CHAS\": 0, \"NOX\": 0.415, \"RM\": 7.61, \"AGE\": 15.7, \"DIS\": 6.27, \"RAD\": 2, \"TAX\": 348.0, \"PTRATIO\": 14.7, \"B\": 395.38, \"LSTAT\": 3.11, \"MEDV\": 42.3}, {\"CRIM\": 0.0351, \"ZN\": 95.0, \"INDUS\": 2.68, \"CHAS\": 0, \"NOX\": 0.4161, \"RM\": 7.853, \"AGE\": 33.2, \"DIS\": 5.118, \"RAD\": 4, \"TAX\": 224.0, \"PTRATIO\": 14.7, \"B\": 392.78, \"LSTAT\": 3.81, \"MEDV\": 48.5}, {\"CRIM\": 0.02009, \"ZN\": 95.0, \"INDUS\": 2.68, \"CHAS\": 0, \"NOX\": 0.4161, \"RM\": 8.034, \"AGE\": 31.9, \"DIS\": 5.118, \"RAD\": 4, \"TAX\": 224.0, \"PTRATIO\": 14.7, \"B\": 390.55, \"LSTAT\": 2.88, \"MEDV\": 50.0}, {\"CRIM\": 0.13642, \"ZN\": 0.0, \"INDUS\": 10.59, \"CHAS\": 0, \"NOX\": 0.489, \"RM\": 5.891, \"AGE\": 22.3, \"DIS\": 3.9454, \"RAD\": 4, \"TAX\": 277.0, \"PTRATIO\": 18.6, \"B\": 396.9, \"LSTAT\": 10.87, \"MEDV\": 22.6}, {\"CRIM\": 0.22969, \"ZN\": 0.0, \"INDUS\": 10.59, \"CHAS\": 0, \"NOX\": 0.489, \"RM\": 6.326, \"AGE\": 52.5, \"DIS\": 4.3549, \"RAD\": 4, \"TAX\": 277.0, \"PTRATIO\": 18.6, \"B\": 394.87, \"LSTAT\": 10.97, \"MEDV\": 24.4}, {\"CRIM\": 0.25199, \"ZN\": 0.0, \"INDUS\": 10.59, \"CHAS\": 0, \"NOX\": 0.489, \"RM\": 5.783, \"AGE\": 72.7, \"DIS\": 4.3549, \"RAD\": 4, \"TAX\": 277.0, \"PTRATIO\": 18.6, \"B\": 389.43, \"LSTAT\": 18.06, \"MEDV\": 22.5}, {\"CRIM\": 0.13587, \"ZN\": 0.0, \"INDUS\": 10.59, \"CHAS\": 1, \"NOX\": 0.489, \"RM\": 6.064, \"AGE\": 59.1, \"DIS\": 4.2392, \"RAD\": 4, \"TAX\": 277.0, \"PTRATIO\": 18.6, \"B\": 381.32, \"LSTAT\": 14.66, \"MEDV\": 24.4}, {\"CRIM\": 0.43571000000000004, \"ZN\": 0.0, \"INDUS\": 10.59, \"CHAS\": 1, \"NOX\": 0.489, \"RM\": 5.344, \"AGE\": 100.0, \"DIS\": 3.875, \"RAD\": 4, \"TAX\": 277.0, \"PTRATIO\": 18.6, \"B\": 396.9, \"LSTAT\": 23.09, \"MEDV\": 20.0}, {\"CRIM\": 0.17446, \"ZN\": 0.0, \"INDUS\": 10.59, \"CHAS\": 1, \"NOX\": 0.489, \"RM\": 5.96, \"AGE\": 92.1, \"DIS\": 3.8771, \"RAD\": 4, \"TAX\": 277.0, \"PTRATIO\": 18.6, \"B\": 393.25, \"LSTAT\": 17.27, \"MEDV\": 21.7}, {\"CRIM\": 0.37578, \"ZN\": 0.0, \"INDUS\": 10.59, \"CHAS\": 1, \"NOX\": 0.489, \"RM\": 5.404, \"AGE\": 88.6, \"DIS\": 3.665, \"RAD\": 4, \"TAX\": 277.0, \"PTRATIO\": 18.6, \"B\": 395.24, \"LSTAT\": 23.98, \"MEDV\": 19.3}, {\"CRIM\": 0.21719000000000002, \"ZN\": 0.0, \"INDUS\": 10.59, \"CHAS\": 1, \"NOX\": 0.489, \"RM\": 5.807, \"AGE\": 53.8, \"DIS\": 3.6526, \"RAD\": 4, \"TAX\": 277.0, \"PTRATIO\": 18.6, \"B\": 390.94, \"LSTAT\": 16.03, \"MEDV\": 22.4}, {\"CRIM\": 0.14052, \"ZN\": 0.0, \"INDUS\": 10.59, \"CHAS\": 0, \"NOX\": 0.489, \"RM\": 6.375, \"AGE\": 32.3, \"DIS\": 3.9454, \"RAD\": 4, \"TAX\": 277.0, \"PTRATIO\": 18.6, \"B\": 385.81, \"LSTAT\": 9.38, \"MEDV\": 28.1}, {\"CRIM\": 0.28955, \"ZN\": 0.0, \"INDUS\": 10.59, \"CHAS\": 0, \"NOX\": 0.489, \"RM\": 5.412, \"AGE\": 9.8, \"DIS\": 3.5875, \"RAD\": 4, \"TAX\": 277.0, \"PTRATIO\": 18.6, \"B\": 348.93, \"LSTAT\": 29.55, \"MEDV\": 23.7}, {\"CRIM\": 0.19802, \"ZN\": 0.0, \"INDUS\": 10.59, \"CHAS\": 0, \"NOX\": 0.489, \"RM\": 6.182, \"AGE\": 42.4, \"DIS\": 3.9454, \"RAD\": 4, \"TAX\": 277.0, \"PTRATIO\": 18.6, \"B\": 393.63, \"LSTAT\": 9.47, \"MEDV\": 25.0}, {\"CRIM\": 0.0456, \"ZN\": 0.0, \"INDUS\": 13.89, \"CHAS\": 1, \"NOX\": 0.55, \"RM\": 5.888, \"AGE\": 56.0, \"DIS\": 3.1121, \"RAD\": 5, \"TAX\": 276.0, \"PTRATIO\": 16.4, \"B\": 392.8, \"LSTAT\": 13.51, \"MEDV\": 23.3}, {\"CRIM\": 0.07013, \"ZN\": 0.0, \"INDUS\": 13.89, \"CHAS\": 0, \"NOX\": 0.55, \"RM\": 6.642, \"AGE\": 85.1, \"DIS\": 3.4211, \"RAD\": 5, \"TAX\": 276.0, \"PTRATIO\": 16.4, \"B\": 392.78, \"LSTAT\": 9.69, \"MEDV\": 28.7}, {\"CRIM\": 0.11069000000000001, \"ZN\": 0.0, \"INDUS\": 13.89, \"CHAS\": 1, \"NOX\": 0.55, \"RM\": 5.951, \"AGE\": 93.8, \"DIS\": 2.8893, \"RAD\": 5, \"TAX\": 276.0, \"PTRATIO\": 16.4, \"B\": 396.9, \"LSTAT\": 17.92, \"MEDV\": 21.5}, {\"CRIM\": 0.11425, \"ZN\": 0.0, \"INDUS\": 13.89, \"CHAS\": 1, \"NOX\": 0.55, \"RM\": 6.373, \"AGE\": 92.4, \"DIS\": 3.3633, \"RAD\": 5, \"TAX\": 276.0, \"PTRATIO\": 16.4, \"B\": 393.74, \"LSTAT\": 10.5, \"MEDV\": 23.0}, {\"CRIM\": 0.35809, \"ZN\": 0.0, \"INDUS\": 6.2, \"CHAS\": 1, \"NOX\": 0.507, \"RM\": 6.951, \"AGE\": 88.5, \"DIS\": 2.8617, \"RAD\": 8, \"TAX\": 307.0, \"PTRATIO\": 17.4, \"B\": 391.7, \"LSTAT\": 9.71, \"MEDV\": 26.7}, {\"CRIM\": 0.40771, \"ZN\": 0.0, \"INDUS\": 6.2, \"CHAS\": 1, \"NOX\": 0.507, \"RM\": 6.164, \"AGE\": 91.3, \"DIS\": 3.048, \"RAD\": 8, \"TAX\": 307.0, \"PTRATIO\": 17.4, \"B\": 395.24, \"LSTAT\": 21.46, \"MEDV\": 21.7}, {\"CRIM\": 0.62356, \"ZN\": 0.0, \"INDUS\": 6.2, \"CHAS\": 1, \"NOX\": 0.507, \"RM\": 6.879, \"AGE\": 77.7, \"DIS\": 3.2721, \"RAD\": 8, \"TAX\": 307.0, \"PTRATIO\": 17.4, \"B\": 390.39, \"LSTAT\": 9.93, \"MEDV\": 27.5}, {\"CRIM\": 0.6147, \"ZN\": 0.0, \"INDUS\": 6.2, \"CHAS\": 0, \"NOX\": 0.507, \"RM\": 6.618, \"AGE\": 80.8, \"DIS\": 3.2721, \"RAD\": 8, \"TAX\": 307.0, \"PTRATIO\": 17.4, \"B\": 396.9, \"LSTAT\": 7.6, \"MEDV\": 30.1}, {\"CRIM\": 0.31533, \"ZN\": 0.0, \"INDUS\": 6.2, \"CHAS\": 0, \"NOX\": 0.504, \"RM\": 8.266, \"AGE\": 78.3, \"DIS\": 2.8944, \"RAD\": 8, \"TAX\": 307.0, \"PTRATIO\": 17.4, \"B\": 385.05, \"LSTAT\": 4.14, \"MEDV\": 44.8}, {\"CRIM\": 0.52693, \"ZN\": 0.0, \"INDUS\": 6.2, \"CHAS\": 0, \"NOX\": 0.504, \"RM\": 8.725, \"AGE\": 83.0, \"DIS\": 2.8944, \"RAD\": 8, \"TAX\": 307.0, \"PTRATIO\": 17.4, \"B\": 382.0, \"LSTAT\": 4.63, \"MEDV\": 50.0}, {\"CRIM\": 0.38214000000000004, \"ZN\": 0.0, \"INDUS\": 6.2, \"CHAS\": 0, \"NOX\": 0.504, \"RM\": 8.04, \"AGE\": 86.5, \"DIS\": 3.2157, \"RAD\": 8, \"TAX\": 307.0, \"PTRATIO\": 17.4, \"B\": 387.38, \"LSTAT\": 3.13, \"MEDV\": 37.6}, {\"CRIM\": 0.41238, \"ZN\": 0.0, \"INDUS\": 6.2, \"CHAS\": 0, \"NOX\": 0.504, \"RM\": 7.163, \"AGE\": 79.9, \"DIS\": 3.2157, \"RAD\": 8, \"TAX\": 307.0, \"PTRATIO\": 17.4, \"B\": 372.08, \"LSTAT\": 6.36, \"MEDV\": 31.6}, {\"CRIM\": 0.29819, \"ZN\": 0.0, \"INDUS\": 6.2, \"CHAS\": 0, \"NOX\": 0.504, \"RM\": 7.686, \"AGE\": 17.0, \"DIS\": 3.3751, \"RAD\": 8, \"TAX\": 307.0, \"PTRATIO\": 17.4, \"B\": 377.51, \"LSTAT\": 3.92, \"MEDV\": 46.7}, {\"CRIM\": 0.44178, \"ZN\": 0.0, \"INDUS\": 6.2, \"CHAS\": 0, \"NOX\": 0.504, \"RM\": 6.552, \"AGE\": 21.4, \"DIS\": 3.3751, \"RAD\": 8, \"TAX\": 307.0, \"PTRATIO\": 17.4, \"B\": 380.34, \"LSTAT\": 3.76, \"MEDV\": 31.5}, {\"CRIM\": 0.537, \"ZN\": 0.0, \"INDUS\": 6.2, \"CHAS\": 0, \"NOX\": 0.504, \"RM\": 5.981, \"AGE\": 68.1, \"DIS\": 3.6715, \"RAD\": 8, \"TAX\": 307.0, \"PTRATIO\": 17.4, \"B\": 378.35, \"LSTAT\": 11.65, \"MEDV\": 24.3}, {\"CRIM\": 0.46296000000000004, \"ZN\": 0.0, \"INDUS\": 6.2, \"CHAS\": 0, \"NOX\": 0.504, \"RM\": 7.412, \"AGE\": 76.9, \"DIS\": 3.6715, \"RAD\": 8, \"TAX\": 307.0, \"PTRATIO\": 17.4, \"B\": 376.14, \"LSTAT\": 5.25, \"MEDV\": 31.7}, {\"CRIM\": 0.57529, \"ZN\": 0.0, \"INDUS\": 6.2, \"CHAS\": 0, \"NOX\": 0.507, \"RM\": 8.337, \"AGE\": 73.3, \"DIS\": 3.8384, \"RAD\": 8, \"TAX\": 307.0, \"PTRATIO\": 17.4, \"B\": 385.91, \"LSTAT\": 2.47, \"MEDV\": 41.7}, {\"CRIM\": 0.33147, \"ZN\": 0.0, \"INDUS\": 6.2, \"CHAS\": 0, \"NOX\": 0.507, \"RM\": 8.247, \"AGE\": 70.4, \"DIS\": 3.6519, \"RAD\": 8, \"TAX\": 307.0, \"PTRATIO\": 17.4, \"B\": 378.95, \"LSTAT\": 3.95, \"MEDV\": 48.3}, {\"CRIM\": 0.44791000000000003, \"ZN\": 0.0, \"INDUS\": 6.2, \"CHAS\": 1, \"NOX\": 0.507, \"RM\": 6.726, \"AGE\": 66.5, \"DIS\": 3.6519, \"RAD\": 8, \"TAX\": 307.0, \"PTRATIO\": 17.4, \"B\": 360.2, \"LSTAT\": 8.05, \"MEDV\": 29.0}, {\"CRIM\": 0.33045, \"ZN\": 0.0, \"INDUS\": 6.2, \"CHAS\": 0, \"NOX\": 0.507, \"RM\": 6.086, \"AGE\": 61.5, \"DIS\": 3.6519, \"RAD\": 8, \"TAX\": 307.0, \"PTRATIO\": 17.4, \"B\": 376.75, \"LSTAT\": 10.88, \"MEDV\": 24.0}, {\"CRIM\": 0.52058, \"ZN\": 0.0, \"INDUS\": 6.2, \"CHAS\": 1, \"NOX\": 0.507, \"RM\": 6.631, \"AGE\": 76.5, \"DIS\": 4.148, \"RAD\": 8, \"TAX\": 307.0, \"PTRATIO\": 17.4, \"B\": 388.45, \"LSTAT\": 9.54, \"MEDV\": 25.1}, {\"CRIM\": 0.51183, \"ZN\": 0.0, \"INDUS\": 6.2, \"CHAS\": 0, \"NOX\": 0.507, \"RM\": 7.358, \"AGE\": 71.6, \"DIS\": 4.148, \"RAD\": 8, \"TAX\": 307.0, \"PTRATIO\": 17.4, \"B\": 390.07, \"LSTAT\": 4.73, \"MEDV\": 31.5}, {\"CRIM\": 0.08244, \"ZN\": 30.0, \"INDUS\": 4.93, \"CHAS\": 0, \"NOX\": 0.428, \"RM\": 6.481, \"AGE\": 18.5, \"DIS\": 6.1899, \"RAD\": 6, \"TAX\": 300.0, \"PTRATIO\": 16.6, \"B\": 379.41, \"LSTAT\": 6.36, \"MEDV\": 23.7}, {\"CRIM\": 0.09252, \"ZN\": 30.0, \"INDUS\": 4.93, \"CHAS\": 0, \"NOX\": 0.428, \"RM\": 6.606, \"AGE\": 42.2, \"DIS\": 6.1899, \"RAD\": 6, \"TAX\": 300.0, \"PTRATIO\": 16.6, \"B\": 383.78, \"LSTAT\": 7.37, \"MEDV\": 23.3}, {\"CRIM\": 0.11329000000000002, \"ZN\": 30.0, \"INDUS\": 4.93, \"CHAS\": 0, \"NOX\": 0.428, \"RM\": 6.897, \"AGE\": 54.3, \"DIS\": 6.3361, \"RAD\": 6, \"TAX\": 300.0, \"PTRATIO\": 16.6, \"B\": 391.25, \"LSTAT\": 11.38, \"MEDV\": 22.0}, {\"CRIM\": 0.10612, \"ZN\": 30.0, \"INDUS\": 4.93, \"CHAS\": 0, \"NOX\": 0.428, \"RM\": 6.095, \"AGE\": 65.1, \"DIS\": 6.3361, \"RAD\": 6, \"TAX\": 300.0, \"PTRATIO\": 16.6, \"B\": 394.62, \"LSTAT\": 12.4, \"MEDV\": 20.1}, {\"CRIM\": 0.1029, \"ZN\": 30.0, \"INDUS\": 4.93, \"CHAS\": 0, \"NOX\": 0.428, \"RM\": 6.358, \"AGE\": 52.9, \"DIS\": 7.0355, \"RAD\": 6, \"TAX\": 300.0, \"PTRATIO\": 16.6, \"B\": 372.75, \"LSTAT\": 11.22, \"MEDV\": 22.2}, {\"CRIM\": 0.12757000000000002, \"ZN\": 30.0, \"INDUS\": 4.93, \"CHAS\": 0, \"NOX\": 0.428, \"RM\": 6.393, \"AGE\": 7.8, \"DIS\": 7.0355, \"RAD\": 6, \"TAX\": 300.0, \"PTRATIO\": 16.6, \"B\": 374.71, \"LSTAT\": 5.19, \"MEDV\": 23.7}, {\"CRIM\": 0.20608, \"ZN\": 22.0, \"INDUS\": 5.86, \"CHAS\": 0, \"NOX\": 0.431, \"RM\": 5.593, \"AGE\": 76.5, \"DIS\": 7.9549, \"RAD\": 7, \"TAX\": 330.0, \"PTRATIO\": 19.1, \"B\": 372.49, \"LSTAT\": 12.5, \"MEDV\": 17.6}, {\"CRIM\": 0.19133, \"ZN\": 22.0, \"INDUS\": 5.86, \"CHAS\": 0, \"NOX\": 0.431, \"RM\": 5.605, \"AGE\": 70.2, \"DIS\": 7.9549, \"RAD\": 7, \"TAX\": 330.0, \"PTRATIO\": 19.1, \"B\": 389.13, \"LSTAT\": 18.46, \"MEDV\": 18.5}, {\"CRIM\": 0.33983, \"ZN\": 22.0, \"INDUS\": 5.86, \"CHAS\": 0, \"NOX\": 0.431, \"RM\": 6.108, \"AGE\": 34.9, \"DIS\": 8.0555, \"RAD\": 7, \"TAX\": 330.0, \"PTRATIO\": 19.1, \"B\": 390.18, \"LSTAT\": 9.16, \"MEDV\": 24.3}, {\"CRIM\": 0.19657, \"ZN\": 22.0, \"INDUS\": 5.86, \"CHAS\": 0, \"NOX\": 0.431, \"RM\": 6.226, \"AGE\": 79.2, \"DIS\": 8.0555, \"RAD\": 7, \"TAX\": 330.0, \"PTRATIO\": 19.1, \"B\": 376.14, \"LSTAT\": 10.15, \"MEDV\": 20.5}, {\"CRIM\": 0.16439, \"ZN\": 22.0, \"INDUS\": 5.86, \"CHAS\": 0, \"NOX\": 0.431, \"RM\": 6.433, \"AGE\": 49.1, \"DIS\": 7.8265, \"RAD\": 7, \"TAX\": 330.0, \"PTRATIO\": 19.1, \"B\": 374.71, \"LSTAT\": 9.52, \"MEDV\": 24.5}, {\"CRIM\": 0.19072999999999998, \"ZN\": 22.0, \"INDUS\": 5.86, \"CHAS\": 0, \"NOX\": 0.431, \"RM\": 6.718, \"AGE\": 17.5, \"DIS\": 7.8265, \"RAD\": 7, \"TAX\": 330.0, \"PTRATIO\": 19.1, \"B\": 393.74, \"LSTAT\": 6.56, \"MEDV\": 26.2}, {\"CRIM\": 0.1403, \"ZN\": 22.0, \"INDUS\": 5.86, \"CHAS\": 0, \"NOX\": 0.431, \"RM\": 6.487, \"AGE\": 13.0, \"DIS\": 7.3967, \"RAD\": 7, \"TAX\": 330.0, \"PTRATIO\": 19.1, \"B\": 396.28, \"LSTAT\": 5.9, \"MEDV\": 24.4}, {\"CRIM\": 0.21409, \"ZN\": 22.0, \"INDUS\": 5.86, \"CHAS\": 0, \"NOX\": 0.431, \"RM\": 6.438, \"AGE\": 8.9, \"DIS\": 7.3967, \"RAD\": 7, \"TAX\": 330.0, \"PTRATIO\": 19.1, \"B\": 377.07, \"LSTAT\": 3.59, \"MEDV\": 24.8}, {\"CRIM\": 0.08221, \"ZN\": 22.0, \"INDUS\": 5.86, \"CHAS\": 0, \"NOX\": 0.431, \"RM\": 6.957, \"AGE\": 6.8, \"DIS\": 8.9067, \"RAD\": 7, \"TAX\": 330.0, \"PTRATIO\": 19.1, \"B\": 386.09, \"LSTAT\": 3.53, \"MEDV\": 29.6}, {\"CRIM\": 0.36894, \"ZN\": 22.0, \"INDUS\": 5.86, \"CHAS\": 0, \"NOX\": 0.431, \"RM\": 8.259, \"AGE\": 8.4, \"DIS\": 8.9067, \"RAD\": 7, \"TAX\": 330.0, \"PTRATIO\": 19.1, \"B\": 396.9, \"LSTAT\": 3.54, \"MEDV\": 42.8}, {\"CRIM\": 0.04819, \"ZN\": 80.0, \"INDUS\": 3.64, \"CHAS\": 0, \"NOX\": 0.392, \"RM\": 6.108, \"AGE\": 32.0, \"DIS\": 9.2203, \"RAD\": 1, \"TAX\": 315.0, \"PTRATIO\": 16.4, \"B\": 392.89, \"LSTAT\": 6.57, \"MEDV\": 21.9}, {\"CRIM\": 0.035480000000000005, \"ZN\": 80.0, \"INDUS\": 3.64, \"CHAS\": 0, \"NOX\": 0.392, \"RM\": 5.876, \"AGE\": 19.1, \"DIS\": 9.2203, \"RAD\": 1, \"TAX\": 315.0, \"PTRATIO\": 16.4, \"B\": 395.18, \"LSTAT\": 9.25, \"MEDV\": 20.9}, {\"CRIM\": 0.015380000000000001, \"ZN\": 90.0, \"INDUS\": 3.75, \"CHAS\": 0, \"NOX\": 0.394, \"RM\": 7.454, \"AGE\": 34.2, \"DIS\": 6.3361, \"RAD\": 3, \"TAX\": 244.0, \"PTRATIO\": 15.9, \"B\": 386.34, \"LSTAT\": 3.11, \"MEDV\": 44.0}, {\"CRIM\": 0.61154, \"ZN\": 20.0, \"INDUS\": 3.97, \"CHAS\": 0, \"NOX\": 0.647, \"RM\": 8.704, \"AGE\": 86.9, \"DIS\": 1.801, \"RAD\": 5, \"TAX\": 264.0, \"PTRATIO\": 13.0, \"B\": 389.7, \"LSTAT\": 5.12, \"MEDV\": 50.0}, {\"CRIM\": 0.66351, \"ZN\": 20.0, \"INDUS\": 3.97, \"CHAS\": 0, \"NOX\": 0.647, \"RM\": 7.333, \"AGE\": 100.0, \"DIS\": 1.8946, \"RAD\": 5, \"TAX\": 264.0, \"PTRATIO\": 13.0, \"B\": 383.29, \"LSTAT\": 7.79, \"MEDV\": 36.0}, {\"CRIM\": 0.65665, \"ZN\": 20.0, \"INDUS\": 3.97, \"CHAS\": 0, \"NOX\": 0.647, \"RM\": 6.842, \"AGE\": 100.0, \"DIS\": 2.0107, \"RAD\": 5, \"TAX\": 264.0, \"PTRATIO\": 13.0, \"B\": 391.93, \"LSTAT\": 6.9, \"MEDV\": 30.1}, {\"CRIM\": 0.5401100000000001, \"ZN\": 20.0, \"INDUS\": 3.97, \"CHAS\": 0, \"NOX\": 0.647, \"RM\": 7.203, \"AGE\": 81.8, \"DIS\": 2.1121, \"RAD\": 5, \"TAX\": 264.0, \"PTRATIO\": 13.0, \"B\": 392.8, \"LSTAT\": 9.59, \"MEDV\": 33.8}, {\"CRIM\": 0.5341199999999999, \"ZN\": 20.0, \"INDUS\": 3.97, \"CHAS\": 0, \"NOX\": 0.647, \"RM\": 7.52, \"AGE\": 89.4, \"DIS\": 2.1398, \"RAD\": 5, \"TAX\": 264.0, \"PTRATIO\": 13.0, \"B\": 388.37, \"LSTAT\": 7.26, \"MEDV\": 43.1}, {\"CRIM\": 0.5201399999999999, \"ZN\": 20.0, \"INDUS\": 3.97, \"CHAS\": 0, \"NOX\": 0.647, \"RM\": 8.398, \"AGE\": 91.5, \"DIS\": 2.2885, \"RAD\": 5, \"TAX\": 264.0, \"PTRATIO\": 13.0, \"B\": 386.86, \"LSTAT\": 5.91, \"MEDV\": 48.8}, {\"CRIM\": 0.82526, \"ZN\": 20.0, \"INDUS\": 3.97, \"CHAS\": 0, \"NOX\": 0.647, \"RM\": 7.327, \"AGE\": 94.5, \"DIS\": 2.0788, \"RAD\": 5, \"TAX\": 264.0, \"PTRATIO\": 13.0, \"B\": 393.42, \"LSTAT\": 11.25, \"MEDV\": 31.0}, {\"CRIM\": 0.55007, \"ZN\": 20.0, \"INDUS\": 3.97, \"CHAS\": 0, \"NOX\": 0.647, \"RM\": 7.206, \"AGE\": 91.6, \"DIS\": 1.9301, \"RAD\": 5, \"TAX\": 264.0, \"PTRATIO\": 13.0, \"B\": 387.89, \"LSTAT\": 8.1, \"MEDV\": 36.5}, {\"CRIM\": 0.76162, \"ZN\": 20.0, \"INDUS\": 3.97, \"CHAS\": 0, \"NOX\": 0.647, \"RM\": 5.56, \"AGE\": 62.8, \"DIS\": 1.9865, \"RAD\": 5, \"TAX\": 264.0, \"PTRATIO\": 13.0, \"B\": 392.4, \"LSTAT\": 10.45, \"MEDV\": 22.8}, {\"CRIM\": 0.7857, \"ZN\": 20.0, \"INDUS\": 3.97, \"CHAS\": 0, \"NOX\": 0.647, \"RM\": 7.014, \"AGE\": 84.6, \"DIS\": 2.1329, \"RAD\": 5, \"TAX\": 264.0, \"PTRATIO\": 13.0, \"B\": 384.07, \"LSTAT\": 14.79, \"MEDV\": 30.7}, {\"CRIM\": 0.57834, \"ZN\": 20.0, \"INDUS\": 3.97, \"CHAS\": 0, \"NOX\": 0.575, \"RM\": 8.297, \"AGE\": 67.0, \"DIS\": 2.4216, \"RAD\": 5, \"TAX\": 264.0, \"PTRATIO\": 13.0, \"B\": 384.54, \"LSTAT\": 7.44, \"MEDV\": 50.0}, {\"CRIM\": 0.5405, \"ZN\": 20.0, \"INDUS\": 3.97, \"CHAS\": 0, \"NOX\": 0.575, \"RM\": 7.47, \"AGE\": 52.6, \"DIS\": 2.872, \"RAD\": 5, \"TAX\": 264.0, \"PTRATIO\": 13.0, \"B\": 390.3, \"LSTAT\": 3.16, \"MEDV\": 43.5}, {\"CRIM\": 0.09065, \"ZN\": 20.0, \"INDUS\": 6.96, \"CHAS\": 1, \"NOX\": 0.464, \"RM\": 5.92, \"AGE\": 61.5, \"DIS\": 3.9175, \"RAD\": 3, \"TAX\": 223.0, \"PTRATIO\": 18.6, \"B\": 391.34, \"LSTAT\": 13.65, \"MEDV\": 20.7}, {\"CRIM\": 0.29916, \"ZN\": 20.0, \"INDUS\": 6.96, \"CHAS\": 0, \"NOX\": 0.464, \"RM\": 5.856, \"AGE\": 42.1, \"DIS\": 4.429, \"RAD\": 3, \"TAX\": 223.0, \"PTRATIO\": 18.6, \"B\": 388.65, \"LSTAT\": 13.0, \"MEDV\": 21.1}, {\"CRIM\": 0.16211, \"ZN\": 20.0, \"INDUS\": 6.96, \"CHAS\": 0, \"NOX\": 0.464, \"RM\": 6.24, \"AGE\": 16.3, \"DIS\": 4.429, \"RAD\": 3, \"TAX\": 223.0, \"PTRATIO\": 18.6, \"B\": 396.9, \"LSTAT\": 6.59, \"MEDV\": 25.2}, {\"CRIM\": 0.1146, \"ZN\": 20.0, \"INDUS\": 6.96, \"CHAS\": 0, \"NOX\": 0.464, \"RM\": 6.538, \"AGE\": 58.7, \"DIS\": 3.9175, \"RAD\": 3, \"TAX\": 223.0, \"PTRATIO\": 18.6, \"B\": 394.96, \"LSTAT\": 7.73, \"MEDV\": 24.4}, {\"CRIM\": 0.22188000000000002, \"ZN\": 20.0, \"INDUS\": 6.96, \"CHAS\": 1, \"NOX\": 0.464, \"RM\": 7.691, \"AGE\": 51.8, \"DIS\": 4.3665, \"RAD\": 3, \"TAX\": 223.0, \"PTRATIO\": 18.6, \"B\": 390.77, \"LSTAT\": 6.58, \"MEDV\": 35.2}, {\"CRIM\": 0.05644, \"ZN\": 40.0, \"INDUS\": 6.41, \"CHAS\": 1, \"NOX\": 0.447, \"RM\": 6.758, \"AGE\": 32.9, \"DIS\": 4.0776, \"RAD\": 4, \"TAX\": 254.0, \"PTRATIO\": 17.6, \"B\": 396.9, \"LSTAT\": 3.53, \"MEDV\": 32.4}, {\"CRIM\": 0.09604, \"ZN\": 40.0, \"INDUS\": 6.41, \"CHAS\": 0, \"NOX\": 0.447, \"RM\": 6.854, \"AGE\": 42.8, \"DIS\": 4.2673, \"RAD\": 4, \"TAX\": 254.0, \"PTRATIO\": 17.6, \"B\": 396.9, \"LSTAT\": 2.98, \"MEDV\": 32.0}, {\"CRIM\": 0.10469, \"ZN\": 40.0, \"INDUS\": 6.41, \"CHAS\": 1, \"NOX\": 0.447, \"RM\": 7.267, \"AGE\": 49.0, \"DIS\": 4.7872, \"RAD\": 4, \"TAX\": 254.0, \"PTRATIO\": 17.6, \"B\": 389.25, \"LSTAT\": 6.05, \"MEDV\": 33.2}, {\"CRIM\": 0.061270000000000005, \"ZN\": 40.0, \"INDUS\": 6.41, \"CHAS\": 1, \"NOX\": 0.447, \"RM\": 6.826, \"AGE\": 27.6, \"DIS\": 4.8628, \"RAD\": 4, \"TAX\": 254.0, \"PTRATIO\": 17.6, \"B\": 393.45, \"LSTAT\": 4.16, \"MEDV\": 33.1}, {\"CRIM\": 0.07977999999999999, \"ZN\": 40.0, \"INDUS\": 6.41, \"CHAS\": 0, \"NOX\": 0.447, \"RM\": 6.482, \"AGE\": 32.1, \"DIS\": 4.1403, \"RAD\": 4, \"TAX\": 254.0, \"PTRATIO\": 17.6, \"B\": 396.9, \"LSTAT\": 7.19, \"MEDV\": 29.1}, {\"CRIM\": 0.21038, \"ZN\": 20.0, \"INDUS\": 3.33, \"CHAS\": 0, \"NOX\": 0.4429, \"RM\": 6.812, \"AGE\": 32.2, \"DIS\": 4.1007, \"RAD\": 5, \"TAX\": 216.0, \"PTRATIO\": 14.9, \"B\": 396.9, \"LSTAT\": 4.85, \"MEDV\": 35.1}, {\"CRIM\": 0.03578, \"ZN\": 20.0, \"INDUS\": 3.33, \"CHAS\": 0, \"NOX\": 0.4429, \"RM\": 7.82, \"AGE\": 64.5, \"DIS\": 4.6947, \"RAD\": 5, \"TAX\": 216.0, \"PTRATIO\": 14.9, \"B\": 387.31, \"LSTAT\": 3.76, \"MEDV\": 45.4}, {\"CRIM\": 0.03705, \"ZN\": 20.0, \"INDUS\": 3.33, \"CHAS\": 0, \"NOX\": 0.4429, \"RM\": 6.968, \"AGE\": 37.2, \"DIS\": 5.2447, \"RAD\": 5, \"TAX\": 216.0, \"PTRATIO\": 14.9, \"B\": 392.23, \"LSTAT\": 4.59, \"MEDV\": 35.4}, {\"CRIM\": 0.06129, \"ZN\": 20.0, \"INDUS\": 3.33, \"CHAS\": 1, \"NOX\": 0.4429, \"RM\": 7.645, \"AGE\": 49.7, \"DIS\": 5.2119, \"RAD\": 5, \"TAX\": 216.0, \"PTRATIO\": 14.9, \"B\": 377.07, \"LSTAT\": 3.01, \"MEDV\": 46.0}, {\"CRIM\": 0.015009999999999999, \"ZN\": 90.0, \"INDUS\": 1.21, \"CHAS\": 1, \"NOX\": 0.401, \"RM\": 7.923, \"AGE\": 24.8, \"DIS\": 5.885, \"RAD\": 1, \"TAX\": 198.0, \"PTRATIO\": 13.6, \"B\": 395.52, \"LSTAT\": 3.16, \"MEDV\": 50.0}, {\"CRIM\": 0.009059999999999999, \"ZN\": 90.0, \"INDUS\": 2.97, \"CHAS\": 0, \"NOX\": 0.4, \"RM\": 7.088, \"AGE\": 20.8, \"DIS\": 7.3073, \"RAD\": 1, \"TAX\": 285.0, \"PTRATIO\": 15.3, \"B\": 394.72, \"LSTAT\": 7.85, \"MEDV\": 32.2}, {\"CRIM\": 0.01096, \"ZN\": 55.0, \"INDUS\": 2.25, \"CHAS\": 0, \"NOX\": 0.389, \"RM\": 6.453, \"AGE\": 31.9, \"DIS\": 7.3073, \"RAD\": 1, \"TAX\": 300.0, \"PTRATIO\": 15.3, \"B\": 394.72, \"LSTAT\": 8.23, \"MEDV\": 22.0}, {\"CRIM\": 0.01965, \"ZN\": 80.0, \"INDUS\": 1.76, \"CHAS\": 0, \"NOX\": 0.385, \"RM\": 6.23, \"AGE\": 31.5, \"DIS\": 9.0892, \"RAD\": 1, \"TAX\": 241.0, \"PTRATIO\": 18.2, \"B\": 341.6, \"LSTAT\": 12.93, \"MEDV\": 20.1}, {\"CRIM\": 0.03871, \"ZN\": 52.5, \"INDUS\": 5.32, \"CHAS\": 0, \"NOX\": 0.405, \"RM\": 6.209, \"AGE\": 31.3, \"DIS\": 7.3172, \"RAD\": 6, \"TAX\": 293.0, \"PTRATIO\": 16.6, \"B\": 396.9, \"LSTAT\": 7.14, \"MEDV\": 23.2}, {\"CRIM\": 0.0459, \"ZN\": 52.5, \"INDUS\": 5.32, \"CHAS\": 0, \"NOX\": 0.405, \"RM\": 6.315, \"AGE\": 45.6, \"DIS\": 7.3172, \"RAD\": 6, \"TAX\": 293.0, \"PTRATIO\": 16.6, \"B\": 396.9, \"LSTAT\": 7.6, \"MEDV\": 22.3}, {\"CRIM\": 0.04297, \"ZN\": 52.5, \"INDUS\": 5.32, \"CHAS\": 0, \"NOX\": 0.405, \"RM\": 6.565, \"AGE\": 22.9, \"DIS\": 7.3172, \"RAD\": 6, \"TAX\": 293.0, \"PTRATIO\": 16.6, \"B\": 371.72, \"LSTAT\": 9.51, \"MEDV\": 24.8}, {\"CRIM\": 0.035019999999999996, \"ZN\": 80.0, \"INDUS\": 4.95, \"CHAS\": 0, \"NOX\": 0.411, \"RM\": 6.861, \"AGE\": 27.9, \"DIS\": 5.1167, \"RAD\": 4, \"TAX\": 245.0, \"PTRATIO\": 19.2, \"B\": 396.9, \"LSTAT\": 3.33, \"MEDV\": 28.5}, {\"CRIM\": 0.07886, \"ZN\": 80.0, \"INDUS\": 4.95, \"CHAS\": 0, \"NOX\": 0.411, \"RM\": 7.148, \"AGE\": 27.7, \"DIS\": 5.1167, \"RAD\": 4, \"TAX\": 245.0, \"PTRATIO\": 19.2, \"B\": 396.9, \"LSTAT\": 3.56, \"MEDV\": 37.3}, {\"CRIM\": 0.03615, \"ZN\": 80.0, \"INDUS\": 4.95, \"CHAS\": 0, \"NOX\": 0.411, \"RM\": 6.63, \"AGE\": 23.4, \"DIS\": 5.1167, \"RAD\": 4, \"TAX\": 245.0, \"PTRATIO\": 19.2, \"B\": 396.9, \"LSTAT\": 4.7, \"MEDV\": 27.9}, {\"CRIM\": 0.08265, \"ZN\": 0.0, \"INDUS\": 13.92, \"CHAS\": 0, \"NOX\": 0.437, \"RM\": 6.127, \"AGE\": 18.4, \"DIS\": 5.5027, \"RAD\": 4, \"TAX\": 289.0, \"PTRATIO\": 16.0, \"B\": 396.9, \"LSTAT\": 8.58, \"MEDV\": 23.9}, {\"CRIM\": 0.08199, \"ZN\": 0.0, \"INDUS\": 13.92, \"CHAS\": 0, \"NOX\": 0.437, \"RM\": 6.009, \"AGE\": 42.3, \"DIS\": 5.5027, \"RAD\": 4, \"TAX\": 289.0, \"PTRATIO\": 16.0, \"B\": 396.9, \"LSTAT\": 10.4, \"MEDV\": 21.7}, {\"CRIM\": 0.12932000000000002, \"ZN\": 0.0, \"INDUS\": 13.92, \"CHAS\": 0, \"NOX\": 0.437, \"RM\": 6.678, \"AGE\": 31.1, \"DIS\": 5.9604, \"RAD\": 4, \"TAX\": 289.0, \"PTRATIO\": 16.0, \"B\": 396.9, \"LSTAT\": 6.27, \"MEDV\": 28.6}, {\"CRIM\": 0.053720000000000004, \"ZN\": 0.0, \"INDUS\": 13.92, \"CHAS\": 0, \"NOX\": 0.437, \"RM\": 6.549, \"AGE\": 51.0, \"DIS\": 5.9604, \"RAD\": 4, \"TAX\": 289.0, \"PTRATIO\": 16.0, \"B\": 392.85, \"LSTAT\": 7.39, \"MEDV\": 27.1}, {\"CRIM\": 0.14103, \"ZN\": 0.0, \"INDUS\": 13.92, \"CHAS\": 0, \"NOX\": 0.437, \"RM\": 5.79, \"AGE\": 58.0, \"DIS\": 6.32, \"RAD\": 4, \"TAX\": 289.0, \"PTRATIO\": 16.0, \"B\": 396.9, \"LSTAT\": 15.84, \"MEDV\": 20.3}, {\"CRIM\": 0.06466000000000001, \"ZN\": 70.0, \"INDUS\": 2.24, \"CHAS\": 0, \"NOX\": 0.4, \"RM\": 6.345, \"AGE\": 20.1, \"DIS\": 7.8278, \"RAD\": 5, \"TAX\": 358.0, \"PTRATIO\": 14.8, \"B\": 368.24, \"LSTAT\": 4.97, \"MEDV\": 22.5}, {\"CRIM\": 0.05561, \"ZN\": 70.0, \"INDUS\": 2.24, \"CHAS\": 0, \"NOX\": 0.4, \"RM\": 7.041, \"AGE\": 10.0, \"DIS\": 7.8278, \"RAD\": 5, \"TAX\": 358.0, \"PTRATIO\": 14.8, \"B\": 371.58, \"LSTAT\": 4.74, \"MEDV\": 29.0}, {\"CRIM\": 0.04417, \"ZN\": 70.0, \"INDUS\": 2.24, \"CHAS\": 0, \"NOX\": 0.4, \"RM\": 6.871, \"AGE\": 47.4, \"DIS\": 7.8278, \"RAD\": 5, \"TAX\": 358.0, \"PTRATIO\": 14.8, \"B\": 390.86, \"LSTAT\": 6.07, \"MEDV\": 24.8}, {\"CRIM\": 0.03537, \"ZN\": 34.0, \"INDUS\": 6.09, \"CHAS\": 0, \"NOX\": 0.433, \"RM\": 6.59, \"AGE\": 40.4, \"DIS\": 5.4917, \"RAD\": 7, \"TAX\": 329.0, \"PTRATIO\": 16.1, \"B\": 395.75, \"LSTAT\": 9.5, \"MEDV\": 22.0}, {\"CRIM\": 0.09266, \"ZN\": 34.0, \"INDUS\": 6.09, \"CHAS\": 0, \"NOX\": 0.433, \"RM\": 6.495, \"AGE\": 18.4, \"DIS\": 5.4917, \"RAD\": 7, \"TAX\": 329.0, \"PTRATIO\": 16.1, \"B\": 383.61, \"LSTAT\": 8.67, \"MEDV\": 26.4}, {\"CRIM\": 0.1, \"ZN\": 34.0, \"INDUS\": 6.09, \"CHAS\": 0, \"NOX\": 0.433, \"RM\": 6.982, \"AGE\": 17.7, \"DIS\": 5.4917, \"RAD\": 7, \"TAX\": 329.0, \"PTRATIO\": 16.1, \"B\": 390.43, \"LSTAT\": 4.86, \"MEDV\": 33.1}, {\"CRIM\": 0.05515, \"ZN\": 33.0, \"INDUS\": 2.18, \"CHAS\": 0, \"NOX\": 0.472, \"RM\": 7.236, \"AGE\": 41.1, \"DIS\": 4.022, \"RAD\": 7, \"TAX\": 222.0, \"PTRATIO\": 18.4, \"B\": 393.68, \"LSTAT\": 6.93, \"MEDV\": 36.1}, {\"CRIM\": 0.05479, \"ZN\": 33.0, \"INDUS\": 2.18, \"CHAS\": 0, \"NOX\": 0.472, \"RM\": 6.616, \"AGE\": 58.1, \"DIS\": 3.37, \"RAD\": 7, \"TAX\": 222.0, \"PTRATIO\": 18.4, \"B\": 393.36, \"LSTAT\": 8.93, \"MEDV\": 28.4}, {\"CRIM\": 0.07503, \"ZN\": 33.0, \"INDUS\": 2.18, \"CHAS\": 0, \"NOX\": 0.472, \"RM\": 7.42, \"AGE\": 71.9, \"DIS\": 3.0992, \"RAD\": 7, \"TAX\": 222.0, \"PTRATIO\": 18.4, \"B\": 396.9, \"LSTAT\": 6.47, \"MEDV\": 33.4}, {\"CRIM\": 0.049319999999999996, \"ZN\": 33.0, \"INDUS\": 2.18, \"CHAS\": 0, \"NOX\": 0.472, \"RM\": 6.849, \"AGE\": 70.3, \"DIS\": 3.1827, \"RAD\": 7, \"TAX\": 222.0, \"PTRATIO\": 18.4, \"B\": 396.9, \"LSTAT\": 7.53, \"MEDV\": 28.2}, {\"CRIM\": 0.49298000000000003, \"ZN\": 0.0, \"INDUS\": 9.9, \"CHAS\": 0, \"NOX\": 0.544, \"RM\": 6.635, \"AGE\": 82.5, \"DIS\": 3.3175, \"RAD\": 4, \"TAX\": 304.0, \"PTRATIO\": 18.4, \"B\": 396.9, \"LSTAT\": 4.54, \"MEDV\": 22.8}, {\"CRIM\": 0.3494, \"ZN\": 0.0, \"INDUS\": 9.9, \"CHAS\": 0, \"NOX\": 0.544, \"RM\": 5.972, \"AGE\": 76.7, \"DIS\": 3.1025, \"RAD\": 4, \"TAX\": 304.0, \"PTRATIO\": 18.4, \"B\": 396.24, \"LSTAT\": 9.97, \"MEDV\": 20.3}, {\"CRIM\": 2.63548, \"ZN\": 0.0, \"INDUS\": 9.9, \"CHAS\": 0, \"NOX\": 0.544, \"RM\": 4.973, \"AGE\": 37.8, \"DIS\": 2.5194, \"RAD\": 4, \"TAX\": 304.0, \"PTRATIO\": 18.4, \"B\": 350.45, \"LSTAT\": 12.64, \"MEDV\": 16.1}, {\"CRIM\": 0.7904100000000001, \"ZN\": 0.0, \"INDUS\": 9.9, \"CHAS\": 0, \"NOX\": 0.544, \"RM\": 6.122, \"AGE\": 52.8, \"DIS\": 2.6403, \"RAD\": 4, \"TAX\": 304.0, \"PTRATIO\": 18.4, \"B\": 396.9, \"LSTAT\": 5.98, \"MEDV\": 22.1}, {\"CRIM\": 0.26169000000000003, \"ZN\": 0.0, \"INDUS\": 9.9, \"CHAS\": 0, \"NOX\": 0.544, \"RM\": 6.023, \"AGE\": 90.4, \"DIS\": 2.834, \"RAD\": 4, \"TAX\": 304.0, \"PTRATIO\": 18.4, \"B\": 396.3, \"LSTAT\": 11.72, \"MEDV\": 19.4}, {\"CRIM\": 0.26938, \"ZN\": 0.0, \"INDUS\": 9.9, \"CHAS\": 0, \"NOX\": 0.544, \"RM\": 6.266, \"AGE\": 82.8, \"DIS\": 3.2628, \"RAD\": 4, \"TAX\": 304.0, \"PTRATIO\": 18.4, \"B\": 393.39, \"LSTAT\": 7.9, \"MEDV\": 21.6}, {\"CRIM\": 0.3692, \"ZN\": 0.0, \"INDUS\": 9.9, \"CHAS\": 0, \"NOX\": 0.544, \"RM\": 6.567, \"AGE\": 87.3, \"DIS\": 3.6023, \"RAD\": 4, \"TAX\": 304.0, \"PTRATIO\": 18.4, \"B\": 395.69, \"LSTAT\": 9.28, \"MEDV\": 23.8}, {\"CRIM\": 0.25356, \"ZN\": 0.0, \"INDUS\": 9.9, \"CHAS\": 0, \"NOX\": 0.544, \"RM\": 5.705, \"AGE\": 77.7, \"DIS\": 3.945, \"RAD\": 4, \"TAX\": 304.0, \"PTRATIO\": 18.4, \"B\": 396.42, \"LSTAT\": 11.5, \"MEDV\": 16.2}, {\"CRIM\": 0.31827, \"ZN\": 0.0, \"INDUS\": 9.9, \"CHAS\": 0, \"NOX\": 0.544, \"RM\": 5.914, \"AGE\": 83.2, \"DIS\": 3.9986, \"RAD\": 4, \"TAX\": 304.0, \"PTRATIO\": 18.4, \"B\": 390.7, \"LSTAT\": 18.33, \"MEDV\": 17.8}, {\"CRIM\": 0.24522, \"ZN\": 0.0, \"INDUS\": 9.9, \"CHAS\": 0, \"NOX\": 0.544, \"RM\": 5.782, \"AGE\": 71.7, \"DIS\": 4.0317, \"RAD\": 4, \"TAX\": 304.0, \"PTRATIO\": 18.4, \"B\": 396.9, \"LSTAT\": 15.94, \"MEDV\": 19.8}, {\"CRIM\": 0.40202, \"ZN\": 0.0, \"INDUS\": 9.9, \"CHAS\": 0, \"NOX\": 0.544, \"RM\": 6.382, \"AGE\": 67.2, \"DIS\": 3.5325, \"RAD\": 4, \"TAX\": 304.0, \"PTRATIO\": 18.4, \"B\": 395.21, \"LSTAT\": 10.36, \"MEDV\": 23.1}, {\"CRIM\": 0.47547, \"ZN\": 0.0, \"INDUS\": 9.9, \"CHAS\": 0, \"NOX\": 0.544, \"RM\": 6.113, \"AGE\": 58.8, \"DIS\": 4.0019, \"RAD\": 4, \"TAX\": 304.0, \"PTRATIO\": 18.4, \"B\": 396.23, \"LSTAT\": 12.73, \"MEDV\": 21.0}, {\"CRIM\": 0.1676, \"ZN\": 0.0, \"INDUS\": 7.38, \"CHAS\": 0, \"NOX\": 0.493, \"RM\": 6.426, \"AGE\": 52.3, \"DIS\": 4.5404, \"RAD\": 5, \"TAX\": 287.0, \"PTRATIO\": 19.6, \"B\": 396.9, \"LSTAT\": 7.2, \"MEDV\": 23.8}, {\"CRIM\": 0.18159, \"ZN\": 0.0, \"INDUS\": 7.38, \"CHAS\": 0, \"NOX\": 0.493, \"RM\": 6.376, \"AGE\": 54.3, \"DIS\": 4.5404, \"RAD\": 5, \"TAX\": 287.0, \"PTRATIO\": 19.6, \"B\": 396.9, \"LSTAT\": 6.87, \"MEDV\": 23.1}, {\"CRIM\": 0.35114, \"ZN\": 0.0, \"INDUS\": 7.38, \"CHAS\": 0, \"NOX\": 0.493, \"RM\": 6.041, \"AGE\": 49.9, \"DIS\": 4.7211, \"RAD\": 5, \"TAX\": 287.0, \"PTRATIO\": 19.6, \"B\": 396.9, \"LSTAT\": 7.7, \"MEDV\": 20.4}, {\"CRIM\": 0.28392, \"ZN\": 0.0, \"INDUS\": 7.38, \"CHAS\": 0, \"NOX\": 0.493, \"RM\": 5.708, \"AGE\": 74.3, \"DIS\": 4.7211, \"RAD\": 5, \"TAX\": 287.0, \"PTRATIO\": 19.6, \"B\": 391.13, \"LSTAT\": 11.74, \"MEDV\": 18.5}, {\"CRIM\": 0.34109, \"ZN\": 0.0, \"INDUS\": 7.38, \"CHAS\": 0, \"NOX\": 0.493, \"RM\": 6.415, \"AGE\": 40.1, \"DIS\": 4.7211, \"RAD\": 5, \"TAX\": 287.0, \"PTRATIO\": 19.6, \"B\": 396.9, \"LSTAT\": 6.12, \"MEDV\": 25.0}, {\"CRIM\": 0.19186, \"ZN\": 0.0, \"INDUS\": 7.38, \"CHAS\": 0, \"NOX\": 0.493, \"RM\": 6.431, \"AGE\": 14.7, \"DIS\": 5.4159, \"RAD\": 5, \"TAX\": 287.0, \"PTRATIO\": 19.6, \"B\": 393.68, \"LSTAT\": 5.08, \"MEDV\": 24.6}, {\"CRIM\": 0.30346999999999996, \"ZN\": 0.0, \"INDUS\": 7.38, \"CHAS\": 0, \"NOX\": 0.493, \"RM\": 6.312, \"AGE\": 28.9, \"DIS\": 5.4159, \"RAD\": 5, \"TAX\": 287.0, \"PTRATIO\": 19.6, \"B\": 396.9, \"LSTAT\": 6.15, \"MEDV\": 23.0}, {\"CRIM\": 0.24103000000000002, \"ZN\": 0.0, \"INDUS\": 7.38, \"CHAS\": 0, \"NOX\": 0.493, \"RM\": 6.083, \"AGE\": 43.7, \"DIS\": 5.4159, \"RAD\": 5, \"TAX\": 287.0, \"PTRATIO\": 19.6, \"B\": 396.9, \"LSTAT\": 12.79, \"MEDV\": 22.2}, {\"CRIM\": 0.06617, \"ZN\": 0.0, \"INDUS\": 3.24, \"CHAS\": 0, \"NOX\": 0.46, \"RM\": 5.868, \"AGE\": 25.8, \"DIS\": 5.2146, \"RAD\": 4, \"TAX\": 430.0, \"PTRATIO\": 16.9, \"B\": 382.44, \"LSTAT\": 9.97, \"MEDV\": 19.3}, {\"CRIM\": 0.06724, \"ZN\": 0.0, \"INDUS\": 3.24, \"CHAS\": 0, \"NOX\": 0.46, \"RM\": 6.333, \"AGE\": 17.2, \"DIS\": 5.2146, \"RAD\": 4, \"TAX\": 430.0, \"PTRATIO\": 16.9, \"B\": 375.21, \"LSTAT\": 7.34, \"MEDV\": 22.6}, {\"CRIM\": 0.045439999999999994, \"ZN\": 0.0, \"INDUS\": 3.24, \"CHAS\": 0, \"NOX\": 0.46, \"RM\": 6.144, \"AGE\": 32.2, \"DIS\": 5.8736, \"RAD\": 4, \"TAX\": 430.0, \"PTRATIO\": 16.9, \"B\": 368.57, \"LSTAT\": 9.09, \"MEDV\": 19.8}, {\"CRIM\": 0.050230000000000004, \"ZN\": 35.0, \"INDUS\": 6.06, \"CHAS\": 0, \"NOX\": 0.4379, \"RM\": 5.706, \"AGE\": 28.4, \"DIS\": 6.6407, \"RAD\": 1, \"TAX\": 304.0, \"PTRATIO\": 16.9, \"B\": 394.02, \"LSTAT\": 12.43, \"MEDV\": 17.1}, {\"CRIM\": 0.03466, \"ZN\": 35.0, \"INDUS\": 6.06, \"CHAS\": 0, \"NOX\": 0.4379, \"RM\": 6.031, \"AGE\": 23.3, \"DIS\": 6.6407, \"RAD\": 1, \"TAX\": 304.0, \"PTRATIO\": 16.9, \"B\": 362.25, \"LSTAT\": 7.83, \"MEDV\": 19.4}, {\"CRIM\": 0.05083, \"ZN\": 0.0, \"INDUS\": 5.19, \"CHAS\": 0, \"NOX\": 0.515, \"RM\": 6.316, \"AGE\": 38.1, \"DIS\": 6.4584, \"RAD\": 5, \"TAX\": 224.0, \"PTRATIO\": 20.2, \"B\": 389.71, \"LSTAT\": 5.68, \"MEDV\": 22.2}, {\"CRIM\": 0.037380000000000004, \"ZN\": 0.0, \"INDUS\": 5.19, \"CHAS\": 0, \"NOX\": 0.515, \"RM\": 6.31, \"AGE\": 38.5, \"DIS\": 6.4584, \"RAD\": 5, \"TAX\": 224.0, \"PTRATIO\": 20.2, \"B\": 389.4, \"LSTAT\": 6.75, \"MEDV\": 20.7}, {\"CRIM\": 0.03961, \"ZN\": 0.0, \"INDUS\": 5.19, \"CHAS\": 0, \"NOX\": 0.515, \"RM\": 6.037, \"AGE\": 34.5, \"DIS\": 5.9853, \"RAD\": 5, \"TAX\": 224.0, \"PTRATIO\": 20.2, \"B\": 396.9, \"LSTAT\": 8.01, \"MEDV\": 21.1}, {\"CRIM\": 0.03427, \"ZN\": 0.0, \"INDUS\": 5.19, \"CHAS\": 0, \"NOX\": 0.515, \"RM\": 5.869, \"AGE\": 46.3, \"DIS\": 5.2311, \"RAD\": 5, \"TAX\": 224.0, \"PTRATIO\": 20.2, \"B\": 396.9, \"LSTAT\": 9.8, \"MEDV\": 19.5}, {\"CRIM\": 0.030410000000000003, \"ZN\": 0.0, \"INDUS\": 5.19, \"CHAS\": 0, \"NOX\": 0.515, \"RM\": 5.895, \"AGE\": 59.6, \"DIS\": 5.615, \"RAD\": 5, \"TAX\": 224.0, \"PTRATIO\": 20.2, \"B\": 394.81, \"LSTAT\": 10.56, \"MEDV\": 18.5}, {\"CRIM\": 0.03306, \"ZN\": 0.0, \"INDUS\": 5.19, \"CHAS\": 0, \"NOX\": 0.515, \"RM\": 6.059, \"AGE\": 37.3, \"DIS\": 4.8122, \"RAD\": 5, \"TAX\": 224.0, \"PTRATIO\": 20.2, \"B\": 396.14, \"LSTAT\": 8.51, \"MEDV\": 20.6}, {\"CRIM\": 0.054970000000000005, \"ZN\": 0.0, \"INDUS\": 5.19, \"CHAS\": 0, \"NOX\": 0.515, \"RM\": 5.985, \"AGE\": 45.4, \"DIS\": 4.8122, \"RAD\": 5, \"TAX\": 224.0, \"PTRATIO\": 20.2, \"B\": 396.9, \"LSTAT\": 9.74, \"MEDV\": 19.0}, {\"CRIM\": 0.06151, \"ZN\": 0.0, \"INDUS\": 5.19, \"CHAS\": 0, \"NOX\": 0.515, \"RM\": 5.968, \"AGE\": 58.5, \"DIS\": 4.8122, \"RAD\": 5, \"TAX\": 224.0, \"PTRATIO\": 20.2, \"B\": 396.9, \"LSTAT\": 9.29, \"MEDV\": 18.7}, {\"CRIM\": 0.013009999999999999, \"ZN\": 35.0, \"INDUS\": 1.52, \"CHAS\": 0, \"NOX\": 0.442, \"RM\": 7.241, \"AGE\": 49.3, \"DIS\": 7.0379, \"RAD\": 1, \"TAX\": 284.0, \"PTRATIO\": 15.5, \"B\": 394.74, \"LSTAT\": 5.49, \"MEDV\": 32.7}, {\"CRIM\": 0.024980000000000002, \"ZN\": 0.0, \"INDUS\": 1.89, \"CHAS\": 0, \"NOX\": 0.518, \"RM\": 6.54, \"AGE\": 59.7, \"DIS\": 6.2669, \"RAD\": 1, \"TAX\": 422.0, \"PTRATIO\": 15.9, \"B\": 389.96, \"LSTAT\": 8.65, \"MEDV\": 16.5}, {\"CRIM\": 0.02543, \"ZN\": 55.0, \"INDUS\": 3.78, \"CHAS\": 0, \"NOX\": 0.484, \"RM\": 6.696, \"AGE\": 56.4, \"DIS\": 5.7321, \"RAD\": 5, \"TAX\": 370.0, \"PTRATIO\": 17.6, \"B\": 396.9, \"LSTAT\": 7.18, \"MEDV\": 23.9}, {\"CRIM\": 0.030489999999999996, \"ZN\": 55.0, \"INDUS\": 3.78, \"CHAS\": 0, \"NOX\": 0.484, \"RM\": 6.874, \"AGE\": 28.1, \"DIS\": 6.4654, \"RAD\": 5, \"TAX\": 370.0, \"PTRATIO\": 17.6, \"B\": 387.97, \"LSTAT\": 4.61, \"MEDV\": 31.2}, {\"CRIM\": 0.03113, \"ZN\": 0.0, \"INDUS\": 4.39, \"CHAS\": 0, \"NOX\": 0.442, \"RM\": 6.014, \"AGE\": 48.5, \"DIS\": 8.0136, \"RAD\": 3, \"TAX\": 352.0, \"PTRATIO\": 18.8, \"B\": 385.64, \"LSTAT\": 10.53, \"MEDV\": 17.5}, {\"CRIM\": 0.06162, \"ZN\": 0.0, \"INDUS\": 4.39, \"CHAS\": 0, \"NOX\": 0.442, \"RM\": 5.898, \"AGE\": 52.3, \"DIS\": 8.0136, \"RAD\": 3, \"TAX\": 352.0, \"PTRATIO\": 18.8, \"B\": 364.61, \"LSTAT\": 12.67, \"MEDV\": 17.2}, {\"CRIM\": 0.0187, \"ZN\": 85.0, \"INDUS\": 4.15, \"CHAS\": 0, \"NOX\": 0.429, \"RM\": 6.516, \"AGE\": 27.7, \"DIS\": 8.5353, \"RAD\": 4, \"TAX\": 351.0, \"PTRATIO\": 17.9, \"B\": 392.43, \"LSTAT\": 6.36, \"MEDV\": 23.1}, {\"CRIM\": 0.015009999999999999, \"ZN\": 80.0, \"INDUS\": 2.01, \"CHAS\": 0, \"NOX\": 0.435, \"RM\": 6.635, \"AGE\": 29.7, \"DIS\": 8.344, \"RAD\": 4, \"TAX\": 280.0, \"PTRATIO\": 17.0, \"B\": 390.94, \"LSTAT\": 5.99, \"MEDV\": 24.5}, {\"CRIM\": 0.02899, \"ZN\": 40.0, \"INDUS\": 1.25, \"CHAS\": 0, \"NOX\": 0.429, \"RM\": 6.939, \"AGE\": 34.5, \"DIS\": 8.7921, \"RAD\": 1, \"TAX\": 335.0, \"PTRATIO\": 19.7, \"B\": 389.85, \"LSTAT\": 5.89, \"MEDV\": 26.6}, {\"CRIM\": 0.062110000000000005, \"ZN\": 40.0, \"INDUS\": 1.25, \"CHAS\": 0, \"NOX\": 0.429, \"RM\": 6.49, \"AGE\": 44.4, \"DIS\": 8.7921, \"RAD\": 1, \"TAX\": 335.0, \"PTRATIO\": 19.7, \"B\": 396.9, \"LSTAT\": 5.98, \"MEDV\": 22.9}, {\"CRIM\": 0.0795, \"ZN\": 60.0, \"INDUS\": 1.69, \"CHAS\": 0, \"NOX\": 0.411, \"RM\": 6.579, \"AGE\": 35.9, \"DIS\": 10.7103, \"RAD\": 4, \"TAX\": 411.0, \"PTRATIO\": 18.3, \"B\": 370.78, \"LSTAT\": 5.49, \"MEDV\": 24.1}, {\"CRIM\": 0.07244, \"ZN\": 60.0, \"INDUS\": 1.69, \"CHAS\": 0, \"NOX\": 0.411, \"RM\": 5.884, \"AGE\": 18.5, \"DIS\": 10.7103, \"RAD\": 4, \"TAX\": 411.0, \"PTRATIO\": 18.3, \"B\": 392.33, \"LSTAT\": 7.79, \"MEDV\": 18.6}, {\"CRIM\": 0.01709, \"ZN\": 90.0, \"INDUS\": 2.02, \"CHAS\": 0, \"NOX\": 0.41, \"RM\": 6.728, \"AGE\": 36.1, \"DIS\": 12.1265, \"RAD\": 5, \"TAX\": 187.0, \"PTRATIO\": 17.0, \"B\": 384.46, \"LSTAT\": 4.5, \"MEDV\": 30.1}, {\"CRIM\": 0.04301, \"ZN\": 80.0, \"INDUS\": 1.91, \"CHAS\": 0, \"NOX\": 0.413, \"RM\": 5.663, \"AGE\": 21.9, \"DIS\": 10.5857, \"RAD\": 4, \"TAX\": 334.0, \"PTRATIO\": 22.0, \"B\": 382.8, \"LSTAT\": 8.05, \"MEDV\": 18.2}, {\"CRIM\": 0.10659, \"ZN\": 80.0, \"INDUS\": 1.91, \"CHAS\": 0, \"NOX\": 0.413, \"RM\": 5.936, \"AGE\": 19.5, \"DIS\": 10.5857, \"RAD\": 4, \"TAX\": 334.0, \"PTRATIO\": 22.0, \"B\": 376.04, \"LSTAT\": 5.57, \"MEDV\": 20.6}, {\"CRIM\": 8.98296, \"ZN\": 0.0, \"INDUS\": 18.1, \"CHAS\": 1, \"NOX\": 0.77, \"RM\": 6.212, \"AGE\": 97.4, \"DIS\": 2.1222, \"RAD\": 24, \"TAX\": 666.0, \"PTRATIO\": 20.2, \"B\": 377.73, \"LSTAT\": 17.6, \"MEDV\": 17.8}, {\"CRIM\": 3.8497, \"ZN\": 0.0, \"INDUS\": 18.1, \"CHAS\": 1, \"NOX\": 0.77, \"RM\": 6.395, \"AGE\": 91.0, \"DIS\": 2.5052, \"RAD\": 24, \"TAX\": 666.0, \"PTRATIO\": 20.2, \"B\": 391.34, \"LSTAT\": 13.27, \"MEDV\": 21.7}, {\"CRIM\": 5.20177, \"ZN\": 0.0, \"INDUS\": 18.1, \"CHAS\": 1, \"NOX\": 0.77, \"RM\": 6.127, \"AGE\": 83.4, \"DIS\": 2.7227, \"RAD\": 24, \"TAX\": 666.0, \"PTRATIO\": 20.2, \"B\": 395.43, \"LSTAT\": 11.48, \"MEDV\": 22.7}, {\"CRIM\": 4.26131, \"ZN\": 0.0, \"INDUS\": 18.1, \"CHAS\": 0, \"NOX\": 0.77, \"RM\": 6.112, \"AGE\": 81.3, \"DIS\": 2.5091, \"RAD\": 24, \"TAX\": 666.0, \"PTRATIO\": 20.2, \"B\": 390.74, \"LSTAT\": 12.67, \"MEDV\": 22.6}, {\"CRIM\": 4.541919999999999, \"ZN\": 0.0, \"INDUS\": 18.1, \"CHAS\": 0, \"NOX\": 0.77, \"RM\": 6.398, \"AGE\": 88.0, \"DIS\": 2.5182, \"RAD\": 24, \"TAX\": 666.0, \"PTRATIO\": 20.2, \"B\": 374.56, \"LSTAT\": 7.79, \"MEDV\": 25.0}, {\"CRIM\": 3.83684, \"ZN\": 0.0, \"INDUS\": 18.1, \"CHAS\": 0, \"NOX\": 0.77, \"RM\": 6.251, \"AGE\": 91.1, \"DIS\": 2.2955, \"RAD\": 24, \"TAX\": 666.0, \"PTRATIO\": 20.2, \"B\": 350.65, \"LSTAT\": 14.19, \"MEDV\": 19.9}, {\"CRIM\": 3.6782199999999996, \"ZN\": 0.0, \"INDUS\": 18.1, \"CHAS\": 0, \"NOX\": 0.77, \"RM\": 5.362, \"AGE\": 96.2, \"DIS\": 2.1036, \"RAD\": 24, \"TAX\": 666.0, \"PTRATIO\": 20.2, \"B\": 380.79, \"LSTAT\": 10.19, \"MEDV\": 20.8}, {\"CRIM\": 4.22239, \"ZN\": 0.0, \"INDUS\": 18.1, \"CHAS\": 1, \"NOX\": 0.77, \"RM\": 5.803, \"AGE\": 89.0, \"DIS\": 1.9047, \"RAD\": 24, \"TAX\": 666.0, \"PTRATIO\": 20.2, \"B\": 353.04, \"LSTAT\": 14.64, \"MEDV\": 16.8}, {\"CRIM\": 3.4742800000000003, \"ZN\": 0.0, \"INDUS\": 18.1, \"CHAS\": 1, \"NOX\": 0.718, \"RM\": 8.78, \"AGE\": 82.9, \"DIS\": 1.9047, \"RAD\": 24, \"TAX\": 666.0, \"PTRATIO\": 20.2, \"B\": 354.55, \"LSTAT\": 5.29, \"MEDV\": 21.9}, {\"CRIM\": 4.55587, \"ZN\": 0.0, \"INDUS\": 18.1, \"CHAS\": 0, \"NOX\": 0.718, \"RM\": 3.561, \"AGE\": 87.9, \"DIS\": 1.6132, \"RAD\": 24, \"TAX\": 666.0, \"PTRATIO\": 20.2, \"B\": 354.7, \"LSTAT\": 7.12, \"MEDV\": 27.5}, {\"CRIM\": 3.69695, \"ZN\": 0.0, \"INDUS\": 18.1, \"CHAS\": 0, \"NOX\": 0.718, \"RM\": 4.963, \"AGE\": 91.4, \"DIS\": 1.7523, \"RAD\": 24, \"TAX\": 666.0, \"PTRATIO\": 20.2, \"B\": 316.03, \"LSTAT\": 14.0, \"MEDV\": 21.9}, {\"CRIM\": 13.5222, \"ZN\": 0.0, \"INDUS\": 18.1, \"CHAS\": 0, \"NOX\": 0.631, \"RM\": 3.863, \"AGE\": 100.0, \"DIS\": 1.5106, \"RAD\": 24, \"TAX\": 666.0, \"PTRATIO\": 20.2, \"B\": 131.42, \"LSTAT\": 13.33, \"MEDV\": 23.1}, {\"CRIM\": 4.898219999999999, \"ZN\": 0.0, \"INDUS\": 18.1, \"CHAS\": 0, \"NOX\": 0.631, \"RM\": 4.97, \"AGE\": 100.0, \"DIS\": 1.3325, \"RAD\": 24, \"TAX\": 666.0, \"PTRATIO\": 20.2, \"B\": 375.52, \"LSTAT\": 3.26, \"MEDV\": 50.0}, {\"CRIM\": 5.669980000000001, \"ZN\": 0.0, \"INDUS\": 18.1, \"CHAS\": 1, \"NOX\": 0.631, \"RM\": 6.683, \"AGE\": 96.8, \"DIS\": 1.3567, \"RAD\": 24, \"TAX\": 666.0, \"PTRATIO\": 20.2, \"B\": 375.33, \"LSTAT\": 3.73, \"MEDV\": 50.0}, {\"CRIM\": 6.53876, \"ZN\": 0.0, \"INDUS\": 18.1, \"CHAS\": 1, \"NOX\": 0.631, \"RM\": 7.016, \"AGE\": 97.5, \"DIS\": 1.2024, \"RAD\": 24, \"TAX\": 666.0, \"PTRATIO\": 20.2, \"B\": 392.05, \"LSTAT\": 2.96, \"MEDV\": 50.0}, {\"CRIM\": 9.2323, \"ZN\": 0.0, \"INDUS\": 18.1, \"CHAS\": 0, \"NOX\": 0.631, \"RM\": 6.216, \"AGE\": 100.0, \"DIS\": 1.1691, \"RAD\": 24, \"TAX\": 666.0, \"PTRATIO\": 20.2, \"B\": 366.15, \"LSTAT\": 9.53, \"MEDV\": 50.0}, {\"CRIM\": 8.26725, \"ZN\": 0.0, \"INDUS\": 18.1, \"CHAS\": 1, \"NOX\": 0.668, \"RM\": 5.875, \"AGE\": 89.6, \"DIS\": 1.1296, \"RAD\": 24, \"TAX\": 666.0, \"PTRATIO\": 20.2, \"B\": 347.88, \"LSTAT\": 8.88, \"MEDV\": 50.0}, {\"CRIM\": 11.1081, \"ZN\": 0.0, \"INDUS\": 18.1, \"CHAS\": 0, \"NOX\": 0.668, \"RM\": 4.906, \"AGE\": 100.0, \"DIS\": 1.1742, \"RAD\": 24, \"TAX\": 666.0, \"PTRATIO\": 20.2, \"B\": 396.9, \"LSTAT\": 34.77, \"MEDV\": 13.8}, {\"CRIM\": 18.4982, \"ZN\": 0.0, \"INDUS\": 18.1, \"CHAS\": 0, \"NOX\": 0.668, \"RM\": 4.138, \"AGE\": 100.0, \"DIS\": 1.137, \"RAD\": 24, \"TAX\": 666.0, \"PTRATIO\": 20.2, \"B\": 396.9, \"LSTAT\": 37.97, \"MEDV\": 13.8}, {\"CRIM\": 19.6091, \"ZN\": 0.0, \"INDUS\": 18.1, \"CHAS\": 0, \"NOX\": 0.671, \"RM\": 7.313, \"AGE\": 97.9, \"DIS\": 1.3163, \"RAD\": 24, \"TAX\": 666.0, \"PTRATIO\": 20.2, \"B\": 396.9, \"LSTAT\": 13.44, \"MEDV\": 15.0}, {\"CRIM\": 15.288, \"ZN\": 0.0, \"INDUS\": 18.1, \"CHAS\": 0, \"NOX\": 0.671, \"RM\": 6.649, \"AGE\": 93.3, \"DIS\": 1.3449, \"RAD\": 24, \"TAX\": 666.0, \"PTRATIO\": 20.2, \"B\": 363.02, \"LSTAT\": 23.24, \"MEDV\": 13.9}, {\"CRIM\": 9.82349, \"ZN\": 0.0, \"INDUS\": 18.1, \"CHAS\": 0, \"NOX\": 0.671, \"RM\": 6.794, \"AGE\": 98.8, \"DIS\": 1.358, \"RAD\": 24, \"TAX\": 666.0, \"PTRATIO\": 20.2, \"B\": 396.9, \"LSTAT\": 21.24, \"MEDV\": 13.3}, {\"CRIM\": 23.6482, \"ZN\": 0.0, \"INDUS\": 18.1, \"CHAS\": 0, \"NOX\": 0.671, \"RM\": 6.38, \"AGE\": 96.2, \"DIS\": 1.3861, \"RAD\": 24, \"TAX\": 666.0, \"PTRATIO\": 20.2, \"B\": 396.9, \"LSTAT\": 23.69, \"MEDV\": 13.1}, {\"CRIM\": 17.8667, \"ZN\": 0.0, \"INDUS\": 18.1, \"CHAS\": 0, \"NOX\": 0.671, \"RM\": 6.223, \"AGE\": 100.0, \"DIS\": 1.3861, \"RAD\": 24, \"TAX\": 666.0, \"PTRATIO\": 20.2, \"B\": 393.74, \"LSTAT\": 21.78, \"MEDV\": 10.2}, {\"CRIM\": 88.9762, \"ZN\": 0.0, \"INDUS\": 18.1, \"CHAS\": 0, \"NOX\": 0.671, \"RM\": 6.968, \"AGE\": 91.9, \"DIS\": 1.4165, \"RAD\": 24, \"TAX\": 666.0, \"PTRATIO\": 20.2, \"B\": 396.9, \"LSTAT\": 17.21, \"MEDV\": 10.4}, {\"CRIM\": 15.8744, \"ZN\": 0.0, \"INDUS\": 18.1, \"CHAS\": 0, \"NOX\": 0.671, \"RM\": 6.545, \"AGE\": 99.1, \"DIS\": 1.5192, \"RAD\": 24, \"TAX\": 666.0, \"PTRATIO\": 20.2, \"B\": 396.9, \"LSTAT\": 21.08, \"MEDV\": 10.9}, {\"CRIM\": 9.18702, \"ZN\": 0.0, \"INDUS\": 18.1, \"CHAS\": 0, \"NOX\": 0.7, \"RM\": 5.536, \"AGE\": 100.0, \"DIS\": 1.5804, \"RAD\": 24, \"TAX\": 666.0, \"PTRATIO\": 20.2, \"B\": 396.9, \"LSTAT\": 23.6, \"MEDV\": 11.3}, {\"CRIM\": 7.9924800000000005, \"ZN\": 0.0, \"INDUS\": 18.1, \"CHAS\": 0, \"NOX\": 0.7, \"RM\": 5.52, \"AGE\": 100.0, \"DIS\": 1.5331, \"RAD\": 24, \"TAX\": 666.0, \"PTRATIO\": 20.2, \"B\": 396.9, \"LSTAT\": 24.56, \"MEDV\": 12.3}, {\"CRIM\": 20.0849, \"ZN\": 0.0, \"INDUS\": 18.1, \"CHAS\": 0, \"NOX\": 0.7, \"RM\": 4.368, \"AGE\": 91.2, \"DIS\": 1.4395, \"RAD\": 24, \"TAX\": 666.0, \"PTRATIO\": 20.2, \"B\": 285.83, \"LSTAT\": 30.63, \"MEDV\": 8.8}, {\"CRIM\": 16.8118, \"ZN\": 0.0, \"INDUS\": 18.1, \"CHAS\": 0, \"NOX\": 0.7, \"RM\": 5.277, \"AGE\": 98.1, \"DIS\": 1.4261, \"RAD\": 24, \"TAX\": 666.0, \"PTRATIO\": 20.2, \"B\": 396.9, \"LSTAT\": 30.81, \"MEDV\": 7.2}, {\"CRIM\": 24.3938, \"ZN\": 0.0, \"INDUS\": 18.1, \"CHAS\": 0, \"NOX\": 0.7, \"RM\": 4.652, \"AGE\": 100.0, \"DIS\": 1.4672, \"RAD\": 24, \"TAX\": 666.0, \"PTRATIO\": 20.2, \"B\": 396.9, \"LSTAT\": 28.28, \"MEDV\": 10.5}, {\"CRIM\": 22.5971, \"ZN\": 0.0, \"INDUS\": 18.1, \"CHAS\": 0, \"NOX\": 0.7, \"RM\": 5.0, \"AGE\": 89.5, \"DIS\": 1.5184, \"RAD\": 24, \"TAX\": 666.0, \"PTRATIO\": 20.2, \"B\": 396.9, \"LSTAT\": 31.99, \"MEDV\": 7.4}, {\"CRIM\": 14.3337, \"ZN\": 0.0, \"INDUS\": 18.1, \"CHAS\": 0, \"NOX\": 0.7, \"RM\": 4.88, \"AGE\": 100.0, \"DIS\": 1.5895, \"RAD\": 24, \"TAX\": 666.0, \"PTRATIO\": 20.2, \"B\": 372.92, \"LSTAT\": 30.62, \"MEDV\": 10.2}, {\"CRIM\": 8.15174, \"ZN\": 0.0, \"INDUS\": 18.1, \"CHAS\": 0, \"NOX\": 0.7, \"RM\": 5.39, \"AGE\": 98.9, \"DIS\": 1.7281, \"RAD\": 24, \"TAX\": 666.0, \"PTRATIO\": 20.2, \"B\": 396.9, \"LSTAT\": 20.85, \"MEDV\": 11.5}, {\"CRIM\": 6.96215, \"ZN\": 0.0, \"INDUS\": 18.1, \"CHAS\": 0, \"NOX\": 0.7, \"RM\": 5.713, \"AGE\": 97.0, \"DIS\": 1.9265, \"RAD\": 24, \"TAX\": 666.0, \"PTRATIO\": 20.2, \"B\": 394.43, \"LSTAT\": 17.11, \"MEDV\": 15.1}, {\"CRIM\": 5.29305, \"ZN\": 0.0, \"INDUS\": 18.1, \"CHAS\": 0, \"NOX\": 0.7, \"RM\": 6.051, \"AGE\": 82.5, \"DIS\": 2.1678, \"RAD\": 24, \"TAX\": 666.0, \"PTRATIO\": 20.2, \"B\": 378.38, \"LSTAT\": 18.76, \"MEDV\": 23.2}, {\"CRIM\": 11.5779, \"ZN\": 0.0, \"INDUS\": 18.1, \"CHAS\": 0, \"NOX\": 0.7, \"RM\": 5.036, \"AGE\": 97.0, \"DIS\": 1.77, \"RAD\": 24, \"TAX\": 666.0, \"PTRATIO\": 20.2, \"B\": 396.9, \"LSTAT\": 25.68, \"MEDV\": 9.7}, {\"CRIM\": 8.64476, \"ZN\": 0.0, \"INDUS\": 18.1, \"CHAS\": 0, \"NOX\": 0.693, \"RM\": 6.193, \"AGE\": 92.6, \"DIS\": 1.7912, \"RAD\": 24, \"TAX\": 666.0, \"PTRATIO\": 20.2, \"B\": 396.9, \"LSTAT\": 15.17, \"MEDV\": 13.8}, {\"CRIM\": 13.3598, \"ZN\": 0.0, \"INDUS\": 18.1, \"CHAS\": 0, \"NOX\": 0.693, \"RM\": 5.887, \"AGE\": 94.7, \"DIS\": 1.7821, \"RAD\": 24, \"TAX\": 666.0, \"PTRATIO\": 20.2, \"B\": 396.9, \"LSTAT\": 16.35, \"MEDV\": 12.7}, {\"CRIM\": 8.71675, \"ZN\": 0.0, \"INDUS\": 18.1, \"CHAS\": 0, \"NOX\": 0.693, \"RM\": 6.471, \"AGE\": 98.8, \"DIS\": 1.7257, \"RAD\": 24, \"TAX\": 666.0, \"PTRATIO\": 20.2, \"B\": 391.98, \"LSTAT\": 17.12, \"MEDV\": 13.1}, {\"CRIM\": 5.87205, \"ZN\": 0.0, \"INDUS\": 18.1, \"CHAS\": 0, \"NOX\": 0.693, \"RM\": 6.405, \"AGE\": 96.0, \"DIS\": 1.6768, \"RAD\": 24, \"TAX\": 666.0, \"PTRATIO\": 20.2, \"B\": 396.9, \"LSTAT\": 19.37, \"MEDV\": 12.5}, {\"CRIM\": 7.67202, \"ZN\": 0.0, \"INDUS\": 18.1, \"CHAS\": 0, \"NOX\": 0.693, \"RM\": 5.747, \"AGE\": 98.9, \"DIS\": 1.6334, \"RAD\": 24, \"TAX\": 666.0, \"PTRATIO\": 20.2, \"B\": 393.1, \"LSTAT\": 19.92, \"MEDV\": 8.5}, {\"CRIM\": 38.3518, \"ZN\": 0.0, \"INDUS\": 18.1, \"CHAS\": 0, \"NOX\": 0.693, \"RM\": 5.453, \"AGE\": 100.0, \"DIS\": 1.4896, \"RAD\": 24, \"TAX\": 666.0, \"PTRATIO\": 20.2, \"B\": 396.9, \"LSTAT\": 30.59, \"MEDV\": 5.0}, {\"CRIM\": 9.91655, \"ZN\": 0.0, \"INDUS\": 18.1, \"CHAS\": 0, \"NOX\": 0.693, \"RM\": 5.852, \"AGE\": 77.8, \"DIS\": 1.5004, \"RAD\": 24, \"TAX\": 666.0, \"PTRATIO\": 20.2, \"B\": 338.16, \"LSTAT\": 29.97, \"MEDV\": 6.3}, {\"CRIM\": 25.0461, \"ZN\": 0.0, \"INDUS\": 18.1, \"CHAS\": 0, \"NOX\": 0.693, \"RM\": 5.987, \"AGE\": 100.0, \"DIS\": 1.5888, \"RAD\": 24, \"TAX\": 666.0, \"PTRATIO\": 20.2, \"B\": 396.9, \"LSTAT\": 26.77, \"MEDV\": 5.6}, {\"CRIM\": 14.2362, \"ZN\": 0.0, \"INDUS\": 18.1, \"CHAS\": 0, \"NOX\": 0.693, \"RM\": 6.343, \"AGE\": 100.0, \"DIS\": 1.5741, \"RAD\": 24, \"TAX\": 666.0, \"PTRATIO\": 20.2, \"B\": 396.9, \"LSTAT\": 20.32, \"MEDV\": 7.2}, {\"CRIM\": 9.59571, \"ZN\": 0.0, \"INDUS\": 18.1, \"CHAS\": 0, \"NOX\": 0.693, \"RM\": 6.404, \"AGE\": 100.0, \"DIS\": 1.639, \"RAD\": 24, \"TAX\": 666.0, \"PTRATIO\": 20.2, \"B\": 376.11, \"LSTAT\": 20.31, \"MEDV\": 12.1}, {\"CRIM\": 24.8017, \"ZN\": 0.0, \"INDUS\": 18.1, \"CHAS\": 0, \"NOX\": 0.693, \"RM\": 5.349, \"AGE\": 96.0, \"DIS\": 1.7028, \"RAD\": 24, \"TAX\": 666.0, \"PTRATIO\": 20.2, \"B\": 396.9, \"LSTAT\": 19.77, \"MEDV\": 8.3}, {\"CRIM\": 41.5292, \"ZN\": 0.0, \"INDUS\": 18.1, \"CHAS\": 0, \"NOX\": 0.693, \"RM\": 5.531, \"AGE\": 85.4, \"DIS\": 1.6074, \"RAD\": 24, \"TAX\": 666.0, \"PTRATIO\": 20.2, \"B\": 329.46, \"LSTAT\": 27.38, \"MEDV\": 8.5}, {\"CRIM\": 67.9208, \"ZN\": 0.0, \"INDUS\": 18.1, \"CHAS\": 0, \"NOX\": 0.693, \"RM\": 5.683, \"AGE\": 100.0, \"DIS\": 1.4254, \"RAD\": 24, \"TAX\": 666.0, \"PTRATIO\": 20.2, \"B\": 384.97, \"LSTAT\": 22.98, \"MEDV\": 5.0}, {\"CRIM\": 20.7162, \"ZN\": 0.0, \"INDUS\": 18.1, \"CHAS\": 0, \"NOX\": 0.659, \"RM\": 4.138, \"AGE\": 100.0, \"DIS\": 1.1781, \"RAD\": 24, \"TAX\": 666.0, \"PTRATIO\": 20.2, \"B\": 370.22, \"LSTAT\": 23.34, \"MEDV\": 11.9}, {\"CRIM\": 11.9511, \"ZN\": 0.0, \"INDUS\": 18.1, \"CHAS\": 0, \"NOX\": 0.659, \"RM\": 5.608, \"AGE\": 100.0, \"DIS\": 1.2852, \"RAD\": 24, \"TAX\": 666.0, \"PTRATIO\": 20.2, \"B\": 332.09, \"LSTAT\": 12.13, \"MEDV\": 27.9}, {\"CRIM\": 7.40389, \"ZN\": 0.0, \"INDUS\": 18.1, \"CHAS\": 0, \"NOX\": 0.597, \"RM\": 5.617, \"AGE\": 97.9, \"DIS\": 1.4547, \"RAD\": 24, \"TAX\": 666.0, \"PTRATIO\": 20.2, \"B\": 314.64, \"LSTAT\": 26.4, \"MEDV\": 17.2}, {\"CRIM\": 14.4383, \"ZN\": 0.0, \"INDUS\": 18.1, \"CHAS\": 0, \"NOX\": 0.597, \"RM\": 6.852, \"AGE\": 100.0, \"DIS\": 1.4655, \"RAD\": 24, \"TAX\": 666.0, \"PTRATIO\": 20.2, \"B\": 179.36, \"LSTAT\": 19.78, \"MEDV\": 27.5}, {\"CRIM\": 51.1358, \"ZN\": 0.0, \"INDUS\": 18.1, \"CHAS\": 0, \"NOX\": 0.597, \"RM\": 5.757, \"AGE\": 100.0, \"DIS\": 1.413, \"RAD\": 24, \"TAX\": 666.0, \"PTRATIO\": 20.2, \"B\": 2.6, \"LSTAT\": 10.11, \"MEDV\": 15.0}, {\"CRIM\": 14.0507, \"ZN\": 0.0, \"INDUS\": 18.1, \"CHAS\": 0, \"NOX\": 0.597, \"RM\": 6.657, \"AGE\": 100.0, \"DIS\": 1.5275, \"RAD\": 24, \"TAX\": 666.0, \"PTRATIO\": 20.2, \"B\": 35.05, \"LSTAT\": 21.22, \"MEDV\": 17.2}, {\"CRIM\": 18.811, \"ZN\": 0.0, \"INDUS\": 18.1, \"CHAS\": 0, \"NOX\": 0.597, \"RM\": 4.628, \"AGE\": 100.0, \"DIS\": 1.5539, \"RAD\": 24, \"TAX\": 666.0, \"PTRATIO\": 20.2, \"B\": 28.79, \"LSTAT\": 34.37, \"MEDV\": 17.9}, {\"CRIM\": 28.6558, \"ZN\": 0.0, \"INDUS\": 18.1, \"CHAS\": 0, \"NOX\": 0.597, \"RM\": 5.155, \"AGE\": 100.0, \"DIS\": 1.5894, \"RAD\": 24, \"TAX\": 666.0, \"PTRATIO\": 20.2, \"B\": 210.97, \"LSTAT\": 20.08, \"MEDV\": 16.3}, {\"CRIM\": 45.7461, \"ZN\": 0.0, \"INDUS\": 18.1, \"CHAS\": 0, \"NOX\": 0.693, \"RM\": 4.519, \"AGE\": 100.0, \"DIS\": 1.6582, \"RAD\": 24, \"TAX\": 666.0, \"PTRATIO\": 20.2, \"B\": 88.27, \"LSTAT\": 36.98, \"MEDV\": 7.0}, {\"CRIM\": 18.0846, \"ZN\": 0.0, \"INDUS\": 18.1, \"CHAS\": 0, \"NOX\": 0.679, \"RM\": 6.434, \"AGE\": 100.0, \"DIS\": 1.8347, \"RAD\": 24, \"TAX\": 666.0, \"PTRATIO\": 20.2, \"B\": 27.25, \"LSTAT\": 29.05, \"MEDV\": 7.2}, {\"CRIM\": 10.8342, \"ZN\": 0.0, \"INDUS\": 18.1, \"CHAS\": 0, \"NOX\": 0.679, \"RM\": 6.782, \"AGE\": 90.8, \"DIS\": 1.8195, \"RAD\": 24, \"TAX\": 666.0, \"PTRATIO\": 20.2, \"B\": 21.57, \"LSTAT\": 25.79, \"MEDV\": 7.5}, {\"CRIM\": 25.9406, \"ZN\": 0.0, \"INDUS\": 18.1, \"CHAS\": 0, \"NOX\": 0.679, \"RM\": 5.304, \"AGE\": 89.1, \"DIS\": 1.6475, \"RAD\": 24, \"TAX\": 666.0, \"PTRATIO\": 20.2, \"B\": 127.36, \"LSTAT\": 26.64, \"MEDV\": 10.4}, {\"CRIM\": 73.5341, \"ZN\": 0.0, \"INDUS\": 18.1, \"CHAS\": 0, \"NOX\": 0.679, \"RM\": 5.957, \"AGE\": 100.0, \"DIS\": 1.8026, \"RAD\": 24, \"TAX\": 666.0, \"PTRATIO\": 20.2, \"B\": 16.45, \"LSTAT\": 20.62, \"MEDV\": 8.8}, {\"CRIM\": 11.8123, \"ZN\": 0.0, \"INDUS\": 18.1, \"CHAS\": 0, \"NOX\": 0.718, \"RM\": 6.824, \"AGE\": 76.5, \"DIS\": 1.794, \"RAD\": 24, \"TAX\": 666.0, \"PTRATIO\": 20.2, \"B\": 48.45, \"LSTAT\": 22.74, \"MEDV\": 8.4}, {\"CRIM\": 11.0874, \"ZN\": 0.0, \"INDUS\": 18.1, \"CHAS\": 0, \"NOX\": 0.718, \"RM\": 6.411, \"AGE\": 100.0, \"DIS\": 1.8589, \"RAD\": 24, \"TAX\": 666.0, \"PTRATIO\": 20.2, \"B\": 318.75, \"LSTAT\": 15.02, \"MEDV\": 16.7}, {\"CRIM\": 7.022589999999999, \"ZN\": 0.0, \"INDUS\": 18.1, \"CHAS\": 0, \"NOX\": 0.718, \"RM\": 6.006, \"AGE\": 95.3, \"DIS\": 1.8746, \"RAD\": 24, \"TAX\": 666.0, \"PTRATIO\": 20.2, \"B\": 319.98, \"LSTAT\": 15.7, \"MEDV\": 14.2}, {\"CRIM\": 12.0482, \"ZN\": 0.0, \"INDUS\": 18.1, \"CHAS\": 0, \"NOX\": 0.614, \"RM\": 5.648, \"AGE\": 87.6, \"DIS\": 1.9512, \"RAD\": 24, \"TAX\": 666.0, \"PTRATIO\": 20.2, \"B\": 291.55, \"LSTAT\": 14.1, \"MEDV\": 20.8}, {\"CRIM\": 7.05042, \"ZN\": 0.0, \"INDUS\": 18.1, \"CHAS\": 0, \"NOX\": 0.614, \"RM\": 6.103, \"AGE\": 85.1, \"DIS\": 2.0218, \"RAD\": 24, \"TAX\": 666.0, \"PTRATIO\": 20.2, \"B\": 2.52, \"LSTAT\": 23.29, \"MEDV\": 13.4}, {\"CRIM\": 8.792119999999999, \"ZN\": 0.0, \"INDUS\": 18.1, \"CHAS\": 0, \"NOX\": 0.584, \"RM\": 5.565, \"AGE\": 70.6, \"DIS\": 2.0635, \"RAD\": 24, \"TAX\": 666.0, \"PTRATIO\": 20.2, \"B\": 3.65, \"LSTAT\": 17.16, \"MEDV\": 11.7}, {\"CRIM\": 15.8603, \"ZN\": 0.0, \"INDUS\": 18.1, \"CHAS\": 0, \"NOX\": 0.679, \"RM\": 5.896, \"AGE\": 95.4, \"DIS\": 1.9096, \"RAD\": 24, \"TAX\": 666.0, \"PTRATIO\": 20.2, \"B\": 7.68, \"LSTAT\": 24.39, \"MEDV\": 8.3}, {\"CRIM\": 12.2472, \"ZN\": 0.0, \"INDUS\": 18.1, \"CHAS\": 0, \"NOX\": 0.584, \"RM\": 5.837, \"AGE\": 59.7, \"DIS\": 1.9976, \"RAD\": 24, \"TAX\": 666.0, \"PTRATIO\": 20.2, \"B\": 24.65, \"LSTAT\": 15.69, \"MEDV\": 10.2}, {\"CRIM\": 37.6619, \"ZN\": 0.0, \"INDUS\": 18.1, \"CHAS\": 0, \"NOX\": 0.679, \"RM\": 6.202, \"AGE\": 78.7, \"DIS\": 1.8629, \"RAD\": 24, \"TAX\": 666.0, \"PTRATIO\": 20.2, \"B\": 18.82, \"LSTAT\": 14.52, \"MEDV\": 10.9}, {\"CRIM\": 7.36711, \"ZN\": 0.0, \"INDUS\": 18.1, \"CHAS\": 0, \"NOX\": 0.679, \"RM\": 6.193, \"AGE\": 78.1, \"DIS\": 1.9356, \"RAD\": 24, \"TAX\": 666.0, \"PTRATIO\": 20.2, \"B\": 96.73, \"LSTAT\": 21.52, \"MEDV\": 11.0}, {\"CRIM\": 9.33889, \"ZN\": 0.0, \"INDUS\": 18.1, \"CHAS\": 0, \"NOX\": 0.679, \"RM\": 6.38, \"AGE\": 95.6, \"DIS\": 1.9682, \"RAD\": 24, \"TAX\": 666.0, \"PTRATIO\": 20.2, \"B\": 60.72, \"LSTAT\": 24.08, \"MEDV\": 9.5}, {\"CRIM\": 8.49213, \"ZN\": 0.0, \"INDUS\": 18.1, \"CHAS\": 0, \"NOX\": 0.584, \"RM\": 6.348, \"AGE\": 86.1, \"DIS\": 2.0527, \"RAD\": 24, \"TAX\": 666.0, \"PTRATIO\": 20.2, \"B\": 83.45, \"LSTAT\": 17.64, \"MEDV\": 14.5}, {\"CRIM\": 10.0623, \"ZN\": 0.0, \"INDUS\": 18.1, \"CHAS\": 0, \"NOX\": 0.584, \"RM\": 6.833, \"AGE\": 94.3, \"DIS\": 2.0882, \"RAD\": 24, \"TAX\": 666.0, \"PTRATIO\": 20.2, \"B\": 81.33, \"LSTAT\": 19.69, \"MEDV\": 14.1}, {\"CRIM\": 6.44405, \"ZN\": 0.0, \"INDUS\": 18.1, \"CHAS\": 0, \"NOX\": 0.584, \"RM\": 6.425, \"AGE\": 74.8, \"DIS\": 2.2004, \"RAD\": 24, \"TAX\": 666.0, \"PTRATIO\": 20.2, \"B\": 97.95, \"LSTAT\": 12.03, \"MEDV\": 16.1}, {\"CRIM\": 5.5810699999999995, \"ZN\": 0.0, \"INDUS\": 18.1, \"CHAS\": 0, \"NOX\": 0.713, \"RM\": 6.436, \"AGE\": 87.9, \"DIS\": 2.3158, \"RAD\": 24, \"TAX\": 666.0, \"PTRATIO\": 20.2, \"B\": 100.19, \"LSTAT\": 16.22, \"MEDV\": 14.3}, {\"CRIM\": 13.9134, \"ZN\": 0.0, \"INDUS\": 18.1, \"CHAS\": 0, \"NOX\": 0.713, \"RM\": 6.208, \"AGE\": 95.0, \"DIS\": 2.2222, \"RAD\": 24, \"TAX\": 666.0, \"PTRATIO\": 20.2, \"B\": 100.63, \"LSTAT\": 15.17, \"MEDV\": 11.7}, {\"CRIM\": 11.1604, \"ZN\": 0.0, \"INDUS\": 18.1, \"CHAS\": 0, \"NOX\": 0.74, \"RM\": 6.629, \"AGE\": 94.6, \"DIS\": 2.1247, \"RAD\": 24, \"TAX\": 666.0, \"PTRATIO\": 20.2, \"B\": 109.85, \"LSTAT\": 23.27, \"MEDV\": 13.4}, {\"CRIM\": 14.4208, \"ZN\": 0.0, \"INDUS\": 18.1, \"CHAS\": 0, \"NOX\": 0.74, \"RM\": 6.461, \"AGE\": 93.3, \"DIS\": 2.0026, \"RAD\": 24, \"TAX\": 666.0, \"PTRATIO\": 20.2, \"B\": 27.49, \"LSTAT\": 18.05, \"MEDV\": 9.6}, {\"CRIM\": 15.1772, \"ZN\": 0.0, \"INDUS\": 18.1, \"CHAS\": 0, \"NOX\": 0.74, \"RM\": 6.152, \"AGE\": 100.0, \"DIS\": 1.9142, \"RAD\": 24, \"TAX\": 666.0, \"PTRATIO\": 20.2, \"B\": 9.32, \"LSTAT\": 26.45, \"MEDV\": 8.7}, {\"CRIM\": 13.6781, \"ZN\": 0.0, \"INDUS\": 18.1, \"CHAS\": 0, \"NOX\": 0.74, \"RM\": 5.935, \"AGE\": 87.9, \"DIS\": 1.8206, \"RAD\": 24, \"TAX\": 666.0, \"PTRATIO\": 20.2, \"B\": 68.95, \"LSTAT\": 34.02, \"MEDV\": 8.4}, {\"CRIM\": 9.39063, \"ZN\": 0.0, \"INDUS\": 18.1, \"CHAS\": 0, \"NOX\": 0.74, \"RM\": 5.627, \"AGE\": 93.9, \"DIS\": 1.8172, \"RAD\": 24, \"TAX\": 666.0, \"PTRATIO\": 20.2, \"B\": 396.9, \"LSTAT\": 22.88, \"MEDV\": 12.8}, {\"CRIM\": 22.0511, \"ZN\": 0.0, \"INDUS\": 18.1, \"CHAS\": 0, \"NOX\": 0.74, \"RM\": 5.818, \"AGE\": 92.4, \"DIS\": 1.8662, \"RAD\": 24, \"TAX\": 666.0, \"PTRATIO\": 20.2, \"B\": 391.45, \"LSTAT\": 22.11, \"MEDV\": 10.5}, {\"CRIM\": 9.72418, \"ZN\": 0.0, \"INDUS\": 18.1, \"CHAS\": 0, \"NOX\": 0.74, \"RM\": 6.406, \"AGE\": 97.2, \"DIS\": 2.0651, \"RAD\": 24, \"TAX\": 666.0, \"PTRATIO\": 20.2, \"B\": 385.96, \"LSTAT\": 19.52, \"MEDV\": 17.1}, {\"CRIM\": 5.66637, \"ZN\": 0.0, \"INDUS\": 18.1, \"CHAS\": 0, \"NOX\": 0.74, \"RM\": 6.219, \"AGE\": 100.0, \"DIS\": 2.0048, \"RAD\": 24, \"TAX\": 666.0, \"PTRATIO\": 20.2, \"B\": 395.69, \"LSTAT\": 16.59, \"MEDV\": 18.4}, {\"CRIM\": 9.96654, \"ZN\": 0.0, \"INDUS\": 18.1, \"CHAS\": 0, \"NOX\": 0.74, \"RM\": 6.485, \"AGE\": 100.0, \"DIS\": 1.9784, \"RAD\": 24, \"TAX\": 666.0, \"PTRATIO\": 20.2, \"B\": 386.73, \"LSTAT\": 18.85, \"MEDV\": 15.4}, {\"CRIM\": 12.8023, \"ZN\": 0.0, \"INDUS\": 18.1, \"CHAS\": 0, \"NOX\": 0.74, \"RM\": 5.854, \"AGE\": 96.6, \"DIS\": 1.8956, \"RAD\": 24, \"TAX\": 666.0, \"PTRATIO\": 20.2, \"B\": 240.52, \"LSTAT\": 23.79, \"MEDV\": 10.8}, {\"CRIM\": 10.6718, \"ZN\": 0.0, \"INDUS\": 18.1, \"CHAS\": 0, \"NOX\": 0.74, \"RM\": 6.459, \"AGE\": 94.8, \"DIS\": 1.9879, \"RAD\": 24, \"TAX\": 666.0, \"PTRATIO\": 20.2, \"B\": 43.06, \"LSTAT\": 23.98, \"MEDV\": 11.8}, {\"CRIM\": 6.288069999999999, \"ZN\": 0.0, \"INDUS\": 18.1, \"CHAS\": 0, \"NOX\": 0.74, \"RM\": 6.341, \"AGE\": 96.4, \"DIS\": 2.072, \"RAD\": 24, \"TAX\": 666.0, \"PTRATIO\": 20.2, \"B\": 318.01, \"LSTAT\": 17.79, \"MEDV\": 14.9}, {\"CRIM\": 9.92485, \"ZN\": 0.0, \"INDUS\": 18.1, \"CHAS\": 0, \"NOX\": 0.74, \"RM\": 6.251, \"AGE\": 96.6, \"DIS\": 2.198, \"RAD\": 24, \"TAX\": 666.0, \"PTRATIO\": 20.2, \"B\": 388.52, \"LSTAT\": 16.44, \"MEDV\": 12.6}, {\"CRIM\": 9.329089999999999, \"ZN\": 0.0, \"INDUS\": 18.1, \"CHAS\": 0, \"NOX\": 0.713, \"RM\": 6.185, \"AGE\": 98.7, \"DIS\": 2.2616, \"RAD\": 24, \"TAX\": 666.0, \"PTRATIO\": 20.2, \"B\": 396.9, \"LSTAT\": 18.13, \"MEDV\": 14.1}, {\"CRIM\": 7.52601, \"ZN\": 0.0, \"INDUS\": 18.1, \"CHAS\": 0, \"NOX\": 0.713, \"RM\": 6.417, \"AGE\": 98.3, \"DIS\": 2.185, \"RAD\": 24, \"TAX\": 666.0, \"PTRATIO\": 20.2, \"B\": 304.21, \"LSTAT\": 19.31, \"MEDV\": 13.0}, {\"CRIM\": 6.71772, \"ZN\": 0.0, \"INDUS\": 18.1, \"CHAS\": 0, \"NOX\": 0.713, \"RM\": 6.749, \"AGE\": 92.6, \"DIS\": 2.3236, \"RAD\": 24, \"TAX\": 666.0, \"PTRATIO\": 20.2, \"B\": 0.32, \"LSTAT\": 17.44, \"MEDV\": 13.4}, {\"CRIM\": 5.44114, \"ZN\": 0.0, \"INDUS\": 18.1, \"CHAS\": 0, \"NOX\": 0.713, \"RM\": 6.655, \"AGE\": 98.2, \"DIS\": 2.3552, \"RAD\": 24, \"TAX\": 666.0, \"PTRATIO\": 20.2, \"B\": 355.29, \"LSTAT\": 17.73, \"MEDV\": 15.2}, {\"CRIM\": 5.09017, \"ZN\": 0.0, \"INDUS\": 18.1, \"CHAS\": 0, \"NOX\": 0.713, \"RM\": 6.297, \"AGE\": 91.8, \"DIS\": 2.3682, \"RAD\": 24, \"TAX\": 666.0, \"PTRATIO\": 20.2, \"B\": 385.09, \"LSTAT\": 17.27, \"MEDV\": 16.1}, {\"CRIM\": 8.24809, \"ZN\": 0.0, \"INDUS\": 18.1, \"CHAS\": 0, \"NOX\": 0.713, \"RM\": 7.393, \"AGE\": 99.3, \"DIS\": 2.4527, \"RAD\": 24, \"TAX\": 666.0, \"PTRATIO\": 20.2, \"B\": 375.87, \"LSTAT\": 16.74, \"MEDV\": 17.8}, {\"CRIM\": 9.513630000000001, \"ZN\": 0.0, \"INDUS\": 18.1, \"CHAS\": 0, \"NOX\": 0.713, \"RM\": 6.728, \"AGE\": 94.1, \"DIS\": 2.4961, \"RAD\": 24, \"TAX\": 666.0, \"PTRATIO\": 20.2, \"B\": 6.68, \"LSTAT\": 18.71, \"MEDV\": 14.9}, {\"CRIM\": 4.75237, \"ZN\": 0.0, \"INDUS\": 18.1, \"CHAS\": 0, \"NOX\": 0.713, \"RM\": 6.525, \"AGE\": 86.5, \"DIS\": 2.4358, \"RAD\": 24, \"TAX\": 666.0, \"PTRATIO\": 20.2, \"B\": 50.92, \"LSTAT\": 18.13, \"MEDV\": 14.1}, {\"CRIM\": 4.668830000000001, \"ZN\": 0.0, \"INDUS\": 18.1, \"CHAS\": 0, \"NOX\": 0.713, \"RM\": 5.976, \"AGE\": 87.9, \"DIS\": 2.5806, \"RAD\": 24, \"TAX\": 666.0, \"PTRATIO\": 20.2, \"B\": 10.48, \"LSTAT\": 19.01, \"MEDV\": 12.7}, {\"CRIM\": 8.20058, \"ZN\": 0.0, \"INDUS\": 18.1, \"CHAS\": 0, \"NOX\": 0.713, \"RM\": 5.936, \"AGE\": 80.3, \"DIS\": 2.7792, \"RAD\": 24, \"TAX\": 666.0, \"PTRATIO\": 20.2, \"B\": 3.5, \"LSTAT\": 16.94, \"MEDV\": 13.5}, {\"CRIM\": 7.75223, \"ZN\": 0.0, \"INDUS\": 18.1, \"CHAS\": 0, \"NOX\": 0.713, \"RM\": 6.301, \"AGE\": 83.7, \"DIS\": 2.7831, \"RAD\": 24, \"TAX\": 666.0, \"PTRATIO\": 20.2, \"B\": 272.21, \"LSTAT\": 16.23, \"MEDV\": 14.9}, {\"CRIM\": 6.80117, \"ZN\": 0.0, \"INDUS\": 18.1, \"CHAS\": 0, \"NOX\": 0.713, \"RM\": 6.081, \"AGE\": 84.4, \"DIS\": 2.7175, \"RAD\": 24, \"TAX\": 666.0, \"PTRATIO\": 20.2, \"B\": 396.9, \"LSTAT\": 14.7, \"MEDV\": 20.0}, {\"CRIM\": 4.812130000000001, \"ZN\": 0.0, \"INDUS\": 18.1, \"CHAS\": 0, \"NOX\": 0.713, \"RM\": 6.701, \"AGE\": 90.0, \"DIS\": 2.5975, \"RAD\": 24, \"TAX\": 666.0, \"PTRATIO\": 20.2, \"B\": 255.23, \"LSTAT\": 16.42, \"MEDV\": 16.4}, {\"CRIM\": 3.69311, \"ZN\": 0.0, \"INDUS\": 18.1, \"CHAS\": 0, \"NOX\": 0.713, \"RM\": 6.376, \"AGE\": 88.4, \"DIS\": 2.5671, \"RAD\": 24, \"TAX\": 666.0, \"PTRATIO\": 20.2, \"B\": 391.43, \"LSTAT\": 14.65, \"MEDV\": 17.7}, {\"CRIM\": 6.65492, \"ZN\": 0.0, \"INDUS\": 18.1, \"CHAS\": 0, \"NOX\": 0.713, \"RM\": 6.317, \"AGE\": 83.0, \"DIS\": 2.7344, \"RAD\": 24, \"TAX\": 666.0, \"PTRATIO\": 20.2, \"B\": 396.9, \"LSTAT\": 13.99, \"MEDV\": 19.5}, {\"CRIM\": 5.82115, \"ZN\": 0.0, \"INDUS\": 18.1, \"CHAS\": 0, \"NOX\": 0.713, \"RM\": 6.513, \"AGE\": 89.9, \"DIS\": 2.8016, \"RAD\": 24, \"TAX\": 666.0, \"PTRATIO\": 20.2, \"B\": 393.82, \"LSTAT\": 10.29, \"MEDV\": 20.2}, {\"CRIM\": 7.83932, \"ZN\": 0.0, \"INDUS\": 18.1, \"CHAS\": 0, \"NOX\": 0.655, \"RM\": 6.209, \"AGE\": 65.4, \"DIS\": 2.9634, \"RAD\": 24, \"TAX\": 666.0, \"PTRATIO\": 20.2, \"B\": 396.9, \"LSTAT\": 13.22, \"MEDV\": 21.4}, {\"CRIM\": 3.1636, \"ZN\": 0.0, \"INDUS\": 18.1, \"CHAS\": 0, \"NOX\": 0.655, \"RM\": 5.759, \"AGE\": 48.2, \"DIS\": 3.0665, \"RAD\": 24, \"TAX\": 666.0, \"PTRATIO\": 20.2, \"B\": 334.4, \"LSTAT\": 14.13, \"MEDV\": 19.9}, {\"CRIM\": 3.7749800000000002, \"ZN\": 0.0, \"INDUS\": 18.1, \"CHAS\": 0, \"NOX\": 0.655, \"RM\": 5.952, \"AGE\": 84.7, \"DIS\": 2.8715, \"RAD\": 24, \"TAX\": 666.0, \"PTRATIO\": 20.2, \"B\": 22.01, \"LSTAT\": 17.15, \"MEDV\": 19.0}, {\"CRIM\": 4.422280000000001, \"ZN\": 0.0, \"INDUS\": 18.1, \"CHAS\": 0, \"NOX\": 0.584, \"RM\": 6.003, \"AGE\": 94.5, \"DIS\": 2.5403, \"RAD\": 24, \"TAX\": 666.0, \"PTRATIO\": 20.2, \"B\": 331.29, \"LSTAT\": 21.32, \"MEDV\": 19.1}, {\"CRIM\": 15.5757, \"ZN\": 0.0, \"INDUS\": 18.1, \"CHAS\": 0, \"NOX\": 0.58, \"RM\": 5.926, \"AGE\": 71.0, \"DIS\": 2.9084, \"RAD\": 24, \"TAX\": 666.0, \"PTRATIO\": 20.2, \"B\": 368.74, \"LSTAT\": 18.13, \"MEDV\": 19.1}, {\"CRIM\": 13.0751, \"ZN\": 0.0, \"INDUS\": 18.1, \"CHAS\": 0, \"NOX\": 0.58, \"RM\": 5.713, \"AGE\": 56.7, \"DIS\": 2.8237, \"RAD\": 24, \"TAX\": 666.0, \"PTRATIO\": 20.2, \"B\": 396.9, \"LSTAT\": 14.76, \"MEDV\": 20.1}, {\"CRIM\": 4.34879, \"ZN\": 0.0, \"INDUS\": 18.1, \"CHAS\": 0, \"NOX\": 0.58, \"RM\": 6.167, \"AGE\": 84.0, \"DIS\": 3.0334, \"RAD\": 24, \"TAX\": 666.0, \"PTRATIO\": 20.2, \"B\": 396.9, \"LSTAT\": 16.29, \"MEDV\": 19.9}, {\"CRIM\": 4.03841, \"ZN\": 0.0, \"INDUS\": 18.1, \"CHAS\": 0, \"NOX\": 0.532, \"RM\": 6.229, \"AGE\": 90.7, \"DIS\": 3.0993, \"RAD\": 24, \"TAX\": 666.0, \"PTRATIO\": 20.2, \"B\": 395.33, \"LSTAT\": 12.87, \"MEDV\": 19.6}, {\"CRIM\": 3.56868, \"ZN\": 0.0, \"INDUS\": 18.1, \"CHAS\": 0, \"NOX\": 0.58, \"RM\": 6.437, \"AGE\": 75.0, \"DIS\": 2.8965, \"RAD\": 24, \"TAX\": 666.0, \"PTRATIO\": 20.2, \"B\": 393.37, \"LSTAT\": 14.36, \"MEDV\": 23.2}, {\"CRIM\": 4.64689, \"ZN\": 0.0, \"INDUS\": 18.1, \"CHAS\": 0, \"NOX\": 0.614, \"RM\": 6.98, \"AGE\": 67.6, \"DIS\": 2.5329, \"RAD\": 24, \"TAX\": 666.0, \"PTRATIO\": 20.2, \"B\": 374.68, \"LSTAT\": 11.66, \"MEDV\": 29.8}, {\"CRIM\": 8.05579, \"ZN\": 0.0, \"INDUS\": 18.1, \"CHAS\": 0, \"NOX\": 0.584, \"RM\": 5.427, \"AGE\": 95.4, \"DIS\": 2.4298, \"RAD\": 24, \"TAX\": 666.0, \"PTRATIO\": 20.2, \"B\": 352.58, \"LSTAT\": 18.14, \"MEDV\": 13.8}, {\"CRIM\": 6.39312, \"ZN\": 0.0, \"INDUS\": 18.1, \"CHAS\": 0, \"NOX\": 0.584, \"RM\": 6.162, \"AGE\": 97.4, \"DIS\": 2.206, \"RAD\": 24, \"TAX\": 666.0, \"PTRATIO\": 20.2, \"B\": 302.76, \"LSTAT\": 24.1, \"MEDV\": 13.3}, {\"CRIM\": 4.87141, \"ZN\": 0.0, \"INDUS\": 18.1, \"CHAS\": 0, \"NOX\": 0.614, \"RM\": 6.484, \"AGE\": 93.6, \"DIS\": 2.3053, \"RAD\": 24, \"TAX\": 666.0, \"PTRATIO\": 20.2, \"B\": 396.21, \"LSTAT\": 18.68, \"MEDV\": 16.7}, {\"CRIM\": 15.0234, \"ZN\": 0.0, \"INDUS\": 18.1, \"CHAS\": 0, \"NOX\": 0.614, \"RM\": 5.304, \"AGE\": 97.3, \"DIS\": 2.1007, \"RAD\": 24, \"TAX\": 666.0, \"PTRATIO\": 20.2, \"B\": 349.48, \"LSTAT\": 24.91, \"MEDV\": 12.0}, {\"CRIM\": 10.233, \"ZN\": 0.0, \"INDUS\": 18.1, \"CHAS\": 0, \"NOX\": 0.614, \"RM\": 6.185, \"AGE\": 96.7, \"DIS\": 2.1705, \"RAD\": 24, \"TAX\": 666.0, \"PTRATIO\": 20.2, \"B\": 379.7, \"LSTAT\": 18.03, \"MEDV\": 14.6}, {\"CRIM\": 14.3337, \"ZN\": 0.0, \"INDUS\": 18.1, \"CHAS\": 0, \"NOX\": 0.614, \"RM\": 6.229, \"AGE\": 88.0, \"DIS\": 1.9512, \"RAD\": 24, \"TAX\": 666.0, \"PTRATIO\": 20.2, \"B\": 383.32, \"LSTAT\": 13.11, \"MEDV\": 21.4}, {\"CRIM\": 5.8240099999999995, \"ZN\": 0.0, \"INDUS\": 18.1, \"CHAS\": 0, \"NOX\": 0.532, \"RM\": 6.242, \"AGE\": 64.7, \"DIS\": 3.4242, \"RAD\": 24, \"TAX\": 666.0, \"PTRATIO\": 20.2, \"B\": 396.9, \"LSTAT\": 10.74, \"MEDV\": 23.0}, {\"CRIM\": 5.7081800000000005, \"ZN\": 0.0, \"INDUS\": 18.1, \"CHAS\": 0, \"NOX\": 0.532, \"RM\": 6.75, \"AGE\": 74.9, \"DIS\": 3.3317, \"RAD\": 24, \"TAX\": 666.0, \"PTRATIO\": 20.2, \"B\": 393.07, \"LSTAT\": 7.74, \"MEDV\": 23.7}, {\"CRIM\": 5.73116, \"ZN\": 0.0, \"INDUS\": 18.1, \"CHAS\": 0, \"NOX\": 0.532, \"RM\": 7.061, \"AGE\": 77.0, \"DIS\": 3.4106, \"RAD\": 24, \"TAX\": 666.0, \"PTRATIO\": 20.2, \"B\": 395.28, \"LSTAT\": 7.01, \"MEDV\": 25.0}, {\"CRIM\": 2.81838, \"ZN\": 0.0, \"INDUS\": 18.1, \"CHAS\": 0, \"NOX\": 0.532, \"RM\": 5.762, \"AGE\": 40.3, \"DIS\": 4.0983, \"RAD\": 24, \"TAX\": 666.0, \"PTRATIO\": 20.2, \"B\": 392.92, \"LSTAT\": 10.42, \"MEDV\": 21.8}, {\"CRIM\": 2.37857, \"ZN\": 0.0, \"INDUS\": 18.1, \"CHAS\": 0, \"NOX\": 0.583, \"RM\": 5.871, \"AGE\": 41.9, \"DIS\": 3.724, \"RAD\": 24, \"TAX\": 666.0, \"PTRATIO\": 20.2, \"B\": 370.73, \"LSTAT\": 13.34, \"MEDV\": 20.6}, {\"CRIM\": 3.6736699999999995, \"ZN\": 0.0, \"INDUS\": 18.1, \"CHAS\": 0, \"NOX\": 0.583, \"RM\": 6.312, \"AGE\": 51.9, \"DIS\": 3.9917, \"RAD\": 24, \"TAX\": 666.0, \"PTRATIO\": 20.2, \"B\": 388.62, \"LSTAT\": 10.58, \"MEDV\": 21.2}, {\"CRIM\": 5.69175, \"ZN\": 0.0, \"INDUS\": 18.1, \"CHAS\": 0, \"NOX\": 0.583, \"RM\": 6.114, \"AGE\": 79.8, \"DIS\": 3.5459, \"RAD\": 24, \"TAX\": 666.0, \"PTRATIO\": 20.2, \"B\": 392.68, \"LSTAT\": 14.98, \"MEDV\": 19.1}, {\"CRIM\": 4.8356699999999995, \"ZN\": 0.0, \"INDUS\": 18.1, \"CHAS\": 0, \"NOX\": 0.583, \"RM\": 5.905, \"AGE\": 53.2, \"DIS\": 3.1523, \"RAD\": 24, \"TAX\": 666.0, \"PTRATIO\": 20.2, \"B\": 388.22, \"LSTAT\": 11.45, \"MEDV\": 20.6}, {\"CRIM\": 0.15086, \"ZN\": 0.0, \"INDUS\": 27.74, \"CHAS\": 0, \"NOX\": 0.609, \"RM\": 5.454, \"AGE\": 92.7, \"DIS\": 1.8209, \"RAD\": 4, \"TAX\": 711.0, \"PTRATIO\": 20.1, \"B\": 395.09, \"LSTAT\": 18.06, \"MEDV\": 15.2}, {\"CRIM\": 0.18337, \"ZN\": 0.0, \"INDUS\": 27.74, \"CHAS\": 0, \"NOX\": 0.609, \"RM\": 5.414, \"AGE\": 98.3, \"DIS\": 1.7554, \"RAD\": 4, \"TAX\": 711.0, \"PTRATIO\": 20.1, \"B\": 344.05, \"LSTAT\": 23.97, \"MEDV\": 7.0}, {\"CRIM\": 0.20745999999999998, \"ZN\": 0.0, \"INDUS\": 27.74, \"CHAS\": 0, \"NOX\": 0.609, \"RM\": 5.093, \"AGE\": 98.0, \"DIS\": 1.8226, \"RAD\": 4, \"TAX\": 711.0, \"PTRATIO\": 20.1, \"B\": 318.43, \"LSTAT\": 29.68, \"MEDV\": 8.1}, {\"CRIM\": 0.10574000000000001, \"ZN\": 0.0, \"INDUS\": 27.74, \"CHAS\": 0, \"NOX\": 0.609, \"RM\": 5.983, \"AGE\": 98.8, \"DIS\": 1.8681, \"RAD\": 4, \"TAX\": 711.0, \"PTRATIO\": 20.1, \"B\": 390.11, \"LSTAT\": 18.07, \"MEDV\": 13.6}, {\"CRIM\": 0.11132, \"ZN\": 0.0, \"INDUS\": 27.74, \"CHAS\": 0, \"NOX\": 0.609, \"RM\": 5.983, \"AGE\": 83.5, \"DIS\": 2.1099, \"RAD\": 4, \"TAX\": 711.0, \"PTRATIO\": 20.1, \"B\": 396.9, \"LSTAT\": 13.35, \"MEDV\": 20.1}, {\"CRIM\": 0.17331, \"ZN\": 0.0, \"INDUS\": 9.69, \"CHAS\": 0, \"NOX\": 0.585, \"RM\": 5.707, \"AGE\": 54.0, \"DIS\": 2.3817, \"RAD\": 6, \"TAX\": 391.0, \"PTRATIO\": 19.2, \"B\": 396.9, \"LSTAT\": 12.01, \"MEDV\": 21.8}, {\"CRIM\": 0.27957, \"ZN\": 0.0, \"INDUS\": 9.69, \"CHAS\": 0, \"NOX\": 0.585, \"RM\": 5.926, \"AGE\": 42.6, \"DIS\": 2.3817, \"RAD\": 6, \"TAX\": 391.0, \"PTRATIO\": 19.2, \"B\": 396.9, \"LSTAT\": 13.59, \"MEDV\": 24.5}, {\"CRIM\": 0.17899, \"ZN\": 0.0, \"INDUS\": 9.69, \"CHAS\": 0, \"NOX\": 0.585, \"RM\": 5.67, \"AGE\": 28.8, \"DIS\": 2.7986, \"RAD\": 6, \"TAX\": 391.0, \"PTRATIO\": 19.2, \"B\": 393.29, \"LSTAT\": 17.6, \"MEDV\": 23.1}, {\"CRIM\": 0.2896, \"ZN\": 0.0, \"INDUS\": 9.69, \"CHAS\": 0, \"NOX\": 0.585, \"RM\": 5.39, \"AGE\": 72.9, \"DIS\": 2.7986, \"RAD\": 6, \"TAX\": 391.0, \"PTRATIO\": 19.2, \"B\": 396.9, \"LSTAT\": 21.14, \"MEDV\": 19.7}, {\"CRIM\": 0.26838, \"ZN\": 0.0, \"INDUS\": 9.69, \"CHAS\": 0, \"NOX\": 0.585, \"RM\": 5.794, \"AGE\": 70.6, \"DIS\": 2.8927, \"RAD\": 6, \"TAX\": 391.0, \"PTRATIO\": 19.2, \"B\": 396.9, \"LSTAT\": 14.1, \"MEDV\": 18.3}, {\"CRIM\": 0.23911999999999997, \"ZN\": 0.0, \"INDUS\": 9.69, \"CHAS\": 0, \"NOX\": 0.585, \"RM\": 6.019, \"AGE\": 65.3, \"DIS\": 2.4091, \"RAD\": 6, \"TAX\": 391.0, \"PTRATIO\": 19.2, \"B\": 396.9, \"LSTAT\": 12.92, \"MEDV\": 21.2}, {\"CRIM\": 0.17783, \"ZN\": 0.0, \"INDUS\": 9.69, \"CHAS\": 0, \"NOX\": 0.585, \"RM\": 5.569, \"AGE\": 73.5, \"DIS\": 2.3999, \"RAD\": 6, \"TAX\": 391.0, \"PTRATIO\": 19.2, \"B\": 395.77, \"LSTAT\": 15.1, \"MEDV\": 17.5}, {\"CRIM\": 0.22438000000000002, \"ZN\": 0.0, \"INDUS\": 9.69, \"CHAS\": 0, \"NOX\": 0.585, \"RM\": 6.027, \"AGE\": 79.7, \"DIS\": 2.4982, \"RAD\": 6, \"TAX\": 391.0, \"PTRATIO\": 19.2, \"B\": 396.9, \"LSTAT\": 14.33, \"MEDV\": 16.8}, {\"CRIM\": 0.06262999999999999, \"ZN\": 0.0, \"INDUS\": 11.93, \"CHAS\": 0, \"NOX\": 0.573, \"RM\": 6.593, \"AGE\": 69.1, \"DIS\": 2.4786, \"RAD\": 1, \"TAX\": 273.0, \"PTRATIO\": 21.0, \"B\": 391.99, \"LSTAT\": 9.67, \"MEDV\": 22.4}, {\"CRIM\": 0.04527, \"ZN\": 0.0, \"INDUS\": 11.93, \"CHAS\": 0, \"NOX\": 0.573, \"RM\": 6.12, \"AGE\": 76.7, \"DIS\": 2.2875, \"RAD\": 1, \"TAX\": 273.0, \"PTRATIO\": 21.0, \"B\": 396.9, \"LSTAT\": 9.08, \"MEDV\": 20.6}, {\"CRIM\": 0.06076, \"ZN\": 0.0, \"INDUS\": 11.93, \"CHAS\": 0, \"NOX\": 0.573, \"RM\": 6.976, \"AGE\": 91.0, \"DIS\": 2.1675, \"RAD\": 1, \"TAX\": 273.0, \"PTRATIO\": 21.0, \"B\": 396.9, \"LSTAT\": 5.64, \"MEDV\": 23.9}, {\"CRIM\": 0.10959, \"ZN\": 0.0, \"INDUS\": 11.93, \"CHAS\": 0, \"NOX\": 0.573, \"RM\": 6.794, \"AGE\": 89.3, \"DIS\": 2.3889, \"RAD\": 1, \"TAX\": 273.0, \"PTRATIO\": 21.0, \"B\": 393.45, \"LSTAT\": 6.48, \"MEDV\": 22.0}, {\"CRIM\": 0.04741, \"ZN\": 0.0, \"INDUS\": 11.93, \"CHAS\": 0, \"NOX\": 0.573, \"RM\": 6.03, \"AGE\": 80.8, \"DIS\": 2.505, \"RAD\": 1, \"TAX\": 273.0, \"PTRATIO\": 21.0, \"B\": 396.9, \"LSTAT\": 7.88, \"MEDV\": 11.9}]}}, {\"mode\": \"vega-lite\"});\n</script>"
              }
            ],
            "_view_module": "@jupyter-widgets/output",
            "_model_module_version": "1.0.0",
            "_view_count": null,
            "_view_module_version": "1.0.0",
            "layout": "IPY_MODEL_2ff4a65beaa84840ac306b10f57827b8",
            "_model_module": "@jupyter-widgets/output"
          }
        },
        "7ed6a8f203754144ac700093527f055e": {
          "model_module": "@jupyter-widgets/controls",
          "model_name": "DescriptionStyleModel",
          "state": {
            "_view_name": "StyleView",
            "_model_name": "DescriptionStyleModel",
            "description_width": "",
            "_view_module": "@jupyter-widgets/base",
            "_model_module_version": "1.5.0",
            "_view_count": null,
            "_view_module_version": "1.2.0",
            "_model_module": "@jupyter-widgets/controls"
          }
        },
        "4ea4f008fb004e5b8ea55fb70b05143b": {
          "model_module": "@jupyter-widgets/base",
          "model_name": "LayoutModel",
          "state": {
            "_view_name": "LayoutView",
            "grid_template_rows": null,
            "right": null,
            "justify_content": null,
            "_view_module": "@jupyter-widgets/base",
            "overflow": null,
            "_model_module_version": "1.2.0",
            "_view_count": null,
            "flex_flow": null,
            "width": "900",
            "min_width": null,
            "border": null,
            "align_items": null,
            "bottom": null,
            "_model_module": "@jupyter-widgets/base",
            "top": null,
            "grid_column": null,
            "overflow_y": null,
            "overflow_x": null,
            "grid_auto_flow": null,
            "grid_area": null,
            "grid_template_columns": null,
            "flex": null,
            "_model_name": "LayoutModel",
            "justify_items": null,
            "grid_row": null,
            "max_height": null,
            "align_content": null,
            "visibility": null,
            "align_self": null,
            "height": null,
            "min_height": null,
            "padding": null,
            "grid_auto_rows": null,
            "grid_gap": null,
            "max_width": null,
            "order": null,
            "_view_module_version": "1.2.0",
            "grid_template_areas": null,
            "object_position": null,
            "object_fit": null,
            "grid_auto_columns": null,
            "margin": null,
            "display": null,
            "left": null
          }
        },
        "2ff4a65beaa84840ac306b10f57827b8": {
          "model_module": "@jupyter-widgets/base",
          "model_name": "LayoutModel",
          "state": {
            "_view_name": "LayoutView",
            "grid_template_rows": null,
            "right": null,
            "justify_content": null,
            "_view_module": "@jupyter-widgets/base",
            "overflow": null,
            "_model_module_version": "1.2.0",
            "_view_count": null,
            "flex_flow": null,
            "width": null,
            "min_width": null,
            "border": null,
            "align_items": null,
            "bottom": null,
            "_model_module": "@jupyter-widgets/base",
            "top": null,
            "grid_column": null,
            "overflow_y": null,
            "overflow_x": null,
            "grid_auto_flow": null,
            "grid_area": null,
            "grid_template_columns": null,
            "flex": null,
            "_model_name": "LayoutModel",
            "justify_items": null,
            "grid_row": null,
            "max_height": null,
            "align_content": null,
            "visibility": null,
            "align_self": null,
            "height": null,
            "min_height": null,
            "padding": null,
            "grid_auto_rows": null,
            "grid_gap": null,
            "max_width": null,
            "order": null,
            "_view_module_version": "1.2.0",
            "grid_template_areas": null,
            "object_position": null,
            "object_fit": null,
            "grid_auto_columns": null,
            "margin": null,
            "display": null,
            "left": null
          }
        },
        "730af09201b240178b809c3f2d52484f": {
          "model_module": "@jupyter-widgets/controls",
          "model_name": "VBoxModel",
          "state": {
            "_view_name": "VBoxView",
            "_dom_classes": [
              "widget-interact"
            ],
            "_model_name": "VBoxModel",
            "_view_module": "@jupyter-widgets/controls",
            "_model_module_version": "1.5.0",
            "_view_count": null,
            "_view_module_version": "1.5.0",
            "box_style": "",
            "layout": "IPY_MODEL_7275c6ee2c6346f8aa6748a3b5bba1d5",
            "_model_module": "@jupyter-widgets/controls",
            "children": [
              "IPY_MODEL_ebf7142bce9740e3b5a711e1343e8447",
              "IPY_MODEL_dc1d2e1c2c6647f8a9623d99a91d55b0"
            ]
          }
        },
        "7275c6ee2c6346f8aa6748a3b5bba1d5": {
          "model_module": "@jupyter-widgets/base",
          "model_name": "LayoutModel",
          "state": {
            "_view_name": "LayoutView",
            "grid_template_rows": null,
            "right": null,
            "justify_content": null,
            "_view_module": "@jupyter-widgets/base",
            "overflow": null,
            "_model_module_version": "1.2.0",
            "_view_count": null,
            "flex_flow": null,
            "width": null,
            "min_width": null,
            "border": null,
            "align_items": null,
            "bottom": null,
            "_model_module": "@jupyter-widgets/base",
            "top": null,
            "grid_column": null,
            "overflow_y": null,
            "overflow_x": null,
            "grid_auto_flow": null,
            "grid_area": null,
            "grid_template_columns": null,
            "flex": null,
            "_model_name": "LayoutModel",
            "justify_items": null,
            "grid_row": null,
            "max_height": null,
            "align_content": null,
            "visibility": null,
            "align_self": null,
            "height": null,
            "min_height": null,
            "padding": null,
            "grid_auto_rows": null,
            "grid_gap": null,
            "max_width": null,
            "order": null,
            "_view_module_version": "1.2.0",
            "grid_template_areas": null,
            "object_position": null,
            "object_fit": null,
            "grid_auto_columns": null,
            "margin": null,
            "display": null,
            "left": null
          }
        },
        "ebf7142bce9740e3b5a711e1343e8447": {
          "model_module": "@jupyter-widgets/controls",
          "model_name": "SelectMultipleModel",
          "state": {
            "_options_labels": [
              "MSFT",
              "AMZN",
              "IBM",
              "GOOG",
              "AAPL"
            ],
            "_view_name": "SelectMultipleView",
            "style": "IPY_MODEL_4a12bdb96a3b4afc8d94d6159db8ec6a",
            "rows": 5,
            "_dom_classes": [],
            "description": "Symbols",
            "_model_name": "SelectMultipleModel",
            "index": [
              4
            ],
            "_view_module": "@jupyter-widgets/controls",
            "_model_module_version": "1.5.0",
            "_view_count": null,
            "disabled": false,
            "_view_module_version": "1.5.0",
            "description_tooltip": null,
            "_model_module": "@jupyter-widgets/controls",
            "layout": "IPY_MODEL_24753ac88ae749318b109856c9aff034"
          }
        },
        "dc1d2e1c2c6647f8a9623d99a91d55b0": {
          "model_module": "@jupyter-widgets/output",
          "model_name": "OutputModel",
          "state": {
            "_view_name": "OutputView",
            "msg_id": "",
            "_dom_classes": [],
            "_model_name": "OutputModel",
            "outputs": [
              {
                "output_type": "display_data",
                "metadata": {
                  "tags": []
                },
                "text/plain": "alt.Chart(...)",
                "text/html": "\n<div id=\"altair-viz-a3c452eed29145229f5af4c34648a255\"></div>\n<script type=\"text/javascript\">\n  (function(spec, embedOpt){\n    let outputDiv = document.currentScript.previousElementSibling;\n    if (outputDiv.id !== \"altair-viz-a3c452eed29145229f5af4c34648a255\") {\n      outputDiv = document.getElementById(\"altair-viz-a3c452eed29145229f5af4c34648a255\");\n    }\n    const paths = {\n      \"vega\": \"https://cdn.jsdelivr.net/npm//vega@5?noext\",\n      \"vega-lib\": \"https://cdn.jsdelivr.net/npm//vega-lib?noext\",\n      \"vega-lite\": \"https://cdn.jsdelivr.net/npm//vega-lite@4.8.1?noext\",\n      \"vega-embed\": \"https://cdn.jsdelivr.net/npm//vega-embed@6?noext\",\n    };\n\n    function loadScript(lib) {\n      return new Promise(function(resolve, reject) {\n        var s = document.createElement('script');\n        s.src = paths[lib];\n        s.async = true;\n        s.onload = () => resolve(paths[lib]);\n        s.onerror = () => reject(`Error loading script: ${paths[lib]}`);\n        document.getElementsByTagName(\"head\")[0].appendChild(s);\n      });\n    }\n\n    function showError(err) {\n      outputDiv.innerHTML = `<div class=\"error\" style=\"color:red;\">${err}</div>`;\n      throw err;\n    }\n\n    function displayChart(vegaEmbed) {\n      vegaEmbed(outputDiv, spec, embedOpt)\n        .catch(err => showError(`Javascript Error: ${err.message}<br>This usually means there's a typo in your chart specification. See the javascript console for the full traceback.`));\n    }\n\n    if(typeof define === \"function\" && define.amd) {\n      requirejs.config({paths});\n      require([\"vega-embed\"], displayChart, err => showError(`Error loading script: ${err.message}`));\n    } else if (typeof vegaEmbed === \"function\") {\n      displayChart(vegaEmbed);\n    } else {\n      loadScript(\"vega\")\n        .then(() => loadScript(\"vega-lite\"))\n        .then(() => loadScript(\"vega-embed\"))\n        .catch(showError)\n        .then(() => displayChart(vegaEmbed));\n    }\n  })({\"config\": {\"view\": {\"continuousWidth\": 400, \"continuousHeight\": 300}}, \"data\": {\"name\": \"data-6f2a334894fda21ce10d0122a09f5fdc\"}, \"mark\": \"line\", \"encoding\": {\"color\": {\"type\": \"nominal\", \"field\": \"symbol\"}, \"strokeDash\": {\"type\": \"nominal\", \"field\": \"symbol\"}, \"x\": {\"type\": \"temporal\", \"field\": \"date\"}, \"y\": {\"type\": \"quantitative\", \"field\": \"price\"}}, \"$schema\": \"https://vega.github.io/schema/vega-lite/v4.8.1.json\", \"datasets\": {\"data-6f2a334894fda21ce10d0122a09f5fdc\": [{\"symbol\": \"AAPL\", \"date\": \"2000-01-01T00:00:00\", \"price\": 25.94}, {\"symbol\": \"AAPL\", \"date\": \"2000-02-01T00:00:00\", \"price\": 28.66}, {\"symbol\": \"AAPL\", \"date\": \"2000-03-01T00:00:00\", \"price\": 33.95}, {\"symbol\": \"AAPL\", \"date\": \"2000-04-01T00:00:00\", \"price\": 31.01}, {\"symbol\": \"AAPL\", \"date\": \"2000-05-01T00:00:00\", \"price\": 21.0}, {\"symbol\": \"AAPL\", \"date\": \"2000-06-01T00:00:00\", \"price\": 26.19}, {\"symbol\": \"AAPL\", \"date\": \"2000-07-01T00:00:00\", \"price\": 25.41}, {\"symbol\": \"AAPL\", \"date\": \"2000-08-01T00:00:00\", \"price\": 30.47}, {\"symbol\": \"AAPL\", \"date\": \"2000-09-01T00:00:00\", \"price\": 12.88}, {\"symbol\": \"AAPL\", \"date\": \"2000-10-01T00:00:00\", \"price\": 9.78}, {\"symbol\": \"AAPL\", \"date\": \"2000-11-01T00:00:00\", \"price\": 8.25}, {\"symbol\": \"AAPL\", \"date\": \"2000-12-01T00:00:00\", \"price\": 7.44}, {\"symbol\": \"AAPL\", \"date\": \"2001-01-01T00:00:00\", \"price\": 10.81}, {\"symbol\": \"AAPL\", \"date\": \"2001-02-01T00:00:00\", \"price\": 9.12}, {\"symbol\": \"AAPL\", \"date\": \"2001-03-01T00:00:00\", \"price\": 11.03}, {\"symbol\": \"AAPL\", \"date\": \"2001-04-01T00:00:00\", \"price\": 12.74}, {\"symbol\": \"AAPL\", \"date\": \"2001-05-01T00:00:00\", \"price\": 9.98}, {\"symbol\": \"AAPL\", \"date\": \"2001-06-01T00:00:00\", \"price\": 11.62}, {\"symbol\": \"AAPL\", \"date\": \"2001-07-01T00:00:00\", \"price\": 9.4}, {\"symbol\": \"AAPL\", \"date\": \"2001-08-01T00:00:00\", \"price\": 9.27}, {\"symbol\": \"AAPL\", \"date\": \"2001-09-01T00:00:00\", \"price\": 7.76}, {\"symbol\": \"AAPL\", \"date\": \"2001-10-01T00:00:00\", \"price\": 8.78}, {\"symbol\": \"AAPL\", \"date\": \"2001-11-01T00:00:00\", \"price\": 10.65}, {\"symbol\": \"AAPL\", \"date\": \"2001-12-01T00:00:00\", \"price\": 10.95}, {\"symbol\": \"AAPL\", \"date\": \"2002-01-01T00:00:00\", \"price\": 12.36}, {\"symbol\": \"AAPL\", \"date\": \"2002-02-01T00:00:00\", \"price\": 10.85}, {\"symbol\": \"AAPL\", \"date\": \"2002-03-01T00:00:00\", \"price\": 11.84}, {\"symbol\": \"AAPL\", \"date\": \"2002-04-01T00:00:00\", \"price\": 12.14}, {\"symbol\": \"AAPL\", \"date\": \"2002-05-01T00:00:00\", \"price\": 11.65}, {\"symbol\": \"AAPL\", \"date\": \"2002-06-01T00:00:00\", \"price\": 8.86}, {\"symbol\": \"AAPL\", \"date\": \"2002-07-01T00:00:00\", \"price\": 7.63}, {\"symbol\": \"AAPL\", \"date\": \"2002-08-01T00:00:00\", \"price\": 7.38}, {\"symbol\": \"AAPL\", \"date\": \"2002-09-01T00:00:00\", \"price\": 7.25}, {\"symbol\": \"AAPL\", \"date\": \"2002-10-01T00:00:00\", \"price\": 8.03}, {\"symbol\": \"AAPL\", \"date\": \"2002-11-01T00:00:00\", \"price\": 7.75}, {\"symbol\": \"AAPL\", \"date\": \"2002-12-01T00:00:00\", \"price\": 7.16}, {\"symbol\": \"AAPL\", \"date\": \"2003-01-01T00:00:00\", \"price\": 7.18}, {\"symbol\": \"AAPL\", \"date\": \"2003-02-01T00:00:00\", \"price\": 7.51}, {\"symbol\": \"AAPL\", \"date\": \"2003-03-01T00:00:00\", \"price\": 7.07}, {\"symbol\": \"AAPL\", \"date\": \"2003-04-01T00:00:00\", \"price\": 7.11}, {\"symbol\": \"AAPL\", \"date\": \"2003-05-01T00:00:00\", \"price\": 8.98}, {\"symbol\": \"AAPL\", \"date\": \"2003-06-01T00:00:00\", \"price\": 9.53}, {\"symbol\": \"AAPL\", \"date\": \"2003-07-01T00:00:00\", \"price\": 10.54}, {\"symbol\": \"AAPL\", \"date\": \"2003-08-01T00:00:00\", \"price\": 11.31}, {\"symbol\": \"AAPL\", \"date\": \"2003-09-01T00:00:00\", \"price\": 10.36}, {\"symbol\": \"AAPL\", \"date\": \"2003-10-01T00:00:00\", \"price\": 11.44}, {\"symbol\": \"AAPL\", \"date\": \"2003-11-01T00:00:00\", \"price\": 10.45}, {\"symbol\": \"AAPL\", \"date\": \"2003-12-01T00:00:00\", \"price\": 10.69}, {\"symbol\": \"AAPL\", \"date\": \"2004-01-01T00:00:00\", \"price\": 11.28}, {\"symbol\": \"AAPL\", \"date\": \"2004-02-01T00:00:00\", \"price\": 11.96}, {\"symbol\": \"AAPL\", \"date\": \"2004-03-01T00:00:00\", \"price\": 13.52}, {\"symbol\": \"AAPL\", \"date\": \"2004-04-01T00:00:00\", \"price\": 12.89}, {\"symbol\": \"AAPL\", \"date\": \"2004-05-01T00:00:00\", \"price\": 14.03}, {\"symbol\": \"AAPL\", \"date\": \"2004-06-01T00:00:00\", \"price\": 16.27}, {\"symbol\": \"AAPL\", \"date\": \"2004-07-01T00:00:00\", \"price\": 16.17}, {\"symbol\": \"AAPL\", \"date\": \"2004-08-01T00:00:00\", \"price\": 17.25}, {\"symbol\": \"AAPL\", \"date\": \"2004-09-01T00:00:00\", \"price\": 19.38}, {\"symbol\": \"AAPL\", \"date\": \"2004-10-01T00:00:00\", \"price\": 26.2}, {\"symbol\": \"AAPL\", \"date\": \"2004-11-01T00:00:00\", \"price\": 33.53}, {\"symbol\": \"AAPL\", \"date\": \"2004-12-01T00:00:00\", \"price\": 32.2}, {\"symbol\": \"AAPL\", \"date\": \"2005-01-01T00:00:00\", \"price\": 38.45}, {\"symbol\": \"AAPL\", \"date\": \"2005-02-01T00:00:00\", \"price\": 44.86}, {\"symbol\": \"AAPL\", \"date\": \"2005-03-01T00:00:00\", \"price\": 41.67}, {\"symbol\": \"AAPL\", \"date\": \"2005-04-01T00:00:00\", \"price\": 36.06}, {\"symbol\": \"AAPL\", \"date\": \"2005-05-01T00:00:00\", \"price\": 39.76}, {\"symbol\": \"AAPL\", \"date\": \"2005-06-01T00:00:00\", \"price\": 36.81}, {\"symbol\": \"AAPL\", \"date\": \"2005-07-01T00:00:00\", \"price\": 42.65}, {\"symbol\": \"AAPL\", \"date\": \"2005-08-01T00:00:00\", \"price\": 46.89}, {\"symbol\": \"AAPL\", \"date\": \"2005-09-01T00:00:00\", \"price\": 53.61}, {\"symbol\": \"AAPL\", \"date\": \"2005-10-01T00:00:00\", \"price\": 57.59}, {\"symbol\": \"AAPL\", \"date\": \"2005-11-01T00:00:00\", \"price\": 67.82}, {\"symbol\": \"AAPL\", \"date\": \"2005-12-01T00:00:00\", \"price\": 71.89}, {\"symbol\": \"AAPL\", \"date\": \"2006-01-01T00:00:00\", \"price\": 75.51}, {\"symbol\": \"AAPL\", \"date\": \"2006-02-01T00:00:00\", \"price\": 68.49}, {\"symbol\": \"AAPL\", \"date\": \"2006-03-01T00:00:00\", \"price\": 62.72}, {\"symbol\": \"AAPL\", \"date\": \"2006-04-01T00:00:00\", \"price\": 70.39}, {\"symbol\": \"AAPL\", \"date\": \"2006-05-01T00:00:00\", \"price\": 59.77}, {\"symbol\": \"AAPL\", \"date\": \"2006-06-01T00:00:00\", \"price\": 57.27}, {\"symbol\": \"AAPL\", \"date\": \"2006-07-01T00:00:00\", \"price\": 67.96}, {\"symbol\": \"AAPL\", \"date\": \"2006-08-01T00:00:00\", \"price\": 67.85}, {\"symbol\": \"AAPL\", \"date\": \"2006-09-01T00:00:00\", \"price\": 76.98}, {\"symbol\": \"AAPL\", \"date\": \"2006-10-01T00:00:00\", \"price\": 81.08}, {\"symbol\": \"AAPL\", \"date\": \"2006-11-01T00:00:00\", \"price\": 91.66}, {\"symbol\": \"AAPL\", \"date\": \"2006-12-01T00:00:00\", \"price\": 84.84}, {\"symbol\": \"AAPL\", \"date\": \"2007-01-01T00:00:00\", \"price\": 85.73}, {\"symbol\": \"AAPL\", \"date\": \"2007-02-01T00:00:00\", \"price\": 84.61}, {\"symbol\": \"AAPL\", \"date\": \"2007-03-01T00:00:00\", \"price\": 92.91}, {\"symbol\": \"AAPL\", \"date\": \"2007-04-01T00:00:00\", \"price\": 99.8}, {\"symbol\": \"AAPL\", \"date\": \"2007-05-01T00:00:00\", \"price\": 121.19}, {\"symbol\": \"AAPL\", \"date\": \"2007-06-01T00:00:00\", \"price\": 122.04}, {\"symbol\": \"AAPL\", \"date\": \"2007-07-01T00:00:00\", \"price\": 131.76}, {\"symbol\": \"AAPL\", \"date\": \"2007-08-01T00:00:00\", \"price\": 138.48}, {\"symbol\": \"AAPL\", \"date\": \"2007-09-01T00:00:00\", \"price\": 153.47}, {\"symbol\": \"AAPL\", \"date\": \"2007-10-01T00:00:00\", \"price\": 189.95}, {\"symbol\": \"AAPL\", \"date\": \"2007-11-01T00:00:00\", \"price\": 182.22}, {\"symbol\": \"AAPL\", \"date\": \"2007-12-01T00:00:00\", \"price\": 198.08}, {\"symbol\": \"AAPL\", \"date\": \"2008-01-01T00:00:00\", \"price\": 135.36}, {\"symbol\": \"AAPL\", \"date\": \"2008-02-01T00:00:00\", \"price\": 125.02}, {\"symbol\": \"AAPL\", \"date\": \"2008-03-01T00:00:00\", \"price\": 143.5}, {\"symbol\": \"AAPL\", \"date\": \"2008-04-01T00:00:00\", \"price\": 173.95}, {\"symbol\": \"AAPL\", \"date\": \"2008-05-01T00:00:00\", \"price\": 188.75}, {\"symbol\": \"AAPL\", \"date\": \"2008-06-01T00:00:00\", \"price\": 167.44}, {\"symbol\": \"AAPL\", \"date\": \"2008-07-01T00:00:00\", \"price\": 158.95}, {\"symbol\": \"AAPL\", \"date\": \"2008-08-01T00:00:00\", \"price\": 169.53}, {\"symbol\": \"AAPL\", \"date\": \"2008-09-01T00:00:00\", \"price\": 113.66}, {\"symbol\": \"AAPL\", \"date\": \"2008-10-01T00:00:00\", \"price\": 107.59}, {\"symbol\": \"AAPL\", \"date\": \"2008-11-01T00:00:00\", \"price\": 92.67}, {\"symbol\": \"AAPL\", \"date\": \"2008-12-01T00:00:00\", \"price\": 85.35}, {\"symbol\": \"AAPL\", \"date\": \"2009-01-01T00:00:00\", \"price\": 90.13}, {\"symbol\": \"AAPL\", \"date\": \"2009-02-01T00:00:00\", \"price\": 89.31}, {\"symbol\": \"AAPL\", \"date\": \"2009-03-01T00:00:00\", \"price\": 105.12}, {\"symbol\": \"AAPL\", \"date\": \"2009-04-01T00:00:00\", \"price\": 125.83}, {\"symbol\": \"AAPL\", \"date\": \"2009-05-01T00:00:00\", \"price\": 135.81}, {\"symbol\": \"AAPL\", \"date\": \"2009-06-01T00:00:00\", \"price\": 142.43}, {\"symbol\": \"AAPL\", \"date\": \"2009-07-01T00:00:00\", \"price\": 163.39}, {\"symbol\": \"AAPL\", \"date\": \"2009-08-01T00:00:00\", \"price\": 168.21}, {\"symbol\": \"AAPL\", \"date\": \"2009-09-01T00:00:00\", \"price\": 185.35}, {\"symbol\": \"AAPL\", \"date\": \"2009-10-01T00:00:00\", \"price\": 188.5}, {\"symbol\": \"AAPL\", \"date\": \"2009-11-01T00:00:00\", \"price\": 199.91}, {\"symbol\": \"AAPL\", \"date\": \"2009-12-01T00:00:00\", \"price\": 210.73}, {\"symbol\": \"AAPL\", \"date\": \"2010-01-01T00:00:00\", \"price\": 192.06}, {\"symbol\": \"AAPL\", \"date\": \"2010-02-01T00:00:00\", \"price\": 204.62}, {\"symbol\": \"AAPL\", \"date\": \"2010-03-01T00:00:00\", \"price\": 223.02}]}}, {\"mode\": \"vega-lite\"});\n</script>"
              }
            ],
            "_view_module": "@jupyter-widgets/output",
            "_model_module_version": "1.0.0",
            "_view_count": null,
            "_view_module_version": "1.0.0",
            "layout": "IPY_MODEL_447ca5eb40b94c6e96803bd7865d8434",
            "_model_module": "@jupyter-widgets/output"
          }
        },
        "4a12bdb96a3b4afc8d94d6159db8ec6a": {
          "model_module": "@jupyter-widgets/controls",
          "model_name": "DescriptionStyleModel",
          "state": {
            "_view_name": "StyleView",
            "_model_name": "DescriptionStyleModel",
            "description_width": "",
            "_view_module": "@jupyter-widgets/base",
            "_model_module_version": "1.5.0",
            "_view_count": null,
            "_view_module_version": "1.2.0",
            "_model_module": "@jupyter-widgets/controls"
          }
        },
        "24753ac88ae749318b109856c9aff034": {
          "model_module": "@jupyter-widgets/base",
          "model_name": "LayoutModel",
          "state": {
            "_view_name": "LayoutView",
            "grid_template_rows": null,
            "right": null,
            "justify_content": null,
            "_view_module": "@jupyter-widgets/base",
            "overflow": null,
            "_model_module_version": "1.2.0",
            "_view_count": null,
            "flex_flow": null,
            "width": null,
            "min_width": null,
            "border": null,
            "align_items": null,
            "bottom": null,
            "_model_module": "@jupyter-widgets/base",
            "top": null,
            "grid_column": null,
            "overflow_y": null,
            "overflow_x": null,
            "grid_auto_flow": null,
            "grid_area": null,
            "grid_template_columns": null,
            "flex": null,
            "_model_name": "LayoutModel",
            "justify_items": null,
            "grid_row": null,
            "max_height": null,
            "align_content": null,
            "visibility": null,
            "align_self": null,
            "height": null,
            "min_height": null,
            "padding": null,
            "grid_auto_rows": null,
            "grid_gap": null,
            "max_width": null,
            "order": null,
            "_view_module_version": "1.2.0",
            "grid_template_areas": null,
            "object_position": null,
            "object_fit": null,
            "grid_auto_columns": null,
            "margin": null,
            "display": null,
            "left": null
          }
        },
        "447ca5eb40b94c6e96803bd7865d8434": {
          "model_module": "@jupyter-widgets/base",
          "model_name": "LayoutModel",
          "state": {
            "_view_name": "LayoutView",
            "grid_template_rows": null,
            "right": null,
            "justify_content": null,
            "_view_module": "@jupyter-widgets/base",
            "overflow": null,
            "_model_module_version": "1.2.0",
            "_view_count": null,
            "flex_flow": null,
            "width": null,
            "min_width": null,
            "border": null,
            "align_items": null,
            "bottom": null,
            "_model_module": "@jupyter-widgets/base",
            "top": null,
            "grid_column": null,
            "overflow_y": null,
            "overflow_x": null,
            "grid_auto_flow": null,
            "grid_area": null,
            "grid_template_columns": null,
            "flex": null,
            "_model_name": "LayoutModel",
            "justify_items": null,
            "grid_row": null,
            "max_height": null,
            "align_content": null,
            "visibility": null,
            "align_self": null,
            "height": null,
            "min_height": null,
            "padding": null,
            "grid_auto_rows": null,
            "grid_gap": null,
            "max_width": null,
            "order": null,
            "_view_module_version": "1.2.0",
            "grid_template_areas": null,
            "object_position": null,
            "object_fit": null,
            "grid_auto_columns": null,
            "margin": null,
            "display": null,
            "left": null
          }
        }
      }
    }
  },
  "cells": [
    {
      "cell_type": "markdown",
      "metadata": {
        "id": "view-in-github",
        "colab_type": "text"
      },
      "source": [
        "<a href=\"https://colab.research.google.com/github/nurulc/ATM/blob/master/tf_tutor.ipynb\" target=\"_parent\"><img src=\"https://colab.research.google.com/assets/colab-badge.svg\" alt=\"Open In Colab\"/></a>"
      ]
    },
    {
      "cell_type": "code",
      "metadata": {
        "id": "ziH-agmfSefN",
        "colab_type": "code",
        "colab": {}
      },
      "source": [
        "import numpy as np\n",
        "#from google.colab import drive\n",
        "import ipywidgets as widgets\n",
        "import altair as alt\n",
        "\n",
        "#import os"
      ],
      "execution_count": 1,
      "outputs": []
    },
    {
      "cell_type": "code",
      "metadata": {
        "id": "x9XCM-DPMBEq",
        "colab_type": "code",
        "colab": {}
      },
      "source": [
        ""
      ],
      "execution_count": 1,
      "outputs": []
    },
    {
      "cell_type": "code",
      "metadata": {
        "id": "Fx6y_4eEIO4Z",
        "colab_type": "code",
        "colab": {
          "base_uri": "https://localhost:8080/",
          "height": 35
        },
        "outputId": "dead2f70-1c73-43f6-efcd-f42dcc13c110"
      },
      "source": [
        "![[ -f housing-ma.csv ]] || echo no"
      ],
      "execution_count": 2,
      "outputs": [
        {
          "output_type": "stream",
          "text": [
            "no\n"
          ],
          "name": "stdout"
        }
      ]
    },
    {
      "cell_type": "markdown",
      "metadata": {
        "id": "9WoWUwtCSjSF",
        "colab_type": "text"
      },
      "source": [
        "# Fetch MA Housing data from github"
      ]
    },
    {
      "cell_type": "code",
      "metadata": {
        "id": "7cFFBEhnSlzG",
        "colab_type": "code",
        "colab": {
          "base_uri": "https://localhost:8080/",
          "height": 381
        },
        "outputId": "f782ee74-5d88-4030-a2c8-b246e7957c27"
      },
      "source": [
        "\n",
        "#drive.mount('content/gdrive')\n",
        "# !head drive/My\\ Drive/housing-ma.csv\n",
        "#!head \"/content/drive/My Drive/Colab Notebooks/Copy of tf-tutor.ipynb\"\n",
        "\n",
        "![[ -f housing-ma.csv ]] || wget https://raw.githubusercontent.com/nurulc/ATM/master/housing-ma.csv \n",
        "\n",
        "!head housing-ma.csv\n",
        "\n"
      ],
      "execution_count": 3,
      "outputs": [
        {
          "output_type": "stream",
          "text": [
            "--2020-08-03 14:17:58--  https://raw.githubusercontent.com/nurulc/ATM/master/housing-ma.csv\n",
            "Resolving raw.githubusercontent.com (raw.githubusercontent.com)... 151.101.0.133, 151.101.64.133, 151.101.128.133, ...\n",
            "Connecting to raw.githubusercontent.com (raw.githubusercontent.com)|151.101.0.133|:443... connected.\n",
            "HTTP request sent, awaiting response... 200 OK\n",
            "Length: 41359 (40K) [text/plain]\n",
            "Saving to: ‘housing-ma.csv’\n",
            "\n",
            "\rhousing-ma.csv        0%[                    ]       0  --.-KB/s               \rhousing-ma.csv      100%[===================>]  40.39K  --.-KB/s    in 0.02s   \n",
            "\n",
            "2020-08-03 14:17:58 (2.61 MB/s) - ‘housing-ma.csv’ saved [41359/41359]\n",
            "\n",
            "CRIM,ZN,INDUS,CHAS,NOX,RM,AGE,DIS,RAD,TAX,PTRATIO,B,LSTAT,MEDV\n",
            "0.00632,18.00,2.310,0,0.5380,6.5750,65.20,4.0900,1,296.0,15.30,396.90,4.98,24.00\n",
            "0.02731,0.00,7.070,0,0.4690,6.4210,78.90,4.9671,2,242.0,17.80,396.90,9.14,21.60\n",
            "0.02729,0.00,7.070,0,0.4690,7.1850,61.10,4.9671,2,242.0,17.80,392.83,4.03,34.70\n",
            "0.03237,0.00,2.180,0,0.4580,6.9980,45.80,6.0622,3,222.0,18.70,394.63,2.94,33.40\n",
            "0.06905,0.00,2.180,0,0.4580,7.1470,54.20,6.0622,3,222.0,18.70,396.90,5.33,36.20\n",
            "0.02985,0.00,2.180,0,0.4580,6.4300,58.70,6.0622,3,222.0,18.70,394.12,5.21,28.70\n",
            "0.08829,12.50,7.870,0,0.5240,6.0120,66.60,5.5605,5,311.0,15.20,395.60,12.43,22.90\n",
            "0.14455,12.50,7.870,0,0.5240,6.1720,96.10,5.9505,5,311.0,15.20,396.90,19.15,27.10\n",
            "0.21124,12.50,7.870,0,0.5240,5.6310,100.00,6.0821,5,311.0,15.20,386.63,29.93,16.50\n"
          ],
          "name": "stdout"
        }
      ]
    },
    {
      "cell_type": "code",
      "metadata": {
        "id": "mTNBo--8-RsO",
        "colab_type": "code",
        "colab": {
          "base_uri": "https://localhost:8080/",
          "height": 35
        },
        "outputId": "fdfd9523-90ae-449b-a4f2-242606c88584"
      },
      "source": [
        "!ls\n"
      ],
      "execution_count": 4,
      "outputs": [
        {
          "output_type": "stream",
          "text": [
            "drive  housing-ma.csv  sample_data\n"
          ],
          "name": "stdout"
        }
      ]
    },
    {
      "cell_type": "markdown",
      "metadata": {
        "id": "1tURubCPJ8Xc",
        "colab_type": "text"
      },
      "source": [
        "# Read MA housing data into a pandas table"
      ]
    },
    {
      "cell_type": "code",
      "metadata": {
        "id": "9lthQr2IfhmQ",
        "colab_type": "code",
        "colab": {
          "base_uri": "https://localhost:8080/",
          "height": 415
        },
        "outputId": "5e999f8c-98cb-48ab-c68a-ce1d13f2e653"
      },
      "source": [
        "import pandas as pd\n",
        "import io\n",
        "data_pd = pd.read_csv(io.FileIO('housing-ma.csv'))\n",
        "data_pd\n"
      ],
      "execution_count": 5,
      "outputs": [
        {
          "output_type": "execute_result",
          "data": {
            "text/html": [
              "<div>\n",
              "<style scoped>\n",
              "    .dataframe tbody tr th:only-of-type {\n",
              "        vertical-align: middle;\n",
              "    }\n",
              "\n",
              "    .dataframe tbody tr th {\n",
              "        vertical-align: top;\n",
              "    }\n",
              "\n",
              "    .dataframe thead th {\n",
              "        text-align: right;\n",
              "    }\n",
              "</style>\n",
              "<table border=\"1\" class=\"dataframe\">\n",
              "  <thead>\n",
              "    <tr style=\"text-align: right;\">\n",
              "      <th></th>\n",
              "      <th>CRIM</th>\n",
              "      <th>ZN</th>\n",
              "      <th>INDUS</th>\n",
              "      <th>CHAS</th>\n",
              "      <th>NOX</th>\n",
              "      <th>RM</th>\n",
              "      <th>AGE</th>\n",
              "      <th>DIS</th>\n",
              "      <th>RAD</th>\n",
              "      <th>TAX</th>\n",
              "      <th>PTRATIO</th>\n",
              "      <th>B</th>\n",
              "      <th>LSTAT</th>\n",
              "      <th>MEDV</th>\n",
              "    </tr>\n",
              "  </thead>\n",
              "  <tbody>\n",
              "    <tr>\n",
              "      <th>0</th>\n",
              "      <td>0.00632</td>\n",
              "      <td>18.0</td>\n",
              "      <td>2.31</td>\n",
              "      <td>0</td>\n",
              "      <td>0.538</td>\n",
              "      <td>6.575</td>\n",
              "      <td>65.2</td>\n",
              "      <td>4.0900</td>\n",
              "      <td>1</td>\n",
              "      <td>296.0</td>\n",
              "      <td>15.3</td>\n",
              "      <td>396.90</td>\n",
              "      <td>4.98</td>\n",
              "      <td>24.0</td>\n",
              "    </tr>\n",
              "    <tr>\n",
              "      <th>1</th>\n",
              "      <td>0.02731</td>\n",
              "      <td>0.0</td>\n",
              "      <td>7.07</td>\n",
              "      <td>0</td>\n",
              "      <td>0.469</td>\n",
              "      <td>6.421</td>\n",
              "      <td>78.9</td>\n",
              "      <td>4.9671</td>\n",
              "      <td>2</td>\n",
              "      <td>242.0</td>\n",
              "      <td>17.8</td>\n",
              "      <td>396.90</td>\n",
              "      <td>9.14</td>\n",
              "      <td>21.6</td>\n",
              "    </tr>\n",
              "    <tr>\n",
              "      <th>2</th>\n",
              "      <td>0.02729</td>\n",
              "      <td>0.0</td>\n",
              "      <td>7.07</td>\n",
              "      <td>0</td>\n",
              "      <td>0.469</td>\n",
              "      <td>7.185</td>\n",
              "      <td>61.1</td>\n",
              "      <td>4.9671</td>\n",
              "      <td>2</td>\n",
              "      <td>242.0</td>\n",
              "      <td>17.8</td>\n",
              "      <td>392.83</td>\n",
              "      <td>4.03</td>\n",
              "      <td>34.7</td>\n",
              "    </tr>\n",
              "    <tr>\n",
              "      <th>3</th>\n",
              "      <td>0.03237</td>\n",
              "      <td>0.0</td>\n",
              "      <td>2.18</td>\n",
              "      <td>0</td>\n",
              "      <td>0.458</td>\n",
              "      <td>6.998</td>\n",
              "      <td>45.8</td>\n",
              "      <td>6.0622</td>\n",
              "      <td>3</td>\n",
              "      <td>222.0</td>\n",
              "      <td>18.7</td>\n",
              "      <td>394.63</td>\n",
              "      <td>2.94</td>\n",
              "      <td>33.4</td>\n",
              "    </tr>\n",
              "    <tr>\n",
              "      <th>4</th>\n",
              "      <td>0.06905</td>\n",
              "      <td>0.0</td>\n",
              "      <td>2.18</td>\n",
              "      <td>0</td>\n",
              "      <td>0.458</td>\n",
              "      <td>7.147</td>\n",
              "      <td>54.2</td>\n",
              "      <td>6.0622</td>\n",
              "      <td>3</td>\n",
              "      <td>222.0</td>\n",
              "      <td>18.7</td>\n",
              "      <td>396.90</td>\n",
              "      <td>5.33</td>\n",
              "      <td>36.2</td>\n",
              "    </tr>\n",
              "    <tr>\n",
              "      <th>...</th>\n",
              "      <td>...</td>\n",
              "      <td>...</td>\n",
              "      <td>...</td>\n",
              "      <td>...</td>\n",
              "      <td>...</td>\n",
              "      <td>...</td>\n",
              "      <td>...</td>\n",
              "      <td>...</td>\n",
              "      <td>...</td>\n",
              "      <td>...</td>\n",
              "      <td>...</td>\n",
              "      <td>...</td>\n",
              "      <td>...</td>\n",
              "      <td>...</td>\n",
              "    </tr>\n",
              "    <tr>\n",
              "      <th>501</th>\n",
              "      <td>0.06263</td>\n",
              "      <td>0.0</td>\n",
              "      <td>11.93</td>\n",
              "      <td>0</td>\n",
              "      <td>0.573</td>\n",
              "      <td>6.593</td>\n",
              "      <td>69.1</td>\n",
              "      <td>2.4786</td>\n",
              "      <td>1</td>\n",
              "      <td>273.0</td>\n",
              "      <td>21.0</td>\n",
              "      <td>391.99</td>\n",
              "      <td>9.67</td>\n",
              "      <td>22.4</td>\n",
              "    </tr>\n",
              "    <tr>\n",
              "      <th>502</th>\n",
              "      <td>0.04527</td>\n",
              "      <td>0.0</td>\n",
              "      <td>11.93</td>\n",
              "      <td>0</td>\n",
              "      <td>0.573</td>\n",
              "      <td>6.120</td>\n",
              "      <td>76.7</td>\n",
              "      <td>2.2875</td>\n",
              "      <td>1</td>\n",
              "      <td>273.0</td>\n",
              "      <td>21.0</td>\n",
              "      <td>396.90</td>\n",
              "      <td>9.08</td>\n",
              "      <td>20.6</td>\n",
              "    </tr>\n",
              "    <tr>\n",
              "      <th>503</th>\n",
              "      <td>0.06076</td>\n",
              "      <td>0.0</td>\n",
              "      <td>11.93</td>\n",
              "      <td>0</td>\n",
              "      <td>0.573</td>\n",
              "      <td>6.976</td>\n",
              "      <td>91.0</td>\n",
              "      <td>2.1675</td>\n",
              "      <td>1</td>\n",
              "      <td>273.0</td>\n",
              "      <td>21.0</td>\n",
              "      <td>396.90</td>\n",
              "      <td>5.64</td>\n",
              "      <td>23.9</td>\n",
              "    </tr>\n",
              "    <tr>\n",
              "      <th>504</th>\n",
              "      <td>0.10959</td>\n",
              "      <td>0.0</td>\n",
              "      <td>11.93</td>\n",
              "      <td>0</td>\n",
              "      <td>0.573</td>\n",
              "      <td>6.794</td>\n",
              "      <td>89.3</td>\n",
              "      <td>2.3889</td>\n",
              "      <td>1</td>\n",
              "      <td>273.0</td>\n",
              "      <td>21.0</td>\n",
              "      <td>393.45</td>\n",
              "      <td>6.48</td>\n",
              "      <td>22.0</td>\n",
              "    </tr>\n",
              "    <tr>\n",
              "      <th>505</th>\n",
              "      <td>0.04741</td>\n",
              "      <td>0.0</td>\n",
              "      <td>11.93</td>\n",
              "      <td>0</td>\n",
              "      <td>0.573</td>\n",
              "      <td>6.030</td>\n",
              "      <td>80.8</td>\n",
              "      <td>2.5050</td>\n",
              "      <td>1</td>\n",
              "      <td>273.0</td>\n",
              "      <td>21.0</td>\n",
              "      <td>396.90</td>\n",
              "      <td>7.88</td>\n",
              "      <td>11.9</td>\n",
              "    </tr>\n",
              "  </tbody>\n",
              "</table>\n",
              "<p>506 rows × 14 columns</p>\n",
              "</div>"
            ],
            "text/plain": [
              "        CRIM    ZN  INDUS  CHAS    NOX  ...    TAX  PTRATIO       B  LSTAT  MEDV\n",
              "0    0.00632  18.0   2.31     0  0.538  ...  296.0     15.3  396.90   4.98  24.0\n",
              "1    0.02731   0.0   7.07     0  0.469  ...  242.0     17.8  396.90   9.14  21.6\n",
              "2    0.02729   0.0   7.07     0  0.469  ...  242.0     17.8  392.83   4.03  34.7\n",
              "3    0.03237   0.0   2.18     0  0.458  ...  222.0     18.7  394.63   2.94  33.4\n",
              "4    0.06905   0.0   2.18     0  0.458  ...  222.0     18.7  396.90   5.33  36.2\n",
              "..       ...   ...    ...   ...    ...  ...    ...      ...     ...    ...   ...\n",
              "501  0.06263   0.0  11.93     0  0.573  ...  273.0     21.0  391.99   9.67  22.4\n",
              "502  0.04527   0.0  11.93     0  0.573  ...  273.0     21.0  396.90   9.08  20.6\n",
              "503  0.06076   0.0  11.93     0  0.573  ...  273.0     21.0  396.90   5.64  23.9\n",
              "504  0.10959   0.0  11.93     0  0.573  ...  273.0     21.0  393.45   6.48  22.0\n",
              "505  0.04741   0.0  11.93     0  0.573  ...  273.0     21.0  396.90   7.88  11.9\n",
              "\n",
              "[506 rows x 14 columns]"
            ]
          },
          "metadata": {
            "tags": []
          },
          "execution_count": 5
        }
      ]
    },
    {
      "cell_type": "code",
      "metadata": {
        "id": "B5EnwXsSzEgG",
        "colab_type": "code",
        "colab": {
          "base_uri": "https://localhost:8080/",
          "height": 81,
          "referenced_widgets": [
            "9eb54c9914dc4533906f5ccac9943be5",
            "c04bec615a62406c9b3b1b8471ee2daa",
            "9599d96f2481406f95e716308a94794c",
            "33cf1d384f6f472ea5473d6e6911b3e5",
            "c087811559574e049caef5b486e70aca",
            "2708d7df9661486685d9eb12c464c2a0",
            "99de11a016dd4d54af54b4a000c9e7d2",
            "4fe73325838d4aefb8232cbadbe8224f",
            "1f793aa66ea24e38a2e85b76d115a440",
            "58ae989580b240909418aa71c7803c34",
            "1d442049848842278e0110d1904f9201",
            "029fad72531d41fe88f7669265532829",
            "385387cf79784ee0b94f730ccdc8e898",
            "3c43e0e203e54ff9be54587e9f2f2878"
          ]
        },
        "outputId": "d1325ed4-8106-4b5c-b095-ec1bdd59e1c9"
      },
      "source": [
        "# Utils widgets\n",
        "from ipywidgets import Button, Layout, jslink, IntText, IntSlider,TwoByTwoLayout\n",
        "\n",
        "def create_expanded_button(description, button_style):\n",
        "    return Button(description=description, button_style=button_style, layout=Layout(height='auto', width='auto'))\n",
        "\n",
        "top_left_button = create_expanded_button(\"Top left\", 'info')\n",
        "top_right_button = create_expanded_button(\"Top right\", 'success')\n",
        "bottom_left_button = create_expanded_button(\"Bottom left\", 'danger')\n",
        "bottom_right_button = create_expanded_button(\"Bottom right\", 'warning')\n",
        "\n",
        "top_left_text = IntText(description='Top left', layout=Layout(width='auto', height='auto'))\n",
        "top_right_text = IntText(description='Top right', layout=Layout(width='auto', height='auto'))\n",
        "bottom_left_slider = IntSlider(description='Bottom left', layout=Layout(width='auto', height='auto'))\n",
        "bottom_right_slider = IntSlider(description='Bottom right', layout=Layout(width='auto', height='auto'))\n",
        "\n",
        "\n",
        "TwoByTwoLayout(top_left=top_left_button,\n",
        "               top_right=top_right_button,\n",
        "               bottom_left=bottom_left_button,\n",
        "               bottom_right=bottom_right_button)"
      ],
      "execution_count": 35,
      "outputs": [
        {
          "output_type": "display_data",
          "data": {
            "application/vnd.jupyter.widget-view+json": {
              "model_id": "9eb54c9914dc4533906f5ccac9943be5",
              "version_minor": 0,
              "version_major": 2
            },
            "text/plain": [
              "TwoByTwoLayout(children=(Button(button_style='info', description='Top left', layout=Layout(grid_area='top-left…"
            ]
          },
          "metadata": {
            "tags": []
          }
        }
      ]
    },
    {
      "cell_type": "markdown",
      "metadata": {
        "id": "_h1-62iyRfRf",
        "colab_type": "text"
      },
      "source": [
        "# Chart some of the data\n",
        "\n",
        "['CRIM', 'ZN', 'INDUS', 'CHAS', 'NOX', 'RM', 'AGE', 'DIS', 'RAD', 'TAX',\n",
        "       'PTRATIO', 'B', 'LSTAT', 'MEDV']"
      ]
    },
    {
      "cell_type": "code",
      "metadata": {
        "id": "2CoNlkzsNcIl",
        "colab_type": "code",
        "colab": {
          "base_uri": "https://localhost:8080/",
          "height": 573,
          "referenced_widgets": [
            "0eb7b0ac64cc482cb1356fd95ea10f4d",
            "403d684e960c4756a00736f7715f87f2",
            "f943c340aa4d4839aa9fd089ad188e13",
            "f70edc9919fc43188a29010cfa38ee6c",
            "25f3b0468917436aa4df17557f2c0da6",
            "0dd94518938040c0bbd969cd54f4e193",
            "69aff852e91a48ee8c73d3ef17f23cf1",
            "0fe5923898cb4ca590c75674f2950361",
            "2cc0c55040f0486c9105da5f2073f7b3",
            "52c2658f953b48d59fd2c99bb9fb2a86",
            "464376a829a044cf9d5ded920d4f3855",
            "7ed6a8f203754144ac700093527f055e",
            "4ea4f008fb004e5b8ea55fb70b05143b",
            "2ff4a65beaa84840ac306b10f57827b8"
          ]
        },
        "outputId": "c98c88db-a8a4-44bf-ed19-d22c83c12602"
      },
      "source": [
        "_symbols = ['CRIM', 'ZN', 'INDUS', 'CHAS', 'NOX', 'RM', 'AGE', 'DIS', 'RAD', 'TAX', 'PTRATIO', 'B', 'LSTAT', 'MEDV']\n",
        "import ipywidgets as widgets\n",
        "# data_picker = widgets.Select(\n",
        "#     options=_symbols,\n",
        "#     value=_symbols[0],\n",
        "#     layout={'width': '900'},\n",
        "#     description='X Symbols')\n",
        "\n",
        "data_pickerY = widgets.Select(\n",
        "    options=_symbols,\n",
        "    value=_symbols[0],\n",
        "    layout={'width': '900'},\n",
        "    description='Y Symbols')\n",
        "\n",
        "\n",
        "x_value = _symbols[0]\n",
        "y_value = ''\n",
        "\n",
        "\n",
        "def render(X,Y):\n",
        "  print([X,Y])\n",
        "  return alt.Chart(data_pd).mark_point().encode(\n",
        "      x=X, y=Y\n",
        "  ).interactive()\n",
        "\n",
        "\n",
        "# The value of symbols will come from the stock_picker.\n",
        "@widgets.interact(symbol=data_picker )\n",
        "def actionX(symbol):\n",
        "  x_value = symbol\n",
        "  if (y_value != ''):\n",
        "    return render(x_value,y_value)\n",
        "\n",
        "\n",
        "\n",
        "@widgets.interact(symbol=data_pickerY )\n",
        "def actionY(symbol):\n",
        "  y_value = symbol\n",
        "  return render(x_value,y_value)\n",
        "  \n",
        "\n"
      ],
      "execution_count": 43,
      "outputs": [
        {
          "output_type": "display_data",
          "data": {
            "application/vnd.jupyter.widget-view+json": {
              "model_id": "0eb7b0ac64cc482cb1356fd95ea10f4d",
              "version_minor": 0,
              "version_major": 2
            },
            "text/plain": [
              "interactive(children=(Select(description='X Symbols', index=2, layout=Layout(width='900'), options=('CRIM', 'Z…"
            ]
          },
          "metadata": {
            "tags": []
          }
        },
        {
          "output_type": "display_data",
          "data": {
            "application/vnd.jupyter.widget-view+json": {
              "model_id": "0fe5923898cb4ca590c75674f2950361",
              "version_minor": 0,
              "version_major": 2
            },
            "text/plain": [
              "interactive(children=(Select(description='Y Symbols', layout=Layout(width='900'), options=('CRIM', 'ZN', 'INDU…"
            ]
          },
          "metadata": {
            "tags": []
          }
        }
      ]
    },
    {
      "cell_type": "code",
      "metadata": {
        "id": "016MAz1RvBpq",
        "colab_type": "code",
        "colab": {
          "base_uri": "https://localhost:8080/",
          "height": 860,
          "referenced_widgets": [
            "730af09201b240178b809c3f2d52484f",
            "7275c6ee2c6346f8aa6748a3b5bba1d5",
            "ebf7142bce9740e3b5a711e1343e8447",
            "dc1d2e1c2c6647f8a9623d99a91d55b0",
            "4a12bdb96a3b4afc8d94d6159db8ec6a",
            "24753ac88ae749318b109856c9aff034",
            "447ca5eb40b94c6e96803bd7865d8434"
          ]
        },
        "outputId": "c0054466-8f65-4114-f343-f7a3fc902d2a"
      },
      "source": [
        "import altair as alt\n",
        "import ipywidgets as widgets\n",
        "from vega_datasets import data\n",
        "\n",
        "source = data.stocks()\n",
        "\n",
        "stock_picker = widgets.SelectMultiple(\n",
        "    options=source.symbol.unique(),\n",
        "    value=list(source.symbol.unique()),\n",
        "    description='Symbols')\n",
        "\n",
        "# The value of symbols will come from the stock_picker.\n",
        "@widgets.interact(symbols=stock_picker)\n",
        "def render(symbols):\n",
        "  selected = source[source.symbol.isin(list(symbols))]\n",
        "\n",
        "  return alt.Chart(selected).mark_line().encode(\n",
        "      x='date',\n",
        "      y='price',\n",
        "      color='symbol',\n",
        "      strokeDash='symbol',\n",
        "  )\n",
        "\n",
        "source"
      ],
      "execution_count": 13,
      "outputs": [
        {
          "output_type": "display_data",
          "data": {
            "application/vnd.jupyter.widget-view+json": {
              "model_id": "730af09201b240178b809c3f2d52484f",
              "version_minor": 0,
              "version_major": 2
            },
            "text/plain": [
              "interactive(children=(SelectMultiple(description='Symbols', index=(0, 1, 2, 3, 4), options=('MSFT', 'AMZN', 'I…"
            ]
          },
          "metadata": {
            "tags": []
          }
        },
        {
          "output_type": "execute_result",
          "data": {
            "text/html": [
              "<div>\n",
              "<style scoped>\n",
              "    .dataframe tbody tr th:only-of-type {\n",
              "        vertical-align: middle;\n",
              "    }\n",
              "\n",
              "    .dataframe tbody tr th {\n",
              "        vertical-align: top;\n",
              "    }\n",
              "\n",
              "    .dataframe thead th {\n",
              "        text-align: right;\n",
              "    }\n",
              "</style>\n",
              "<table border=\"1\" class=\"dataframe\">\n",
              "  <thead>\n",
              "    <tr style=\"text-align: right;\">\n",
              "      <th></th>\n",
              "      <th>symbol</th>\n",
              "      <th>date</th>\n",
              "      <th>price</th>\n",
              "    </tr>\n",
              "  </thead>\n",
              "  <tbody>\n",
              "    <tr>\n",
              "      <th>0</th>\n",
              "      <td>MSFT</td>\n",
              "      <td>2000-01-01</td>\n",
              "      <td>39.81</td>\n",
              "    </tr>\n",
              "    <tr>\n",
              "      <th>1</th>\n",
              "      <td>MSFT</td>\n",
              "      <td>2000-02-01</td>\n",
              "      <td>36.35</td>\n",
              "    </tr>\n",
              "    <tr>\n",
              "      <th>2</th>\n",
              "      <td>MSFT</td>\n",
              "      <td>2000-03-01</td>\n",
              "      <td>43.22</td>\n",
              "    </tr>\n",
              "    <tr>\n",
              "      <th>3</th>\n",
              "      <td>MSFT</td>\n",
              "      <td>2000-04-01</td>\n",
              "      <td>28.37</td>\n",
              "    </tr>\n",
              "    <tr>\n",
              "      <th>4</th>\n",
              "      <td>MSFT</td>\n",
              "      <td>2000-05-01</td>\n",
              "      <td>25.45</td>\n",
              "    </tr>\n",
              "    <tr>\n",
              "      <th>...</th>\n",
              "      <td>...</td>\n",
              "      <td>...</td>\n",
              "      <td>...</td>\n",
              "    </tr>\n",
              "    <tr>\n",
              "      <th>555</th>\n",
              "      <td>AAPL</td>\n",
              "      <td>2009-11-01</td>\n",
              "      <td>199.91</td>\n",
              "    </tr>\n",
              "    <tr>\n",
              "      <th>556</th>\n",
              "      <td>AAPL</td>\n",
              "      <td>2009-12-01</td>\n",
              "      <td>210.73</td>\n",
              "    </tr>\n",
              "    <tr>\n",
              "      <th>557</th>\n",
              "      <td>AAPL</td>\n",
              "      <td>2010-01-01</td>\n",
              "      <td>192.06</td>\n",
              "    </tr>\n",
              "    <tr>\n",
              "      <th>558</th>\n",
              "      <td>AAPL</td>\n",
              "      <td>2010-02-01</td>\n",
              "      <td>204.62</td>\n",
              "    </tr>\n",
              "    <tr>\n",
              "      <th>559</th>\n",
              "      <td>AAPL</td>\n",
              "      <td>2010-03-01</td>\n",
              "      <td>223.02</td>\n",
              "    </tr>\n",
              "  </tbody>\n",
              "</table>\n",
              "<p>560 rows × 3 columns</p>\n",
              "</div>"
            ],
            "text/plain": [
              "    symbol       date   price\n",
              "0     MSFT 2000-01-01   39.81\n",
              "1     MSFT 2000-02-01   36.35\n",
              "2     MSFT 2000-03-01   43.22\n",
              "3     MSFT 2000-04-01   28.37\n",
              "4     MSFT 2000-05-01   25.45\n",
              "..     ...        ...     ...\n",
              "555   AAPL 2009-11-01  199.91\n",
              "556   AAPL 2009-12-01  210.73\n",
              "557   AAPL 2010-01-01  192.06\n",
              "558   AAPL 2010-02-01  204.62\n",
              "559   AAPL 2010-03-01  223.02\n",
              "\n",
              "[560 rows x 3 columns]"
            ]
          },
          "metadata": {
            "tags": []
          },
          "execution_count": 13
        }
      ]
    },
    {
      "cell_type": "code",
      "metadata": {
        "id": "N4XxQsWGhws-",
        "colab_type": "code",
        "colab": {}
      },
      "source": [
        "#data_pd.drop(['MEDV'])\n",
        "data_pd.describe()"
      ],
      "execution_count": null,
      "outputs": []
    },
    {
      "cell_type": "code",
      "metadata": {
        "id": "e4CTqZRGuQ8l",
        "colab_type": "code",
        "colab": {}
      },
      "source": [
        "dtype=np.double\n",
        "def col_sort(t,col=0,descending=False):\n",
        "    return t[t[:, col].sort(descending=descending)[1]]\n",
        "\n"
      ],
      "execution_count": null,
      "outputs": []
    },
    {
      "cell_type": "markdown",
      "metadata": {
        "id": "nbZT7IH3L8-C",
        "colab_type": "text"
      },
      "source": [
        "# Normalize the data (function)\n",
        "\n",
        "For each column of X(data)  subtract the mean of the column and scale by the range $$(highest - lowest)$$\n",
        "\n",
        "This normalization maked the algoririthm more stable\n",
        "\n",
        "> _Note:_ <span color=\"red\">Do not mormalize the price column (MEDV)</span>"
      ]
    },
    {
      "cell_type": "code",
      "metadata": {
        "id": "DKi4vn8sL3-2",
        "colab_type": "code",
        "colab": {}
      },
      "source": [
        "def norm(X):\n",
        "    R=(np.amax(X,0)-np.amin(X,0)).reshape(-1,1)\n",
        "    R[X.shape[1]-1][0] = 1.0\n",
        "    M=np.mean(X,0).reshape(-1,1)\n",
        "    M[X.shape[1]-1][0] = 0.0\n",
        "    Mv = M.dot(np.ones((1,X.shape[0]),dtype=dtype)).transpose()\n",
        "    Sc = R.dot(np.ones((1,X.shape[0]),dtype=dtype)).transpose()\n",
        "    return [(X-Mv)/Sc,R,M]"
      ],
      "execution_count": null,
      "outputs": []
    },
    {
      "cell_type": "markdown",
      "metadata": {
        "id": "260TNv_M_08b",
        "colab_type": "text"
      },
      "source": [
        "# Setup MA housing data for regression\n",
        "\n",
        "1. Convert pandas data to numpy\n",
        "2. Place in X all the columns except the price\n",
        "3. Add a '1's column to X _(this is to incorporate the intercept)_\n",
        "4. Put into y the house prices where $y_i$ price corresponding to row $X_i$ \n",
        "5. Initialize $\\phi$ with '1's\n"
      ]
    },
    {
      "cell_type": "code",
      "metadata": {
        "colab_type": "code",
        "id": "cGI8X_LImmoB",
        "colab": {}
      },
      "source": [
        "\n",
        "\n",
        "# !head sample_data/housing-ma.csv\n",
        "ones = np.ones\n",
        "cat = np.concatenate\n",
        "def setup(data_pd,drop=[]):\n",
        "    data_pd = data_pd.drop(drop,axis=1)\n",
        "    Z = data_pd.to_numpy(dtype=np.double,copy=True)\n",
        "    m = Z.shape[0] # m = number of rows of data\n",
        "    n = Z.shape[1]-1 # n = number of columns excluding the house price\n",
        "    X = Z[:,0:n] # remove the house price (last column)\n",
        "\n",
        "    Ones = ones(m,dtype=np.double).reshape(-1,1)\n",
        "    X = cat((X,Ones),1) # add a 1 to each row (to compute the intercept)\n",
        "    y = Z[:,n].reshape(-1,1) # get the house price\n",
        "    phi = np.ones(n+1,dtype=np.double).reshape(-1,1) # initial value of phi\n",
        "    return [X, y, phi]\n",
        "\n"
      ],
      "execution_count": null,
      "outputs": []
    },
    {
      "cell_type": "markdown",
      "metadata": {
        "id": "kSLk57okruOU",
        "colab_type": "text"
      },
      "source": [
        "# Numpy Multivariate regression\n",
        "\n",
        "This method uses gradient descent to iteratively mimimize the cost function (MSE - mean standard error).\n",
        "\n",
        "## Iterative computation of parameters _phi_ (multi variable linear regression)\n",
        "\n",
        "$phi (\\phi) $ are the regression parematers\n",
        "\n",
        "*  find $\\phi$ that minimizes cost\n",
        "  *  *where:*    $Cost^2 = MSE = \\frac{(X\\phi -y)^T(X\\phi -y)}{2m}$\n",
        "   * $\\phi$ is a minimum when $\\frac{\\partial{(Cost^2)}}{\\partial\\phi} = 0$\n",
        "   * i.e. $\\frac{\\partial{(Cost^2)}}{\\partial\\phi} = \\frac{X^T(X\\phi - y)}{m} = 0$\n",
        "   * by gradient descent we can compute successive values of $\\phi_j$ \n",
        "       * $  \\phi_j = \\phi_{j-1} - \\alpha \\frac{\\partial{(Cost^2)}}{\\partial\\phi}$\n",
        "       * Resulting in the following:\n",
        "          * $  \\phi_j = \\phi_{j-1} - \\alpha X^T(X\\phi_{j-1} - y)$\n",
        "          * $\\alpha$ is the learning rate is a small scalar such as 0.05\n",
        "\n",
        "#### Where  \n",
        "*X* = input data of [$m \\times n$] matrix \n",
        "\n",
        "*  m = number of data rows, \n",
        "*  n = number of independent attributes of each data row\n",
        "\n",
        "*y* = output (house price), vector of length $m$\n",
        "\n",
        "_phi_ ($\\phi$) = regression coefficients\n",
        "and\n",
        "\n",
        "_Where_: X$\\phi$ (matrix multiply) = prediced house price\n",
        "\n",
        "$Predicted_i = \\sum_{j=1}^{n} X_{ij} * \\phi_j$"
      ]
    },
    {
      "cell_type": "code",
      "metadata": {
        "id": "MDrMhFx0B7vY",
        "colab_type": "code",
        "colab": {}
      },
      "source": [
        "import math\n",
        "tr = np.transpose\n",
        "\n",
        "def cost(X,phi,Y):\n",
        "    m = X.shape[0];\n",
        "    return math.sqrt((1/(2*m))*(tr(X@phi - Y)@(X@phi - Y)).item())"
      ],
      "execution_count": null,
      "outputs": []
    },
    {
      "cell_type": "markdown",
      "metadata": {
        "id": "wKdgwRiODsDn",
        "colab_type": "text"
      },
      "source": [
        "# Gradient decent for finding $\\phi$ to minimise cost"
      ]
    },
    {
      "cell_type": "code",
      "metadata": {
        "id": "IExVqhaNrsQU",
        "colab_type": "code",
        "colab": {}
      },
      "source": [
        "\n",
        "\n",
        "def npSolve(X,y,iter=2,alpha=0.05):\n",
        "    W, Range,Mean = norm(X) # normalize the data\n",
        "\n",
        "    phi = ones((X.shape[1],1),dtype=np.double)\n",
        "    cost_list = []\n",
        "    Y = y\n",
        "    m = X.shape[0]\n",
        "    \n",
        "    for i in range(iter):\n",
        "        delta = alpha*(1/m)*(W.T)@(W@phi - Y) \n",
        "        phi = phi - delta\n",
        "        cost_val = cost(W,phi,Y)\n",
        "        cost_list.append(cost_val)\n",
        "        \n",
        "    intercept = np.zeros_like(Mean)\n",
        "    intercept[-1][0] = (phi*Mean/Range).sum().item()\n",
        "    phi = phi/Range - intercept\n",
        "    return [phi,cost_list]    "
      ],
      "execution_count": null,
      "outputs": []
    },
    {
      "cell_type": "markdown",
      "metadata": {
        "id": "wdRJ5rhG6PyU",
        "colab_type": "text"
      },
      "source": [
        "# Iterative computation of parameters _phi_ (multi variable linear regression)\n",
        "\n",
        "#### Where  \n",
        "*X* = input data of [$m \\times n$] matrix \n",
        "\n",
        "*  m = number of data rows, \n",
        "*  n = number of independent attributes of each data row\n",
        "\n",
        "*y* = output (house price), vector of length $m$\n",
        "\n",
        "_phi_ ($\\phi$) = regression coefficients\n",
        "and\n",
        "\n",
        "_Where_: X$\\phi$ (matrix multiply) = prediced house price\n",
        "\n",
        "$Predicted_i = \\sum_{j=1}^{n} X_{ij} * \\phi_j$\n",
        "\n",
        "\n",
        "        "
      ]
    },
    {
      "cell_type": "code",
      "metadata": {
        "id": "eAw58JNr2l7t",
        "colab_type": "code",
        "colab": {}
      },
      "source": [
        "#%%time\n",
        "X, y, phi = setup(data_pd, drop=[])   \n",
        "\n",
        "#print(\"input\\n\", X)\n",
        "#print(\"house price (first 10)\\n\",y[0:10])\n",
        "\n",
        "phi,cost_list = npSolve(X,y,500,0.5)\n",
        "\n",
        "print(phi, cost(X,phi,y))\n",
        "\n",
        "pl = pd.DataFrame({\"iteration\": range(len(cost_list)),\n",
        "                  \"cost\":cost_list})\n",
        "\n",
        "alt.Chart(pl).mark_point().encode(\n",
        "    x='iteration', y=\"cost\"\n",
        ").interactive()"
      ],
      "execution_count": null,
      "outputs": []
    },
    {
      "cell_type": "code",
      "metadata": {
        "id": "I_JlUk0vYy_9",
        "colab_type": "code",
        "colab": {}
      },
      "source": [
        "X1,Range,Mean = norm(X)\n",
        "Mean"
      ],
      "execution_count": null,
      "outputs": []
    },
    {
      "cell_type": "markdown",
      "metadata": {
        "id": "7MUL1WJw0Mad",
        "colab_type": "text"
      },
      "source": [
        "# Perform Multivariate regression (directly - no iteration)\n",
        "\n",
        "We previously saw that for minimum $\\phi$\n",
        "* We have the following\n",
        "* $\\frac{X^T(X\\phi - y)}{m} = 0$\n",
        "  * multiplying bost sides by $m$\n",
        "* $X^T(X\\phi - y) = 0$\n",
        "  * Multiplying by $X^T$ - _distributive property_\n",
        "* $X^T(X\\phi) -  X^Ty = 0$\n",
        "  * Rearanging\n",
        "* $(X^TX)\\phi =  X^Ty$\n",
        "----\n",
        "   * Multiply both sides by the inverse of $X^TX$\n",
        "\n",
        "* $(X^TX)^{-1} (X^TX)\\phi = (X^TX)^{-1} X^Ty$\n",
        "   * since  ${(X^TX)^{-1} (X^TX)} = I (identity)$\n",
        "* we get the following: $I \\phi = (X^TX)^{-1} X^Ty$\n",
        "----\n",
        " **Therefore we get the very simple formula for $\\phi$**\n",
        "   * *$\\phi = (X^TX)^{-1} X^Ty$*\n",
        "----\n",
        "&nbsp;\n",
        "\n",
        "Note the following rules for matrix multiply\n",
        "* $A(BC) = (AB)C$\n",
        "  * and\n",
        "* $A(B+C) = AB + BC$ - _distributive property_\n",
        "\n"
      ]
    },
    {
      "cell_type": "code",
      "metadata": {
        "id": "JhGbiV6E0J7N",
        "colab_type": "code",
        "colab": {}
      },
      "source": [
        "%%time\n",
        "\n",
        "inv = np.linalg.inv # invert a matrix\n",
        "\n",
        "# See how simple the formulation can be using only linear algebra\n",
        "def solve(X,y):\n",
        "  return inv(X.T@X) @ (X.T@y)\n",
        "\n",
        "phi2 = solve(X,y)  \n",
        "print(\"cost=\", cost(X,phi2,y),\"diff = \", cost(X,phi,y)-cost(X,phi2,y)) # compare the cost of direct method and iterative method\n",
        "#[phi,phi2, cost(X,phi2,y)-cost(X,phi,y), np.abs((phi-phi2)/phi*100)]"
      ],
      "execution_count": null,
      "outputs": []
    },
    {
      "cell_type": "markdown",
      "metadata": {
        "id": "qUYLuxFZRJzo",
        "colab_type": "text"
      },
      "source": [
        "# Draw chart of actual price against prediced price\n"
      ]
    },
    {
      "cell_type": "code",
      "metadata": {
        "id": "M80q-8vKPEps",
        "colab_type": "code",
        "colab": {}
      },
      "source": [
        "results = pd.DataFrame({\"predicted\": (X@phi2).reshape(-1),\n",
        "                        \"actual\": y.reshape(-1)})\n",
        "\n",
        "alt.Chart(results).mark_point().encode(\n",
        "    x='actual', y=\"predicted\",\n",
        "    tooltip=['actual', 'predicted']\n",
        ").interactive()"
      ],
      "execution_count": null,
      "outputs": []
    },
    {
      "cell_type": "code",
      "metadata": {
        "id": "DvLzFMK6bqtC",
        "colab_type": "code",
        "colab": {}
      },
      "source": [
        "R, actual, phi = setup(results)   \n",
        "\n",
        "#print(\"input\\n\", X)\n",
        "#print(\"house price (first 10)\\n\",y[0:10])\n",
        "\n",
        "phi_r = solve(R,actual)\n",
        "print(phi_r, cost(R,phi_r,actual))\n",
        "results = pd.DataFrame({\"predicted\": (R@phi_r).reshape(-1),\n",
        "                        \"actual\": actual.reshape(-1)})\n",
        "\n",
        "alt.Chart(results).mark_point().encode(\n",
        "    x='actual', y=\"predicted\",\n",
        "    tooltip=['actual', 'predicted']\n",
        ").interactive()"
      ],
      "execution_count": null,
      "outputs": []
    },
    {
      "cell_type": "code",
      "metadata": {
        "id": "lrMFDwPUVQDC",
        "colab_type": "code",
        "colab": {}
      },
      "source": [
        "# from vega_datasets import data\n",
        "\n",
        "# source = data.cars()\n",
        "\n",
        "# alt.Chart(source).mark_circle(size=60).encode(\n",
        "#     x='Horsepower',\n",
        "#     y='Miles_per_Gallon',\n",
        "#     color='Origin',\n",
        "#     tooltip=['Name', 'Origin', 'Horsepower', 'Miles_per_Gallon']\n",
        "# ).interactive()"
      ],
      "execution_count": null,
      "outputs": []
    },
    {
      "cell_type": "code",
      "metadata": {
        "id": "Ku4W03TjV3G_",
        "colab_type": "code",
        "colab": {}
      },
      "source": [
        "# np.random.seed(1)\n",
        "\n",
        "# source = pd.DataFrame({\n",
        "#     'x': np.arange(100),\n",
        "#     'A': np.random.randn(100).cumsum(),\n",
        "#     'B': np.random.randn(100).cumsum(),\n",
        "#     'C': np.random.randn(100).cumsum(),\n",
        "# })\n",
        "\n",
        "# base = alt.Chart(source).mark_circle(opacity=0.5).transform_fold(\n",
        "#     fold=['A', 'B', 'C'],\n",
        "#     as_=['category', 'y']\n",
        "# ).encode(\n",
        "#     alt.X('x:Q'),\n",
        "#     alt.Y('y:Q'),\n",
        "#     alt.Color('category:N')\n",
        "# )\n",
        "\n",
        "# base + base.transform_loess('x', 'y', groupby=['category']).mark_line(size=4)\n"
      ],
      "execution_count": null,
      "outputs": []
    },
    {
      "cell_type": "code",
      "metadata": {
        "id": "nOKN8P0yWF8t",
        "colab_type": "code",
        "colab": {}
      },
      "source": [
        "data_pd.columns"
      ],
      "execution_count": null,
      "outputs": []
    },
    {
      "cell_type": "code",
      "metadata": {
        "id": "Oa5lcEdsWBMZ",
        "colab_type": "code",
        "colab": {}
      },
      "source": [
        "\n",
        "\n",
        "from sklearn import preprocessing\n",
        "def showPlot(key=\"\"):\n",
        "  c = list(data_pd.columns);\n",
        "  c.remove(key)\n",
        "  c.remove('MEDV')\n",
        "  df = data_pd.drop(c,axis=1).sort_values(['MEDV'])\n",
        "  ln = len(df.columns)\n",
        "  cols = list(df.columns)\n",
        "  x = df.values[:,0:ln-1] #returns a numpy array\n",
        "  min_max_scaler = preprocessing.MinMaxScaler()\n",
        "  x_scaled = min_max_scaler.fit_transform(x)\n",
        "  # print(np.concatenate((x_scaled,df.values[:,ln-1].reshape(-1,1)), axis=1))\n",
        "  df = pd.DataFrame(np.concatenate((x_scaled,df.values[:,ln-1].reshape(-1,1)),axis=1))\n",
        "  # print(\"DF\",df)\n",
        "  newCols = dict(list(zip( list(range(0,ln)), cols)))\n",
        "  df= df.rename(columns=newCols)\n",
        "  # print(df)\n",
        "  cols.remove('MEDV') \n",
        "  base = alt.Chart(df).mark_circle(opacity=0.5).transform_fold(\n",
        "      fold=cols ,              #['CRIM', 'ZN', 'INDUS', 'CHAS', 'NOX', 'RM', 'AGE', 'DIS', 'RAD', 'TAX', 'PTRATIO', 'B', 'LSTAT'],\n",
        "      as_=['category', 'y']\n",
        "  ).encode(\n",
        "      alt.X('MEDV:Q'),\n",
        "      alt.Y('y:Q'),\n",
        "      alt.Color('category:N')\n",
        "  )\n",
        "  \n",
        "  return base + base.transform_loess('x', 'y', groupby=['category']).mark_line(size=4)\n",
        "  return df\n",
        "\n",
        "#####\n",
        "print(list(data_pd.columns))\n",
        "showPlot('PTRATIO')\n"
      ],
      "execution_count": null,
      "outputs": []
    },
    {
      "cell_type": "code",
      "metadata": {
        "id": "j-7zDyudZ44P",
        "colab_type": "code",
        "colab": {}
      },
      "source": [
        "dict(list(zip( list(range(1,14)), list(data_pd.columns))))\n",
        "# list(zip( list(range(0,ln-1)), cols))\n",
        "data_pd"
      ],
      "execution_count": null,
      "outputs": []
    },
    {
      "cell_type": "code",
      "metadata": {
        "id": "ozajj8jOfugP",
        "colab_type": "code",
        "colab": {}
      },
      "source": [
        "list(data_pd.columns).remove('MEDV')"
      ],
      "execution_count": null,
      "outputs": []
    }
  ]
}