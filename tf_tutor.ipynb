{
  "nbformat": 4,
  "nbformat_minor": 0,
  "metadata": {
    "colab": {
      "name": "tf-tutor.ipynb",
      "provenance": [],
      "collapsed_sections": [],
      "toc_visible": true,
      "mount_file_id": "1khniD3ToLJ8Cu1vfisUn--67Vz35fnqE",
      "authorship_tag": "ABX9TyO27icS+bg7vDs6Utb6kA8w",
      "include_colab_link": true
    },
    "kernelspec": {
      "name": "python3",
      "display_name": "Python 3"
    }
  },
  "cells": [
    {
      "cell_type": "markdown",
      "metadata": {
        "id": "view-in-github",
        "colab_type": "text"
      },
      "source": [
        "<a href=\"https://colab.research.google.com/github/nurulc/ATM/blob/master/tf_tutor.ipynb\" target=\"_parent\"><img src=\"https://colab.research.google.com/assets/colab-badge.svg\" alt=\"Open In Colab\"/></a>"
      ]
    },
    {
      "cell_type": "code",
      "metadata": {
        "id": "ziH-agmfSefN",
        "colab_type": "code",
        "colab": {}
      },
      "source": [
        "import numpy as np\n",
        "#from google.colab import drive\n",
        "import ipywidgets as widgets\n",
        "import altair as alt\n",
        "\n",
        "#import os"
      ],
      "execution_count": 120,
      "outputs": []
    },
    {
      "cell_type": "code",
      "metadata": {
        "id": "x9XCM-DPMBEq",
        "colab_type": "code",
        "colab": {}
      },
      "source": [
        ""
      ],
      "execution_count": 1,
      "outputs": []
    },
    {
      "cell_type": "code",
      "metadata": {
        "id": "Fx6y_4eEIO4Z",
        "colab_type": "code",
        "colab": {
          "base_uri": "https://localhost:8080/",
          "height": 35
        },
        "outputId": "6c136927-54bb-4a2d-826e-8eeaee5f15cf"
      },
      "source": [
        "![[ -f housing-ma.csv ]] || echo no"
      ],
      "execution_count": 3,
      "outputs": [
        {
          "output_type": "stream",
          "text": [
            "no\n"
          ],
          "name": "stdout"
        }
      ]
    },
    {
      "cell_type": "markdown",
      "metadata": {
        "id": "9WoWUwtCSjSF",
        "colab_type": "text"
      },
      "source": [
        "# Fetch MA Housing data from github"
      ]
    },
    {
      "cell_type": "code",
      "metadata": {
        "id": "7cFFBEhnSlzG",
        "colab_type": "code",
        "colab": {
          "base_uri": "https://localhost:8080/",
          "height": 381
        },
        "outputId": "b4c51672-b143-40b3-ce6a-c295d0fd242f"
      },
      "source": [
        "\n",
        "#drive.mount('content/gdrive')\n",
        "# !head drive/My\\ Drive/housing-ma.csv\n",
        "#!head \"/content/drive/My Drive/Colab Notebooks/Copy of tf-tutor.ipynb\"\n",
        "\n",
        "![[ -f housing-ma.csv ]] || wget https://raw.githubusercontent.com/nurulc/ATM/master/housing-ma.csv \n",
        "\n",
        "!head housing-ma.csv\n",
        "\n"
      ],
      "execution_count": 5,
      "outputs": [
        {
          "output_type": "stream",
          "text": [
            "--2020-07-30 20:04:03--  https://raw.githubusercontent.com/nurulc/ATM/master/housing-ma.csv\n",
            "Resolving raw.githubusercontent.com (raw.githubusercontent.com)... 151.101.0.133, 151.101.64.133, 151.101.128.133, ...\n",
            "Connecting to raw.githubusercontent.com (raw.githubusercontent.com)|151.101.0.133|:443... connected.\n",
            "HTTP request sent, awaiting response... 200 OK\n",
            "Length: 41359 (40K) [text/plain]\n",
            "Saving to: ‘housing-ma.csv’\n",
            "\n",
            "\rhousing-ma.csv        0%[                    ]       0  --.-KB/s               \rhousing-ma.csv      100%[===================>]  40.39K  --.-KB/s    in 0.02s   \n",
            "\n",
            "2020-07-30 20:04:03 (2.61 MB/s) - ‘housing-ma.csv’ saved [41359/41359]\n",
            "\n",
            "CRIM,ZN,INDUS,CHAS,NOX,RM,AGE,DIS,RAD,TAX,PTRATIO,B,LSTAT,MEDV\n",
            "0.00632,18.00,2.310,0,0.5380,6.5750,65.20,4.0900,1,296.0,15.30,396.90,4.98,24.00\n",
            "0.02731,0.00,7.070,0,0.4690,6.4210,78.90,4.9671,2,242.0,17.80,396.90,9.14,21.60\n",
            "0.02729,0.00,7.070,0,0.4690,7.1850,61.10,4.9671,2,242.0,17.80,392.83,4.03,34.70\n",
            "0.03237,0.00,2.180,0,0.4580,6.9980,45.80,6.0622,3,222.0,18.70,394.63,2.94,33.40\n",
            "0.06905,0.00,2.180,0,0.4580,7.1470,54.20,6.0622,3,222.0,18.70,396.90,5.33,36.20\n",
            "0.02985,0.00,2.180,0,0.4580,6.4300,58.70,6.0622,3,222.0,18.70,394.12,5.21,28.70\n",
            "0.08829,12.50,7.870,0,0.5240,6.0120,66.60,5.5605,5,311.0,15.20,395.60,12.43,22.90\n",
            "0.14455,12.50,7.870,0,0.5240,6.1720,96.10,5.9505,5,311.0,15.20,396.90,19.15,27.10\n",
            "0.21124,12.50,7.870,0,0.5240,5.6310,100.00,6.0821,5,311.0,15.20,386.63,29.93,16.50\n"
          ],
          "name": "stdout"
        }
      ]
    },
    {
      "cell_type": "code",
      "metadata": {
        "id": "mTNBo--8-RsO",
        "colab_type": "code",
        "colab": {
          "base_uri": "https://localhost:8080/",
          "height": 35
        },
        "outputId": "cbcbed79-7395-45f0-f850-b08e0d362b74"
      },
      "source": [
        "!ls\n"
      ],
      "execution_count": 4,
      "outputs": [
        {
          "output_type": "stream",
          "text": [
            "drive  gdrive  housing-ma.csv  sample_data\n"
          ],
          "name": "stdout"
        }
      ]
    },
    {
      "cell_type": "markdown",
      "metadata": {
        "id": "1tURubCPJ8Xc",
        "colab_type": "text"
      },
      "source": [
        "# Read MA housing data into a pandas table"
      ]
    },
    {
      "cell_type": "code",
      "metadata": {
        "id": "9lthQr2IfhmQ",
        "colab_type": "code",
        "colab": {
          "base_uri": "https://localhost:8080/",
          "height": 415
        },
        "outputId": "f3a35497-60ed-4f49-c4ea-6f169c0e3684"
      },
      "source": [
        "import pandas as pd\n",
        "import io\n",
        "data_pd = pd.read_csv(io.FileIO('housing-ma.csv'))\n",
        "data_pd\n"
      ],
      "execution_count": 6,
      "outputs": [
        {
          "output_type": "execute_result",
          "data": {
            "text/html": [
              "<div>\n",
              "<style scoped>\n",
              "    .dataframe tbody tr th:only-of-type {\n",
              "        vertical-align: middle;\n",
              "    }\n",
              "\n",
              "    .dataframe tbody tr th {\n",
              "        vertical-align: top;\n",
              "    }\n",
              "\n",
              "    .dataframe thead th {\n",
              "        text-align: right;\n",
              "    }\n",
              "</style>\n",
              "<table border=\"1\" class=\"dataframe\">\n",
              "  <thead>\n",
              "    <tr style=\"text-align: right;\">\n",
              "      <th></th>\n",
              "      <th>CRIM</th>\n",
              "      <th>ZN</th>\n",
              "      <th>INDUS</th>\n",
              "      <th>CHAS</th>\n",
              "      <th>NOX</th>\n",
              "      <th>RM</th>\n",
              "      <th>AGE</th>\n",
              "      <th>DIS</th>\n",
              "      <th>RAD</th>\n",
              "      <th>TAX</th>\n",
              "      <th>PTRATIO</th>\n",
              "      <th>B</th>\n",
              "      <th>LSTAT</th>\n",
              "      <th>MEDV</th>\n",
              "    </tr>\n",
              "  </thead>\n",
              "  <tbody>\n",
              "    <tr>\n",
              "      <th>0</th>\n",
              "      <td>0.00632</td>\n",
              "      <td>18.0</td>\n",
              "      <td>2.31</td>\n",
              "      <td>0</td>\n",
              "      <td>0.538</td>\n",
              "      <td>6.575</td>\n",
              "      <td>65.2</td>\n",
              "      <td>4.0900</td>\n",
              "      <td>1</td>\n",
              "      <td>296.0</td>\n",
              "      <td>15.3</td>\n",
              "      <td>396.90</td>\n",
              "      <td>4.98</td>\n",
              "      <td>24.0</td>\n",
              "    </tr>\n",
              "    <tr>\n",
              "      <th>1</th>\n",
              "      <td>0.02731</td>\n",
              "      <td>0.0</td>\n",
              "      <td>7.07</td>\n",
              "      <td>0</td>\n",
              "      <td>0.469</td>\n",
              "      <td>6.421</td>\n",
              "      <td>78.9</td>\n",
              "      <td>4.9671</td>\n",
              "      <td>2</td>\n",
              "      <td>242.0</td>\n",
              "      <td>17.8</td>\n",
              "      <td>396.90</td>\n",
              "      <td>9.14</td>\n",
              "      <td>21.6</td>\n",
              "    </tr>\n",
              "    <tr>\n",
              "      <th>2</th>\n",
              "      <td>0.02729</td>\n",
              "      <td>0.0</td>\n",
              "      <td>7.07</td>\n",
              "      <td>0</td>\n",
              "      <td>0.469</td>\n",
              "      <td>7.185</td>\n",
              "      <td>61.1</td>\n",
              "      <td>4.9671</td>\n",
              "      <td>2</td>\n",
              "      <td>242.0</td>\n",
              "      <td>17.8</td>\n",
              "      <td>392.83</td>\n",
              "      <td>4.03</td>\n",
              "      <td>34.7</td>\n",
              "    </tr>\n",
              "    <tr>\n",
              "      <th>3</th>\n",
              "      <td>0.03237</td>\n",
              "      <td>0.0</td>\n",
              "      <td>2.18</td>\n",
              "      <td>0</td>\n",
              "      <td>0.458</td>\n",
              "      <td>6.998</td>\n",
              "      <td>45.8</td>\n",
              "      <td>6.0622</td>\n",
              "      <td>3</td>\n",
              "      <td>222.0</td>\n",
              "      <td>18.7</td>\n",
              "      <td>394.63</td>\n",
              "      <td>2.94</td>\n",
              "      <td>33.4</td>\n",
              "    </tr>\n",
              "    <tr>\n",
              "      <th>4</th>\n",
              "      <td>0.06905</td>\n",
              "      <td>0.0</td>\n",
              "      <td>2.18</td>\n",
              "      <td>0</td>\n",
              "      <td>0.458</td>\n",
              "      <td>7.147</td>\n",
              "      <td>54.2</td>\n",
              "      <td>6.0622</td>\n",
              "      <td>3</td>\n",
              "      <td>222.0</td>\n",
              "      <td>18.7</td>\n",
              "      <td>396.90</td>\n",
              "      <td>5.33</td>\n",
              "      <td>36.2</td>\n",
              "    </tr>\n",
              "    <tr>\n",
              "      <th>...</th>\n",
              "      <td>...</td>\n",
              "      <td>...</td>\n",
              "      <td>...</td>\n",
              "      <td>...</td>\n",
              "      <td>...</td>\n",
              "      <td>...</td>\n",
              "      <td>...</td>\n",
              "      <td>...</td>\n",
              "      <td>...</td>\n",
              "      <td>...</td>\n",
              "      <td>...</td>\n",
              "      <td>...</td>\n",
              "      <td>...</td>\n",
              "      <td>...</td>\n",
              "    </tr>\n",
              "    <tr>\n",
              "      <th>501</th>\n",
              "      <td>0.06263</td>\n",
              "      <td>0.0</td>\n",
              "      <td>11.93</td>\n",
              "      <td>0</td>\n",
              "      <td>0.573</td>\n",
              "      <td>6.593</td>\n",
              "      <td>69.1</td>\n",
              "      <td>2.4786</td>\n",
              "      <td>1</td>\n",
              "      <td>273.0</td>\n",
              "      <td>21.0</td>\n",
              "      <td>391.99</td>\n",
              "      <td>9.67</td>\n",
              "      <td>22.4</td>\n",
              "    </tr>\n",
              "    <tr>\n",
              "      <th>502</th>\n",
              "      <td>0.04527</td>\n",
              "      <td>0.0</td>\n",
              "      <td>11.93</td>\n",
              "      <td>0</td>\n",
              "      <td>0.573</td>\n",
              "      <td>6.120</td>\n",
              "      <td>76.7</td>\n",
              "      <td>2.2875</td>\n",
              "      <td>1</td>\n",
              "      <td>273.0</td>\n",
              "      <td>21.0</td>\n",
              "      <td>396.90</td>\n",
              "      <td>9.08</td>\n",
              "      <td>20.6</td>\n",
              "    </tr>\n",
              "    <tr>\n",
              "      <th>503</th>\n",
              "      <td>0.06076</td>\n",
              "      <td>0.0</td>\n",
              "      <td>11.93</td>\n",
              "      <td>0</td>\n",
              "      <td>0.573</td>\n",
              "      <td>6.976</td>\n",
              "      <td>91.0</td>\n",
              "      <td>2.1675</td>\n",
              "      <td>1</td>\n",
              "      <td>273.0</td>\n",
              "      <td>21.0</td>\n",
              "      <td>396.90</td>\n",
              "      <td>5.64</td>\n",
              "      <td>23.9</td>\n",
              "    </tr>\n",
              "    <tr>\n",
              "      <th>504</th>\n",
              "      <td>0.10959</td>\n",
              "      <td>0.0</td>\n",
              "      <td>11.93</td>\n",
              "      <td>0</td>\n",
              "      <td>0.573</td>\n",
              "      <td>6.794</td>\n",
              "      <td>89.3</td>\n",
              "      <td>2.3889</td>\n",
              "      <td>1</td>\n",
              "      <td>273.0</td>\n",
              "      <td>21.0</td>\n",
              "      <td>393.45</td>\n",
              "      <td>6.48</td>\n",
              "      <td>22.0</td>\n",
              "    </tr>\n",
              "    <tr>\n",
              "      <th>505</th>\n",
              "      <td>0.04741</td>\n",
              "      <td>0.0</td>\n",
              "      <td>11.93</td>\n",
              "      <td>0</td>\n",
              "      <td>0.573</td>\n",
              "      <td>6.030</td>\n",
              "      <td>80.8</td>\n",
              "      <td>2.5050</td>\n",
              "      <td>1</td>\n",
              "      <td>273.0</td>\n",
              "      <td>21.0</td>\n",
              "      <td>396.90</td>\n",
              "      <td>7.88</td>\n",
              "      <td>11.9</td>\n",
              "    </tr>\n",
              "  </tbody>\n",
              "</table>\n",
              "<p>506 rows × 14 columns</p>\n",
              "</div>"
            ],
            "text/plain": [
              "        CRIM    ZN  INDUS  CHAS    NOX  ...    TAX  PTRATIO       B  LSTAT  MEDV\n",
              "0    0.00632  18.0   2.31     0  0.538  ...  296.0     15.3  396.90   4.98  24.0\n",
              "1    0.02731   0.0   7.07     0  0.469  ...  242.0     17.8  396.90   9.14  21.6\n",
              "2    0.02729   0.0   7.07     0  0.469  ...  242.0     17.8  392.83   4.03  34.7\n",
              "3    0.03237   0.0   2.18     0  0.458  ...  222.0     18.7  394.63   2.94  33.4\n",
              "4    0.06905   0.0   2.18     0  0.458  ...  222.0     18.7  396.90   5.33  36.2\n",
              "..       ...   ...    ...   ...    ...  ...    ...      ...     ...    ...   ...\n",
              "501  0.06263   0.0  11.93     0  0.573  ...  273.0     21.0  391.99   9.67  22.4\n",
              "502  0.04527   0.0  11.93     0  0.573  ...  273.0     21.0  396.90   9.08  20.6\n",
              "503  0.06076   0.0  11.93     0  0.573  ...  273.0     21.0  396.90   5.64  23.9\n",
              "504  0.10959   0.0  11.93     0  0.573  ...  273.0     21.0  393.45   6.48  22.0\n",
              "505  0.04741   0.0  11.93     0  0.573  ...  273.0     21.0  396.90   7.88  11.9\n",
              "\n",
              "[506 rows x 14 columns]"
            ]
          },
          "metadata": {
            "tags": []
          },
          "execution_count": 6
        }
      ]
    },
    {
      "cell_type": "markdown",
      "metadata": {
        "id": "_h1-62iyRfRf",
        "colab_type": "text"
      },
      "source": [
        "# Chart some of the data\n",
        "\n",
        "['CRIM', 'ZN', 'INDUS', 'CHAS', 'NOX', 'RM', 'AGE', 'DIS', 'RAD', 'TAX',\n",
        "       'PTRATIO', 'B', 'LSTAT', 'MEDV']"
      ]
    },
    {
      "cell_type": "code",
      "metadata": {
        "id": "2CoNlkzsNcIl",
        "colab_type": "code",
        "colab": {
          "base_uri": "https://localhost:8080/",
          "height": 368
        },
        "outputId": "ce90ba30-6197-4e73-f97a-a790aa2d150e"
      },
      "source": [
        "['CRIM', 'ZN', 'INDUS', 'CHAS', 'NOX', 'RM', 'AGE', 'DIS', 'RAD', 'TAX', 'PTRATIO', 'B', 'LSTAT', 'MEDV']\n",
        "\n",
        "alt.Chart(data_pd).mark_point().encode(\n",
        "    x='AGE', y=\"NOX\"\n",
        ").interactive()\n"
      ],
      "execution_count": 119,
      "outputs": [
        {
          "output_type": "execute_result",
          "data": {
            "text/plain": [
              "alt.Chart(...)"
            ],
            "text/html": [
              "\n",
              "<div id=\"altair-viz-7b83593536414cff935c3b5685ccc7db\"></div>\n",
              "<script type=\"text/javascript\">\n",
              "  (function(spec, embedOpt){\n",
              "    let outputDiv = document.currentScript.previousElementSibling;\n",
              "    if (outputDiv.id !== \"altair-viz-7b83593536414cff935c3b5685ccc7db\") {\n",
              "      outputDiv = document.getElementById(\"altair-viz-7b83593536414cff935c3b5685ccc7db\");\n",
              "    }\n",
              "    const paths = {\n",
              "      \"vega\": \"https://cdn.jsdelivr.net/npm//vega@5?noext\",\n",
              "      \"vega-lib\": \"https://cdn.jsdelivr.net/npm//vega-lib?noext\",\n",
              "      \"vega-lite\": \"https://cdn.jsdelivr.net/npm//vega-lite@4.8.1?noext\",\n",
              "      \"vega-embed\": \"https://cdn.jsdelivr.net/npm//vega-embed@6?noext\",\n",
              "    };\n",
              "\n",
              "    function loadScript(lib) {\n",
              "      return new Promise(function(resolve, reject) {\n",
              "        var s = document.createElement('script');\n",
              "        s.src = paths[lib];\n",
              "        s.async = true;\n",
              "        s.onload = () => resolve(paths[lib]);\n",
              "        s.onerror = () => reject(`Error loading script: ${paths[lib]}`);\n",
              "        document.getElementsByTagName(\"head\")[0].appendChild(s);\n",
              "      });\n",
              "    }\n",
              "\n",
              "    function showError(err) {\n",
              "      outputDiv.innerHTML = `<div class=\"error\" style=\"color:red;\">${err}</div>`;\n",
              "      throw err;\n",
              "    }\n",
              "\n",
              "    function displayChart(vegaEmbed) {\n",
              "      vegaEmbed(outputDiv, spec, embedOpt)\n",
              "        .catch(err => showError(`Javascript Error: ${err.message}<br>This usually means there's a typo in your chart specification. See the javascript console for the full traceback.`));\n",
              "    }\n",
              "\n",
              "    if(typeof define === \"function\" && define.amd) {\n",
              "      requirejs.config({paths});\n",
              "      require([\"vega-embed\"], displayChart, err => showError(`Error loading script: ${err.message}`));\n",
              "    } else if (typeof vegaEmbed === \"function\") {\n",
              "      displayChart(vegaEmbed);\n",
              "    } else {\n",
              "      loadScript(\"vega\")\n",
              "        .then(() => loadScript(\"vega-lite\"))\n",
              "        .then(() => loadScript(\"vega-embed\"))\n",
              "        .catch(showError)\n",
              "        .then(() => displayChart(vegaEmbed));\n",
              "    }\n",
              "  })({\"config\": {\"view\": {\"continuousWidth\": 400, \"continuousHeight\": 300}}, \"data\": {\"name\": \"data-3fe26e012dd3506009ca2cd337ecf459\"}, \"mark\": \"point\", \"encoding\": {\"x\": {\"type\": \"quantitative\", \"field\": \"AGE\"}, \"y\": {\"type\": \"quantitative\", \"field\": \"NOX\"}}, \"selection\": {\"selector001\": {\"type\": \"interval\", \"bind\": \"scales\", \"encodings\": [\"x\", \"y\"]}}, \"$schema\": \"https://vega.github.io/schema/vega-lite/v4.8.1.json\", \"datasets\": {\"data-3fe26e012dd3506009ca2cd337ecf459\": [{\"CRIM\": 0.00632, \"ZN\": 18.0, \"INDUS\": 2.31, \"CHAS\": 0, \"NOX\": 0.538, \"RM\": 6.575, \"AGE\": 65.2, \"DIS\": 4.09, \"RAD\": 1, \"TAX\": 296.0, \"PTRATIO\": 15.3, \"B\": 396.9, \"LSTAT\": 4.98, \"MEDV\": 24.0}, {\"CRIM\": 0.02731, \"ZN\": 0.0, \"INDUS\": 7.07, \"CHAS\": 0, \"NOX\": 0.469, \"RM\": 6.421, \"AGE\": 78.9, \"DIS\": 4.9671, \"RAD\": 2, \"TAX\": 242.0, \"PTRATIO\": 17.8, \"B\": 396.9, \"LSTAT\": 9.14, \"MEDV\": 21.6}, {\"CRIM\": 0.02729, \"ZN\": 0.0, \"INDUS\": 7.07, \"CHAS\": 0, \"NOX\": 0.469, \"RM\": 7.185, \"AGE\": 61.1, \"DIS\": 4.9671, \"RAD\": 2, \"TAX\": 242.0, \"PTRATIO\": 17.8, \"B\": 392.83, \"LSTAT\": 4.03, \"MEDV\": 34.7}, {\"CRIM\": 0.032369999999999996, \"ZN\": 0.0, \"INDUS\": 2.18, \"CHAS\": 0, \"NOX\": 0.458, \"RM\": 6.998, \"AGE\": 45.8, \"DIS\": 6.0622, \"RAD\": 3, \"TAX\": 222.0, \"PTRATIO\": 18.7, \"B\": 394.63, \"LSTAT\": 2.94, \"MEDV\": 33.4}, {\"CRIM\": 0.06905, \"ZN\": 0.0, \"INDUS\": 2.18, \"CHAS\": 0, \"NOX\": 0.458, \"RM\": 7.147, \"AGE\": 54.2, \"DIS\": 6.0622, \"RAD\": 3, \"TAX\": 222.0, \"PTRATIO\": 18.7, \"B\": 396.9, \"LSTAT\": 5.33, \"MEDV\": 36.2}, {\"CRIM\": 0.02985, \"ZN\": 0.0, \"INDUS\": 2.18, \"CHAS\": 0, \"NOX\": 0.458, \"RM\": 6.43, \"AGE\": 58.7, \"DIS\": 6.0622, \"RAD\": 3, \"TAX\": 222.0, \"PTRATIO\": 18.7, \"B\": 394.12, \"LSTAT\": 5.21, \"MEDV\": 28.7}, {\"CRIM\": 0.08829, \"ZN\": 12.5, \"INDUS\": 7.87, \"CHAS\": 0, \"NOX\": 0.524, \"RM\": 6.012, \"AGE\": 66.6, \"DIS\": 5.5605, \"RAD\": 5, \"TAX\": 311.0, \"PTRATIO\": 15.2, \"B\": 395.6, \"LSTAT\": 12.43, \"MEDV\": 22.9}, {\"CRIM\": 0.14455, \"ZN\": 12.5, \"INDUS\": 7.87, \"CHAS\": 0, \"NOX\": 0.524, \"RM\": 6.172, \"AGE\": 96.1, \"DIS\": 5.9505, \"RAD\": 5, \"TAX\": 311.0, \"PTRATIO\": 15.2, \"B\": 396.9, \"LSTAT\": 19.15, \"MEDV\": 27.1}, {\"CRIM\": 0.21124, \"ZN\": 12.5, \"INDUS\": 7.87, \"CHAS\": 0, \"NOX\": 0.524, \"RM\": 5.631, \"AGE\": 100.0, \"DIS\": 6.0821, \"RAD\": 5, \"TAX\": 311.0, \"PTRATIO\": 15.2, \"B\": 386.63, \"LSTAT\": 29.93, \"MEDV\": 16.5}, {\"CRIM\": 0.17004, \"ZN\": 12.5, \"INDUS\": 7.87, \"CHAS\": 0, \"NOX\": 0.524, \"RM\": 6.004, \"AGE\": 85.9, \"DIS\": 6.5921, \"RAD\": 5, \"TAX\": 311.0, \"PTRATIO\": 15.2, \"B\": 386.71, \"LSTAT\": 17.1, \"MEDV\": 18.9}, {\"CRIM\": 0.22489, \"ZN\": 12.5, \"INDUS\": 7.87, \"CHAS\": 0, \"NOX\": 0.524, \"RM\": 6.377, \"AGE\": 94.3, \"DIS\": 6.3467, \"RAD\": 5, \"TAX\": 311.0, \"PTRATIO\": 15.2, \"B\": 392.52, \"LSTAT\": 20.45, \"MEDV\": 15.0}, {\"CRIM\": 0.11747, \"ZN\": 12.5, \"INDUS\": 7.87, \"CHAS\": 0, \"NOX\": 0.524, \"RM\": 6.009, \"AGE\": 82.9, \"DIS\": 6.2267, \"RAD\": 5, \"TAX\": 311.0, \"PTRATIO\": 15.2, \"B\": 396.9, \"LSTAT\": 13.27, \"MEDV\": 18.9}, {\"CRIM\": 0.09378, \"ZN\": 12.5, \"INDUS\": 7.87, \"CHAS\": 0, \"NOX\": 0.524, \"RM\": 5.889, \"AGE\": 39.0, \"DIS\": 5.4509, \"RAD\": 5, \"TAX\": 311.0, \"PTRATIO\": 15.2, \"B\": 390.5, \"LSTAT\": 15.71, \"MEDV\": 21.7}, {\"CRIM\": 0.62976, \"ZN\": 0.0, \"INDUS\": 8.14, \"CHAS\": 0, \"NOX\": 0.538, \"RM\": 5.949, \"AGE\": 61.8, \"DIS\": 4.7075, \"RAD\": 4, \"TAX\": 307.0, \"PTRATIO\": 21.0, \"B\": 396.9, \"LSTAT\": 8.26, \"MEDV\": 20.4}, {\"CRIM\": 0.6379600000000001, \"ZN\": 0.0, \"INDUS\": 8.14, \"CHAS\": 0, \"NOX\": 0.538, \"RM\": 6.096, \"AGE\": 84.5, \"DIS\": 4.4619, \"RAD\": 4, \"TAX\": 307.0, \"PTRATIO\": 21.0, \"B\": 380.02, \"LSTAT\": 10.26, \"MEDV\": 18.2}, {\"CRIM\": 0.62739, \"ZN\": 0.0, \"INDUS\": 8.14, \"CHAS\": 0, \"NOX\": 0.538, \"RM\": 5.834, \"AGE\": 56.5, \"DIS\": 4.4986, \"RAD\": 4, \"TAX\": 307.0, \"PTRATIO\": 21.0, \"B\": 395.62, \"LSTAT\": 8.47, \"MEDV\": 19.9}, {\"CRIM\": 1.05393, \"ZN\": 0.0, \"INDUS\": 8.14, \"CHAS\": 0, \"NOX\": 0.538, \"RM\": 5.935, \"AGE\": 29.3, \"DIS\": 4.4986, \"RAD\": 4, \"TAX\": 307.0, \"PTRATIO\": 21.0, \"B\": 386.85, \"LSTAT\": 6.58, \"MEDV\": 23.1}, {\"CRIM\": 0.7842, \"ZN\": 0.0, \"INDUS\": 8.14, \"CHAS\": 0, \"NOX\": 0.538, \"RM\": 5.99, \"AGE\": 81.7, \"DIS\": 4.2579, \"RAD\": 4, \"TAX\": 307.0, \"PTRATIO\": 21.0, \"B\": 386.75, \"LSTAT\": 14.67, \"MEDV\": 17.5}, {\"CRIM\": 0.80271, \"ZN\": 0.0, \"INDUS\": 8.14, \"CHAS\": 0, \"NOX\": 0.538, \"RM\": 5.456, \"AGE\": 36.6, \"DIS\": 3.7965, \"RAD\": 4, \"TAX\": 307.0, \"PTRATIO\": 21.0, \"B\": 288.99, \"LSTAT\": 11.69, \"MEDV\": 20.2}, {\"CRIM\": 0.7258, \"ZN\": 0.0, \"INDUS\": 8.14, \"CHAS\": 0, \"NOX\": 0.538, \"RM\": 5.727, \"AGE\": 69.5, \"DIS\": 3.7965, \"RAD\": 4, \"TAX\": 307.0, \"PTRATIO\": 21.0, \"B\": 390.95, \"LSTAT\": 11.28, \"MEDV\": 18.2}, {\"CRIM\": 1.25179, \"ZN\": 0.0, \"INDUS\": 8.14, \"CHAS\": 0, \"NOX\": 0.538, \"RM\": 5.57, \"AGE\": 98.1, \"DIS\": 3.7979, \"RAD\": 4, \"TAX\": 307.0, \"PTRATIO\": 21.0, \"B\": 376.57, \"LSTAT\": 21.02, \"MEDV\": 13.6}, {\"CRIM\": 0.8520399999999999, \"ZN\": 0.0, \"INDUS\": 8.14, \"CHAS\": 0, \"NOX\": 0.538, \"RM\": 5.965, \"AGE\": 89.2, \"DIS\": 4.0123, \"RAD\": 4, \"TAX\": 307.0, \"PTRATIO\": 21.0, \"B\": 392.53, \"LSTAT\": 13.83, \"MEDV\": 19.6}, {\"CRIM\": 1.2324700000000002, \"ZN\": 0.0, \"INDUS\": 8.14, \"CHAS\": 0, \"NOX\": 0.538, \"RM\": 6.142, \"AGE\": 91.7, \"DIS\": 3.9769, \"RAD\": 4, \"TAX\": 307.0, \"PTRATIO\": 21.0, \"B\": 396.9, \"LSTAT\": 18.72, \"MEDV\": 15.2}, {\"CRIM\": 0.9884299999999999, \"ZN\": 0.0, \"INDUS\": 8.14, \"CHAS\": 0, \"NOX\": 0.538, \"RM\": 5.813, \"AGE\": 100.0, \"DIS\": 4.0952, \"RAD\": 4, \"TAX\": 307.0, \"PTRATIO\": 21.0, \"B\": 394.54, \"LSTAT\": 19.88, \"MEDV\": 14.5}, {\"CRIM\": 0.75026, \"ZN\": 0.0, \"INDUS\": 8.14, \"CHAS\": 0, \"NOX\": 0.538, \"RM\": 5.924, \"AGE\": 94.1, \"DIS\": 4.3996, \"RAD\": 4, \"TAX\": 307.0, \"PTRATIO\": 21.0, \"B\": 394.33, \"LSTAT\": 16.3, \"MEDV\": 15.6}, {\"CRIM\": 0.84054, \"ZN\": 0.0, \"INDUS\": 8.14, \"CHAS\": 0, \"NOX\": 0.538, \"RM\": 5.599, \"AGE\": 85.7, \"DIS\": 4.4546, \"RAD\": 4, \"TAX\": 307.0, \"PTRATIO\": 21.0, \"B\": 303.42, \"LSTAT\": 16.51, \"MEDV\": 13.9}, {\"CRIM\": 0.67191, \"ZN\": 0.0, \"INDUS\": 8.14, \"CHAS\": 0, \"NOX\": 0.538, \"RM\": 5.813, \"AGE\": 90.3, \"DIS\": 4.682, \"RAD\": 4, \"TAX\": 307.0, \"PTRATIO\": 21.0, \"B\": 376.88, \"LSTAT\": 14.81, \"MEDV\": 16.6}, {\"CRIM\": 0.9557700000000001, \"ZN\": 0.0, \"INDUS\": 8.14, \"CHAS\": 0, \"NOX\": 0.538, \"RM\": 6.047, \"AGE\": 88.8, \"DIS\": 4.4534, \"RAD\": 4, \"TAX\": 307.0, \"PTRATIO\": 21.0, \"B\": 306.38, \"LSTAT\": 17.28, \"MEDV\": 14.8}, {\"CRIM\": 0.77299, \"ZN\": 0.0, \"INDUS\": 8.14, \"CHAS\": 0, \"NOX\": 0.538, \"RM\": 6.495, \"AGE\": 94.4, \"DIS\": 4.4547, \"RAD\": 4, \"TAX\": 307.0, \"PTRATIO\": 21.0, \"B\": 387.94, \"LSTAT\": 12.8, \"MEDV\": 18.4}, {\"CRIM\": 1.00245, \"ZN\": 0.0, \"INDUS\": 8.14, \"CHAS\": 0, \"NOX\": 0.538, \"RM\": 6.674, \"AGE\": 87.3, \"DIS\": 4.239, \"RAD\": 4, \"TAX\": 307.0, \"PTRATIO\": 21.0, \"B\": 380.23, \"LSTAT\": 11.98, \"MEDV\": 21.0}, {\"CRIM\": 1.13081, \"ZN\": 0.0, \"INDUS\": 8.14, \"CHAS\": 0, \"NOX\": 0.538, \"RM\": 5.713, \"AGE\": 94.1, \"DIS\": 4.233, \"RAD\": 4, \"TAX\": 307.0, \"PTRATIO\": 21.0, \"B\": 360.17, \"LSTAT\": 22.6, \"MEDV\": 12.7}, {\"CRIM\": 1.3547200000000001, \"ZN\": 0.0, \"INDUS\": 8.14, \"CHAS\": 0, \"NOX\": 0.538, \"RM\": 6.072, \"AGE\": 100.0, \"DIS\": 4.175, \"RAD\": 4, \"TAX\": 307.0, \"PTRATIO\": 21.0, \"B\": 376.73, \"LSTAT\": 13.04, \"MEDV\": 14.5}, {\"CRIM\": 1.38799, \"ZN\": 0.0, \"INDUS\": 8.14, \"CHAS\": 0, \"NOX\": 0.538, \"RM\": 5.95, \"AGE\": 82.0, \"DIS\": 3.99, \"RAD\": 4, \"TAX\": 307.0, \"PTRATIO\": 21.0, \"B\": 232.6, \"LSTAT\": 27.71, \"MEDV\": 13.2}, {\"CRIM\": 1.15172, \"ZN\": 0.0, \"INDUS\": 8.14, \"CHAS\": 0, \"NOX\": 0.538, \"RM\": 5.701, \"AGE\": 95.0, \"DIS\": 3.7872, \"RAD\": 4, \"TAX\": 307.0, \"PTRATIO\": 21.0, \"B\": 358.77, \"LSTAT\": 18.35, \"MEDV\": 13.1}, {\"CRIM\": 1.6128200000000001, \"ZN\": 0.0, \"INDUS\": 8.14, \"CHAS\": 0, \"NOX\": 0.538, \"RM\": 6.096, \"AGE\": 96.9, \"DIS\": 3.7598, \"RAD\": 4, \"TAX\": 307.0, \"PTRATIO\": 21.0, \"B\": 248.31, \"LSTAT\": 20.34, \"MEDV\": 13.5}, {\"CRIM\": 0.06417, \"ZN\": 0.0, \"INDUS\": 5.96, \"CHAS\": 0, \"NOX\": 0.499, \"RM\": 5.933, \"AGE\": 68.2, \"DIS\": 3.3603, \"RAD\": 5, \"TAX\": 279.0, \"PTRATIO\": 19.2, \"B\": 396.9, \"LSTAT\": 9.68, \"MEDV\": 18.9}, {\"CRIM\": 0.09744, \"ZN\": 0.0, \"INDUS\": 5.96, \"CHAS\": 0, \"NOX\": 0.499, \"RM\": 5.841, \"AGE\": 61.4, \"DIS\": 3.3779, \"RAD\": 5, \"TAX\": 279.0, \"PTRATIO\": 19.2, \"B\": 377.56, \"LSTAT\": 11.41, \"MEDV\": 20.0}, {\"CRIM\": 0.08014, \"ZN\": 0.0, \"INDUS\": 5.96, \"CHAS\": 0, \"NOX\": 0.499, \"RM\": 5.85, \"AGE\": 41.5, \"DIS\": 3.9342, \"RAD\": 5, \"TAX\": 279.0, \"PTRATIO\": 19.2, \"B\": 396.9, \"LSTAT\": 8.77, \"MEDV\": 21.0}, {\"CRIM\": 0.17505, \"ZN\": 0.0, \"INDUS\": 5.96, \"CHAS\": 0, \"NOX\": 0.499, \"RM\": 5.966, \"AGE\": 30.2, \"DIS\": 3.8473, \"RAD\": 5, \"TAX\": 279.0, \"PTRATIO\": 19.2, \"B\": 393.43, \"LSTAT\": 10.13, \"MEDV\": 24.7}, {\"CRIM\": 0.027630000000000002, \"ZN\": 75.0, \"INDUS\": 2.95, \"CHAS\": 0, \"NOX\": 0.428, \"RM\": 6.595, \"AGE\": 21.8, \"DIS\": 5.4011, \"RAD\": 3, \"TAX\": 252.0, \"PTRATIO\": 18.3, \"B\": 395.63, \"LSTAT\": 4.32, \"MEDV\": 30.8}, {\"CRIM\": 0.033589999999999995, \"ZN\": 75.0, \"INDUS\": 2.95, \"CHAS\": 0, \"NOX\": 0.428, \"RM\": 7.024, \"AGE\": 15.8, \"DIS\": 5.4011, \"RAD\": 3, \"TAX\": 252.0, \"PTRATIO\": 18.3, \"B\": 395.62, \"LSTAT\": 1.98, \"MEDV\": 34.9}, {\"CRIM\": 0.12744, \"ZN\": 0.0, \"INDUS\": 6.91, \"CHAS\": 0, \"NOX\": 0.448, \"RM\": 6.77, \"AGE\": 2.9, \"DIS\": 5.7209, \"RAD\": 3, \"TAX\": 233.0, \"PTRATIO\": 17.9, \"B\": 385.41, \"LSTAT\": 4.84, \"MEDV\": 26.6}, {\"CRIM\": 0.1415, \"ZN\": 0.0, \"INDUS\": 6.91, \"CHAS\": 0, \"NOX\": 0.448, \"RM\": 6.169, \"AGE\": 6.6, \"DIS\": 5.7209, \"RAD\": 3, \"TAX\": 233.0, \"PTRATIO\": 17.9, \"B\": 383.37, \"LSTAT\": 5.81, \"MEDV\": 25.3}, {\"CRIM\": 0.15936, \"ZN\": 0.0, \"INDUS\": 6.91, \"CHAS\": 0, \"NOX\": 0.448, \"RM\": 6.211, \"AGE\": 6.5, \"DIS\": 5.7209, \"RAD\": 3, \"TAX\": 233.0, \"PTRATIO\": 17.9, \"B\": 394.46, \"LSTAT\": 7.44, \"MEDV\": 24.7}, {\"CRIM\": 0.12269000000000001, \"ZN\": 0.0, \"INDUS\": 6.91, \"CHAS\": 0, \"NOX\": 0.448, \"RM\": 6.069, \"AGE\": 40.0, \"DIS\": 5.7209, \"RAD\": 3, \"TAX\": 233.0, \"PTRATIO\": 17.9, \"B\": 389.39, \"LSTAT\": 9.55, \"MEDV\": 21.2}, {\"CRIM\": 0.17142000000000002, \"ZN\": 0.0, \"INDUS\": 6.91, \"CHAS\": 0, \"NOX\": 0.448, \"RM\": 5.682, \"AGE\": 33.8, \"DIS\": 5.1004, \"RAD\": 3, \"TAX\": 233.0, \"PTRATIO\": 17.9, \"B\": 396.9, \"LSTAT\": 10.21, \"MEDV\": 19.3}, {\"CRIM\": 0.18836, \"ZN\": 0.0, \"INDUS\": 6.91, \"CHAS\": 0, \"NOX\": 0.448, \"RM\": 5.786, \"AGE\": 33.3, \"DIS\": 5.1004, \"RAD\": 3, \"TAX\": 233.0, \"PTRATIO\": 17.9, \"B\": 396.9, \"LSTAT\": 14.15, \"MEDV\": 20.0}, {\"CRIM\": 0.22926999999999997, \"ZN\": 0.0, \"INDUS\": 6.91, \"CHAS\": 0, \"NOX\": 0.448, \"RM\": 6.03, \"AGE\": 85.5, \"DIS\": 5.6894, \"RAD\": 3, \"TAX\": 233.0, \"PTRATIO\": 17.9, \"B\": 392.74, \"LSTAT\": 18.8, \"MEDV\": 16.6}, {\"CRIM\": 0.25387, \"ZN\": 0.0, \"INDUS\": 6.91, \"CHAS\": 0, \"NOX\": 0.448, \"RM\": 5.399, \"AGE\": 95.3, \"DIS\": 5.87, \"RAD\": 3, \"TAX\": 233.0, \"PTRATIO\": 17.9, \"B\": 396.9, \"LSTAT\": 30.81, \"MEDV\": 14.4}, {\"CRIM\": 0.21977, \"ZN\": 0.0, \"INDUS\": 6.91, \"CHAS\": 0, \"NOX\": 0.448, \"RM\": 5.602, \"AGE\": 62.0, \"DIS\": 6.0877, \"RAD\": 3, \"TAX\": 233.0, \"PTRATIO\": 17.9, \"B\": 396.9, \"LSTAT\": 16.2, \"MEDV\": 19.4}, {\"CRIM\": 0.08872999999999999, \"ZN\": 21.0, \"INDUS\": 5.64, \"CHAS\": 0, \"NOX\": 0.439, \"RM\": 5.963, \"AGE\": 45.7, \"DIS\": 6.8147, \"RAD\": 4, \"TAX\": 243.0, \"PTRATIO\": 16.8, \"B\": 395.56, \"LSTAT\": 13.45, \"MEDV\": 19.7}, {\"CRIM\": 0.04337, \"ZN\": 21.0, \"INDUS\": 5.64, \"CHAS\": 0, \"NOX\": 0.439, \"RM\": 6.115, \"AGE\": 63.0, \"DIS\": 6.8147, \"RAD\": 4, \"TAX\": 243.0, \"PTRATIO\": 16.8, \"B\": 393.97, \"LSTAT\": 9.43, \"MEDV\": 20.5}, {\"CRIM\": 0.0536, \"ZN\": 21.0, \"INDUS\": 5.64, \"CHAS\": 0, \"NOX\": 0.439, \"RM\": 6.511, \"AGE\": 21.1, \"DIS\": 6.8147, \"RAD\": 4, \"TAX\": 243.0, \"PTRATIO\": 16.8, \"B\": 396.9, \"LSTAT\": 5.28, \"MEDV\": 25.0}, {\"CRIM\": 0.04981, \"ZN\": 21.0, \"INDUS\": 5.64, \"CHAS\": 0, \"NOX\": 0.439, \"RM\": 5.998, \"AGE\": 21.4, \"DIS\": 6.8147, \"RAD\": 4, \"TAX\": 243.0, \"PTRATIO\": 16.8, \"B\": 396.9, \"LSTAT\": 8.43, \"MEDV\": 23.4}, {\"CRIM\": 0.0136, \"ZN\": 75.0, \"INDUS\": 4.0, \"CHAS\": 0, \"NOX\": 0.41, \"RM\": 5.888, \"AGE\": 47.6, \"DIS\": 7.3197, \"RAD\": 3, \"TAX\": 469.0, \"PTRATIO\": 21.1, \"B\": 396.9, \"LSTAT\": 14.8, \"MEDV\": 18.9}, {\"CRIM\": 0.01311, \"ZN\": 90.0, \"INDUS\": 1.22, \"CHAS\": 0, \"NOX\": 0.403, \"RM\": 7.249, \"AGE\": 21.9, \"DIS\": 8.6966, \"RAD\": 5, \"TAX\": 226.0, \"PTRATIO\": 17.9, \"B\": 395.93, \"LSTAT\": 4.81, \"MEDV\": 35.4}, {\"CRIM\": 0.02055, \"ZN\": 85.0, \"INDUS\": 0.74, \"CHAS\": 0, \"NOX\": 0.41, \"RM\": 6.383, \"AGE\": 35.7, \"DIS\": 9.1876, \"RAD\": 2, \"TAX\": 313.0, \"PTRATIO\": 17.3, \"B\": 396.9, \"LSTAT\": 5.77, \"MEDV\": 24.7}, {\"CRIM\": 0.01432, \"ZN\": 100.0, \"INDUS\": 1.32, \"CHAS\": 0, \"NOX\": 0.411, \"RM\": 6.816, \"AGE\": 40.5, \"DIS\": 8.3248, \"RAD\": 5, \"TAX\": 256.0, \"PTRATIO\": 15.1, \"B\": 392.9, \"LSTAT\": 3.95, \"MEDV\": 31.6}, {\"CRIM\": 0.15445, \"ZN\": 25.0, \"INDUS\": 5.13, \"CHAS\": 0, \"NOX\": 0.453, \"RM\": 6.145, \"AGE\": 29.2, \"DIS\": 7.8148, \"RAD\": 8, \"TAX\": 284.0, \"PTRATIO\": 19.7, \"B\": 390.68, \"LSTAT\": 6.86, \"MEDV\": 23.3}, {\"CRIM\": 0.10328, \"ZN\": 25.0, \"INDUS\": 5.13, \"CHAS\": 0, \"NOX\": 0.453, \"RM\": 5.927, \"AGE\": 47.2, \"DIS\": 6.932, \"RAD\": 8, \"TAX\": 284.0, \"PTRATIO\": 19.7, \"B\": 396.9, \"LSTAT\": 9.22, \"MEDV\": 19.6}, {\"CRIM\": 0.14932, \"ZN\": 25.0, \"INDUS\": 5.13, \"CHAS\": 0, \"NOX\": 0.453, \"RM\": 5.741, \"AGE\": 66.2, \"DIS\": 7.2254, \"RAD\": 8, \"TAX\": 284.0, \"PTRATIO\": 19.7, \"B\": 395.11, \"LSTAT\": 13.15, \"MEDV\": 18.7}, {\"CRIM\": 0.17171, \"ZN\": 25.0, \"INDUS\": 5.13, \"CHAS\": 0, \"NOX\": 0.453, \"RM\": 5.966, \"AGE\": 93.4, \"DIS\": 6.8185, \"RAD\": 8, \"TAX\": 284.0, \"PTRATIO\": 19.7, \"B\": 378.08, \"LSTAT\": 14.44, \"MEDV\": 16.0}, {\"CRIM\": 0.11027, \"ZN\": 25.0, \"INDUS\": 5.13, \"CHAS\": 0, \"NOX\": 0.453, \"RM\": 6.456, \"AGE\": 67.8, \"DIS\": 7.2255, \"RAD\": 8, \"TAX\": 284.0, \"PTRATIO\": 19.7, \"B\": 396.9, \"LSTAT\": 6.73, \"MEDV\": 22.2}, {\"CRIM\": 0.1265, \"ZN\": 25.0, \"INDUS\": 5.13, \"CHAS\": 0, \"NOX\": 0.453, \"RM\": 6.762, \"AGE\": 43.4, \"DIS\": 7.9809, \"RAD\": 8, \"TAX\": 284.0, \"PTRATIO\": 19.7, \"B\": 395.58, \"LSTAT\": 9.5, \"MEDV\": 25.0}, {\"CRIM\": 0.01951, \"ZN\": 17.5, \"INDUS\": 1.38, \"CHAS\": 0, \"NOX\": 0.4161, \"RM\": 7.104, \"AGE\": 59.5, \"DIS\": 9.2229, \"RAD\": 3, \"TAX\": 216.0, \"PTRATIO\": 18.6, \"B\": 393.24, \"LSTAT\": 8.05, \"MEDV\": 33.0}, {\"CRIM\": 0.03584, \"ZN\": 80.0, \"INDUS\": 3.37, \"CHAS\": 0, \"NOX\": 0.398, \"RM\": 6.29, \"AGE\": 17.8, \"DIS\": 6.6115, \"RAD\": 4, \"TAX\": 337.0, \"PTRATIO\": 16.1, \"B\": 396.9, \"LSTAT\": 4.67, \"MEDV\": 23.5}, {\"CRIM\": 0.043789999999999996, \"ZN\": 80.0, \"INDUS\": 3.37, \"CHAS\": 0, \"NOX\": 0.398, \"RM\": 5.787, \"AGE\": 31.1, \"DIS\": 6.6115, \"RAD\": 4, \"TAX\": 337.0, \"PTRATIO\": 16.1, \"B\": 396.9, \"LSTAT\": 10.24, \"MEDV\": 19.4}, {\"CRIM\": 0.05789, \"ZN\": 12.5, \"INDUS\": 6.07, \"CHAS\": 0, \"NOX\": 0.409, \"RM\": 5.878, \"AGE\": 21.4, \"DIS\": 6.498, \"RAD\": 4, \"TAX\": 345.0, \"PTRATIO\": 18.9, \"B\": 396.21, \"LSTAT\": 8.1, \"MEDV\": 22.0}, {\"CRIM\": 0.13554000000000002, \"ZN\": 12.5, \"INDUS\": 6.07, \"CHAS\": 0, \"NOX\": 0.409, \"RM\": 5.594, \"AGE\": 36.8, \"DIS\": 6.498, \"RAD\": 4, \"TAX\": 345.0, \"PTRATIO\": 18.9, \"B\": 396.9, \"LSTAT\": 13.09, \"MEDV\": 17.4}, {\"CRIM\": 0.12816, \"ZN\": 12.5, \"INDUS\": 6.07, \"CHAS\": 0, \"NOX\": 0.409, \"RM\": 5.885, \"AGE\": 33.0, \"DIS\": 6.498, \"RAD\": 4, \"TAX\": 345.0, \"PTRATIO\": 18.9, \"B\": 396.9, \"LSTAT\": 8.79, \"MEDV\": 20.9}, {\"CRIM\": 0.08826, \"ZN\": 0.0, \"INDUS\": 10.81, \"CHAS\": 0, \"NOX\": 0.413, \"RM\": 6.417, \"AGE\": 6.6, \"DIS\": 5.2873, \"RAD\": 4, \"TAX\": 305.0, \"PTRATIO\": 19.2, \"B\": 383.73, \"LSTAT\": 6.72, \"MEDV\": 24.2}, {\"CRIM\": 0.15875999999999998, \"ZN\": 0.0, \"INDUS\": 10.81, \"CHAS\": 0, \"NOX\": 0.413, \"RM\": 5.961, \"AGE\": 17.5, \"DIS\": 5.2873, \"RAD\": 4, \"TAX\": 305.0, \"PTRATIO\": 19.2, \"B\": 376.94, \"LSTAT\": 9.88, \"MEDV\": 21.7}, {\"CRIM\": 0.09164, \"ZN\": 0.0, \"INDUS\": 10.81, \"CHAS\": 0, \"NOX\": 0.413, \"RM\": 6.065, \"AGE\": 7.8, \"DIS\": 5.2873, \"RAD\": 4, \"TAX\": 305.0, \"PTRATIO\": 19.2, \"B\": 390.91, \"LSTAT\": 5.52, \"MEDV\": 22.8}, {\"CRIM\": 0.19539, \"ZN\": 0.0, \"INDUS\": 10.81, \"CHAS\": 0, \"NOX\": 0.413, \"RM\": 6.245, \"AGE\": 6.2, \"DIS\": 5.2873, \"RAD\": 4, \"TAX\": 305.0, \"PTRATIO\": 19.2, \"B\": 377.17, \"LSTAT\": 7.54, \"MEDV\": 23.4}, {\"CRIM\": 0.07896, \"ZN\": 0.0, \"INDUS\": 12.83, \"CHAS\": 0, \"NOX\": 0.437, \"RM\": 6.273, \"AGE\": 6.0, \"DIS\": 4.2515, \"RAD\": 5, \"TAX\": 398.0, \"PTRATIO\": 18.7, \"B\": 394.92, \"LSTAT\": 6.78, \"MEDV\": 24.1}, {\"CRIM\": 0.09512000000000001, \"ZN\": 0.0, \"INDUS\": 12.83, \"CHAS\": 0, \"NOX\": 0.437, \"RM\": 6.286, \"AGE\": 45.0, \"DIS\": 4.5026, \"RAD\": 5, \"TAX\": 398.0, \"PTRATIO\": 18.7, \"B\": 383.23, \"LSTAT\": 8.94, \"MEDV\": 21.4}, {\"CRIM\": 0.10153, \"ZN\": 0.0, \"INDUS\": 12.83, \"CHAS\": 0, \"NOX\": 0.437, \"RM\": 6.279, \"AGE\": 74.5, \"DIS\": 4.0522, \"RAD\": 5, \"TAX\": 398.0, \"PTRATIO\": 18.7, \"B\": 373.66, \"LSTAT\": 11.97, \"MEDV\": 20.0}, {\"CRIM\": 0.08707000000000001, \"ZN\": 0.0, \"INDUS\": 12.83, \"CHAS\": 0, \"NOX\": 0.437, \"RM\": 6.14, \"AGE\": 45.8, \"DIS\": 4.0905, \"RAD\": 5, \"TAX\": 398.0, \"PTRATIO\": 18.7, \"B\": 386.96, \"LSTAT\": 10.27, \"MEDV\": 20.8}, {\"CRIM\": 0.05646, \"ZN\": 0.0, \"INDUS\": 12.83, \"CHAS\": 0, \"NOX\": 0.437, \"RM\": 6.232, \"AGE\": 53.7, \"DIS\": 5.0141, \"RAD\": 5, \"TAX\": 398.0, \"PTRATIO\": 18.7, \"B\": 386.4, \"LSTAT\": 12.34, \"MEDV\": 21.2}, {\"CRIM\": 0.08387, \"ZN\": 0.0, \"INDUS\": 12.83, \"CHAS\": 0, \"NOX\": 0.437, \"RM\": 5.874, \"AGE\": 36.6, \"DIS\": 4.5026, \"RAD\": 5, \"TAX\": 398.0, \"PTRATIO\": 18.7, \"B\": 396.06, \"LSTAT\": 9.1, \"MEDV\": 20.3}, {\"CRIM\": 0.04113, \"ZN\": 25.0, \"INDUS\": 4.86, \"CHAS\": 0, \"NOX\": 0.426, \"RM\": 6.727, \"AGE\": 33.5, \"DIS\": 5.4007, \"RAD\": 4, \"TAX\": 281.0, \"PTRATIO\": 19.0, \"B\": 396.9, \"LSTAT\": 5.29, \"MEDV\": 28.0}, {\"CRIM\": 0.04462, \"ZN\": 25.0, \"INDUS\": 4.86, \"CHAS\": 0, \"NOX\": 0.426, \"RM\": 6.619, \"AGE\": 70.4, \"DIS\": 5.4007, \"RAD\": 4, \"TAX\": 281.0, \"PTRATIO\": 19.0, \"B\": 395.63, \"LSTAT\": 7.22, \"MEDV\": 23.9}, {\"CRIM\": 0.03659, \"ZN\": 25.0, \"INDUS\": 4.86, \"CHAS\": 0, \"NOX\": 0.426, \"RM\": 6.302, \"AGE\": 32.2, \"DIS\": 5.4007, \"RAD\": 4, \"TAX\": 281.0, \"PTRATIO\": 19.0, \"B\": 396.9, \"LSTAT\": 6.72, \"MEDV\": 24.8}, {\"CRIM\": 0.03551, \"ZN\": 25.0, \"INDUS\": 4.86, \"CHAS\": 0, \"NOX\": 0.426, \"RM\": 6.167, \"AGE\": 46.7, \"DIS\": 5.4007, \"RAD\": 4, \"TAX\": 281.0, \"PTRATIO\": 19.0, \"B\": 390.64, \"LSTAT\": 7.51, \"MEDV\": 22.9}, {\"CRIM\": 0.050589999999999996, \"ZN\": 0.0, \"INDUS\": 4.49, \"CHAS\": 0, \"NOX\": 0.449, \"RM\": 6.389, \"AGE\": 48.0, \"DIS\": 4.7794, \"RAD\": 3, \"TAX\": 247.0, \"PTRATIO\": 18.5, \"B\": 396.9, \"LSTAT\": 9.62, \"MEDV\": 23.9}, {\"CRIM\": 0.05735, \"ZN\": 0.0, \"INDUS\": 4.49, \"CHAS\": 0, \"NOX\": 0.449, \"RM\": 6.63, \"AGE\": 56.1, \"DIS\": 4.4377, \"RAD\": 3, \"TAX\": 247.0, \"PTRATIO\": 18.5, \"B\": 392.3, \"LSTAT\": 6.53, \"MEDV\": 26.6}, {\"CRIM\": 0.051879999999999996, \"ZN\": 0.0, \"INDUS\": 4.49, \"CHAS\": 0, \"NOX\": 0.449, \"RM\": 6.015, \"AGE\": 45.1, \"DIS\": 4.4272, \"RAD\": 3, \"TAX\": 247.0, \"PTRATIO\": 18.5, \"B\": 395.99, \"LSTAT\": 12.86, \"MEDV\": 22.5}, {\"CRIM\": 0.07151, \"ZN\": 0.0, \"INDUS\": 4.49, \"CHAS\": 0, \"NOX\": 0.449, \"RM\": 6.121, \"AGE\": 56.8, \"DIS\": 3.7476, \"RAD\": 3, \"TAX\": 247.0, \"PTRATIO\": 18.5, \"B\": 395.15, \"LSTAT\": 8.44, \"MEDV\": 22.2}, {\"CRIM\": 0.0566, \"ZN\": 0.0, \"INDUS\": 3.41, \"CHAS\": 0, \"NOX\": 0.489, \"RM\": 7.007, \"AGE\": 86.3, \"DIS\": 3.4217, \"RAD\": 2, \"TAX\": 270.0, \"PTRATIO\": 17.8, \"B\": 396.9, \"LSTAT\": 5.5, \"MEDV\": 23.6}, {\"CRIM\": 0.053020000000000005, \"ZN\": 0.0, \"INDUS\": 3.41, \"CHAS\": 0, \"NOX\": 0.489, \"RM\": 7.079, \"AGE\": 63.1, \"DIS\": 3.4145, \"RAD\": 2, \"TAX\": 270.0, \"PTRATIO\": 17.8, \"B\": 396.06, \"LSTAT\": 5.7, \"MEDV\": 28.7}, {\"CRIM\": 0.04684, \"ZN\": 0.0, \"INDUS\": 3.41, \"CHAS\": 0, \"NOX\": 0.489, \"RM\": 6.417, \"AGE\": 66.1, \"DIS\": 3.0923, \"RAD\": 2, \"TAX\": 270.0, \"PTRATIO\": 17.8, \"B\": 392.18, \"LSTAT\": 8.81, \"MEDV\": 22.6}, {\"CRIM\": 0.03932, \"ZN\": 0.0, \"INDUS\": 3.41, \"CHAS\": 0, \"NOX\": 0.489, \"RM\": 6.405, \"AGE\": 73.9, \"DIS\": 3.0921, \"RAD\": 2, \"TAX\": 270.0, \"PTRATIO\": 17.8, \"B\": 393.55, \"LSTAT\": 8.2, \"MEDV\": 22.0}, {\"CRIM\": 0.04203, \"ZN\": 28.0, \"INDUS\": 15.04, \"CHAS\": 0, \"NOX\": 0.464, \"RM\": 6.442, \"AGE\": 53.6, \"DIS\": 3.6659, \"RAD\": 4, \"TAX\": 270.0, \"PTRATIO\": 18.2, \"B\": 395.01, \"LSTAT\": 8.16, \"MEDV\": 22.9}, {\"CRIM\": 0.02875, \"ZN\": 28.0, \"INDUS\": 15.04, \"CHAS\": 0, \"NOX\": 0.464, \"RM\": 6.211, \"AGE\": 28.9, \"DIS\": 3.6659, \"RAD\": 4, \"TAX\": 270.0, \"PTRATIO\": 18.2, \"B\": 396.33, \"LSTAT\": 6.21, \"MEDV\": 25.0}, {\"CRIM\": 0.04294, \"ZN\": 28.0, \"INDUS\": 15.04, \"CHAS\": 0, \"NOX\": 0.464, \"RM\": 6.249, \"AGE\": 77.3, \"DIS\": 3.615, \"RAD\": 4, \"TAX\": 270.0, \"PTRATIO\": 18.2, \"B\": 396.9, \"LSTAT\": 10.59, \"MEDV\": 20.6}, {\"CRIM\": 0.12204000000000001, \"ZN\": 0.0, \"INDUS\": 2.89, \"CHAS\": 0, \"NOX\": 0.445, \"RM\": 6.625, \"AGE\": 57.8, \"DIS\": 3.4952, \"RAD\": 2, \"TAX\": 276.0, \"PTRATIO\": 18.0, \"B\": 357.98, \"LSTAT\": 6.65, \"MEDV\": 28.4}, {\"CRIM\": 0.11504, \"ZN\": 0.0, \"INDUS\": 2.89, \"CHAS\": 0, \"NOX\": 0.445, \"RM\": 6.163, \"AGE\": 69.6, \"DIS\": 3.4952, \"RAD\": 2, \"TAX\": 276.0, \"PTRATIO\": 18.0, \"B\": 391.83, \"LSTAT\": 11.34, \"MEDV\": 21.4}, {\"CRIM\": 0.12082999999999999, \"ZN\": 0.0, \"INDUS\": 2.89, \"CHAS\": 0, \"NOX\": 0.445, \"RM\": 8.069, \"AGE\": 76.0, \"DIS\": 3.4952, \"RAD\": 2, \"TAX\": 276.0, \"PTRATIO\": 18.0, \"B\": 396.9, \"LSTAT\": 4.21, \"MEDV\": 38.7}, {\"CRIM\": 0.08187, \"ZN\": 0.0, \"INDUS\": 2.89, \"CHAS\": 0, \"NOX\": 0.445, \"RM\": 7.82, \"AGE\": 36.9, \"DIS\": 3.4952, \"RAD\": 2, \"TAX\": 276.0, \"PTRATIO\": 18.0, \"B\": 393.53, \"LSTAT\": 3.57, \"MEDV\": 43.8}, {\"CRIM\": 0.0686, \"ZN\": 0.0, \"INDUS\": 2.89, \"CHAS\": 0, \"NOX\": 0.445, \"RM\": 7.416, \"AGE\": 62.5, \"DIS\": 3.4952, \"RAD\": 2, \"TAX\": 276.0, \"PTRATIO\": 18.0, \"B\": 396.9, \"LSTAT\": 6.19, \"MEDV\": 33.2}, {\"CRIM\": 0.14866, \"ZN\": 0.0, \"INDUS\": 8.56, \"CHAS\": 0, \"NOX\": 0.52, \"RM\": 6.727, \"AGE\": 79.9, \"DIS\": 2.7778, \"RAD\": 5, \"TAX\": 384.0, \"PTRATIO\": 20.9, \"B\": 394.76, \"LSTAT\": 9.42, \"MEDV\": 27.5}, {\"CRIM\": 0.11432, \"ZN\": 0.0, \"INDUS\": 8.56, \"CHAS\": 0, \"NOX\": 0.52, \"RM\": 6.781, \"AGE\": 71.3, \"DIS\": 2.8561, \"RAD\": 5, \"TAX\": 384.0, \"PTRATIO\": 20.9, \"B\": 395.58, \"LSTAT\": 7.67, \"MEDV\": 26.5}, {\"CRIM\": 0.22876, \"ZN\": 0.0, \"INDUS\": 8.56, \"CHAS\": 0, \"NOX\": 0.52, \"RM\": 6.405, \"AGE\": 85.4, \"DIS\": 2.7147, \"RAD\": 5, \"TAX\": 384.0, \"PTRATIO\": 20.9, \"B\": 70.8, \"LSTAT\": 10.63, \"MEDV\": 18.6}, {\"CRIM\": 0.21161, \"ZN\": 0.0, \"INDUS\": 8.56, \"CHAS\": 0, \"NOX\": 0.52, \"RM\": 6.137, \"AGE\": 87.4, \"DIS\": 2.7147, \"RAD\": 5, \"TAX\": 384.0, \"PTRATIO\": 20.9, \"B\": 394.47, \"LSTAT\": 13.44, \"MEDV\": 19.3}, {\"CRIM\": 0.1396, \"ZN\": 0.0, \"INDUS\": 8.56, \"CHAS\": 0, \"NOX\": 0.52, \"RM\": 6.167, \"AGE\": 90.0, \"DIS\": 2.421, \"RAD\": 5, \"TAX\": 384.0, \"PTRATIO\": 20.9, \"B\": 392.69, \"LSTAT\": 12.33, \"MEDV\": 20.1}, {\"CRIM\": 0.13262000000000002, \"ZN\": 0.0, \"INDUS\": 8.56, \"CHAS\": 0, \"NOX\": 0.52, \"RM\": 5.851, \"AGE\": 96.7, \"DIS\": 2.1069, \"RAD\": 5, \"TAX\": 384.0, \"PTRATIO\": 20.9, \"B\": 394.05, \"LSTAT\": 16.47, \"MEDV\": 19.5}, {\"CRIM\": 0.1712, \"ZN\": 0.0, \"INDUS\": 8.56, \"CHAS\": 0, \"NOX\": 0.52, \"RM\": 5.836, \"AGE\": 91.9, \"DIS\": 2.211, \"RAD\": 5, \"TAX\": 384.0, \"PTRATIO\": 20.9, \"B\": 395.67, \"LSTAT\": 18.66, \"MEDV\": 19.5}, {\"CRIM\": 0.13117, \"ZN\": 0.0, \"INDUS\": 8.56, \"CHAS\": 0, \"NOX\": 0.52, \"RM\": 6.127, \"AGE\": 85.2, \"DIS\": 2.1224, \"RAD\": 5, \"TAX\": 384.0, \"PTRATIO\": 20.9, \"B\": 387.69, \"LSTAT\": 14.09, \"MEDV\": 20.4}, {\"CRIM\": 0.12802, \"ZN\": 0.0, \"INDUS\": 8.56, \"CHAS\": 0, \"NOX\": 0.52, \"RM\": 6.474, \"AGE\": 97.1, \"DIS\": 2.4329, \"RAD\": 5, \"TAX\": 384.0, \"PTRATIO\": 20.9, \"B\": 395.24, \"LSTAT\": 12.27, \"MEDV\": 19.8}, {\"CRIM\": 0.26363000000000003, \"ZN\": 0.0, \"INDUS\": 8.56, \"CHAS\": 0, \"NOX\": 0.52, \"RM\": 6.229, \"AGE\": 91.2, \"DIS\": 2.5451, \"RAD\": 5, \"TAX\": 384.0, \"PTRATIO\": 20.9, \"B\": 391.23, \"LSTAT\": 15.55, \"MEDV\": 19.4}, {\"CRIM\": 0.10793, \"ZN\": 0.0, \"INDUS\": 8.56, \"CHAS\": 0, \"NOX\": 0.52, \"RM\": 6.195, \"AGE\": 54.4, \"DIS\": 2.7778, \"RAD\": 5, \"TAX\": 384.0, \"PTRATIO\": 20.9, \"B\": 393.49, \"LSTAT\": 13.0, \"MEDV\": 21.7}, {\"CRIM\": 0.10084, \"ZN\": 0.0, \"INDUS\": 10.01, \"CHAS\": 0, \"NOX\": 0.547, \"RM\": 6.715, \"AGE\": 81.6, \"DIS\": 2.6775, \"RAD\": 6, \"TAX\": 432.0, \"PTRATIO\": 17.8, \"B\": 395.59, \"LSTAT\": 10.16, \"MEDV\": 22.8}, {\"CRIM\": 0.12329000000000001, \"ZN\": 0.0, \"INDUS\": 10.01, \"CHAS\": 0, \"NOX\": 0.547, \"RM\": 5.913, \"AGE\": 92.9, \"DIS\": 2.3534, \"RAD\": 6, \"TAX\": 432.0, \"PTRATIO\": 17.8, \"B\": 394.95, \"LSTAT\": 16.21, \"MEDV\": 18.8}, {\"CRIM\": 0.22211999999999998, \"ZN\": 0.0, \"INDUS\": 10.01, \"CHAS\": 0, \"NOX\": 0.547, \"RM\": 6.092, \"AGE\": 95.4, \"DIS\": 2.548, \"RAD\": 6, \"TAX\": 432.0, \"PTRATIO\": 17.8, \"B\": 396.9, \"LSTAT\": 17.09, \"MEDV\": 18.7}, {\"CRIM\": 0.14231, \"ZN\": 0.0, \"INDUS\": 10.01, \"CHAS\": 0, \"NOX\": 0.547, \"RM\": 6.254, \"AGE\": 84.2, \"DIS\": 2.2565, \"RAD\": 6, \"TAX\": 432.0, \"PTRATIO\": 17.8, \"B\": 388.74, \"LSTAT\": 10.45, \"MEDV\": 18.5}, {\"CRIM\": 0.17134000000000002, \"ZN\": 0.0, \"INDUS\": 10.01, \"CHAS\": 0, \"NOX\": 0.547, \"RM\": 5.928, \"AGE\": 88.2, \"DIS\": 2.4631, \"RAD\": 6, \"TAX\": 432.0, \"PTRATIO\": 17.8, \"B\": 344.91, \"LSTAT\": 15.76, \"MEDV\": 18.3}, {\"CRIM\": 0.13158, \"ZN\": 0.0, \"INDUS\": 10.01, \"CHAS\": 0, \"NOX\": 0.547, \"RM\": 6.176, \"AGE\": 72.5, \"DIS\": 2.7301, \"RAD\": 6, \"TAX\": 432.0, \"PTRATIO\": 17.8, \"B\": 393.3, \"LSTAT\": 12.04, \"MEDV\": 21.2}, {\"CRIM\": 0.15098, \"ZN\": 0.0, \"INDUS\": 10.01, \"CHAS\": 0, \"NOX\": 0.547, \"RM\": 6.021, \"AGE\": 82.6, \"DIS\": 2.7474, \"RAD\": 6, \"TAX\": 432.0, \"PTRATIO\": 17.8, \"B\": 394.51, \"LSTAT\": 10.3, \"MEDV\": 19.2}, {\"CRIM\": 0.13058, \"ZN\": 0.0, \"INDUS\": 10.01, \"CHAS\": 0, \"NOX\": 0.547, \"RM\": 5.872, \"AGE\": 73.1, \"DIS\": 2.4775, \"RAD\": 6, \"TAX\": 432.0, \"PTRATIO\": 17.8, \"B\": 338.63, \"LSTAT\": 15.37, \"MEDV\": 20.4}, {\"CRIM\": 0.14476, \"ZN\": 0.0, \"INDUS\": 10.01, \"CHAS\": 0, \"NOX\": 0.547, \"RM\": 5.731, \"AGE\": 65.2, \"DIS\": 2.7592, \"RAD\": 6, \"TAX\": 432.0, \"PTRATIO\": 17.8, \"B\": 391.5, \"LSTAT\": 13.61, \"MEDV\": 19.3}, {\"CRIM\": 0.06899, \"ZN\": 0.0, \"INDUS\": 25.65, \"CHAS\": 0, \"NOX\": 0.581, \"RM\": 5.87, \"AGE\": 69.7, \"DIS\": 2.2577, \"RAD\": 2, \"TAX\": 188.0, \"PTRATIO\": 19.1, \"B\": 389.15, \"LSTAT\": 14.37, \"MEDV\": 22.0}, {\"CRIM\": 0.07165, \"ZN\": 0.0, \"INDUS\": 25.65, \"CHAS\": 0, \"NOX\": 0.581, \"RM\": 6.004, \"AGE\": 84.1, \"DIS\": 2.1974, \"RAD\": 2, \"TAX\": 188.0, \"PTRATIO\": 19.1, \"B\": 377.67, \"LSTAT\": 14.27, \"MEDV\": 20.3}, {\"CRIM\": 0.09299, \"ZN\": 0.0, \"INDUS\": 25.65, \"CHAS\": 0, \"NOX\": 0.581, \"RM\": 5.961, \"AGE\": 92.9, \"DIS\": 2.0869, \"RAD\": 2, \"TAX\": 188.0, \"PTRATIO\": 19.1, \"B\": 378.09, \"LSTAT\": 17.93, \"MEDV\": 20.5}, {\"CRIM\": 0.15037999999999999, \"ZN\": 0.0, \"INDUS\": 25.65, \"CHAS\": 0, \"NOX\": 0.581, \"RM\": 5.856, \"AGE\": 97.0, \"DIS\": 1.9444, \"RAD\": 2, \"TAX\": 188.0, \"PTRATIO\": 19.1, \"B\": 370.31, \"LSTAT\": 25.41, \"MEDV\": 17.3}, {\"CRIM\": 0.09849, \"ZN\": 0.0, \"INDUS\": 25.65, \"CHAS\": 0, \"NOX\": 0.581, \"RM\": 5.879, \"AGE\": 95.8, \"DIS\": 2.0063, \"RAD\": 2, \"TAX\": 188.0, \"PTRATIO\": 19.1, \"B\": 379.38, \"LSTAT\": 17.58, \"MEDV\": 18.8}, {\"CRIM\": 0.16902, \"ZN\": 0.0, \"INDUS\": 25.65, \"CHAS\": 0, \"NOX\": 0.581, \"RM\": 5.986, \"AGE\": 88.4, \"DIS\": 1.9929, \"RAD\": 2, \"TAX\": 188.0, \"PTRATIO\": 19.1, \"B\": 385.02, \"LSTAT\": 14.81, \"MEDV\": 21.4}, {\"CRIM\": 0.38735, \"ZN\": 0.0, \"INDUS\": 25.65, \"CHAS\": 0, \"NOX\": 0.581, \"RM\": 5.613, \"AGE\": 95.6, \"DIS\": 1.7572, \"RAD\": 2, \"TAX\": 188.0, \"PTRATIO\": 19.1, \"B\": 359.29, \"LSTAT\": 27.26, \"MEDV\": 15.7}, {\"CRIM\": 0.25915, \"ZN\": 0.0, \"INDUS\": 21.89, \"CHAS\": 0, \"NOX\": 0.624, \"RM\": 5.693, \"AGE\": 96.0, \"DIS\": 1.7883, \"RAD\": 4, \"TAX\": 437.0, \"PTRATIO\": 21.2, \"B\": 392.11, \"LSTAT\": 17.19, \"MEDV\": 16.2}, {\"CRIM\": 0.32543, \"ZN\": 0.0, \"INDUS\": 21.89, \"CHAS\": 0, \"NOX\": 0.624, \"RM\": 6.431, \"AGE\": 98.8, \"DIS\": 1.8125, \"RAD\": 4, \"TAX\": 437.0, \"PTRATIO\": 21.2, \"B\": 396.9, \"LSTAT\": 15.39, \"MEDV\": 18.0}, {\"CRIM\": 0.88125, \"ZN\": 0.0, \"INDUS\": 21.89, \"CHAS\": 0, \"NOX\": 0.624, \"RM\": 5.637, \"AGE\": 94.7, \"DIS\": 1.9799, \"RAD\": 4, \"TAX\": 437.0, \"PTRATIO\": 21.2, \"B\": 396.9, \"LSTAT\": 18.34, \"MEDV\": 14.3}, {\"CRIM\": 0.34006, \"ZN\": 0.0, \"INDUS\": 21.89, \"CHAS\": 0, \"NOX\": 0.624, \"RM\": 6.458, \"AGE\": 98.9, \"DIS\": 2.1185, \"RAD\": 4, \"TAX\": 437.0, \"PTRATIO\": 21.2, \"B\": 395.04, \"LSTAT\": 12.6, \"MEDV\": 19.2}, {\"CRIM\": 1.19294, \"ZN\": 0.0, \"INDUS\": 21.89, \"CHAS\": 0, \"NOX\": 0.624, \"RM\": 6.326, \"AGE\": 97.7, \"DIS\": 2.271, \"RAD\": 4, \"TAX\": 437.0, \"PTRATIO\": 21.2, \"B\": 396.9, \"LSTAT\": 12.26, \"MEDV\": 19.6}, {\"CRIM\": 0.59005, \"ZN\": 0.0, \"INDUS\": 21.89, \"CHAS\": 0, \"NOX\": 0.624, \"RM\": 6.372, \"AGE\": 97.9, \"DIS\": 2.3274, \"RAD\": 4, \"TAX\": 437.0, \"PTRATIO\": 21.2, \"B\": 385.76, \"LSTAT\": 11.12, \"MEDV\": 23.0}, {\"CRIM\": 0.32982, \"ZN\": 0.0, \"INDUS\": 21.89, \"CHAS\": 0, \"NOX\": 0.624, \"RM\": 5.822, \"AGE\": 95.4, \"DIS\": 2.4699, \"RAD\": 4, \"TAX\": 437.0, \"PTRATIO\": 21.2, \"B\": 388.69, \"LSTAT\": 15.03, \"MEDV\": 18.4}, {\"CRIM\": 0.9761700000000001, \"ZN\": 0.0, \"INDUS\": 21.89, \"CHAS\": 0, \"NOX\": 0.624, \"RM\": 5.757, \"AGE\": 98.4, \"DIS\": 2.346, \"RAD\": 4, \"TAX\": 437.0, \"PTRATIO\": 21.2, \"B\": 262.76, \"LSTAT\": 17.31, \"MEDV\": 15.6}, {\"CRIM\": 0.55778, \"ZN\": 0.0, \"INDUS\": 21.89, \"CHAS\": 0, \"NOX\": 0.624, \"RM\": 6.335, \"AGE\": 98.2, \"DIS\": 2.1107, \"RAD\": 4, \"TAX\": 437.0, \"PTRATIO\": 21.2, \"B\": 394.67, \"LSTAT\": 16.96, \"MEDV\": 18.1}, {\"CRIM\": 0.32264, \"ZN\": 0.0, \"INDUS\": 21.89, \"CHAS\": 0, \"NOX\": 0.624, \"RM\": 5.942, \"AGE\": 93.5, \"DIS\": 1.9669, \"RAD\": 4, \"TAX\": 437.0, \"PTRATIO\": 21.2, \"B\": 378.25, \"LSTAT\": 16.9, \"MEDV\": 17.4}, {\"CRIM\": 0.35233000000000003, \"ZN\": 0.0, \"INDUS\": 21.89, \"CHAS\": 0, \"NOX\": 0.624, \"RM\": 6.454, \"AGE\": 98.4, \"DIS\": 1.8498, \"RAD\": 4, \"TAX\": 437.0, \"PTRATIO\": 21.2, \"B\": 394.08, \"LSTAT\": 14.59, \"MEDV\": 17.1}, {\"CRIM\": 0.2498, \"ZN\": 0.0, \"INDUS\": 21.89, \"CHAS\": 0, \"NOX\": 0.624, \"RM\": 5.857, \"AGE\": 98.2, \"DIS\": 1.6686, \"RAD\": 4, \"TAX\": 437.0, \"PTRATIO\": 21.2, \"B\": 392.04, \"LSTAT\": 21.32, \"MEDV\": 13.3}, {\"CRIM\": 0.54452, \"ZN\": 0.0, \"INDUS\": 21.89, \"CHAS\": 0, \"NOX\": 0.624, \"RM\": 6.151, \"AGE\": 97.9, \"DIS\": 1.6687, \"RAD\": 4, \"TAX\": 437.0, \"PTRATIO\": 21.2, \"B\": 396.9, \"LSTAT\": 18.46, \"MEDV\": 17.8}, {\"CRIM\": 0.2909, \"ZN\": 0.0, \"INDUS\": 21.89, \"CHAS\": 0, \"NOX\": 0.624, \"RM\": 6.174, \"AGE\": 93.6, \"DIS\": 1.6119, \"RAD\": 4, \"TAX\": 437.0, \"PTRATIO\": 21.2, \"B\": 388.08, \"LSTAT\": 24.16, \"MEDV\": 14.0}, {\"CRIM\": 1.6286399999999999, \"ZN\": 0.0, \"INDUS\": 21.89, \"CHAS\": 0, \"NOX\": 0.624, \"RM\": 5.019, \"AGE\": 100.0, \"DIS\": 1.4394, \"RAD\": 4, \"TAX\": 437.0, \"PTRATIO\": 21.2, \"B\": 396.9, \"LSTAT\": 34.41, \"MEDV\": 14.4}, {\"CRIM\": 3.32105, \"ZN\": 0.0, \"INDUS\": 19.58, \"CHAS\": 1, \"NOX\": 0.871, \"RM\": 5.403, \"AGE\": 100.0, \"DIS\": 1.3216, \"RAD\": 5, \"TAX\": 403.0, \"PTRATIO\": 14.7, \"B\": 396.9, \"LSTAT\": 26.82, \"MEDV\": 13.4}, {\"CRIM\": 4.0974, \"ZN\": 0.0, \"INDUS\": 19.58, \"CHAS\": 0, \"NOX\": 0.871, \"RM\": 5.468, \"AGE\": 100.0, \"DIS\": 1.4118, \"RAD\": 5, \"TAX\": 403.0, \"PTRATIO\": 14.7, \"B\": 396.9, \"LSTAT\": 26.42, \"MEDV\": 15.6}, {\"CRIM\": 2.7797400000000003, \"ZN\": 0.0, \"INDUS\": 19.58, \"CHAS\": 0, \"NOX\": 0.871, \"RM\": 4.903, \"AGE\": 97.8, \"DIS\": 1.3459, \"RAD\": 5, \"TAX\": 403.0, \"PTRATIO\": 14.7, \"B\": 396.9, \"LSTAT\": 29.29, \"MEDV\": 11.8}, {\"CRIM\": 2.37934, \"ZN\": 0.0, \"INDUS\": 19.58, \"CHAS\": 0, \"NOX\": 0.871, \"RM\": 6.13, \"AGE\": 100.0, \"DIS\": 1.4191, \"RAD\": 5, \"TAX\": 403.0, \"PTRATIO\": 14.7, \"B\": 172.91, \"LSTAT\": 27.8, \"MEDV\": 13.8}, {\"CRIM\": 2.15505, \"ZN\": 0.0, \"INDUS\": 19.58, \"CHAS\": 0, \"NOX\": 0.871, \"RM\": 5.628, \"AGE\": 100.0, \"DIS\": 1.5166, \"RAD\": 5, \"TAX\": 403.0, \"PTRATIO\": 14.7, \"B\": 169.27, \"LSTAT\": 16.65, \"MEDV\": 15.6}, {\"CRIM\": 2.36862, \"ZN\": 0.0, \"INDUS\": 19.58, \"CHAS\": 0, \"NOX\": 0.871, \"RM\": 4.926, \"AGE\": 95.7, \"DIS\": 1.4608, \"RAD\": 5, \"TAX\": 403.0, \"PTRATIO\": 14.7, \"B\": 391.71, \"LSTAT\": 29.53, \"MEDV\": 14.6}, {\"CRIM\": 2.3309900000000003, \"ZN\": 0.0, \"INDUS\": 19.58, \"CHAS\": 0, \"NOX\": 0.871, \"RM\": 5.186, \"AGE\": 93.8, \"DIS\": 1.5296, \"RAD\": 5, \"TAX\": 403.0, \"PTRATIO\": 14.7, \"B\": 356.99, \"LSTAT\": 28.32, \"MEDV\": 17.8}, {\"CRIM\": 2.7339700000000002, \"ZN\": 0.0, \"INDUS\": 19.58, \"CHAS\": 0, \"NOX\": 0.871, \"RM\": 5.597, \"AGE\": 94.9, \"DIS\": 1.5257, \"RAD\": 5, \"TAX\": 403.0, \"PTRATIO\": 14.7, \"B\": 351.85, \"LSTAT\": 21.45, \"MEDV\": 15.4}, {\"CRIM\": 1.6566, \"ZN\": 0.0, \"INDUS\": 19.58, \"CHAS\": 0, \"NOX\": 0.871, \"RM\": 6.122, \"AGE\": 97.3, \"DIS\": 1.618, \"RAD\": 5, \"TAX\": 403.0, \"PTRATIO\": 14.7, \"B\": 372.8, \"LSTAT\": 14.1, \"MEDV\": 21.5}, {\"CRIM\": 1.49632, \"ZN\": 0.0, \"INDUS\": 19.58, \"CHAS\": 0, \"NOX\": 0.871, \"RM\": 5.404, \"AGE\": 100.0, \"DIS\": 1.5916, \"RAD\": 5, \"TAX\": 403.0, \"PTRATIO\": 14.7, \"B\": 341.6, \"LSTAT\": 13.28, \"MEDV\": 19.6}, {\"CRIM\": 1.12658, \"ZN\": 0.0, \"INDUS\": 19.58, \"CHAS\": 1, \"NOX\": 0.871, \"RM\": 5.012, \"AGE\": 88.0, \"DIS\": 1.6102, \"RAD\": 5, \"TAX\": 403.0, \"PTRATIO\": 14.7, \"B\": 343.28, \"LSTAT\": 12.12, \"MEDV\": 15.3}, {\"CRIM\": 2.14918, \"ZN\": 0.0, \"INDUS\": 19.58, \"CHAS\": 0, \"NOX\": 0.871, \"RM\": 5.709, \"AGE\": 98.5, \"DIS\": 1.6232, \"RAD\": 5, \"TAX\": 403.0, \"PTRATIO\": 14.7, \"B\": 261.95, \"LSTAT\": 15.79, \"MEDV\": 19.4}, {\"CRIM\": 1.41385, \"ZN\": 0.0, \"INDUS\": 19.58, \"CHAS\": 1, \"NOX\": 0.871, \"RM\": 6.129, \"AGE\": 96.0, \"DIS\": 1.7494, \"RAD\": 5, \"TAX\": 403.0, \"PTRATIO\": 14.7, \"B\": 321.02, \"LSTAT\": 15.12, \"MEDV\": 17.0}, {\"CRIM\": 3.5350099999999998, \"ZN\": 0.0, \"INDUS\": 19.58, \"CHAS\": 1, \"NOX\": 0.871, \"RM\": 6.152, \"AGE\": 82.6, \"DIS\": 1.7455, \"RAD\": 5, \"TAX\": 403.0, \"PTRATIO\": 14.7, \"B\": 88.01, \"LSTAT\": 15.02, \"MEDV\": 15.6}, {\"CRIM\": 2.4466799999999997, \"ZN\": 0.0, \"INDUS\": 19.58, \"CHAS\": 0, \"NOX\": 0.871, \"RM\": 5.272, \"AGE\": 94.0, \"DIS\": 1.7364, \"RAD\": 5, \"TAX\": 403.0, \"PTRATIO\": 14.7, \"B\": 88.63, \"LSTAT\": 16.14, \"MEDV\": 13.1}, {\"CRIM\": 1.22358, \"ZN\": 0.0, \"INDUS\": 19.58, \"CHAS\": 0, \"NOX\": 0.605, \"RM\": 6.943, \"AGE\": 97.4, \"DIS\": 1.8773, \"RAD\": 5, \"TAX\": 403.0, \"PTRATIO\": 14.7, \"B\": 363.43, \"LSTAT\": 4.59, \"MEDV\": 41.3}, {\"CRIM\": 1.34284, \"ZN\": 0.0, \"INDUS\": 19.58, \"CHAS\": 0, \"NOX\": 0.605, \"RM\": 6.066, \"AGE\": 100.0, \"DIS\": 1.7573, \"RAD\": 5, \"TAX\": 403.0, \"PTRATIO\": 14.7, \"B\": 353.89, \"LSTAT\": 6.43, \"MEDV\": 24.3}, {\"CRIM\": 1.4250200000000002, \"ZN\": 0.0, \"INDUS\": 19.58, \"CHAS\": 0, \"NOX\": 0.871, \"RM\": 6.51, \"AGE\": 100.0, \"DIS\": 1.7659, \"RAD\": 5, \"TAX\": 403.0, \"PTRATIO\": 14.7, \"B\": 364.31, \"LSTAT\": 7.39, \"MEDV\": 23.3}, {\"CRIM\": 1.27346, \"ZN\": 0.0, \"INDUS\": 19.58, \"CHAS\": 1, \"NOX\": 0.605, \"RM\": 6.25, \"AGE\": 92.6, \"DIS\": 1.7984, \"RAD\": 5, \"TAX\": 403.0, \"PTRATIO\": 14.7, \"B\": 338.92, \"LSTAT\": 5.5, \"MEDV\": 27.0}, {\"CRIM\": 1.46336, \"ZN\": 0.0, \"INDUS\": 19.58, \"CHAS\": 0, \"NOX\": 0.605, \"RM\": 7.489, \"AGE\": 90.8, \"DIS\": 1.9709, \"RAD\": 5, \"TAX\": 403.0, \"PTRATIO\": 14.7, \"B\": 374.43, \"LSTAT\": 1.73, \"MEDV\": 50.0}, {\"CRIM\": 1.8337700000000001, \"ZN\": 0.0, \"INDUS\": 19.58, \"CHAS\": 1, \"NOX\": 0.605, \"RM\": 7.802, \"AGE\": 98.2, \"DIS\": 2.0407, \"RAD\": 5, \"TAX\": 403.0, \"PTRATIO\": 14.7, \"B\": 389.61, \"LSTAT\": 1.92, \"MEDV\": 50.0}, {\"CRIM\": 1.51902, \"ZN\": 0.0, \"INDUS\": 19.58, \"CHAS\": 1, \"NOX\": 0.605, \"RM\": 8.375, \"AGE\": 93.9, \"DIS\": 2.162, \"RAD\": 5, \"TAX\": 403.0, \"PTRATIO\": 14.7, \"B\": 388.45, \"LSTAT\": 3.32, \"MEDV\": 50.0}, {\"CRIM\": 2.2423599999999997, \"ZN\": 0.0, \"INDUS\": 19.58, \"CHAS\": 0, \"NOX\": 0.605, \"RM\": 5.854, \"AGE\": 91.8, \"DIS\": 2.422, \"RAD\": 5, \"TAX\": 403.0, \"PTRATIO\": 14.7, \"B\": 395.11, \"LSTAT\": 11.64, \"MEDV\": 22.7}, {\"CRIM\": 2.924, \"ZN\": 0.0, \"INDUS\": 19.58, \"CHAS\": 0, \"NOX\": 0.605, \"RM\": 6.101, \"AGE\": 93.0, \"DIS\": 2.2834, \"RAD\": 5, \"TAX\": 403.0, \"PTRATIO\": 14.7, \"B\": 240.16, \"LSTAT\": 9.81, \"MEDV\": 25.0}, {\"CRIM\": 2.01019, \"ZN\": 0.0, \"INDUS\": 19.58, \"CHAS\": 0, \"NOX\": 0.605, \"RM\": 7.929, \"AGE\": 96.2, \"DIS\": 2.0459, \"RAD\": 5, \"TAX\": 403.0, \"PTRATIO\": 14.7, \"B\": 369.3, \"LSTAT\": 3.7, \"MEDV\": 50.0}, {\"CRIM\": 1.8002799999999999, \"ZN\": 0.0, \"INDUS\": 19.58, \"CHAS\": 0, \"NOX\": 0.605, \"RM\": 5.877, \"AGE\": 79.2, \"DIS\": 2.4259, \"RAD\": 5, \"TAX\": 403.0, \"PTRATIO\": 14.7, \"B\": 227.61, \"LSTAT\": 12.14, \"MEDV\": 23.8}, {\"CRIM\": 2.3004, \"ZN\": 0.0, \"INDUS\": 19.58, \"CHAS\": 0, \"NOX\": 0.605, \"RM\": 6.319, \"AGE\": 96.1, \"DIS\": 2.1, \"RAD\": 5, \"TAX\": 403.0, \"PTRATIO\": 14.7, \"B\": 297.09, \"LSTAT\": 11.1, \"MEDV\": 23.8}, {\"CRIM\": 2.4495299999999998, \"ZN\": 0.0, \"INDUS\": 19.58, \"CHAS\": 0, \"NOX\": 0.605, \"RM\": 6.402, \"AGE\": 95.2, \"DIS\": 2.2625, \"RAD\": 5, \"TAX\": 403.0, \"PTRATIO\": 14.7, \"B\": 330.04, \"LSTAT\": 11.32, \"MEDV\": 22.3}, {\"CRIM\": 1.2074200000000002, \"ZN\": 0.0, \"INDUS\": 19.58, \"CHAS\": 0, \"NOX\": 0.605, \"RM\": 5.875, \"AGE\": 94.6, \"DIS\": 2.4259, \"RAD\": 5, \"TAX\": 403.0, \"PTRATIO\": 14.7, \"B\": 292.29, \"LSTAT\": 14.43, \"MEDV\": 17.4}, {\"CRIM\": 2.3139, \"ZN\": 0.0, \"INDUS\": 19.58, \"CHAS\": 0, \"NOX\": 0.605, \"RM\": 5.88, \"AGE\": 97.3, \"DIS\": 2.3887, \"RAD\": 5, \"TAX\": 403.0, \"PTRATIO\": 14.7, \"B\": 348.13, \"LSTAT\": 12.03, \"MEDV\": 19.1}, {\"CRIM\": 0.13914, \"ZN\": 0.0, \"INDUS\": 4.05, \"CHAS\": 0, \"NOX\": 0.51, \"RM\": 5.572, \"AGE\": 88.5, \"DIS\": 2.5961, \"RAD\": 5, \"TAX\": 296.0, \"PTRATIO\": 16.6, \"B\": 396.9, \"LSTAT\": 14.69, \"MEDV\": 23.1}, {\"CRIM\": 0.09178, \"ZN\": 0.0, \"INDUS\": 4.05, \"CHAS\": 0, \"NOX\": 0.51, \"RM\": 6.416, \"AGE\": 84.1, \"DIS\": 2.6463, \"RAD\": 5, \"TAX\": 296.0, \"PTRATIO\": 16.6, \"B\": 395.5, \"LSTAT\": 9.04, \"MEDV\": 23.6}, {\"CRIM\": 0.08447, \"ZN\": 0.0, \"INDUS\": 4.05, \"CHAS\": 0, \"NOX\": 0.51, \"RM\": 5.859, \"AGE\": 68.7, \"DIS\": 2.7019, \"RAD\": 5, \"TAX\": 296.0, \"PTRATIO\": 16.6, \"B\": 393.23, \"LSTAT\": 9.64, \"MEDV\": 22.6}, {\"CRIM\": 0.06663999999999999, \"ZN\": 0.0, \"INDUS\": 4.05, \"CHAS\": 0, \"NOX\": 0.51, \"RM\": 6.546, \"AGE\": 33.1, \"DIS\": 3.1323, \"RAD\": 5, \"TAX\": 296.0, \"PTRATIO\": 16.6, \"B\": 390.96, \"LSTAT\": 5.33, \"MEDV\": 29.4}, {\"CRIM\": 0.07022, \"ZN\": 0.0, \"INDUS\": 4.05, \"CHAS\": 0, \"NOX\": 0.51, \"RM\": 6.02, \"AGE\": 47.2, \"DIS\": 3.5549, \"RAD\": 5, \"TAX\": 296.0, \"PTRATIO\": 16.6, \"B\": 393.23, \"LSTAT\": 10.11, \"MEDV\": 23.2}, {\"CRIM\": 0.05425, \"ZN\": 0.0, \"INDUS\": 4.05, \"CHAS\": 0, \"NOX\": 0.51, \"RM\": 6.315, \"AGE\": 73.4, \"DIS\": 3.3175, \"RAD\": 5, \"TAX\": 296.0, \"PTRATIO\": 16.6, \"B\": 395.6, \"LSTAT\": 6.29, \"MEDV\": 24.6}, {\"CRIM\": 0.06642, \"ZN\": 0.0, \"INDUS\": 4.05, \"CHAS\": 0, \"NOX\": 0.51, \"RM\": 6.86, \"AGE\": 74.4, \"DIS\": 2.9153, \"RAD\": 5, \"TAX\": 296.0, \"PTRATIO\": 16.6, \"B\": 391.27, \"LSTAT\": 6.92, \"MEDV\": 29.9}, {\"CRIM\": 0.0578, \"ZN\": 0.0, \"INDUS\": 2.46, \"CHAS\": 0, \"NOX\": 0.488, \"RM\": 6.98, \"AGE\": 58.4, \"DIS\": 2.829, \"RAD\": 3, \"TAX\": 193.0, \"PTRATIO\": 17.8, \"B\": 396.9, \"LSTAT\": 5.04, \"MEDV\": 37.2}, {\"CRIM\": 0.06588, \"ZN\": 0.0, \"INDUS\": 2.46, \"CHAS\": 0, \"NOX\": 0.488, \"RM\": 7.765, \"AGE\": 83.3, \"DIS\": 2.741, \"RAD\": 3, \"TAX\": 193.0, \"PTRATIO\": 17.8, \"B\": 395.56, \"LSTAT\": 7.56, \"MEDV\": 39.8}, {\"CRIM\": 0.06888, \"ZN\": 0.0, \"INDUS\": 2.46, \"CHAS\": 0, \"NOX\": 0.488, \"RM\": 6.144, \"AGE\": 62.2, \"DIS\": 2.5979, \"RAD\": 3, \"TAX\": 193.0, \"PTRATIO\": 17.8, \"B\": 396.9, \"LSTAT\": 9.45, \"MEDV\": 36.2}, {\"CRIM\": 0.09103, \"ZN\": 0.0, \"INDUS\": 2.46, \"CHAS\": 0, \"NOX\": 0.488, \"RM\": 7.155, \"AGE\": 92.2, \"DIS\": 2.7006, \"RAD\": 3, \"TAX\": 193.0, \"PTRATIO\": 17.8, \"B\": 394.12, \"LSTAT\": 4.82, \"MEDV\": 37.9}, {\"CRIM\": 0.10008, \"ZN\": 0.0, \"INDUS\": 2.46, \"CHAS\": 0, \"NOX\": 0.488, \"RM\": 6.563, \"AGE\": 95.6, \"DIS\": 2.847, \"RAD\": 3, \"TAX\": 193.0, \"PTRATIO\": 17.8, \"B\": 396.9, \"LSTAT\": 5.68, \"MEDV\": 32.5}, {\"CRIM\": 0.08308, \"ZN\": 0.0, \"INDUS\": 2.46, \"CHAS\": 0, \"NOX\": 0.488, \"RM\": 5.604, \"AGE\": 89.8, \"DIS\": 2.9879, \"RAD\": 3, \"TAX\": 193.0, \"PTRATIO\": 17.8, \"B\": 391.0, \"LSTAT\": 13.98, \"MEDV\": 26.4}, {\"CRIM\": 0.06047, \"ZN\": 0.0, \"INDUS\": 2.46, \"CHAS\": 0, \"NOX\": 0.488, \"RM\": 6.153, \"AGE\": 68.8, \"DIS\": 3.2797, \"RAD\": 3, \"TAX\": 193.0, \"PTRATIO\": 17.8, \"B\": 387.11, \"LSTAT\": 13.15, \"MEDV\": 29.6}, {\"CRIM\": 0.05602000000000001, \"ZN\": 0.0, \"INDUS\": 2.46, \"CHAS\": 0, \"NOX\": 0.488, \"RM\": 7.831, \"AGE\": 53.6, \"DIS\": 3.1992, \"RAD\": 3, \"TAX\": 193.0, \"PTRATIO\": 17.8, \"B\": 392.63, \"LSTAT\": 4.45, \"MEDV\": 50.0}, {\"CRIM\": 0.07875, \"ZN\": 45.0, \"INDUS\": 3.44, \"CHAS\": 0, \"NOX\": 0.437, \"RM\": 6.782, \"AGE\": 41.1, \"DIS\": 3.7886, \"RAD\": 5, \"TAX\": 398.0, \"PTRATIO\": 15.2, \"B\": 393.87, \"LSTAT\": 6.68, \"MEDV\": 32.0}, {\"CRIM\": 0.12579, \"ZN\": 45.0, \"INDUS\": 3.44, \"CHAS\": 0, \"NOX\": 0.437, \"RM\": 6.556, \"AGE\": 29.1, \"DIS\": 4.5667, \"RAD\": 5, \"TAX\": 398.0, \"PTRATIO\": 15.2, \"B\": 382.84, \"LSTAT\": 4.56, \"MEDV\": 29.8}, {\"CRIM\": 0.0837, \"ZN\": 45.0, \"INDUS\": 3.44, \"CHAS\": 0, \"NOX\": 0.437, \"RM\": 7.185, \"AGE\": 38.9, \"DIS\": 4.5667, \"RAD\": 5, \"TAX\": 398.0, \"PTRATIO\": 15.2, \"B\": 396.9, \"LSTAT\": 5.39, \"MEDV\": 34.9}, {\"CRIM\": 0.09068, \"ZN\": 45.0, \"INDUS\": 3.44, \"CHAS\": 0, \"NOX\": 0.437, \"RM\": 6.951, \"AGE\": 21.5, \"DIS\": 6.4798, \"RAD\": 5, \"TAX\": 398.0, \"PTRATIO\": 15.2, \"B\": 377.68, \"LSTAT\": 5.1, \"MEDV\": 37.0}, {\"CRIM\": 0.06911, \"ZN\": 45.0, \"INDUS\": 3.44, \"CHAS\": 0, \"NOX\": 0.437, \"RM\": 6.739, \"AGE\": 30.8, \"DIS\": 6.4798, \"RAD\": 5, \"TAX\": 398.0, \"PTRATIO\": 15.2, \"B\": 389.71, \"LSTAT\": 4.69, \"MEDV\": 30.5}, {\"CRIM\": 0.08664, \"ZN\": 45.0, \"INDUS\": 3.44, \"CHAS\": 0, \"NOX\": 0.437, \"RM\": 7.178, \"AGE\": 26.3, \"DIS\": 6.4798, \"RAD\": 5, \"TAX\": 398.0, \"PTRATIO\": 15.2, \"B\": 390.49, \"LSTAT\": 2.87, \"MEDV\": 36.4}, {\"CRIM\": 0.02187, \"ZN\": 60.0, \"INDUS\": 2.93, \"CHAS\": 0, \"NOX\": 0.401, \"RM\": 6.8, \"AGE\": 9.9, \"DIS\": 6.2196, \"RAD\": 1, \"TAX\": 265.0, \"PTRATIO\": 15.6, \"B\": 393.37, \"LSTAT\": 5.03, \"MEDV\": 31.1}, {\"CRIM\": 0.01439, \"ZN\": 60.0, \"INDUS\": 2.93, \"CHAS\": 0, \"NOX\": 0.401, \"RM\": 6.604, \"AGE\": 18.8, \"DIS\": 6.2196, \"RAD\": 1, \"TAX\": 265.0, \"PTRATIO\": 15.6, \"B\": 376.7, \"LSTAT\": 4.38, \"MEDV\": 29.1}, {\"CRIM\": 0.01381, \"ZN\": 80.0, \"INDUS\": 0.46, \"CHAS\": 0, \"NOX\": 0.422, \"RM\": 7.875, \"AGE\": 32.0, \"DIS\": 5.6484, \"RAD\": 4, \"TAX\": 255.0, \"PTRATIO\": 14.4, \"B\": 394.23, \"LSTAT\": 2.97, \"MEDV\": 50.0}, {\"CRIM\": 0.04011, \"ZN\": 80.0, \"INDUS\": 1.52, \"CHAS\": 0, \"NOX\": 0.404, \"RM\": 7.287, \"AGE\": 34.1, \"DIS\": 7.309, \"RAD\": 2, \"TAX\": 329.0, \"PTRATIO\": 12.6, \"B\": 396.9, \"LSTAT\": 4.08, \"MEDV\": 33.3}, {\"CRIM\": 0.04666, \"ZN\": 80.0, \"INDUS\": 1.52, \"CHAS\": 0, \"NOX\": 0.404, \"RM\": 7.107, \"AGE\": 36.6, \"DIS\": 7.309, \"RAD\": 2, \"TAX\": 329.0, \"PTRATIO\": 12.6, \"B\": 354.31, \"LSTAT\": 8.61, \"MEDV\": 30.3}, {\"CRIM\": 0.03768, \"ZN\": 80.0, \"INDUS\": 1.52, \"CHAS\": 0, \"NOX\": 0.404, \"RM\": 7.274, \"AGE\": 38.3, \"DIS\": 7.309, \"RAD\": 2, \"TAX\": 329.0, \"PTRATIO\": 12.6, \"B\": 392.2, \"LSTAT\": 6.62, \"MEDV\": 34.6}, {\"CRIM\": 0.0315, \"ZN\": 95.0, \"INDUS\": 1.47, \"CHAS\": 0, \"NOX\": 0.403, \"RM\": 6.975, \"AGE\": 15.3, \"DIS\": 7.6534, \"RAD\": 3, \"TAX\": 402.0, \"PTRATIO\": 17.0, \"B\": 396.9, \"LSTAT\": 4.56, \"MEDV\": 34.9}, {\"CRIM\": 0.01778, \"ZN\": 95.0, \"INDUS\": 1.47, \"CHAS\": 0, \"NOX\": 0.403, \"RM\": 7.135, \"AGE\": 13.9, \"DIS\": 7.6534, \"RAD\": 3, \"TAX\": 402.0, \"PTRATIO\": 17.0, \"B\": 384.3, \"LSTAT\": 4.45, \"MEDV\": 32.9}, {\"CRIM\": 0.03445, \"ZN\": 82.5, \"INDUS\": 2.03, \"CHAS\": 0, \"NOX\": 0.415, \"RM\": 6.162, \"AGE\": 38.4, \"DIS\": 6.27, \"RAD\": 2, \"TAX\": 348.0, \"PTRATIO\": 14.7, \"B\": 393.77, \"LSTAT\": 7.43, \"MEDV\": 24.1}, {\"CRIM\": 0.021769999999999998, \"ZN\": 82.5, \"INDUS\": 2.03, \"CHAS\": 0, \"NOX\": 0.415, \"RM\": 7.61, \"AGE\": 15.7, \"DIS\": 6.27, \"RAD\": 2, \"TAX\": 348.0, \"PTRATIO\": 14.7, \"B\": 395.38, \"LSTAT\": 3.11, \"MEDV\": 42.3}, {\"CRIM\": 0.0351, \"ZN\": 95.0, \"INDUS\": 2.68, \"CHAS\": 0, \"NOX\": 0.4161, \"RM\": 7.853, \"AGE\": 33.2, \"DIS\": 5.118, \"RAD\": 4, \"TAX\": 224.0, \"PTRATIO\": 14.7, \"B\": 392.78, \"LSTAT\": 3.81, \"MEDV\": 48.5}, {\"CRIM\": 0.02009, \"ZN\": 95.0, \"INDUS\": 2.68, \"CHAS\": 0, \"NOX\": 0.4161, \"RM\": 8.034, \"AGE\": 31.9, \"DIS\": 5.118, \"RAD\": 4, \"TAX\": 224.0, \"PTRATIO\": 14.7, \"B\": 390.55, \"LSTAT\": 2.88, \"MEDV\": 50.0}, {\"CRIM\": 0.13642, \"ZN\": 0.0, \"INDUS\": 10.59, \"CHAS\": 0, \"NOX\": 0.489, \"RM\": 5.891, \"AGE\": 22.3, \"DIS\": 3.9454, \"RAD\": 4, \"TAX\": 277.0, \"PTRATIO\": 18.6, \"B\": 396.9, \"LSTAT\": 10.87, \"MEDV\": 22.6}, {\"CRIM\": 0.22969, \"ZN\": 0.0, \"INDUS\": 10.59, \"CHAS\": 0, \"NOX\": 0.489, \"RM\": 6.326, \"AGE\": 52.5, \"DIS\": 4.3549, \"RAD\": 4, \"TAX\": 277.0, \"PTRATIO\": 18.6, \"B\": 394.87, \"LSTAT\": 10.97, \"MEDV\": 24.4}, {\"CRIM\": 0.25199, \"ZN\": 0.0, \"INDUS\": 10.59, \"CHAS\": 0, \"NOX\": 0.489, \"RM\": 5.783, \"AGE\": 72.7, \"DIS\": 4.3549, \"RAD\": 4, \"TAX\": 277.0, \"PTRATIO\": 18.6, \"B\": 389.43, \"LSTAT\": 18.06, \"MEDV\": 22.5}, {\"CRIM\": 0.13587, \"ZN\": 0.0, \"INDUS\": 10.59, \"CHAS\": 1, \"NOX\": 0.489, \"RM\": 6.064, \"AGE\": 59.1, \"DIS\": 4.2392, \"RAD\": 4, \"TAX\": 277.0, \"PTRATIO\": 18.6, \"B\": 381.32, \"LSTAT\": 14.66, \"MEDV\": 24.4}, {\"CRIM\": 0.43571000000000004, \"ZN\": 0.0, \"INDUS\": 10.59, \"CHAS\": 1, \"NOX\": 0.489, \"RM\": 5.344, \"AGE\": 100.0, \"DIS\": 3.875, \"RAD\": 4, \"TAX\": 277.0, \"PTRATIO\": 18.6, \"B\": 396.9, \"LSTAT\": 23.09, \"MEDV\": 20.0}, {\"CRIM\": 0.17446, \"ZN\": 0.0, \"INDUS\": 10.59, \"CHAS\": 1, \"NOX\": 0.489, \"RM\": 5.96, \"AGE\": 92.1, \"DIS\": 3.8771, \"RAD\": 4, \"TAX\": 277.0, \"PTRATIO\": 18.6, \"B\": 393.25, \"LSTAT\": 17.27, \"MEDV\": 21.7}, {\"CRIM\": 0.37578, \"ZN\": 0.0, \"INDUS\": 10.59, \"CHAS\": 1, \"NOX\": 0.489, \"RM\": 5.404, \"AGE\": 88.6, \"DIS\": 3.665, \"RAD\": 4, \"TAX\": 277.0, \"PTRATIO\": 18.6, \"B\": 395.24, \"LSTAT\": 23.98, \"MEDV\": 19.3}, {\"CRIM\": 0.21719000000000002, \"ZN\": 0.0, \"INDUS\": 10.59, \"CHAS\": 1, \"NOX\": 0.489, \"RM\": 5.807, \"AGE\": 53.8, \"DIS\": 3.6526, \"RAD\": 4, \"TAX\": 277.0, \"PTRATIO\": 18.6, \"B\": 390.94, \"LSTAT\": 16.03, \"MEDV\": 22.4}, {\"CRIM\": 0.14052, \"ZN\": 0.0, \"INDUS\": 10.59, \"CHAS\": 0, \"NOX\": 0.489, \"RM\": 6.375, \"AGE\": 32.3, \"DIS\": 3.9454, \"RAD\": 4, \"TAX\": 277.0, \"PTRATIO\": 18.6, \"B\": 385.81, \"LSTAT\": 9.38, \"MEDV\": 28.1}, {\"CRIM\": 0.28955, \"ZN\": 0.0, \"INDUS\": 10.59, \"CHAS\": 0, \"NOX\": 0.489, \"RM\": 5.412, \"AGE\": 9.8, \"DIS\": 3.5875, \"RAD\": 4, \"TAX\": 277.0, \"PTRATIO\": 18.6, \"B\": 348.93, \"LSTAT\": 29.55, \"MEDV\": 23.7}, {\"CRIM\": 0.19802, \"ZN\": 0.0, \"INDUS\": 10.59, \"CHAS\": 0, \"NOX\": 0.489, \"RM\": 6.182, \"AGE\": 42.4, \"DIS\": 3.9454, \"RAD\": 4, \"TAX\": 277.0, \"PTRATIO\": 18.6, \"B\": 393.63, \"LSTAT\": 9.47, \"MEDV\": 25.0}, {\"CRIM\": 0.0456, \"ZN\": 0.0, \"INDUS\": 13.89, \"CHAS\": 1, \"NOX\": 0.55, \"RM\": 5.888, \"AGE\": 56.0, \"DIS\": 3.1121, \"RAD\": 5, \"TAX\": 276.0, \"PTRATIO\": 16.4, \"B\": 392.8, \"LSTAT\": 13.51, \"MEDV\": 23.3}, {\"CRIM\": 0.07013, \"ZN\": 0.0, \"INDUS\": 13.89, \"CHAS\": 0, \"NOX\": 0.55, \"RM\": 6.642, \"AGE\": 85.1, \"DIS\": 3.4211, \"RAD\": 5, \"TAX\": 276.0, \"PTRATIO\": 16.4, \"B\": 392.78, \"LSTAT\": 9.69, \"MEDV\": 28.7}, {\"CRIM\": 0.11069000000000001, \"ZN\": 0.0, \"INDUS\": 13.89, \"CHAS\": 1, \"NOX\": 0.55, \"RM\": 5.951, \"AGE\": 93.8, \"DIS\": 2.8893, \"RAD\": 5, \"TAX\": 276.0, \"PTRATIO\": 16.4, \"B\": 396.9, \"LSTAT\": 17.92, \"MEDV\": 21.5}, {\"CRIM\": 0.11425, \"ZN\": 0.0, \"INDUS\": 13.89, \"CHAS\": 1, \"NOX\": 0.55, \"RM\": 6.373, \"AGE\": 92.4, \"DIS\": 3.3633, \"RAD\": 5, \"TAX\": 276.0, \"PTRATIO\": 16.4, \"B\": 393.74, \"LSTAT\": 10.5, \"MEDV\": 23.0}, {\"CRIM\": 0.35809, \"ZN\": 0.0, \"INDUS\": 6.2, \"CHAS\": 1, \"NOX\": 0.507, \"RM\": 6.951, \"AGE\": 88.5, \"DIS\": 2.8617, \"RAD\": 8, \"TAX\": 307.0, \"PTRATIO\": 17.4, \"B\": 391.7, \"LSTAT\": 9.71, \"MEDV\": 26.7}, {\"CRIM\": 0.40771, \"ZN\": 0.0, \"INDUS\": 6.2, \"CHAS\": 1, \"NOX\": 0.507, \"RM\": 6.164, \"AGE\": 91.3, \"DIS\": 3.048, \"RAD\": 8, \"TAX\": 307.0, \"PTRATIO\": 17.4, \"B\": 395.24, \"LSTAT\": 21.46, \"MEDV\": 21.7}, {\"CRIM\": 0.62356, \"ZN\": 0.0, \"INDUS\": 6.2, \"CHAS\": 1, \"NOX\": 0.507, \"RM\": 6.879, \"AGE\": 77.7, \"DIS\": 3.2721, \"RAD\": 8, \"TAX\": 307.0, \"PTRATIO\": 17.4, \"B\": 390.39, \"LSTAT\": 9.93, \"MEDV\": 27.5}, {\"CRIM\": 0.6147, \"ZN\": 0.0, \"INDUS\": 6.2, \"CHAS\": 0, \"NOX\": 0.507, \"RM\": 6.618, \"AGE\": 80.8, \"DIS\": 3.2721, \"RAD\": 8, \"TAX\": 307.0, \"PTRATIO\": 17.4, \"B\": 396.9, \"LSTAT\": 7.6, \"MEDV\": 30.1}, {\"CRIM\": 0.31533, \"ZN\": 0.0, \"INDUS\": 6.2, \"CHAS\": 0, \"NOX\": 0.504, \"RM\": 8.266, \"AGE\": 78.3, \"DIS\": 2.8944, \"RAD\": 8, \"TAX\": 307.0, \"PTRATIO\": 17.4, \"B\": 385.05, \"LSTAT\": 4.14, \"MEDV\": 44.8}, {\"CRIM\": 0.52693, \"ZN\": 0.0, \"INDUS\": 6.2, \"CHAS\": 0, \"NOX\": 0.504, \"RM\": 8.725, \"AGE\": 83.0, \"DIS\": 2.8944, \"RAD\": 8, \"TAX\": 307.0, \"PTRATIO\": 17.4, \"B\": 382.0, \"LSTAT\": 4.63, \"MEDV\": 50.0}, {\"CRIM\": 0.38214000000000004, \"ZN\": 0.0, \"INDUS\": 6.2, \"CHAS\": 0, \"NOX\": 0.504, \"RM\": 8.04, \"AGE\": 86.5, \"DIS\": 3.2157, \"RAD\": 8, \"TAX\": 307.0, \"PTRATIO\": 17.4, \"B\": 387.38, \"LSTAT\": 3.13, \"MEDV\": 37.6}, {\"CRIM\": 0.41238, \"ZN\": 0.0, \"INDUS\": 6.2, \"CHAS\": 0, \"NOX\": 0.504, \"RM\": 7.163, \"AGE\": 79.9, \"DIS\": 3.2157, \"RAD\": 8, \"TAX\": 307.0, \"PTRATIO\": 17.4, \"B\": 372.08, \"LSTAT\": 6.36, \"MEDV\": 31.6}, {\"CRIM\": 0.29819, \"ZN\": 0.0, \"INDUS\": 6.2, \"CHAS\": 0, \"NOX\": 0.504, \"RM\": 7.686, \"AGE\": 17.0, \"DIS\": 3.3751, \"RAD\": 8, \"TAX\": 307.0, \"PTRATIO\": 17.4, \"B\": 377.51, \"LSTAT\": 3.92, \"MEDV\": 46.7}, {\"CRIM\": 0.44178, \"ZN\": 0.0, \"INDUS\": 6.2, \"CHAS\": 0, \"NOX\": 0.504, \"RM\": 6.552, \"AGE\": 21.4, \"DIS\": 3.3751, \"RAD\": 8, \"TAX\": 307.0, \"PTRATIO\": 17.4, \"B\": 380.34, \"LSTAT\": 3.76, \"MEDV\": 31.5}, {\"CRIM\": 0.537, \"ZN\": 0.0, \"INDUS\": 6.2, \"CHAS\": 0, \"NOX\": 0.504, \"RM\": 5.981, \"AGE\": 68.1, \"DIS\": 3.6715, \"RAD\": 8, \"TAX\": 307.0, \"PTRATIO\": 17.4, \"B\": 378.35, \"LSTAT\": 11.65, \"MEDV\": 24.3}, {\"CRIM\": 0.46296000000000004, \"ZN\": 0.0, \"INDUS\": 6.2, \"CHAS\": 0, \"NOX\": 0.504, \"RM\": 7.412, \"AGE\": 76.9, \"DIS\": 3.6715, \"RAD\": 8, \"TAX\": 307.0, \"PTRATIO\": 17.4, \"B\": 376.14, \"LSTAT\": 5.25, \"MEDV\": 31.7}, {\"CRIM\": 0.57529, \"ZN\": 0.0, \"INDUS\": 6.2, \"CHAS\": 0, \"NOX\": 0.507, \"RM\": 8.337, \"AGE\": 73.3, \"DIS\": 3.8384, \"RAD\": 8, \"TAX\": 307.0, \"PTRATIO\": 17.4, \"B\": 385.91, \"LSTAT\": 2.47, \"MEDV\": 41.7}, {\"CRIM\": 0.33147, \"ZN\": 0.0, \"INDUS\": 6.2, \"CHAS\": 0, \"NOX\": 0.507, \"RM\": 8.247, \"AGE\": 70.4, \"DIS\": 3.6519, \"RAD\": 8, \"TAX\": 307.0, \"PTRATIO\": 17.4, \"B\": 378.95, \"LSTAT\": 3.95, \"MEDV\": 48.3}, {\"CRIM\": 0.44791000000000003, \"ZN\": 0.0, \"INDUS\": 6.2, \"CHAS\": 1, \"NOX\": 0.507, \"RM\": 6.726, \"AGE\": 66.5, \"DIS\": 3.6519, \"RAD\": 8, \"TAX\": 307.0, \"PTRATIO\": 17.4, \"B\": 360.2, \"LSTAT\": 8.05, \"MEDV\": 29.0}, {\"CRIM\": 0.33045, \"ZN\": 0.0, \"INDUS\": 6.2, \"CHAS\": 0, \"NOX\": 0.507, \"RM\": 6.086, \"AGE\": 61.5, \"DIS\": 3.6519, \"RAD\": 8, \"TAX\": 307.0, \"PTRATIO\": 17.4, \"B\": 376.75, \"LSTAT\": 10.88, \"MEDV\": 24.0}, {\"CRIM\": 0.52058, \"ZN\": 0.0, \"INDUS\": 6.2, \"CHAS\": 1, \"NOX\": 0.507, \"RM\": 6.631, \"AGE\": 76.5, \"DIS\": 4.148, \"RAD\": 8, \"TAX\": 307.0, \"PTRATIO\": 17.4, \"B\": 388.45, \"LSTAT\": 9.54, \"MEDV\": 25.1}, {\"CRIM\": 0.51183, \"ZN\": 0.0, \"INDUS\": 6.2, \"CHAS\": 0, \"NOX\": 0.507, \"RM\": 7.358, \"AGE\": 71.6, \"DIS\": 4.148, \"RAD\": 8, \"TAX\": 307.0, \"PTRATIO\": 17.4, \"B\": 390.07, \"LSTAT\": 4.73, \"MEDV\": 31.5}, {\"CRIM\": 0.08244, \"ZN\": 30.0, \"INDUS\": 4.93, \"CHAS\": 0, \"NOX\": 0.428, \"RM\": 6.481, \"AGE\": 18.5, \"DIS\": 6.1899, \"RAD\": 6, \"TAX\": 300.0, \"PTRATIO\": 16.6, \"B\": 379.41, \"LSTAT\": 6.36, \"MEDV\": 23.7}, {\"CRIM\": 0.09252, \"ZN\": 30.0, \"INDUS\": 4.93, \"CHAS\": 0, \"NOX\": 0.428, \"RM\": 6.606, \"AGE\": 42.2, \"DIS\": 6.1899, \"RAD\": 6, \"TAX\": 300.0, \"PTRATIO\": 16.6, \"B\": 383.78, \"LSTAT\": 7.37, \"MEDV\": 23.3}, {\"CRIM\": 0.11329000000000002, \"ZN\": 30.0, \"INDUS\": 4.93, \"CHAS\": 0, \"NOX\": 0.428, \"RM\": 6.897, \"AGE\": 54.3, \"DIS\": 6.3361, \"RAD\": 6, \"TAX\": 300.0, \"PTRATIO\": 16.6, \"B\": 391.25, \"LSTAT\": 11.38, \"MEDV\": 22.0}, {\"CRIM\": 0.10612, \"ZN\": 30.0, \"INDUS\": 4.93, \"CHAS\": 0, \"NOX\": 0.428, \"RM\": 6.095, \"AGE\": 65.1, \"DIS\": 6.3361, \"RAD\": 6, \"TAX\": 300.0, \"PTRATIO\": 16.6, \"B\": 394.62, \"LSTAT\": 12.4, \"MEDV\": 20.1}, {\"CRIM\": 0.1029, \"ZN\": 30.0, \"INDUS\": 4.93, \"CHAS\": 0, \"NOX\": 0.428, \"RM\": 6.358, \"AGE\": 52.9, \"DIS\": 7.0355, \"RAD\": 6, \"TAX\": 300.0, \"PTRATIO\": 16.6, \"B\": 372.75, \"LSTAT\": 11.22, \"MEDV\": 22.2}, {\"CRIM\": 0.12757000000000002, \"ZN\": 30.0, \"INDUS\": 4.93, \"CHAS\": 0, \"NOX\": 0.428, \"RM\": 6.393, \"AGE\": 7.8, \"DIS\": 7.0355, \"RAD\": 6, \"TAX\": 300.0, \"PTRATIO\": 16.6, \"B\": 374.71, \"LSTAT\": 5.19, \"MEDV\": 23.7}, {\"CRIM\": 0.20608, \"ZN\": 22.0, \"INDUS\": 5.86, \"CHAS\": 0, \"NOX\": 0.431, \"RM\": 5.593, \"AGE\": 76.5, \"DIS\": 7.9549, \"RAD\": 7, \"TAX\": 330.0, \"PTRATIO\": 19.1, \"B\": 372.49, \"LSTAT\": 12.5, \"MEDV\": 17.6}, {\"CRIM\": 0.19133, \"ZN\": 22.0, \"INDUS\": 5.86, \"CHAS\": 0, \"NOX\": 0.431, \"RM\": 5.605, \"AGE\": 70.2, \"DIS\": 7.9549, \"RAD\": 7, \"TAX\": 330.0, \"PTRATIO\": 19.1, \"B\": 389.13, \"LSTAT\": 18.46, \"MEDV\": 18.5}, {\"CRIM\": 0.33983, \"ZN\": 22.0, \"INDUS\": 5.86, \"CHAS\": 0, \"NOX\": 0.431, \"RM\": 6.108, \"AGE\": 34.9, \"DIS\": 8.0555, \"RAD\": 7, \"TAX\": 330.0, \"PTRATIO\": 19.1, \"B\": 390.18, \"LSTAT\": 9.16, \"MEDV\": 24.3}, {\"CRIM\": 0.19657, \"ZN\": 22.0, \"INDUS\": 5.86, \"CHAS\": 0, \"NOX\": 0.431, \"RM\": 6.226, \"AGE\": 79.2, \"DIS\": 8.0555, \"RAD\": 7, \"TAX\": 330.0, \"PTRATIO\": 19.1, \"B\": 376.14, \"LSTAT\": 10.15, \"MEDV\": 20.5}, {\"CRIM\": 0.16439, \"ZN\": 22.0, \"INDUS\": 5.86, \"CHAS\": 0, \"NOX\": 0.431, \"RM\": 6.433, \"AGE\": 49.1, \"DIS\": 7.8265, \"RAD\": 7, \"TAX\": 330.0, \"PTRATIO\": 19.1, \"B\": 374.71, \"LSTAT\": 9.52, \"MEDV\": 24.5}, {\"CRIM\": 0.19072999999999998, \"ZN\": 22.0, \"INDUS\": 5.86, \"CHAS\": 0, \"NOX\": 0.431, \"RM\": 6.718, \"AGE\": 17.5, \"DIS\": 7.8265, \"RAD\": 7, \"TAX\": 330.0, \"PTRATIO\": 19.1, \"B\": 393.74, \"LSTAT\": 6.56, \"MEDV\": 26.2}, {\"CRIM\": 0.1403, \"ZN\": 22.0, \"INDUS\": 5.86, \"CHAS\": 0, \"NOX\": 0.431, \"RM\": 6.487, \"AGE\": 13.0, \"DIS\": 7.3967, \"RAD\": 7, \"TAX\": 330.0, \"PTRATIO\": 19.1, \"B\": 396.28, \"LSTAT\": 5.9, \"MEDV\": 24.4}, {\"CRIM\": 0.21409, \"ZN\": 22.0, \"INDUS\": 5.86, \"CHAS\": 0, \"NOX\": 0.431, \"RM\": 6.438, \"AGE\": 8.9, \"DIS\": 7.3967, \"RAD\": 7, \"TAX\": 330.0, \"PTRATIO\": 19.1, \"B\": 377.07, \"LSTAT\": 3.59, \"MEDV\": 24.8}, {\"CRIM\": 0.08221, \"ZN\": 22.0, \"INDUS\": 5.86, \"CHAS\": 0, \"NOX\": 0.431, \"RM\": 6.957, \"AGE\": 6.8, \"DIS\": 8.9067, \"RAD\": 7, \"TAX\": 330.0, \"PTRATIO\": 19.1, \"B\": 386.09, \"LSTAT\": 3.53, \"MEDV\": 29.6}, {\"CRIM\": 0.36894, \"ZN\": 22.0, \"INDUS\": 5.86, \"CHAS\": 0, \"NOX\": 0.431, \"RM\": 8.259, \"AGE\": 8.4, \"DIS\": 8.9067, \"RAD\": 7, \"TAX\": 330.0, \"PTRATIO\": 19.1, \"B\": 396.9, \"LSTAT\": 3.54, \"MEDV\": 42.8}, {\"CRIM\": 0.04819, \"ZN\": 80.0, \"INDUS\": 3.64, \"CHAS\": 0, \"NOX\": 0.392, \"RM\": 6.108, \"AGE\": 32.0, \"DIS\": 9.2203, \"RAD\": 1, \"TAX\": 315.0, \"PTRATIO\": 16.4, \"B\": 392.89, \"LSTAT\": 6.57, \"MEDV\": 21.9}, {\"CRIM\": 0.035480000000000005, \"ZN\": 80.0, \"INDUS\": 3.64, \"CHAS\": 0, \"NOX\": 0.392, \"RM\": 5.876, \"AGE\": 19.1, \"DIS\": 9.2203, \"RAD\": 1, \"TAX\": 315.0, \"PTRATIO\": 16.4, \"B\": 395.18, \"LSTAT\": 9.25, \"MEDV\": 20.9}, {\"CRIM\": 0.015380000000000001, \"ZN\": 90.0, \"INDUS\": 3.75, \"CHAS\": 0, \"NOX\": 0.394, \"RM\": 7.454, \"AGE\": 34.2, \"DIS\": 6.3361, \"RAD\": 3, \"TAX\": 244.0, \"PTRATIO\": 15.9, \"B\": 386.34, \"LSTAT\": 3.11, \"MEDV\": 44.0}, {\"CRIM\": 0.61154, \"ZN\": 20.0, \"INDUS\": 3.97, \"CHAS\": 0, \"NOX\": 0.647, \"RM\": 8.704, \"AGE\": 86.9, \"DIS\": 1.801, \"RAD\": 5, \"TAX\": 264.0, \"PTRATIO\": 13.0, \"B\": 389.7, \"LSTAT\": 5.12, \"MEDV\": 50.0}, {\"CRIM\": 0.66351, \"ZN\": 20.0, \"INDUS\": 3.97, \"CHAS\": 0, \"NOX\": 0.647, \"RM\": 7.333, \"AGE\": 100.0, \"DIS\": 1.8946, \"RAD\": 5, \"TAX\": 264.0, \"PTRATIO\": 13.0, \"B\": 383.29, \"LSTAT\": 7.79, \"MEDV\": 36.0}, {\"CRIM\": 0.65665, \"ZN\": 20.0, \"INDUS\": 3.97, \"CHAS\": 0, \"NOX\": 0.647, \"RM\": 6.842, \"AGE\": 100.0, \"DIS\": 2.0107, \"RAD\": 5, \"TAX\": 264.0, \"PTRATIO\": 13.0, \"B\": 391.93, \"LSTAT\": 6.9, \"MEDV\": 30.1}, {\"CRIM\": 0.5401100000000001, \"ZN\": 20.0, \"INDUS\": 3.97, \"CHAS\": 0, \"NOX\": 0.647, \"RM\": 7.203, \"AGE\": 81.8, \"DIS\": 2.1121, \"RAD\": 5, \"TAX\": 264.0, \"PTRATIO\": 13.0, \"B\": 392.8, \"LSTAT\": 9.59, \"MEDV\": 33.8}, {\"CRIM\": 0.5341199999999999, \"ZN\": 20.0, \"INDUS\": 3.97, \"CHAS\": 0, \"NOX\": 0.647, \"RM\": 7.52, \"AGE\": 89.4, \"DIS\": 2.1398, \"RAD\": 5, \"TAX\": 264.0, \"PTRATIO\": 13.0, \"B\": 388.37, \"LSTAT\": 7.26, \"MEDV\": 43.1}, {\"CRIM\": 0.5201399999999999, \"ZN\": 20.0, \"INDUS\": 3.97, \"CHAS\": 0, \"NOX\": 0.647, \"RM\": 8.398, \"AGE\": 91.5, \"DIS\": 2.2885, \"RAD\": 5, \"TAX\": 264.0, \"PTRATIO\": 13.0, \"B\": 386.86, \"LSTAT\": 5.91, \"MEDV\": 48.8}, {\"CRIM\": 0.82526, \"ZN\": 20.0, \"INDUS\": 3.97, \"CHAS\": 0, \"NOX\": 0.647, \"RM\": 7.327, \"AGE\": 94.5, \"DIS\": 2.0788, \"RAD\": 5, \"TAX\": 264.0, \"PTRATIO\": 13.0, \"B\": 393.42, \"LSTAT\": 11.25, \"MEDV\": 31.0}, {\"CRIM\": 0.55007, \"ZN\": 20.0, \"INDUS\": 3.97, \"CHAS\": 0, \"NOX\": 0.647, \"RM\": 7.206, \"AGE\": 91.6, \"DIS\": 1.9301, \"RAD\": 5, \"TAX\": 264.0, \"PTRATIO\": 13.0, \"B\": 387.89, \"LSTAT\": 8.1, \"MEDV\": 36.5}, {\"CRIM\": 0.76162, \"ZN\": 20.0, \"INDUS\": 3.97, \"CHAS\": 0, \"NOX\": 0.647, \"RM\": 5.56, \"AGE\": 62.8, \"DIS\": 1.9865, \"RAD\": 5, \"TAX\": 264.0, \"PTRATIO\": 13.0, \"B\": 392.4, \"LSTAT\": 10.45, \"MEDV\": 22.8}, {\"CRIM\": 0.7857, \"ZN\": 20.0, \"INDUS\": 3.97, \"CHAS\": 0, \"NOX\": 0.647, \"RM\": 7.014, \"AGE\": 84.6, \"DIS\": 2.1329, \"RAD\": 5, \"TAX\": 264.0, \"PTRATIO\": 13.0, \"B\": 384.07, \"LSTAT\": 14.79, \"MEDV\": 30.7}, {\"CRIM\": 0.57834, \"ZN\": 20.0, \"INDUS\": 3.97, \"CHAS\": 0, \"NOX\": 0.575, \"RM\": 8.297, \"AGE\": 67.0, \"DIS\": 2.4216, \"RAD\": 5, \"TAX\": 264.0, \"PTRATIO\": 13.0, \"B\": 384.54, \"LSTAT\": 7.44, \"MEDV\": 50.0}, {\"CRIM\": 0.5405, \"ZN\": 20.0, \"INDUS\": 3.97, \"CHAS\": 0, \"NOX\": 0.575, \"RM\": 7.47, \"AGE\": 52.6, \"DIS\": 2.872, \"RAD\": 5, \"TAX\": 264.0, \"PTRATIO\": 13.0, \"B\": 390.3, \"LSTAT\": 3.16, \"MEDV\": 43.5}, {\"CRIM\": 0.09065, \"ZN\": 20.0, \"INDUS\": 6.96, \"CHAS\": 1, \"NOX\": 0.464, \"RM\": 5.92, \"AGE\": 61.5, \"DIS\": 3.9175, \"RAD\": 3, \"TAX\": 223.0, \"PTRATIO\": 18.6, \"B\": 391.34, \"LSTAT\": 13.65, \"MEDV\": 20.7}, {\"CRIM\": 0.29916, \"ZN\": 20.0, \"INDUS\": 6.96, \"CHAS\": 0, \"NOX\": 0.464, \"RM\": 5.856, \"AGE\": 42.1, \"DIS\": 4.429, \"RAD\": 3, \"TAX\": 223.0, \"PTRATIO\": 18.6, \"B\": 388.65, \"LSTAT\": 13.0, \"MEDV\": 21.1}, {\"CRIM\": 0.16211, \"ZN\": 20.0, \"INDUS\": 6.96, \"CHAS\": 0, \"NOX\": 0.464, \"RM\": 6.24, \"AGE\": 16.3, \"DIS\": 4.429, \"RAD\": 3, \"TAX\": 223.0, \"PTRATIO\": 18.6, \"B\": 396.9, \"LSTAT\": 6.59, \"MEDV\": 25.2}, {\"CRIM\": 0.1146, \"ZN\": 20.0, \"INDUS\": 6.96, \"CHAS\": 0, \"NOX\": 0.464, \"RM\": 6.538, \"AGE\": 58.7, \"DIS\": 3.9175, \"RAD\": 3, \"TAX\": 223.0, \"PTRATIO\": 18.6, \"B\": 394.96, \"LSTAT\": 7.73, \"MEDV\": 24.4}, {\"CRIM\": 0.22188000000000002, \"ZN\": 20.0, \"INDUS\": 6.96, \"CHAS\": 1, \"NOX\": 0.464, \"RM\": 7.691, \"AGE\": 51.8, \"DIS\": 4.3665, \"RAD\": 3, \"TAX\": 223.0, \"PTRATIO\": 18.6, \"B\": 390.77, \"LSTAT\": 6.58, \"MEDV\": 35.2}, {\"CRIM\": 0.05644, \"ZN\": 40.0, \"INDUS\": 6.41, \"CHAS\": 1, \"NOX\": 0.447, \"RM\": 6.758, \"AGE\": 32.9, \"DIS\": 4.0776, \"RAD\": 4, \"TAX\": 254.0, \"PTRATIO\": 17.6, \"B\": 396.9, \"LSTAT\": 3.53, \"MEDV\": 32.4}, {\"CRIM\": 0.09604, \"ZN\": 40.0, \"INDUS\": 6.41, \"CHAS\": 0, \"NOX\": 0.447, \"RM\": 6.854, \"AGE\": 42.8, \"DIS\": 4.2673, \"RAD\": 4, \"TAX\": 254.0, \"PTRATIO\": 17.6, \"B\": 396.9, \"LSTAT\": 2.98, \"MEDV\": 32.0}, {\"CRIM\": 0.10469, \"ZN\": 40.0, \"INDUS\": 6.41, \"CHAS\": 1, \"NOX\": 0.447, \"RM\": 7.267, \"AGE\": 49.0, \"DIS\": 4.7872, \"RAD\": 4, \"TAX\": 254.0, \"PTRATIO\": 17.6, \"B\": 389.25, \"LSTAT\": 6.05, \"MEDV\": 33.2}, {\"CRIM\": 0.061270000000000005, \"ZN\": 40.0, \"INDUS\": 6.41, \"CHAS\": 1, \"NOX\": 0.447, \"RM\": 6.826, \"AGE\": 27.6, \"DIS\": 4.8628, \"RAD\": 4, \"TAX\": 254.0, \"PTRATIO\": 17.6, \"B\": 393.45, \"LSTAT\": 4.16, \"MEDV\": 33.1}, {\"CRIM\": 0.07977999999999999, \"ZN\": 40.0, \"INDUS\": 6.41, \"CHAS\": 0, \"NOX\": 0.447, \"RM\": 6.482, \"AGE\": 32.1, \"DIS\": 4.1403, \"RAD\": 4, \"TAX\": 254.0, \"PTRATIO\": 17.6, \"B\": 396.9, \"LSTAT\": 7.19, \"MEDV\": 29.1}, {\"CRIM\": 0.21038, \"ZN\": 20.0, \"INDUS\": 3.33, \"CHAS\": 0, \"NOX\": 0.4429, \"RM\": 6.812, \"AGE\": 32.2, \"DIS\": 4.1007, \"RAD\": 5, \"TAX\": 216.0, \"PTRATIO\": 14.9, \"B\": 396.9, \"LSTAT\": 4.85, \"MEDV\": 35.1}, {\"CRIM\": 0.03578, \"ZN\": 20.0, \"INDUS\": 3.33, \"CHAS\": 0, \"NOX\": 0.4429, \"RM\": 7.82, \"AGE\": 64.5, \"DIS\": 4.6947, \"RAD\": 5, \"TAX\": 216.0, \"PTRATIO\": 14.9, \"B\": 387.31, \"LSTAT\": 3.76, \"MEDV\": 45.4}, {\"CRIM\": 0.03705, \"ZN\": 20.0, \"INDUS\": 3.33, \"CHAS\": 0, \"NOX\": 0.4429, \"RM\": 6.968, \"AGE\": 37.2, \"DIS\": 5.2447, \"RAD\": 5, \"TAX\": 216.0, \"PTRATIO\": 14.9, \"B\": 392.23, \"LSTAT\": 4.59, \"MEDV\": 35.4}, {\"CRIM\": 0.06129, \"ZN\": 20.0, \"INDUS\": 3.33, \"CHAS\": 1, \"NOX\": 0.4429, \"RM\": 7.645, \"AGE\": 49.7, \"DIS\": 5.2119, \"RAD\": 5, \"TAX\": 216.0, \"PTRATIO\": 14.9, \"B\": 377.07, \"LSTAT\": 3.01, \"MEDV\": 46.0}, {\"CRIM\": 0.015009999999999999, \"ZN\": 90.0, \"INDUS\": 1.21, \"CHAS\": 1, \"NOX\": 0.401, \"RM\": 7.923, \"AGE\": 24.8, \"DIS\": 5.885, \"RAD\": 1, \"TAX\": 198.0, \"PTRATIO\": 13.6, \"B\": 395.52, \"LSTAT\": 3.16, \"MEDV\": 50.0}, {\"CRIM\": 0.009059999999999999, \"ZN\": 90.0, \"INDUS\": 2.97, \"CHAS\": 0, \"NOX\": 0.4, \"RM\": 7.088, \"AGE\": 20.8, \"DIS\": 7.3073, \"RAD\": 1, \"TAX\": 285.0, \"PTRATIO\": 15.3, \"B\": 394.72, \"LSTAT\": 7.85, \"MEDV\": 32.2}, {\"CRIM\": 0.01096, \"ZN\": 55.0, \"INDUS\": 2.25, \"CHAS\": 0, \"NOX\": 0.389, \"RM\": 6.453, \"AGE\": 31.9, \"DIS\": 7.3073, \"RAD\": 1, \"TAX\": 300.0, \"PTRATIO\": 15.3, \"B\": 394.72, \"LSTAT\": 8.23, \"MEDV\": 22.0}, {\"CRIM\": 0.01965, \"ZN\": 80.0, \"INDUS\": 1.76, \"CHAS\": 0, \"NOX\": 0.385, \"RM\": 6.23, \"AGE\": 31.5, \"DIS\": 9.0892, \"RAD\": 1, \"TAX\": 241.0, \"PTRATIO\": 18.2, \"B\": 341.6, \"LSTAT\": 12.93, \"MEDV\": 20.1}, {\"CRIM\": 0.03871, \"ZN\": 52.5, \"INDUS\": 5.32, \"CHAS\": 0, \"NOX\": 0.405, \"RM\": 6.209, \"AGE\": 31.3, \"DIS\": 7.3172, \"RAD\": 6, \"TAX\": 293.0, \"PTRATIO\": 16.6, \"B\": 396.9, \"LSTAT\": 7.14, \"MEDV\": 23.2}, {\"CRIM\": 0.0459, \"ZN\": 52.5, \"INDUS\": 5.32, \"CHAS\": 0, \"NOX\": 0.405, \"RM\": 6.315, \"AGE\": 45.6, \"DIS\": 7.3172, \"RAD\": 6, \"TAX\": 293.0, \"PTRATIO\": 16.6, \"B\": 396.9, \"LSTAT\": 7.6, \"MEDV\": 22.3}, {\"CRIM\": 0.04297, \"ZN\": 52.5, \"INDUS\": 5.32, \"CHAS\": 0, \"NOX\": 0.405, \"RM\": 6.565, \"AGE\": 22.9, \"DIS\": 7.3172, \"RAD\": 6, \"TAX\": 293.0, \"PTRATIO\": 16.6, \"B\": 371.72, \"LSTAT\": 9.51, \"MEDV\": 24.8}, {\"CRIM\": 0.035019999999999996, \"ZN\": 80.0, \"INDUS\": 4.95, \"CHAS\": 0, \"NOX\": 0.411, \"RM\": 6.861, \"AGE\": 27.9, \"DIS\": 5.1167, \"RAD\": 4, \"TAX\": 245.0, \"PTRATIO\": 19.2, \"B\": 396.9, \"LSTAT\": 3.33, \"MEDV\": 28.5}, {\"CRIM\": 0.07886, \"ZN\": 80.0, \"INDUS\": 4.95, \"CHAS\": 0, \"NOX\": 0.411, \"RM\": 7.148, \"AGE\": 27.7, \"DIS\": 5.1167, \"RAD\": 4, \"TAX\": 245.0, \"PTRATIO\": 19.2, \"B\": 396.9, \"LSTAT\": 3.56, \"MEDV\": 37.3}, {\"CRIM\": 0.03615, \"ZN\": 80.0, \"INDUS\": 4.95, \"CHAS\": 0, \"NOX\": 0.411, \"RM\": 6.63, \"AGE\": 23.4, \"DIS\": 5.1167, \"RAD\": 4, \"TAX\": 245.0, \"PTRATIO\": 19.2, \"B\": 396.9, \"LSTAT\": 4.7, \"MEDV\": 27.9}, {\"CRIM\": 0.08265, \"ZN\": 0.0, \"INDUS\": 13.92, \"CHAS\": 0, \"NOX\": 0.437, \"RM\": 6.127, \"AGE\": 18.4, \"DIS\": 5.5027, \"RAD\": 4, \"TAX\": 289.0, \"PTRATIO\": 16.0, \"B\": 396.9, \"LSTAT\": 8.58, \"MEDV\": 23.9}, {\"CRIM\": 0.08199, \"ZN\": 0.0, \"INDUS\": 13.92, \"CHAS\": 0, \"NOX\": 0.437, \"RM\": 6.009, \"AGE\": 42.3, \"DIS\": 5.5027, \"RAD\": 4, \"TAX\": 289.0, \"PTRATIO\": 16.0, \"B\": 396.9, \"LSTAT\": 10.4, \"MEDV\": 21.7}, {\"CRIM\": 0.12932000000000002, \"ZN\": 0.0, \"INDUS\": 13.92, \"CHAS\": 0, \"NOX\": 0.437, \"RM\": 6.678, \"AGE\": 31.1, \"DIS\": 5.9604, \"RAD\": 4, \"TAX\": 289.0, \"PTRATIO\": 16.0, \"B\": 396.9, \"LSTAT\": 6.27, \"MEDV\": 28.6}, {\"CRIM\": 0.053720000000000004, \"ZN\": 0.0, \"INDUS\": 13.92, \"CHAS\": 0, \"NOX\": 0.437, \"RM\": 6.549, \"AGE\": 51.0, \"DIS\": 5.9604, \"RAD\": 4, \"TAX\": 289.0, \"PTRATIO\": 16.0, \"B\": 392.85, \"LSTAT\": 7.39, \"MEDV\": 27.1}, {\"CRIM\": 0.14103, \"ZN\": 0.0, \"INDUS\": 13.92, \"CHAS\": 0, \"NOX\": 0.437, \"RM\": 5.79, \"AGE\": 58.0, \"DIS\": 6.32, \"RAD\": 4, \"TAX\": 289.0, \"PTRATIO\": 16.0, \"B\": 396.9, \"LSTAT\": 15.84, \"MEDV\": 20.3}, {\"CRIM\": 0.06466000000000001, \"ZN\": 70.0, \"INDUS\": 2.24, \"CHAS\": 0, \"NOX\": 0.4, \"RM\": 6.345, \"AGE\": 20.1, \"DIS\": 7.8278, \"RAD\": 5, \"TAX\": 358.0, \"PTRATIO\": 14.8, \"B\": 368.24, \"LSTAT\": 4.97, \"MEDV\": 22.5}, {\"CRIM\": 0.05561, \"ZN\": 70.0, \"INDUS\": 2.24, \"CHAS\": 0, \"NOX\": 0.4, \"RM\": 7.041, \"AGE\": 10.0, \"DIS\": 7.8278, \"RAD\": 5, \"TAX\": 358.0, \"PTRATIO\": 14.8, \"B\": 371.58, \"LSTAT\": 4.74, \"MEDV\": 29.0}, {\"CRIM\": 0.04417, \"ZN\": 70.0, \"INDUS\": 2.24, \"CHAS\": 0, \"NOX\": 0.4, \"RM\": 6.871, \"AGE\": 47.4, \"DIS\": 7.8278, \"RAD\": 5, \"TAX\": 358.0, \"PTRATIO\": 14.8, \"B\": 390.86, \"LSTAT\": 6.07, \"MEDV\": 24.8}, {\"CRIM\": 0.03537, \"ZN\": 34.0, \"INDUS\": 6.09, \"CHAS\": 0, \"NOX\": 0.433, \"RM\": 6.59, \"AGE\": 40.4, \"DIS\": 5.4917, \"RAD\": 7, \"TAX\": 329.0, \"PTRATIO\": 16.1, \"B\": 395.75, \"LSTAT\": 9.5, \"MEDV\": 22.0}, {\"CRIM\": 0.09266, \"ZN\": 34.0, \"INDUS\": 6.09, \"CHAS\": 0, \"NOX\": 0.433, \"RM\": 6.495, \"AGE\": 18.4, \"DIS\": 5.4917, \"RAD\": 7, \"TAX\": 329.0, \"PTRATIO\": 16.1, \"B\": 383.61, \"LSTAT\": 8.67, \"MEDV\": 26.4}, {\"CRIM\": 0.1, \"ZN\": 34.0, \"INDUS\": 6.09, \"CHAS\": 0, \"NOX\": 0.433, \"RM\": 6.982, \"AGE\": 17.7, \"DIS\": 5.4917, \"RAD\": 7, \"TAX\": 329.0, \"PTRATIO\": 16.1, \"B\": 390.43, \"LSTAT\": 4.86, \"MEDV\": 33.1}, {\"CRIM\": 0.05515, \"ZN\": 33.0, \"INDUS\": 2.18, \"CHAS\": 0, \"NOX\": 0.472, \"RM\": 7.236, \"AGE\": 41.1, \"DIS\": 4.022, \"RAD\": 7, \"TAX\": 222.0, \"PTRATIO\": 18.4, \"B\": 393.68, \"LSTAT\": 6.93, \"MEDV\": 36.1}, {\"CRIM\": 0.05479, \"ZN\": 33.0, \"INDUS\": 2.18, \"CHAS\": 0, \"NOX\": 0.472, \"RM\": 6.616, \"AGE\": 58.1, \"DIS\": 3.37, \"RAD\": 7, \"TAX\": 222.0, \"PTRATIO\": 18.4, \"B\": 393.36, \"LSTAT\": 8.93, \"MEDV\": 28.4}, {\"CRIM\": 0.07503, \"ZN\": 33.0, \"INDUS\": 2.18, \"CHAS\": 0, \"NOX\": 0.472, \"RM\": 7.42, \"AGE\": 71.9, \"DIS\": 3.0992, \"RAD\": 7, \"TAX\": 222.0, \"PTRATIO\": 18.4, \"B\": 396.9, \"LSTAT\": 6.47, \"MEDV\": 33.4}, {\"CRIM\": 0.049319999999999996, \"ZN\": 33.0, \"INDUS\": 2.18, \"CHAS\": 0, \"NOX\": 0.472, \"RM\": 6.849, \"AGE\": 70.3, \"DIS\": 3.1827, \"RAD\": 7, \"TAX\": 222.0, \"PTRATIO\": 18.4, \"B\": 396.9, \"LSTAT\": 7.53, \"MEDV\": 28.2}, {\"CRIM\": 0.49298000000000003, \"ZN\": 0.0, \"INDUS\": 9.9, \"CHAS\": 0, \"NOX\": 0.544, \"RM\": 6.635, \"AGE\": 82.5, \"DIS\": 3.3175, \"RAD\": 4, \"TAX\": 304.0, \"PTRATIO\": 18.4, \"B\": 396.9, \"LSTAT\": 4.54, \"MEDV\": 22.8}, {\"CRIM\": 0.3494, \"ZN\": 0.0, \"INDUS\": 9.9, \"CHAS\": 0, \"NOX\": 0.544, \"RM\": 5.972, \"AGE\": 76.7, \"DIS\": 3.1025, \"RAD\": 4, \"TAX\": 304.0, \"PTRATIO\": 18.4, \"B\": 396.24, \"LSTAT\": 9.97, \"MEDV\": 20.3}, {\"CRIM\": 2.63548, \"ZN\": 0.0, \"INDUS\": 9.9, \"CHAS\": 0, \"NOX\": 0.544, \"RM\": 4.973, \"AGE\": 37.8, \"DIS\": 2.5194, \"RAD\": 4, \"TAX\": 304.0, \"PTRATIO\": 18.4, \"B\": 350.45, \"LSTAT\": 12.64, \"MEDV\": 16.1}, {\"CRIM\": 0.7904100000000001, \"ZN\": 0.0, \"INDUS\": 9.9, \"CHAS\": 0, \"NOX\": 0.544, \"RM\": 6.122, \"AGE\": 52.8, \"DIS\": 2.6403, \"RAD\": 4, \"TAX\": 304.0, \"PTRATIO\": 18.4, \"B\": 396.9, \"LSTAT\": 5.98, \"MEDV\": 22.1}, {\"CRIM\": 0.26169000000000003, \"ZN\": 0.0, \"INDUS\": 9.9, \"CHAS\": 0, \"NOX\": 0.544, \"RM\": 6.023, \"AGE\": 90.4, \"DIS\": 2.834, \"RAD\": 4, \"TAX\": 304.0, \"PTRATIO\": 18.4, \"B\": 396.3, \"LSTAT\": 11.72, \"MEDV\": 19.4}, {\"CRIM\": 0.26938, \"ZN\": 0.0, \"INDUS\": 9.9, \"CHAS\": 0, \"NOX\": 0.544, \"RM\": 6.266, \"AGE\": 82.8, \"DIS\": 3.2628, \"RAD\": 4, \"TAX\": 304.0, \"PTRATIO\": 18.4, \"B\": 393.39, \"LSTAT\": 7.9, \"MEDV\": 21.6}, {\"CRIM\": 0.3692, \"ZN\": 0.0, \"INDUS\": 9.9, \"CHAS\": 0, \"NOX\": 0.544, \"RM\": 6.567, \"AGE\": 87.3, \"DIS\": 3.6023, \"RAD\": 4, \"TAX\": 304.0, \"PTRATIO\": 18.4, \"B\": 395.69, \"LSTAT\": 9.28, \"MEDV\": 23.8}, {\"CRIM\": 0.25356, \"ZN\": 0.0, \"INDUS\": 9.9, \"CHAS\": 0, \"NOX\": 0.544, \"RM\": 5.705, \"AGE\": 77.7, \"DIS\": 3.945, \"RAD\": 4, \"TAX\": 304.0, \"PTRATIO\": 18.4, \"B\": 396.42, \"LSTAT\": 11.5, \"MEDV\": 16.2}, {\"CRIM\": 0.31827, \"ZN\": 0.0, \"INDUS\": 9.9, \"CHAS\": 0, \"NOX\": 0.544, \"RM\": 5.914, \"AGE\": 83.2, \"DIS\": 3.9986, \"RAD\": 4, \"TAX\": 304.0, \"PTRATIO\": 18.4, \"B\": 390.7, \"LSTAT\": 18.33, \"MEDV\": 17.8}, {\"CRIM\": 0.24522, \"ZN\": 0.0, \"INDUS\": 9.9, \"CHAS\": 0, \"NOX\": 0.544, \"RM\": 5.782, \"AGE\": 71.7, \"DIS\": 4.0317, \"RAD\": 4, \"TAX\": 304.0, \"PTRATIO\": 18.4, \"B\": 396.9, \"LSTAT\": 15.94, \"MEDV\": 19.8}, {\"CRIM\": 0.40202, \"ZN\": 0.0, \"INDUS\": 9.9, \"CHAS\": 0, \"NOX\": 0.544, \"RM\": 6.382, \"AGE\": 67.2, \"DIS\": 3.5325, \"RAD\": 4, \"TAX\": 304.0, \"PTRATIO\": 18.4, \"B\": 395.21, \"LSTAT\": 10.36, \"MEDV\": 23.1}, {\"CRIM\": 0.47547, \"ZN\": 0.0, \"INDUS\": 9.9, \"CHAS\": 0, \"NOX\": 0.544, \"RM\": 6.113, \"AGE\": 58.8, \"DIS\": 4.0019, \"RAD\": 4, \"TAX\": 304.0, \"PTRATIO\": 18.4, \"B\": 396.23, \"LSTAT\": 12.73, \"MEDV\": 21.0}, {\"CRIM\": 0.1676, \"ZN\": 0.0, \"INDUS\": 7.38, \"CHAS\": 0, \"NOX\": 0.493, \"RM\": 6.426, \"AGE\": 52.3, \"DIS\": 4.5404, \"RAD\": 5, \"TAX\": 287.0, \"PTRATIO\": 19.6, \"B\": 396.9, \"LSTAT\": 7.2, \"MEDV\": 23.8}, {\"CRIM\": 0.18159, \"ZN\": 0.0, \"INDUS\": 7.38, \"CHAS\": 0, \"NOX\": 0.493, \"RM\": 6.376, \"AGE\": 54.3, \"DIS\": 4.5404, \"RAD\": 5, \"TAX\": 287.0, \"PTRATIO\": 19.6, \"B\": 396.9, \"LSTAT\": 6.87, \"MEDV\": 23.1}, {\"CRIM\": 0.35114, \"ZN\": 0.0, \"INDUS\": 7.38, \"CHAS\": 0, \"NOX\": 0.493, \"RM\": 6.041, \"AGE\": 49.9, \"DIS\": 4.7211, \"RAD\": 5, \"TAX\": 287.0, \"PTRATIO\": 19.6, \"B\": 396.9, \"LSTAT\": 7.7, \"MEDV\": 20.4}, {\"CRIM\": 0.28392, \"ZN\": 0.0, \"INDUS\": 7.38, \"CHAS\": 0, \"NOX\": 0.493, \"RM\": 5.708, \"AGE\": 74.3, \"DIS\": 4.7211, \"RAD\": 5, \"TAX\": 287.0, \"PTRATIO\": 19.6, \"B\": 391.13, \"LSTAT\": 11.74, \"MEDV\": 18.5}, {\"CRIM\": 0.34109, \"ZN\": 0.0, \"INDUS\": 7.38, \"CHAS\": 0, \"NOX\": 0.493, \"RM\": 6.415, \"AGE\": 40.1, \"DIS\": 4.7211, \"RAD\": 5, \"TAX\": 287.0, \"PTRATIO\": 19.6, \"B\": 396.9, \"LSTAT\": 6.12, \"MEDV\": 25.0}, {\"CRIM\": 0.19186, \"ZN\": 0.0, \"INDUS\": 7.38, \"CHAS\": 0, \"NOX\": 0.493, \"RM\": 6.431, \"AGE\": 14.7, \"DIS\": 5.4159, \"RAD\": 5, \"TAX\": 287.0, \"PTRATIO\": 19.6, \"B\": 393.68, \"LSTAT\": 5.08, \"MEDV\": 24.6}, {\"CRIM\": 0.30346999999999996, \"ZN\": 0.0, \"INDUS\": 7.38, \"CHAS\": 0, \"NOX\": 0.493, \"RM\": 6.312, \"AGE\": 28.9, \"DIS\": 5.4159, \"RAD\": 5, \"TAX\": 287.0, \"PTRATIO\": 19.6, \"B\": 396.9, \"LSTAT\": 6.15, \"MEDV\": 23.0}, {\"CRIM\": 0.24103000000000002, \"ZN\": 0.0, \"INDUS\": 7.38, \"CHAS\": 0, \"NOX\": 0.493, \"RM\": 6.083, \"AGE\": 43.7, \"DIS\": 5.4159, \"RAD\": 5, \"TAX\": 287.0, \"PTRATIO\": 19.6, \"B\": 396.9, \"LSTAT\": 12.79, \"MEDV\": 22.2}, {\"CRIM\": 0.06617, \"ZN\": 0.0, \"INDUS\": 3.24, \"CHAS\": 0, \"NOX\": 0.46, \"RM\": 5.868, \"AGE\": 25.8, \"DIS\": 5.2146, \"RAD\": 4, \"TAX\": 430.0, \"PTRATIO\": 16.9, \"B\": 382.44, \"LSTAT\": 9.97, \"MEDV\": 19.3}, {\"CRIM\": 0.06724, \"ZN\": 0.0, \"INDUS\": 3.24, \"CHAS\": 0, \"NOX\": 0.46, \"RM\": 6.333, \"AGE\": 17.2, \"DIS\": 5.2146, \"RAD\": 4, \"TAX\": 430.0, \"PTRATIO\": 16.9, \"B\": 375.21, \"LSTAT\": 7.34, \"MEDV\": 22.6}, {\"CRIM\": 0.045439999999999994, \"ZN\": 0.0, \"INDUS\": 3.24, \"CHAS\": 0, \"NOX\": 0.46, \"RM\": 6.144, \"AGE\": 32.2, \"DIS\": 5.8736, \"RAD\": 4, \"TAX\": 430.0, \"PTRATIO\": 16.9, \"B\": 368.57, \"LSTAT\": 9.09, \"MEDV\": 19.8}, {\"CRIM\": 0.050230000000000004, \"ZN\": 35.0, \"INDUS\": 6.06, \"CHAS\": 0, \"NOX\": 0.4379, \"RM\": 5.706, \"AGE\": 28.4, \"DIS\": 6.6407, \"RAD\": 1, \"TAX\": 304.0, \"PTRATIO\": 16.9, \"B\": 394.02, \"LSTAT\": 12.43, \"MEDV\": 17.1}, {\"CRIM\": 0.03466, \"ZN\": 35.0, \"INDUS\": 6.06, \"CHAS\": 0, \"NOX\": 0.4379, \"RM\": 6.031, \"AGE\": 23.3, \"DIS\": 6.6407, \"RAD\": 1, \"TAX\": 304.0, \"PTRATIO\": 16.9, \"B\": 362.25, \"LSTAT\": 7.83, \"MEDV\": 19.4}, {\"CRIM\": 0.05083, \"ZN\": 0.0, \"INDUS\": 5.19, \"CHAS\": 0, \"NOX\": 0.515, \"RM\": 6.316, \"AGE\": 38.1, \"DIS\": 6.4584, \"RAD\": 5, \"TAX\": 224.0, \"PTRATIO\": 20.2, \"B\": 389.71, \"LSTAT\": 5.68, \"MEDV\": 22.2}, {\"CRIM\": 0.037380000000000004, \"ZN\": 0.0, \"INDUS\": 5.19, \"CHAS\": 0, \"NOX\": 0.515, \"RM\": 6.31, \"AGE\": 38.5, \"DIS\": 6.4584, \"RAD\": 5, \"TAX\": 224.0, \"PTRATIO\": 20.2, \"B\": 389.4, \"LSTAT\": 6.75, \"MEDV\": 20.7}, {\"CRIM\": 0.03961, \"ZN\": 0.0, \"INDUS\": 5.19, \"CHAS\": 0, \"NOX\": 0.515, \"RM\": 6.037, \"AGE\": 34.5, \"DIS\": 5.9853, \"RAD\": 5, \"TAX\": 224.0, \"PTRATIO\": 20.2, \"B\": 396.9, \"LSTAT\": 8.01, \"MEDV\": 21.1}, {\"CRIM\": 0.03427, \"ZN\": 0.0, \"INDUS\": 5.19, \"CHAS\": 0, \"NOX\": 0.515, \"RM\": 5.869, \"AGE\": 46.3, \"DIS\": 5.2311, \"RAD\": 5, \"TAX\": 224.0, \"PTRATIO\": 20.2, \"B\": 396.9, \"LSTAT\": 9.8, \"MEDV\": 19.5}, {\"CRIM\": 0.030410000000000003, \"ZN\": 0.0, \"INDUS\": 5.19, \"CHAS\": 0, \"NOX\": 0.515, \"RM\": 5.895, \"AGE\": 59.6, \"DIS\": 5.615, \"RAD\": 5, \"TAX\": 224.0, \"PTRATIO\": 20.2, \"B\": 394.81, \"LSTAT\": 10.56, \"MEDV\": 18.5}, {\"CRIM\": 0.03306, \"ZN\": 0.0, \"INDUS\": 5.19, \"CHAS\": 0, \"NOX\": 0.515, \"RM\": 6.059, \"AGE\": 37.3, \"DIS\": 4.8122, \"RAD\": 5, \"TAX\": 224.0, \"PTRATIO\": 20.2, \"B\": 396.14, \"LSTAT\": 8.51, \"MEDV\": 20.6}, {\"CRIM\": 0.054970000000000005, \"ZN\": 0.0, \"INDUS\": 5.19, \"CHAS\": 0, \"NOX\": 0.515, \"RM\": 5.985, \"AGE\": 45.4, \"DIS\": 4.8122, \"RAD\": 5, \"TAX\": 224.0, \"PTRATIO\": 20.2, \"B\": 396.9, \"LSTAT\": 9.74, \"MEDV\": 19.0}, {\"CRIM\": 0.06151, \"ZN\": 0.0, \"INDUS\": 5.19, \"CHAS\": 0, \"NOX\": 0.515, \"RM\": 5.968, \"AGE\": 58.5, \"DIS\": 4.8122, \"RAD\": 5, \"TAX\": 224.0, \"PTRATIO\": 20.2, \"B\": 396.9, \"LSTAT\": 9.29, \"MEDV\": 18.7}, {\"CRIM\": 0.013009999999999999, \"ZN\": 35.0, \"INDUS\": 1.52, \"CHAS\": 0, \"NOX\": 0.442, \"RM\": 7.241, \"AGE\": 49.3, \"DIS\": 7.0379, \"RAD\": 1, \"TAX\": 284.0, \"PTRATIO\": 15.5, \"B\": 394.74, \"LSTAT\": 5.49, \"MEDV\": 32.7}, {\"CRIM\": 0.024980000000000002, \"ZN\": 0.0, \"INDUS\": 1.89, \"CHAS\": 0, \"NOX\": 0.518, \"RM\": 6.54, \"AGE\": 59.7, \"DIS\": 6.2669, \"RAD\": 1, \"TAX\": 422.0, \"PTRATIO\": 15.9, \"B\": 389.96, \"LSTAT\": 8.65, \"MEDV\": 16.5}, {\"CRIM\": 0.02543, \"ZN\": 55.0, \"INDUS\": 3.78, \"CHAS\": 0, \"NOX\": 0.484, \"RM\": 6.696, \"AGE\": 56.4, \"DIS\": 5.7321, \"RAD\": 5, \"TAX\": 370.0, \"PTRATIO\": 17.6, \"B\": 396.9, \"LSTAT\": 7.18, \"MEDV\": 23.9}, {\"CRIM\": 0.030489999999999996, \"ZN\": 55.0, \"INDUS\": 3.78, \"CHAS\": 0, \"NOX\": 0.484, \"RM\": 6.874, \"AGE\": 28.1, \"DIS\": 6.4654, \"RAD\": 5, \"TAX\": 370.0, \"PTRATIO\": 17.6, \"B\": 387.97, \"LSTAT\": 4.61, \"MEDV\": 31.2}, {\"CRIM\": 0.03113, \"ZN\": 0.0, \"INDUS\": 4.39, \"CHAS\": 0, \"NOX\": 0.442, \"RM\": 6.014, \"AGE\": 48.5, \"DIS\": 8.0136, \"RAD\": 3, \"TAX\": 352.0, \"PTRATIO\": 18.8, \"B\": 385.64, \"LSTAT\": 10.53, \"MEDV\": 17.5}, {\"CRIM\": 0.06162, \"ZN\": 0.0, \"INDUS\": 4.39, \"CHAS\": 0, \"NOX\": 0.442, \"RM\": 5.898, \"AGE\": 52.3, \"DIS\": 8.0136, \"RAD\": 3, \"TAX\": 352.0, \"PTRATIO\": 18.8, \"B\": 364.61, \"LSTAT\": 12.67, \"MEDV\": 17.2}, {\"CRIM\": 0.0187, \"ZN\": 85.0, \"INDUS\": 4.15, \"CHAS\": 0, \"NOX\": 0.429, \"RM\": 6.516, \"AGE\": 27.7, \"DIS\": 8.5353, \"RAD\": 4, \"TAX\": 351.0, \"PTRATIO\": 17.9, \"B\": 392.43, \"LSTAT\": 6.36, \"MEDV\": 23.1}, {\"CRIM\": 0.015009999999999999, \"ZN\": 80.0, \"INDUS\": 2.01, \"CHAS\": 0, \"NOX\": 0.435, \"RM\": 6.635, \"AGE\": 29.7, \"DIS\": 8.344, \"RAD\": 4, \"TAX\": 280.0, \"PTRATIO\": 17.0, \"B\": 390.94, \"LSTAT\": 5.99, \"MEDV\": 24.5}, {\"CRIM\": 0.02899, \"ZN\": 40.0, \"INDUS\": 1.25, \"CHAS\": 0, \"NOX\": 0.429, \"RM\": 6.939, \"AGE\": 34.5, \"DIS\": 8.7921, \"RAD\": 1, \"TAX\": 335.0, \"PTRATIO\": 19.7, \"B\": 389.85, \"LSTAT\": 5.89, \"MEDV\": 26.6}, {\"CRIM\": 0.062110000000000005, \"ZN\": 40.0, \"INDUS\": 1.25, \"CHAS\": 0, \"NOX\": 0.429, \"RM\": 6.49, \"AGE\": 44.4, \"DIS\": 8.7921, \"RAD\": 1, \"TAX\": 335.0, \"PTRATIO\": 19.7, \"B\": 396.9, \"LSTAT\": 5.98, \"MEDV\": 22.9}, {\"CRIM\": 0.0795, \"ZN\": 60.0, \"INDUS\": 1.69, \"CHAS\": 0, \"NOX\": 0.411, \"RM\": 6.579, \"AGE\": 35.9, \"DIS\": 10.7103, \"RAD\": 4, \"TAX\": 411.0, \"PTRATIO\": 18.3, \"B\": 370.78, \"LSTAT\": 5.49, \"MEDV\": 24.1}, {\"CRIM\": 0.07244, \"ZN\": 60.0, \"INDUS\": 1.69, \"CHAS\": 0, \"NOX\": 0.411, \"RM\": 5.884, \"AGE\": 18.5, \"DIS\": 10.7103, \"RAD\": 4, \"TAX\": 411.0, \"PTRATIO\": 18.3, \"B\": 392.33, \"LSTAT\": 7.79, \"MEDV\": 18.6}, {\"CRIM\": 0.01709, \"ZN\": 90.0, \"INDUS\": 2.02, \"CHAS\": 0, \"NOX\": 0.41, \"RM\": 6.728, \"AGE\": 36.1, \"DIS\": 12.1265, \"RAD\": 5, \"TAX\": 187.0, \"PTRATIO\": 17.0, \"B\": 384.46, \"LSTAT\": 4.5, \"MEDV\": 30.1}, {\"CRIM\": 0.04301, \"ZN\": 80.0, \"INDUS\": 1.91, \"CHAS\": 0, \"NOX\": 0.413, \"RM\": 5.663, \"AGE\": 21.9, \"DIS\": 10.5857, \"RAD\": 4, \"TAX\": 334.0, \"PTRATIO\": 22.0, \"B\": 382.8, \"LSTAT\": 8.05, \"MEDV\": 18.2}, {\"CRIM\": 0.10659, \"ZN\": 80.0, \"INDUS\": 1.91, \"CHAS\": 0, \"NOX\": 0.413, \"RM\": 5.936, \"AGE\": 19.5, \"DIS\": 10.5857, \"RAD\": 4, \"TAX\": 334.0, \"PTRATIO\": 22.0, \"B\": 376.04, \"LSTAT\": 5.57, \"MEDV\": 20.6}, {\"CRIM\": 8.98296, \"ZN\": 0.0, \"INDUS\": 18.1, \"CHAS\": 1, \"NOX\": 0.77, \"RM\": 6.212, \"AGE\": 97.4, \"DIS\": 2.1222, \"RAD\": 24, \"TAX\": 666.0, \"PTRATIO\": 20.2, \"B\": 377.73, \"LSTAT\": 17.6, \"MEDV\": 17.8}, {\"CRIM\": 3.8497, \"ZN\": 0.0, \"INDUS\": 18.1, \"CHAS\": 1, \"NOX\": 0.77, \"RM\": 6.395, \"AGE\": 91.0, \"DIS\": 2.5052, \"RAD\": 24, \"TAX\": 666.0, \"PTRATIO\": 20.2, \"B\": 391.34, \"LSTAT\": 13.27, \"MEDV\": 21.7}, {\"CRIM\": 5.20177, \"ZN\": 0.0, \"INDUS\": 18.1, \"CHAS\": 1, \"NOX\": 0.77, \"RM\": 6.127, \"AGE\": 83.4, \"DIS\": 2.7227, \"RAD\": 24, \"TAX\": 666.0, \"PTRATIO\": 20.2, \"B\": 395.43, \"LSTAT\": 11.48, \"MEDV\": 22.7}, {\"CRIM\": 4.26131, \"ZN\": 0.0, \"INDUS\": 18.1, \"CHAS\": 0, \"NOX\": 0.77, \"RM\": 6.112, \"AGE\": 81.3, \"DIS\": 2.5091, \"RAD\": 24, \"TAX\": 666.0, \"PTRATIO\": 20.2, \"B\": 390.74, \"LSTAT\": 12.67, \"MEDV\": 22.6}, {\"CRIM\": 4.541919999999999, \"ZN\": 0.0, \"INDUS\": 18.1, \"CHAS\": 0, \"NOX\": 0.77, \"RM\": 6.398, \"AGE\": 88.0, \"DIS\": 2.5182, \"RAD\": 24, \"TAX\": 666.0, \"PTRATIO\": 20.2, \"B\": 374.56, \"LSTAT\": 7.79, \"MEDV\": 25.0}, {\"CRIM\": 3.83684, \"ZN\": 0.0, \"INDUS\": 18.1, \"CHAS\": 0, \"NOX\": 0.77, \"RM\": 6.251, \"AGE\": 91.1, \"DIS\": 2.2955, \"RAD\": 24, \"TAX\": 666.0, \"PTRATIO\": 20.2, \"B\": 350.65, \"LSTAT\": 14.19, \"MEDV\": 19.9}, {\"CRIM\": 3.6782199999999996, \"ZN\": 0.0, \"INDUS\": 18.1, \"CHAS\": 0, \"NOX\": 0.77, \"RM\": 5.362, \"AGE\": 96.2, \"DIS\": 2.1036, \"RAD\": 24, \"TAX\": 666.0, \"PTRATIO\": 20.2, \"B\": 380.79, \"LSTAT\": 10.19, \"MEDV\": 20.8}, {\"CRIM\": 4.22239, \"ZN\": 0.0, \"INDUS\": 18.1, \"CHAS\": 1, \"NOX\": 0.77, \"RM\": 5.803, \"AGE\": 89.0, \"DIS\": 1.9047, \"RAD\": 24, \"TAX\": 666.0, \"PTRATIO\": 20.2, \"B\": 353.04, \"LSTAT\": 14.64, \"MEDV\": 16.8}, {\"CRIM\": 3.4742800000000003, \"ZN\": 0.0, \"INDUS\": 18.1, \"CHAS\": 1, \"NOX\": 0.718, \"RM\": 8.78, \"AGE\": 82.9, \"DIS\": 1.9047, \"RAD\": 24, \"TAX\": 666.0, \"PTRATIO\": 20.2, \"B\": 354.55, \"LSTAT\": 5.29, \"MEDV\": 21.9}, {\"CRIM\": 4.55587, \"ZN\": 0.0, \"INDUS\": 18.1, \"CHAS\": 0, \"NOX\": 0.718, \"RM\": 3.561, \"AGE\": 87.9, \"DIS\": 1.6132, \"RAD\": 24, \"TAX\": 666.0, \"PTRATIO\": 20.2, \"B\": 354.7, \"LSTAT\": 7.12, \"MEDV\": 27.5}, {\"CRIM\": 3.69695, \"ZN\": 0.0, \"INDUS\": 18.1, \"CHAS\": 0, \"NOX\": 0.718, \"RM\": 4.963, \"AGE\": 91.4, \"DIS\": 1.7523, \"RAD\": 24, \"TAX\": 666.0, \"PTRATIO\": 20.2, \"B\": 316.03, \"LSTAT\": 14.0, \"MEDV\": 21.9}, {\"CRIM\": 13.5222, \"ZN\": 0.0, \"INDUS\": 18.1, \"CHAS\": 0, \"NOX\": 0.631, \"RM\": 3.863, \"AGE\": 100.0, \"DIS\": 1.5106, \"RAD\": 24, \"TAX\": 666.0, \"PTRATIO\": 20.2, \"B\": 131.42, \"LSTAT\": 13.33, \"MEDV\": 23.1}, {\"CRIM\": 4.898219999999999, \"ZN\": 0.0, \"INDUS\": 18.1, \"CHAS\": 0, \"NOX\": 0.631, \"RM\": 4.97, \"AGE\": 100.0, \"DIS\": 1.3325, \"RAD\": 24, \"TAX\": 666.0, \"PTRATIO\": 20.2, \"B\": 375.52, \"LSTAT\": 3.26, \"MEDV\": 50.0}, {\"CRIM\": 5.669980000000001, \"ZN\": 0.0, \"INDUS\": 18.1, \"CHAS\": 1, \"NOX\": 0.631, \"RM\": 6.683, \"AGE\": 96.8, \"DIS\": 1.3567, \"RAD\": 24, \"TAX\": 666.0, \"PTRATIO\": 20.2, \"B\": 375.33, \"LSTAT\": 3.73, \"MEDV\": 50.0}, {\"CRIM\": 6.53876, \"ZN\": 0.0, \"INDUS\": 18.1, \"CHAS\": 1, \"NOX\": 0.631, \"RM\": 7.016, \"AGE\": 97.5, \"DIS\": 1.2024, \"RAD\": 24, \"TAX\": 666.0, \"PTRATIO\": 20.2, \"B\": 392.05, \"LSTAT\": 2.96, \"MEDV\": 50.0}, {\"CRIM\": 9.2323, \"ZN\": 0.0, \"INDUS\": 18.1, \"CHAS\": 0, \"NOX\": 0.631, \"RM\": 6.216, \"AGE\": 100.0, \"DIS\": 1.1691, \"RAD\": 24, \"TAX\": 666.0, \"PTRATIO\": 20.2, \"B\": 366.15, \"LSTAT\": 9.53, \"MEDV\": 50.0}, {\"CRIM\": 8.26725, \"ZN\": 0.0, \"INDUS\": 18.1, \"CHAS\": 1, \"NOX\": 0.668, \"RM\": 5.875, \"AGE\": 89.6, \"DIS\": 1.1296, \"RAD\": 24, \"TAX\": 666.0, \"PTRATIO\": 20.2, \"B\": 347.88, \"LSTAT\": 8.88, \"MEDV\": 50.0}, {\"CRIM\": 11.1081, \"ZN\": 0.0, \"INDUS\": 18.1, \"CHAS\": 0, \"NOX\": 0.668, \"RM\": 4.906, \"AGE\": 100.0, \"DIS\": 1.1742, \"RAD\": 24, \"TAX\": 666.0, \"PTRATIO\": 20.2, \"B\": 396.9, \"LSTAT\": 34.77, \"MEDV\": 13.8}, {\"CRIM\": 18.4982, \"ZN\": 0.0, \"INDUS\": 18.1, \"CHAS\": 0, \"NOX\": 0.668, \"RM\": 4.138, \"AGE\": 100.0, \"DIS\": 1.137, \"RAD\": 24, \"TAX\": 666.0, \"PTRATIO\": 20.2, \"B\": 396.9, \"LSTAT\": 37.97, \"MEDV\": 13.8}, {\"CRIM\": 19.6091, \"ZN\": 0.0, \"INDUS\": 18.1, \"CHAS\": 0, \"NOX\": 0.671, \"RM\": 7.313, \"AGE\": 97.9, \"DIS\": 1.3163, \"RAD\": 24, \"TAX\": 666.0, \"PTRATIO\": 20.2, \"B\": 396.9, \"LSTAT\": 13.44, \"MEDV\": 15.0}, {\"CRIM\": 15.288, \"ZN\": 0.0, \"INDUS\": 18.1, \"CHAS\": 0, \"NOX\": 0.671, \"RM\": 6.649, \"AGE\": 93.3, \"DIS\": 1.3449, \"RAD\": 24, \"TAX\": 666.0, \"PTRATIO\": 20.2, \"B\": 363.02, \"LSTAT\": 23.24, \"MEDV\": 13.9}, {\"CRIM\": 9.82349, \"ZN\": 0.0, \"INDUS\": 18.1, \"CHAS\": 0, \"NOX\": 0.671, \"RM\": 6.794, \"AGE\": 98.8, \"DIS\": 1.358, \"RAD\": 24, \"TAX\": 666.0, \"PTRATIO\": 20.2, \"B\": 396.9, \"LSTAT\": 21.24, \"MEDV\": 13.3}, {\"CRIM\": 23.6482, \"ZN\": 0.0, \"INDUS\": 18.1, \"CHAS\": 0, \"NOX\": 0.671, \"RM\": 6.38, \"AGE\": 96.2, \"DIS\": 1.3861, \"RAD\": 24, \"TAX\": 666.0, \"PTRATIO\": 20.2, \"B\": 396.9, \"LSTAT\": 23.69, \"MEDV\": 13.1}, {\"CRIM\": 17.8667, \"ZN\": 0.0, \"INDUS\": 18.1, \"CHAS\": 0, \"NOX\": 0.671, \"RM\": 6.223, \"AGE\": 100.0, \"DIS\": 1.3861, \"RAD\": 24, \"TAX\": 666.0, \"PTRATIO\": 20.2, \"B\": 393.74, \"LSTAT\": 21.78, \"MEDV\": 10.2}, {\"CRIM\": 88.9762, \"ZN\": 0.0, \"INDUS\": 18.1, \"CHAS\": 0, \"NOX\": 0.671, \"RM\": 6.968, \"AGE\": 91.9, \"DIS\": 1.4165, \"RAD\": 24, \"TAX\": 666.0, \"PTRATIO\": 20.2, \"B\": 396.9, \"LSTAT\": 17.21, \"MEDV\": 10.4}, {\"CRIM\": 15.8744, \"ZN\": 0.0, \"INDUS\": 18.1, \"CHAS\": 0, \"NOX\": 0.671, \"RM\": 6.545, \"AGE\": 99.1, \"DIS\": 1.5192, \"RAD\": 24, \"TAX\": 666.0, \"PTRATIO\": 20.2, \"B\": 396.9, \"LSTAT\": 21.08, \"MEDV\": 10.9}, {\"CRIM\": 9.18702, \"ZN\": 0.0, \"INDUS\": 18.1, \"CHAS\": 0, \"NOX\": 0.7, \"RM\": 5.536, \"AGE\": 100.0, \"DIS\": 1.5804, \"RAD\": 24, \"TAX\": 666.0, \"PTRATIO\": 20.2, \"B\": 396.9, \"LSTAT\": 23.6, \"MEDV\": 11.3}, {\"CRIM\": 7.9924800000000005, \"ZN\": 0.0, \"INDUS\": 18.1, \"CHAS\": 0, \"NOX\": 0.7, \"RM\": 5.52, \"AGE\": 100.0, \"DIS\": 1.5331, \"RAD\": 24, \"TAX\": 666.0, \"PTRATIO\": 20.2, \"B\": 396.9, \"LSTAT\": 24.56, \"MEDV\": 12.3}, {\"CRIM\": 20.0849, \"ZN\": 0.0, \"INDUS\": 18.1, \"CHAS\": 0, \"NOX\": 0.7, \"RM\": 4.368, \"AGE\": 91.2, \"DIS\": 1.4395, \"RAD\": 24, \"TAX\": 666.0, \"PTRATIO\": 20.2, \"B\": 285.83, \"LSTAT\": 30.63, \"MEDV\": 8.8}, {\"CRIM\": 16.8118, \"ZN\": 0.0, \"INDUS\": 18.1, \"CHAS\": 0, \"NOX\": 0.7, \"RM\": 5.277, \"AGE\": 98.1, \"DIS\": 1.4261, \"RAD\": 24, \"TAX\": 666.0, \"PTRATIO\": 20.2, \"B\": 396.9, \"LSTAT\": 30.81, \"MEDV\": 7.2}, {\"CRIM\": 24.3938, \"ZN\": 0.0, \"INDUS\": 18.1, \"CHAS\": 0, \"NOX\": 0.7, \"RM\": 4.652, \"AGE\": 100.0, \"DIS\": 1.4672, \"RAD\": 24, \"TAX\": 666.0, \"PTRATIO\": 20.2, \"B\": 396.9, \"LSTAT\": 28.28, \"MEDV\": 10.5}, {\"CRIM\": 22.5971, \"ZN\": 0.0, \"INDUS\": 18.1, \"CHAS\": 0, \"NOX\": 0.7, \"RM\": 5.0, \"AGE\": 89.5, \"DIS\": 1.5184, \"RAD\": 24, \"TAX\": 666.0, \"PTRATIO\": 20.2, \"B\": 396.9, \"LSTAT\": 31.99, \"MEDV\": 7.4}, {\"CRIM\": 14.3337, \"ZN\": 0.0, \"INDUS\": 18.1, \"CHAS\": 0, \"NOX\": 0.7, \"RM\": 4.88, \"AGE\": 100.0, \"DIS\": 1.5895, \"RAD\": 24, \"TAX\": 666.0, \"PTRATIO\": 20.2, \"B\": 372.92, \"LSTAT\": 30.62, \"MEDV\": 10.2}, {\"CRIM\": 8.15174, \"ZN\": 0.0, \"INDUS\": 18.1, \"CHAS\": 0, \"NOX\": 0.7, \"RM\": 5.39, \"AGE\": 98.9, \"DIS\": 1.7281, \"RAD\": 24, \"TAX\": 666.0, \"PTRATIO\": 20.2, \"B\": 396.9, \"LSTAT\": 20.85, \"MEDV\": 11.5}, {\"CRIM\": 6.96215, \"ZN\": 0.0, \"INDUS\": 18.1, \"CHAS\": 0, \"NOX\": 0.7, \"RM\": 5.713, \"AGE\": 97.0, \"DIS\": 1.9265, \"RAD\": 24, \"TAX\": 666.0, \"PTRATIO\": 20.2, \"B\": 394.43, \"LSTAT\": 17.11, \"MEDV\": 15.1}, {\"CRIM\": 5.29305, \"ZN\": 0.0, \"INDUS\": 18.1, \"CHAS\": 0, \"NOX\": 0.7, \"RM\": 6.051, \"AGE\": 82.5, \"DIS\": 2.1678, \"RAD\": 24, \"TAX\": 666.0, \"PTRATIO\": 20.2, \"B\": 378.38, \"LSTAT\": 18.76, \"MEDV\": 23.2}, {\"CRIM\": 11.5779, \"ZN\": 0.0, \"INDUS\": 18.1, \"CHAS\": 0, \"NOX\": 0.7, \"RM\": 5.036, \"AGE\": 97.0, \"DIS\": 1.77, \"RAD\": 24, \"TAX\": 666.0, \"PTRATIO\": 20.2, \"B\": 396.9, \"LSTAT\": 25.68, \"MEDV\": 9.7}, {\"CRIM\": 8.64476, \"ZN\": 0.0, \"INDUS\": 18.1, \"CHAS\": 0, \"NOX\": 0.693, \"RM\": 6.193, \"AGE\": 92.6, \"DIS\": 1.7912, \"RAD\": 24, \"TAX\": 666.0, \"PTRATIO\": 20.2, \"B\": 396.9, \"LSTAT\": 15.17, \"MEDV\": 13.8}, {\"CRIM\": 13.3598, \"ZN\": 0.0, \"INDUS\": 18.1, \"CHAS\": 0, \"NOX\": 0.693, \"RM\": 5.887, \"AGE\": 94.7, \"DIS\": 1.7821, \"RAD\": 24, \"TAX\": 666.0, \"PTRATIO\": 20.2, \"B\": 396.9, \"LSTAT\": 16.35, \"MEDV\": 12.7}, {\"CRIM\": 8.71675, \"ZN\": 0.0, \"INDUS\": 18.1, \"CHAS\": 0, \"NOX\": 0.693, \"RM\": 6.471, \"AGE\": 98.8, \"DIS\": 1.7257, \"RAD\": 24, \"TAX\": 666.0, \"PTRATIO\": 20.2, \"B\": 391.98, \"LSTAT\": 17.12, \"MEDV\": 13.1}, {\"CRIM\": 5.87205, \"ZN\": 0.0, \"INDUS\": 18.1, \"CHAS\": 0, \"NOX\": 0.693, \"RM\": 6.405, \"AGE\": 96.0, \"DIS\": 1.6768, \"RAD\": 24, \"TAX\": 666.0, \"PTRATIO\": 20.2, \"B\": 396.9, \"LSTAT\": 19.37, \"MEDV\": 12.5}, {\"CRIM\": 7.67202, \"ZN\": 0.0, \"INDUS\": 18.1, \"CHAS\": 0, \"NOX\": 0.693, \"RM\": 5.747, \"AGE\": 98.9, \"DIS\": 1.6334, \"RAD\": 24, \"TAX\": 666.0, \"PTRATIO\": 20.2, \"B\": 393.1, \"LSTAT\": 19.92, \"MEDV\": 8.5}, {\"CRIM\": 38.3518, \"ZN\": 0.0, \"INDUS\": 18.1, \"CHAS\": 0, \"NOX\": 0.693, \"RM\": 5.453, \"AGE\": 100.0, \"DIS\": 1.4896, \"RAD\": 24, \"TAX\": 666.0, \"PTRATIO\": 20.2, \"B\": 396.9, \"LSTAT\": 30.59, \"MEDV\": 5.0}, {\"CRIM\": 9.91655, \"ZN\": 0.0, \"INDUS\": 18.1, \"CHAS\": 0, \"NOX\": 0.693, \"RM\": 5.852, \"AGE\": 77.8, \"DIS\": 1.5004, \"RAD\": 24, \"TAX\": 666.0, \"PTRATIO\": 20.2, \"B\": 338.16, \"LSTAT\": 29.97, \"MEDV\": 6.3}, {\"CRIM\": 25.0461, \"ZN\": 0.0, \"INDUS\": 18.1, \"CHAS\": 0, \"NOX\": 0.693, \"RM\": 5.987, \"AGE\": 100.0, \"DIS\": 1.5888, \"RAD\": 24, \"TAX\": 666.0, \"PTRATIO\": 20.2, \"B\": 396.9, \"LSTAT\": 26.77, \"MEDV\": 5.6}, {\"CRIM\": 14.2362, \"ZN\": 0.0, \"INDUS\": 18.1, \"CHAS\": 0, \"NOX\": 0.693, \"RM\": 6.343, \"AGE\": 100.0, \"DIS\": 1.5741, \"RAD\": 24, \"TAX\": 666.0, \"PTRATIO\": 20.2, \"B\": 396.9, \"LSTAT\": 20.32, \"MEDV\": 7.2}, {\"CRIM\": 9.59571, \"ZN\": 0.0, \"INDUS\": 18.1, \"CHAS\": 0, \"NOX\": 0.693, \"RM\": 6.404, \"AGE\": 100.0, \"DIS\": 1.639, \"RAD\": 24, \"TAX\": 666.0, \"PTRATIO\": 20.2, \"B\": 376.11, \"LSTAT\": 20.31, \"MEDV\": 12.1}, {\"CRIM\": 24.8017, \"ZN\": 0.0, \"INDUS\": 18.1, \"CHAS\": 0, \"NOX\": 0.693, \"RM\": 5.349, \"AGE\": 96.0, \"DIS\": 1.7028, \"RAD\": 24, \"TAX\": 666.0, \"PTRATIO\": 20.2, \"B\": 396.9, \"LSTAT\": 19.77, \"MEDV\": 8.3}, {\"CRIM\": 41.5292, \"ZN\": 0.0, \"INDUS\": 18.1, \"CHAS\": 0, \"NOX\": 0.693, \"RM\": 5.531, \"AGE\": 85.4, \"DIS\": 1.6074, \"RAD\": 24, \"TAX\": 666.0, \"PTRATIO\": 20.2, \"B\": 329.46, \"LSTAT\": 27.38, \"MEDV\": 8.5}, {\"CRIM\": 67.9208, \"ZN\": 0.0, \"INDUS\": 18.1, \"CHAS\": 0, \"NOX\": 0.693, \"RM\": 5.683, \"AGE\": 100.0, \"DIS\": 1.4254, \"RAD\": 24, \"TAX\": 666.0, \"PTRATIO\": 20.2, \"B\": 384.97, \"LSTAT\": 22.98, \"MEDV\": 5.0}, {\"CRIM\": 20.7162, \"ZN\": 0.0, \"INDUS\": 18.1, \"CHAS\": 0, \"NOX\": 0.659, \"RM\": 4.138, \"AGE\": 100.0, \"DIS\": 1.1781, \"RAD\": 24, \"TAX\": 666.0, \"PTRATIO\": 20.2, \"B\": 370.22, \"LSTAT\": 23.34, \"MEDV\": 11.9}, {\"CRIM\": 11.9511, \"ZN\": 0.0, \"INDUS\": 18.1, \"CHAS\": 0, \"NOX\": 0.659, \"RM\": 5.608, \"AGE\": 100.0, \"DIS\": 1.2852, \"RAD\": 24, \"TAX\": 666.0, \"PTRATIO\": 20.2, \"B\": 332.09, \"LSTAT\": 12.13, \"MEDV\": 27.9}, {\"CRIM\": 7.40389, \"ZN\": 0.0, \"INDUS\": 18.1, \"CHAS\": 0, \"NOX\": 0.597, \"RM\": 5.617, \"AGE\": 97.9, \"DIS\": 1.4547, \"RAD\": 24, \"TAX\": 666.0, \"PTRATIO\": 20.2, \"B\": 314.64, \"LSTAT\": 26.4, \"MEDV\": 17.2}, {\"CRIM\": 14.4383, \"ZN\": 0.0, \"INDUS\": 18.1, \"CHAS\": 0, \"NOX\": 0.597, \"RM\": 6.852, \"AGE\": 100.0, \"DIS\": 1.4655, \"RAD\": 24, \"TAX\": 666.0, \"PTRATIO\": 20.2, \"B\": 179.36, \"LSTAT\": 19.78, \"MEDV\": 27.5}, {\"CRIM\": 51.1358, \"ZN\": 0.0, \"INDUS\": 18.1, \"CHAS\": 0, \"NOX\": 0.597, \"RM\": 5.757, \"AGE\": 100.0, \"DIS\": 1.413, \"RAD\": 24, \"TAX\": 666.0, \"PTRATIO\": 20.2, \"B\": 2.6, \"LSTAT\": 10.11, \"MEDV\": 15.0}, {\"CRIM\": 14.0507, \"ZN\": 0.0, \"INDUS\": 18.1, \"CHAS\": 0, \"NOX\": 0.597, \"RM\": 6.657, \"AGE\": 100.0, \"DIS\": 1.5275, \"RAD\": 24, \"TAX\": 666.0, \"PTRATIO\": 20.2, \"B\": 35.05, \"LSTAT\": 21.22, \"MEDV\": 17.2}, {\"CRIM\": 18.811, \"ZN\": 0.0, \"INDUS\": 18.1, \"CHAS\": 0, \"NOX\": 0.597, \"RM\": 4.628, \"AGE\": 100.0, \"DIS\": 1.5539, \"RAD\": 24, \"TAX\": 666.0, \"PTRATIO\": 20.2, \"B\": 28.79, \"LSTAT\": 34.37, \"MEDV\": 17.9}, {\"CRIM\": 28.6558, \"ZN\": 0.0, \"INDUS\": 18.1, \"CHAS\": 0, \"NOX\": 0.597, \"RM\": 5.155, \"AGE\": 100.0, \"DIS\": 1.5894, \"RAD\": 24, \"TAX\": 666.0, \"PTRATIO\": 20.2, \"B\": 210.97, \"LSTAT\": 20.08, \"MEDV\": 16.3}, {\"CRIM\": 45.7461, \"ZN\": 0.0, \"INDUS\": 18.1, \"CHAS\": 0, \"NOX\": 0.693, \"RM\": 4.519, \"AGE\": 100.0, \"DIS\": 1.6582, \"RAD\": 24, \"TAX\": 666.0, \"PTRATIO\": 20.2, \"B\": 88.27, \"LSTAT\": 36.98, \"MEDV\": 7.0}, {\"CRIM\": 18.0846, \"ZN\": 0.0, \"INDUS\": 18.1, \"CHAS\": 0, \"NOX\": 0.679, \"RM\": 6.434, \"AGE\": 100.0, \"DIS\": 1.8347, \"RAD\": 24, \"TAX\": 666.0, \"PTRATIO\": 20.2, \"B\": 27.25, \"LSTAT\": 29.05, \"MEDV\": 7.2}, {\"CRIM\": 10.8342, \"ZN\": 0.0, \"INDUS\": 18.1, \"CHAS\": 0, \"NOX\": 0.679, \"RM\": 6.782, \"AGE\": 90.8, \"DIS\": 1.8195, \"RAD\": 24, \"TAX\": 666.0, \"PTRATIO\": 20.2, \"B\": 21.57, \"LSTAT\": 25.79, \"MEDV\": 7.5}, {\"CRIM\": 25.9406, \"ZN\": 0.0, \"INDUS\": 18.1, \"CHAS\": 0, \"NOX\": 0.679, \"RM\": 5.304, \"AGE\": 89.1, \"DIS\": 1.6475, \"RAD\": 24, \"TAX\": 666.0, \"PTRATIO\": 20.2, \"B\": 127.36, \"LSTAT\": 26.64, \"MEDV\": 10.4}, {\"CRIM\": 73.5341, \"ZN\": 0.0, \"INDUS\": 18.1, \"CHAS\": 0, \"NOX\": 0.679, \"RM\": 5.957, \"AGE\": 100.0, \"DIS\": 1.8026, \"RAD\": 24, \"TAX\": 666.0, \"PTRATIO\": 20.2, \"B\": 16.45, \"LSTAT\": 20.62, \"MEDV\": 8.8}, {\"CRIM\": 11.8123, \"ZN\": 0.0, \"INDUS\": 18.1, \"CHAS\": 0, \"NOX\": 0.718, \"RM\": 6.824, \"AGE\": 76.5, \"DIS\": 1.794, \"RAD\": 24, \"TAX\": 666.0, \"PTRATIO\": 20.2, \"B\": 48.45, \"LSTAT\": 22.74, \"MEDV\": 8.4}, {\"CRIM\": 11.0874, \"ZN\": 0.0, \"INDUS\": 18.1, \"CHAS\": 0, \"NOX\": 0.718, \"RM\": 6.411, \"AGE\": 100.0, \"DIS\": 1.8589, \"RAD\": 24, \"TAX\": 666.0, \"PTRATIO\": 20.2, \"B\": 318.75, \"LSTAT\": 15.02, \"MEDV\": 16.7}, {\"CRIM\": 7.022589999999999, \"ZN\": 0.0, \"INDUS\": 18.1, \"CHAS\": 0, \"NOX\": 0.718, \"RM\": 6.006, \"AGE\": 95.3, \"DIS\": 1.8746, \"RAD\": 24, \"TAX\": 666.0, \"PTRATIO\": 20.2, \"B\": 319.98, \"LSTAT\": 15.7, \"MEDV\": 14.2}, {\"CRIM\": 12.0482, \"ZN\": 0.0, \"INDUS\": 18.1, \"CHAS\": 0, \"NOX\": 0.614, \"RM\": 5.648, \"AGE\": 87.6, \"DIS\": 1.9512, \"RAD\": 24, \"TAX\": 666.0, \"PTRATIO\": 20.2, \"B\": 291.55, \"LSTAT\": 14.1, \"MEDV\": 20.8}, {\"CRIM\": 7.05042, \"ZN\": 0.0, \"INDUS\": 18.1, \"CHAS\": 0, \"NOX\": 0.614, \"RM\": 6.103, \"AGE\": 85.1, \"DIS\": 2.0218, \"RAD\": 24, \"TAX\": 666.0, \"PTRATIO\": 20.2, \"B\": 2.52, \"LSTAT\": 23.29, \"MEDV\": 13.4}, {\"CRIM\": 8.792119999999999, \"ZN\": 0.0, \"INDUS\": 18.1, \"CHAS\": 0, \"NOX\": 0.584, \"RM\": 5.565, \"AGE\": 70.6, \"DIS\": 2.0635, \"RAD\": 24, \"TAX\": 666.0, \"PTRATIO\": 20.2, \"B\": 3.65, \"LSTAT\": 17.16, \"MEDV\": 11.7}, {\"CRIM\": 15.8603, \"ZN\": 0.0, \"INDUS\": 18.1, \"CHAS\": 0, \"NOX\": 0.679, \"RM\": 5.896, \"AGE\": 95.4, \"DIS\": 1.9096, \"RAD\": 24, \"TAX\": 666.0, \"PTRATIO\": 20.2, \"B\": 7.68, \"LSTAT\": 24.39, \"MEDV\": 8.3}, {\"CRIM\": 12.2472, \"ZN\": 0.0, \"INDUS\": 18.1, \"CHAS\": 0, \"NOX\": 0.584, \"RM\": 5.837, \"AGE\": 59.7, \"DIS\": 1.9976, \"RAD\": 24, \"TAX\": 666.0, \"PTRATIO\": 20.2, \"B\": 24.65, \"LSTAT\": 15.69, \"MEDV\": 10.2}, {\"CRIM\": 37.6619, \"ZN\": 0.0, \"INDUS\": 18.1, \"CHAS\": 0, \"NOX\": 0.679, \"RM\": 6.202, \"AGE\": 78.7, \"DIS\": 1.8629, \"RAD\": 24, \"TAX\": 666.0, \"PTRATIO\": 20.2, \"B\": 18.82, \"LSTAT\": 14.52, \"MEDV\": 10.9}, {\"CRIM\": 7.36711, \"ZN\": 0.0, \"INDUS\": 18.1, \"CHAS\": 0, \"NOX\": 0.679, \"RM\": 6.193, \"AGE\": 78.1, \"DIS\": 1.9356, \"RAD\": 24, \"TAX\": 666.0, \"PTRATIO\": 20.2, \"B\": 96.73, \"LSTAT\": 21.52, \"MEDV\": 11.0}, {\"CRIM\": 9.33889, \"ZN\": 0.0, \"INDUS\": 18.1, \"CHAS\": 0, \"NOX\": 0.679, \"RM\": 6.38, \"AGE\": 95.6, \"DIS\": 1.9682, \"RAD\": 24, \"TAX\": 666.0, \"PTRATIO\": 20.2, \"B\": 60.72, \"LSTAT\": 24.08, \"MEDV\": 9.5}, {\"CRIM\": 8.49213, \"ZN\": 0.0, \"INDUS\": 18.1, \"CHAS\": 0, \"NOX\": 0.584, \"RM\": 6.348, \"AGE\": 86.1, \"DIS\": 2.0527, \"RAD\": 24, \"TAX\": 666.0, \"PTRATIO\": 20.2, \"B\": 83.45, \"LSTAT\": 17.64, \"MEDV\": 14.5}, {\"CRIM\": 10.0623, \"ZN\": 0.0, \"INDUS\": 18.1, \"CHAS\": 0, \"NOX\": 0.584, \"RM\": 6.833, \"AGE\": 94.3, \"DIS\": 2.0882, \"RAD\": 24, \"TAX\": 666.0, \"PTRATIO\": 20.2, \"B\": 81.33, \"LSTAT\": 19.69, \"MEDV\": 14.1}, {\"CRIM\": 6.44405, \"ZN\": 0.0, \"INDUS\": 18.1, \"CHAS\": 0, \"NOX\": 0.584, \"RM\": 6.425, \"AGE\": 74.8, \"DIS\": 2.2004, \"RAD\": 24, \"TAX\": 666.0, \"PTRATIO\": 20.2, \"B\": 97.95, \"LSTAT\": 12.03, \"MEDV\": 16.1}, {\"CRIM\": 5.5810699999999995, \"ZN\": 0.0, \"INDUS\": 18.1, \"CHAS\": 0, \"NOX\": 0.713, \"RM\": 6.436, \"AGE\": 87.9, \"DIS\": 2.3158, \"RAD\": 24, \"TAX\": 666.0, \"PTRATIO\": 20.2, \"B\": 100.19, \"LSTAT\": 16.22, \"MEDV\": 14.3}, {\"CRIM\": 13.9134, \"ZN\": 0.0, \"INDUS\": 18.1, \"CHAS\": 0, \"NOX\": 0.713, \"RM\": 6.208, \"AGE\": 95.0, \"DIS\": 2.2222, \"RAD\": 24, \"TAX\": 666.0, \"PTRATIO\": 20.2, \"B\": 100.63, \"LSTAT\": 15.17, \"MEDV\": 11.7}, {\"CRIM\": 11.1604, \"ZN\": 0.0, \"INDUS\": 18.1, \"CHAS\": 0, \"NOX\": 0.74, \"RM\": 6.629, \"AGE\": 94.6, \"DIS\": 2.1247, \"RAD\": 24, \"TAX\": 666.0, \"PTRATIO\": 20.2, \"B\": 109.85, \"LSTAT\": 23.27, \"MEDV\": 13.4}, {\"CRIM\": 14.4208, \"ZN\": 0.0, \"INDUS\": 18.1, \"CHAS\": 0, \"NOX\": 0.74, \"RM\": 6.461, \"AGE\": 93.3, \"DIS\": 2.0026, \"RAD\": 24, \"TAX\": 666.0, \"PTRATIO\": 20.2, \"B\": 27.49, \"LSTAT\": 18.05, \"MEDV\": 9.6}, {\"CRIM\": 15.1772, \"ZN\": 0.0, \"INDUS\": 18.1, \"CHAS\": 0, \"NOX\": 0.74, \"RM\": 6.152, \"AGE\": 100.0, \"DIS\": 1.9142, \"RAD\": 24, \"TAX\": 666.0, \"PTRATIO\": 20.2, \"B\": 9.32, \"LSTAT\": 26.45, \"MEDV\": 8.7}, {\"CRIM\": 13.6781, \"ZN\": 0.0, \"INDUS\": 18.1, \"CHAS\": 0, \"NOX\": 0.74, \"RM\": 5.935, \"AGE\": 87.9, \"DIS\": 1.8206, \"RAD\": 24, \"TAX\": 666.0, \"PTRATIO\": 20.2, \"B\": 68.95, \"LSTAT\": 34.02, \"MEDV\": 8.4}, {\"CRIM\": 9.39063, \"ZN\": 0.0, \"INDUS\": 18.1, \"CHAS\": 0, \"NOX\": 0.74, \"RM\": 5.627, \"AGE\": 93.9, \"DIS\": 1.8172, \"RAD\": 24, \"TAX\": 666.0, \"PTRATIO\": 20.2, \"B\": 396.9, \"LSTAT\": 22.88, \"MEDV\": 12.8}, {\"CRIM\": 22.0511, \"ZN\": 0.0, \"INDUS\": 18.1, \"CHAS\": 0, \"NOX\": 0.74, \"RM\": 5.818, \"AGE\": 92.4, \"DIS\": 1.8662, \"RAD\": 24, \"TAX\": 666.0, \"PTRATIO\": 20.2, \"B\": 391.45, \"LSTAT\": 22.11, \"MEDV\": 10.5}, {\"CRIM\": 9.72418, \"ZN\": 0.0, \"INDUS\": 18.1, \"CHAS\": 0, \"NOX\": 0.74, \"RM\": 6.406, \"AGE\": 97.2, \"DIS\": 2.0651, \"RAD\": 24, \"TAX\": 666.0, \"PTRATIO\": 20.2, \"B\": 385.96, \"LSTAT\": 19.52, \"MEDV\": 17.1}, {\"CRIM\": 5.66637, \"ZN\": 0.0, \"INDUS\": 18.1, \"CHAS\": 0, \"NOX\": 0.74, \"RM\": 6.219, \"AGE\": 100.0, \"DIS\": 2.0048, \"RAD\": 24, \"TAX\": 666.0, \"PTRATIO\": 20.2, \"B\": 395.69, \"LSTAT\": 16.59, \"MEDV\": 18.4}, {\"CRIM\": 9.96654, \"ZN\": 0.0, \"INDUS\": 18.1, \"CHAS\": 0, \"NOX\": 0.74, \"RM\": 6.485, \"AGE\": 100.0, \"DIS\": 1.9784, \"RAD\": 24, \"TAX\": 666.0, \"PTRATIO\": 20.2, \"B\": 386.73, \"LSTAT\": 18.85, \"MEDV\": 15.4}, {\"CRIM\": 12.8023, \"ZN\": 0.0, \"INDUS\": 18.1, \"CHAS\": 0, \"NOX\": 0.74, \"RM\": 5.854, \"AGE\": 96.6, \"DIS\": 1.8956, \"RAD\": 24, \"TAX\": 666.0, \"PTRATIO\": 20.2, \"B\": 240.52, \"LSTAT\": 23.79, \"MEDV\": 10.8}, {\"CRIM\": 10.6718, \"ZN\": 0.0, \"INDUS\": 18.1, \"CHAS\": 0, \"NOX\": 0.74, \"RM\": 6.459, \"AGE\": 94.8, \"DIS\": 1.9879, \"RAD\": 24, \"TAX\": 666.0, \"PTRATIO\": 20.2, \"B\": 43.06, \"LSTAT\": 23.98, \"MEDV\": 11.8}, {\"CRIM\": 6.288069999999999, \"ZN\": 0.0, \"INDUS\": 18.1, \"CHAS\": 0, \"NOX\": 0.74, \"RM\": 6.341, \"AGE\": 96.4, \"DIS\": 2.072, \"RAD\": 24, \"TAX\": 666.0, \"PTRATIO\": 20.2, \"B\": 318.01, \"LSTAT\": 17.79, \"MEDV\": 14.9}, {\"CRIM\": 9.92485, \"ZN\": 0.0, \"INDUS\": 18.1, \"CHAS\": 0, \"NOX\": 0.74, \"RM\": 6.251, \"AGE\": 96.6, \"DIS\": 2.198, \"RAD\": 24, \"TAX\": 666.0, \"PTRATIO\": 20.2, \"B\": 388.52, \"LSTAT\": 16.44, \"MEDV\": 12.6}, {\"CRIM\": 9.329089999999999, \"ZN\": 0.0, \"INDUS\": 18.1, \"CHAS\": 0, \"NOX\": 0.713, \"RM\": 6.185, \"AGE\": 98.7, \"DIS\": 2.2616, \"RAD\": 24, \"TAX\": 666.0, \"PTRATIO\": 20.2, \"B\": 396.9, \"LSTAT\": 18.13, \"MEDV\": 14.1}, {\"CRIM\": 7.52601, \"ZN\": 0.0, \"INDUS\": 18.1, \"CHAS\": 0, \"NOX\": 0.713, \"RM\": 6.417, \"AGE\": 98.3, \"DIS\": 2.185, \"RAD\": 24, \"TAX\": 666.0, \"PTRATIO\": 20.2, \"B\": 304.21, \"LSTAT\": 19.31, \"MEDV\": 13.0}, {\"CRIM\": 6.71772, \"ZN\": 0.0, \"INDUS\": 18.1, \"CHAS\": 0, \"NOX\": 0.713, \"RM\": 6.749, \"AGE\": 92.6, \"DIS\": 2.3236, \"RAD\": 24, \"TAX\": 666.0, \"PTRATIO\": 20.2, \"B\": 0.32, \"LSTAT\": 17.44, \"MEDV\": 13.4}, {\"CRIM\": 5.44114, \"ZN\": 0.0, \"INDUS\": 18.1, \"CHAS\": 0, \"NOX\": 0.713, \"RM\": 6.655, \"AGE\": 98.2, \"DIS\": 2.3552, \"RAD\": 24, \"TAX\": 666.0, \"PTRATIO\": 20.2, \"B\": 355.29, \"LSTAT\": 17.73, \"MEDV\": 15.2}, {\"CRIM\": 5.09017, \"ZN\": 0.0, \"INDUS\": 18.1, \"CHAS\": 0, \"NOX\": 0.713, \"RM\": 6.297, \"AGE\": 91.8, \"DIS\": 2.3682, \"RAD\": 24, \"TAX\": 666.0, \"PTRATIO\": 20.2, \"B\": 385.09, \"LSTAT\": 17.27, \"MEDV\": 16.1}, {\"CRIM\": 8.24809, \"ZN\": 0.0, \"INDUS\": 18.1, \"CHAS\": 0, \"NOX\": 0.713, \"RM\": 7.393, \"AGE\": 99.3, \"DIS\": 2.4527, \"RAD\": 24, \"TAX\": 666.0, \"PTRATIO\": 20.2, \"B\": 375.87, \"LSTAT\": 16.74, \"MEDV\": 17.8}, {\"CRIM\": 9.513630000000001, \"ZN\": 0.0, \"INDUS\": 18.1, \"CHAS\": 0, \"NOX\": 0.713, \"RM\": 6.728, \"AGE\": 94.1, \"DIS\": 2.4961, \"RAD\": 24, \"TAX\": 666.0, \"PTRATIO\": 20.2, \"B\": 6.68, \"LSTAT\": 18.71, \"MEDV\": 14.9}, {\"CRIM\": 4.75237, \"ZN\": 0.0, \"INDUS\": 18.1, \"CHAS\": 0, \"NOX\": 0.713, \"RM\": 6.525, \"AGE\": 86.5, \"DIS\": 2.4358, \"RAD\": 24, \"TAX\": 666.0, \"PTRATIO\": 20.2, \"B\": 50.92, \"LSTAT\": 18.13, \"MEDV\": 14.1}, {\"CRIM\": 4.668830000000001, \"ZN\": 0.0, \"INDUS\": 18.1, \"CHAS\": 0, \"NOX\": 0.713, \"RM\": 5.976, \"AGE\": 87.9, \"DIS\": 2.5806, \"RAD\": 24, \"TAX\": 666.0, \"PTRATIO\": 20.2, \"B\": 10.48, \"LSTAT\": 19.01, \"MEDV\": 12.7}, {\"CRIM\": 8.20058, \"ZN\": 0.0, \"INDUS\": 18.1, \"CHAS\": 0, \"NOX\": 0.713, \"RM\": 5.936, \"AGE\": 80.3, \"DIS\": 2.7792, \"RAD\": 24, \"TAX\": 666.0, \"PTRATIO\": 20.2, \"B\": 3.5, \"LSTAT\": 16.94, \"MEDV\": 13.5}, {\"CRIM\": 7.75223, \"ZN\": 0.0, \"INDUS\": 18.1, \"CHAS\": 0, \"NOX\": 0.713, \"RM\": 6.301, \"AGE\": 83.7, \"DIS\": 2.7831, \"RAD\": 24, \"TAX\": 666.0, \"PTRATIO\": 20.2, \"B\": 272.21, \"LSTAT\": 16.23, \"MEDV\": 14.9}, {\"CRIM\": 6.80117, \"ZN\": 0.0, \"INDUS\": 18.1, \"CHAS\": 0, \"NOX\": 0.713, \"RM\": 6.081, \"AGE\": 84.4, \"DIS\": 2.7175, \"RAD\": 24, \"TAX\": 666.0, \"PTRATIO\": 20.2, \"B\": 396.9, \"LSTAT\": 14.7, \"MEDV\": 20.0}, {\"CRIM\": 4.812130000000001, \"ZN\": 0.0, \"INDUS\": 18.1, \"CHAS\": 0, \"NOX\": 0.713, \"RM\": 6.701, \"AGE\": 90.0, \"DIS\": 2.5975, \"RAD\": 24, \"TAX\": 666.0, \"PTRATIO\": 20.2, \"B\": 255.23, \"LSTAT\": 16.42, \"MEDV\": 16.4}, {\"CRIM\": 3.69311, \"ZN\": 0.0, \"INDUS\": 18.1, \"CHAS\": 0, \"NOX\": 0.713, \"RM\": 6.376, \"AGE\": 88.4, \"DIS\": 2.5671, \"RAD\": 24, \"TAX\": 666.0, \"PTRATIO\": 20.2, \"B\": 391.43, \"LSTAT\": 14.65, \"MEDV\": 17.7}, {\"CRIM\": 6.65492, \"ZN\": 0.0, \"INDUS\": 18.1, \"CHAS\": 0, \"NOX\": 0.713, \"RM\": 6.317, \"AGE\": 83.0, \"DIS\": 2.7344, \"RAD\": 24, \"TAX\": 666.0, \"PTRATIO\": 20.2, \"B\": 396.9, \"LSTAT\": 13.99, \"MEDV\": 19.5}, {\"CRIM\": 5.82115, \"ZN\": 0.0, \"INDUS\": 18.1, \"CHAS\": 0, \"NOX\": 0.713, \"RM\": 6.513, \"AGE\": 89.9, \"DIS\": 2.8016, \"RAD\": 24, \"TAX\": 666.0, \"PTRATIO\": 20.2, \"B\": 393.82, \"LSTAT\": 10.29, \"MEDV\": 20.2}, {\"CRIM\": 7.83932, \"ZN\": 0.0, \"INDUS\": 18.1, \"CHAS\": 0, \"NOX\": 0.655, \"RM\": 6.209, \"AGE\": 65.4, \"DIS\": 2.9634, \"RAD\": 24, \"TAX\": 666.0, \"PTRATIO\": 20.2, \"B\": 396.9, \"LSTAT\": 13.22, \"MEDV\": 21.4}, {\"CRIM\": 3.1636, \"ZN\": 0.0, \"INDUS\": 18.1, \"CHAS\": 0, \"NOX\": 0.655, \"RM\": 5.759, \"AGE\": 48.2, \"DIS\": 3.0665, \"RAD\": 24, \"TAX\": 666.0, \"PTRATIO\": 20.2, \"B\": 334.4, \"LSTAT\": 14.13, \"MEDV\": 19.9}, {\"CRIM\": 3.7749800000000002, \"ZN\": 0.0, \"INDUS\": 18.1, \"CHAS\": 0, \"NOX\": 0.655, \"RM\": 5.952, \"AGE\": 84.7, \"DIS\": 2.8715, \"RAD\": 24, \"TAX\": 666.0, \"PTRATIO\": 20.2, \"B\": 22.01, \"LSTAT\": 17.15, \"MEDV\": 19.0}, {\"CRIM\": 4.422280000000001, \"ZN\": 0.0, \"INDUS\": 18.1, \"CHAS\": 0, \"NOX\": 0.584, \"RM\": 6.003, \"AGE\": 94.5, \"DIS\": 2.5403, \"RAD\": 24, \"TAX\": 666.0, \"PTRATIO\": 20.2, \"B\": 331.29, \"LSTAT\": 21.32, \"MEDV\": 19.1}, {\"CRIM\": 15.5757, \"ZN\": 0.0, \"INDUS\": 18.1, \"CHAS\": 0, \"NOX\": 0.58, \"RM\": 5.926, \"AGE\": 71.0, \"DIS\": 2.9084, \"RAD\": 24, \"TAX\": 666.0, \"PTRATIO\": 20.2, \"B\": 368.74, \"LSTAT\": 18.13, \"MEDV\": 19.1}, {\"CRIM\": 13.0751, \"ZN\": 0.0, \"INDUS\": 18.1, \"CHAS\": 0, \"NOX\": 0.58, \"RM\": 5.713, \"AGE\": 56.7, \"DIS\": 2.8237, \"RAD\": 24, \"TAX\": 666.0, \"PTRATIO\": 20.2, \"B\": 396.9, \"LSTAT\": 14.76, \"MEDV\": 20.1}, {\"CRIM\": 4.34879, \"ZN\": 0.0, \"INDUS\": 18.1, \"CHAS\": 0, \"NOX\": 0.58, \"RM\": 6.167, \"AGE\": 84.0, \"DIS\": 3.0334, \"RAD\": 24, \"TAX\": 666.0, \"PTRATIO\": 20.2, \"B\": 396.9, \"LSTAT\": 16.29, \"MEDV\": 19.9}, {\"CRIM\": 4.03841, \"ZN\": 0.0, \"INDUS\": 18.1, \"CHAS\": 0, \"NOX\": 0.532, \"RM\": 6.229, \"AGE\": 90.7, \"DIS\": 3.0993, \"RAD\": 24, \"TAX\": 666.0, \"PTRATIO\": 20.2, \"B\": 395.33, \"LSTAT\": 12.87, \"MEDV\": 19.6}, {\"CRIM\": 3.56868, \"ZN\": 0.0, \"INDUS\": 18.1, \"CHAS\": 0, \"NOX\": 0.58, \"RM\": 6.437, \"AGE\": 75.0, \"DIS\": 2.8965, \"RAD\": 24, \"TAX\": 666.0, \"PTRATIO\": 20.2, \"B\": 393.37, \"LSTAT\": 14.36, \"MEDV\": 23.2}, {\"CRIM\": 4.64689, \"ZN\": 0.0, \"INDUS\": 18.1, \"CHAS\": 0, \"NOX\": 0.614, \"RM\": 6.98, \"AGE\": 67.6, \"DIS\": 2.5329, \"RAD\": 24, \"TAX\": 666.0, \"PTRATIO\": 20.2, \"B\": 374.68, \"LSTAT\": 11.66, \"MEDV\": 29.8}, {\"CRIM\": 8.05579, \"ZN\": 0.0, \"INDUS\": 18.1, \"CHAS\": 0, \"NOX\": 0.584, \"RM\": 5.427, \"AGE\": 95.4, \"DIS\": 2.4298, \"RAD\": 24, \"TAX\": 666.0, \"PTRATIO\": 20.2, \"B\": 352.58, \"LSTAT\": 18.14, \"MEDV\": 13.8}, {\"CRIM\": 6.39312, \"ZN\": 0.0, \"INDUS\": 18.1, \"CHAS\": 0, \"NOX\": 0.584, \"RM\": 6.162, \"AGE\": 97.4, \"DIS\": 2.206, \"RAD\": 24, \"TAX\": 666.0, \"PTRATIO\": 20.2, \"B\": 302.76, \"LSTAT\": 24.1, \"MEDV\": 13.3}, {\"CRIM\": 4.87141, \"ZN\": 0.0, \"INDUS\": 18.1, \"CHAS\": 0, \"NOX\": 0.614, \"RM\": 6.484, \"AGE\": 93.6, \"DIS\": 2.3053, \"RAD\": 24, \"TAX\": 666.0, \"PTRATIO\": 20.2, \"B\": 396.21, \"LSTAT\": 18.68, \"MEDV\": 16.7}, {\"CRIM\": 15.0234, \"ZN\": 0.0, \"INDUS\": 18.1, \"CHAS\": 0, \"NOX\": 0.614, \"RM\": 5.304, \"AGE\": 97.3, \"DIS\": 2.1007, \"RAD\": 24, \"TAX\": 666.0, \"PTRATIO\": 20.2, \"B\": 349.48, \"LSTAT\": 24.91, \"MEDV\": 12.0}, {\"CRIM\": 10.233, \"ZN\": 0.0, \"INDUS\": 18.1, \"CHAS\": 0, \"NOX\": 0.614, \"RM\": 6.185, \"AGE\": 96.7, \"DIS\": 2.1705, \"RAD\": 24, \"TAX\": 666.0, \"PTRATIO\": 20.2, \"B\": 379.7, \"LSTAT\": 18.03, \"MEDV\": 14.6}, {\"CRIM\": 14.3337, \"ZN\": 0.0, \"INDUS\": 18.1, \"CHAS\": 0, \"NOX\": 0.614, \"RM\": 6.229, \"AGE\": 88.0, \"DIS\": 1.9512, \"RAD\": 24, \"TAX\": 666.0, \"PTRATIO\": 20.2, \"B\": 383.32, \"LSTAT\": 13.11, \"MEDV\": 21.4}, {\"CRIM\": 5.8240099999999995, \"ZN\": 0.0, \"INDUS\": 18.1, \"CHAS\": 0, \"NOX\": 0.532, \"RM\": 6.242, \"AGE\": 64.7, \"DIS\": 3.4242, \"RAD\": 24, \"TAX\": 666.0, \"PTRATIO\": 20.2, \"B\": 396.9, \"LSTAT\": 10.74, \"MEDV\": 23.0}, {\"CRIM\": 5.7081800000000005, \"ZN\": 0.0, \"INDUS\": 18.1, \"CHAS\": 0, \"NOX\": 0.532, \"RM\": 6.75, \"AGE\": 74.9, \"DIS\": 3.3317, \"RAD\": 24, \"TAX\": 666.0, \"PTRATIO\": 20.2, \"B\": 393.07, \"LSTAT\": 7.74, \"MEDV\": 23.7}, {\"CRIM\": 5.73116, \"ZN\": 0.0, \"INDUS\": 18.1, \"CHAS\": 0, \"NOX\": 0.532, \"RM\": 7.061, \"AGE\": 77.0, \"DIS\": 3.4106, \"RAD\": 24, \"TAX\": 666.0, \"PTRATIO\": 20.2, \"B\": 395.28, \"LSTAT\": 7.01, \"MEDV\": 25.0}, {\"CRIM\": 2.81838, \"ZN\": 0.0, \"INDUS\": 18.1, \"CHAS\": 0, \"NOX\": 0.532, \"RM\": 5.762, \"AGE\": 40.3, \"DIS\": 4.0983, \"RAD\": 24, \"TAX\": 666.0, \"PTRATIO\": 20.2, \"B\": 392.92, \"LSTAT\": 10.42, \"MEDV\": 21.8}, {\"CRIM\": 2.37857, \"ZN\": 0.0, \"INDUS\": 18.1, \"CHAS\": 0, \"NOX\": 0.583, \"RM\": 5.871, \"AGE\": 41.9, \"DIS\": 3.724, \"RAD\": 24, \"TAX\": 666.0, \"PTRATIO\": 20.2, \"B\": 370.73, \"LSTAT\": 13.34, \"MEDV\": 20.6}, {\"CRIM\": 3.6736699999999995, \"ZN\": 0.0, \"INDUS\": 18.1, \"CHAS\": 0, \"NOX\": 0.583, \"RM\": 6.312, \"AGE\": 51.9, \"DIS\": 3.9917, \"RAD\": 24, \"TAX\": 666.0, \"PTRATIO\": 20.2, \"B\": 388.62, \"LSTAT\": 10.58, \"MEDV\": 21.2}, {\"CRIM\": 5.69175, \"ZN\": 0.0, \"INDUS\": 18.1, \"CHAS\": 0, \"NOX\": 0.583, \"RM\": 6.114, \"AGE\": 79.8, \"DIS\": 3.5459, \"RAD\": 24, \"TAX\": 666.0, \"PTRATIO\": 20.2, \"B\": 392.68, \"LSTAT\": 14.98, \"MEDV\": 19.1}, {\"CRIM\": 4.8356699999999995, \"ZN\": 0.0, \"INDUS\": 18.1, \"CHAS\": 0, \"NOX\": 0.583, \"RM\": 5.905, \"AGE\": 53.2, \"DIS\": 3.1523, \"RAD\": 24, \"TAX\": 666.0, \"PTRATIO\": 20.2, \"B\": 388.22, \"LSTAT\": 11.45, \"MEDV\": 20.6}, {\"CRIM\": 0.15086, \"ZN\": 0.0, \"INDUS\": 27.74, \"CHAS\": 0, \"NOX\": 0.609, \"RM\": 5.454, \"AGE\": 92.7, \"DIS\": 1.8209, \"RAD\": 4, \"TAX\": 711.0, \"PTRATIO\": 20.1, \"B\": 395.09, \"LSTAT\": 18.06, \"MEDV\": 15.2}, {\"CRIM\": 0.18337, \"ZN\": 0.0, \"INDUS\": 27.74, \"CHAS\": 0, \"NOX\": 0.609, \"RM\": 5.414, \"AGE\": 98.3, \"DIS\": 1.7554, \"RAD\": 4, \"TAX\": 711.0, \"PTRATIO\": 20.1, \"B\": 344.05, \"LSTAT\": 23.97, \"MEDV\": 7.0}, {\"CRIM\": 0.20745999999999998, \"ZN\": 0.0, \"INDUS\": 27.74, \"CHAS\": 0, \"NOX\": 0.609, \"RM\": 5.093, \"AGE\": 98.0, \"DIS\": 1.8226, \"RAD\": 4, \"TAX\": 711.0, \"PTRATIO\": 20.1, \"B\": 318.43, \"LSTAT\": 29.68, \"MEDV\": 8.1}, {\"CRIM\": 0.10574000000000001, \"ZN\": 0.0, \"INDUS\": 27.74, \"CHAS\": 0, \"NOX\": 0.609, \"RM\": 5.983, \"AGE\": 98.8, \"DIS\": 1.8681, \"RAD\": 4, \"TAX\": 711.0, \"PTRATIO\": 20.1, \"B\": 390.11, \"LSTAT\": 18.07, \"MEDV\": 13.6}, {\"CRIM\": 0.11132, \"ZN\": 0.0, \"INDUS\": 27.74, \"CHAS\": 0, \"NOX\": 0.609, \"RM\": 5.983, \"AGE\": 83.5, \"DIS\": 2.1099, \"RAD\": 4, \"TAX\": 711.0, \"PTRATIO\": 20.1, \"B\": 396.9, \"LSTAT\": 13.35, \"MEDV\": 20.1}, {\"CRIM\": 0.17331, \"ZN\": 0.0, \"INDUS\": 9.69, \"CHAS\": 0, \"NOX\": 0.585, \"RM\": 5.707, \"AGE\": 54.0, \"DIS\": 2.3817, \"RAD\": 6, \"TAX\": 391.0, \"PTRATIO\": 19.2, \"B\": 396.9, \"LSTAT\": 12.01, \"MEDV\": 21.8}, {\"CRIM\": 0.27957, \"ZN\": 0.0, \"INDUS\": 9.69, \"CHAS\": 0, \"NOX\": 0.585, \"RM\": 5.926, \"AGE\": 42.6, \"DIS\": 2.3817, \"RAD\": 6, \"TAX\": 391.0, \"PTRATIO\": 19.2, \"B\": 396.9, \"LSTAT\": 13.59, \"MEDV\": 24.5}, {\"CRIM\": 0.17899, \"ZN\": 0.0, \"INDUS\": 9.69, \"CHAS\": 0, \"NOX\": 0.585, \"RM\": 5.67, \"AGE\": 28.8, \"DIS\": 2.7986, \"RAD\": 6, \"TAX\": 391.0, \"PTRATIO\": 19.2, \"B\": 393.29, \"LSTAT\": 17.6, \"MEDV\": 23.1}, {\"CRIM\": 0.2896, \"ZN\": 0.0, \"INDUS\": 9.69, \"CHAS\": 0, \"NOX\": 0.585, \"RM\": 5.39, \"AGE\": 72.9, \"DIS\": 2.7986, \"RAD\": 6, \"TAX\": 391.0, \"PTRATIO\": 19.2, \"B\": 396.9, \"LSTAT\": 21.14, \"MEDV\": 19.7}, {\"CRIM\": 0.26838, \"ZN\": 0.0, \"INDUS\": 9.69, \"CHAS\": 0, \"NOX\": 0.585, \"RM\": 5.794, \"AGE\": 70.6, \"DIS\": 2.8927, \"RAD\": 6, \"TAX\": 391.0, \"PTRATIO\": 19.2, \"B\": 396.9, \"LSTAT\": 14.1, \"MEDV\": 18.3}, {\"CRIM\": 0.23911999999999997, \"ZN\": 0.0, \"INDUS\": 9.69, \"CHAS\": 0, \"NOX\": 0.585, \"RM\": 6.019, \"AGE\": 65.3, \"DIS\": 2.4091, \"RAD\": 6, \"TAX\": 391.0, \"PTRATIO\": 19.2, \"B\": 396.9, \"LSTAT\": 12.92, \"MEDV\": 21.2}, {\"CRIM\": 0.17783, \"ZN\": 0.0, \"INDUS\": 9.69, \"CHAS\": 0, \"NOX\": 0.585, \"RM\": 5.569, \"AGE\": 73.5, \"DIS\": 2.3999, \"RAD\": 6, \"TAX\": 391.0, \"PTRATIO\": 19.2, \"B\": 395.77, \"LSTAT\": 15.1, \"MEDV\": 17.5}, {\"CRIM\": 0.22438000000000002, \"ZN\": 0.0, \"INDUS\": 9.69, \"CHAS\": 0, \"NOX\": 0.585, \"RM\": 6.027, \"AGE\": 79.7, \"DIS\": 2.4982, \"RAD\": 6, \"TAX\": 391.0, \"PTRATIO\": 19.2, \"B\": 396.9, \"LSTAT\": 14.33, \"MEDV\": 16.8}, {\"CRIM\": 0.06262999999999999, \"ZN\": 0.0, \"INDUS\": 11.93, \"CHAS\": 0, \"NOX\": 0.573, \"RM\": 6.593, \"AGE\": 69.1, \"DIS\": 2.4786, \"RAD\": 1, \"TAX\": 273.0, \"PTRATIO\": 21.0, \"B\": 391.99, \"LSTAT\": 9.67, \"MEDV\": 22.4}, {\"CRIM\": 0.04527, \"ZN\": 0.0, \"INDUS\": 11.93, \"CHAS\": 0, \"NOX\": 0.573, \"RM\": 6.12, \"AGE\": 76.7, \"DIS\": 2.2875, \"RAD\": 1, \"TAX\": 273.0, \"PTRATIO\": 21.0, \"B\": 396.9, \"LSTAT\": 9.08, \"MEDV\": 20.6}, {\"CRIM\": 0.06076, \"ZN\": 0.0, \"INDUS\": 11.93, \"CHAS\": 0, \"NOX\": 0.573, \"RM\": 6.976, \"AGE\": 91.0, \"DIS\": 2.1675, \"RAD\": 1, \"TAX\": 273.0, \"PTRATIO\": 21.0, \"B\": 396.9, \"LSTAT\": 5.64, \"MEDV\": 23.9}, {\"CRIM\": 0.10959, \"ZN\": 0.0, \"INDUS\": 11.93, \"CHAS\": 0, \"NOX\": 0.573, \"RM\": 6.794, \"AGE\": 89.3, \"DIS\": 2.3889, \"RAD\": 1, \"TAX\": 273.0, \"PTRATIO\": 21.0, \"B\": 393.45, \"LSTAT\": 6.48, \"MEDV\": 22.0}, {\"CRIM\": 0.04741, \"ZN\": 0.0, \"INDUS\": 11.93, \"CHAS\": 0, \"NOX\": 0.573, \"RM\": 6.03, \"AGE\": 80.8, \"DIS\": 2.505, \"RAD\": 1, \"TAX\": 273.0, \"PTRATIO\": 21.0, \"B\": 396.9, \"LSTAT\": 7.88, \"MEDV\": 11.9}]}}, {\"mode\": \"vega-lite\"});\n",
              "</script>"
            ]
          },
          "metadata": {
            "tags": []
          },
          "execution_count": 119
        }
      ]
    },
    {
      "cell_type": "code",
      "metadata": {
        "id": "N4XxQsWGhws-",
        "colab_type": "code",
        "colab": {
          "base_uri": "https://localhost:8080/",
          "height": 314
        },
        "outputId": "13190312-cfa9-48f3-c37a-8d0f41c9f685"
      },
      "source": [
        "#data_pd.drop(['MEDV'])\n",
        "data_pd.describe()"
      ],
      "execution_count": 87,
      "outputs": [
        {
          "output_type": "execute_result",
          "data": {
            "text/html": [
              "<div>\n",
              "<style scoped>\n",
              "    .dataframe tbody tr th:only-of-type {\n",
              "        vertical-align: middle;\n",
              "    }\n",
              "\n",
              "    .dataframe tbody tr th {\n",
              "        vertical-align: top;\n",
              "    }\n",
              "\n",
              "    .dataframe thead th {\n",
              "        text-align: right;\n",
              "    }\n",
              "</style>\n",
              "<table border=\"1\" class=\"dataframe\">\n",
              "  <thead>\n",
              "    <tr style=\"text-align: right;\">\n",
              "      <th></th>\n",
              "      <th>CRIM</th>\n",
              "      <th>ZN</th>\n",
              "      <th>INDUS</th>\n",
              "      <th>CHAS</th>\n",
              "      <th>NOX</th>\n",
              "      <th>RM</th>\n",
              "      <th>AGE</th>\n",
              "      <th>DIS</th>\n",
              "      <th>RAD</th>\n",
              "      <th>TAX</th>\n",
              "      <th>PTRATIO</th>\n",
              "      <th>B</th>\n",
              "      <th>LSTAT</th>\n",
              "      <th>MEDV</th>\n",
              "    </tr>\n",
              "  </thead>\n",
              "  <tbody>\n",
              "    <tr>\n",
              "      <th>count</th>\n",
              "      <td>506.000000</td>\n",
              "      <td>506.000000</td>\n",
              "      <td>506.000000</td>\n",
              "      <td>506.000000</td>\n",
              "      <td>506.000000</td>\n",
              "      <td>506.000000</td>\n",
              "      <td>506.000000</td>\n",
              "      <td>506.000000</td>\n",
              "      <td>506.000000</td>\n",
              "      <td>506.000000</td>\n",
              "      <td>506.000000</td>\n",
              "      <td>506.000000</td>\n",
              "      <td>506.000000</td>\n",
              "      <td>506.000000</td>\n",
              "    </tr>\n",
              "    <tr>\n",
              "      <th>mean</th>\n",
              "      <td>3.613524</td>\n",
              "      <td>11.363636</td>\n",
              "      <td>11.136779</td>\n",
              "      <td>0.069170</td>\n",
              "      <td>0.554695</td>\n",
              "      <td>6.284634</td>\n",
              "      <td>68.574901</td>\n",
              "      <td>3.795043</td>\n",
              "      <td>9.549407</td>\n",
              "      <td>408.237154</td>\n",
              "      <td>18.455534</td>\n",
              "      <td>356.674032</td>\n",
              "      <td>12.653063</td>\n",
              "      <td>22.532806</td>\n",
              "    </tr>\n",
              "    <tr>\n",
              "      <th>std</th>\n",
              "      <td>8.601545</td>\n",
              "      <td>23.322453</td>\n",
              "      <td>6.860353</td>\n",
              "      <td>0.253994</td>\n",
              "      <td>0.115878</td>\n",
              "      <td>0.702617</td>\n",
              "      <td>28.148861</td>\n",
              "      <td>2.105710</td>\n",
              "      <td>8.707259</td>\n",
              "      <td>168.537116</td>\n",
              "      <td>2.164946</td>\n",
              "      <td>91.294864</td>\n",
              "      <td>7.141062</td>\n",
              "      <td>9.197104</td>\n",
              "    </tr>\n",
              "    <tr>\n",
              "      <th>min</th>\n",
              "      <td>0.006320</td>\n",
              "      <td>0.000000</td>\n",
              "      <td>0.460000</td>\n",
              "      <td>0.000000</td>\n",
              "      <td>0.385000</td>\n",
              "      <td>3.561000</td>\n",
              "      <td>2.900000</td>\n",
              "      <td>1.129600</td>\n",
              "      <td>1.000000</td>\n",
              "      <td>187.000000</td>\n",
              "      <td>12.600000</td>\n",
              "      <td>0.320000</td>\n",
              "      <td>1.730000</td>\n",
              "      <td>5.000000</td>\n",
              "    </tr>\n",
              "    <tr>\n",
              "      <th>25%</th>\n",
              "      <td>0.082045</td>\n",
              "      <td>0.000000</td>\n",
              "      <td>5.190000</td>\n",
              "      <td>0.000000</td>\n",
              "      <td>0.449000</td>\n",
              "      <td>5.885500</td>\n",
              "      <td>45.025000</td>\n",
              "      <td>2.100175</td>\n",
              "      <td>4.000000</td>\n",
              "      <td>279.000000</td>\n",
              "      <td>17.400000</td>\n",
              "      <td>375.377500</td>\n",
              "      <td>6.950000</td>\n",
              "      <td>17.025000</td>\n",
              "    </tr>\n",
              "    <tr>\n",
              "      <th>50%</th>\n",
              "      <td>0.256510</td>\n",
              "      <td>0.000000</td>\n",
              "      <td>9.690000</td>\n",
              "      <td>0.000000</td>\n",
              "      <td>0.538000</td>\n",
              "      <td>6.208500</td>\n",
              "      <td>77.500000</td>\n",
              "      <td>3.207450</td>\n",
              "      <td>5.000000</td>\n",
              "      <td>330.000000</td>\n",
              "      <td>19.050000</td>\n",
              "      <td>391.440000</td>\n",
              "      <td>11.360000</td>\n",
              "      <td>21.200000</td>\n",
              "    </tr>\n",
              "    <tr>\n",
              "      <th>75%</th>\n",
              "      <td>3.677082</td>\n",
              "      <td>12.500000</td>\n",
              "      <td>18.100000</td>\n",
              "      <td>0.000000</td>\n",
              "      <td>0.624000</td>\n",
              "      <td>6.623500</td>\n",
              "      <td>94.075000</td>\n",
              "      <td>5.188425</td>\n",
              "      <td>24.000000</td>\n",
              "      <td>666.000000</td>\n",
              "      <td>20.200000</td>\n",
              "      <td>396.225000</td>\n",
              "      <td>16.955000</td>\n",
              "      <td>25.000000</td>\n",
              "    </tr>\n",
              "    <tr>\n",
              "      <th>max</th>\n",
              "      <td>88.976200</td>\n",
              "      <td>100.000000</td>\n",
              "      <td>27.740000</td>\n",
              "      <td>1.000000</td>\n",
              "      <td>0.871000</td>\n",
              "      <td>8.780000</td>\n",
              "      <td>100.000000</td>\n",
              "      <td>12.126500</td>\n",
              "      <td>24.000000</td>\n",
              "      <td>711.000000</td>\n",
              "      <td>22.000000</td>\n",
              "      <td>396.900000</td>\n",
              "      <td>37.970000</td>\n",
              "      <td>50.000000</td>\n",
              "    </tr>\n",
              "  </tbody>\n",
              "</table>\n",
              "</div>"
            ],
            "text/plain": [
              "             CRIM          ZN       INDUS  ...           B       LSTAT        MEDV\n",
              "count  506.000000  506.000000  506.000000  ...  506.000000  506.000000  506.000000\n",
              "mean     3.613524   11.363636   11.136779  ...  356.674032   12.653063   22.532806\n",
              "std      8.601545   23.322453    6.860353  ...   91.294864    7.141062    9.197104\n",
              "min      0.006320    0.000000    0.460000  ...    0.320000    1.730000    5.000000\n",
              "25%      0.082045    0.000000    5.190000  ...  375.377500    6.950000   17.025000\n",
              "50%      0.256510    0.000000    9.690000  ...  391.440000   11.360000   21.200000\n",
              "75%      3.677082   12.500000   18.100000  ...  396.225000   16.955000   25.000000\n",
              "max     88.976200  100.000000   27.740000  ...  396.900000   37.970000   50.000000\n",
              "\n",
              "[8 rows x 14 columns]"
            ]
          },
          "metadata": {
            "tags": []
          },
          "execution_count": 87
        }
      ]
    },
    {
      "cell_type": "code",
      "metadata": {
        "id": "e4CTqZRGuQ8l",
        "colab_type": "code",
        "colab": {}
      },
      "source": [
        "dtype=np.double\n",
        "def col_sort(t,col=0,descending=False):\n",
        "    return t[t[:, col].sort(descending=descending)[1]]\n",
        "\n"
      ],
      "execution_count": 6,
      "outputs": []
    },
    {
      "cell_type": "markdown",
      "metadata": {
        "id": "nbZT7IH3L8-C",
        "colab_type": "text"
      },
      "source": [
        "# Normalize the data (function)\n",
        "\n",
        "For each column of X(data)  subtract the mean of the column and scale by the range $$(highest - lowest)$$\n",
        "\n",
        "This normalization maked the algoririthm more stable\n",
        "\n",
        "> _Note:_ <span color=\"red\">Do not mormalize the price column (MEDV)</span>"
      ]
    },
    {
      "cell_type": "code",
      "metadata": {
        "id": "DKi4vn8sL3-2",
        "colab_type": "code",
        "colab": {}
      },
      "source": [
        "def norm(X):\n",
        "    R=(np.amax(X,0)-np.amin(X,0)).reshape(-1,1)\n",
        "    R[X.shape[1]-1][0] = 1.0\n",
        "    M=np.mean(X,0).reshape(-1,1)\n",
        "    M[X.shape[1]-1][0] = 0.0\n",
        "    Mv = M.dot(np.ones((1,X.shape[0]),dtype=dtype)).transpose()\n",
        "    Sc = R.dot(np.ones((1,X.shape[0]),dtype=dtype)).transpose()\n",
        "    return [(X-Mv)/Sc,R,M]"
      ],
      "execution_count": 7,
      "outputs": []
    },
    {
      "cell_type": "markdown",
      "metadata": {
        "id": "260TNv_M_08b",
        "colab_type": "text"
      },
      "source": [
        "# Setup MA housing data for regression\n",
        "\n",
        "1. Convert pandas data to numpy\n",
        "2. Place in X all the columns except the price\n",
        "3. Add a '1's column to X _(this is to incorporate the intercept)_\n",
        "4. Put into y the house prices where $y_i$ price corresponding to row $X_i$ \n",
        "5. Initialize $\\phi$ with '1's\n"
      ]
    },
    {
      "cell_type": "code",
      "metadata": {
        "colab_type": "code",
        "id": "cGI8X_LImmoB",
        "colab": {}
      },
      "source": [
        "\n",
        "\n",
        "# !head sample_data/housing-ma.csv\n",
        "ones = np.ones\n",
        "cat = np.concatenate\n",
        "def setup(data_pd,drop=[]):\n",
        "    data_pd = data_pd.drop(drop,axis=1)\n",
        "    Z = data_pd.to_numpy(dtype=np.double,copy=True)\n",
        "    m = Z.shape[0] # m = number of rows of data\n",
        "    n = Z.shape[1]-1 # n = number of columns excluding the house price\n",
        "    X = Z[:,0:n] # remove the house price (last column)\n",
        "\n",
        "    Ones = ones(m,dtype=np.double).reshape(-1,1)\n",
        "    X = cat((X,Ones),1) # add a 1 to each row (to compute the intercept)\n",
        "    y = Z[:,n].reshape(-1,1) # get the house price\n",
        "    phi = np.ones(n+1,dtype=np.double).reshape(-1,1) # initial value of phi\n",
        "    return [X, y, phi]\n",
        "\n"
      ],
      "execution_count": 80,
      "outputs": []
    },
    {
      "cell_type": "markdown",
      "metadata": {
        "id": "kSLk57okruOU",
        "colab_type": "text"
      },
      "source": [
        "# Numpy Multivariate regression\n",
        "\n",
        "This method uses gradient descent to iteratively mimimize the cost function (MSE - mean standard error).\n",
        "\n",
        "## Iterative computation of parameters _phi_ (multi variable linear regression)\n",
        "\n",
        "$phi (\\phi) $ are the regression parematers\n",
        "\n",
        "*  find $\\phi$ that minimizes cost\n",
        "  *  *where:*    $Cost^2 = MSE = \\frac{(X\\phi -y)^T(X\\phi -y)}{2m}$\n",
        "   * $\\phi$ is a minimum when $\\frac{\\partial{(Cost^2)}}{\\partial\\phi} = 0$\n",
        "   * i.e. $\\frac{\\partial{(Cost^2)}}{\\partial\\phi} = \\frac{X^T(X\\phi - y)}{m} = 0$\n",
        "   * by gradient descent we can compute successive values of $\\phi_j$ \n",
        "       * $  \\phi_j = \\phi_{j-1} - \\alpha \\frac{\\partial{(Cost^2)}}{\\partial\\phi}$\n",
        "       * Resulting in the following:\n",
        "          * $  \\phi_j = \\phi_{j-1} - \\alpha X^T(X\\phi_{j-1} - y)$\n",
        "          * $\\alpha$ is the learning rate is a small scalar such as 0.05\n",
        "\n",
        "#### Where  \n",
        "*X* = input data of [$m \\times n$] matrix \n",
        "\n",
        "*  m = number of data rows, \n",
        "*  n = number of independent attributes of each data row\n",
        "\n",
        "*y* = output (house price), vector of length $m$\n",
        "\n",
        "_phi_ ($\\phi$) = regression coefficients\n",
        "and\n",
        "\n",
        "_Where_: X$\\phi$ (matrix multiply) = prediced house price\n",
        "\n",
        "$Predicted_i = \\sum_{j=1}^{n} X_{ij} * \\phi_j$"
      ]
    },
    {
      "cell_type": "code",
      "metadata": {
        "id": "MDrMhFx0B7vY",
        "colab_type": "code",
        "colab": {}
      },
      "source": [
        "import math\n",
        "tr = np.transpose\n",
        "\n",
        "def cost(X,phi,Y):\n",
        "    m = X.shape[0];\n",
        "    return math.sqrt((1/(2*m))*(tr(X@phi - Y)@(X@phi - Y)).item())"
      ],
      "execution_count": 9,
      "outputs": []
    },
    {
      "cell_type": "markdown",
      "metadata": {
        "id": "wKdgwRiODsDn",
        "colab_type": "text"
      },
      "source": [
        "# Gradient decent for finding $\\phi$ to minimise cost"
      ]
    },
    {
      "cell_type": "code",
      "metadata": {
        "id": "IExVqhaNrsQU",
        "colab_type": "code",
        "colab": {}
      },
      "source": [
        "\n",
        "\n",
        "def npSolve(X,y,iter=2,alpha=0.05):\n",
        "    W, Range,Mean = norm(X) # normalize the data\n",
        "\n",
        "    phi = ones((X.shape[1],1),dtype=np.double)\n",
        "    cost_list = []\n",
        "    Y = y\n",
        "    m = X.shape[0]\n",
        "    \n",
        "    for i in range(iter):\n",
        "        delta = alpha*(1/m)*(W.T)@(W@phi - Y) \n",
        "        phi = phi - delta\n",
        "        cost_val = cost(W,phi,Y)\n",
        "        cost_list.append(cost_val)\n",
        "        \n",
        "    intercept = np.zeros_like(Mean)\n",
        "    intercept[-1][0] = (phi*Mean/Range).sum().item()\n",
        "    phi = phi/Range - intercept\n",
        "    return [phi,cost_list]    "
      ],
      "execution_count": 10,
      "outputs": []
    },
    {
      "cell_type": "markdown",
      "metadata": {
        "id": "wdRJ5rhG6PyU",
        "colab_type": "text"
      },
      "source": [
        "# Iterative computation of parameters _phi_ (multi variable linear regression)\n",
        "\n",
        "#### Where  \n",
        "*X* = input data of [$m \\times n$] matrix \n",
        "\n",
        "*  m = number of data rows, \n",
        "*  n = number of independent attributes of each data row\n",
        "\n",
        "*y* = output (house price), vector of length $m$\n",
        "\n",
        "_phi_ ($\\phi$) = regression coefficients\n",
        "and\n",
        "\n",
        "_Where_: X$\\phi$ (matrix multiply) = prediced house price\n",
        "\n",
        "$Predicted_i = \\sum_{j=1}^{n} X_{ij} * \\phi_j$\n",
        "\n",
        "\n",
        "        "
      ]
    },
    {
      "cell_type": "code",
      "metadata": {
        "id": "eAw58JNr2l7t",
        "colab_type": "code",
        "colab": {
          "base_uri": "https://localhost:8080/",
          "height": 611
        },
        "outputId": "e7c2b390-0660-4acc-ee7c-4ff4168f3167"
      },
      "source": [
        "#%%time\n",
        "X, y, phi = setup(data_pd, drop=[])   \n",
        "\n",
        "#print(\"input\\n\", X)\n",
        "#print(\"house price (first 10)\\n\",y[0:10])\n",
        "\n",
        "phi,cost_list = npSolve(X,y,500,0.5)\n",
        "\n",
        "print(phi, cost(X,phi,y))\n",
        "\n",
        "pl = pd.DataFrame({\"iteration\": range(len(cost_list)),\n",
        "                  \"cost\":cost_list})\n",
        "\n",
        "alt.Chart(pl).mark_point().encode(\n",
        "    x='iteration', y=\"cost\"\n",
        ").interactive()"
      ],
      "execution_count": 92,
      "outputs": [
        {
          "output_type": "stream",
          "text": [
            "[[-7.19119735e-02]\n",
            " [ 3.80905066e-02]\n",
            " [ 4.24813183e-03]\n",
            " [ 2.79127809e+00]\n",
            " [-1.51363271e+01]\n",
            " [ 3.87847148e+00]\n",
            " [ 2.33877353e-03]\n",
            " [-1.28425309e+00]\n",
            " [ 2.54373661e-01]\n",
            " [-1.03697237e-02]\n",
            " [-9.41854971e-01]\n",
            " [ 9.67083950e-03]\n",
            " [-5.39282499e-01]\n",
            " [ 3.34149801e+01]] 3.31686406768445\n"
          ],
          "name": "stdout"
        },
        {
          "output_type": "execute_result",
          "data": {
            "text/plain": [
              "alt.Chart(...)"
            ],
            "text/html": [
              "\n",
              "<div id=\"altair-viz-21c4bb4859554b7c82a6b482cf9768f7\"></div>\n",
              "<script type=\"text/javascript\">\n",
              "  (function(spec, embedOpt){\n",
              "    let outputDiv = document.currentScript.previousElementSibling;\n",
              "    if (outputDiv.id !== \"altair-viz-21c4bb4859554b7c82a6b482cf9768f7\") {\n",
              "      outputDiv = document.getElementById(\"altair-viz-21c4bb4859554b7c82a6b482cf9768f7\");\n",
              "    }\n",
              "    const paths = {\n",
              "      \"vega\": \"https://cdn.jsdelivr.net/npm//vega@5?noext\",\n",
              "      \"vega-lib\": \"https://cdn.jsdelivr.net/npm//vega-lib?noext\",\n",
              "      \"vega-lite\": \"https://cdn.jsdelivr.net/npm//vega-lite@4.8.1?noext\",\n",
              "      \"vega-embed\": \"https://cdn.jsdelivr.net/npm//vega-embed@6?noext\",\n",
              "    };\n",
              "\n",
              "    function loadScript(lib) {\n",
              "      return new Promise(function(resolve, reject) {\n",
              "        var s = document.createElement('script');\n",
              "        s.src = paths[lib];\n",
              "        s.async = true;\n",
              "        s.onload = () => resolve(paths[lib]);\n",
              "        s.onerror = () => reject(`Error loading script: ${paths[lib]}`);\n",
              "        document.getElementsByTagName(\"head\")[0].appendChild(s);\n",
              "      });\n",
              "    }\n",
              "\n",
              "    function showError(err) {\n",
              "      outputDiv.innerHTML = `<div class=\"error\" style=\"color:red;\">${err}</div>`;\n",
              "      throw err;\n",
              "    }\n",
              "\n",
              "    function displayChart(vegaEmbed) {\n",
              "      vegaEmbed(outputDiv, spec, embedOpt)\n",
              "        .catch(err => showError(`Javascript Error: ${err.message}<br>This usually means there's a typo in your chart specification. See the javascript console for the full traceback.`));\n",
              "    }\n",
              "\n",
              "    if(typeof define === \"function\" && define.amd) {\n",
              "      requirejs.config({paths});\n",
              "      require([\"vega-embed\"], displayChart, err => showError(`Error loading script: ${err.message}`));\n",
              "    } else if (typeof vegaEmbed === \"function\") {\n",
              "      displayChart(vegaEmbed);\n",
              "    } else {\n",
              "      loadScript(\"vega\")\n",
              "        .then(() => loadScript(\"vega-lite\"))\n",
              "        .then(() => loadScript(\"vega-embed\"))\n",
              "        .catch(showError)\n",
              "        .then(() => displayChart(vegaEmbed));\n",
              "    }\n",
              "  })({\"config\": {\"view\": {\"continuousWidth\": 400, \"continuousHeight\": 300}}, \"data\": {\"name\": \"data-eec707e9bac479849e252f47df092166\"}, \"mark\": \"point\", \"encoding\": {\"x\": {\"type\": \"quantitative\", \"field\": \"iteration\"}, \"y\": {\"type\": \"quantitative\", \"field\": \"cost\"}}, \"selection\": {\"selector018\": {\"type\": \"interval\", \"bind\": \"scales\", \"encodings\": [\"x\", \"y\"]}}, \"$schema\": \"https://vega.github.io/schema/vega-lite/v4.8.1.json\", \"datasets\": {\"data-eec707e9bac479849e252f47df092166\": [{\"iteration\": 0, \"cost\": 9.924181328204707}, {\"iteration\": 1, \"cost\": 7.065517024180288}, {\"iteration\": 2, \"cost\": 5.970069130964158}, {\"iteration\": 3, \"cost\": 5.529938667160393}, {\"iteration\": 4, \"cost\": 5.313703862221753}, {\"iteration\": 5, \"cost\": 5.180225991718903}, {\"iteration\": 6, \"cost\": 5.083521741600923}, {\"iteration\": 7, \"cost\": 5.006528706893944}, {\"iteration\": 8, \"cost\": 4.941562421499441}, {\"iteration\": 9, \"cost\": 4.884522854037843}, {\"iteration\": 10, \"cost\": 4.832983293028514}, {\"iteration\": 11, \"cost\": 4.785430659930634}, {\"iteration\": 12, \"cost\": 4.740896669957036}, {\"iteration\": 13, \"cost\": 4.698751283062096}, {\"iteration\": 14, \"cost\": 4.658578036154817}, {\"iteration\": 15, \"cost\": 4.620096309621806}, {\"iteration\": 16, \"cost\": 4.583112244917615}, {\"iteration\": 17, \"cost\": 4.547487614532905}, {\"iteration\": 18, \"cost\": 4.513120048876334}, {\"iteration\": 19, \"cost\": 4.479930469405274}, {\"iteration\": 20, \"cost\": 4.4478550971893895}, {\"iteration\": 21, \"cost\": 4.416840366137663}, {\"iteration\": 22, \"cost\": 4.386839679660441}, {\"iteration\": 23, \"cost\": 4.35781133696783}, {\"iteration\": 24, \"cost\": 4.329717201406259}, {\"iteration\": 25, \"cost\": 4.302521839600993}, {\"iteration\": 26, \"cost\": 4.276191959425331}, {\"iteration\": 27, \"cost\": 4.250696037785661}, {\"iteration\": 28, \"cost\": 4.226004069142658}, {\"iteration\": 29, \"cost\": 4.202087391001569}, {\"iteration\": 30, \"cost\": 4.17891855864501}, {\"iteration\": 31, \"cost\": 4.1564712515434525}, {\"iteration\": 32, \"cost\": 4.134720200314259}, {\"iteration\": 33, \"cost\": 4.113641127174862}, {\"iteration\": 34, \"cost\": 4.0932106954150145}, {\"iteration\": 35, \"cost\": 4.07340646504524}, {\"iteration\": 36, \"cost\": 4.0542068528111965}, {\"iteration\": 37, \"cost\": 4.035591095416952}, {\"iteration\": 38, \"cost\": 4.017539215213025}, {\"iteration\": 39, \"cost\": 4.00003198786634}, {\"iteration\": 40, \"cost\": 3.9830509116942183}, {\"iteration\": 41, \"cost\": 3.966578178448984}, {\"iteration\": 42, \"cost\": 3.95059664540572}, {\"iteration\": 43, \"cost\": 3.935089808647577}, {\"iteration\": 44, \"cost\": 3.9200417774695233}, {\"iteration\": 45, \"cost\": 3.9054372498383443}, {\"iteration\": 46, \"cost\": 3.891261488857519}, {\"iteration\": 47, \"cost\": 3.8775003001926693}, {\"iteration\": 48, \"cost\": 3.864140010417878}, {\"iteration\": 49, \"cost\": 3.851167446246378}, {\"iteration\": 50, \"cost\": 3.8385699146112997}, {\"iteration\": 51, \"cost\": 3.8263351835638852}, {\"iteration\": 52, \"cost\": 3.814451463957828}, {\"iteration\": 53, \"cost\": 3.8029073918895473}, {\"iteration\": 54, \"cost\": 3.7916920118651465}, {\"iteration\": 55, \"cost\": 3.7807947606657417}, {\"iteration\": 56, \"cost\": 3.7702054518836547}, {\"iteration\": 57, \"cost\": 3.7599142611028493}, {\"iteration\": 58, \"cost\": 3.7499117116977727}, {\"iteration\": 59, \"cost\": 3.740188661225588}, {\"iteration\": 60, \"cost\": 3.730736288387581}, {\"iteration\": 61, \"cost\": 3.721546080536335}, {\"iteration\": 62, \"cost\": 3.712609821706031}, {\"iteration\": 63, \"cost\": 3.703919581144043}, {\"iteration\": 64, \"cost\": 3.6954677023227447}, {\"iteration\": 65, \"cost\": 3.6872467924112224}, {\"iteration\": 66, \"cost\": 3.679249712187337}, {\"iteration\": 67, \"cost\": 3.671469566371295}, {\"iteration\": 68, \"cost\": 3.6638996943626405}, {\"iteration\": 69, \"cost\": 3.6565336613632593}, {\"iteration\": 70, \"cost\": 3.6493652498696845}, {\"iteration\": 71, \"cost\": 3.642388451518662}, {\"iteration\": 72, \"cost\": 3.6355974592705933}, {\"iteration\": 73, \"cost\": 3.6289866599160914}, {\"iteration\": 74, \"cost\": 3.622550626891523}, {\"iteration\": 75, \"cost\": 3.6162841133899732}, {\"iteration\": 76, \"cost\": 3.6101820457546903}, {\"iteration\": 77, \"cost\": 3.6042395171425734}, {\"iteration\": 78, \"cost\": 3.5984517814458474}, {\"iteration\": 79, \"cost\": 3.59281424746056}, {\"iteration\": 80, \"cost\": 3.5873224732910485}, {\"iteration\": 81, \"cost\": 3.5819721609799946}, {\"iteration\": 82, \"cost\": 3.576759151354166}, {\"iteration\": 83, \"cost\": 3.5716794190763532}, {\"iteration\": 84, \"cost\": 3.5667290678944736}, {\"iteration\": 85, \"cost\": 3.561904326079203}, {\"iteration\": 86, \"cost\": 3.5572015420418865}, {\"iteration\": 87, \"cost\": 3.5526171801248623}, {\"iteration\": 88, \"cost\": 3.5481478165566886}, {\"iteration\": 89, \"cost\": 3.5437901355651102}, {\"iteration\": 90, \"cost\": 3.539540925640915}, {\"iteration\": 91, \"cost\": 3.5353970759461832}, {\"iteration\": 92, \"cost\": 3.5313555728606763}, {\"iteration\": 93, \"cost\": 3.527413496660456}, {\"iteration\": 94, \"cost\": 3.5235680183230547}, {\"iteration\": 95, \"cost\": 3.5198163964538067}, {\"iteration\": 96, \"cost\": 3.5161559743281803}, {\"iteration\": 97, \"cost\": 3.5125841770452095}, {\"iteration\": 98, \"cost\": 3.509098508787328}, {\"iteration\": 99, \"cost\": 3.5056965501821353}, {\"iteration\": 100, \"cost\": 3.5023759557618432}, {\"iteration\": 101, \"cost\": 3.4991344515163143}, {\"iteration\": 102, \"cost\": 3.4959698325358284}, {\"iteration\": 103, \"cost\": 3.492879960739863}, {\"iteration\": 104, \"cost\": 3.4898627626883534}, {\"iteration\": 105, \"cost\": 3.4869162274720695}, {\"iteration\": 106, \"cost\": 3.4840384046788784}, {\"iteration\": 107, \"cost\": 3.48122740243282}, {\"iteration\": 108, \"cost\": 3.478481385503075}, {\"iteration\": 109, \"cost\": 3.475798573480005}, {\"iteration\": 110, \"cost\": 3.4731772390156017}, {\"iteration\": 111, \"cost\": 3.4706157061257845}, {\"iteration\": 112, \"cost\": 3.468112348552108}, {\"iteration\": 113, \"cost\": 3.465665588180543}, {\"iteration\": 114, \"cost\": 3.4632738935150993}, {\"iteration\": 115, \"cost\": 3.4609357782041648}, {\"iteration\": 116, \"cost\": 3.458649799617525}, {\"iteration\": 117, \"cost\": 3.4564145574721015}, {\"iteration\": 118, \"cost\": 3.454228692504557}, {\"iteration\": 119, \"cost\": 3.4520908851889835}, {\"iteration\": 120, \"cost\": 3.4499998544979626}, {\"iteration\": 121, \"cost\": 3.447954356705366}, {\"iteration\": 122, \"cost\": 3.445953184229334}, {\"iteration\": 123, \"cost\": 3.443995164513938}, {\"iteration\": 124, \"cost\": 3.442079158948089}, {\"iteration\": 125, \"cost\": 3.4402040618203147}, {\"iteration\": 126, \"cost\": 3.438368799308101}, {\"iteration\": 127, \"cost\": 3.4365723285005316}, {\"iteration\": 128, \"cost\": 3.4348136364530064}, {\"iteration\": 129, \"cost\": 3.433091739272893}, {\"iteration\": 130, \"cost\": 3.431405681234997}, {\"iteration\": 131, \"cost\": 3.4297545339257733}, {\"iteration\": 132, \"cost\": 3.428137395415269}, {\"iteration\": 133, \"cost\": 3.4265533894558047}, {\"iteration\": 134, \"cost\": 3.42500166470646}, {\"iteration\": 135, \"cost\": 3.423481393982443}, {\"iteration\": 136, \"cost\": 3.421991773528492}, {\"iteration\": 137, \"cost\": 3.4205320223154634}, {\"iteration\": 138, \"cost\": 3.4191013813592934}, {\"iteration\": 139, \"cost\": 3.417699113061586}, {\"iteration\": 140, \"cost\": 3.4163245005710605}, {\"iteration\": 141, \"cost\": 3.4149768471651565}, {\"iteration\": 142, \"cost\": 3.4136554756511104}, {\"iteration\": 143, \"cost\": 3.4123597277858413}, {\"iteration\": 144, \"cost\": 3.411088963714005}, {\"iteration\": 145, \"cost\": 3.409842561423612}, {\"iteration\": 146, \"cost\": 3.408619916218628}, {\"iteration\": 147, \"cost\": 3.4074204402079573}, {\"iteration\": 148, \"cost\": 3.4062435618103115}, {\"iteration\": 149, \"cost\": 3.405088725274394}, {\"iteration\": 150, \"cost\": 3.403955390213921}, {\"iteration\": 151, \"cost\": 3.4028430311569773}, {\"iteration\": 152, \"cost\": 3.4017511371092404}, {\"iteration\": 153, \"cost\": 3.4006792111306225}, {\"iteration\": 154, \"cost\": 3.399626769924885}, {\"iteration\": 155, \"cost\": 3.398593343441812}, {\"iteration\": 156, \"cost\": 3.3975784744915276}, {\"iteration\": 157, \"cost\": 3.396581718370573}, {\"iteration\": 158, \"cost\": 3.3956026424993637}, {\"iteration\": 159, \"cost\": 3.3946408260706473}, {\"iteration\": 160, \"cost\": 3.39369585970863}, {\"iteration\": 161, \"cost\": 3.3927673451384215}, {\"iteration\": 162, \"cost\": 3.391854894865459}, {\"iteration\": 163, \"cost\": 3.3909581318646187}, {\"iteration\": 164, \"cost\": 3.3900766892786787}, {\"iteration\": 165, \"cost\": 3.3892102101258605}, {\"iteration\": 166, \"cost\": 3.3883583470161467}, {\"iteration\": 167, \"cost\": 3.387520761876114}, {\"iteration\": 168, \"cost\": 3.3866971256819975}, {\"iteration\": 169, \"cost\": 3.3858871182007397}, {\"iteration\": 170, \"cost\": 3.385090427738775}, {\"iteration\": 171, \"cost\": 3.3843067508982982}, {\"iteration\": 172, \"cost\": 3.3835357923407954}, {\"iteration\": 173, \"cost\": 3.3827772645576046}, {\"iteration\": 174, \"cost\": 3.382030887647295}, {\"iteration\": 175, \"cost\": 3.38129638909964}, {\"iteration\": 176, \"cost\": 3.3805735035859996}, {\"iteration\": 177, \"cost\": 3.3798619727559007}, {\"iteration\": 178, \"cost\": 3.3791615450396217}, {\"iteration\": 179, \"cost\": 3.3784719754566193}, {\"iteration\": 180, \"cost\": 3.3777930254295834}, {\"iteration\": 181, \"cost\": 3.3771244626039842}, {\"iteration\": 182, \"cost\": 3.3764660606729113}, {\"iteration\": 183, \"cost\": 3.3758175992070774}, {\"iteration\": 184, \"cost\": 3.3751788634897815}, {\"iteration\": 185, \"cost\": 3.3745496443567418}, {\"iteration\": 186, \"cost\": 3.3739297380405926}, {\"iteration\": 187, \"cost\": 3.3733189460199426}, {\"iteration\": 188, \"cost\": 3.372717074872838}, {\"iteration\": 189, \"cost\": 3.372123936134501}, {\"iteration\": 190, \"cost\": 3.371539346159215}, {\"iteration\": 191, \"cost\": 3.3709631259862385}, {\"iteration\": 192, \"cost\": 3.3703951012096103}, {\"iteration\": 193, \"cost\": 3.3698351018517423}, {\"iteration\": 194, \"cost\": 3.369282962240681}, {\"iteration\": 195, \"cost\": 3.36873852089093}, {\"iteration\": 196, \"cost\": 3.3682016203877243}, {\"iteration\": 197, \"cost\": 3.3676721072746525}, {\"iteration\": 198, \"cost\": 3.367149831944525}, {\"iteration\": 199, \"cost\": 3.366634648533406}, {\"iteration\": 200, \"cost\": 3.366126414817686}, {\"iteration\": 201, \"cost\": 3.3656249921141366}, {\"iteration\": 202, \"cost\": 3.3651302451828315}, {\"iteration\": 203, \"cost\": 3.3646420421328718}, {\"iteration\": 204, \"cost\": 3.364160254330809}, {\"iteration\": 205, \"cost\": 3.363684756311702}, {\"iteration\": 206, \"cost\": 3.3632154256927302}, {\"iteration\": 207, \"cost\": 3.3627521430892764}, {\"iteration\": 208, \"cost\": 3.36229479203341}, {\"iteration\": 209, \"cost\": 3.3618432588947087}, {\"iteration\": 210, \"cost\": 3.361397432803336}, {\"iteration\": 211, \"cost\": 3.3609572055753163}, {\"iteration\": 212, \"cost\": 3.3605224716399427}, {\"iteration\": 213, \"cost\": 3.3600931279692507}, {\"iteration\": 214, \"cost\": 3.3596690740094983}, {\"iteration\": 215, \"cost\": 3.359250211614596}, {\"iteration\": 216, \"cost\": 3.3588364449814265}, {\"iteration\": 217, \"cost\": 3.358427680587002}, {\"iteration\": 218, \"cost\": 3.358023827127398}, {\"iteration\": 219, \"cost\": 3.357624795458421}, {\"iteration\": 220, \"cost\": 3.3572304985379544}, {\"iteration\": 221, \"cost\": 3.3568408513699297}, {\"iteration\": 222, \"cost\": 3.3564557709498857}, {\"iteration\": 223, \"cost\": 3.3560751762120584}, {\"iteration\": 224, \"cost\": 3.355698987977963}, {\"iteration\": 225, \"cost\": 3.3553271289064246}, {\"iteration\": 226, \"cost\": 3.354959523445017}, {\"iteration\": 227, \"cost\": 3.3545960977828546}, {\"iteration\": 228, \"cost\": 3.3542367798047215}, {\"iteration\": 229, \"cost\": 3.3538814990464814}, {\"iteration\": 230, \"cost\": 3.353530186651737}, {\"iteration\": 231, \"cost\": 3.3531827753296954}, {\"iteration\": 232, \"cost\": 3.3528391993142272}, {\"iteration\": 233, \"cost\": 3.352499394324047}, {\"iteration\": 234, \"cost\": 3.3521632975240285}, {\"iteration\": 235, \"cost\": 3.3518308474875713}, {\"iteration\": 236, \"cost\": 3.351501984160037}, {\"iteration\": 237, \"cost\": 3.3511766488231913}, {\"iteration\": 238, \"cost\": 3.350854784060632}, {\"iteration\": 239, \"cost\": 3.3505363337241834}, {\"iteration\": 240, \"cost\": 3.350221242901214}, {\"iteration\": 241, \"cost\": 3.3499094578828648}, {\"iteration\": 242, \"cost\": 3.3496009261331507}, {\"iteration\": 243, \"cost\": 3.3492955962589206}, {\"iteration\": 244, \"cost\": 3.3489934179806404}, {\"iteration\": 245, \"cost\": 3.348694342103987}, {\"iteration\": 246, \"cost\": 3.3483983204922185}, {\"iteration\": 247, \"cost\": 3.3481053060393084}, {\"iteration\": 248, \"cost\": 3.3478152526438123}, {\"iteration\": 249, \"cost\": 3.3475281151834584}, {\"iteration\": 250, \"cost\": 3.3472438494904257}, {\"iteration\": 251, \"cost\": 3.3469624123273065}, {\"iteration\": 252, \"cost\": 3.346683761363719}, {\"iteration\": 253, \"cost\": 3.3464078551535636}, {\"iteration\": 254, \"cost\": 3.346134653112895}, {\"iteration\": 255, \"cost\": 3.345864115498401}, {\"iteration\": 256, \"cost\": 3.3455962033864606}, {\"iteration\": 257, \"cost\": 3.3453308786527773}, {\"iteration\": 258, \"cost\": 3.3450681039525585}, {\"iteration\": 259, \"cost\": 3.344807842701239}, {\"iteration\": 260, \"cost\": 3.3445500590557193}, {\"iteration\": 261, \"cost\": 3.3442947178961147}, {\"iteration\": 262, \"cost\": 3.344041784807994}, {\"iteration\": 263, \"cost\": 3.3437912260650995}, {\"iteration\": 264, \"cost\": 3.3435430086125355}, {\"iteration\": 265, \"cost\": 3.343297100050392}, {\"iteration\": 266, \"cost\": 3.3430534686178364}, {\"iteration\": 267, \"cost\": 3.342812083177601}, {\"iteration\": 268, \"cost\": 3.342572913200906}, {\"iteration\": 269, \"cost\": 3.3423359287527807}, {\"iteration\": 270, \"cost\": 3.3421011004777723}, {\"iteration\": 271, \"cost\": 3.3418683995860383}, {\"iteration\": 272, \"cost\": 3.3416377978398106}, {\"iteration\": 273, \"cost\": 3.3414092675402176}, {\"iteration\": 274, \"cost\": 3.341182781514454}, {\"iteration\": 275, \"cost\": 3.3409583131032936}, {\"iteration\": 276, \"cost\": 3.3407358361489345}, {\"iteration\": 277, \"cost\": 3.3405153249831585}, {\"iteration\": 278, \"cost\": 3.340296754415807}, {\"iteration\": 279, \"cost\": 3.3400800997235645}, {\"iteration\": 280, \"cost\": 3.3398653366390247}, {\"iteration\": 281, \"cost\": 3.3396524413400606}, {\"iteration\": 282, \"cost\": 3.3394413904394566}, {\"iteration\": 283, \"cost\": 3.339232160974825}, {\"iteration\": 284, \"cost\": 3.3390247303987763}, {\"iteration\": 285, \"cost\": 3.3388190765693544}, {\"iteration\": 286, \"cost\": 3.3386151777407123}, {\"iteration\": 287, \"cost\": 3.3384130125540374}, {\"iteration\": 288, \"cost\": 3.338212560028709}, {\"iteration\": 289, \"cost\": 3.3380137995536843}, {\"iteration\": 290, \"cost\": 3.33781671087911}, {\"iteration\": 291, \"cost\": 3.337621274108148}, {\"iteration\": 292, \"cost\": 3.3374274696890116}, {\"iteration\": 293, \"cost\": 3.3372352784072103}, {\"iteration\": 294, \"cost\": 3.3370446813779893}, {\"iteration\": 295, \"cost\": 3.336855660038965}, {\"iteration\": 296, \"cost\": 3.336668196142951}, {\"iteration\": 297, \"cost\": 3.336482271750962}, {\"iteration\": 298, \"cost\": 3.3362978692253993}, {\"iteration\": 299, \"cost\": 3.3361149712234144}, {\"iteration\": 300, \"cost\": 3.3359335606904312}, {\"iteration\": 301, \"cost\": 3.335753620853842}, {\"iteration\": 302, \"cost\": 3.3355751352168546}, {\"iteration\": 303, \"cost\": 3.3353980875525044}, {\"iteration\": 304, \"cost\": 3.3352224618978092}, {\"iteration\": 305, \"cost\": 3.3350482425480723}, {\"iteration\": 306, \"cost\": 3.3348754140513344}, {\"iteration\": 307, \"cost\": 3.3347039612029583}, {\"iteration\": 308, \"cost\": 3.334533869040352}, {\"iteration\": 309, \"cost\": 3.3343651228378235}, {\"iteration\": 310, \"cost\": 3.3341977081015624}, {\"iteration\": 311, \"cost\": 3.3340316105647445}, {\"iteration\": 312, \"cost\": 3.333866816182767}, {\"iteration\": 313, \"cost\": 3.3337033111285876}, {\"iteration\": 314, \"cost\": 3.333541081788191}, {\"iteration\": 315, \"cost\": 3.3333801147561597}, {\"iteration\": 316, \"cost\": 3.3332203968313587}, {\"iteration\": 317, \"cost\": 3.3330619150127183}, {\"iteration\": 318, \"cost\": 3.332904656495133}, {\"iteration\": 319, \"cost\": 3.332748608665448}, {\"iteration\": 320, \"cost\": 3.3325937590985477}, {\"iteration\": 321, \"cost\": 3.3324400955535447}, {\"iteration\": 322, \"cost\": 3.332287605970052}, {\"iteration\": 323, \"cost\": 3.3321362784645556}, {\"iteration\": 324, \"cost\": 3.331986101326863}, {\"iteration\": 325, \"cost\": 3.331837063016647}, {\"iteration\": 326, \"cost\": 3.3316891521600693}, {\"iteration\": 327, \"cost\": 3.3315423575464833}, {\"iteration\": 328, \"cost\": 3.33139666812522}, {\"iteration\": 329, \"cost\": 3.331252073002442}, {\"iteration\": 330, \"cost\": 3.3311085614380844}, {\"iteration\": 331, \"cost\": 3.3309661228428604}, {\"iteration\": 332, \"cost\": 3.3308247467753374}, {\"iteration\": 333, \"cost\": 3.3306844229390866}, {\"iteration\": 334, \"cost\": 3.3305451411798956}, {\"iteration\": 335, \"cost\": 3.330406891483048}, {\"iteration\": 336, \"cost\": 3.330269663970671}, {\"iteration\": 337, \"cost\": 3.330133448899137}, {\"iteration\": 338, \"cost\": 3.32999823665653}, {\"iteration\": 339, \"cost\": 3.329864017760173}, {\"iteration\": 340, \"cost\": 3.329730782854208}, {\"iteration\": 341, \"cost\": 3.329598522707237}, {\"iteration\": 342, \"cost\": 3.32946722821001}, {\"iteration\": 343, \"cost\": 3.3293368903731784}, {\"iteration\": 344, \"cost\": 3.3292075003250847}, {\"iteration\": 345, \"cost\": 3.329079049309616}, {\"iteration\": 346, \"cost\": 3.328951528684097}, {\"iteration\": 347, \"cost\": 3.328824929917238}, {\"iteration\": 348, \"cost\": 3.328699244587124}, {\"iteration\": 349, \"cost\": 3.3285744643792516}, {\"iteration\": 350, \"cost\": 3.328450581084611}, {\"iteration\": 351, \"cost\": 3.3283275865978106}, {\"iteration\": 352, \"cost\": 3.328205472915241}, {\"iteration\": 353, \"cost\": 3.3280842321332824}, {\"iteration\": 354, \"cost\": 3.3279638564465532}, {\"iteration\": 355, \"cost\": 3.3278443381461957}, {\"iteration\": 356, \"cost\": 3.327725669618197}, {\"iteration\": 357, \"cost\": 3.3276078433417533}, {\"iteration\": 358, \"cost\": 3.327490851887665}, {\"iteration\": 359, \"cost\": 3.3273746879167696}, {\"iteration\": 360, \"cost\": 3.3272593441784055}, {\"iteration\": 361, \"cost\": 3.327144813508915}, {\"iteration\": 362, \"cost\": 3.3270310888301737}, {\"iteration\": 363, \"cost\": 3.326918163148156}, {\"iteration\": 364, \"cost\": 3.3268060295515296}, {\"iteration\": 365, \"cost\": 3.326694681210282}, {\"iteration\": 366, \"cost\": 3.3265841113743706}, {\"iteration\": 367, \"cost\": 3.326474313372412}, {\"iteration\": 368, \"cost\": 3.3263652806103887}, {\"iteration\": 369, \"cost\": 3.32625700657039}, {\"iteration\": 370, \"cost\": 3.3261494848093762}, {\"iteration\": 371, \"cost\": 3.326042708957971}, {\"iteration\": 372, \"cost\": 3.325936672719278}, {\"iteration\": 373, \"cost\": 3.3258313698677213}, {\"iteration\": 374, \"cost\": 3.325726794247912}, {\"iteration\": 375, \"cost\": 3.325622939773536}, {\"iteration\": 376, \"cost\": 3.325519800426266}, {\"iteration\": 377, \"cost\": 3.3254173702547014}, {\"iteration\": 378, \"cost\": 3.3253156433733166}, {\"iteration\": 379, \"cost\": 3.3252146139614425}, {\"iteration\": 380, \"cost\": 3.325114276262269}, {\"iteration\": 381, \"cost\": 3.3250146245818555}, {\"iteration\": 382, \"cost\": 3.3249156532881785}, {\"iteration\": 383, \"cost\": 3.3248173568101844}, {\"iteration\": 384, \"cost\": 3.3247197296368673}, {\"iteration\": 385, \"cost\": 3.3246227663163683}, {\"iteration\": 386, \"cost\": 3.324526461455084}, {\"iteration\": 387, \"cost\": 3.3244308097168016}, {\"iteration\": 388, \"cost\": 3.324335805821846}, {\"iteration\": 389, \"cost\": 3.324241444546246}, {\"iteration\": 390, \"cost\": 3.324147720720914}, {\"iteration\": 391, \"cost\": 3.324054629230845}, {\"iteration\": 392, \"cost\": 3.323962165014331}, {\"iteration\": 393, \"cost\": 3.3238703230621875}, {\"iteration\": 394, \"cost\": 3.3237790984170004}, {\"iteration\": 395, \"cost\": 3.3236884861723777}, {\"iteration\": 396, \"cost\": 3.3235984814722292}, {\"iteration\": 397, \"cost\": 3.323509079510049}, {\"iteration\": 398, \"cost\": 3.3234202755282127}, {\"iteration\": 399, \"cost\": 3.3233320648172993}, {\"iteration\": 400, \"cost\": 3.3232444427154073}, {\"iteration\": 401, \"cost\": 3.323157404607496}, {\"iteration\": 402, \"cost\": 3.323070945924744}, {\"iteration\": 403, \"cost\": 3.3229850621439003}, {\"iteration\": 404, \"cost\": 3.322899748786672}, {\"iteration\": 405, \"cost\": 3.3228150014190994}, {\"iteration\": 406, \"cost\": 3.3227308156509596}, {\"iteration\": 407, \"cost\": 3.322647187135179}, {\"iteration\": 408, \"cost\": 3.3225641115672433}, {\"iteration\": 409, \"cost\": 3.322481584684638}, {\"iteration\": 410, \"cost\": 3.3223996022662794}, {\"iteration\": 411, \"cost\": 3.322318160131975}, {\"iteration\": 412, \"cost\": 3.322237254141877}, {\"iteration\": 413, \"cost\": 3.3221568801959553}, {\"iteration\": 414, \"cost\": 3.322077034233476}, {\"iteration\": 415, \"cost\": 3.3219977122324886}, {\"iteration\": 416, \"cost\": 3.321918910209331}, {\"iteration\": 417, \"cost\": 3.3218406242181264}, {\"iteration\": 418, \"cost\": 3.3217628503503063}, {\"iteration\": 419, \"cost\": 3.3216855847341296}, {\"iteration\": 420, \"cost\": 3.3216088235342176}, {\"iteration\": 421, \"cost\": 3.321532562951093}, {\"iteration\": 422, \"cost\": 3.321456799220725}, {\"iteration\": 423, \"cost\": 3.321381528614093}, {\"iteration\": 424, \"cost\": 3.3213067474367386}, {\"iteration\": 425, \"cost\": 3.321232452028347}, {\"iteration\": 426, \"cost\": 3.321158638762319}, {\"iteration\": 427, \"cost\": 3.321085304045356}, {\"iteration\": 428, \"cost\": 3.3210124443170583}, {\"iteration\": 429, \"cost\": 3.3209400560495115}, {\"iteration\": 430, \"cost\": 3.3208681357469074}, {\"iteration\": 431, \"cost\": 3.320796679945142}, {\"iteration\": 432, \"cost\": 3.320725685211445}, {\"iteration\": 433, \"cost\": 3.320655148143997}, {\"iteration\": 434, \"cost\": 3.3205850653715636}, {\"iteration\": 435, \"cost\": 3.32051543355313}, {\"iteration\": 436, \"cost\": 3.3204462493775475}, {\"iteration\": 437, \"cost\": 3.3203775095631776}, {\"iteration\": 438, \"cost\": 3.320309210857546}, {\"iteration\": 439, \"cost\": 3.3202413500370103}, {\"iteration\": 440, \"cost\": 3.320173923906412}, {\"iteration\": 441, \"cost\": 3.3201069292987535}, {\"iteration\": 442, \"cost\": 3.3200403630748787}, {\"iteration\": 443, \"cost\": 3.3199742221231423}, {\"iteration\": 444, \"cost\": 3.319908503359103}, {\"iteration\": 445, \"cost\": 3.3198432037252137}, {\"iteration\": 446, \"cost\": 3.319778320190511}, {\"iteration\": 447, \"cost\": 3.319713849750321}, {\"iteration\": 448, \"cost\": 3.3196497894259602}, {\"iteration\": 449, \"cost\": 3.3195861362644483}, {\"iteration\": 450, \"cost\": 3.3195228873382163}, {\"iteration\": 451, \"cost\": 3.3194600397448264}, {\"iteration\": 452, \"cost\": 3.3193975906066964}, {\"iteration\": 453, \"cost\": 3.3193355370708213}, {\"iteration\": 454, \"cost\": 3.3192738763085075}, {\"iteration\": 455, \"cost\": 3.319212605515104}, {\"iteration\": 456, \"cost\": 3.319151721909742}, {\"iteration\": 457, \"cost\": 3.3190912227350777}, {\"iteration\": 458, \"cost\": 3.319031105257033}, {\"iteration\": 459, \"cost\": 3.3189713667645537}, {\"iteration\": 460, \"cost\": 3.318912004569354}, {\"iteration\": 461, \"cost\": 3.318853016005677}, {\"iteration\": 462, \"cost\": 3.3187943984300556}, {\"iteration\": 463, \"cost\": 3.318736149221074}, {\"iteration\": 464, \"cost\": 3.318678265779135}, {\"iteration\": 465, \"cost\": 3.318620745526232}, {\"iteration\": 466, \"cost\": 3.3185635859057196}, {\"iteration\": 467, \"cost\": 3.3185067843820923}, {\"iteration\": 468, \"cost\": 3.318450338440763}, {\"iteration\": 469, \"cost\": 3.3183942455878492}, {\"iteration\": 470, \"cost\": 3.318338503349951}, {\"iteration\": 471, \"cost\": 3.318283109273951}, {\"iteration\": 472, \"cost\": 3.3182280609267956}, {\"iteration\": 473, \"cost\": 3.3181733558952953}, {\"iteration\": 474, \"cost\": 3.3181189917859215}, {\"iteration\": 475, \"cost\": 3.318064966224606}, {\"iteration\": 476, \"cost\": 3.3180112768565393}, {\"iteration\": 477, \"cost\": 3.3179579213459887}, {\"iteration\": 478, \"cost\": 3.31790489737609}, {\"iteration\": 479, \"cost\": 3.317852202648671}, {\"iteration\": 480, \"cost\": 3.317799834884059}, {\"iteration\": 481, \"cost\": 3.317747791820895}, {\"iteration\": 482, \"cost\": 3.3176960712159564}, {\"iteration\": 483, \"cost\": 3.3176446708439737}, {\"iteration\": 484, \"cost\": 3.3175935884974552}, {\"iteration\": 485, \"cost\": 3.3175428219865113}, {\"iteration\": 486, \"cost\": 3.317492369138682}, {\"iteration\": 487, \"cost\": 3.3174422277987663}, {\"iteration\": 488, \"cost\": 3.3173923958286533}, {\"iteration\": 489, \"cost\": 3.3173428711071584}, {\"iteration\": 490, \"cost\": 3.317293651529857}, {\"iteration\": 491, \"cost\": 3.3172447350089236}, {\"iteration\": 492, \"cost\": 3.317196119472971}, {\"iteration\": 493, \"cost\": 3.3171478028668933}, {\"iteration\": 494, \"cost\": 3.3170997831517113}, {\"iteration\": 495, \"cost\": 3.317052058304415}, {\"iteration\": 496, \"cost\": 3.3170046263178152}, {\"iteration\": 497, \"cost\": 3.316957485200392}, {\"iteration\": 498, \"cost\": 3.3169106329761453}, {\"iteration\": 499, \"cost\": 3.31686406768445}]}}, {\"mode\": \"vega-lite\"});\n",
              "</script>"
            ]
          },
          "metadata": {
            "tags": []
          },
          "execution_count": 92
        }
      ]
    },
    {
      "cell_type": "code",
      "metadata": {
        "id": "I_JlUk0vYy_9",
        "colab_type": "code",
        "colab": {
          "base_uri": "https://localhost:8080/",
          "height": 260
        },
        "outputId": "929d2b0d-c889-4e39-8d4b-22c12cdcf6ae"
      },
      "source": [
        "X1,Range,Mean = norm(X)\n",
        "Mean"
      ],
      "execution_count": 61,
      "outputs": [
        {
          "output_type": "execute_result",
          "data": {
            "text/plain": [
              "array([[3.61352356e+00],\n",
              "       [1.13636364e+01],\n",
              "       [1.11367787e+01],\n",
              "       [6.91699605e-02],\n",
              "       [5.54695059e-01],\n",
              "       [6.28463439e+00],\n",
              "       [6.85749012e+01],\n",
              "       [3.79504269e+00],\n",
              "       [9.54940711e+00],\n",
              "       [4.08237154e+02],\n",
              "       [1.84555336e+01],\n",
              "       [3.56674032e+02],\n",
              "       [1.26530632e+01],\n",
              "       [0.00000000e+00]])"
            ]
          },
          "metadata": {
            "tags": []
          },
          "execution_count": 61
        }
      ]
    },
    {
      "cell_type": "markdown",
      "metadata": {
        "id": "7MUL1WJw0Mad",
        "colab_type": "text"
      },
      "source": [
        "# Perform Multivariate regression (directly - no iteration)\n",
        "\n",
        "We previously saw that for minimum $\\phi$\n",
        "* We have the following\n",
        "* $\\frac{X^T(X\\phi - y)}{m} = 0$\n",
        "  * multiplying bost sides by $m$\n",
        "* $X^T(X\\phi - y) = 0$\n",
        "  * Multiplying by $X^T$ - _distributive property_\n",
        "* $X^T(X\\phi) -  X^Ty = 0$\n",
        "  * Rearanging\n",
        "* $(X^TX)\\phi =  X^Ty$\n",
        "----\n",
        "   * Multiply both sides by the inverse of $X^TX$\n",
        "\n",
        "* $(X^TX)^{-1} (X^TX)\\phi = (X^TX)^{-1} X^Ty$\n",
        "   * since  ${(X^TX)^{-1} (X^TX)} = I (identity)$\n",
        "* we get the following: $I \\phi = (X^TX)^{-1} X^Ty$\n",
        "----\n",
        " **Therefore we get the very simple formula for $\\phi$**\n",
        "   * *$\\phi = (X^TX)^{-1} X^Ty$*\n",
        "----\n",
        "&nbsp;\n",
        "\n",
        "Note the following rules for matrix multiply\n",
        "* $A(BC) = (AB)C$\n",
        "  * and\n",
        "* $A(B+C) = AB + BC$ - _distributive property_\n",
        "\n"
      ]
    },
    {
      "cell_type": "code",
      "metadata": {
        "id": "JhGbiV6E0J7N",
        "colab_type": "code",
        "colab": {
          "base_uri": "https://localhost:8080/",
          "height": 69
        },
        "outputId": "c5181e04-961e-4a56-950b-0d2f59cb52b2"
      },
      "source": [
        "%%time\n",
        "\n",
        "inv = np.linalg.inv # invert a matrix\n",
        "\n",
        "# See how simple the formulation can be using only linear algebra\n",
        "def solve(X,y):\n",
        "  return inv(X.T@X) @ (X.T@y)\n",
        "\n",
        "phi2 = solve(X,y)  \n",
        "print(\"cost=\", cost(X,phi2,y),\"diff = \", cost(X,phi,y)-cost(X,phi2,y)) # compare the cost of direct method and iterative method\n",
        "#[phi,phi2, cost(X,phi2,y)-cost(X,phi,y), np.abs((phi-phi2)/phi*100)]"
      ],
      "execution_count": 89,
      "outputs": [
        {
          "output_type": "stream",
          "text": [
            "cost= 3.341225742387936 diff =  0.008488686388040456\n",
            "CPU times: user 2.07 ms, sys: 2.93 ms, total: 5 ms\n",
            "Wall time: 5.49 ms\n"
          ],
          "name": "stdout"
        }
      ]
    },
    {
      "cell_type": "markdown",
      "metadata": {
        "id": "qUYLuxFZRJzo",
        "colab_type": "text"
      },
      "source": [
        "# Draw chart of actual price against prediced price\n"
      ]
    },
    {
      "cell_type": "code",
      "metadata": {
        "id": "M80q-8vKPEps",
        "colab_type": "code",
        "colab": {
          "base_uri": "https://localhost:8080/",
          "height": 368
        },
        "outputId": "c9fd6c47-7d93-4a31-b6a7-226ac0e19d9f"
      },
      "source": [
        "results = pd.DataFrame({\"predicted\": (X@phi2).reshape(-1),\n",
        "                        \"actual\": y.reshape(-1)})\n",
        "\n",
        "alt.Chart(results).mark_point().encode(\n",
        "    x='actual', y=\"predicted\",\n",
        "    tooltip=['actual', 'predicted']\n",
        ").interactive()"
      ],
      "execution_count": 91,
      "outputs": [
        {
          "output_type": "execute_result",
          "data": {
            "text/plain": [
              "alt.Chart(...)"
            ],
            "text/html": [
              "\n",
              "<div id=\"altair-viz-181561d90c5b4c3bbfb06b3883b3c6b3\"></div>\n",
              "<script type=\"text/javascript\">\n",
              "  (function(spec, embedOpt){\n",
              "    let outputDiv = document.currentScript.previousElementSibling;\n",
              "    if (outputDiv.id !== \"altair-viz-181561d90c5b4c3bbfb06b3883b3c6b3\") {\n",
              "      outputDiv = document.getElementById(\"altair-viz-181561d90c5b4c3bbfb06b3883b3c6b3\");\n",
              "    }\n",
              "    const paths = {\n",
              "      \"vega\": \"https://cdn.jsdelivr.net/npm//vega@5?noext\",\n",
              "      \"vega-lib\": \"https://cdn.jsdelivr.net/npm//vega-lib?noext\",\n",
              "      \"vega-lite\": \"https://cdn.jsdelivr.net/npm//vega-lite@4.8.1?noext\",\n",
              "      \"vega-embed\": \"https://cdn.jsdelivr.net/npm//vega-embed@6?noext\",\n",
              "    };\n",
              "\n",
              "    function loadScript(lib) {\n",
              "      return new Promise(function(resolve, reject) {\n",
              "        var s = document.createElement('script');\n",
              "        s.src = paths[lib];\n",
              "        s.async = true;\n",
              "        s.onload = () => resolve(paths[lib]);\n",
              "        s.onerror = () => reject(`Error loading script: ${paths[lib]}`);\n",
              "        document.getElementsByTagName(\"head\")[0].appendChild(s);\n",
              "      });\n",
              "    }\n",
              "\n",
              "    function showError(err) {\n",
              "      outputDiv.innerHTML = `<div class=\"error\" style=\"color:red;\">${err}</div>`;\n",
              "      throw err;\n",
              "    }\n",
              "\n",
              "    function displayChart(vegaEmbed) {\n",
              "      vegaEmbed(outputDiv, spec, embedOpt)\n",
              "        .catch(err => showError(`Javascript Error: ${err.message}<br>This usually means there's a typo in your chart specification. See the javascript console for the full traceback.`));\n",
              "    }\n",
              "\n",
              "    if(typeof define === \"function\" && define.amd) {\n",
              "      requirejs.config({paths});\n",
              "      require([\"vega-embed\"], displayChart, err => showError(`Error loading script: ${err.message}`));\n",
              "    } else if (typeof vegaEmbed === \"function\") {\n",
              "      displayChart(vegaEmbed);\n",
              "    } else {\n",
              "      loadScript(\"vega\")\n",
              "        .then(() => loadScript(\"vega-lite\"))\n",
              "        .then(() => loadScript(\"vega-embed\"))\n",
              "        .catch(showError)\n",
              "        .then(() => displayChart(vegaEmbed));\n",
              "    }\n",
              "  })({\"config\": {\"view\": {\"continuousWidth\": 400, \"continuousHeight\": 300}}, \"data\": {\"name\": \"data-69ec766fbbb7e4f92ace2f42b4df38a6\"}, \"mark\": \"point\", \"encoding\": {\"tooltip\": [{\"type\": \"quantitative\", \"field\": \"actual\"}, {\"type\": \"quantitative\", \"field\": \"predicted\"}], \"x\": {\"type\": \"quantitative\", \"field\": \"actual\"}, \"y\": {\"type\": \"quantitative\", \"field\": \"predicted\"}}, \"selection\": {\"selector017\": {\"type\": \"interval\", \"bind\": \"scales\", \"encodings\": [\"x\", \"y\"]}}, \"$schema\": \"https://vega.github.io/schema/vega-lite/v4.8.1.json\", \"datasets\": {\"data-69ec766fbbb7e4f92ace2f42b4df38a6\": [{\"predicted\": 30.212372064778833, \"actual\": 24.0}, {\"predicted\": 25.267233800067228, \"actual\": 21.6}, {\"predicted\": 30.84935858502716, \"actual\": 34.7}, {\"predicted\": 28.76476322474847, \"actual\": 33.4}, {\"predicted\": 28.103196481066245, \"actual\": 36.2}, {\"predicted\": 25.39637357453318, \"actual\": 28.7}, {\"predicted\": 23.277271587072164, \"actual\": 22.9}, {\"predicted\": 19.81293472709237, \"actual\": 27.1}, {\"predicted\": 11.679391072609313, \"actual\": 16.5}, {\"predicted\": 19.177515734961943, \"actual\": 18.9}, {\"predicted\": 19.2626075687009, \"actual\": 15.0}, {\"predicted\": 21.882209338862516, \"actual\": 18.9}, {\"predicted\": 21.087286880302962, \"actual\": 21.7}, {\"predicted\": 19.6259383623596, \"actual\": 20.4}, {\"predicted\": 19.386281070131382, \"actual\": 18.2}, {\"predicted\": 19.354298497698007, \"actual\": 19.9}, {\"predicted\": 20.54334701710186, \"actual\": 23.1}, {\"predicted\": 16.966730107801723, \"actual\": 17.5}, {\"predicted\": 16.107742902774874, \"actual\": 20.2}, {\"predicted\": 18.463756229200897, \"actual\": 18.2}, {\"predicted\": 12.534477635161345, \"actual\": 13.6}, {\"predicted\": 17.753476451194867, \"actual\": 19.6}, {\"predicted\": 15.882052985371416, \"actual\": 15.2}, {\"predicted\": 13.847624462130568, \"actual\": 14.5}, {\"predicted\": 15.743641972583433, \"actual\": 15.6}, {\"predicted\": 13.37917045226429, \"actual\": 13.9}, {\"predicted\": 15.52096051341573, \"actual\": 16.6}, {\"predicted\": 14.719099135444083, \"actual\": 14.8}, {\"predicted\": 19.665995902813584, \"actual\": 18.4}, {\"predicted\": 20.992806163529536, \"actual\": 21.0}, {\"predicted\": 11.437635468077914, \"actual\": 12.7}, {\"predicted\": 18.165070142804815, \"actual\": 14.5}, {\"predicted\": 8.676104957944823, \"actual\": 13.2}, {\"predicted\": 14.31028074971099, \"actual\": 13.1}, {\"predicted\": 13.68603058606389, \"actual\": 13.5}, {\"predicted\": 23.975361445498002, \"actual\": 18.9}, {\"predicted\": 22.459787603331733, \"actual\": 20.0}, {\"predicted\": 23.213264859620622, \"actual\": 21.0}, {\"predicted\": 22.986549210763034, \"actual\": 24.7}, {\"predicted\": 31.46601829749914, \"actual\": 30.8}, {\"predicted\": 34.35033380286477, \"actual\": 34.9}, {\"predicted\": 28.164709764893534, \"actual\": 26.6}, {\"predicted\": 25.321267969638264, \"actual\": 25.3}, {\"predicted\": 24.718045350802768, \"actual\": 24.7}, {\"predicted\": 23.092218448114256, \"actual\": 21.2}, {\"predicted\": 22.221594376423365, \"actual\": 19.3}, {\"predicted\": 20.51415603381462, \"actual\": 20.0}, {\"predicted\": 18.19511697991378, \"actual\": 16.6}, {\"predicted\": 9.146987203249349, \"actual\": 14.4}, {\"predicted\": 17.320472904184044, \"actual\": 19.4}, {\"predicted\": 21.429979626212795, \"actual\": 19.7}, {\"predicted\": 24.200370066643508, \"actual\": 20.5}, {\"predicted\": 27.852664542405574, \"actual\": 25.0}, {\"predicted\": 24.196029723948723, \"actual\": 23.4}, {\"predicted\": 14.976926018455494, \"actual\": 18.9}, {\"predicted\": 31.3131763614801, \"actual\": 35.4}, {\"predicted\": 24.820267841284828, \"actual\": 24.7}, {\"predicted\": 33.37730275421518, \"actual\": 31.6}, {\"predicted\": 21.86442940458158, \"actual\": 23.3}, {\"predicted\": 21.192187077375905, \"actual\": 19.6}, {\"predicted\": 17.971192725944146, \"actual\": 18.7}, {\"predicted\": 18.660176749113003, \"actual\": 16.0}, {\"predicted\": 24.179746960263873, \"actual\": 22.2}, {\"predicted\": 22.673710745719912, \"actual\": 25.0}, {\"predicted\": 23.475077339069617, \"actual\": 33.0}, {\"predicted\": 30.419450652247953, \"actual\": 23.5}, {\"predicted\": 25.543519891146055, \"actual\": 19.4}, {\"predicted\": 21.02731649207933, \"actual\": 22.0}, {\"predicted\": 17.30913652753246, \"actual\": 17.4}, {\"predicted\": 20.71676406945239, \"actual\": 20.9}, {\"predicted\": 25.25840058578956, \"actual\": 24.2}, {\"predicted\": 21.77086048257305, \"actual\": 21.7}, {\"predicted\": 24.616918369992717, \"actual\": 22.8}, {\"predicted\": 24.080968755744184, \"actual\": 23.4}, {\"predicted\": 25.52793847944939, \"actual\": 24.1}, {\"predicted\": 24.044097640307267, \"actual\": 21.4}, {\"predicted\": 23.05582892233417, \"actual\": 20.0}, {\"predicted\": 23.42309218830017, \"actual\": 20.8}, {\"predicted\": 21.319739468465052, \"actual\": 21.2}, {\"predicted\": 22.47510191927405, \"actual\": 20.3}, {\"predicted\": 28.494986013428417, \"actual\": 28.0}, {\"predicted\": 27.13816282027352, \"actual\": 23.9}, {\"predicted\": 26.091576414902505, \"actual\": 24.8}, {\"predicted\": 25.129280692962574, \"actual\": 22.9}, {\"predicted\": 24.886972817819924, \"actual\": 23.9}, {\"predicted\": 27.95001355697582, \"actual\": 26.6}, {\"predicted\": 22.222283358029724, \"actual\": 22.5}, {\"predicted\": 26.023038473056225, \"actual\": 22.2}, {\"predicted\": 30.900695331131814, \"actual\": 23.6}, {\"predicted\": 31.009432969136846, \"actual\": 28.7}, {\"predicted\": 27.24901837862872, \"actual\": 22.6}, {\"predicted\": 27.564855595950398, \"actual\": 22.0}, {\"predicted\": 29.31449302405489, \"actual\": 22.9}, {\"predicted\": 29.41223921936703, \"actual\": 25.0}, {\"predicted\": 27.433234056161236, \"actual\": 20.6}, {\"predicted\": 28.702932545454477, \"actual\": 28.4}, {\"predicted\": 24.78219455847495, \"actual\": 21.4}, {\"predicted\": 35.996325680468686, \"actual\": 38.7}, {\"predicted\": 35.242148455511995, \"actual\": 43.8}, {\"predicted\": 32.392651058091396, \"actual\": 33.2}, {\"predicted\": 24.650039362080932, \"actual\": 27.5}, {\"predicted\": 25.664369852711175, \"actual\": 26.5}, {\"predicted\": 19.7079851835116, \"actual\": 18.6}, {\"predicted\": 20.33559377052763, \"actual\": 19.3}, {\"predicted\": 21.47832292310612, \"actual\": 20.1}, {\"predicted\": 18.549400193867548, \"actual\": 19.5}, {\"predicted\": 17.165264420653145, \"actual\": 19.5}, {\"predicted\": 20.7666029659923, \"actual\": 20.4}, {\"predicted\": 22.72071290215137, \"actual\": 19.8}, {\"predicted\": 19.787816319151958, \"actual\": 19.4}, {\"predicted\": 20.610544221678495, \"actual\": 21.7}, {\"predicted\": 26.705311673535448, \"actual\": 22.8}, {\"predicted\": 20.889655360742232, \"actual\": 18.8}, {\"predicted\": 20.834554592663153, \"actual\": 18.7}, {\"predicted\": 25.336488654928658, \"actual\": 18.5}, {\"predicted\": 20.51885595536124, \"actual\": 18.3}, {\"predicted\": 23.49643165576147, \"actual\": 21.2}, {\"predicted\": 23.84105093272759, \"actual\": 19.2}, {\"predicted\": 20.391561022079387, \"actual\": 20.4}, {\"predicted\": 20.86176380089726, \"actual\": 19.3}, {\"predicted\": 22.529070314422743, \"actual\": 22.0}, {\"predicted\": 23.115973296271008, \"actual\": 20.3}, {\"predicted\": 21.185693157291045, \"actual\": 20.5}, {\"predicted\": 16.926690171123084, \"actual\": 17.3}, {\"predicted\": 21.196646242494133, \"actual\": 18.8}, {\"predicted\": 23.13453175831728, \"actual\": 21.4}, {\"predicted\": 15.142832470034488, \"actual\": 15.7}, {\"predicted\": 15.371033002172286, \"actual\": 16.2}, {\"predicted\": 19.185190749737444, \"actual\": 18.0}, {\"predicted\": 14.229185411083428, \"actual\": 14.3}, {\"predicted\": 20.305433425705424, \"actual\": 19.2}, {\"predicted\": 19.67054712775686, \"actual\": 19.6}, {\"predicted\": 20.333081751650496, \"actual\": 23.0}, {\"predicted\": 15.96611448680222, \"actual\": 18.4}, {\"predicted\": 13.390473887765822, \"actual\": 15.6}, {\"predicted\": 17.484296032485872, \"actual\": 18.1}, {\"predicted\": 16.070264263937993, \"actual\": 17.4}, {\"predicted\": 19.614045873130515, \"actual\": 17.1}, {\"predicted\": 13.980742136213948, \"actual\": 13.3}, {\"predicted\": 16.653492926281526, \"actual\": 17.8}, {\"predicted\": 13.712529619048993, \"actual\": 14.0}, {\"predicted\": 3.998708071101518, \"actual\": 14.4}, {\"predicted\": 12.36952064494125, \"actual\": 13.4}, {\"predicted\": 12.61164940420069, \"actual\": 15.6}, {\"predicted\": 9.143929940639168, \"actual\": 11.8}, {\"predicted\": 12.42508628752304, \"actual\": 13.8}, {\"predicted\": 16.293090052734204, \"actual\": 15.6}, {\"predicted\": 8.923733678521955, \"actual\": 14.6}, {\"predicted\": 10.129743624572924, \"actual\": 17.8}, {\"predicted\": 15.295149809184775, \"actual\": 15.4}, {\"predicted\": 21.43827350830183, \"actual\": 21.5}, {\"predicted\": 18.87256039742452, \"actual\": 19.6}, {\"predicted\": 17.979955141378404, \"actual\": 15.3}, {\"predicted\": 17.805340740569054, \"actual\": 19.4}, {\"predicted\": 20.244641345200254, \"actual\": 17.0}, {\"predicted\": 17.845267466725623, \"actual\": 15.6}, {\"predicted\": 14.033002321607498, \"actual\": 13.1}, {\"predicted\": 33.87182300875196, \"actual\": 41.3}, {\"predicted\": 29.59114799917789, \"actual\": 24.3}, {\"predicted\": 26.247787090149686, \"actual\": 23.3}, {\"predicted\": 30.57677646087558, \"actual\": 27.0}, {\"predicted\": 37.42450594957711, \"actual\": 50.0}, {\"predicted\": 38.551107980844534, \"actual\": 50.0}, {\"predicted\": 39.84178348699146, \"actual\": 50.0}, {\"predicted\": 25.281499468787732, \"actual\": 22.7}, {\"predicted\": 25.83273474791237, \"actual\": 25.0}, {\"predicted\": 37.85821953943586, \"actual\": 50.0}, {\"predicted\": 23.480437168541883, \"actual\": 23.8}, {\"predicted\": 26.88926015577574, \"actual\": 23.8}, {\"predicted\": 27.15156602820356, \"actual\": 22.3}, {\"predicted\": 22.989537765281113, \"actual\": 17.4}, {\"predicted\": 24.772317057622665, \"actual\": 19.1}, {\"predicted\": 23.166965140789646, \"actual\": 23.1}, {\"predicted\": 29.33967662163164, \"actual\": 23.6}, {\"predicted\": 26.727715490765537, \"actual\": 22.6}, {\"predicted\": 30.916720146160614, \"actual\": 29.4}, {\"predicted\": 25.77132810348767, \"actual\": 23.2}, {\"predicted\": 29.398161516415623, \"actual\": 24.6}, {\"predicted\": 31.71680394117004, \"actual\": 29.9}, {\"predicted\": 33.211604047727704, \"actual\": 37.2}, {\"predicted\": 35.074223554949654, \"actual\": 39.8}, {\"predicted\": 27.989552488442108, \"actual\": 36.2}, {\"predicted\": 34.25692690366749, \"actual\": 37.9}, {\"predicted\": 31.336123626554617, \"actual\": 32.5}, {\"predicted\": 22.92900767790445, \"actual\": 26.4}, {\"predicted\": 24.95905128228587, \"actual\": 29.6}, {\"predicted\": 36.19888341777453, \"actual\": 50.0}, {\"predicted\": 33.52352834008659, \"actual\": 32.0}, {\"predicted\": 32.483786598483526, \"actual\": 29.8}, {\"predicted\": 34.63140268589686, \"actual\": 34.9}, {\"predicted\": 30.8071667741114, \"actual\": 37.0}, {\"predicted\": 30.35538615990336, \"actual\": 30.5}, {\"predicted\": 33.01100698145235, \"actual\": 36.4}, {\"predicted\": 32.20830272208976, \"actual\": 31.1}, {\"predicted\": 31.664040529668547, \"actual\": 29.1}, {\"predicted\": 41.15561596601165, \"actual\": 50.0}, {\"predicted\": 36.325387230668305, \"actual\": 33.3}, {\"predicted\": 32.80389464036513, \"actual\": 30.3}, {\"predicted\": 34.88475236871002, \"actual\": 34.6}, {\"predicted\": 29.989773361306796, \"actual\": 34.9}, {\"predicted\": 30.539522097547746, \"actual\": 32.9}, {\"predicted\": 29.334359686050746, \"actual\": 24.1}, {\"predicted\": 37.171359643735855, \"actual\": 42.3}, {\"predicted\": 42.42374861142019, \"actual\": 48.5}, {\"predicted\": 43.59381009324293, \"actual\": 50.0}, {\"predicted\": 22.827039725549326, \"actual\": 22.6}, {\"predicted\": 23.89406905770298, \"actual\": 24.4}, {\"predicted\": 18.01678992689856, \"actual\": 22.5}, {\"predicted\": 20.983047216018655, \"actual\": 24.4}, {\"predicted\": 14.480421456723661, \"actual\": 20.0}, {\"predicted\": 19.930012016682213, \"actual\": 21.7}, {\"predicted\": 14.50685398694985, \"actual\": 19.3}, {\"predicted\": 20.202753618498626, \"actual\": 22.4}, {\"predicted\": 25.405913563032506, \"actual\": 28.1}, {\"predicted\": 11.016785828918465, \"actual\": 23.7}, {\"predicted\": 24.712483070620998, \"actual\": 25.0}, {\"predicted\": 24.303037481369046, \"actual\": 23.3}, {\"predicted\": 28.865846976636455, \"actual\": 28.7}, {\"predicted\": 22.6587263787345, \"actual\": 21.5}, {\"predicted\": 27.50793316941985, \"actual\": 23.0}, {\"predicted\": 30.846578596276238, \"actual\": 26.7}, {\"predicted\": 21.299829730807325, \"actual\": 21.7}, {\"predicted\": 29.76937016804431, \"actual\": 27.5}, {\"predicted\": 30.082027994868156, \"actual\": 30.1}, {\"predicted\": 38.800425251112955, \"actual\": 44.8}, {\"predicted\": 40.265495705248256, \"actual\": 50.0}, {\"predicted\": 38.03042825396675, \"actual\": 37.6}, {\"predicted\": 32.75737960770989, \"actual\": 31.6}, {\"predicted\": 35.72847990296983, \"actual\": 46.7}, {\"predicted\": 31.47105873752104, \"actual\": 31.5}, {\"predicted\": 24.717502371169893, \"actual\": 24.3}, {\"predicted\": 33.65751002171877, \"actual\": 31.7}, {\"predicted\": 38.47660665981367, \"actual\": 41.7}, {\"predicted\": 37.5682435389204, \"actual\": 48.3}, {\"predicted\": 29.31491666124466, \"actual\": 29.0}, {\"predicted\": 25.49952745895329, \"actual\": 24.0}, {\"predicted\": 27.71114284247907, \"actual\": 25.1}, {\"predicted\": 33.08287916762974, \"actual\": 31.5}, {\"predicted\": 28.564061864585078, \"actual\": 23.7}, {\"predicted\": 28.61327885744106, \"actual\": 23.3}, {\"predicted\": 27.47874041181725, \"actual\": 22.0}, {\"predicted\": 23.90950976876232, \"actual\": 20.1}, {\"predicted\": 24.266981517966723, \"actual\": 22.2}, {\"predicted\": 27.513473862581083, \"actual\": 23.7}, {\"predicted\": 16.37068110260369, \"actual\": 17.6}, {\"predicted\": 13.379536464360022, \"actual\": 18.5}, {\"predicted\": 20.02973180698318, \"actual\": 24.3}, {\"predicted\": 19.958032528867253, \"actual\": 20.5}, {\"predicted\": 21.33767370259489, \"actual\": 24.5}, {\"predicted\": 24.11060341381237, \"actual\": 26.2}, {\"predicted\": 24.230019548573246, \"actual\": 24.4}, {\"predicted\": 25.068354351966775, \"actual\": 24.8}, {\"predicted\": 24.952837191766605, \"actual\": 29.6}, {\"predicted\": 30.038154526376815, \"actual\": 42.8}, {\"predicted\": 23.96328099627527, \"actual\": 21.9}, {\"predicted\": 21.62625996233959, \"actual\": 20.9}, {\"predicted\": 37.79336315733505, \"actual\": 44.0}, {\"predicted\": 43.95775573584609, \"actual\": 50.0}, {\"predicted\": 37.08164445392491, \"actual\": 36.0}, {\"predicted\": 35.57894367569309, \"actual\": 30.1}, {\"predicted\": 35.352466186581395, \"actual\": 33.8}, {\"predicted\": 37.755194076522116, \"actual\": 43.1}, {\"predicted\": 41.628881453462654, \"actual\": 48.8}, {\"predicted\": 35.0018202564782, \"actual\": 31.0}, {\"predicted\": 36.40857398996013, \"actual\": 36.5}, {\"predicted\": 28.671446352705203, \"actual\": 22.8}, {\"predicted\": 31.711173678838385, \"actual\": 30.7}, {\"predicted\": 41.378054428869135, \"actual\": 50.0}, {\"predicted\": 39.83118585720826, \"actual\": 43.5}, {\"predicted\": 23.198724205407164, \"actual\": 20.7}, {\"predicted\": 22.43592643299663, \"actual\": 21.1}, {\"predicted\": 27.362517352741, \"actual\": 25.2}, {\"predicted\": 28.76530103741432, \"actual\": 24.4}, {\"predicted\": 33.08010418239188, \"actual\": 35.2}, {\"predicted\": 33.678675714630536, \"actual\": 32.4}, {\"predicted\": 34.08341306176563, \"actual\": 32.0}, {\"predicted\": 33.20331488407891, \"actual\": 33.2}, {\"predicted\": 32.38876588703562, \"actual\": 33.1}, {\"predicted\": 30.562922502123453, \"actual\": 29.1}, {\"predicted\": 35.66045226708928, \"actual\": 35.1}, {\"predicted\": 39.25791650751353, \"actual\": 45.4}, {\"predicted\": 34.68877881595059, \"actual\": 35.4}, {\"predicted\": 38.072625064686925, \"actual\": 46.0}, {\"predicted\": 42.337278603469045, \"actual\": 50.0}, {\"predicted\": 31.692945891072327, \"actual\": 32.2}, {\"predicted\": 27.384427794794632, \"actual\": 22.0}, {\"predicted\": 20.012719468579782, \"actual\": 20.1}, {\"predicted\": 27.20671437226718, \"actual\": 23.2}, {\"predicted\": 27.408148234355416, \"actual\": 22.3}, {\"predicted\": 27.042380592639265, \"actual\": 24.8}, {\"predicted\": 33.613885699239006, \"actual\": 28.5}, {\"predicted\": 34.59060379380257, \"actual\": 37.3}, {\"predicted\": 31.97997142688525, \"actual\": 27.9}, {\"predicted\": 26.089772826059992, \"actual\": 23.9}, {\"predicted\": 24.729854389508546, \"actual\": 21.7}, {\"predicted\": 28.795515725407093, \"actual\": 28.6}, {\"predicted\": 27.725042954702417, \"actual\": 27.1}, {\"predicted\": 19.803808412851772, \"actual\": 20.3}, {\"predicted\": 29.165145651570057, \"actual\": 22.5}, {\"predicted\": 31.97338853631164, \"actual\": 29.0}, {\"predicted\": 30.901597291970482, \"actual\": 24.8}, {\"predicted\": 29.142070729894062, \"actual\": 22.0}, {\"predicted\": 29.03363924870468, \"actual\": 26.4}, {\"predicted\": 33.007626861703926, \"actual\": 33.1}, {\"predicted\": 33.47556039767671, \"actual\": 36.1}, {\"predicted\": 31.03265141552443, \"actual\": 28.4}, {\"predicted\": 35.91532437527721, \"actual\": 33.4}, {\"predicted\": 33.024912616031585, \"actual\": 28.2}, {\"predicted\": 28.976715182359037, \"actual\": 22.8}, {\"predicted\": 23.8363880630397, \"actual\": 20.3}, {\"predicted\": 18.616673385457858, \"actual\": 16.1}, {\"predicted\": 27.121792650338698, \"actual\": 22.1}, {\"predicted\": 23.545455575049367, \"actual\": 19.4}, {\"predicted\": 25.83430462752753, \"actual\": 21.6}, {\"predicted\": 25.77551937103701, \"actual\": 23.8}, {\"predicted\": 20.754998579630836, \"actual\": 16.2}, {\"predicted\": 17.784107086724074, \"actual\": 17.8}, {\"predicted\": 18.539961625711044, \"actual\": 19.8}, {\"predicted\": 24.52562464921022, \"actual\": 23.1}, {\"predicted\": 21.504896975784387, \"actual\": 21.0}, {\"predicted\": 25.044525725199946, \"actual\": 23.8}, {\"predicted\": 25.032257852619093, \"actual\": 23.1}, {\"predicted\": 22.999153987977063, \"actual\": 20.4}, {\"predicted\": 19.578264163615138, \"actual\": 18.5}, {\"predicted\": 25.257063155174908, \"actual\": 25.0}, {\"predicted\": 24.756966020352053, \"actual\": 24.6}, {\"predicted\": 23.78547821702444, \"actual\": 23.0}, {\"predicted\": 19.405173020299223, \"actual\": 22.2}, {\"predicted\": 20.99815414894984, \"actual\": 19.3}, {\"predicted\": 24.098975272550653, \"actual\": 22.6}, {\"predicted\": 21.437134653319795, \"actual\": 19.8}, {\"predicted\": 19.95652864701924, \"actual\": 17.1}, {\"predicted\": 23.34314202183391, \"actual\": 19.4}, {\"predicted\": 22.2892712891903, \"actual\": 22.2}, {\"predicted\": 21.694235058615405, \"actual\": 20.7}, {\"predicted\": 20.734416171970125, \"actual\": 21.1}, {\"predicted\": 20.285112910575315, \"actual\": 19.5}, {\"predicted\": 19.426131909472822, \"actual\": 18.5}, {\"predicted\": 22.29567237542939, \"actual\": 20.6}, {\"predicted\": 21.381195170304387, \"actual\": 19.0}, {\"predicted\": 21.59183502137763, \"actual\": 18.7}, {\"predicted\": 30.461741284023596, \"actual\": 32.7}, {\"predicted\": 21.95436412805365, \"actual\": 16.5}, {\"predicted\": 27.79146915309614, \"actual\": 23.9}, {\"predicted\": 28.594073129494145, \"actual\": 31.2}, {\"predicted\": 16.422751976511915, \"actual\": 17.5}, {\"predicted\": 14.635263583485823, \"actual\": 17.2}, {\"predicted\": 25.26734937998294, \"actual\": 23.1}, {\"predicted\": 27.641613751968286, \"actual\": 24.5}, {\"predicted\": 21.975521784984675, \"actual\": 26.6}, {\"predicted\": 20.29106608149718, \"actual\": 22.9}, {\"predicted\": 20.364400217471193, \"actual\": 24.1}, {\"predicted\": 16.62203563070255, \"actual\": 18.6}, {\"predicted\": 25.644339445426517, \"actual\": 30.1}, {\"predicted\": 14.045069783159562, \"actual\": 18.2}, {\"predicted\": 16.341238307251928, \"actual\": 20.6}, {\"predicted\": 17.250009727841544, \"actual\": 17.8}, {\"predicted\": 20.394191410700927, \"actual\": 21.7}, {\"predicted\": 19.861046986326905, \"actual\": 22.7}, {\"predicted\": 19.539787391146795, \"actual\": 22.6}, {\"predicted\": 23.06348683596722, \"actual\": 25.0}, {\"predicted\": 19.265132208110344, \"actual\": 19.9}, {\"predicted\": 18.58946943625403, \"actual\": 20.8}, {\"predicted\": 17.854040527621866, \"actual\": 16.8}, {\"predicted\": 35.29678116735056, \"actual\": 21.9}, {\"predicted\": 14.54955297493948, \"actual\": 27.5}, {\"predicted\": 15.796541047087121, \"actual\": 21.9}, {\"predicted\": 10.902780930124315, \"actual\": 23.1}, {\"predicted\": 24.16238488378454, \"actual\": 50.0}, {\"predicted\": 30.37320191165307, \"actual\": 50.0}, {\"predicted\": 32.36244292643336, \"actual\": 50.0}, {\"predicted\": 25.272008136652268, \"actual\": 50.0}, {\"predicted\": 23.624543705186262, \"actual\": 50.0}, {\"predicted\": 6.18289462973306, \"actual\": 13.8}, {\"predicted\": 0.7355594324262924, \"actual\": 13.8}, {\"predicted\": 25.613796355887846, \"actual\": 15.0}, {\"predicted\": 17.925883131317217, \"actual\": 13.9}, {\"predicted\": 20.496661911866816, \"actual\": 13.3}, {\"predicted\": 15.980780463083093, \"actual\": 13.1}, {\"predicted\": 17.03040319222898, \"actual\": 10.2}, {\"predicted\": 14.257935743690403, \"actual\": 10.4}, {\"predicted\": 18.70015317509166, \"actual\": 10.9}, {\"predicted\": 13.633491378054558, \"actual\": 11.3}, {\"predicted\": 13.264499535146811, \"actual\": 12.3}, {\"predicted\": 3.2508220822524407, \"actual\": 8.8}, {\"predicted\": 8.146181061665082, \"actual\": 7.2}, {\"predicted\": 6.177462313339625, \"actual\": 10.5}, {\"predicted\": 5.63370504537593, \"actual\": 7.4}, {\"predicted\": 6.528374805969889, \"actual\": 10.2}, {\"predicted\": 14.434931814937293, \"actual\": 11.5}, {\"predicted\": 17.486930545273403, \"actual\": 15.1}, {\"predicted\": 17.540741620391472, \"actual\": 23.2}, {\"predicted\": 10.036717561667324, \"actual\": 9.7}, {\"predicted\": 20.515416336389297, \"actual\": 13.8}, {\"predicted\": 18.192767398660102, \"actual\": 12.7}, {\"predicted\": 20.602724126925217, \"actual\": 13.1}, {\"predicted\": 19.581351968863707, \"actual\": 12.5}, {\"predicted\": 16.585815405026167, \"actual\": 8.5}, {\"predicted\": 6.536903423948566, \"actual\": 5.0}, {\"predicted\": 10.97151104420309, \"actual\": 6.3}, {\"predicted\": 11.991593638693239, \"actual\": 5.6}, {\"predicted\": 18.05254244967356, \"actual\": 7.2}, {\"predicted\": 18.518859248701972, \"actual\": 12.1}, {\"predicted\": 13.121266821988165, \"actual\": 8.3}, {\"predicted\": 7.319816289054451, \"actual\": 8.5}, {\"predicted\": 8.121192098164304, \"actual\": 5.0}, {\"predicted\": 8.134695159915783, \"actual\": 11.9}, {\"predicted\": 20.243975137367407, \"actual\": 27.9}, {\"predicted\": 13.819816345953015, \"actual\": 17.2}, {\"predicted\": 19.98741073814237, \"actual\": 27.5}, {\"predicted\": 15.140588466444765, \"actual\": 15.0}, {\"predicted\": 17.013348624574384, \"actual\": 17.2}, {\"predicted\": 1.5377569648578415, \"actual\": 17.9}, {\"predicted\": 11.808213644960112, \"actual\": 16.3}, {\"predicted\": -4.566245339368507, \"actual\": 7.0}, {\"predicted\": 9.559458953029186, \"actual\": 7.2}, {\"predicted\": 13.402723158571035, \"actual\": 7.5}, {\"predicted\": 6.829838309418456, \"actual\": 10.4}, {\"predicted\": 5.894690675583497, \"actual\": 8.8}, {\"predicted\": 14.665569760850481, \"actual\": 8.4}, {\"predicted\": 19.883159740076835, \"actual\": 16.7}, {\"predicted\": 18.395950237746895, \"actual\": 14.2}, {\"predicted\": 18.697537443127246, \"actual\": 20.8}, {\"predicted\": 13.178648499883657, \"actual\": 13.4}, {\"predicted\": 14.614129110520125, \"actual\": 11.7}, {\"predicted\": 9.914024205214403, \"actual\": 8.3}, {\"predicted\": 16.327883650552877, \"actual\": 10.2}, {\"predicted\": 14.029195441854629, \"actual\": 10.9}, {\"predicted\": 14.332261792610382, \"actual\": 11.0}, {\"predicted\": 13.111277760854158, \"actual\": 9.5}, {\"predicted\": 18.243167088943075, \"actual\": 14.5}, {\"predicted\": 18.787429005655422, \"actual\": 14.1}, {\"predicted\": 21.658401948185173, \"actual\": 16.1}, {\"predicted\": 17.20680667964373, \"actual\": 14.3}, {\"predicted\": 16.11012984688467, \"actual\": 11.7}, {\"predicted\": 13.480599652715597, \"actual\": 13.4}, {\"predicted\": 14.628580546684947, \"actual\": 9.6}, {\"predicted\": 8.839232261242799, \"actual\": 8.7}, {\"predicted\": 4.8159394322165525, \"actual\": 8.4}, {\"predicted\": 13.282045931536413, \"actual\": 12.8}, {\"predicted\": 12.866347444774817, \"actual\": 10.5}, {\"predicted\": 17.57300175885819, \"actual\": 17.1}, {\"predicted\": 19.06928540464982, \"actual\": 18.4}, {\"predicted\": 18.35173317367652, \"actual\": 15.4}, {\"predicted\": 11.651725643479818, \"actual\": 10.8}, {\"predicted\": 12.055168300369495, \"actual\": 11.8}, {\"predicted\": 17.961163123385752, \"actual\": 14.9}, {\"predicted\": 18.424539067994246, \"actual\": 12.6}, {\"predicted\": 17.797002426234513, \"actual\": 14.1}, {\"predicted\": 17.473740366162097, \"actual\": 13.0}, {\"predicted\": 16.660357783157167, \"actual\": 13.4}, {\"predicted\": 19.714510999897655, \"actual\": 15.2}, {\"predicted\": 18.87462523731448, \"actual\": 16.1}, {\"predicted\": 22.826131415253485, \"actual\": 17.8}, {\"predicted\": 15.394694865101801, \"actual\": 14.9}, {\"predicted\": 15.960914324637756, \"actual\": 14.1}, {\"predicted\": 12.781258160736133, \"actual\": 12.7}, {\"predicted\": 12.9492186949389, \"actual\": 13.5}, {\"predicted\": 17.405923074848182, \"actual\": 14.9}, {\"predicted\": 18.797728788332286, \"actual\": 20.0}, {\"predicted\": 19.30508323207328, \"actual\": 16.4}, {\"predicted\": 20.49322428544216, \"actual\": 17.7}, {\"predicted\": 20.073243250431084, \"actual\": 19.5}, {\"predicted\": 22.788041911855203, \"actual\": 20.2}, {\"predicted\": 20.552830818868916, \"actual\": 21.4}, {\"predicted\": 18.053169428462564, \"actual\": 19.9}, {\"predicted\": 14.462110505414614, \"actual\": 19.0}, {\"predicted\": 17.122942931886456, \"actual\": 19.1}, {\"predicted\": 17.090631149439993, \"actual\": 19.1}, {\"predicted\": 18.713825888046642, \"actual\": 20.1}, {\"predicted\": 20.39648827216664, \"actual\": 19.9}, {\"predicted\": 23.236240847573683, \"actual\": 19.6}, {\"predicted\": 22.699212719032012, \"actual\": 23.2}, {\"predicted\": 25.85720405149964, \"actual\": 29.8}, {\"predicted\": 16.566623665283778, \"actual\": 13.8}, {\"predicted\": 16.253943698265914, \"actual\": 13.3}, {\"predicted\": 20.792353898107923, \"actual\": 16.7}, {\"predicted\": 11.631374332417955, \"actual\": 12.0}, {\"predicted\": 19.429680677097252, \"actual\": 14.6}, {\"predicted\": 22.09999625298149, \"actual\": 21.4}, {\"predicted\": 23.68235026243511, \"actual\": 23.0}, {\"predicted\": 27.38245944769352, \"actual\": 23.7}, {\"predicted\": 28.877475985609053, \"actual\": 25.0}, {\"predicted\": 21.23711371767178, \"actual\": 21.8}, {\"predicted\": 19.605386453584128, \"actual\": 20.6}, {\"predicted\": 22.43567943204812, \"actual\": 21.2}, {\"predicted\": 19.874061617549398, \"actual\": 19.1}, {\"predicted\": 21.51888972790243, \"actual\": 20.6}, {\"predicted\": 11.787003852467745, \"actual\": 15.2}, {\"predicted\": 8.088111867545727, \"actual\": 7.0}, {\"predicted\": 3.4491102753708276, \"actual\": 8.1}, {\"predicted\": 13.722036057805663, \"actual\": 13.6}, {\"predicted\": 15.907018278807087, \"actual\": 20.1}, {\"predicted\": 20.70673057778317, \"actual\": 21.8}, {\"predicted\": 20.662262235584485, \"actual\": 24.5}, {\"predicted\": 16.853108977131715, \"actual\": 23.1}, {\"predicted\": 14.029469313405485, \"actual\": 19.7}, {\"predicted\": 19.201762092263507, \"actual\": 18.3}, {\"predicted\": 21.405312072252144, \"actual\": 21.2}, {\"predicted\": 18.54054589590724, \"actual\": 17.5}, {\"predicted\": 20.592360710399134, \"actual\": 16.8}, {\"predicted\": 23.727598690008747, \"actual\": 22.4}, {\"predicted\": 22.576275235406396, \"actual\": 20.6}, {\"predicted\": 27.926098399864355, \"actual\": 23.9}, {\"predicted\": 26.403889756646997, \"actual\": 22.0}, {\"predicted\": 22.55882258876142, \"actual\": 11.9}]}}, {\"mode\": \"vega-lite\"});\n",
              "</script>"
            ]
          },
          "metadata": {
            "tags": []
          },
          "execution_count": 91
        }
      ]
    },
    {
      "cell_type": "code",
      "metadata": {
        "id": "DvLzFMK6bqtC",
        "colab_type": "code",
        "colab": {
          "base_uri": "https://localhost:8080/",
          "height": 403
        },
        "outputId": "16f37b0b-336d-4fc4-e0cd-c12305f2787f"
      },
      "source": [
        "R, actual, phi = setup(results)   \n",
        "\n",
        "#print(\"input\\n\", X)\n",
        "#print(\"house price (first 10)\\n\",y[0:10])\n",
        "\n",
        "phi_r = solve(R,actual)\n",
        "print(phi_r, cost(R,phi_r,actual))\n",
        "results = pd.DataFrame({\"predicted\": (R@phi_r).reshape(-1),\n",
        "                        \"actual\": actual.reshape(-1)})\n",
        "\n",
        "alt.Chart(results).mark_point().encode(\n",
        "    x='actual', y=\"predicted\",\n",
        "    tooltip=['actual', 'predicted']\n",
        ").interactive()"
      ],
      "execution_count": 55,
      "outputs": [
        {
          "output_type": "stream",
          "text": [
            "[[ 1.00617842]\n",
            " [-0.13921714]] 3.3166866717115715\n"
          ],
          "name": "stdout"
        },
        {
          "output_type": "execute_result",
          "data": {
            "text/plain": [
              "alt.Chart(...)"
            ],
            "text/html": [
              "\n",
              "<div id=\"altair-viz-4b1dee5c8ef7401bba5841b5259393d8\"></div>\n",
              "<script type=\"text/javascript\">\n",
              "  (function(spec, embedOpt){\n",
              "    let outputDiv = document.currentScript.previousElementSibling;\n",
              "    if (outputDiv.id !== \"altair-viz-4b1dee5c8ef7401bba5841b5259393d8\") {\n",
              "      outputDiv = document.getElementById(\"altair-viz-4b1dee5c8ef7401bba5841b5259393d8\");\n",
              "    }\n",
              "    const paths = {\n",
              "      \"vega\": \"https://cdn.jsdelivr.net/npm//vega@5?noext\",\n",
              "      \"vega-lib\": \"https://cdn.jsdelivr.net/npm//vega-lib?noext\",\n",
              "      \"vega-lite\": \"https://cdn.jsdelivr.net/npm//vega-lite@4.8.1?noext\",\n",
              "      \"vega-embed\": \"https://cdn.jsdelivr.net/npm//vega-embed@6?noext\",\n",
              "    };\n",
              "\n",
              "    function loadScript(lib) {\n",
              "      return new Promise(function(resolve, reject) {\n",
              "        var s = document.createElement('script');\n",
              "        s.src = paths[lib];\n",
              "        s.async = true;\n",
              "        s.onload = () => resolve(paths[lib]);\n",
              "        s.onerror = () => reject(`Error loading script: ${paths[lib]}`);\n",
              "        document.getElementsByTagName(\"head\")[0].appendChild(s);\n",
              "      });\n",
              "    }\n",
              "\n",
              "    function showError(err) {\n",
              "      outputDiv.innerHTML = `<div class=\"error\" style=\"color:red;\">${err}</div>`;\n",
              "      throw err;\n",
              "    }\n",
              "\n",
              "    function displayChart(vegaEmbed) {\n",
              "      vegaEmbed(outputDiv, spec, embedOpt)\n",
              "        .catch(err => showError(`Javascript Error: ${err.message}<br>This usually means there's a typo in your chart specification. See the javascript console for the full traceback.`));\n",
              "    }\n",
              "\n",
              "    if(typeof define === \"function\" && define.amd) {\n",
              "      requirejs.config({paths});\n",
              "      require([\"vega-embed\"], displayChart, err => showError(`Error loading script: ${err.message}`));\n",
              "    } else if (typeof vegaEmbed === \"function\") {\n",
              "      displayChart(vegaEmbed);\n",
              "    } else {\n",
              "      loadScript(\"vega\")\n",
              "        .then(() => loadScript(\"vega-lite\"))\n",
              "        .then(() => loadScript(\"vega-embed\"))\n",
              "        .catch(showError)\n",
              "        .then(() => displayChart(vegaEmbed));\n",
              "    }\n",
              "  })({\"config\": {\"view\": {\"continuousWidth\": 400, \"continuousHeight\": 300}}, \"data\": {\"name\": \"data-e7c661ca1d7e82a25578977b145bd37f\"}, \"mark\": \"point\", \"encoding\": {\"tooltip\": [{\"type\": \"quantitative\", \"field\": \"actual\"}, {\"type\": \"quantitative\", \"field\": \"predicted\"}], \"x\": {\"type\": \"quantitative\", \"field\": \"actual\"}, \"y\": {\"type\": \"quantitative\", \"field\": \"predicted\"}}, \"selection\": {\"selector008\": {\"type\": \"interval\", \"bind\": \"scales\", \"encodings\": [\"x\", \"y\"]}}, \"$schema\": \"https://vega.github.io/schema/vega-lite/v4.8.1.json\", \"datasets\": {\"data-e7c661ca1d7e82a25578977b145bd37f\": [{\"predicted\": 30.34270710006284, \"actual\": 24.0}, {\"predicted\": 25.213323662546973, \"actual\": 21.6}, {\"predicted\": 30.886053691804946, \"actual\": 34.7}, {\"predicted\": 29.072157553681915, \"actual\": 33.4}, {\"predicted\": 28.39597330646002, \"actual\": 36.2}, {\"predicted\": 25.649416469316815, \"actual\": 28.7}, {\"predicted\": 23.17594375000891, \"actual\": 22.9}, {\"predicted\": 19.72801025841641, \"actual\": 27.1}, {\"predicted\": 11.501776990972871, \"actual\": 16.5}, {\"predicted\": 19.23069123209824, \"actual\": 18.9}, {\"predicted\": 19.257976880588448, \"actual\": 15.0}, {\"predicted\": 21.896480818374734, \"actual\": 18.9}, {\"predicted\": 20.94282061985022, \"actual\": 21.7}, {\"predicted\": 19.85534717948355, \"actual\": 20.4}, {\"predicted\": 19.549709998171362, \"actual\": 18.2}, {\"predicted\": 19.537800472001894, \"actual\": 19.9}, {\"predicted\": 20.77727977926817, \"actual\": 23.1}, {\"predicted\": 17.05504516327301, \"actual\": 17.5}, {\"predicted\": 16.125619447419535, \"actual\": 20.2}, {\"predicted\": 18.48076798411224, \"actual\": 18.2}, {\"predicted\": 12.470529981299775, \"actual\": 13.6}, {\"predicted\": 17.799625058879993, \"actual\": 19.6}, {\"predicted\": 15.903594136619546, \"actual\": 15.2}, {\"predicted\": 13.851620108277103, \"actual\": 14.5}, {\"predicted\": 15.835313617619299, \"actual\": 15.6}, {\"predicted\": 13.471095775943464, \"actual\": 13.9}, {\"predicted\": 15.672653135491068, \"actual\": 16.6}, {\"predicted\": 14.830883798183647, \"actual\": 14.8}, {\"predicted\": 19.8284373464828, \"actual\": 18.4}, {\"predicted\": 21.142308195891673, \"actual\": 21.0}, {\"predicted\": 11.448775519510317, \"actual\": 12.7}, {\"predicted\": 18.27091140852639, \"actual\": 14.5}, {\"predicted\": 8.626480463280776, \"actual\": 13.2}, {\"predicted\": 14.271096964792275, \"actual\": 13.1}, {\"predicted\": 13.664428451759289, \"actual\": 13.5}, {\"predicted\": 23.657766479074006, \"actual\": 18.9}, {\"predicted\": 22.130678260447493, \"actual\": 20.0}, {\"predicted\": 23.02207040513797, \"actual\": 21.0}, {\"predicted\": 22.781864391434528, \"actual\": 24.7}, {\"predicted\": 30.959211112177197, \"actual\": 30.8}, {\"predicted\": 33.88842526625966, \"actual\": 34.9}, {\"predicted\": 28.210794456217297, \"actual\": 26.6}, {\"predicted\": 25.326934651070424, \"actual\": 25.3}, {\"predicted\": 24.71276003649503, \"actual\": 24.7}, {\"predicted\": 23.045850152578442, \"actual\": 21.2}, {\"predicted\": 22.034245882530833, \"actual\": 19.3}, {\"predicted\": 20.299795936106488, \"actual\": 20.0}, {\"predicted\": 18.0471332200879, \"actual\": 16.6}, {\"predicted\": 8.89628984542469, \"actual\": 14.4}, {\"predicted\": 17.258876319955565, \"actual\": 19.4}, {\"predicted\": 21.309041121647113, \"actual\": 19.7}, {\"predicted\": 24.112042285025694, \"actual\": 20.5}, {\"predicted\": 27.838426445729965, \"actual\": 25.0}, {\"predicted\": 24.128222442590403, \"actual\": 23.4}, {\"predicted\": 15.469490565925632, \"actual\": 18.9}, {\"predicted\": 31.101800474840577, \"actual\": 35.4}, {\"predicted\": 25.201032018459866, \"actual\": 24.7}, {\"predicted\": 32.975649909191866, \"actual\": 31.6}, {\"predicted\": 21.997373721122383, \"actual\": 23.3}, {\"predicted\": 21.11340113058134, \"actual\": 19.6}, {\"predicted\": 17.89990802889449, \"actual\": 18.7}, {\"predicted\": 18.50045002137152, \"actual\": 16.0}, {\"predicted\": 24.197612297377283, \"actual\": 22.2}, {\"predicted\": 22.84115927589862, \"actual\": 25.0}, {\"predicted\": 24.111265777864457, \"actual\": 33.0}, {\"predicted\": 30.121616375871177, \"actual\": 23.5}, {\"predicted\": 25.167052278566544, \"actual\": 19.4}, {\"predicted\": 21.31953134021737, \"actual\": 22.0}, {\"predicted\": 17.540929359618307, \"actual\": 17.4}, {\"predicted\": 21.001371459094752, \"actual\": 20.9}, {\"predicted\": 25.191057639005653, \"actual\": 24.2}, {\"predicted\": 21.651364361995068, \"actual\": 21.7}, {\"predicted\": 24.540982998792064, \"actual\": 22.8}, {\"predicted\": 24.00236963186816, \"actual\": 23.4}, {\"predicted\": 25.44570221278858, \"actual\": 24.1}, {\"predicted\": 23.97677422439648, \"actual\": 21.4}, {\"predicted\": 22.863171414578222, \"actual\": 20.0}, {\"predicted\": 23.256612363070886, \"actual\": 20.8}, {\"predicted\": 21.31431604455612, \"actual\": 21.2}, {\"predicted\": 22.38804338472503, \"actual\": 20.3}, {\"predicted\": 28.399751967991318, \"actual\": 28.0}, {\"predicted\": 27.005266818602877, \"actual\": 23.9}, {\"predicted\": 25.96254808392982, \"actual\": 24.8}, {\"predicted\": 24.980340457678196, \"actual\": 22.9}, {\"predicted\": 24.83010886760458, \"actual\": 23.9}, {\"predicted\": 27.862625891461803, \"actual\": 26.6}, {\"predicted\": 22.051863737520705, \"actual\": 22.5}, {\"predicted\": 25.759986935553265, \"actual\": 22.2}, {\"predicted\": 30.875120786301387, \"actual\": 23.6}, {\"predicted\": 30.994367481186064, \"actual\": 28.7}, {\"predicted\": 27.109520179543477, \"actual\": 22.6}, {\"predicted\": 27.42617436783028, \"actual\": 22.0}, {\"predicted\": 28.453453588165676, \"actual\": 22.9}, {\"predicted\": 28.565770019399412, \"actual\": 25.0}, {\"predicted\": 26.52159946631797, \"actual\": 20.6}, {\"predicted\": 28.63064502873784, \"actual\": 28.4}, {\"predicted\": 24.64051378438885, \"actual\": 21.4}, {\"predicted\": 36.011370116842116, \"actual\": 38.7}, {\"predicted\": 35.26495307372479, \"actual\": 43.8}, {\"predicted\": 32.36071462825098, \"actual\": 33.2}, {\"predicted\": 24.635366687294365, \"actual\": 27.5}, {\"predicted\": 25.68472113888333, \"actual\": 26.5}, {\"predicted\": 19.6585814996296, \"actual\": 18.6}, {\"predicted\": 20.24343002978161, \"actual\": 19.3}, {\"predicted\": 21.336328904043445, \"actual\": 20.1}, {\"predicted\": 18.29211740991457, \"actual\": 19.5}, {\"predicted\": 16.9124151647415, \"actual\": 19.5}, {\"predicted\": 20.551738965961636, \"actual\": 20.4}, {\"predicted\": 22.593914843642136, \"actual\": 19.8}, {\"predicted\": 19.650343779962167, \"actual\": 19.4}, {\"predicted\": 20.54729406102769, \"actual\": 21.7}, {\"predicted\": 26.6200513195849, \"actual\": 22.8}, {\"predicted\": 20.64501930355697, \"actual\": 18.8}, {\"predicted\": 20.63230136447954, \"actual\": 18.7}, {\"predicted\": 25.144145189200326, \"actual\": 18.5}, {\"predicted\": 20.30452371519059, \"actual\": 18.3}, {\"predicted\": 23.382633439839573, \"actual\": 21.2}, {\"predicted\": 23.733688212037215, \"actual\": 19.2}, {\"predicted\": 20.1853069739054, \"actual\": 20.4}, {\"predicted\": 20.720895632496415, \"actual\": 19.3}, {\"predicted\": 21.331308548439896, \"actual\": 22.0}, {\"predicted\": 21.908401884637087, \"actual\": 20.3}, {\"predicted\": 19.920666334798256, \"actual\": 20.5}, {\"predicted\": 15.566083375933452, \"actual\": 17.3}, {\"predicted\": 19.913710947972703, \"actual\": 18.8}, {\"predicted\": 21.88399204456808, \"actual\": 21.4}, {\"predicted\": 13.728180839508202, \"actual\": 15.7}, {\"predicted\": 15.046696585190574, \"actual\": 16.2}, {\"predicted\": 18.920530881584302, \"actual\": 18.0}, {\"predicted\": 13.955108013710825, \"actual\": 14.3}, {\"predicted\": 20.125459223162938, \"actual\": 19.2}, {\"predicted\": 19.551331972822787, \"actual\": 19.6}, {\"predicted\": 20.212239740187115, \"actual\": 23.0}, {\"predicted\": 15.80159860670886, \"actual\": 18.4}, {\"predicted\": 13.205800568282298, \"actual\": 15.6}, {\"predicted\": 17.268739043938535, \"actual\": 18.1}, {\"predicted\": 15.799633240204585, \"actual\": 17.4}, {\"predicted\": 19.365851861183078, \"actual\": 17.1}, {\"predicted\": 13.60554564018746, \"actual\": 13.3}, {\"predicted\": 16.329869187662098, \"actual\": 17.8}, {\"predicted\": 13.322527620305612, \"actual\": 14.0}, {\"predicted\": 3.4804111977060455, \"actual\": 14.4}, {\"predicted\": 14.934606867947803, \"actual\": 13.4}, {\"predicted\": 12.424057956347943, \"actual\": 15.6}, {\"predicted\": 8.8371982587577, \"actual\": 11.8}, {\"predicted\": 12.19398617442233, \"actual\": 13.8}, {\"predicted\": 16.139935993980945, \"actual\": 15.6}, {\"predicted\": 8.622557997644119, \"actual\": 14.6}, {\"predicted\": 9.865257397419994, \"actual\": 17.8}, {\"predicted\": 15.125373628325686, \"actual\": 15.4}, {\"predicted\": 21.33055672429888, \"actual\": 21.5}, {\"predicted\": 18.722023026029547, \"actual\": 19.6}, {\"predicted\": 20.621052301422473, \"actual\": 15.3}, {\"predicted\": 17.683660332643214, \"actual\": 19.4}, {\"predicted\": 22.95379271593876, \"actual\": 17.0}, {\"predicted\": 20.6505124682275, \"actual\": 15.6}, {\"predicted\": 13.92348448549798, \"actual\": 13.1}, {\"predicted\": 33.351184423342985, \"actual\": 41.3}, {\"predicted\": 28.990060888347088, \"actual\": 24.3}, {\"predicted\": 26.235026639953478, \"actual\": 23.3}, {\"predicted\": 32.81009435853909, \"actual\": 27.0}, {\"predicted\": 36.98699763076159, \"actual\": 50.0}, {\"predicted\": 40.96201462507014, \"actual\": 50.0}, {\"predicted\": 42.283074723914154, \"actual\": 50.0}, {\"predicted\": 24.793519100544444, \"actual\": 22.7}, {\"predicted\": 25.375249985989086, \"actual\": 25.0}, {\"predicted\": 37.4614271489528, \"actual\": 50.0}, {\"predicted\": 22.97939117138931, \"actual\": 23.8}, {\"predicted\": 26.369374159861223, \"actual\": 23.8}, {\"predicted\": 26.671635076314164, \"actual\": 22.3}, {\"predicted\": 22.437510641654942, \"actual\": 17.4}, {\"predicted\": 24.277015865779045, \"actual\": 19.1}, {\"predicted\": 22.67121119337588, \"actual\": 23.1}, {\"predicted\": 28.945219141230982, \"actual\": 23.6}, {\"predicted\": 26.316349789707235, \"actual\": 22.6}, {\"predicted\": 30.675259591653127, \"actual\": 29.4}, {\"predicted\": 25.537813565990977, \"actual\": 23.2}, {\"predicted\": 29.15445559733016, \"actual\": 24.6}, {\"predicted\": 31.418492317859933, \"actual\": 29.9}, {\"predicted\": 32.790012081666916, \"actual\": 37.2}, {\"predicted\": 34.64471884803655, \"actual\": 39.8}, {\"predicted\": 27.44141256889653, \"actual\": 36.2}, {\"predicted\": 33.80831367617693, \"actual\": 37.9}, {\"predicted\": 30.876645061253686, \"actual\": 32.5}, {\"predicted\": 22.378612559312515, \"actual\": 26.4}, {\"predicted\": 24.50872486057718, \"actual\": 29.6}, {\"predicted\": 35.90004197995959, \"actual\": 50.0}, {\"predicted\": 33.1582387979662, \"actual\": 32.0}, {\"predicted\": 32.28220918813216, \"actual\": 29.8}, {\"predicted\": 34.449389565429975, \"actual\": 34.9}, {\"predicted\": 30.99302066949534, \"actual\": 37.0}, {\"predicted\": 30.528681206596367, \"actual\": 30.5}, {\"predicted\": 33.22514004815891, \"actual\": 36.4}, {\"predicted\": 32.014143501572164, \"actual\": 31.1}, {\"predicted\": 31.46124172416389, \"actual\": 29.1}, {\"predicted\": 40.571616654351146, \"actual\": 50.0}, {\"predicted\": 36.258386113546976, \"actual\": 33.3}, {\"predicted\": 32.68888794390876, \"actual\": 30.3}, {\"predicted\": 34.79373944972039, \"actual\": 34.6}, {\"predicted\": 30.206140640190068, \"actual\": 34.9}, {\"predicted\": 30.765310495889523, \"actual\": 32.9}, {\"predicted\": 29.115152435775833, \"actual\": 24.1}, {\"predicted\": 37.07313713143228, \"actual\": 42.3}, {\"predicted\": 41.41589563082879, \"actual\": 48.5}, {\"predicted\": 42.60319530597684, \"actual\": 50.0}, {\"predicted\": 22.484468953171845, \"actual\": 22.6}, {\"predicted\": 23.64318113509376, \"actual\": 24.4}, {\"predicted\": 17.670010277378346, \"actual\": 22.5}, {\"predicted\": 23.46699630810477, \"actual\": 24.4}, {\"predicted\": 16.779773007713285, \"actual\": 20.0}, {\"predicted\": 22.30377078851444, \"actual\": 21.7}, {\"predicted\": 16.763708449548307, \"actual\": 19.3}, {\"predicted\": 22.55393845519022, \"actual\": 22.4}, {\"predicted\": 25.097065963778192, \"actual\": 28.1}, {\"predicted\": 10.434368066053661, \"actual\": 23.7}, {\"predicted\": 24.39076113029901, \"actual\": 25.0}, {\"predicted\": 26.40789010207371, \"actual\": 23.3}, {\"predicted\": 28.281812128247356, \"actual\": 28.7}, {\"predicted\": 24.672850927092135, \"actual\": 21.5}, {\"predicted\": 29.699079392979634, \"actual\": 23.0}, {\"predicted\": 33.10356940179657, \"actual\": 26.7}, {\"predicted\": 23.45334466846575, \"actual\": 21.7}, {\"predicted\": 32.11553480390155, \"actual\": 27.5}, {\"predicted\": 29.624049464933357, \"actual\": 30.1}, {\"predicted\": 38.36692666764182, \"actual\": 44.8}, {\"predicted\": 39.85833421488891, \"actual\": 50.0}, {\"predicted\": 37.65497173358091, \"actual\": 37.6}, {\"predicted\": 32.313294936629035, \"actual\": 31.6}, {\"predicted\": 35.38535423190582, \"actual\": 46.7}, {\"predicted\": 31.074314149232908, \"actual\": 31.5}, {\"predicted\": 24.265433890728538, \"actual\": 24.3}, {\"predicted\": 33.327110648434676, \"actual\": 31.7}, {\"predicted\": 38.262443258622135, \"actual\": 41.7}, {\"predicted\": 37.29224050667504, \"actual\": 48.3}, {\"predicted\": 31.740391311048597, \"actual\": 29.0}, {\"predicted\": 25.05648490380494, \"actual\": 24.0}, {\"predicted\": 30.213273508458492, \"actual\": 25.1}, {\"predicted\": 32.85666067701924, \"actual\": 31.5}, {\"predicted\": 28.380420950483384, \"actual\": 23.7}, {\"predicted\": 28.417749404727264, \"actual\": 23.3}, {\"predicted\": 27.288214815014147, \"actual\": 22.0}, {\"predicted\": 23.66372149575929, \"actual\": 20.1}, {\"predicted\": 24.1853062752619, \"actual\": 22.2}, {\"predicted\": 27.50501293565124, \"actual\": 23.7}, {\"predicted\": 16.588325593248797, \"actual\": 17.6}, {\"predicted\": 13.549331868348464, \"actual\": 18.5}, {\"predicted\": 20.344979703249646, \"actual\": 24.3}, {\"predicted\": 20.246274758132905, \"actual\": 20.5}, {\"predicted\": 21.609418388392168, \"actual\": 24.5}, {\"predicted\": 24.43665623067933, \"actual\": 26.2}, {\"predicted\": 24.46647683077917, \"actual\": 24.4}, {\"predicted\": 25.326784823986273, \"actual\": 24.8}, {\"predicted\": 25.525872098958875, \"actual\": 29.6}, {\"predicted\": 30.689621542972578, \"actual\": 42.8}, {\"predicted\": 24.272787543902325, \"actual\": 21.9}, {\"predicted\": 21.906062274579163, \"actual\": 20.9}, {\"predicted\": 37.15344946547927, \"actual\": 44.0}, {\"predicted\": 43.43106173268415, \"actual\": 50.0}, {\"predicted\": 36.475788831994635, \"actual\": 36.0}, {\"predicted\": 34.97716607953749, \"actual\": 30.1}, {\"predicted\": 34.76935360283267, \"actual\": 33.8}, {\"predicted\": 37.210134658592644, \"actual\": 43.1}, {\"predicted\": 41.168113239202334, \"actual\": 48.8}, {\"predicted\": 34.41083189480647, \"actual\": 31.0}, {\"predicted\": 35.7992982749948, \"actual\": 36.5}, {\"predicted\": 27.98867330163912, \"actual\": 22.8}, {\"predicted\": 31.08719206316361, \"actual\": 30.7}, {\"predicted\": 40.78388594042858, \"actual\": 50.0}, {\"predicted\": 39.321860838591014, \"actual\": 43.5}, {\"predicted\": 25.414429875347828, \"actual\": 20.7}, {\"predicted\": 21.960980810366937, \"actual\": 21.1}, {\"predicted\": 26.967154601643237, \"actual\": 25.2}, {\"predicted\": 28.25679060196485, \"actual\": 24.4}, {\"predicted\": 35.5438646179846, \"actual\": 35.2}, {\"predicted\": 35.86156888176313, \"actual\": 32.4}, {\"predicted\": 33.501420313591375, \"actual\": 32.0}, {\"predicted\": 35.52353989386166, \"actual\": 33.2}, {\"predicted\": 34.72406941720882, \"actual\": 33.1}, {\"predicted\": 29.905412938129075, \"actual\": 29.1}, {\"predicted\": 34.99880017016733, \"actual\": 35.1}, {\"predicted\": 38.75167030710487, \"actual\": 45.4}, {\"predicted\": 34.249262665596284, \"actual\": 35.4}, {\"predicted\": 40.479594632005266, \"actual\": 46.0}, {\"predicted\": 44.445471954073184, \"actual\": 50.0}, {\"predicted\": 31.48287523569183, \"actual\": 32.2}, {\"predicted\": 27.491158542684847, \"actual\": 22.0}, {\"predicted\": 20.133929400782783, \"actual\": 20.1}, {\"predicted\": 26.92983128426711, \"actual\": 23.2}, {\"predicted\": 27.12701754463699, \"actual\": 22.3}, {\"predicted\": 26.768010167481588, \"actual\": 24.8}, {\"predicted\": 32.86328336437867, \"actual\": 28.5}, {\"predicted\": 33.85483795164276, \"actual\": 37.3}, {\"predicted\": 31.207768025490093, \"actual\": 27.9}, {\"predicted\": 25.77535243535081, \"actual\": 23.9}, {\"predicted\": 24.38359675122632, \"actual\": 21.7}, {\"predicted\": 28.6141077726527, \"actual\": 28.6}, {\"predicted\": 27.515855996215276, \"actual\": 27.1}, {\"predicted\": 19.553709881808985, \"actual\": 20.3}, {\"predicted\": 29.176490228079768, \"actual\": 22.5}, {\"predicted\": 32.02677325868545, \"actual\": 29.0}, {\"predicted\": 30.918126345676423, \"actual\": 24.8}, {\"predicted\": 28.727436580749444, \"actual\": 22.0}, {\"predicted\": 28.633029714578868, \"actual\": 26.4}, {\"predicted\": 32.66506040802543, \"actual\": 33.1}, {\"predicted\": 32.80989282739683, \"actual\": 36.1}, {\"predicted\": 30.184578198369838, \"actual\": 28.4}, {\"predicted\": 35.07234755954959, \"actual\": 33.4}, {\"predicted\": 32.15908373819868, \"actual\": 28.2}, {\"predicted\": 28.817090302299455, \"actual\": 22.8}, {\"predicted\": 23.551518487690796, \"actual\": 20.3}, {\"predicted\": 18.255164461677197, \"actual\": 16.1}, {\"predicted\": 26.81743462447183, \"actual\": 22.1}, {\"predicted\": 23.18708918954164, \"actual\": 19.4}, {\"predicted\": 25.607320744286714, \"actual\": 21.6}, {\"predicted\": 25.62019510074942, \"actual\": 23.8}, {\"predicted\": 20.601739656680117, \"actual\": 16.2}, {\"predicted\": 17.594632302379303, \"actual\": 17.8}, {\"predicted\": 18.372141220896697, \"actual\": 19.8}, {\"predicted\": 24.348070684751313, \"actual\": 23.1}, {\"predicted\": 21.390610326617814, \"actual\": 21.0}, {\"predicted\": 24.99244821211309, \"actual\": 23.8}, {\"predicted\": 24.980083435680722, \"actual\": 23.1}, {\"predicted\": 22.96627746493467, \"actual\": 20.4}, {\"predicted\": 19.480741549021573, \"actual\": 18.5}, {\"predicted\": 25.260784258977402, \"actual\": 25.0}, {\"predicted\": 24.90942350431792, \"actual\": 24.6}, {\"predicted\": 23.9211089888431, \"actual\": 23.0}, {\"predicted\": 19.463837463146987, \"actual\": 22.2}, {\"predicted\": 21.540560906171073, \"actual\": 19.3}, {\"predicted\": 24.69160145641758, \"actual\": 22.6}, {\"predicted\": 22.125179027388516, \"actual\": 19.8}, {\"predicted\": 20.08755801740931, \"actual\": 17.1}, {\"predicted\": 23.531859770071314, \"actual\": 19.4}, {\"predicted\": 22.55891551103621, \"actual\": 22.2}, {\"predicted\": 21.95380148165383, \"actual\": 20.7}, {\"predicted\": 20.87948195385896, \"actual\": 21.1}, {\"predicted\": 20.255315606798927, \"actual\": 19.5}, {\"predicted\": 19.459561304078424, \"actual\": 18.5}, {\"predicted\": 22.209561455417422, \"actual\": 20.6}, {\"predicted\": 21.278236621102216, \"actual\": 19.0}, {\"predicted\": 21.486425740999938, \"actual\": 18.7}, {\"predicted\": 30.8427348332877, \"actual\": 32.7}, {\"predicted\": 23.049614451001297, \"actual\": 16.5}, {\"predicted\": 27.79593863592707, \"actual\": 23.9}, {\"predicted\": 28.783673195987706, \"actual\": 31.2}, {\"predicted\": 17.31307255777429, \"actual\": 17.5}, {\"predicted\": 15.501297132725218, \"actual\": 17.2}, {\"predicted\": 25.45263022447761, \"actual\": 23.1}, {\"predicted\": 27.65700812699912, \"actual\": 24.5}, {\"predicted\": 22.972939939908, \"actual\": 26.6}, {\"predicted\": 21.261412770866368, \"actual\": 22.9}, {\"predicted\": 21.46465859249257, \"actual\": 24.1}, {\"predicted\": 17.673712561053037, \"actual\": 18.6}, {\"predicted\": 25.882921066969427, \"actual\": 30.1}, {\"predicted\": 14.782604553751618, \"actual\": 18.2}, {\"predicted\": 17.117625927056082, \"actual\": 20.6}, {\"predicted\": 19.896280731165124, \"actual\": 17.8}, {\"predicted\": 22.95383498834427, \"actual\": 21.7}, {\"predicted\": 22.522294424020103, \"actual\": 22.7}, {\"predicted\": 19.303004229359477, \"actual\": 22.6}, {\"predicted\": 22.89332162447164, \"actual\": 25.0}, {\"predicted\": 18.96035529721904, \"actual\": 19.9}, {\"predicted\": 18.22627825348003, \"actual\": 20.8}, {\"predicted\": 20.271816368372615, \"actual\": 16.8}, {\"predicted\": 37.809229016143334, \"actual\": 21.9}, {\"predicted\": 13.952554823778007, \"actual\": 27.5}, {\"predicted\": 15.204939864267473, \"actual\": 21.9}, {\"predicted\": 10.426087132080715, \"actual\": 23.1}, {\"predicted\": 23.439583783153015, \"actual\": 50.0}, {\"predicted\": 32.58145700421914, \"actual\": 50.0}, {\"predicted\": 34.59964633134419, \"actual\": 50.0}, {\"predicted\": 24.706194520779135, \"actual\": 50.0}, {\"predicted\": 25.891800716102072, \"actual\": 50.0}, {\"predicted\": 5.491813088587958, \"actual\": 13.8}, {\"predicted\": 0.27172668895507734, \"actual\": 13.8}, {\"predicted\": 25.609586009283927, \"actual\": 15.0}, {\"predicted\": 17.635953298705015, \"actual\": 13.9}, {\"predicted\": 20.008114151371526, \"actual\": 13.3}, {\"predicted\": 16.020367649184156, \"actual\": 13.1}, {\"predicted\": 16.84060038554378, \"actual\": 10.2}, {\"predicted\": 17.054848259489575, \"actual\": 10.4}, {\"predicted\": 18.477810304500494, \"actual\": 10.9}, {\"predicted\": 13.138110167950346, \"actual\": 11.3}, {\"predicted\": 12.70231432861062, \"actual\": 12.3}, {\"predicted\": 3.0575418167090747, \"actual\": 8.8}, {\"predicted\": 7.858342523749632, \"actual\": 7.2}, {\"predicted\": 6.194892471492302, \"actual\": 10.5}, {\"predicted\": 5.578973800054038, \"actual\": 7.4}, {\"predicted\": 6.151467028431691, \"actual\": 10.2}, {\"predicted\": 13.94200872464751, \"actual\": 11.5}, {\"predicted\": 17.033071482403276, \"actual\": 15.1}, {\"predicted\": 17.075447744327754, \"actual\": 23.2}, {\"predicted\": 9.633201395921972, \"actual\": 9.7}, {\"predicted\": 20.13228681293695, \"actual\": 13.8}, {\"predicted\": 17.973394850394897, \"actual\": 12.7}, {\"predicted\": 20.20521029639773, \"actual\": 13.1}, {\"predicted\": 19.03707255865872, \"actual\": 12.5}, {\"predicted\": 16.06652278574833, \"actual\": 8.5}, {\"predicted\": 7.1350180725897605, \"actual\": 5.0}, {\"predicted\": 10.44820704516382, \"actual\": 6.3}, {\"predicted\": 12.126270925907907, \"actual\": 5.6}, {\"predicted\": 17.816559769551304, \"actual\": 7.2}, {\"predicted\": 18.10964103017785, \"actual\": 12.1}, {\"predicted\": 13.295780306420664, \"actual\": 8.3}, {\"predicted\": 8.108487614489166, \"actual\": 8.5}, {\"predicted\": 9.989243439334986, \"actual\": 5.0}, {\"predicted\": 7.874036884573041, \"actual\": 11.9}, {\"predicted\": 19.818112174967244, \"actual\": 27.9}, {\"predicted\": 12.989629632955188, \"actual\": 17.2}, {\"predicted\": 19.56689163094777, \"actual\": 27.5}, {\"predicted\": 16.23337377163827, \"actual\": 15.0}, {\"predicted\": 16.568260394673143, \"actual\": 17.2}, {\"predicted\": 1.0753768247896418, \"actual\": 17.9}, {\"predicted\": 11.900432824660443, \"actual\": 16.3}, {\"predicted\": -3.733200527814429, \"actual\": 7.0}, {\"predicted\": 9.435762690022427, \"actual\": 7.2}, {\"predicted\": 13.030066604515492, \"actual\": 7.5}, {\"predicted\": 6.955658531021537, \"actual\": 10.4}, {\"predicted\": 8.072810562845643, \"actual\": 8.8}, {\"predicted\": 14.44506510339367, \"actual\": 8.4}, {\"predicted\": 19.67641031342807, \"actual\": 16.7}, {\"predicted\": 18.001682259882948, \"actual\": 14.2}, {\"predicted\": 18.299321285460543, \"actual\": 20.8}, {\"predicted\": 12.540379244450378, \"actual\": 13.4}, {\"predicted\": 14.020957980129007, \"actual\": 11.7}, {\"predicted\": 9.727740925613777, \"actual\": 8.3}, {\"predicted\": 15.893914003911835, \"actual\": 10.2}, {\"predicted\": 14.829452604549422, \"actual\": 10.9}, {\"predicted\": 13.850804271882064, \"actual\": 11.0}, {\"predicted\": 12.697453476169335, \"actual\": 9.5}, {\"predicted\": 17.664746957279643, \"actual\": 14.5}, {\"predicted\": 18.284251312381556, \"actual\": 14.1}, {\"predicted\": 21.08113869770895, \"actual\": 16.1}, {\"predicted\": 16.851808299934664, \"actual\": 14.3}, {\"predicted\": 16.070840162472322, \"actual\": 11.7}, {\"predicted\": 13.321342311099851, \"actual\": 13.4}, {\"predicted\": 14.615575721616645, \"actual\": 9.6}, {\"predicted\": 8.75022333762196, \"actual\": 8.7}, {\"predicted\": 4.57698313079632, \"actual\": 8.4}, {\"predicted\": 12.939643059692997, \"actual\": 12.8}, {\"predicted\": 13.06687790014913, \"actual\": 10.5}, {\"predicted\": 17.359669017707496, \"actual\": 17.1}, {\"predicted\": 18.69256863968853, \"actual\": 18.4}, {\"predicted\": 18.140090975046643, \"actual\": 15.4}, {\"predicted\": 11.468237314537726, \"actual\": 10.8}, {\"predicted\": 11.835361343489895, \"actual\": 11.8}, {\"predicted\": 17.621365580119353, \"actual\": 14.9}, {\"predicted\": 18.263290983534137, \"actual\": 12.6}, {\"predicted\": 17.547325741325682, \"actual\": 14.1}, {\"predicted\": 17.13898155101329, \"actual\": 13.0}, {\"predicted\": 16.358223954876152, \"actual\": 13.4}, {\"predicted\": 19.352817978762282, \"actual\": 15.2}, {\"predicted\": 18.48885652046009, \"actual\": 16.1}, {\"predicted\": 22.643758100730263, \"actual\": 17.8}, {\"predicted\": 15.227364896424763, \"actual\": 14.9}, {\"predicted\": 15.584909858378332, \"actual\": 14.1}, {\"predicted\": 12.393698051296091, \"actual\": 12.7}, {\"predicted\": 12.762835734169213, \"actual\": 13.5}, {\"predicted\": 17.222589694378314, \"actual\": 14.9}, {\"predicted\": 18.562791399053896, \"actual\": 20.0}, {\"predicted\": 18.982631300090336, \"actual\": 16.4}, {\"predicted\": 20.116559490213838, \"actual\": 17.7}, {\"predicted\": 19.85447174836294, \"actual\": 19.5}, {\"predicted\": 22.58678270107097, \"actual\": 20.2}, {\"predicted\": 20.31112648865488, \"actual\": 21.4}, {\"predicted\": 17.61770774552952, \"actual\": 19.9}, {\"predicted\": 13.986075113134131, \"actual\": 19.0}, {\"predicted\": 16.417391031561955, \"actual\": 19.1}, {\"predicted\": 16.935198551544318, \"actual\": 19.1}, {\"predicted\": 18.46333534059282, \"actual\": 20.1}, {\"predicted\": 19.829514988223455, \"actual\": 19.9}, {\"predicted\": 22.596032137659744, \"actual\": 19.6}, {\"predicted\": 22.10823643088815, \"actual\": 23.2}, {\"predicted\": 25.36704804578612, \"actual\": 29.8}, {\"predicted\": 15.984264360329263, \"actual\": 13.8}, {\"predicted\": 15.547996353321274, \"actual\": 13.3}, {\"predicted\": 20.170827362401255, \"actual\": 16.7}, {\"predicted\": 11.269284966145891, \"actual\": 12.0}, {\"predicted\": 18.989584047507652, \"actual\": 14.6}, {\"predicted\": 21.832371152593872, \"actual\": 21.4}, {\"predicted\": 23.20759453557734, \"actual\": 23.0}, {\"predicted\": 26.93251751584304, \"actual\": 23.7}, {\"predicted\": 28.465113119761103, \"actual\": 25.0}, {\"predicted\": 20.758328715069055, \"actual\": 21.8}, {\"predicted\": 19.125870092663423, \"actual\": 20.6}, {\"predicted\": 22.10244461983641, \"actual\": 21.2}, {\"predicted\": 19.477456882729477, \"actual\": 19.1}, {\"predicted\": 21.041830671797022, \"actual\": 20.6}, {\"predicted\": 12.065917191868929, \"actual\": 15.2}, {\"predicted\": 8.3017833706886, \"actual\": 7.0}, {\"predicted\": 3.61219189769465, \"actual\": 8.1}, {\"predicted\": 14.033048574602978, \"actual\": 13.6}, {\"predicted\": 16.311400246800257, \"actual\": 20.1}, {\"predicted\": 20.52828419654826, \"actual\": 21.8}, {\"predicted\": 20.491071211894297, \"actual\": 24.5}, {\"predicted\": 16.717126843233505, \"actual\": 23.1}, {\"predicted\": 13.834491471958607, \"actual\": 19.7}, {\"predicted\": 19.105608519131962, \"actual\": 18.3}, {\"predicted\": 21.23848829883328, \"actual\": 21.2}, {\"predicted\": 18.3241171493757, \"actual\": 17.5}, {\"predicted\": 20.42444047224519, \"actual\": 16.8}, {\"predicted\": 23.564090930805953, \"actual\": 22.4}, {\"predicted\": 22.352236885357247, \"actual\": 20.6}, {\"predicted\": 27.746907058878893, \"actual\": 23.9}, {\"predicted\": 26.253673369213637, \"actual\": 22.0}, {\"predicted\": 22.380597632797, \"actual\": 11.9}]}}, {\"mode\": \"vega-lite\"});\n",
              "</script>"
            ]
          },
          "metadata": {
            "tags": []
          },
          "execution_count": 55
        }
      ]
    },
    {
      "cell_type": "code",
      "metadata": {
        "id": "lrMFDwPUVQDC",
        "colab_type": "code",
        "colab": {}
      },
      "source": [
        "# from vega_datasets import data\n",
        "\n",
        "# source = data.cars()\n",
        "\n",
        "# alt.Chart(source).mark_circle(size=60).encode(\n",
        "#     x='Horsepower',\n",
        "#     y='Miles_per_Gallon',\n",
        "#     color='Origin',\n",
        "#     tooltip=['Name', 'Origin', 'Horsepower', 'Miles_per_Gallon']\n",
        "# ).interactive()"
      ],
      "execution_count": 107,
      "outputs": []
    },
    {
      "cell_type": "code",
      "metadata": {
        "id": "Ku4W03TjV3G_",
        "colab_type": "code",
        "colab": {}
      },
      "source": [
        "# np.random.seed(1)\n",
        "\n",
        "# source = pd.DataFrame({\n",
        "#     'x': np.arange(100),\n",
        "#     'A': np.random.randn(100).cumsum(),\n",
        "#     'B': np.random.randn(100).cumsum(),\n",
        "#     'C': np.random.randn(100).cumsum(),\n",
        "# })\n",
        "\n",
        "# base = alt.Chart(source).mark_circle(opacity=0.5).transform_fold(\n",
        "#     fold=['A', 'B', 'C'],\n",
        "#     as_=['category', 'y']\n",
        "# ).encode(\n",
        "#     alt.X('x:Q'),\n",
        "#     alt.Y('y:Q'),\n",
        "#     alt.Color('category:N')\n",
        "# )\n",
        "\n",
        "# base + base.transform_loess('x', 'y', groupby=['category']).mark_line(size=4)\n"
      ],
      "execution_count": 106,
      "outputs": []
    },
    {
      "cell_type": "code",
      "metadata": {
        "id": "nOKN8P0yWF8t",
        "colab_type": "code",
        "colab": {
          "base_uri": "https://localhost:8080/",
          "height": 69
        },
        "outputId": "fdbca882-b915-4477-ef6e-9a9dd71ca7e7"
      },
      "source": [
        "data_pd.columns"
      ],
      "execution_count": 9,
      "outputs": [
        {
          "output_type": "execute_result",
          "data": {
            "text/plain": [
              "Index(['CRIM', 'ZN', 'INDUS', 'CHAS', 'NOX', 'RM', 'AGE', 'DIS', 'RAD', 'TAX',\n",
              "       'PTRATIO', 'B', 'LSTAT', 'MEDV'],\n",
              "      dtype='object')"
            ]
          },
          "metadata": {
            "tags": []
          },
          "execution_count": 9
        }
      ]
    },
    {
      "cell_type": "code",
      "metadata": {
        "id": "Oa5lcEdsWBMZ",
        "colab_type": "code",
        "colab": {
          "base_uri": "https://localhost:8080/",
          "height": 385
        },
        "outputId": "d32e6f79-7e85-4504-fcd3-efec491ac075"
      },
      "source": [
        "\n",
        "\n",
        "from sklearn import preprocessing\n",
        "def showPlot(key=\"\"):\n",
        "  c = list(data_pd.columns);\n",
        "  c.remove(key)\n",
        "  c.remove('MEDV')\n",
        "  df = data_pd.drop(c,axis=1).sort_values(['MEDV'])\n",
        "  ln = len(df.columns)\n",
        "  cols = list(df.columns)\n",
        "  x = df.values[:,0:ln-1] #returns a numpy array\n",
        "  min_max_scaler = preprocessing.MinMaxScaler()\n",
        "  x_scaled = min_max_scaler.fit_transform(x)\n",
        "  # print(np.concatenate((x_scaled,df.values[:,ln-1].reshape(-1,1)), axis=1))\n",
        "  df = pd.DataFrame(np.concatenate((x_scaled,df.values[:,ln-1].reshape(-1,1)),axis=1))\n",
        "  # print(\"DF\",df)\n",
        "  newCols = dict(list(zip( list(range(0,ln)), cols)))\n",
        "  df= df.rename(columns=newCols)\n",
        "  # print(df)\n",
        "  cols.remove('MEDV') \n",
        "  base = alt.Chart(df).mark_circle(opacity=0.5).transform_fold(\n",
        "      fold=cols ,              #['CRIM', 'ZN', 'INDUS', 'CHAS', 'NOX', 'RM', 'AGE', 'DIS', 'RAD', 'TAX', 'PTRATIO', 'B', 'LSTAT'],\n",
        "      as_=['category', 'y']\n",
        "  ).encode(\n",
        "      alt.X('MEDV:Q'),\n",
        "      alt.Y('y:Q'),\n",
        "      alt.Color('category:N')\n",
        "  )\n",
        "  \n",
        "  return base + base.transform_loess('x', 'y', groupby=['category']).mark_line(size=4)\n",
        "  return df\n",
        "\n",
        "#####\n",
        "print(list(data_pd.columns))\n",
        "showPlot('PTRATIO')\n"
      ],
      "execution_count": 105,
      "outputs": [
        {
          "output_type": "stream",
          "text": [
            "['CRIM', 'ZN', 'INDUS', 'CHAS', 'NOX', 'RM', 'AGE', 'DIS', 'RAD', 'TAX', 'PTRATIO', 'B', 'LSTAT', 'MEDV']\n"
          ],
          "name": "stdout"
        },
        {
          "output_type": "execute_result",
          "data": {
            "text/plain": [
              "alt.LayerChart(...)"
            ],
            "text/html": [
              "\n",
              "<div id=\"altair-viz-14d4b1a0b8a9480a96641486055a02de\"></div>\n",
              "<script type=\"text/javascript\">\n",
              "  (function(spec, embedOpt){\n",
              "    let outputDiv = document.currentScript.previousElementSibling;\n",
              "    if (outputDiv.id !== \"altair-viz-14d4b1a0b8a9480a96641486055a02de\") {\n",
              "      outputDiv = document.getElementById(\"altair-viz-14d4b1a0b8a9480a96641486055a02de\");\n",
              "    }\n",
              "    const paths = {\n",
              "      \"vega\": \"https://cdn.jsdelivr.net/npm//vega@5?noext\",\n",
              "      \"vega-lib\": \"https://cdn.jsdelivr.net/npm//vega-lib?noext\",\n",
              "      \"vega-lite\": \"https://cdn.jsdelivr.net/npm//vega-lite@4.8.1?noext\",\n",
              "      \"vega-embed\": \"https://cdn.jsdelivr.net/npm//vega-embed@6?noext\",\n",
              "    };\n",
              "\n",
              "    function loadScript(lib) {\n",
              "      return new Promise(function(resolve, reject) {\n",
              "        var s = document.createElement('script');\n",
              "        s.src = paths[lib];\n",
              "        s.async = true;\n",
              "        s.onload = () => resolve(paths[lib]);\n",
              "        s.onerror = () => reject(`Error loading script: ${paths[lib]}`);\n",
              "        document.getElementsByTagName(\"head\")[0].appendChild(s);\n",
              "      });\n",
              "    }\n",
              "\n",
              "    function showError(err) {\n",
              "      outputDiv.innerHTML = `<div class=\"error\" style=\"color:red;\">${err}</div>`;\n",
              "      throw err;\n",
              "    }\n",
              "\n",
              "    function displayChart(vegaEmbed) {\n",
              "      vegaEmbed(outputDiv, spec, embedOpt)\n",
              "        .catch(err => showError(`Javascript Error: ${err.message}<br>This usually means there's a typo in your chart specification. See the javascript console for the full traceback.`));\n",
              "    }\n",
              "\n",
              "    if(typeof define === \"function\" && define.amd) {\n",
              "      requirejs.config({paths});\n",
              "      require([\"vega-embed\"], displayChart, err => showError(`Error loading script: ${err.message}`));\n",
              "    } else if (typeof vegaEmbed === \"function\") {\n",
              "      displayChart(vegaEmbed);\n",
              "    } else {\n",
              "      loadScript(\"vega\")\n",
              "        .then(() => loadScript(\"vega-lite\"))\n",
              "        .then(() => loadScript(\"vega-embed\"))\n",
              "        .catch(showError)\n",
              "        .then(() => displayChart(vegaEmbed));\n",
              "    }\n",
              "  })({\"config\": {\"view\": {\"continuousWidth\": 400, \"continuousHeight\": 300}}, \"layer\": [{\"mark\": {\"type\": \"circle\", \"opacity\": 0.5}, \"encoding\": {\"color\": {\"type\": \"nominal\", \"field\": \"category\"}, \"x\": {\"type\": \"quantitative\", \"field\": \"MEDV\"}, \"y\": {\"type\": \"quantitative\", \"field\": \"y\"}}, \"transform\": [{\"fold\": [\"PTRATIO\"], \"as\": [\"category\", \"y\"]}]}, {\"mark\": {\"type\": \"line\", \"size\": 4}, \"encoding\": {\"color\": {\"type\": \"nominal\", \"field\": \"category\"}, \"x\": {\"type\": \"quantitative\", \"field\": \"MEDV\"}, \"y\": {\"type\": \"quantitative\", \"field\": \"y\"}}, \"transform\": [{\"fold\": [\"PTRATIO\"], \"as\": [\"category\", \"y\"]}, {\"loess\": \"y\", \"on\": \"x\", \"groupby\": [\"category\"]}]}], \"data\": {\"name\": \"data-d0b81fe6880a34561022b3e22d2a1d09\"}, \"$schema\": \"https://vega.github.io/schema/vega-lite/v4.8.1.json\", \"datasets\": {\"data-d0b81fe6880a34561022b3e22d2a1d09\": [{\"PTRATIO\": 0.8085106382978724, \"MEDV\": 5.0}, {\"PTRATIO\": 0.8085106382978724, \"MEDV\": 5.0}, {\"PTRATIO\": 0.8085106382978724, \"MEDV\": 5.6}, {\"PTRATIO\": 0.8085106382978724, \"MEDV\": 6.3}, {\"PTRATIO\": 0.8085106382978724, \"MEDV\": 7.0}, {\"PTRATIO\": 0.7978723404255321, \"MEDV\": 7.0}, {\"PTRATIO\": 0.8085106382978724, \"MEDV\": 7.2}, {\"PTRATIO\": 0.8085106382978724, \"MEDV\": 7.2}, {\"PTRATIO\": 0.8085106382978724, \"MEDV\": 7.2}, {\"PTRATIO\": 0.8085106382978724, \"MEDV\": 7.4}, {\"PTRATIO\": 0.8085106382978724, \"MEDV\": 7.5}, {\"PTRATIO\": 0.7978723404255321, \"MEDV\": 8.1}, {\"PTRATIO\": 0.8085106382978724, \"MEDV\": 8.3}, {\"PTRATIO\": 0.8085106382978724, \"MEDV\": 8.3}, {\"PTRATIO\": 0.8085106382978724, \"MEDV\": 8.4}, {\"PTRATIO\": 0.8085106382978724, \"MEDV\": 8.4}, {\"PTRATIO\": 0.8085106382978724, \"MEDV\": 8.5}, {\"PTRATIO\": 0.8085106382978724, \"MEDV\": 8.5}, {\"PTRATIO\": 0.8085106382978724, \"MEDV\": 8.7}, {\"PTRATIO\": 0.8085106382978724, \"MEDV\": 8.8}, {\"PTRATIO\": 0.8085106382978724, \"MEDV\": 8.8}, {\"PTRATIO\": 0.8085106382978724, \"MEDV\": 9.5}, {\"PTRATIO\": 0.8085106382978724, \"MEDV\": 9.6}, {\"PTRATIO\": 0.8085106382978724, \"MEDV\": 9.7}, {\"PTRATIO\": 0.8085106382978724, \"MEDV\": 10.2}, {\"PTRATIO\": 0.8085106382978724, \"MEDV\": 10.2}, {\"PTRATIO\": 0.8085106382978724, \"MEDV\": 10.2}, {\"PTRATIO\": 0.8085106382978724, \"MEDV\": 10.4}, {\"PTRATIO\": 0.8085106382978724, \"MEDV\": 10.4}, {\"PTRATIO\": 0.8085106382978724, \"MEDV\": 10.5}, {\"PTRATIO\": 0.8085106382978724, \"MEDV\": 10.5}, {\"PTRATIO\": 0.8085106382978724, \"MEDV\": 10.8}, {\"PTRATIO\": 0.8085106382978724, \"MEDV\": 10.9}, {\"PTRATIO\": 0.8085106382978724, \"MEDV\": 10.9}, {\"PTRATIO\": 0.8085106382978724, \"MEDV\": 11.0}, {\"PTRATIO\": 0.8085106382978724, \"MEDV\": 11.3}, {\"PTRATIO\": 0.8085106382978724, \"MEDV\": 11.5}, {\"PTRATIO\": 0.8085106382978724, \"MEDV\": 11.7}, {\"PTRATIO\": 0.8085106382978724, \"MEDV\": 11.7}, {\"PTRATIO\": 0.8085106382978724, \"MEDV\": 11.8}, {\"PTRATIO\": 0.22340425531914887, \"MEDV\": 11.8}, {\"PTRATIO\": 0.8085106382978724, \"MEDV\": 11.9}, {\"PTRATIO\": 0.8936170212765959, \"MEDV\": 11.9}, {\"PTRATIO\": 0.8085106382978724, \"MEDV\": 12.0}, {\"PTRATIO\": 0.8085106382978724, \"MEDV\": 12.1}, {\"PTRATIO\": 0.8085106382978724, \"MEDV\": 12.3}, {\"PTRATIO\": 0.8085106382978724, \"MEDV\": 12.5}, {\"PTRATIO\": 0.8085106382978724, \"MEDV\": 12.6}, {\"PTRATIO\": 0.8936170212765959, \"MEDV\": 12.7}, {\"PTRATIO\": 0.8085106382978724, \"MEDV\": 12.7}, {\"PTRATIO\": 0.8085106382978724, \"MEDV\": 12.7}, {\"PTRATIO\": 0.8085106382978724, \"MEDV\": 12.8}, {\"PTRATIO\": 0.8085106382978724, \"MEDV\": 13.0}, {\"PTRATIO\": 0.8936170212765959, \"MEDV\": 13.1}, {\"PTRATIO\": 0.8085106382978724, \"MEDV\": 13.1}, {\"PTRATIO\": 0.22340425531914887, \"MEDV\": 13.1}, {\"PTRATIO\": 0.8085106382978724, \"MEDV\": 13.1}, {\"PTRATIO\": 0.8936170212765959, \"MEDV\": 13.2}, {\"PTRATIO\": 0.8085106382978724, \"MEDV\": 13.3}, {\"PTRATIO\": 0.9148936170212765, \"MEDV\": 13.3}, {\"PTRATIO\": 0.8085106382978724, \"MEDV\": 13.3}, {\"PTRATIO\": 0.8085106382978724, \"MEDV\": 13.4}, {\"PTRATIO\": 0.8085106382978724, \"MEDV\": 13.4}, {\"PTRATIO\": 0.22340425531914887, \"MEDV\": 13.4}, {\"PTRATIO\": 0.8085106382978724, \"MEDV\": 13.4}, {\"PTRATIO\": 0.8085106382978724, \"MEDV\": 13.5}, {\"PTRATIO\": 0.8936170212765959, \"MEDV\": 13.5}, {\"PTRATIO\": 0.8936170212765959, \"MEDV\": 13.6}, {\"PTRATIO\": 0.7978723404255321, \"MEDV\": 13.6}, {\"PTRATIO\": 0.8085106382978724, \"MEDV\": 13.8}, {\"PTRATIO\": 0.8085106382978724, \"MEDV\": 13.8}, {\"PTRATIO\": 0.22340425531914887, \"MEDV\": 13.8}, {\"PTRATIO\": 0.8085106382978724, \"MEDV\": 13.8}, {\"PTRATIO\": 0.8085106382978724, \"MEDV\": 13.8}, {\"PTRATIO\": 0.8085106382978724, \"MEDV\": 13.9}, {\"PTRATIO\": 0.8936170212765959, \"MEDV\": 13.9}, {\"PTRATIO\": 0.9148936170212765, \"MEDV\": 14.0}, {\"PTRATIO\": 0.8085106382978724, \"MEDV\": 14.1}, {\"PTRATIO\": 0.8085106382978724, \"MEDV\": 14.1}, {\"PTRATIO\": 0.8085106382978724, \"MEDV\": 14.1}, {\"PTRATIO\": 0.8085106382978724, \"MEDV\": 14.2}, {\"PTRATIO\": 0.8085106382978724, \"MEDV\": 14.3}, {\"PTRATIO\": 0.9148936170212765, \"MEDV\": 14.3}, {\"PTRATIO\": 0.5638297872340423, \"MEDV\": 14.4}, {\"PTRATIO\": 0.9148936170212765, \"MEDV\": 14.4}, {\"PTRATIO\": 0.8085106382978724, \"MEDV\": 14.5}, {\"PTRATIO\": 0.8936170212765959, \"MEDV\": 14.5}, {\"PTRATIO\": 0.8936170212765959, \"MEDV\": 14.5}, {\"PTRATIO\": 0.22340425531914887, \"MEDV\": 14.6}, {\"PTRATIO\": 0.8085106382978724, \"MEDV\": 14.6}, {\"PTRATIO\": 0.8936170212765959, \"MEDV\": 14.8}, {\"PTRATIO\": 0.8085106382978724, \"MEDV\": 14.9}, {\"PTRATIO\": 0.8085106382978724, \"MEDV\": 14.9}, {\"PTRATIO\": 0.8085106382978724, \"MEDV\": 14.9}, {\"PTRATIO\": 0.8085106382978724, \"MEDV\": 15.0}, {\"PTRATIO\": 0.8085106382978724, \"MEDV\": 15.0}, {\"PTRATIO\": 0.2765957446808509, \"MEDV\": 15.0}, {\"PTRATIO\": 0.8085106382978724, \"MEDV\": 15.1}, {\"PTRATIO\": 0.8085106382978724, \"MEDV\": 15.2}, {\"PTRATIO\": 0.7978723404255321, \"MEDV\": 15.2}, {\"PTRATIO\": 0.8936170212765959, \"MEDV\": 15.2}, {\"PTRATIO\": 0.22340425531914887, \"MEDV\": 15.3}, {\"PTRATIO\": 0.8085106382978724, \"MEDV\": 15.4}, {\"PTRATIO\": 0.22340425531914887, \"MEDV\": 15.4}, {\"PTRATIO\": 0.22340425531914887, \"MEDV\": 15.6}, {\"PTRATIO\": 0.8936170212765959, \"MEDV\": 15.6}, {\"PTRATIO\": 0.22340425531914887, \"MEDV\": 15.6}, {\"PTRATIO\": 0.9148936170212765, \"MEDV\": 15.6}, {\"PTRATIO\": 0.22340425531914887, \"MEDV\": 15.6}, {\"PTRATIO\": 0.6914893617021276, \"MEDV\": 15.7}, {\"PTRATIO\": 0.7553191489361701, \"MEDV\": 16.0}, {\"PTRATIO\": 0.6170212765957446, \"MEDV\": 16.1}, {\"PTRATIO\": 0.8085106382978724, \"MEDV\": 16.1}, {\"PTRATIO\": 0.8085106382978724, \"MEDV\": 16.1}, {\"PTRATIO\": 0.6170212765957446, \"MEDV\": 16.2}, {\"PTRATIO\": 0.9148936170212765, \"MEDV\": 16.2}, {\"PTRATIO\": 0.8085106382978724, \"MEDV\": 16.3}, {\"PTRATIO\": 0.8085106382978724, \"MEDV\": 16.4}, {\"PTRATIO\": 0.35106382978723394, \"MEDV\": 16.5}, {\"PTRATIO\": 0.2765957446808509, \"MEDV\": 16.5}, {\"PTRATIO\": 0.8936170212765959, \"MEDV\": 16.6}, {\"PTRATIO\": 0.5638297872340423, \"MEDV\": 16.6}, {\"PTRATIO\": 0.8085106382978724, \"MEDV\": 16.7}, {\"PTRATIO\": 0.8085106382978724, \"MEDV\": 16.7}, {\"PTRATIO\": 0.7021276595744679, \"MEDV\": 16.8}, {\"PTRATIO\": 0.8085106382978724, \"MEDV\": 16.8}, {\"PTRATIO\": 0.22340425531914887, \"MEDV\": 17.0}, {\"PTRATIO\": 0.8085106382978724, \"MEDV\": 17.1}, {\"PTRATIO\": 0.457446808510638, \"MEDV\": 17.1}, {\"PTRATIO\": 0.9148936170212765, \"MEDV\": 17.1}, {\"PTRATIO\": 0.8085106382978724, \"MEDV\": 17.2}, {\"PTRATIO\": 0.6595744680851063, \"MEDV\": 17.2}, {\"PTRATIO\": 0.8085106382978724, \"MEDV\": 17.2}, {\"PTRATIO\": 0.6914893617021276, \"MEDV\": 17.3}, {\"PTRATIO\": 0.6702127659574466, \"MEDV\": 17.4}, {\"PTRATIO\": 0.22340425531914887, \"MEDV\": 17.4}, {\"PTRATIO\": 0.9148936170212765, \"MEDV\": 17.4}, {\"PTRATIO\": 0.7021276595744679, \"MEDV\": 17.5}, {\"PTRATIO\": 0.6595744680851063, \"MEDV\": 17.5}, {\"PTRATIO\": 0.8936170212765959, \"MEDV\": 17.5}, {\"PTRATIO\": 0.6914893617021276, \"MEDV\": 17.6}, {\"PTRATIO\": 0.8085106382978724, \"MEDV\": 17.7}, {\"PTRATIO\": 0.22340425531914887, \"MEDV\": 17.8}, {\"PTRATIO\": 0.8085106382978724, \"MEDV\": 17.8}, {\"PTRATIO\": 0.6170212765957446, \"MEDV\": 17.8}, {\"PTRATIO\": 0.8085106382978724, \"MEDV\": 17.8}, {\"PTRATIO\": 0.9148936170212765, \"MEDV\": 17.8}, {\"PTRATIO\": 0.8085106382978724, \"MEDV\": 17.9}, {\"PTRATIO\": 0.9148936170212765, \"MEDV\": 18.0}, {\"PTRATIO\": 0.9148936170212765, \"MEDV\": 18.1}, {\"PTRATIO\": 0.8936170212765959, \"MEDV\": 18.2}, {\"PTRATIO\": 1.0, \"MEDV\": 18.2}, {\"PTRATIO\": 0.8936170212765959, \"MEDV\": 18.2}, {\"PTRATIO\": 0.7021276595744679, \"MEDV\": 18.3}, {\"PTRATIO\": 0.5531914893617023, \"MEDV\": 18.3}, {\"PTRATIO\": 0.9148936170212765, \"MEDV\": 18.4}, {\"PTRATIO\": 0.8936170212765959, \"MEDV\": 18.4}, {\"PTRATIO\": 0.8085106382978724, \"MEDV\": 18.4}, {\"PTRATIO\": 0.5531914893617023, \"MEDV\": 18.5}, {\"PTRATIO\": 0.7446808510638299, \"MEDV\": 18.5}, {\"PTRATIO\": 0.8085106382978724, \"MEDV\": 18.5}, {\"PTRATIO\": 0.6914893617021276, \"MEDV\": 18.5}, {\"PTRATIO\": 0.6063829787234043, \"MEDV\": 18.6}, {\"PTRATIO\": 0.8829787234042552, \"MEDV\": 18.6}, {\"PTRATIO\": 0.5531914893617023, \"MEDV\": 18.7}, {\"PTRATIO\": 0.8085106382978724, \"MEDV\": 18.7}, {\"PTRATIO\": 0.7553191489361701, \"MEDV\": 18.7}, {\"PTRATIO\": 0.5531914893617023, \"MEDV\": 18.8}, {\"PTRATIO\": 0.6914893617021276, \"MEDV\": 18.8}, {\"PTRATIO\": 0.2765957446808509, \"MEDV\": 18.9}, {\"PTRATIO\": 0.9042553191489362, \"MEDV\": 18.9}, {\"PTRATIO\": 0.7021276595744679, \"MEDV\": 18.9}, {\"PTRATIO\": 0.2765957446808509, \"MEDV\": 18.9}, {\"PTRATIO\": 0.8085106382978724, \"MEDV\": 19.0}, {\"PTRATIO\": 0.8085106382978724, \"MEDV\": 19.0}, {\"PTRATIO\": 0.8085106382978724, \"MEDV\": 19.1}, {\"PTRATIO\": 0.8085106382978724, \"MEDV\": 19.1}, {\"PTRATIO\": 0.22340425531914887, \"MEDV\": 19.1}, {\"PTRATIO\": 0.8085106382978724, \"MEDV\": 19.1}, {\"PTRATIO\": 0.9148936170212765, \"MEDV\": 19.2}, {\"PTRATIO\": 0.5531914893617023, \"MEDV\": 19.2}, {\"PTRATIO\": 0.457446808510638, \"MEDV\": 19.3}, {\"PTRATIO\": 0.6382978723404256, \"MEDV\": 19.3}, {\"PTRATIO\": 0.5638297872340423, \"MEDV\": 19.3}, {\"PTRATIO\": 0.8829787234042552, \"MEDV\": 19.3}, {\"PTRATIO\": 0.5531914893617023, \"MEDV\": 19.3}, {\"PTRATIO\": 0.37234042553191493, \"MEDV\": 19.4}, {\"PTRATIO\": 0.6170212765957446, \"MEDV\": 19.4}, {\"PTRATIO\": 0.22340425531914887, \"MEDV\": 19.4}, {\"PTRATIO\": 0.5638297872340423, \"MEDV\": 19.4}, {\"PTRATIO\": 0.8829787234042552, \"MEDV\": 19.4}, {\"PTRATIO\": 0.457446808510638, \"MEDV\": 19.4}, {\"PTRATIO\": 0.8829787234042552, \"MEDV\": 19.5}, {\"PTRATIO\": 0.8085106382978724, \"MEDV\": 19.5}, {\"PTRATIO\": 0.8829787234042552, \"MEDV\": 19.5}, {\"PTRATIO\": 0.8085106382978724, \"MEDV\": 19.5}, {\"PTRATIO\": 0.22340425531914887, \"MEDV\": 19.6}, {\"PTRATIO\": 0.8085106382978724, \"MEDV\": 19.6}, {\"PTRATIO\": 0.7553191489361701, \"MEDV\": 19.6}, {\"PTRATIO\": 0.9148936170212765, \"MEDV\": 19.6}, {\"PTRATIO\": 0.8936170212765959, \"MEDV\": 19.6}, {\"PTRATIO\": 0.44680851063829796, \"MEDV\": 19.7}, {\"PTRATIO\": 0.7021276595744679, \"MEDV\": 19.7}, {\"PTRATIO\": 0.457446808510638, \"MEDV\": 19.8}, {\"PTRATIO\": 0.6170212765957446, \"MEDV\": 19.8}, {\"PTRATIO\": 0.8829787234042552, \"MEDV\": 19.8}, {\"PTRATIO\": 0.8085106382978724, \"MEDV\": 19.9}, {\"PTRATIO\": 0.8085106382978724, \"MEDV\": 19.9}, {\"PTRATIO\": 0.8085106382978724, \"MEDV\": 19.9}, {\"PTRATIO\": 0.8936170212765959, \"MEDV\": 19.9}, {\"PTRATIO\": 0.6382978723404256, \"MEDV\": 20.0}, {\"PTRATIO\": 0.7021276595744679, \"MEDV\": 20.0}, {\"PTRATIO\": 0.8085106382978724, \"MEDV\": 20.0}, {\"PTRATIO\": 0.5638297872340423, \"MEDV\": 20.0}, {\"PTRATIO\": 0.6489361702127658, \"MEDV\": 20.0}, {\"PTRATIO\": 0.4255319148936172, \"MEDV\": 20.1}, {\"PTRATIO\": 0.7978723404255321, \"MEDV\": 20.1}, {\"PTRATIO\": 0.8829787234042552, \"MEDV\": 20.1}, {\"PTRATIO\": 0.8085106382978724, \"MEDV\": 20.1}, {\"PTRATIO\": 0.5957446808510638, \"MEDV\": 20.1}, {\"PTRATIO\": 0.8936170212765959, \"MEDV\": 20.2}, {\"PTRATIO\": 0.8085106382978724, \"MEDV\": 20.2}, {\"PTRATIO\": 0.6489361702127658, \"MEDV\": 20.3}, {\"PTRATIO\": 0.36170212765957444, \"MEDV\": 20.3}, {\"PTRATIO\": 0.6914893617021276, \"MEDV\": 20.3}, {\"PTRATIO\": 0.6170212765957446, \"MEDV\": 20.3}, {\"PTRATIO\": 0.8936170212765959, \"MEDV\": 20.4}, {\"PTRATIO\": 0.8829787234042552, \"MEDV\": 20.4}, {\"PTRATIO\": 0.5531914893617023, \"MEDV\": 20.4}, {\"PTRATIO\": 0.7446808510638299, \"MEDV\": 20.4}, {\"PTRATIO\": 0.6914893617021276, \"MEDV\": 20.5}, {\"PTRATIO\": 0.44680851063829796, \"MEDV\": 20.5}, {\"PTRATIO\": 0.6914893617021276, \"MEDV\": 20.5}, {\"PTRATIO\": 1.0, \"MEDV\": 20.6}, {\"PTRATIO\": 0.8085106382978724, \"MEDV\": 20.6}, {\"PTRATIO\": 0.8085106382978724, \"MEDV\": 20.6}, {\"PTRATIO\": 0.8085106382978724, \"MEDV\": 20.6}, {\"PTRATIO\": 0.8936170212765959, \"MEDV\": 20.6}, {\"PTRATIO\": 0.5957446808510638, \"MEDV\": 20.6}, {\"PTRATIO\": 0.8085106382978724, \"MEDV\": 20.7}, {\"PTRATIO\": 0.6382978723404256, \"MEDV\": 20.7}, {\"PTRATIO\": 0.8085106382978724, \"MEDV\": 20.8}, {\"PTRATIO\": 0.8085106382978724, \"MEDV\": 20.8}, {\"PTRATIO\": 0.6489361702127658, \"MEDV\": 20.8}, {\"PTRATIO\": 0.404255319148936, \"MEDV\": 20.9}, {\"PTRATIO\": 0.6702127659574466, \"MEDV\": 20.9}, {\"PTRATIO\": 0.7021276595744679, \"MEDV\": 21.0}, {\"PTRATIO\": 0.6170212765957446, \"MEDV\": 21.0}, {\"PTRATIO\": 0.8936170212765959, \"MEDV\": 21.0}, {\"PTRATIO\": 0.6382978723404256, \"MEDV\": 21.1}, {\"PTRATIO\": 0.8085106382978724, \"MEDV\": 21.1}, {\"PTRATIO\": 0.5638297872340423, \"MEDV\": 21.2}, {\"PTRATIO\": 0.5531914893617023, \"MEDV\": 21.2}, {\"PTRATIO\": 0.8085106382978724, \"MEDV\": 21.2}, {\"PTRATIO\": 0.7021276595744679, \"MEDV\": 21.2}, {\"PTRATIO\": 0.6489361702127658, \"MEDV\": 21.2}, {\"PTRATIO\": 0.574468085106383, \"MEDV\": 21.4}, {\"PTRATIO\": 0.6489361702127658, \"MEDV\": 21.4}, {\"PTRATIO\": 0.8085106382978724, \"MEDV\": 21.4}, {\"PTRATIO\": 0.8085106382978724, \"MEDV\": 21.4}, {\"PTRATIO\": 0.6914893617021276, \"MEDV\": 21.4}, {\"PTRATIO\": 0.22340425531914887, \"MEDV\": 21.5}, {\"PTRATIO\": 0.404255319148936, \"MEDV\": 21.5}, {\"PTRATIO\": 0.5531914893617023, \"MEDV\": 21.6}, {\"PTRATIO\": 0.6170212765957446, \"MEDV\": 21.6}, {\"PTRATIO\": 0.36170212765957444, \"MEDV\": 21.7}, {\"PTRATIO\": 0.2765957446808509, \"MEDV\": 21.7}, {\"PTRATIO\": 0.7021276595744679, \"MEDV\": 21.7}, {\"PTRATIO\": 0.8829787234042552, \"MEDV\": 21.7}, {\"PTRATIO\": 0.6382978723404256, \"MEDV\": 21.7}, {\"PTRATIO\": 0.8085106382978724, \"MEDV\": 21.7}, {\"PTRATIO\": 0.5106382978723403, \"MEDV\": 21.7}, {\"PTRATIO\": 0.7021276595744679, \"MEDV\": 21.8}, {\"PTRATIO\": 0.8085106382978724, \"MEDV\": 21.8}, {\"PTRATIO\": 0.404255319148936, \"MEDV\": 21.9}, {\"PTRATIO\": 0.8085106382978724, \"MEDV\": 21.9}, {\"PTRATIO\": 0.8085106382978724, \"MEDV\": 21.9}, {\"PTRATIO\": 0.6702127659574466, \"MEDV\": 22.0}, {\"PTRATIO\": 0.5531914893617023, \"MEDV\": 22.0}, {\"PTRATIO\": 0.4255319148936172, \"MEDV\": 22.0}, {\"PTRATIO\": 0.6914893617021276, \"MEDV\": 22.0}, {\"PTRATIO\": 0.37234042553191493, \"MEDV\": 22.0}, {\"PTRATIO\": 0.2872340425531916, \"MEDV\": 22.0}, {\"PTRATIO\": 0.8936170212765959, \"MEDV\": 22.0}, {\"PTRATIO\": 0.6170212765957446, \"MEDV\": 22.1}, {\"PTRATIO\": 0.8085106382978724, \"MEDV\": 22.2}, {\"PTRATIO\": 0.4255319148936172, \"MEDV\": 22.2}, {\"PTRATIO\": 0.7446808510638299, \"MEDV\": 22.2}, {\"PTRATIO\": 0.7553191489361701, \"MEDV\": 22.2}, {\"PTRATIO\": 0.6276595744680851, \"MEDV\": 22.2}, {\"PTRATIO\": 0.22340425531914887, \"MEDV\": 22.3}, {\"PTRATIO\": 0.4255319148936172, \"MEDV\": 22.3}, {\"PTRATIO\": 0.6382978723404256, \"MEDV\": 22.4}, {\"PTRATIO\": 0.8936170212765959, \"MEDV\": 22.4}, {\"PTRATIO\": 0.6276595744680851, \"MEDV\": 22.5}, {\"PTRATIO\": 0.6382978723404256, \"MEDV\": 22.5}, {\"PTRATIO\": 0.23404255319148937, \"MEDV\": 22.5}, {\"PTRATIO\": 0.8085106382978724, \"MEDV\": 22.6}, {\"PTRATIO\": 0.457446808510638, \"MEDV\": 22.6}, {\"PTRATIO\": 0.4255319148936172, \"MEDV\": 22.6}, {\"PTRATIO\": 0.5531914893617023, \"MEDV\": 22.6}, {\"PTRATIO\": 0.6382978723404256, \"MEDV\": 22.6}, {\"PTRATIO\": 0.22340425531914887, \"MEDV\": 22.7}, {\"PTRATIO\": 0.8085106382978724, \"MEDV\": 22.7}, {\"PTRATIO\": 0.5531914893617023, \"MEDV\": 22.8}, {\"PTRATIO\": 0.042553191489361764, \"MEDV\": 22.8}, {\"PTRATIO\": 0.6170212765957446, \"MEDV\": 22.8}, {\"PTRATIO\": 0.7021276595744679, \"MEDV\": 22.8}, {\"PTRATIO\": 0.5957446808510638, \"MEDV\": 22.9}, {\"PTRATIO\": 0.6808510638297873, \"MEDV\": 22.9}, {\"PTRATIO\": 0.7553191489361701, \"MEDV\": 22.9}, {\"PTRATIO\": 0.2765957446808509, \"MEDV\": 22.9}, {\"PTRATIO\": 0.9148936170212765, \"MEDV\": 23.0}, {\"PTRATIO\": 0.8085106382978724, \"MEDV\": 23.0}, {\"PTRATIO\": 0.404255319148936, \"MEDV\": 23.0}, {\"PTRATIO\": 0.7446808510638299, \"MEDV\": 23.0}, {\"PTRATIO\": 0.5638297872340423, \"MEDV\": 23.1}, {\"PTRATIO\": 0.4255319148936172, \"MEDV\": 23.1}, {\"PTRATIO\": 0.6170212765957446, \"MEDV\": 23.1}, {\"PTRATIO\": 0.7446808510638299, \"MEDV\": 23.1}, {\"PTRATIO\": 0.8085106382978724, \"MEDV\": 23.1}, {\"PTRATIO\": 0.7021276595744679, \"MEDV\": 23.1}, {\"PTRATIO\": 0.8936170212765959, \"MEDV\": 23.1}, {\"PTRATIO\": 0.8085106382978724, \"MEDV\": 23.2}, {\"PTRATIO\": 0.8085106382978724, \"MEDV\": 23.2}, {\"PTRATIO\": 0.4255319148936172, \"MEDV\": 23.2}, {\"PTRATIO\": 0.4255319148936172, \"MEDV\": 23.2}, {\"PTRATIO\": 0.7553191489361701, \"MEDV\": 23.3}, {\"PTRATIO\": 0.22340425531914887, \"MEDV\": 23.3}, {\"PTRATIO\": 0.4255319148936172, \"MEDV\": 23.3}, {\"PTRATIO\": 0.404255319148936, \"MEDV\": 23.3}, {\"PTRATIO\": 0.44680851063829796, \"MEDV\": 23.4}, {\"PTRATIO\": 0.7021276595744679, \"MEDV\": 23.4}, {\"PTRATIO\": 0.37234042553191493, \"MEDV\": 23.5}, {\"PTRATIO\": 0.5531914893617023, \"MEDV\": 23.6}, {\"PTRATIO\": 0.4255319148936172, \"MEDV\": 23.6}, {\"PTRATIO\": 0.6382978723404256, \"MEDV\": 23.7}, {\"PTRATIO\": 0.4255319148936172, \"MEDV\": 23.7}, {\"PTRATIO\": 0.4255319148936172, \"MEDV\": 23.7}, {\"PTRATIO\": 0.8085106382978724, \"MEDV\": 23.7}, {\"PTRATIO\": 0.7446808510638299, \"MEDV\": 23.8}, {\"PTRATIO\": 0.6170212765957446, \"MEDV\": 23.8}, {\"PTRATIO\": 0.22340425531914887, \"MEDV\": 23.8}, {\"PTRATIO\": 0.22340425531914887, \"MEDV\": 23.8}, {\"PTRATIO\": 0.6808510638297873, \"MEDV\": 23.9}, {\"PTRATIO\": 0.5319148936170215, \"MEDV\": 23.9}, {\"PTRATIO\": 0.6276595744680851, \"MEDV\": 23.9}, {\"PTRATIO\": 0.8936170212765959, \"MEDV\": 23.9}, {\"PTRATIO\": 0.36170212765957444, \"MEDV\": 23.9}, {\"PTRATIO\": 0.2872340425531916, \"MEDV\": 24.0}, {\"PTRATIO\": 0.5106382978723403, \"MEDV\": 24.0}, {\"PTRATIO\": 0.6063829787234043, \"MEDV\": 24.1}, {\"PTRATIO\": 0.6489361702127658, \"MEDV\": 24.1}, {\"PTRATIO\": 0.22340425531914887, \"MEDV\": 24.1}, {\"PTRATIO\": 0.7021276595744679, \"MEDV\": 24.2}, {\"PTRATIO\": 0.5106382978723403, \"MEDV\": 24.3}, {\"PTRATIO\": 0.6914893617021276, \"MEDV\": 24.3}, {\"PTRATIO\": 0.22340425531914887, \"MEDV\": 24.3}, {\"PTRATIO\": 0.6382978723404256, \"MEDV\": 24.4}, {\"PTRATIO\": 0.6382978723404256, \"MEDV\": 24.4}, {\"PTRATIO\": 0.6914893617021276, \"MEDV\": 24.4}, {\"PTRATIO\": 0.6382978723404256, \"MEDV\": 24.4}, {\"PTRATIO\": 0.7021276595744679, \"MEDV\": 24.5}, {\"PTRATIO\": 0.6914893617021276, \"MEDV\": 24.5}, {\"PTRATIO\": 0.46808510638297873, \"MEDV\": 24.5}, {\"PTRATIO\": 0.7446808510638299, \"MEDV\": 24.6}, {\"PTRATIO\": 0.4255319148936172, \"MEDV\": 24.6}, {\"PTRATIO\": 0.5, \"MEDV\": 24.7}, {\"PTRATIO\": 0.7021276595744679, \"MEDV\": 24.7}, {\"PTRATIO\": 0.5638297872340423, \"MEDV\": 24.7}, {\"PTRATIO\": 0.4255319148936172, \"MEDV\": 24.8}, {\"PTRATIO\": 0.6914893617021276, \"MEDV\": 24.8}, {\"PTRATIO\": 0.6808510638297873, \"MEDV\": 24.8}, {\"PTRATIO\": 0.23404255319148937, \"MEDV\": 24.8}, {\"PTRATIO\": 0.5957446808510638, \"MEDV\": 25.0}, {\"PTRATIO\": 0.7446808510638299, \"MEDV\": 25.0}, {\"PTRATIO\": 0.8085106382978724, \"MEDV\": 25.0}, {\"PTRATIO\": 0.44680851063829796, \"MEDV\": 25.0}, {\"PTRATIO\": 0.7553191489361701, \"MEDV\": 25.0}, {\"PTRATIO\": 0.6382978723404256, \"MEDV\": 25.0}, {\"PTRATIO\": 0.22340425531914887, \"MEDV\": 25.0}, {\"PTRATIO\": 0.8085106382978724, \"MEDV\": 25.0}, {\"PTRATIO\": 0.5106382978723403, \"MEDV\": 25.1}, {\"PTRATIO\": 0.6382978723404256, \"MEDV\": 25.2}, {\"PTRATIO\": 0.5638297872340423, \"MEDV\": 25.3}, {\"PTRATIO\": 0.6914893617021276, \"MEDV\": 26.2}, {\"PTRATIO\": 0.5531914893617023, \"MEDV\": 26.4}, {\"PTRATIO\": 0.37234042553191493, \"MEDV\": 26.4}, {\"PTRATIO\": 0.8829787234042552, \"MEDV\": 26.5}, {\"PTRATIO\": 0.6276595744680851, \"MEDV\": 26.6}, {\"PTRATIO\": 0.5638297872340423, \"MEDV\": 26.6}, {\"PTRATIO\": 0.7553191489361701, \"MEDV\": 26.6}, {\"PTRATIO\": 0.5106382978723403, \"MEDV\": 26.7}, {\"PTRATIO\": 0.22340425531914887, \"MEDV\": 27.0}, {\"PTRATIO\": 0.2765957446808509, \"MEDV\": 27.1}, {\"PTRATIO\": 0.36170212765957444, \"MEDV\": 27.1}, {\"PTRATIO\": 0.8085106382978724, \"MEDV\": 27.5}, {\"PTRATIO\": 0.8829787234042552, \"MEDV\": 27.5}, {\"PTRATIO\": 0.5106382978723403, \"MEDV\": 27.5}, {\"PTRATIO\": 0.8085106382978724, \"MEDV\": 27.5}, {\"PTRATIO\": 0.8085106382978724, \"MEDV\": 27.9}, {\"PTRATIO\": 0.7021276595744679, \"MEDV\": 27.9}, {\"PTRATIO\": 0.6808510638297873, \"MEDV\": 28.0}, {\"PTRATIO\": 0.6382978723404256, \"MEDV\": 28.1}, {\"PTRATIO\": 0.6170212765957446, \"MEDV\": 28.2}, {\"PTRATIO\": 0.6170212765957446, \"MEDV\": 28.4}, {\"PTRATIO\": 0.574468085106383, \"MEDV\": 28.4}, {\"PTRATIO\": 0.7021276595744679, \"MEDV\": 28.5}, {\"PTRATIO\": 0.36170212765957444, \"MEDV\": 28.6}, {\"PTRATIO\": 0.5531914893617023, \"MEDV\": 28.7}, {\"PTRATIO\": 0.404255319148936, \"MEDV\": 28.7}, {\"PTRATIO\": 0.6489361702127658, \"MEDV\": 28.7}, {\"PTRATIO\": 0.23404255319148937, \"MEDV\": 29.0}, {\"PTRATIO\": 0.5106382978723403, \"MEDV\": 29.0}, {\"PTRATIO\": 0.31914893617021267, \"MEDV\": 29.1}, {\"PTRATIO\": 0.5319148936170215, \"MEDV\": 29.1}, {\"PTRATIO\": 0.4255319148936172, \"MEDV\": 29.4}, {\"PTRATIO\": 0.5531914893617023, \"MEDV\": 29.6}, {\"PTRATIO\": 0.6914893617021276, \"MEDV\": 29.6}, {\"PTRATIO\": 0.8085106382978724, \"MEDV\": 29.8}, {\"PTRATIO\": 0.2765957446808509, \"MEDV\": 29.8}, {\"PTRATIO\": 0.4255319148936172, \"MEDV\": 29.9}, {\"PTRATIO\": 0.042553191489361764, \"MEDV\": 30.1}, {\"PTRATIO\": 0.5106382978723403, \"MEDV\": 30.1}, {\"PTRATIO\": 0.46808510638297873, \"MEDV\": 30.1}, {\"PTRATIO\": 0.0, \"MEDV\": 30.3}, {\"PTRATIO\": 0.2765957446808509, \"MEDV\": 30.5}, {\"PTRATIO\": 0.042553191489361764, \"MEDV\": 30.7}, {\"PTRATIO\": 0.6063829787234043, \"MEDV\": 30.8}, {\"PTRATIO\": 0.042553191489361764, \"MEDV\": 31.0}, {\"PTRATIO\": 0.31914893617021267, \"MEDV\": 31.1}, {\"PTRATIO\": 0.5319148936170215, \"MEDV\": 31.2}, {\"PTRATIO\": 0.5106382978723403, \"MEDV\": 31.5}, {\"PTRATIO\": 0.5106382978723403, \"MEDV\": 31.5}, {\"PTRATIO\": 0.5106382978723403, \"MEDV\": 31.6}, {\"PTRATIO\": 0.26595744680851063, \"MEDV\": 31.6}, {\"PTRATIO\": 0.5106382978723403, \"MEDV\": 31.7}, {\"PTRATIO\": 0.5319148936170215, \"MEDV\": 32.0}, {\"PTRATIO\": 0.2765957446808509, \"MEDV\": 32.0}, {\"PTRATIO\": 0.2872340425531916, \"MEDV\": 32.2}, {\"PTRATIO\": 0.5319148936170215, \"MEDV\": 32.4}, {\"PTRATIO\": 0.5531914893617023, \"MEDV\": 32.5}, {\"PTRATIO\": 0.3085106382978724, \"MEDV\": 32.7}, {\"PTRATIO\": 0.46808510638297873, \"MEDV\": 32.9}, {\"PTRATIO\": 0.6382978723404256, \"MEDV\": 33.0}, {\"PTRATIO\": 0.5319148936170215, \"MEDV\": 33.1}, {\"PTRATIO\": 0.37234042553191493, \"MEDV\": 33.1}, {\"PTRATIO\": 0.5319148936170215, \"MEDV\": 33.2}, {\"PTRATIO\": 0.574468085106383, \"MEDV\": 33.2}, {\"PTRATIO\": 0.0, \"MEDV\": 33.3}, {\"PTRATIO\": 0.6170212765957446, \"MEDV\": 33.4}, {\"PTRATIO\": 0.6489361702127658, \"MEDV\": 33.4}, {\"PTRATIO\": 0.042553191489361764, \"MEDV\": 33.8}, {\"PTRATIO\": 0.0, \"MEDV\": 34.6}, {\"PTRATIO\": 0.5531914893617023, \"MEDV\": 34.7}, {\"PTRATIO\": 0.2765957446808509, \"MEDV\": 34.9}, {\"PTRATIO\": 0.6063829787234043, \"MEDV\": 34.9}, {\"PTRATIO\": 0.46808510638297873, \"MEDV\": 34.9}, {\"PTRATIO\": 0.24468085106382986, \"MEDV\": 35.1}, {\"PTRATIO\": 0.6382978723404256, \"MEDV\": 35.2}, {\"PTRATIO\": 0.5638297872340423, \"MEDV\": 35.4}, {\"PTRATIO\": 0.24468085106382986, \"MEDV\": 35.4}, {\"PTRATIO\": 0.042553191489361764, \"MEDV\": 36.0}, {\"PTRATIO\": 0.6170212765957446, \"MEDV\": 36.1}, {\"PTRATIO\": 0.6489361702127658, \"MEDV\": 36.2}, {\"PTRATIO\": 0.5531914893617023, \"MEDV\": 36.2}, {\"PTRATIO\": 0.2765957446808509, \"MEDV\": 36.4}, {\"PTRATIO\": 0.042553191489361764, \"MEDV\": 36.5}, {\"PTRATIO\": 0.2765957446808509, \"MEDV\": 37.0}, {\"PTRATIO\": 0.5531914893617023, \"MEDV\": 37.2}, {\"PTRATIO\": 0.7021276595744679, \"MEDV\": 37.3}, {\"PTRATIO\": 0.5106382978723403, \"MEDV\": 37.6}, {\"PTRATIO\": 0.5531914893617023, \"MEDV\": 37.9}, {\"PTRATIO\": 0.574468085106383, \"MEDV\": 38.7}, {\"PTRATIO\": 0.5531914893617023, \"MEDV\": 39.8}, {\"PTRATIO\": 0.22340425531914887, \"MEDV\": 41.3}, {\"PTRATIO\": 0.5106382978723403, \"MEDV\": 41.7}, {\"PTRATIO\": 0.22340425531914887, \"MEDV\": 42.3}, {\"PTRATIO\": 0.6914893617021276, \"MEDV\": 42.8}, {\"PTRATIO\": 0.042553191489361764, \"MEDV\": 43.1}, {\"PTRATIO\": 0.042553191489361764, \"MEDV\": 43.5}, {\"PTRATIO\": 0.574468085106383, \"MEDV\": 43.8}, {\"PTRATIO\": 0.35106382978723394, \"MEDV\": 44.0}, {\"PTRATIO\": 0.5106382978723403, \"MEDV\": 44.8}, {\"PTRATIO\": 0.24468085106382986, \"MEDV\": 45.4}, {\"PTRATIO\": 0.24468085106382986, \"MEDV\": 46.0}, {\"PTRATIO\": 0.5106382978723403, \"MEDV\": 46.7}, {\"PTRATIO\": 0.5106382978723403, \"MEDV\": 48.3}, {\"PTRATIO\": 0.22340425531914887, \"MEDV\": 48.5}, {\"PTRATIO\": 0.042553191489361764, \"MEDV\": 48.8}, {\"PTRATIO\": 0.042553191489361764, \"MEDV\": 50.0}, {\"PTRATIO\": 0.042553191489361764, \"MEDV\": 50.0}, {\"PTRATIO\": 0.8085106382978724, \"MEDV\": 50.0}, {\"PTRATIO\": 0.8085106382978724, \"MEDV\": 50.0}, {\"PTRATIO\": 0.8085106382978724, \"MEDV\": 50.0}, {\"PTRATIO\": 0.8085106382978724, \"MEDV\": 50.0}, {\"PTRATIO\": 0.8085106382978724, \"MEDV\": 50.0}, {\"PTRATIO\": 0.22340425531914887, \"MEDV\": 50.0}, {\"PTRATIO\": 0.22340425531914887, \"MEDV\": 50.0}, {\"PTRATIO\": 0.22340425531914887, \"MEDV\": 50.0}, {\"PTRATIO\": 0.22340425531914887, \"MEDV\": 50.0}, {\"PTRATIO\": 0.22340425531914887, \"MEDV\": 50.0}, {\"PTRATIO\": 0.1914893617021276, \"MEDV\": 50.0}, {\"PTRATIO\": 0.10638297872340408, \"MEDV\": 50.0}, {\"PTRATIO\": 0.5106382978723403, \"MEDV\": 50.0}, {\"PTRATIO\": 0.5531914893617023, \"MEDV\": 50.0}]}}, {\"mode\": \"vega-lite\"});\n",
              "</script>"
            ]
          },
          "metadata": {
            "tags": []
          },
          "execution_count": 105
        }
      ]
    },
    {
      "cell_type": "code",
      "metadata": {
        "id": "j-7zDyudZ44P",
        "colab_type": "code",
        "colab": {
          "base_uri": "https://localhost:8080/",
          "height": 415
        },
        "outputId": "0dfc36f1-f6a5-488c-dea0-4e589ace9d0c"
      },
      "source": [
        "dict(list(zip( list(range(1,14)), list(data_pd.columns))))\n",
        "# list(zip( list(range(0,ln-1)), cols))\n",
        "data_pd"
      ],
      "execution_count": 94,
      "outputs": [
        {
          "output_type": "execute_result",
          "data": {
            "text/html": [
              "<div>\n",
              "<style scoped>\n",
              "    .dataframe tbody tr th:only-of-type {\n",
              "        vertical-align: middle;\n",
              "    }\n",
              "\n",
              "    .dataframe tbody tr th {\n",
              "        vertical-align: top;\n",
              "    }\n",
              "\n",
              "    .dataframe thead th {\n",
              "        text-align: right;\n",
              "    }\n",
              "</style>\n",
              "<table border=\"1\" class=\"dataframe\">\n",
              "  <thead>\n",
              "    <tr style=\"text-align: right;\">\n",
              "      <th></th>\n",
              "      <th>CRIM</th>\n",
              "      <th>ZN</th>\n",
              "      <th>INDUS</th>\n",
              "      <th>CHAS</th>\n",
              "      <th>NOX</th>\n",
              "      <th>RM</th>\n",
              "      <th>AGE</th>\n",
              "      <th>DIS</th>\n",
              "      <th>RAD</th>\n",
              "      <th>TAX</th>\n",
              "      <th>PTRATIO</th>\n",
              "      <th>B</th>\n",
              "      <th>LSTAT</th>\n",
              "      <th>MEDV</th>\n",
              "    </tr>\n",
              "  </thead>\n",
              "  <tbody>\n",
              "    <tr>\n",
              "      <th>0</th>\n",
              "      <td>0.00632</td>\n",
              "      <td>18.0</td>\n",
              "      <td>2.31</td>\n",
              "      <td>0</td>\n",
              "      <td>0.538</td>\n",
              "      <td>6.575</td>\n",
              "      <td>65.2</td>\n",
              "      <td>4.0900</td>\n",
              "      <td>1</td>\n",
              "      <td>296.0</td>\n",
              "      <td>15.3</td>\n",
              "      <td>396.90</td>\n",
              "      <td>4.98</td>\n",
              "      <td>24.0</td>\n",
              "    </tr>\n",
              "    <tr>\n",
              "      <th>1</th>\n",
              "      <td>0.02731</td>\n",
              "      <td>0.0</td>\n",
              "      <td>7.07</td>\n",
              "      <td>0</td>\n",
              "      <td>0.469</td>\n",
              "      <td>6.421</td>\n",
              "      <td>78.9</td>\n",
              "      <td>4.9671</td>\n",
              "      <td>2</td>\n",
              "      <td>242.0</td>\n",
              "      <td>17.8</td>\n",
              "      <td>396.90</td>\n",
              "      <td>9.14</td>\n",
              "      <td>21.6</td>\n",
              "    </tr>\n",
              "    <tr>\n",
              "      <th>2</th>\n",
              "      <td>0.02729</td>\n",
              "      <td>0.0</td>\n",
              "      <td>7.07</td>\n",
              "      <td>0</td>\n",
              "      <td>0.469</td>\n",
              "      <td>7.185</td>\n",
              "      <td>61.1</td>\n",
              "      <td>4.9671</td>\n",
              "      <td>2</td>\n",
              "      <td>242.0</td>\n",
              "      <td>17.8</td>\n",
              "      <td>392.83</td>\n",
              "      <td>4.03</td>\n",
              "      <td>34.7</td>\n",
              "    </tr>\n",
              "    <tr>\n",
              "      <th>3</th>\n",
              "      <td>0.03237</td>\n",
              "      <td>0.0</td>\n",
              "      <td>2.18</td>\n",
              "      <td>0</td>\n",
              "      <td>0.458</td>\n",
              "      <td>6.998</td>\n",
              "      <td>45.8</td>\n",
              "      <td>6.0622</td>\n",
              "      <td>3</td>\n",
              "      <td>222.0</td>\n",
              "      <td>18.7</td>\n",
              "      <td>394.63</td>\n",
              "      <td>2.94</td>\n",
              "      <td>33.4</td>\n",
              "    </tr>\n",
              "    <tr>\n",
              "      <th>4</th>\n",
              "      <td>0.06905</td>\n",
              "      <td>0.0</td>\n",
              "      <td>2.18</td>\n",
              "      <td>0</td>\n",
              "      <td>0.458</td>\n",
              "      <td>7.147</td>\n",
              "      <td>54.2</td>\n",
              "      <td>6.0622</td>\n",
              "      <td>3</td>\n",
              "      <td>222.0</td>\n",
              "      <td>18.7</td>\n",
              "      <td>396.90</td>\n",
              "      <td>5.33</td>\n",
              "      <td>36.2</td>\n",
              "    </tr>\n",
              "    <tr>\n",
              "      <th>...</th>\n",
              "      <td>...</td>\n",
              "      <td>...</td>\n",
              "      <td>...</td>\n",
              "      <td>...</td>\n",
              "      <td>...</td>\n",
              "      <td>...</td>\n",
              "      <td>...</td>\n",
              "      <td>...</td>\n",
              "      <td>...</td>\n",
              "      <td>...</td>\n",
              "      <td>...</td>\n",
              "      <td>...</td>\n",
              "      <td>...</td>\n",
              "      <td>...</td>\n",
              "    </tr>\n",
              "    <tr>\n",
              "      <th>501</th>\n",
              "      <td>0.06263</td>\n",
              "      <td>0.0</td>\n",
              "      <td>11.93</td>\n",
              "      <td>0</td>\n",
              "      <td>0.573</td>\n",
              "      <td>6.593</td>\n",
              "      <td>69.1</td>\n",
              "      <td>2.4786</td>\n",
              "      <td>1</td>\n",
              "      <td>273.0</td>\n",
              "      <td>21.0</td>\n",
              "      <td>391.99</td>\n",
              "      <td>9.67</td>\n",
              "      <td>22.4</td>\n",
              "    </tr>\n",
              "    <tr>\n",
              "      <th>502</th>\n",
              "      <td>0.04527</td>\n",
              "      <td>0.0</td>\n",
              "      <td>11.93</td>\n",
              "      <td>0</td>\n",
              "      <td>0.573</td>\n",
              "      <td>6.120</td>\n",
              "      <td>76.7</td>\n",
              "      <td>2.2875</td>\n",
              "      <td>1</td>\n",
              "      <td>273.0</td>\n",
              "      <td>21.0</td>\n",
              "      <td>396.90</td>\n",
              "      <td>9.08</td>\n",
              "      <td>20.6</td>\n",
              "    </tr>\n",
              "    <tr>\n",
              "      <th>503</th>\n",
              "      <td>0.06076</td>\n",
              "      <td>0.0</td>\n",
              "      <td>11.93</td>\n",
              "      <td>0</td>\n",
              "      <td>0.573</td>\n",
              "      <td>6.976</td>\n",
              "      <td>91.0</td>\n",
              "      <td>2.1675</td>\n",
              "      <td>1</td>\n",
              "      <td>273.0</td>\n",
              "      <td>21.0</td>\n",
              "      <td>396.90</td>\n",
              "      <td>5.64</td>\n",
              "      <td>23.9</td>\n",
              "    </tr>\n",
              "    <tr>\n",
              "      <th>504</th>\n",
              "      <td>0.10959</td>\n",
              "      <td>0.0</td>\n",
              "      <td>11.93</td>\n",
              "      <td>0</td>\n",
              "      <td>0.573</td>\n",
              "      <td>6.794</td>\n",
              "      <td>89.3</td>\n",
              "      <td>2.3889</td>\n",
              "      <td>1</td>\n",
              "      <td>273.0</td>\n",
              "      <td>21.0</td>\n",
              "      <td>393.45</td>\n",
              "      <td>6.48</td>\n",
              "      <td>22.0</td>\n",
              "    </tr>\n",
              "    <tr>\n",
              "      <th>505</th>\n",
              "      <td>0.04741</td>\n",
              "      <td>0.0</td>\n",
              "      <td>11.93</td>\n",
              "      <td>0</td>\n",
              "      <td>0.573</td>\n",
              "      <td>6.030</td>\n",
              "      <td>80.8</td>\n",
              "      <td>2.5050</td>\n",
              "      <td>1</td>\n",
              "      <td>273.0</td>\n",
              "      <td>21.0</td>\n",
              "      <td>396.90</td>\n",
              "      <td>7.88</td>\n",
              "      <td>11.9</td>\n",
              "    </tr>\n",
              "  </tbody>\n",
              "</table>\n",
              "<p>506 rows × 14 columns</p>\n",
              "</div>"
            ],
            "text/plain": [
              "        CRIM    ZN  INDUS  CHAS    NOX  ...    TAX  PTRATIO       B  LSTAT  MEDV\n",
              "0    0.00632  18.0   2.31     0  0.538  ...  296.0     15.3  396.90   4.98  24.0\n",
              "1    0.02731   0.0   7.07     0  0.469  ...  242.0     17.8  396.90   9.14  21.6\n",
              "2    0.02729   0.0   7.07     0  0.469  ...  242.0     17.8  392.83   4.03  34.7\n",
              "3    0.03237   0.0   2.18     0  0.458  ...  222.0     18.7  394.63   2.94  33.4\n",
              "4    0.06905   0.0   2.18     0  0.458  ...  222.0     18.7  396.90   5.33  36.2\n",
              "..       ...   ...    ...   ...    ...  ...    ...      ...     ...    ...   ...\n",
              "501  0.06263   0.0  11.93     0  0.573  ...  273.0     21.0  391.99   9.67  22.4\n",
              "502  0.04527   0.0  11.93     0  0.573  ...  273.0     21.0  396.90   9.08  20.6\n",
              "503  0.06076   0.0  11.93     0  0.573  ...  273.0     21.0  396.90   5.64  23.9\n",
              "504  0.10959   0.0  11.93     0  0.573  ...  273.0     21.0  393.45   6.48  22.0\n",
              "505  0.04741   0.0  11.93     0  0.573  ...  273.0     21.0  396.90   7.88  11.9\n",
              "\n",
              "[506 rows x 14 columns]"
            ]
          },
          "metadata": {
            "tags": []
          },
          "execution_count": 94
        }
      ]
    },
    {
      "cell_type": "code",
      "metadata": {
        "id": "ozajj8jOfugP",
        "colab_type": "code",
        "colab": {}
      },
      "source": [
        "list(data_pd.columns).remove('MEDV')"
      ],
      "execution_count": 68,
      "outputs": []
    }
  ]
}